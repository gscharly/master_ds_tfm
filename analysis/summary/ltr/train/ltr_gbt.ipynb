{
 "cells": [
  {
   "cell_type": "code",
   "execution_count": 1,
   "metadata": {},
   "outputs": [],
   "source": [
    "MAIN_PATH = \"/home/carlos/MasterDS/tfm\"\n",
    "JSON_DATA_PATH = '{}/data/json/'.format(MAIN_PATH)\n",
    "CSV_DATA_PATH = '{}/data/csv/'.format(MAIN_PATH)"
   ]
  },
  {
   "cell_type": "code",
   "execution_count": 2,
   "metadata": {},
   "outputs": [],
   "source": [
    "import sys\n",
    "sys.path.insert(0, MAIN_PATH)"
   ]
  },
  {
   "cell_type": "code",
   "execution_count": 3,
   "metadata": {},
   "outputs": [],
   "source": [
    "%load_ext autoreload\n",
    "%autoreload 2\n",
    "from scripts.models.ltr_gbt.train import LTRGBTTrain\n",
    "from scripts.models.ltr_gbt.metrics import LTRGBTMetrics\n",
    "\n",
    "%reload_ext autoreload"
   ]
  },
  {
   "cell_type": "markdown",
   "metadata": {},
   "source": [
    "# Entrenamiento"
   ]
  },
  {
   "cell_type": "markdown",
   "metadata": {},
   "source": [
    "Para encontrar los mejores hiperparámetros de gbt (https://www.analyticsvidhya.com/blog/2016/02/complete-guide-parameter-tuning-gradient-boosting-gbm-python/)"
   ]
  },
  {
   "cell_type": "markdown",
   "metadata": {},
   "source": [
    "1. Elegimos un learning rate alto: 0.1\n",
    "2. Escogemos el número óptimo de árboles para esta tasa\n",
    "3. Para esa tasa y número de estimadores, elegimos los mejores parámetros\n",
    "de árbol.\n",
    "4. Bajamos la tasa y subimos el número de estimadores"
   ]
  },
  {
   "cell_type": "markdown",
   "metadata": {},
   "source": [
    "- Con la primera prueba, se ha estimado que el número óptimo de árboles\n",
    "es de 80\n",
    "- Con la segunda prueba, obtenemos min_samples_split=800 y max_depth=9\n",
    "- Obtenemos también subsample=9 y min_samples_leaf=60"
   ]
  },
  {
   "cell_type": "code",
   "execution_count": 19,
   "metadata": {},
   "outputs": [],
   "source": [
    "ltr_params = {\n",
    "    'key_events': ['goal', 'red_card', 'penalty'],\n",
    "    'lags': [1, 3, 5],\n",
    "    'target_metric': 'cosine_tfidf',\n",
    "    'drop_teams': True,\n",
    "    'lemma': True,\n",
    "    'metric_params': {'ngram_range': (1, 2), 'strip_accents': 'unicode'},\n",
    "    'count_vec_kwargs': {'ngram_range': (1, 2), 'strip_accents': 'unicode'}\n",
    "}\n",
    "cat_features_dict = {'is_key_event': [0, 1]}\n",
    "num_features = ['tfidf_sum']\n",
    "model_params = {\n",
    "    'min_samples_split': 500,\n",
    "    'min_samples_leaf': 50,\n",
    "    'subsample': 0.8,  \n",
    "    'learning_rate': 0.1\n",
    "}"
   ]
  },
  {
   "cell_type": "code",
   "execution_count": 7,
   "metadata": {},
   "outputs": [
    {
     "name": "stdout",
     "output_type": "stream",
     "text": [
      "Setting target metric to cosine_tfidf\n"
     ]
    }
   ],
   "source": [
    "ltr_train = LTRGBTTrain(cat_features_dict=cat_features_dict, num_features=num_features,\n",
    "                     model_params=model_params, ltr_params=ltr_params)"
   ]
  },
  {
   "cell_type": "code",
   "execution_count": 20,
   "metadata": {},
   "outputs": [
    {
     "name": "stdout",
     "output_type": "stream",
     "text": [
      "Setting target metric to cosine_tfidf\n"
     ]
    }
   ],
   "source": [
    "# 1st iteration\n",
    "\n",
    "model_params = {\n",
    "    'min_samples_leaf': [50],\n",
    "    'subsample': [0.8],  \n",
    "    'learning_rate': [0.1],\n",
    "    'n_estimators': range(20,81,10),\n",
    "    'max_depth': [8],\n",
    "    'min_samples_split': [800]\n",
    "}\n",
    "cv = 5\n",
    "opt_metric = 'neg_mean_squared_error'\n",
    "ltr_train = LTRGBTTrain(cat_features_dict=cat_features_dict, num_features=num_features,\n",
    "                     model_params=model_params, ltr_params=ltr_params,\n",
    "                    cv=cv, opt_metric=opt_metric)\n"
   ]
  },
  {
   "cell_type": "code",
   "execution_count": 20,
   "metadata": {},
   "outputs": [
    {
     "name": "stdout",
     "output_type": "stream",
     "text": [
      "Setting target metric to cosine_tfidf\n"
     ]
    }
   ],
   "source": [
    "# 1st iteration\n",
    "\n",
    "model_params = {\n",
    "    'min_samples_leaf': [50],\n",
    "    'subsample': [0.8],  \n",
    "    'learning_rate': [0.1],\n",
    "    'n_estimators': range(20,81,10),\n",
    "    'max_depth': [8],\n",
    "    'min_samples_split': [800]\n",
    "}\n",
    "cv = 5\n",
    "opt_metric = 'neg_mean_squared_error'\n",
    "ltr_train = LTRGBTTrain(cat_features_dict=cat_features_dict, num_features=num_features,\n",
    "                     model_params=model_params, ltr_params=ltr_params,\n",
    "                    cv=cv, opt_metric=opt_metric)\n"
   ]
  },
  {
   "cell_type": "code",
   "execution_count": 26,
   "metadata": {},
   "outputs": [
    {
     "name": "stdout",
     "output_type": "stream",
     "text": [
      "Setting target metric to cosine_tfidf\n"
     ]
    }
   ],
   "source": [
    "# 2nd iteration\n",
    "\n",
    "model_params = {\n",
    "    'min_samples_leaf': [50],\n",
    "    'subsample': [0.8],  \n",
    "    'learning_rate': [0.1],\n",
    "    'n_estimators': [80],\n",
    "    'max_depth':range(5,16,2),\n",
    "    'min_samples_split': range(200,1001,200)\n",
    "}\n",
    "cv = 5\n",
    "opt_metric = 'neg_mean_squared_error'\n",
    "ltr_train = LTRGBTTrain(cat_features_dict=cat_features_dict, num_features=num_features,\n",
    "                     model_params=model_params, ltr_params=ltr_params,\n",
    "                    cv=cv, opt_metric=opt_metric)\n"
   ]
  },
  {
   "cell_type": "code",
   "execution_count": 32,
   "metadata": {},
   "outputs": [
    {
     "name": "stdout",
     "output_type": "stream",
     "text": [
      "Setting target metric to cosine_tfidf\n"
     ]
    }
   ],
   "source": [
    "# 3rd iteration\n",
    "\n",
    "model_params = {\n",
    "    'min_samples_leaf': [50],\n",
    "    'subsample':[0.6,0.7,0.75,0.8,0.85,0.9],  \n",
    "    'learning_rate': [0.1],\n",
    "    'n_estimators': [80],\n",
    "    'max_depth':[11],\n",
    "    'min_samples_split': [200],\n",
    "}\n",
    "cv = 5\n",
    "opt_metric = 'neg_mean_squared_error'\n",
    "ltr_train = LTRGBTTrain(cat_features_dict=cat_features_dict, num_features=num_features,\n",
    "                     model_params=model_params, ltr_params=ltr_params,\n",
    "                    cv=cv, opt_metric=opt_metric)\n"
   ]
  },
  {
   "cell_type": "code",
   "execution_count": 38,
   "metadata": {},
   "outputs": [
    {
     "name": "stdout",
     "output_type": "stream",
     "text": [
      "Setting target metric to cosine_tfidf\n"
     ]
    }
   ],
   "source": [
    "# Last\n",
    "\n",
    "model_params = {\n",
    "    'min_samples_leaf': [50],\n",
    "    'subsample': [0.9],  \n",
    "    'learning_rate': [0.1],\n",
    "    'n_estimators': [80],\n",
    "    'max_depth':[11],\n",
    "    'min_samples_split': [200],\n",
    "}\n",
    "cv = 5\n",
    "opt_metric = 'neg_mean_squared_error'\n",
    "ltr_train = LTRGBTTrain(cat_features_dict=cat_features_dict, num_features=num_features,\n",
    "                     model_params=model_params, ltr_params=ltr_params,\n",
    "                    cv=cv, opt_metric=opt_metric)\n"
   ]
  },
  {
   "cell_type": "code",
   "execution_count": 39,
   "metadata": {},
   "outputs": [
    {
     "name": "stdout",
     "output_type": "stream",
     "text": [
      "Reading /home/carlos/MasterDS/tfm/data/csv/summaries/ltr/features_targets/ca4ee45b98/train.csv\n",
      "Categorizing n_players...\n",
      "Computing new length...\n",
      "Dropping {'n_players', 'event_ix', 'sim_previous_1', 'length', 'sim_previous_3', 'sentence_ix', 'url', 'total_length', 'n_players_cat', 'sim_previous_5', 'equalize', 'score', 'json_file', 'advantage', 'players_importance', 'position', 'n_stop'}\n",
      "Using cv with 5 folds optimizing neg_mean_squared_error\n",
      "Training model...\n",
      "Writing model to /home/carlos/MasterDS/tfm/models/ltr_gbt/433610900a/ckpt.pickle\n",
      "Writing model info to /home/carlos/MasterDS/tfm/models/ltr_gbt/433610900a/model_info.pickle\n",
      "CPU times: user 51.3 s, sys: 144 ms, total: 51.5 s\n",
      "Wall time: 2min 5s\n"
     ]
    }
   ],
   "source": [
    "%%time\n",
    "ltr_train.train()"
   ]
  },
  {
   "cell_type": "markdown",
   "metadata": {},
   "source": [
    "## Salida"
   ]
  },
  {
   "cell_type": "code",
   "execution_count": 40,
   "metadata": {},
   "outputs": [],
   "source": [
    "model = ltr_train.read_model()"
   ]
  },
  {
   "cell_type": "code",
   "execution_count": 41,
   "metadata": {},
   "outputs": [
    {
     "data": {
      "text/plain": [
       "Pipeline(steps=[('preprocessing',\n",
       "                 ColumnTransformer(remainder='passthrough',\n",
       "                                   transformers=[('cat',\n",
       "                                                  Pipeline(steps=[('encoder',\n",
       "                                                                   OneHotEncoder(categories=[[0,\n",
       "                                                                                              1]],\n",
       "                                                                                 drop='first'))]),\n",
       "                                                  ['is_key_event'])])),\n",
       "                ('model',\n",
       "                 GridSearchCV(cv=5,\n",
       "                              estimator=GradientBoostingRegressor(random_state=10),\n",
       "                              n_jobs=5,\n",
       "                              param_grid={'learning_rate': [0.1],\n",
       "                                          'max_depth': [11],\n",
       "                                          'min_samples_leaf': [50],\n",
       "                                          'min_samples_split': [200],\n",
       "                                          'n_estimators': [80],\n",
       "                                          'subsample': [0.9]},\n",
       "                              scoring='neg_mean_squared_error'))])"
      ]
     },
     "execution_count": 41,
     "metadata": {},
     "output_type": "execute_result"
    }
   ],
   "source": [
    "model"
   ]
  },
  {
   "cell_type": "code",
   "execution_count": 42,
   "metadata": {},
   "outputs": [],
   "source": [
    "model_info = ltr_train.read_model_info()"
   ]
  },
  {
   "cell_type": "markdown",
   "metadata": {},
   "source": [
    "El número de jugadores no aporta nada"
   ]
  },
  {
   "cell_type": "code",
   "execution_count": 43,
   "metadata": {},
   "outputs": [
    {
     "data": {
      "text/plain": [
       "{'best_score': -0.020062515120886797,\n",
       " 'best_params': {'learning_rate': 0.1,\n",
       "  'max_depth': 11,\n",
       "  'min_samples_leaf': 50,\n",
       "  'min_samples_split': 200,\n",
       "  'n_estimators': 80,\n",
       "  'subsample': 0.9},\n",
       " 'model_out':            Gini-importance\n",
       " x0_1              0.175483\n",
       " tfidf_sum         0.824517}"
      ]
     },
     "execution_count": 43,
     "metadata": {},
     "output_type": "execute_result"
    }
   ],
   "source": [
    "# La salida de mse de una etapa de cv en sklearn es negativa\n",
    "model_info"
   ]
  },
  {
   "cell_type": "code",
   "execution_count": 44,
   "metadata": {},
   "outputs": [
    {
     "data": {
      "text/html": [
       "<div>\n",
       "<style scoped>\n",
       "    .dataframe tbody tr th:only-of-type {\n",
       "        vertical-align: middle;\n",
       "    }\n",
       "\n",
       "    .dataframe tbody tr th {\n",
       "        vertical-align: top;\n",
       "    }\n",
       "\n",
       "    .dataframe thead th {\n",
       "        text-align: right;\n",
       "    }\n",
       "</style>\n",
       "<table border=\"1\" class=\"dataframe\">\n",
       "  <thead>\n",
       "    <tr style=\"text-align: right;\">\n",
       "      <th></th>\n",
       "      <th>Gini-importance</th>\n",
       "    </tr>\n",
       "  </thead>\n",
       "  <tbody>\n",
       "    <tr>\n",
       "      <th>x0_1</th>\n",
       "      <td>0.175483</td>\n",
       "    </tr>\n",
       "    <tr>\n",
       "      <th>tfidf_sum</th>\n",
       "      <td>0.824517</td>\n",
       "    </tr>\n",
       "  </tbody>\n",
       "</table>\n",
       "</div>"
      ],
      "text/plain": [
       "           Gini-importance\n",
       "x0_1              0.175483\n",
       "tfidf_sum         0.824517"
      ]
     },
     "execution_count": 44,
     "metadata": {},
     "output_type": "execute_result"
    }
   ],
   "source": [
    "model_info['model_out']"
   ]
  },
  {
   "cell_type": "markdown",
   "metadata": {},
   "source": [
    "## Métricas"
   ]
  },
  {
   "cell_type": "code",
   "execution_count": 45,
   "metadata": {},
   "outputs": [],
   "source": [
    "ltr_metrics = LTRGBTMetrics(ltr_train)"
   ]
  },
  {
   "cell_type": "code",
   "execution_count": 46,
   "metadata": {},
   "outputs": [
    {
     "name": "stdout",
     "output_type": "stream",
     "text": [
      "Computing metric for train dataset\n",
      "Reading /home/carlos/MasterDS/tfm/data/csv/summaries/ltr/features_targets/ca4ee45b98/train.csv\n",
      "Categorizing n_players...\n",
      "Computing new length...\n",
      "Dropping {'n_players', 'event_ix', 'sim_previous_1', 'length', 'sim_previous_3', 'sentence_ix', 'url', 'total_length', 'n_players_cat', 'sim_previous_5', 'equalize', 'score', 'json_file', 'advantage', 'players_importance', 'position', 'n_stop'}\n",
      "Writing metrics to /home/carlos/MasterDS/tfm/models/ltr_gbt/433610900a/train_metrics.pickle\n",
      "Computing metric for validation dataset\n",
      "Reading /home/carlos/MasterDS/tfm/data/csv/summaries/ltr/features_targets/ca4ee45b98/validation.csv\n",
      "Categorizing n_players...\n",
      "Computing new length...\n",
      "Dropping {'n_players', 'event_ix', 'sim_previous_1', 'length', 'sim_previous_3', 'sentence_ix', 'url', 'total_length', 'n_players_cat', 'sim_previous_5', 'equalize', 'score', 'json_file', 'advantage', 'players_importance', 'position', 'n_stop'}\n",
      "Writing metrics to /home/carlos/MasterDS/tfm/models/ltr_gbt/433610900a/validation_metrics.pickle\n",
      "Computing metric for test dataset\n",
      "Reading /home/carlos/MasterDS/tfm/data/csv/summaries/ltr/features_targets/ca4ee45b98/test.csv\n",
      "Categorizing n_players...\n",
      "Computing new length...\n",
      "Dropping {'n_players', 'event_ix', 'sim_previous_1', 'length', 'sim_previous_3', 'sentence_ix', 'url', 'total_length', 'n_players_cat', 'sim_previous_5', 'equalize', 'score', 'json_file', 'advantage', 'players_importance', 'position', 'n_stop'}\n",
      "Writing metrics to /home/carlos/MasterDS/tfm/models/ltr_gbt/433610900a/test_metrics.pickle\n"
     ]
    }
   ],
   "source": [
    "ltr_metrics.run()"
   ]
  },
  {
   "cell_type": "code",
   "execution_count": 47,
   "metadata": {},
   "outputs": [
    {
     "name": "stdout",
     "output_type": "stream",
     "text": [
      "Reading metrics from /home/carlos/MasterDS/tfm/models/ltr_gbt/433610900a/train_metrics.pickle\n",
      "mse : 0.019646747322280982\n",
      "mae : 0.11180088633431674\n",
      "r2 : 0.19843703917175082\n"
     ]
    },
    {
     "data": {
      "image/png": "[encoded data removed]",
      "text/plain": [
       "<Figure size 720x360 with 2 Axes>"
      ]
     },
     "metadata": {
      "needs_background": "light"
     },
     "output_type": "display_data"
    },
    {
     "data": {
      "image/png": "[encoded data removed]",
      "text/plain": [
       "<Figure size 360x360 with 1 Axes>"
      ]
     },
     "metadata": {
      "needs_background": "light"
     },
     "output_type": "display_data"
    }
   ],
   "source": [
    "ltr_metrics.show_metrics('train')"
   ]
  },
  {
   "cell_type": "code",
   "execution_count": 48,
   "metadata": {},
   "outputs": [
    {
     "name": "stdout",
     "output_type": "stream",
     "text": [
      "Reading metrics from /home/carlos/MasterDS/tfm/models/ltr_gbt/433610900a/validation_metrics.pickle\n",
      "mse : 0.01988700668929729\n",
      "mae : 0.11275245692015247\n",
      "r2 : 0.18389565203212643\n"
     ]
    },
    {
     "data": {
      "image/png": "[encoded data removed]",
      "text/plain": [
       "<Figure size 720x360 with 2 Axes>"
      ]
     },
     "metadata": {
      "needs_background": "light"
     },
     "output_type": "display_data"
    },
    {
     "data": {
      "image/png": "[encoded data removed]",
      "text/plain": [
       "<Figure size 360x360 with 1 Axes>"
      ]
     },
     "metadata": {
      "needs_background": "light"
     },
     "output_type": "display_data"
    }
   ],
   "source": [
    "ltr_metrics.show_metrics('validation')"
   ]
  },
  {
   "cell_type": "code",
   "execution_count": null,
   "metadata": {},
   "outputs": [],
   "source": []
  }
 ],
 "metadata": {
  "kernelspec": {
   "display_name": "Python 3",
   "language": "python",
   "name": "python3"
  },
  "language_info": {
   "codemirror_mode": {
    "name": "ipython",
    "version": 3
   },
   "file_extension": ".py",
   "mimetype": "text/x-python",
   "name": "python",
   "nbconvert_exporter": "python",
   "pygments_lexer": "ipython3",
   "version": "3.7.7"
  }
 },
 "nbformat": 4,
 "nbformat_minor": 4
}
