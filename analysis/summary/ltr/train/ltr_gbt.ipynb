{
 "cells": [
  {
   "cell_type": "code",
   "execution_count": 1,
   "metadata": {},
   "outputs": [],
   "source": [
    "MAIN_PATH = \"/home/carlos/MasterDS/tfm\"\n",
    "JSON_DATA_PATH = '{}/data/json/'.format(MAIN_PATH)\n",
    "CSV_DATA_PATH = '{}/data/csv/'.format(MAIN_PATH)"
   ]
  },
  {
   "cell_type": "code",
   "execution_count": 2,
   "metadata": {},
   "outputs": [],
   "source": [
    "import sys\n",
    "sys.path.insert(0, MAIN_PATH)"
   ]
  },
  {
   "cell_type": "code",
   "execution_count": 3,
   "metadata": {},
   "outputs": [],
   "source": [
    "%load_ext autoreload\n",
    "%autoreload 2\n",
    "from scripts.models.ltr_gbt.train import LTRGBTTrain\n",
    "from scripts.models.ltr_gbt.metrics import LTRGBTMetrics\n",
    "\n",
    "%reload_ext autoreload"
   ]
  },
  {
   "cell_type": "markdown",
   "metadata": {},
   "source": [
    "# Entrenamiento"
   ]
  },
  {
   "cell_type": "markdown",
   "metadata": {},
   "source": [
    "Para encontrar los mejores hiperparámetros de gbt (https://www.analyticsvidhya.com/blog/2016/02/complete-guide-parameter-tuning-gradient-boosting-gbm-python/)"
   ]
  },
  {
   "cell_type": "markdown",
   "metadata": {},
   "source": [
    "1. Elegimos un learning rate alto: 0.1\n",
    "2. Escogemos el número óptimo de árboles para esta tasa\n",
    "3. Para esa tasa y número de estimadores, elegimos los mejores parámetros\n",
    "de árbol.\n",
    "4. Bajamos la tasa y subimos el número de estimadores"
   ]
  },
  {
   "cell_type": "markdown",
   "metadata": {},
   "source": [
    "- Con la primera prueba, se ha estimado que el número óptimo de árboles\n",
    "es de 80\n",
    "- Con la segunda prueba, obtenemos min_samples_split=800 y max_depth=9\n",
    "- Obtenemos también subsample=9 y min_samples_leaf=60"
   ]
  },
  {
   "cell_type": "code",
   "execution_count": 4,
   "metadata": {},
   "outputs": [],
   "source": [
    "ltr_params = {\n",
    "    'key_events': ['goal', 'red_card', 'penalty'],\n",
    "    'lags': [1, 3, 5],\n",
    "    'target_metric': 'rouge',\n",
    "    'drop_teams': True,\n",
    "    'lemma': True,\n",
    "    'metric_params': {'rouge_mode': 'rouge-1', 'rouge_metric': 'r'},\n",
    "    'count_vec_kwargs': {'ngram_range': (1, 2), 'strip_accents': 'unicode'}\n",
    "}\n",
    "cat_features_dict = {'is_key_event': [0, 1]}\n",
    "num_features = ['tfidf_sum']\n",
    "model_params = {\n",
    "    'min_samples_split': 500,\n",
    "    'min_samples_leaf': 50,\n",
    "    'subsample': 0.8,  \n",
    "    'learning_rate': 0.1\n",
    "}"
   ]
  },
  {
   "cell_type": "code",
   "execution_count": 58,
   "metadata": {},
   "outputs": [
    {
     "ename": "NameError",
     "evalue": "name 'LTRTrain' is not defined",
     "output_type": "error",
     "traceback": [
      "\u001b[0;31m---------------------------------------------------------------------------\u001b[0m",
      "\u001b[0;31mNameError\u001b[0m                                 Traceback (most recent call last)",
      "\u001b[0;32m<ipython-input-58-710ff96c4650>\u001b[0m in \u001b[0;36m<module>\u001b[0;34m\u001b[0m\n\u001b[0;32m----> 1\u001b[0;31m LTRGBTTrain = LTRTrain(cat_features_dict=cat_features_dict, num_features=num_features,\n\u001b[0m\u001b[1;32m      2\u001b[0m                      model_params=model_params, ltr_params=ltr_params)\n",
      "\u001b[0;31mNameError\u001b[0m: name 'LTRTrain' is not defined"
     ]
    }
   ],
   "source": [
    "LTRGBTTrain = LTRTrain(cat_features_dict=cat_features_dict, num_features=num_features,\n",
    "                     model_params=model_params, ltr_params=ltr_params)"
   ]
  },
  {
   "cell_type": "code",
   "execution_count": 27,
   "metadata": {},
   "outputs": [
    {
     "name": "stdout",
     "output_type": "stream",
     "text": [
      "Setting target metric to rouge\n"
     ]
    }
   ],
   "source": [
    "# Uncomment if using cv\n",
    "\n",
    "model_params = {\n",
    "    'min_samples_leaf': [60],\n",
    "    'subsample': [0.9],  \n",
    "    'learning_rate': [0.01],\n",
    "    'n_estimators': [320],\n",
    "    'max_depth': [9],\n",
    "    'min_samples_split': [800]\n",
    "}\n",
    "cv = 5\n",
    "opt_metric = 'neg_mean_squared_error'\n",
    "ltr_train = LTRGBTTrain(cat_features_dict=cat_features_dict, num_features=num_features,\n",
    "                     model_params=model_params, ltr_params=ltr_params,\n",
    "                    cv=cv, opt_metric=opt_metric)\n"
   ]
  },
  {
   "cell_type": "code",
   "execution_count": 28,
   "metadata": {},
   "outputs": [
    {
     "name": "stdout",
     "output_type": "stream",
     "text": [
      "Reading /home/carlos/MasterDS/tfm/data/csv/summaries/ltr/features_targets/341d2aa93d/train.csv\n",
      "Categorizing n_players...\n",
      "Computing new length...\n",
      "Dropping {'sentence_ix', 'n_players', 'sim_previous_5', 'players_importance', 'equalize', 'length', 'score', 'position', 'advantage', 'sim_previous_3', 'n_stop', 'n_players_cat', 'total_length', 'event_ix', 'sim_previous_1', 'json_file', 'url'}\n",
      "Using cv with 5 folds optimizing neg_mean_squared_error\n",
      "Training model...\n",
      "Writing model to /home/carlos/MasterDS/tfm/models/ltr_gbt/e735c66e57/ckpt.pickle\n",
      "Writing model info to /home/carlos/MasterDS/tfm/models/ltr_gbt/e735c66e57/model_info.pickle\n",
      "CPU times: user 2min 24s, sys: 131 ms, total: 2min 25s\n",
      "Wall time: 5min 39s\n"
     ]
    }
   ],
   "source": [
    "%%time\n",
    "ltr_train.train()"
   ]
  },
  {
   "cell_type": "markdown",
   "metadata": {},
   "source": [
    "## Salida"
   ]
  },
  {
   "cell_type": "code",
   "execution_count": 18,
   "metadata": {},
   "outputs": [],
   "source": [
    "model = ltr_train.read_model()"
   ]
  },
  {
   "cell_type": "code",
   "execution_count": 19,
   "metadata": {},
   "outputs": [
    {
     "data": {
      "text/plain": [
       "Pipeline(steps=[('preprocessing',\n",
       "                 ColumnTransformer(remainder='passthrough',\n",
       "                                   transformers=[('cat',\n",
       "                                                  Pipeline(steps=[('encoder',\n",
       "                                                                   OneHotEncoder(categories=[[0,\n",
       "                                                                                              1]],\n",
       "                                                                                 drop='first'))]),\n",
       "                                                  ['is_key_event'])])),\n",
       "                ('model',\n",
       "                 GridSearchCV(cv=5,\n",
       "                              estimator=GradientBoostingRegressor(random_state=10),\n",
       "                              n_jobs=5,\n",
       "                              param_grid={'learning_rate': [0.05],\n",
       "                                          'max_depth': [9],\n",
       "                                          'min_samples_leaf': [60],\n",
       "                                          'min_samples_split': [800],\n",
       "                                          'n_estimators': [160],\n",
       "                                          'subsample': [0.9]},\n",
       "                              scoring='neg_mean_squared_error'))])"
      ]
     },
     "execution_count": 19,
     "metadata": {},
     "output_type": "execute_result"
    }
   ],
   "source": [
    "model"
   ]
  },
  {
   "cell_type": "code",
   "execution_count": 20,
   "metadata": {},
   "outputs": [],
   "source": [
    "model_info = ltr_train.read_model_info()"
   ]
  },
  {
   "cell_type": "markdown",
   "metadata": {},
   "source": [
    "El número de jugadores no aporta nada"
   ]
  },
  {
   "cell_type": "code",
   "execution_count": 21,
   "metadata": {},
   "outputs": [
    {
     "data": {
      "text/plain": [
       "{'best_score': -0.014975057551470073,\n",
       " 'best_params': {'learning_rate': 0.05,\n",
       "  'max_depth': 9,\n",
       "  'min_samples_leaf': 60,\n",
       "  'min_samples_split': 800,\n",
       "  'n_estimators': 160,\n",
       "  'subsample': 0.9},\n",
       " 'model_out':            Gini-importance\n",
       " x0_1              0.198801\n",
       " tfidf_sum         0.801199}"
      ]
     },
     "execution_count": 21,
     "metadata": {},
     "output_type": "execute_result"
    }
   ],
   "source": [
    "# La salida de mse de una etapa de cv en sklearn es negativa\n",
    "model_info"
   ]
  },
  {
   "cell_type": "code",
   "execution_count": 22,
   "metadata": {},
   "outputs": [
    {
     "data": {
      "text/html": [
       "<div>\n",
       "<style scoped>\n",
       "    .dataframe tbody tr th:only-of-type {\n",
       "        vertical-align: middle;\n",
       "    }\n",
       "\n",
       "    .dataframe tbody tr th {\n",
       "        vertical-align: top;\n",
       "    }\n",
       "\n",
       "    .dataframe thead th {\n",
       "        text-align: right;\n",
       "    }\n",
       "</style>\n",
       "<table border=\"1\" class=\"dataframe\">\n",
       "  <thead>\n",
       "    <tr style=\"text-align: right;\">\n",
       "      <th></th>\n",
       "      <th>Gini-importance</th>\n",
       "    </tr>\n",
       "  </thead>\n",
       "  <tbody>\n",
       "    <tr>\n",
       "      <th>x0_1</th>\n",
       "      <td>0.198801</td>\n",
       "    </tr>\n",
       "    <tr>\n",
       "      <th>tfidf_sum</th>\n",
       "      <td>0.801199</td>\n",
       "    </tr>\n",
       "  </tbody>\n",
       "</table>\n",
       "</div>"
      ],
      "text/plain": [
       "           Gini-importance\n",
       "x0_1              0.198801\n",
       "tfidf_sum         0.801199"
      ]
     },
     "execution_count": 22,
     "metadata": {},
     "output_type": "execute_result"
    }
   ],
   "source": [
    "model_info['model_out']"
   ]
  },
  {
   "cell_type": "markdown",
   "metadata": {},
   "source": [
    "## Métricas"
   ]
  },
  {
   "cell_type": "code",
   "execution_count": 29,
   "metadata": {},
   "outputs": [],
   "source": [
    "ltr_metrics = LTRGBTMetrics(ltr_train)"
   ]
  },
  {
   "cell_type": "code",
   "execution_count": 30,
   "metadata": {},
   "outputs": [
    {
     "name": "stdout",
     "output_type": "stream",
     "text": [
      "Computing metric for train dataset\n",
      "Reading /home/carlos/MasterDS/tfm/data/csv/summaries/ltr/features_targets/341d2aa93d/train.csv\n",
      "Categorizing n_players...\n",
      "Computing new length...\n",
      "Dropping {'sentence_ix', 'n_players', 'sim_previous_5', 'players_importance', 'equalize', 'length', 'score', 'position', 'advantage', 'sim_previous_3', 'n_stop', 'n_players_cat', 'total_length', 'event_ix', 'sim_previous_1', 'json_file', 'url'}\n",
      "Writing metrics to /home/carlos/MasterDS/tfm/models/ltr_gbt/e735c66e57/train_metrics.pickle\n",
      "Computing metric for validation dataset\n",
      "Reading /home/carlos/MasterDS/tfm/data/csv/summaries/ltr/features_targets/341d2aa93d/validation.csv\n",
      "Categorizing n_players...\n",
      "Computing new length...\n",
      "Dropping {'sentence_ix', 'n_players', 'sim_previous_5', 'players_importance', 'equalize', 'length', 'score', 'position', 'advantage', 'sim_previous_3', 'n_stop', 'n_players_cat', 'total_length', 'event_ix', 'sim_previous_1', 'json_file', 'url'}\n",
      "Writing metrics to /home/carlos/MasterDS/tfm/models/ltr_gbt/e735c66e57/validation_metrics.pickle\n",
      "Computing metric for test dataset\n",
      "Reading /home/carlos/MasterDS/tfm/data/csv/summaries/ltr/features_targets/341d2aa93d/test.csv\n",
      "Categorizing n_players...\n",
      "Computing new length...\n",
      "Dropping {'sentence_ix', 'n_players', 'sim_previous_5', 'players_importance', 'equalize', 'length', 'score', 'position', 'advantage', 'sim_previous_3', 'n_stop', 'n_players_cat', 'total_length', 'event_ix', 'sim_previous_1', 'json_file', 'url'}\n",
      "Writing metrics to /home/carlos/MasterDS/tfm/models/ltr_gbt/e735c66e57/test_metrics.pickle\n"
     ]
    }
   ],
   "source": [
    "ltr_metrics.run()"
   ]
  },
  {
   "cell_type": "code",
   "execution_count": 31,
   "metadata": {},
   "outputs": [
    {
     "name": "stdout",
     "output_type": "stream",
     "text": [
      "Reading metrics from /home/carlos/MasterDS/tfm/models/ltr_gbt/e735c66e57/train_metrics.pickle\n",
      "mse : 0.014844382512226932\n",
      "mae : 0.08307354037408383\n",
      "r2 : 0.2031448439474136\n"
     ]
    },
    {
     "data": {
      "image/png": "[encoded data removed]",
      "text/plain": [
       "<Figure size 720x360 with 2 Axes>"
      ]
     },
     "metadata": {
      "needs_background": "light"
     },
     "output_type": "display_data"
    },
    {
     "data": {
      "image/png": "[encoded data removed]",
      "text/plain": [
       "<Figure size 360x360 with 1 Axes>"
      ]
     },
     "metadata": {
      "needs_background": "light"
     },
     "output_type": "display_data"
    }
   ],
   "source": [
    "ltr_metrics.show_metrics('train')"
   ]
  },
  {
   "cell_type": "code",
   "execution_count": 32,
   "metadata": {},
   "outputs": [
    {
     "name": "stdout",
     "output_type": "stream",
     "text": [
      "Reading metrics from /home/carlos/MasterDS/tfm/models/ltr_gbt/e735c66e57/validation_metrics.pickle\n",
      "mse : 0.014770326759540677\n",
      "mae : 0.08330734495334782\n",
      "r2 : 0.19789507181638788\n"
     ]
    },
    {
     "data": {
      "image/png": "[encoded data removed]",
      "text/plain": [
       "<Figure size 720x360 with 2 Axes>"
      ]
     },
     "metadata": {
      "needs_background": "light"
     },
     "output_type": "display_data"
    },
    {
     "data": {
      "image/png": "[encoded data removed]",
      "text/plain": [
       "<Figure size 360x360 with 1 Axes>"
      ]
     },
     "metadata": {
      "needs_background": "light"
     },
     "output_type": "display_data"
    }
   ],
   "source": [
    "ltr_metrics.show_metrics('validation')"
   ]
  },
  {
   "cell_type": "code",
   "execution_count": null,
   "metadata": {},
   "outputs": [],
   "source": []
  }
 ],
 "metadata": {
  "kernelspec": {
   "display_name": "Python 3",
   "language": "python",
   "name": "python3"
  },
  "language_info": {
   "codemirror_mode": {
    "name": "ipython",
    "version": 3
   },
   "file_extension": ".py",
   "mimetype": "text/x-python",
   "name": "python",
   "nbconvert_exporter": "python",
   "pygments_lexer": "ipython3",
   "version": "3.7.7"
  }
 },
 "nbformat": 4,
 "nbformat_minor": 4
}
