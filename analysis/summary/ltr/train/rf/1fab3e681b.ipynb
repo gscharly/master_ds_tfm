{
 "cells": [
  {
   "cell_type": "code",
   "execution_count": 1,
   "metadata": {},
   "outputs": [],
   "source": [
    "MAIN_PATH = \"/home/carlos/MasterDS/tfm\"\n",
    "JSON_DATA_PATH = '{}/data/json/'.format(MAIN_PATH)\n",
    "CSV_DATA_PATH = '{}/data/csv/'.format(MAIN_PATH)"
   ]
  },
  {
   "cell_type": "code",
   "execution_count": 2,
   "metadata": {},
   "outputs": [],
   "source": [
    "import sys\n",
    "sys.path.insert(0, MAIN_PATH)"
   ]
  },
  {
   "cell_type": "code",
   "execution_count": 3,
   "metadata": {},
   "outputs": [],
   "source": [
    "%load_ext autoreload\n",
    "%autoreload 2\n",
    "from scripts.models.ltr.train import LTRTrain\n",
    "from scripts.models.ltr.metrics import LTRMetrics\n",
    "\n",
    "%reload_ext autoreload"
   ]
  },
  {
   "cell_type": "markdown",
   "metadata": {},
   "source": [
    "# Entrenamiento"
   ]
  },
  {
   "cell_type": "code",
   "execution_count": 5,
   "metadata": {},
   "outputs": [],
   "source": [
    "ltr_params = {\n",
    "    'key_events': ['goal', 'red_card', 'penalty'],\n",
    "    'lags': [1, 3, 5],\n",
    "    'target_metric': 'cosine_emb',\n",
    "    'drop_teams': True,\n",
    "    'lemma': True,\n",
    "    'metric_params': {'embedding': 'distilroberta-base-paraphrase-v1',\n",
    "                     'text_process': 'basic'},\n",
    "    'count_vec_kwargs': {'ngram_range': (1, 2), 'strip_accents': 'unicode'}\n",
    "}\n",
    "num_features = ['tfidf_sum']\n",
    "cat_features_dict = {'is_key_event': [0, 1],\n",
    "                     'n_players_cat': ['no_player', 'one_player', 'more_than_one_player']}"
   ]
  },
  {
   "cell_type": "code",
   "execution_count": 6,
   "metadata": {},
   "outputs": [
    {
     "ename": "NameError",
     "evalue": "name 'model_params' is not defined",
     "output_type": "error",
     "traceback": [
      "\u001b[0;31m---------------------------------------------------------------------------\u001b[0m",
      "\u001b[0;31mNameError\u001b[0m                                 Traceback (most recent call last)",
      "\u001b[0;32m<ipython-input-6-020e0bc3f72f>\u001b[0m in \u001b[0;36m<module>\u001b[0;34m\u001b[0m\n\u001b[1;32m      1\u001b[0m ltr_train = LTRTrain(cat_features_dict=cat_features_dict, num_features=num_features,\n\u001b[0;32m----> 2\u001b[0;31m                      model_params=model_params, ltr_params=ltr_params)\n\u001b[0m",
      "\u001b[0;31mNameError\u001b[0m: name 'model_params' is not defined"
     ]
    }
   ],
   "source": [
    "ltr_train = LTRTrain(cat_features_dict=cat_features_dict, num_features=num_features,\n",
    "                     model_params=model_params, ltr_params=ltr_params)"
   ]
  },
  {
   "cell_type": "code",
   "execution_count": 7,
   "metadata": {},
   "outputs": [
    {
     "name": "stdout",
     "output_type": "stream",
     "text": [
      "Setting target metric to cosine_emb\n"
     ]
    }
   ],
   "source": [
    "# Uncomment if using cv\n",
    "\n",
    "model_params = {\n",
    "    'n_estimators': [100, 200, 500],\n",
    "    'max_depth': [2, 5, 7],\n",
    "    'bootstrap': [True],\n",
    "    \n",
    "}\n",
    "cv = 5\n",
    "opt_metric = 'neg_mean_squared_error'\n",
    "ltr_train = LTRTrain(cat_features_dict=cat_features_dict, num_features=num_features,\n",
    "                     model_params=model_params, ltr_params=ltr_params,\n",
    "                    cv=cv, opt_metric=opt_metric)\n"
   ]
  },
  {
   "cell_type": "code",
   "execution_count": 9,
   "metadata": {},
   "outputs": [
    {
     "name": "stdout",
     "output_type": "stream",
     "text": [
      "Reading /home/carlos/MasterDS/tfm/data/ltr/features_targets/c03ce6bcfa/train.csv\n",
      "Categorizing n_players...\n",
      "Computing new length...\n",
      "Dropping {'sim_previous_1', 'event_ix', 'length', 'score', 'total_length', 'players_importance', 'sim_previous_3', 'equalize', 'n_players', 'sim_previous_5', 'url', 'json_file', 'sentence_ix', 'advantage', 'position', 'n_stop'}\n",
      "Using cv with 5 folds optimizing neg_mean_squared_error\n",
      "Training model...\n",
      "Writing model to /home/carlos/MasterDS/tfm/models/ltr_random_forest/1fab3e681b/ckpt.pickle\n",
      "Writing model info to /home/carlos/MasterDS/tfm/models/ltr_random_forest/1fab3e681b/model_info.pickle\n",
      "CPU times: user 1min 49s, sys: 191 ms, total: 1min 50s\n",
      "Wall time: 13min 50s\n"
     ]
    }
   ],
   "source": [
    "%%time\n",
    "ltr_train.train()"
   ]
  },
  {
   "cell_type": "code",
   "execution_count": 20,
   "metadata": {},
   "outputs": [
    {
     "data": {
      "text/plain": [
       "'c03ce6bcfa'"
      ]
     },
     "execution_count": 20,
     "metadata": {},
     "output_type": "execute_result"
    }
   ],
   "source": [
    "ltr_train.ltr.experiment_id()"
   ]
  },
  {
   "cell_type": "code",
   "execution_count": 21,
   "metadata": {},
   "outputs": [
    {
     "data": {
      "text/plain": [
       "{'key_events': ['goal', 'red_card', 'penalty'],\n",
       " 'lags': [1, 3, 5],\n",
       " 'target_metric': 'cosine_emb',\n",
       " 'drop_teams': True,\n",
       " 'lemma': True,\n",
       " 'metric_params': {'embedding': 'distilroberta-base-paraphrase-v1',\n",
       "  'text_process': 'basic'},\n",
       " 'count_vec_kwargs': {'ngram_range': (1, 2), 'strip_accents': 'unicode'}}"
      ]
     },
     "execution_count": 21,
     "metadata": {},
     "output_type": "execute_result"
    }
   ],
   "source": [
    "ltr_train.ltr.config()"
   ]
  },
  {
   "cell_type": "markdown",
   "metadata": {},
   "source": [
    "## Salida"
   ]
  },
  {
   "cell_type": "code",
   "execution_count": 10,
   "metadata": {},
   "outputs": [],
   "source": [
    "model = ltr_train.read_model()"
   ]
  },
  {
   "cell_type": "code",
   "execution_count": 11,
   "metadata": {},
   "outputs": [
    {
     "data": {
      "text/plain": [
       "Pipeline(steps=[('preprocessing',\n",
       "                 ColumnTransformer(remainder='passthrough',\n",
       "                                   transformers=[('cat',\n",
       "                                                  Pipeline(steps=[('encoder',\n",
       "                                                                   OneHotEncoder(categories=[[0,\n",
       "                                                                                              1],\n",
       "                                                                                             ['no_player',\n",
       "                                                                                              'one_player',\n",
       "                                                                                              'more_than_one_player']],\n",
       "                                                                                 drop='first'))]),\n",
       "                                                  ['is_key_event',\n",
       "                                                   'n_players_cat'])])),\n",
       "                ('model',\n",
       "                 GridSearchCV(cv=5,\n",
       "                              estimator=RandomForestRegressor(random_state=10),\n",
       "                              n_jobs=5,\n",
       "                              param_grid={'bootstrap': [True],\n",
       "                                          'max_depth': [2, 5, 7],\n",
       "                                          'n_estimators': [100, 200, 500]},\n",
       "                              scoring='neg_mean_squared_error'))])"
      ]
     },
     "execution_count": 11,
     "metadata": {},
     "output_type": "execute_result"
    }
   ],
   "source": [
    "model"
   ]
  },
  {
   "cell_type": "code",
   "execution_count": 12,
   "metadata": {},
   "outputs": [],
   "source": [
    "model_info = ltr_train.read_model_info()"
   ]
  },
  {
   "cell_type": "markdown",
   "metadata": {},
   "source": [
    "El número de jugadores no aporta nada"
   ]
  },
  {
   "cell_type": "code",
   "execution_count": 13,
   "metadata": {},
   "outputs": [
    {
     "data": {
      "text/plain": [
       "{'best_score': -0.006913486339869691,\n",
       " 'best_params': {'bootstrap': True, 'max_depth': 7, 'n_estimators': 500},\n",
       " 'model_out':                          Gini-importance\n",
       " x0_1                            0.192280\n",
       " x1_one_player                   0.002681\n",
       " x1_more_than_one_player         0.011517\n",
       " tfidf_sum                       0.793523}"
      ]
     },
     "execution_count": 13,
     "metadata": {},
     "output_type": "execute_result"
    }
   ],
   "source": [
    "# La salida de mse de una etapa de cv en sklearn es negativa\n",
    "model_info"
   ]
  },
  {
   "cell_type": "code",
   "execution_count": 14,
   "metadata": {},
   "outputs": [
    {
     "data": {
      "text/html": [
       "<div>\n",
       "<style scoped>\n",
       "    .dataframe tbody tr th:only-of-type {\n",
       "        vertical-align: middle;\n",
       "    }\n",
       "\n",
       "    .dataframe tbody tr th {\n",
       "        vertical-align: top;\n",
       "    }\n",
       "\n",
       "    .dataframe thead th {\n",
       "        text-align: right;\n",
       "    }\n",
       "</style>\n",
       "<table border=\"1\" class=\"dataframe\">\n",
       "  <thead>\n",
       "    <tr style=\"text-align: right;\">\n",
       "      <th></th>\n",
       "      <th>Gini-importance</th>\n",
       "    </tr>\n",
       "  </thead>\n",
       "  <tbody>\n",
       "    <tr>\n",
       "      <th>x0_1</th>\n",
       "      <td>0.192280</td>\n",
       "    </tr>\n",
       "    <tr>\n",
       "      <th>x1_one_player</th>\n",
       "      <td>0.002681</td>\n",
       "    </tr>\n",
       "    <tr>\n",
       "      <th>x1_more_than_one_player</th>\n",
       "      <td>0.011517</td>\n",
       "    </tr>\n",
       "    <tr>\n",
       "      <th>tfidf_sum</th>\n",
       "      <td>0.793523</td>\n",
       "    </tr>\n",
       "  </tbody>\n",
       "</table>\n",
       "</div>"
      ],
      "text/plain": [
       "                         Gini-importance\n",
       "x0_1                            0.192280\n",
       "x1_one_player                   0.002681\n",
       "x1_more_than_one_player         0.011517\n",
       "tfidf_sum                       0.793523"
      ]
     },
     "execution_count": 14,
     "metadata": {},
     "output_type": "execute_result"
    }
   ],
   "source": [
    "model_info['model_out']"
   ]
  },
  {
   "cell_type": "code",
   "execution_count": 15,
   "metadata": {},
   "outputs": [
    {
     "data": {
      "text/plain": [
       "'1fab3e681b'"
      ]
     },
     "execution_count": 15,
     "metadata": {},
     "output_type": "execute_result"
    }
   ],
   "source": [
    "ltr_train.experiment_id()"
   ]
  },
  {
   "cell_type": "markdown",
   "metadata": {},
   "source": [
    "## Métricas"
   ]
  },
  {
   "cell_type": "code",
   "execution_count": 16,
   "metadata": {},
   "outputs": [],
   "source": [
    "ltr_metrics = LTRMetrics(ltr_train)"
   ]
  },
  {
   "cell_type": "code",
   "execution_count": 17,
   "metadata": {},
   "outputs": [
    {
     "name": "stdout",
     "output_type": "stream",
     "text": [
      "Computing metric for train dataset\n",
      "Reading /home/carlos/MasterDS/tfm/data/ltr/features_targets/c03ce6bcfa/train.csv\n",
      "Categorizing n_players...\n",
      "Computing new length...\n",
      "Dropping {'sim_previous_1', 'event_ix', 'length', 'score', 'total_length', 'players_importance', 'sim_previous_3', 'equalize', 'n_players', 'sim_previous_5', 'url', 'json_file', 'sentence_ix', 'advantage', 'position', 'n_stop'}\n",
      "Writing metrics to /home/carlos/MasterDS/tfm/models/ltr_random_forest/1fab3e681b/train_metrics.pickle\n",
      "Computing metric for validation dataset\n",
      "Reading /home/carlos/MasterDS/tfm/data/ltr/features_targets/c03ce6bcfa/validation.csv\n",
      "Categorizing n_players...\n",
      "Computing new length...\n",
      "Dropping {'sim_previous_1', 'event_ix', 'length', 'score', 'total_length', 'players_importance', 'sim_previous_3', 'equalize', 'n_players', 'sim_previous_5', 'url', 'json_file', 'sentence_ix', 'advantage', 'position', 'n_stop'}\n",
      "Writing metrics to /home/carlos/MasterDS/tfm/models/ltr_random_forest/1fab3e681b/validation_metrics.pickle\n",
      "Computing metric for test dataset\n",
      "Reading /home/carlos/MasterDS/tfm/data/ltr/features_targets/c03ce6bcfa/test.csv\n",
      "Categorizing n_players...\n",
      "Computing new length...\n",
      "Dropping {'sim_previous_1', 'event_ix', 'length', 'score', 'total_length', 'players_importance', 'sim_previous_3', 'equalize', 'n_players', 'sim_previous_5', 'url', 'json_file', 'sentence_ix', 'advantage', 'position', 'n_stop'}\n",
      "Writing metrics to /home/carlos/MasterDS/tfm/models/ltr_random_forest/1fab3e681b/test_metrics.pickle\n"
     ]
    }
   ],
   "source": [
    "ltr_metrics.run()"
   ]
  },
  {
   "cell_type": "code",
   "execution_count": 18,
   "metadata": {},
   "outputs": [
    {
     "name": "stdout",
     "output_type": "stream",
     "text": [
      "Reading metrics from /home/carlos/MasterDS/tfm/models/ltr_random_forest/1fab3e681b/train_metrics.pickle\n",
      "mse : 0.0068867075026946886\n",
      "mae : 0.06463093381931233\n",
      "r2 : 0.35827071811632405\n"
     ]
    },
    {
     "data": {
      "image/png": "[encoded data removed]",
      "text/plain": [
       "<Figure size 720x360 with 2 Axes>"
      ]
     },
     "metadata": {
      "needs_background": "light"
     },
     "output_type": "display_data"
    },
    {
     "data": {
      "image/png": "[encoded data removed]",
      "text/plain": [
       "<Figure size 360x360 with 1 Axes>"
      ]
     },
     "metadata": {
      "needs_background": "light"
     },
     "output_type": "display_data"
    }
   ],
   "source": [
    "ltr_metrics.show_metrics('train')"
   ]
  },
  {
   "cell_type": "code",
   "execution_count": 19,
   "metadata": {},
   "outputs": [
    {
     "name": "stdout",
     "output_type": "stream",
     "text": [
      "Reading metrics from /home/carlos/MasterDS/tfm/models/ltr_random_forest/1fab3e681b/validation_metrics.pickle\n",
      "mse : 0.0068873914739234245\n",
      "mae : 0.06458074321881319\n",
      "r2 : 0.35781428896345546\n"
     ]
    },
    {
     "data": {
      "image/png": "[encoded data removed]",
      "text/plain": [
       "<Figure size 720x360 with 2 Axes>"
      ]
     },
     "metadata": {
      "needs_background": "light"
     },
     "output_type": "display_data"
    },
    {
     "data": {
      "image/png": "[encoded data removed]",
      "text/plain": [
       "<Figure size 360x360 with 1 Axes>"
      ]
     },
     "metadata": {
      "needs_background": "light"
     },
     "output_type": "display_data"
    }
   ],
   "source": [
    "ltr_metrics.show_metrics('validation')"
   ]
  },
  {
   "cell_type": "code",
   "execution_count": null,
   "metadata": {},
   "outputs": [],
   "source": []
  }
 ],
 "metadata": {
  "kernelspec": {
   "display_name": "Python 3",
   "language": "python",
   "name": "python3"
  },
  "language_info": {
   "codemirror_mode": {
    "name": "ipython",
    "version": 3
   },
   "file_extension": ".py",
   "mimetype": "text/x-python",
   "name": "python",
   "nbconvert_exporter": "python",
   "pygments_lexer": "ipython3",
   "version": "3.7.7"
  }
 },
 "nbformat": 4,
 "nbformat_minor": 4
}
