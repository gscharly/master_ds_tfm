{
 "cells": [
  {
   "cell_type": "code",
   "execution_count": 1,
   "metadata": {},
   "outputs": [],
   "source": [
    "MAIN_PATH = \"/home/carlos/MasterDS/tfm\"\n",
    "JSON_DATA_PATH = '{}/data/json/'.format(MAIN_PATH)\n",
    "CSV_DATA_PATH = '{}/data/csv/'.format(MAIN_PATH)"
   ]
  },
  {
   "cell_type": "code",
   "execution_count": 2,
   "metadata": {},
   "outputs": [],
   "source": [
    "import sys\n",
    "sys.path.insert(0, MAIN_PATH)"
   ]
  },
  {
   "cell_type": "code",
   "execution_count": 3,
   "metadata": {},
   "outputs": [],
   "source": [
    "%load_ext autoreload\n",
    "%autoreload 2\n",
    "from scripts.models.ltr.train import LTRTrain\n",
    "\n",
    "%reload_ext autoreload"
   ]
  },
  {
   "cell_type": "code",
   "execution_count": 4,
   "metadata": {},
   "outputs": [],
   "source": [
    "import pickle"
   ]
  },
  {
   "cell_type": "markdown",
   "metadata": {},
   "source": [
    "# Train"
   ]
  },
  {
   "cell_type": "code",
   "execution_count": 5,
   "metadata": {},
   "outputs": [],
   "source": [
    "ltr_params = {\n",
    "    'key_events': ['goal', 'red_card', 'penalty'],\n",
    "    'lags': [1, 3, 5],\n",
    "    'target_metric': 'rouge',\n",
    "    'drop_teams': True,\n",
    "    'lemma': True,\n",
    "    'metric_params': {'rouge_mode': 'rouge-1', 'rouge_metric': 'r'},\n",
    "    'count_vec_kwargs': {'ngram_range': (1, 2), 'strip_accents': 'unicode'}\n",
    "}\n",
    "cat_features_dict = {'is_key_event': [0, 1],\n",
    "                     'n_players_cat': ['no_player', 'one_player', 'more_than_one_player']}\n",
    "num_features = ['tfidf_sum']\n",
    "model_params = {\n",
    "    'n_estimators': 100,\n",
    "    'max_depth': 2,\n",
    "    'bootstrap': True,\n",
    "    \n",
    "}"
   ]
  },
  {
   "cell_type": "code",
   "execution_count": null,
   "metadata": {},
   "outputs": [],
   "source": [
    "# Uncomment if using cv\n",
    "\"\"\"\n",
    "model_params = {\n",
    "    'n_estimators': [100, 200],\n",
    "    'max_depth': [2, 5],\n",
    "    'bootstrap': [True],\n",
    "    \n",
    "}\n",
    "cv = 5\n",
    "opt_metric = 'neg_mean_squared_error'\n",
    "ltr_train = LTRTrain(cat_features=cat_features, num_features=num_features,\n",
    "                     model_params=model_params, ltr_params=ltr_params,\n",
    "                    cv=cv, opt_metric=opt_metric)\n",
    "\"\"\""
   ]
  },
  {
   "cell_type": "code",
   "execution_count": 6,
   "metadata": {},
   "outputs": [
    {
     "name": "stdout",
     "output_type": "stream",
     "text": [
      "Setting target metric to rouge\n"
     ]
    }
   ],
   "source": [
    "ltr_train = LTRTrain(cat_features_dict=cat_features_dict, num_features=num_features,\n",
    "                     model_params=model_params, ltr_params=ltr_params)"
   ]
  },
  {
   "cell_type": "code",
   "execution_count": 166,
   "metadata": {},
   "outputs": [
    {
     "name": "stdout",
     "output_type": "stream",
     "text": [
      "Reading /home/carlos/MasterDS/tfm/data/csv/summaries/ltr/features_targets/341d2aa93d/train.csv\n",
      "Categorizing n_players...\n",
      "Computing new length...\n",
      "Dropping {'length', 'position', 'total_length', 'players_importance', 'sim_previous_3', 'json_file', 'score', 'n_stop', 'equalize', 'sim_previous_1', 'url', 'sim_previous_5', 'n_players', 'sentence_ix', 'advantage', 'event_ix'}\n",
      "Training model...\n",
      "Writing model to /home/carlos/MasterDS/tfm/models/ltr_random_forest/8a68cad9f5/ckpt.pickle\n",
      "Writing model info to /home/carlos/MasterDS/tfm/models/ltr_random_forest/8a68cad9f5/model_info.pickle\n",
      "CPU times: user 9.15 s, sys: 15.2 ms, total: 9.17 s\n",
      "Wall time: 9.16 s\n"
     ]
    }
   ],
   "source": [
    "%%time\n",
    "ltr_train.train()"
   ]
  },
  {
   "cell_type": "code",
   "execution_count": 159,
   "metadata": {},
   "outputs": [],
   "source": [
    "model = pickle.load(open(ltr_train.model_path, 'rb'))"
   ]
  },
  {
   "cell_type": "code",
   "execution_count": 160,
   "metadata": {
    "collapsed": true,
    "jupyter": {
     "outputs_hidden": true
    }
   },
   "outputs": [
    {
     "data": {
      "text/plain": [
       "Pipeline(steps=[('preprocessing',\n",
       "                 ColumnTransformer(remainder='passthrough',\n",
       "                                   transformers=[('cat',\n",
       "                                                  Pipeline(steps=[('encoder',\n",
       "                                                                   OneHotEncoder(categories=[[0,\n",
       "                                                                                              1],\n",
       "                                                                                             ['no_player',\n",
       "                                                                                              'one_player',\n",
       "                                                                                              'more_than_one_player']],\n",
       "                                                                                 drop='first'))]),\n",
       "                                                  ['is_key_event',\n",
       "                                                   'n_players_cat'])])),\n",
       "                ('model', RandomForestRegressor(max_depth=2, random_state=10))])"
      ]
     },
     "execution_count": 160,
     "metadata": {},
     "output_type": "execute_result"
    }
   ],
   "source": [
    "model"
   ]
  },
  {
   "cell_type": "code",
   "execution_count": 132,
   "metadata": {},
   "outputs": [],
   "source": [
    "oh_cols = model['preprocessing']"
   ]
  },
  {
   "cell_type": "code",
   "execution_count": 145,
   "metadata": {},
   "outputs": [
    {
     "data": {
      "text/plain": [
       "array(['x0_1', 'x1_one_player', 'x1_more_than_one_player'], dtype=object)"
      ]
     },
     "execution_count": 145,
     "metadata": {},
     "output_type": "execute_result"
    }
   ],
   "source": [
    "model['preprocessing'].named_transformers_['cat']['encoder'].get_feature_names()"
   ]
  },
  {
   "cell_type": "code",
   "execution_count": 144,
   "metadata": {},
   "outputs": [
    {
     "data": {
      "text/plain": [
       "[array([0, 1]),\n",
       " array(['no_player', 'one_player', 'more_than_one_player'], dtype=object)]"
      ]
     },
     "execution_count": 144,
     "metadata": {},
     "output_type": "execute_result"
    }
   ],
   "source": [
    "model['preprocessing'].named_transformers_['cat']['encoder'].categories_"
   ]
  },
  {
   "cell_type": "code",
   "execution_count": 148,
   "metadata": {},
   "outputs": [],
   "source": [
    "cat_pipeline = Pipeline(steps=[\n",
    "            ('encoder', OneHotEncoder(drop='first',\n",
    "                                      categories=[[0, 1], ['no_player', 'one_player', 'more_than_one_player']]))\n",
    "        ])\n",
    "preprocessor = ColumnTransformer(transformers=[('cat', cat_pipeline, ltr_train.cat_features)],\n",
    "                                         remainder='passthrough')"
   ]
  },
  {
   "cell_type": "code",
   "execution_count": 149,
   "metadata": {},
   "outputs": [
    {
     "data": {
      "text/plain": [
       "array([[0.        , 1.        , 0.        , 3.5126526 ],\n",
       "       [0.        , 1.        , 0.        , 2.19859856],\n",
       "       [0.        , 0.        , 1.        , 5.068378  ],\n",
       "       ...,\n",
       "       [0.        , 1.        , 0.        , 3.65516568],\n",
       "       [0.        , 1.        , 0.        , 2.20688526],\n",
       "       [0.        , 1.        , 0.        , 2.19669828]])"
      ]
     },
     "execution_count": 149,
     "metadata": {},
     "output_type": "execute_result"
    }
   ],
   "source": [
    "preprocessor.fit_transform(X_train)"
   ]
  },
  {
   "cell_type": "code",
   "execution_count": 150,
   "metadata": {
    "collapsed": true,
    "jupyter": {
     "outputs_hidden": true
    }
   },
   "outputs": [
    {
     "data": {
      "text/html": [
       "<div>\n",
       "<style scoped>\n",
       "    .dataframe tbody tr th:only-of-type {\n",
       "        vertical-align: middle;\n",
       "    }\n",
       "\n",
       "    .dataframe tbody tr th {\n",
       "        vertical-align: top;\n",
       "    }\n",
       "\n",
       "    .dataframe thead th {\n",
       "        text-align: right;\n",
       "    }\n",
       "</style>\n",
       "<table border=\"1\" class=\"dataframe\">\n",
       "  <thead>\n",
       "    <tr style=\"text-align: right;\">\n",
       "      <th></th>\n",
       "      <th>is_key_event</th>\n",
       "      <th>n_players_cat</th>\n",
       "      <th>tfidf_sum</th>\n",
       "    </tr>\n",
       "  </thead>\n",
       "  <tbody>\n",
       "    <tr>\n",
       "      <th>0</th>\n",
       "      <td>0</td>\n",
       "      <td>one_player</td>\n",
       "      <td>3.512653</td>\n",
       "    </tr>\n",
       "    <tr>\n",
       "      <th>1</th>\n",
       "      <td>0</td>\n",
       "      <td>one_player</td>\n",
       "      <td>2.198599</td>\n",
       "    </tr>\n",
       "    <tr>\n",
       "      <th>2</th>\n",
       "      <td>0</td>\n",
       "      <td>more_than_one_player</td>\n",
       "      <td>5.068378</td>\n",
       "    </tr>\n",
       "    <tr>\n",
       "      <th>3</th>\n",
       "      <td>0</td>\n",
       "      <td>one_player</td>\n",
       "      <td>2.558036</td>\n",
       "    </tr>\n",
       "    <tr>\n",
       "      <th>4</th>\n",
       "      <td>0</td>\n",
       "      <td>one_player</td>\n",
       "      <td>2.188177</td>\n",
       "    </tr>\n",
       "    <tr>\n",
       "      <th>...</th>\n",
       "      <td>...</td>\n",
       "      <td>...</td>\n",
       "      <td>...</td>\n",
       "    </tr>\n",
       "    <tr>\n",
       "      <th>296655</th>\n",
       "      <td>0</td>\n",
       "      <td>one_player</td>\n",
       "      <td>3.147186</td>\n",
       "    </tr>\n",
       "    <tr>\n",
       "      <th>296656</th>\n",
       "      <td>0</td>\n",
       "      <td>one_player</td>\n",
       "      <td>3.549072</td>\n",
       "    </tr>\n",
       "    <tr>\n",
       "      <th>296657</th>\n",
       "      <td>0</td>\n",
       "      <td>one_player</td>\n",
       "      <td>3.655166</td>\n",
       "    </tr>\n",
       "    <tr>\n",
       "      <th>296658</th>\n",
       "      <td>0</td>\n",
       "      <td>one_player</td>\n",
       "      <td>2.206885</td>\n",
       "    </tr>\n",
       "    <tr>\n",
       "      <th>296659</th>\n",
       "      <td>0</td>\n",
       "      <td>one_player</td>\n",
       "      <td>2.196698</td>\n",
       "    </tr>\n",
       "  </tbody>\n",
       "</table>\n",
       "<p>296660 rows × 3 columns</p>\n",
       "</div>"
      ],
      "text/plain": [
       "        is_key_event         n_players_cat  tfidf_sum\n",
       "0                  0            one_player   3.512653\n",
       "1                  0            one_player   2.198599\n",
       "2                  0  more_than_one_player   5.068378\n",
       "3                  0            one_player   2.558036\n",
       "4                  0            one_player   2.188177\n",
       "...              ...                   ...        ...\n",
       "296655             0            one_player   3.147186\n",
       "296656             0            one_player   3.549072\n",
       "296657             0            one_player   3.655166\n",
       "296658             0            one_player   2.206885\n",
       "296659             0            one_player   2.196698\n",
       "\n",
       "[296660 rows x 3 columns]"
      ]
     },
     "execution_count": 150,
     "metadata": {},
     "output_type": "execute_result"
    }
   ],
   "source": [
    "X_train"
   ]
  },
  {
   "cell_type": "code",
   "execution_count": null,
   "metadata": {},
   "outputs": [],
   "source": []
  },
  {
   "cell_type": "code",
   "execution_count": null,
   "metadata": {},
   "outputs": [],
   "source": []
  },
  {
   "cell_type": "code",
   "execution_count": 146,
   "metadata": {},
   "outputs": [
    {
     "data": {
      "text/plain": [
       "array([0.25574172, 0.        , 0.        , 0.74425828])"
      ]
     },
     "execution_count": 146,
     "metadata": {},
     "output_type": "execute_result"
    }
   ],
   "source": [
    "model['model'].feature_importances_"
   ]
  },
  {
   "cell_type": "code",
   "execution_count": 130,
   "metadata": {},
   "outputs": [
    {
     "data": {
      "text/plain": [
       "['is_key_event', 'n_players_cat', 'tfidf_sum']"
      ]
     },
     "execution_count": 130,
     "metadata": {},
     "output_type": "execute_result"
    }
   ],
   "source": [
    "ltr_train.features"
   ]
  },
  {
   "cell_type": "code",
   "execution_count": 7,
   "metadata": {},
   "outputs": [],
   "source": [
    "model_info = pickle.load(open(ltr_train.model_info_path, 'rb'))"
   ]
  },
  {
   "cell_type": "code",
   "execution_count": 8,
   "metadata": {},
   "outputs": [
    {
     "data": {
      "text/plain": [
       "{'best_score': None,\n",
       " 'best_params': None,\n",
       " 'model_out':                          Gini-importance\n",
       " x0_1                            0.255742\n",
       " x1_one_player                   0.000000\n",
       " x1_more_than_one_player         0.000000\n",
       " tfidf_sum                       0.744258}"
      ]
     },
     "execution_count": 8,
     "metadata": {},
     "output_type": "execute_result"
    }
   ],
   "source": [
    "# La salida de mse de una etapa de cv en sklearn es negativa\n",
    "model_info"
   ]
  },
  {
   "cell_type": "code",
   "execution_count": 9,
   "metadata": {},
   "outputs": [
    {
     "data": {
      "text/html": [
       "<div>\n",
       "<style scoped>\n",
       "    .dataframe tbody tr th:only-of-type {\n",
       "        vertical-align: middle;\n",
       "    }\n",
       "\n",
       "    .dataframe tbody tr th {\n",
       "        vertical-align: top;\n",
       "    }\n",
       "\n",
       "    .dataframe thead th {\n",
       "        text-align: right;\n",
       "    }\n",
       "</style>\n",
       "<table border=\"1\" class=\"dataframe\">\n",
       "  <thead>\n",
       "    <tr style=\"text-align: right;\">\n",
       "      <th></th>\n",
       "      <th>Gini-importance</th>\n",
       "    </tr>\n",
       "  </thead>\n",
       "  <tbody>\n",
       "    <tr>\n",
       "      <th>x0_1</th>\n",
       "      <td>0.255742</td>\n",
       "    </tr>\n",
       "    <tr>\n",
       "      <th>x1_one_player</th>\n",
       "      <td>0.000000</td>\n",
       "    </tr>\n",
       "    <tr>\n",
       "      <th>x1_more_than_one_player</th>\n",
       "      <td>0.000000</td>\n",
       "    </tr>\n",
       "    <tr>\n",
       "      <th>tfidf_sum</th>\n",
       "      <td>0.744258</td>\n",
       "    </tr>\n",
       "  </tbody>\n",
       "</table>\n",
       "</div>"
      ],
      "text/plain": [
       "                         Gini-importance\n",
       "x0_1                            0.255742\n",
       "x1_one_player                   0.000000\n",
       "x1_more_than_one_player         0.000000\n",
       "tfidf_sum                       0.744258"
      ]
     },
     "execution_count": 9,
     "metadata": {},
     "output_type": "execute_result"
    }
   ],
   "source": [
    "model_info['model_out']"
   ]
  },
  {
   "cell_type": "code",
   "execution_count": null,
   "metadata": {},
   "outputs": [],
   "source": []
  }
 ],
 "metadata": {
  "kernelspec": {
   "display_name": "Python 3",
   "language": "python",
   "name": "python3"
  },
  "language_info": {
   "codemirror_mode": {
    "name": "ipython",
    "version": 3
   },
   "file_extension": ".py",
   "mimetype": "text/x-python",
   "name": "python",
   "nbconvert_exporter": "python",
   "pygments_lexer": "ipython3",
   "version": "3.7.7"
  }
 },
 "nbformat": 4,
 "nbformat_minor": 4
}
