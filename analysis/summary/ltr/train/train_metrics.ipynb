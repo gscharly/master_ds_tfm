{
 "cells": [
  {
   "cell_type": "code",
   "execution_count": 1,
   "metadata": {},
   "outputs": [],
   "source": [
    "MAIN_PATH = \"/home/carlos/MasterDS/tfm\"\n",
    "JSON_DATA_PATH = '{}/data/json/'.format(MAIN_PATH)\n",
    "CSV_DATA_PATH = '{}/data/csv/'.format(MAIN_PATH)"
   ]
  },
  {
   "cell_type": "code",
   "execution_count": 2,
   "metadata": {},
   "outputs": [],
   "source": [
    "import sys\n",
    "sys.path.insert(0, MAIN_PATH)"
   ]
  },
  {
   "cell_type": "code",
   "execution_count": 32,
   "metadata": {},
   "outputs": [
    {
     "name": "stdout",
     "output_type": "stream",
     "text": [
      "The autoreload extension is already loaded. To reload it, use:\n",
      "  %reload_ext autoreload\n"
     ]
    }
   ],
   "source": [
    "%load_ext autoreload\n",
    "%autoreload 2\n",
    "from scripts.models.ltr.train import LTRTrain\n",
    "from scripts.models.ltr.metrics import LTRMetrics\n",
    "\n",
    "%reload_ext autoreload"
   ]
  },
  {
   "cell_type": "markdown",
   "metadata": {},
   "source": [
    "# Entrenamiento"
   ]
  },
  {
   "cell_type": "code",
   "execution_count": 5,
   "metadata": {},
   "outputs": [],
   "source": [
    "ltr_params = {\n",
    "    'key_events': ['goal', 'red_card', 'penalty'],\n",
    "    'lags': [1, 3, 5],\n",
    "    'target_metric': 'rouge',\n",
    "    'drop_teams': True,\n",
    "    'lemma': True,\n",
    "    'metric_params': {'rouge_mode': 'rouge-1', 'rouge_metric': 'r'},\n",
    "    'count_vec_kwargs': {'ngram_range': (1, 2), 'strip_accents': 'unicode'}\n",
    "}\n",
    "cat_features_dict = {'is_key_event': [0, 1],\n",
    "                     'n_players_cat': ['no_player', 'one_player', 'more_than_one_player']}\n",
    "num_features = ['tfidf_sum']\n",
    "model_params = {\n",
    "    'n_estimators': 100,\n",
    "    'max_depth': 2,\n",
    "    'bootstrap': True,\n",
    "    \n",
    "}"
   ]
  },
  {
   "cell_type": "code",
   "execution_count": null,
   "metadata": {},
   "outputs": [],
   "source": [
    "# Uncomment if using cv\n",
    "\"\"\"\n",
    "model_params = {\n",
    "    'n_estimators': [100, 200],\n",
    "    'max_depth': [2, 5],\n",
    "    'bootstrap': [True],\n",
    "    \n",
    "}\n",
    "cv = 5\n",
    "opt_metric = 'neg_mean_squared_error'\n",
    "ltr_train = LTRTrain(cat_features=cat_features, num_features=num_features,\n",
    "                     model_params=model_params, ltr_params=ltr_params,\n",
    "                    cv=cv, opt_metric=opt_metric)\n",
    "\"\"\""
   ]
  },
  {
   "cell_type": "code",
   "execution_count": 6,
   "metadata": {},
   "outputs": [
    {
     "name": "stdout",
     "output_type": "stream",
     "text": [
      "Setting target metric to rouge\n"
     ]
    }
   ],
   "source": [
    "ltr_train = LTRTrain(cat_features_dict=cat_features_dict, num_features=num_features,\n",
    "                     model_params=model_params, ltr_params=ltr_params)"
   ]
  },
  {
   "cell_type": "code",
   "execution_count": 166,
   "metadata": {},
   "outputs": [
    {
     "name": "stdout",
     "output_type": "stream",
     "text": [
      "Reading /home/carlos/MasterDS/tfm/data/csv/summaries/ltr/features_targets/341d2aa93d/train.csv\n",
      "Categorizing n_players...\n",
      "Computing new length...\n",
      "Dropping {'length', 'position', 'total_length', 'players_importance', 'sim_previous_3', 'json_file', 'score', 'n_stop', 'equalize', 'sim_previous_1', 'url', 'sim_previous_5', 'n_players', 'sentence_ix', 'advantage', 'event_ix'}\n",
      "Training model...\n",
      "Writing model to /home/carlos/MasterDS/tfm/models/ltr_random_forest/8a68cad9f5/ckpt.pickle\n",
      "Writing model info to /home/carlos/MasterDS/tfm/models/ltr_random_forest/8a68cad9f5/model_info.pickle\n",
      "CPU times: user 9.15 s, sys: 15.2 ms, total: 9.17 s\n",
      "Wall time: 9.16 s\n"
     ]
    }
   ],
   "source": [
    "%%time\n",
    "ltr_train.train()"
   ]
  },
  {
   "cell_type": "markdown",
   "metadata": {},
   "source": [
    "## Salida"
   ]
  },
  {
   "cell_type": "code",
   "execution_count": 15,
   "metadata": {},
   "outputs": [],
   "source": [
    "model = ltr_train.read_model()"
   ]
  },
  {
   "cell_type": "code",
   "execution_count": 13,
   "metadata": {},
   "outputs": [
    {
     "data": {
      "text/plain": [
       "Pipeline(steps=[('preprocessing',\n",
       "                 ColumnTransformer(remainder='passthrough',\n",
       "                                   transformers=[('cat',\n",
       "                                                  Pipeline(steps=[('encoder',\n",
       "                                                                   OneHotEncoder(categories=[[0,\n",
       "                                                                                              1],\n",
       "                                                                                             ['no_player',\n",
       "                                                                                              'one_player',\n",
       "                                                                                              'more_than_one_player']],\n",
       "                                                                                 drop='first'))]),\n",
       "                                                  ['is_key_event',\n",
       "                                                   'n_players_cat'])])),\n",
       "                ('model', RandomForestRegressor(max_depth=2, random_state=10))])"
      ]
     },
     "execution_count": 13,
     "metadata": {},
     "output_type": "execute_result"
    }
   ],
   "source": [
    "model"
   ]
  },
  {
   "cell_type": "code",
   "execution_count": 14,
   "metadata": {},
   "outputs": [],
   "source": [
    "model_info = ltr_train.read_model_info()"
   ]
  },
  {
   "cell_type": "markdown",
   "metadata": {},
   "source": [
    "El número de jugadores no aporta nada"
   ]
  },
  {
   "cell_type": "code",
   "execution_count": 15,
   "metadata": {},
   "outputs": [
    {
     "data": {
      "text/plain": [
       "{'best_score': None,\n",
       " 'best_params': None,\n",
       " 'model_out':                          Gini-importance\n",
       " x0_1                            0.255742\n",
       " x1_one_player                   0.000000\n",
       " x1_more_than_one_player         0.000000\n",
       " tfidf_sum                       0.744258}"
      ]
     },
     "execution_count": 15,
     "metadata": {},
     "output_type": "execute_result"
    }
   ],
   "source": [
    "# La salida de mse de una etapa de cv en sklearn es negativa\n",
    "model_info"
   ]
  },
  {
   "cell_type": "code",
   "execution_count": 16,
   "metadata": {},
   "outputs": [
    {
     "data": {
      "text/html": [
       "<div>\n",
       "<style scoped>\n",
       "    .dataframe tbody tr th:only-of-type {\n",
       "        vertical-align: middle;\n",
       "    }\n",
       "\n",
       "    .dataframe tbody tr th {\n",
       "        vertical-align: top;\n",
       "    }\n",
       "\n",
       "    .dataframe thead th {\n",
       "        text-align: right;\n",
       "    }\n",
       "</style>\n",
       "<table border=\"1\" class=\"dataframe\">\n",
       "  <thead>\n",
       "    <tr style=\"text-align: right;\">\n",
       "      <th></th>\n",
       "      <th>Gini-importance</th>\n",
       "    </tr>\n",
       "  </thead>\n",
       "  <tbody>\n",
       "    <tr>\n",
       "      <th>x0_1</th>\n",
       "      <td>0.255742</td>\n",
       "    </tr>\n",
       "    <tr>\n",
       "      <th>x1_one_player</th>\n",
       "      <td>0.000000</td>\n",
       "    </tr>\n",
       "    <tr>\n",
       "      <th>x1_more_than_one_player</th>\n",
       "      <td>0.000000</td>\n",
       "    </tr>\n",
       "    <tr>\n",
       "      <th>tfidf_sum</th>\n",
       "      <td>0.744258</td>\n",
       "    </tr>\n",
       "  </tbody>\n",
       "</table>\n",
       "</div>"
      ],
      "text/plain": [
       "                         Gini-importance\n",
       "x0_1                            0.255742\n",
       "x1_one_player                   0.000000\n",
       "x1_more_than_one_player         0.000000\n",
       "tfidf_sum                       0.744258"
      ]
     },
     "execution_count": 16,
     "metadata": {},
     "output_type": "execute_result"
    }
   ],
   "source": [
    "model_info['model_out']"
   ]
  },
  {
   "cell_type": "markdown",
   "metadata": {},
   "source": [
    "## Métricas"
   ]
  },
  {
   "cell_type": "code",
   "execution_count": 33,
   "metadata": {},
   "outputs": [],
   "source": [
    "ltr_metrics = LTRMetrics(ltr_train)"
   ]
  },
  {
   "cell_type": "code",
   "execution_count": 34,
   "metadata": {},
   "outputs": [
    {
     "name": "stdout",
     "output_type": "stream",
     "text": [
      "Calculating train metrics...\n",
      "Reading /home/carlos/MasterDS/tfm/data/csv/summaries/ltr/features_targets/341d2aa93d/train.csv\n",
      "Categorizing n_players...\n",
      "Computing new length...\n",
      "Dropping {'n_players', 'sim_previous_1', 'advantage', 'event_ix', 'equalize', 'n_stop', 'sim_previous_5', 'length', 'json_file', 'total_length', 'score', 'url', 'sim_previous_3', 'players_importance', 'sentence_ix', 'position'}\n",
      "Writing metrics to /home/carlos/MasterDS/tfm/models/ltr_random_forest/8a68cad9f5/train_metrics.pickle\n",
      "Calculating validation metrics...\n",
      "Reading /home/carlos/MasterDS/tfm/data/csv/summaries/ltr/features_targets/341d2aa93d/validation.csv\n",
      "Categorizing n_players...\n",
      "Computing new length...\n",
      "Dropping {'n_players', 'sim_previous_1', 'advantage', 'event_ix', 'equalize', 'n_stop', 'sim_previous_5', 'length', 'json_file', 'total_length', 'score', 'url', 'sim_previous_3', 'players_importance', 'sentence_ix', 'position'}\n",
      "Writing metrics to /home/carlos/MasterDS/tfm/models/ltr_random_forest/8a68cad9f5/validation_metrics.pickle\n",
      "Calculating test metrics...\n",
      "Reading /home/carlos/MasterDS/tfm/data/csv/summaries/ltr/features_targets/341d2aa93d/test.csv\n",
      "Categorizing n_players...\n",
      "Computing new length...\n",
      "Dropping {'n_players', 'sim_previous_1', 'advantage', 'event_ix', 'equalize', 'n_stop', 'sim_previous_5', 'length', 'json_file', 'total_length', 'score', 'url', 'sim_previous_3', 'players_importance', 'sentence_ix', 'position'}\n",
      "Writing metrics to /home/carlos/MasterDS/tfm/models/ltr_random_forest/8a68cad9f5/test_metrics.pickle\n"
     ]
    }
   ],
   "source": [
    "ltr_metrics.run()"
   ]
  },
  {
   "cell_type": "code",
   "execution_count": 58,
   "metadata": {},
   "outputs": [
    {
     "name": "stdout",
     "output_type": "stream",
     "text": [
      "Reading metrics from /home/carlos/MasterDS/tfm/models/ltr_random_forest/8a68cad9f5/train_metrics.pickle\n",
      "mse : 0.015622374349301927\n",
      "mae : 0.08634063597344009\n",
      "r2 : 0.16138178602099607\n"
     ]
    },
    {
     "data": {
      "image/png": "[encoded data removed]",
      "text/plain": [
       "<Figure size 720x360 with 2 Axes>"
      ]
     },
     "metadata": {
      "needs_background": "light"
     },
     "output_type": "display_data"
    },
    {
     "data": {
      "image/png": "[encoded data removed]",
      "text/plain": [
       "<Figure size 360x360 with 1 Axes>"
      ]
     },
     "metadata": {
      "needs_background": "light"
     },
     "output_type": "display_data"
    }
   ],
   "source": [
    "ltr_metrics.show_metrics('train')"
   ]
  },
  {
   "cell_type": "code",
   "execution_count": 59,
   "metadata": {},
   "outputs": [
    {
     "name": "stdout",
     "output_type": "stream",
     "text": [
      "Reading metrics from /home/carlos/MasterDS/tfm/models/ltr_random_forest/8a68cad9f5/validation_metrics.pickle\n",
      "mse : 0.015375390810075103\n",
      "mae : 0.08612893875815486\n",
      "r2 : 0.16503697296038844\n"
     ]
    },
    {
     "data": {
      "image/png": "[encoded data removed]",
      "text/plain": [
       "<Figure size 720x360 with 2 Axes>"
      ]
     },
     "metadata": {
      "needs_background": "light"
     },
     "output_type": "display_data"
    },
    {
     "data": {
      "image/png": "[encoded data removed]",
      "text/plain": [
       "<Figure size 360x360 with 1 Axes>"
      ]
     },
     "metadata": {
      "needs_background": "light"
     },
     "output_type": "display_data"
    }
   ],
   "source": [
    "ltr_metrics.show_metrics('validation')"
   ]
  },
  {
   "cell_type": "code",
   "execution_count": null,
   "metadata": {},
   "outputs": [],
   "source": []
  }
 ],
 "metadata": {
  "kernelspec": {
   "display_name": "Python 3",
   "language": "python",
   "name": "python3"
  },
  "language_info": {
   "codemirror_mode": {
    "name": "ipython",
    "version": 3
   },
   "file_extension": ".py",
   "mimetype": "text/x-python",
   "name": "python",
   "nbconvert_exporter": "python",
   "pygments_lexer": "ipython3",
   "version": "3.7.7"
  }
 },
 "nbformat": 4,
 "nbformat_minor": 4
}
