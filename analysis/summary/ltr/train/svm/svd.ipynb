{
 "cells": [
  {
   "cell_type": "code",
   "execution_count": 1,
   "metadata": {},
   "outputs": [],
   "source": [
    "MAIN_PATH = \"/home/carlos/MasterDS/tfm\"\n",
    "JSON_DATA_PATH = '{}/data/json/'.format(MAIN_PATH)\n",
    "CSV_DATA_PATH = '{}/data/csv/'.format(MAIN_PATH)"
   ]
  },
  {
   "cell_type": "code",
   "execution_count": 2,
   "metadata": {},
   "outputs": [],
   "source": [
    "import sys\n",
    "sys.path.insert(0, MAIN_PATH)"
   ]
  },
  {
   "cell_type": "code",
   "execution_count": 3,
   "metadata": {},
   "outputs": [],
   "source": [
    "import torch\n",
    "cuda = torch.device('cuda')"
   ]
  },
  {
   "cell_type": "code",
   "execution_count": 4,
   "metadata": {},
   "outputs": [],
   "source": [
    "%load_ext autoreload\n",
    "%autoreload 2\n",
    "from scripts.models.ltr_svm_tf.train import LTRSVMTFTrain\n",
    "from scripts.models.ltr_svm_tf.metrics import LTRSVMTFMetrics\n",
    "\n",
    "%reload_ext autoreload"
   ]
  },
  {
   "cell_type": "markdown",
   "metadata": {},
   "source": [
    "# Entrenamiento"
   ]
  },
  {
   "cell_type": "code",
   "execution_count": 5,
   "metadata": {},
   "outputs": [],
   "source": [
    "ltr_params = {\n",
    "    'mode': 'tfidf',\n",
    "    'count_vec_kwargs': {'strip_accents': 'unicode'},\n",
    "    'target_metric': 'cosine_emb',\n",
    "    'metric_params': {'embedding': 'distilroberta-base-paraphrase-v1',\n",
    "                     'text_process': 'basic'},\n",
    "    'drop_teams': True,\n",
    "    'lemma': True,\n",
    "    'train_perc': 0.7,\n",
    "    'val_perc': 0.2\n",
    "}\n",
    "\n",
    "dim_reduction_params = {\n",
    "    'dim_reduction': 'truncated_svd',\n",
    "    'dim_reduction_params': {\n",
    "        'n_components': 20,\n",
    "        'random_state': 10\n",
    "    }\n",
    "}\n",
    "\n",
    "model_params = {}"
   ]
  },
  {
   "cell_type": "code",
   "execution_count": 6,
   "metadata": {},
   "outputs": [
    {
     "name": "stdout",
     "output_type": "stream",
     "text": [
      "Setting target metric to cosine_emb\n",
      "Setting mode to tfidf\n",
      "Using truncated_svd for dimensionality reduction\n"
     ]
    }
   ],
   "source": [
    "ltr_train = LTRSVMTFTrain(model_params=model_params, ltr_params=ltr_params,\n",
    "                         dim_reduction_params=dim_reduction_params)"
   ]
  },
  {
   "cell_type": "code",
   "execution_count": 7,
   "metadata": {},
   "outputs": [
    {
     "data": {
      "text/plain": [
       "{'cv': 0,\n",
       " 'opt_metric': '',\n",
       " 'mode': 'tfidf',\n",
       " 'count_vec_kwargs': {'strip_accents': 'unicode'},\n",
       " 'target_metric': 'cosine_emb',\n",
       " 'metric_params': {'embedding': 'distilroberta-base-paraphrase-v1',\n",
       "  'text_process': 'basic'},\n",
       " 'drop_teams': True,\n",
       " 'lemma': True,\n",
       " 'train_perc': 0.7,\n",
       " 'val_perc': 0.2,\n",
       " 'dim_reduction': 'truncated_svd',\n",
       " 'dim_reduction_params': {'n_components': 250, 'random_state': 10}}"
      ]
     },
     "execution_count": 7,
     "metadata": {},
     "output_type": "execute_result"
    }
   ],
   "source": [
    "ltr_train.config()"
   ]
  },
  {
   "cell_type": "code",
   "execution_count": 13,
   "metadata": {},
   "outputs": [
    {
     "name": "stdout",
     "output_type": "stream",
     "text": [
      "Loading training data from /home/carlos/MasterDS/tfm/data/ltr/features_targets/c04dabab1a\n"
     ]
    }
   ],
   "source": [
    "X_train, y_train = ltr_train.train_data()"
   ]
  },
  {
   "cell_type": "code",
   "execution_count": 12,
   "metadata": {},
   "outputs": [
    {
     "data": {
      "text/plain": [
       "(339040, 6550)"
      ]
     },
     "execution_count": 12,
     "metadata": {},
     "output_type": "execute_result"
    }
   ],
   "source": [
    "X_train.shape"
   ]
  },
  {
   "cell_type": "code",
   "execution_count": 13,
   "metadata": {},
   "outputs": [
    {
     "data": {
      "text/plain": [
       "scipy.sparse.csr.csr_matrix"
      ]
     },
     "execution_count": 13,
     "metadata": {},
     "output_type": "execute_result"
    }
   ],
   "source": [
    "type(X_train)"
   ]
  },
  {
   "cell_type": "code",
   "execution_count": 7,
   "metadata": {},
   "outputs": [],
   "source": [
    "pipe = ltr_train.pipeline()"
   ]
  },
  {
   "cell_type": "code",
   "execution_count": 8,
   "metadata": {},
   "outputs": [
    {
     "data": {
      "text/plain": [
       "Pipeline(steps=[('dim_reduction',\n",
       "                 TruncatedSVD(n_components=20, random_state=10)),\n",
       "                ('model', SVR())])"
      ]
     },
     "execution_count": 8,
     "metadata": {},
     "output_type": "execute_result"
    }
   ],
   "source": [
    "pipe"
   ]
  },
  {
   "cell_type": "code",
   "execution_count": 38,
   "metadata": {},
   "outputs": [],
   "source": [
    "svd = pipe['dim_reduction']"
   ]
  },
  {
   "cell_type": "code",
   "execution_count": 39,
   "metadata": {},
   "outputs": [
    {
     "data": {
      "text/plain": [
       "TruncatedSVD(n_components=100, random_state=10)"
      ]
     },
     "execution_count": 39,
     "metadata": {},
     "output_type": "execute_result"
    }
   ],
   "source": [
    "svd"
   ]
  },
  {
   "cell_type": "code",
   "execution_count": 40,
   "metadata": {},
   "outputs": [
    {
     "data": {
      "text/plain": [
       "TruncatedSVD(n_components=100, random_state=10)"
      ]
     },
     "execution_count": 40,
     "metadata": {},
     "output_type": "execute_result"
    }
   ],
   "source": [
    "svd.fit(X_train)"
   ]
  },
  {
   "cell_type": "code",
   "execution_count": 32,
   "metadata": {},
   "outputs": [
    {
     "name": "stdout",
     "output_type": "stream",
     "text": [
      "[0.02235638 0.04210266 0.01812384 0.01580045 0.01313825 0.01410513\n",
      " 0.01334876 0.01266    0.01031466 0.00943746 0.00714626 0.00691487\n",
      " 0.00629958 0.00586444 0.00449015 0.00395849 0.0036879  0.00342522\n",
      " 0.00331367 0.00330109]\n"
     ]
    }
   ],
   "source": [
    "print(svd.explained_variance_ratio_)"
   ]
  },
  {
   "cell_type": "code",
   "execution_count": 41,
   "metadata": {},
   "outputs": [
    {
     "name": "stdout",
     "output_type": "stream",
     "text": [
      "0.3666228741949588\n"
     ]
    }
   ],
   "source": [
    "print(svd.explained_variance_ratio_.sum())"
   ]
  },
  {
   "cell_type": "markdown",
   "metadata": {},
   "source": [
    "Probamos distintos valores para ver cuanta varianza podemos capturar:"
   ]
  },
  {
   "cell_type": "code",
   "execution_count": 11,
   "metadata": {},
   "outputs": [],
   "source": [
    "from sklearn.decomposition import TruncatedSVD"
   ]
  },
  {
   "cell_type": "code",
   "execution_count": 10,
   "metadata": {},
   "outputs": [],
   "source": [
    "n_components_list = [20, 50, 100, 250]"
   ]
  },
  {
   "cell_type": "code",
   "execution_count": 14,
   "metadata": {},
   "outputs": [
    {
     "name": "stdout",
     "output_type": "stream",
     "text": [
      "20\n",
      "Training svd...\n",
      "50\n",
      "Training svd...\n",
      "100\n",
      "Training svd...\n",
      "250\n",
      "Training svd...\n"
     ]
    }
   ],
   "source": [
    "explained_variances = list()\n",
    "for n in n_components_list:\n",
    "    print(n)\n",
    "    svd = TruncatedSVD(n_components=n, random_state=10)\n",
    "    print('Training svd...')\n",
    "    svd = svd.fit(X_train)\n",
    "    explained_variances.append((n, svd.explained_variance_ratio_.sum()))"
   ]
  },
  {
   "cell_type": "markdown",
   "metadata": {},
   "source": [
    "Con 250 componentes se explica cerca del 50% de la varianza. Si \n",
    "ponemos más componentes casca por tamaño (la salida es una matriz densa)"
   ]
  },
  {
   "cell_type": "code",
   "execution_count": 15,
   "metadata": {},
   "outputs": [
    {
     "data": {
      "text/plain": [
       "[(20, 0.21978926148589364),\n",
       " (50, 0.2883908028467658),\n",
       " (100, 0.3666228741949588),\n",
       " (250, 0.519955898198082)]"
      ]
     },
     "execution_count": 15,
     "metadata": {},
     "output_type": "execute_result"
    }
   ],
   "source": [
    "explained_variances"
   ]
  },
  {
   "cell_type": "code",
   "execution_count": 16,
   "metadata": {},
   "outputs": [],
   "source": [
    "svd = TruncatedSVD(n_components=20, random_state=10)\n",
    "svd = svd.fit(X_train)"
   ]
  },
  {
   "cell_type": "code",
   "execution_count": 17,
   "metadata": {},
   "outputs": [],
   "source": [
    "X_train_tra = svd.transform(X_train)"
   ]
  },
  {
   "cell_type": "code",
   "execution_count": 18,
   "metadata": {},
   "outputs": [
    {
     "data": {
      "text/plain": [
       "array([[ 3.43874398e-01, -2.32942369e-01,  1.98446714e-07, ...,\n",
       "        -4.84087814e-02, -2.26805458e-02,  1.13433472e-01],\n",
       "       [ 2.01745808e-01,  2.98098643e-01, -3.69591577e-08, ...,\n",
       "        -1.08689428e-02, -1.74352421e-02, -2.26900103e-02],\n",
       "       [ 3.75387637e-02, -2.47268085e-02,  1.70828083e-07, ...,\n",
       "        -3.71039512e-02, -3.20342542e-02,  5.73265652e-03],\n",
       "       ...,\n",
       "       [ 2.07892441e-01,  3.12139384e-01, -8.10199924e-09, ...,\n",
       "        -1.02181457e-03,  4.57877857e-03,  2.29267605e-02],\n",
       "       [ 4.94864576e-03,  7.12811943e-04,  1.68627733e-07, ...,\n",
       "        -2.07370791e-02,  1.12016390e-02, -7.12703107e-03],\n",
       "       [ 1.57801917e-01,  2.35783731e-01, -7.17426905e-09, ...,\n",
       "         8.52643338e-04,  1.05394340e-03,  2.36059563e-02]])"
      ]
     },
     "execution_count": 18,
     "metadata": {},
     "output_type": "execute_result"
    }
   ],
   "source": [
    "X_train_tra"
   ]
  },
  {
   "cell_type": "code",
   "execution_count": 19,
   "metadata": {},
   "outputs": [
    {
     "data": {
      "text/plain": [
       "(339040, 20)"
      ]
     },
     "execution_count": 19,
     "metadata": {},
     "output_type": "execute_result"
    }
   ],
   "source": [
    "X_train_tra.shape"
   ]
  },
  {
   "cell_type": "code",
   "execution_count": 12,
   "metadata": {},
   "outputs": [
    {
     "data": {
      "text/plain": [
       "'/home/carlos/MasterDS/tfm/models/ltr_svm_tfidf/90ce3442c0'"
      ]
     },
     "execution_count": 12,
     "metadata": {},
     "output_type": "execute_result"
    }
   ],
   "source": [
    "ltr_train.path"
   ]
  },
  {
   "cell_type": "code",
   "execution_count": 20,
   "metadata": {},
   "outputs": [
    {
     "name": "stdout",
     "output_type": "stream",
     "text": [
      "Writing config in /home/carlos/MasterDS/tfm/models/ltr_svm_tfidf/4422e10011/config.pickle\n",
      "Loading training data from /home/carlos/MasterDS/tfm/data/ltr/features_targets/c04dabab1a\n",
      "Training model...\n",
      "Writing model to /home/carlos/MasterDS/tfm/models/ltr_svm_tfidf/4422e10011/ckpt.pickle\n",
      "Writing model info to /home/carlos/MasterDS/tfm/models/ltr_svm_tfidf/4422e10011/model_info.pickle\n",
      "CPU times: user 4h 25min 59s, sys: 6.82 s, total: 4h 26min 5s\n",
      "Wall time: 4h 25min 57s\n"
     ]
    }
   ],
   "source": [
    "%%time\n",
    "ltr_train.train()"
   ]
  },
  {
   "cell_type": "markdown",
   "metadata": {},
   "source": [
    "## Salida"
   ]
  },
  {
   "cell_type": "code",
   "execution_count": 21,
   "metadata": {},
   "outputs": [],
   "source": [
    "model = ltr_train.read_model()"
   ]
  },
  {
   "cell_type": "code",
   "execution_count": 22,
   "metadata": {},
   "outputs": [
    {
     "data": {
      "text/plain": [
       "Pipeline(steps=[('dim_reduction',\n",
       "                 TruncatedSVD(n_components=20, random_state=10)),\n",
       "                ('model', SVR())])"
      ]
     },
     "execution_count": 22,
     "metadata": {},
     "output_type": "execute_result"
    }
   ],
   "source": [
    "model"
   ]
  },
  {
   "cell_type": "code",
   "execution_count": 23,
   "metadata": {},
   "outputs": [],
   "source": [
    "model_info = ltr_train.read_model_info()"
   ]
  },
  {
   "cell_type": "code",
   "execution_count": 24,
   "metadata": {},
   "outputs": [
    {
     "data": {
      "text/plain": [
       "{'best_score': None,\n",
       " 'best_params': None,\n",
       " 'model_out': {'explained_variance': 0.21978926148589364}}"
      ]
     },
     "execution_count": 24,
     "metadata": {},
     "output_type": "execute_result"
    }
   ],
   "source": [
    "model_info"
   ]
  },
  {
   "cell_type": "markdown",
   "metadata": {},
   "source": [
    "## Métricas"
   ]
  },
  {
   "cell_type": "code",
   "execution_count": 7,
   "metadata": {},
   "outputs": [],
   "source": [
    "ltr_metrics = LTRSVMTFMetrics(ltr_train)"
   ]
  },
  {
   "cell_type": "code",
   "execution_count": 26,
   "metadata": {},
   "outputs": [
    {
     "name": "stdout",
     "output_type": "stream",
     "text": [
      "Computing metric for train dataset\n",
      "Writing metrics to /home/carlos/MasterDS/tfm/models/ltr_svm_tfidf/4422e10011/train_metrics.pickle\n",
      "Computing metric for validation dataset\n",
      "Writing metrics to /home/carlos/MasterDS/tfm/models/ltr_svm_tfidf/4422e10011/validation_metrics.pickle\n",
      "Computing metric for test dataset\n",
      "Writing metrics to /home/carlos/MasterDS/tfm/models/ltr_svm_tfidf/4422e10011/test_metrics.pickle\n"
     ]
    }
   ],
   "source": [
    "ltr_metrics.run()"
   ]
  },
  {
   "cell_type": "code",
   "execution_count": 27,
   "metadata": {},
   "outputs": [
    {
     "name": "stdout",
     "output_type": "stream",
     "text": [
      "Reading metrics from /home/carlos/MasterDS/tfm/models/ltr_svm_tfidf/4422e10011/train_metrics.pickle\n",
      "mse : 0.00625296869233683\n",
      "mae : 0.06228472608466589\n",
      "r2 : 0.4174475091401483\n"
     ]
    },
    {
     "data": {
      "image/png": "[encoded data removed]",
      "text/plain": [
       "<Figure size 720x360 with 2 Axes>"
      ]
     },
     "metadata": {
      "needs_background": "light"
     },
     "output_type": "display_data"
    },
    {
     "data": {
      "image/png": "[encoded data removed]",
      "text/plain": [
       "<Figure size 360x360 with 1 Axes>"
      ]
     },
     "metadata": {
      "needs_background": "light"
     },
     "output_type": "display_data"
    }
   ],
   "source": [
    "ltr_metrics.show_metrics('train')"
   ]
  },
  {
   "cell_type": "code",
   "execution_count": 28,
   "metadata": {},
   "outputs": [
    {
     "name": "stdout",
     "output_type": "stream",
     "text": [
      "Reading metrics from /home/carlos/MasterDS/tfm/models/ltr_svm_tfidf/4422e10011/validation_metrics.pickle\n",
      "mse : 0.00620041730343146\n",
      "mae : 0.06201236783480001\n",
      "r2 : 0.42049455382634704\n"
     ]
    },
    {
     "data": {
      "image/png": "[encoded data removed]",
      "text/plain": [
       "<Figure size 720x360 with 2 Axes>"
      ]
     },
     "metadata": {
      "needs_background": "light"
     },
     "output_type": "display_data"
    },
    {
     "data": {
      "image/png": "[encoded data removed]",
      "text/plain": [
       "<Figure size 360x360 with 1 Axes>"
      ]
     },
     "metadata": {
      "needs_background": "light"
     },
     "output_type": "display_data"
    }
   ],
   "source": [
    "ltr_metrics.show_metrics('validation')"
   ]
  },
  {
   "cell_type": "code",
   "execution_count": null,
   "metadata": {},
   "outputs": [],
   "source": []
  }
 ],
 "metadata": {
  "kernelspec": {
   "display_name": "Python 3",
   "language": "python",
   "name": "python3"
  },
  "language_info": {
   "codemirror_mode": {
    "name": "ipython",
    "version": 3
   },
   "file_extension": ".py",
   "mimetype": "text/x-python",
   "name": "python",
   "nbconvert_exporter": "python",
   "pygments_lexer": "ipython3",
   "version": "3.7.7"
  }
 },
 "nbformat": 4,
 "nbformat_minor": 4
}
