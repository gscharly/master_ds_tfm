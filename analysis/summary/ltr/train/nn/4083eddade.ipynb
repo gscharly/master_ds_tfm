{
 "cells": [
  {
   "cell_type": "code",
   "execution_count": 1,
   "metadata": {},
   "outputs": [],
   "source": [
    "MAIN_PATH = \"/home/carlos/MasterDS/tfm\"\n",
    "JSON_DATA_PATH = '{}/data/json/'.format(MAIN_PATH)\n",
    "CSV_DATA_PATH = '{}/data/csv/'.format(MAIN_PATH)"
   ]
  },
  {
   "cell_type": "code",
   "execution_count": 2,
   "metadata": {},
   "outputs": [],
   "source": [
    "import sys\n",
    "sys.path.insert(0, MAIN_PATH)"
   ]
  },
  {
   "cell_type": "code",
   "execution_count": 3,
   "metadata": {},
   "outputs": [],
   "source": [
    "%load_ext autoreload\n",
    "%autoreload 2\n",
    "from scripts.models.ltr_nn_tf.train import LTRNNTFTrain\n",
    "\n",
    "%reload_ext autoreload"
   ]
  },
  {
   "cell_type": "markdown",
   "metadata": {},
   "source": [
    "# Entrenamiento"
   ]
  },
  {
   "cell_type": "code",
   "execution_count": 7,
   "metadata": {},
   "outputs": [],
   "source": [
    "ltr_params = {\n",
    "    'mode': 'tfidf',\n",
    "    'count_vec_kwargs': {'strip_accents': 'unicode'},\n",
    "    'target_metric': 'rouge',\n",
    "    'metric_params': {'rouge_mode': 'rouge-1', 'rouge_metric': 'r'},\n",
    "    'drop_teams': True,\n",
    "    'lemma': True,\n",
    "    'train_perc': 0.7,\n",
    "    'val_perc': 0.2\n",
    "}\n",
    "DENSE_LAYERS = [500, 250, 125, 60, 20]\n",
    "N_DROPOUT = 4\n",
    "\n",
    "model_params = {\n",
    "    'dense_layers': DENSE_LAYERS,\n",
    "    'dense_activation': ['relu'] * len(DENSE_LAYERS),\n",
    "    'dropout': [0.3] * N_DROPOUT,\n",
    "    'optimizer': 'adam'\n",
    "}\n",
    "opt_metric = 'mean_squared_error'\n",
    "epochs = 25\n",
    "batch_size = 128\n",
    "# Not in config\n",
    "shuffle = True\n",
    "max_queue_size = 50"
   ]
  },
  {
   "cell_type": "code",
   "execution_count": 8,
   "metadata": {},
   "outputs": [
    {
     "name": "stdout",
     "output_type": "stream",
     "text": [
      "Adding 1 zeros so that params have the same length\n",
      "Setting target metric to rouge\n",
      "Setting mode to tfidf\n",
      "Optimizing mean_squared_error with adam\n",
      "Epochs: 25\n",
      "Batch size: 128\n"
     ]
    }
   ],
   "source": [
    "ltr_train = LTRNNTFTrain(ltr_params, epochs=epochs, batch_size=batch_size,\n",
    "                         model_params=model_params,\n",
    "                         opt_metric=opt_metric)"
   ]
  },
  {
   "cell_type": "code",
   "execution_count": 6,
   "metadata": {},
   "outputs": [
    {
     "name": "stdout",
     "output_type": "stream",
     "text": [
      "Loading training data from /home/carlos/MasterDS/tfm/data/ltr/features_targets/98a1222ae6\n",
      "Model: \"sequential\"\n",
      "_________________________________________________________________\n",
      "Layer (type)                 Output Shape              Param #   \n",
      "=================================================================\n",
      "dense (Dense)                (None, 500)               3275500   \n",
      "_________________________________________________________________\n",
      "dropout (Dropout)            (None, 500)               0         \n",
      "_________________________________________________________________\n",
      "dense_1 (Dense)              (None, 250)               125250    \n",
      "_________________________________________________________________\n",
      "dropout_1 (Dropout)          (None, 250)               0         \n",
      "_________________________________________________________________\n",
      "dense_2 (Dense)              (None, 125)               31375     \n",
      "_________________________________________________________________\n",
      "dropout_2 (Dropout)          (None, 125)               0         \n",
      "_________________________________________________________________\n",
      "dense_3 (Dense)              (None, 60)                7560      \n",
      "_________________________________________________________________\n",
      "dropout_3 (Dropout)          (None, 60)                0         \n",
      "_________________________________________________________________\n",
      "dense_4 (Dense)              (None, 20)                1220      \n",
      "_________________________________________________________________\n",
      "dense_5 (Dense)              (None, 1)                 21        \n",
      "=================================================================\n",
      "Total params: 3,440,926\n",
      "Trainable params: 3,440,926\n",
      "Non-trainable params: 0\n",
      "_________________________________________________________________\n"
     ]
    },
    {
     "data": {
      "text/plain": [
       "<tensorflow.python.keras.engine.sequential.Sequential at 0x7fb9542d8910>"
      ]
     },
     "execution_count": 6,
     "metadata": {},
     "output_type": "execute_result"
    }
   ],
   "source": [
    "ltr_train.pipeline()"
   ]
  },
  {
   "cell_type": "code",
   "execution_count": 9,
   "metadata": {},
   "outputs": [
    {
     "name": "stdout",
     "output_type": "stream",
     "text": [
      "Writing config in /home/carlos/MasterDS/tfm/models/ltr_nn_tfidf/4083eddade/config.pickle\n",
      "Loading training data from /home/carlos/MasterDS/tfm/data/ltr/features_targets/98a1222ae6\n",
      "Loading validation data from /home/carlos/MasterDS/tfm/data/ltr/features_targets/98a1222ae6\n",
      "Loading training data from /home/carlos/MasterDS/tfm/data/ltr/features_targets/98a1222ae6\n",
      "Model: \"sequential_1\"\n",
      "_________________________________________________________________\n",
      "Layer (type)                 Output Shape              Param #   \n",
      "=================================================================\n",
      "dense_6 (Dense)              (None, 500)               3275500   \n",
      "_________________________________________________________________\n",
      "dropout_4 (Dropout)          (None, 500)               0         \n",
      "_________________________________________________________________\n",
      "dense_7 (Dense)              (None, 250)               125250    \n",
      "_________________________________________________________________\n",
      "dropout_5 (Dropout)          (None, 250)               0         \n",
      "_________________________________________________________________\n",
      "dense_8 (Dense)              (None, 125)               31375     \n",
      "_________________________________________________________________\n",
      "dropout_6 (Dropout)          (None, 125)               0         \n",
      "_________________________________________________________________\n",
      "dense_9 (Dense)              (None, 60)                7560      \n",
      "_________________________________________________________________\n",
      "dropout_7 (Dropout)          (None, 60)                0         \n",
      "_________________________________________________________________\n",
      "dense_10 (Dense)             (None, 20)                1220      \n",
      "_________________________________________________________________\n",
      "dense_11 (Dense)             (None, 1)                 21        \n",
      "=================================================================\n",
      "Total params: 3,440,926\n",
      "Trainable params: 3,440,926\n",
      "Non-trainable params: 0\n",
      "_________________________________________________________________\n",
      "Training model...\n",
      "Epoch 1/25\n",
      "2649/2649 [==============================] - 75s 28ms/step - loss: 0.0142 - mean_squared_error: 0.0141 - mean_absolute_error: 0.0809 - val_loss: 0.0138 - val_mean_squared_error: 0.0138 - val_mean_absolute_error: 0.0795\n",
      "Epoch 2/25\n",
      "2649/2649 [==============================] - 72s 27ms/step - loss: 0.0134 - mean_squared_error: 0.0134 - mean_absolute_error: 0.0783 - val_loss: 0.0138 - val_mean_squared_error: 0.0138 - val_mean_absolute_error: 0.0785\n",
      "Epoch 3/25\n",
      "2649/2649 [==============================] - 71s 27ms/step - loss: 0.0130 - mean_squared_error: 0.0130 - mean_absolute_error: 0.0771 - val_loss: 0.0136 - val_mean_squared_error: 0.0136 - val_mean_absolute_error: 0.0798\n",
      "Epoch 4/25\n",
      "2649/2649 [==============================] - 71s 27ms/step - loss: 0.0127 - mean_squared_error: 0.0127 - mean_absolute_error: 0.0759 - val_loss: 0.0136 - val_mean_squared_error: 0.0136 - val_mean_absolute_error: 0.0792\n",
      "Epoch 5/25\n",
      "2649/2649 [==============================] - 71s 27ms/step - loss: 0.0123 - mean_squared_error: 0.0123 - mean_absolute_error: 0.0747 - val_loss: 0.0136 - val_mean_squared_error: 0.0136 - val_mean_absolute_error: 0.0775\n",
      "Epoch 6/25\n",
      "2649/2649 [==============================] - 72s 27ms/step - loss: 0.0120 - mean_squared_error: 0.0120 - mean_absolute_error: 0.0738 - val_loss: 0.0136 - val_mean_squared_error: 0.0136 - val_mean_absolute_error: 0.0786\n",
      "Epoch 7/25\n",
      "2649/2649 [==============================] - 72s 27ms/step - loss: 0.0117 - mean_squared_error: 0.0117 - mean_absolute_error: 0.0729 - val_loss: 0.0138 - val_mean_squared_error: 0.0138 - val_mean_absolute_error: 0.0789\n",
      "Epoch 8/25\n",
      "2649/2649 [==============================] - 75s 28ms/step - loss: 0.0115 - mean_squared_error: 0.0115 - mean_absolute_error: 0.0721 - val_loss: 0.0137 - val_mean_squared_error: 0.0137 - val_mean_absolute_error: 0.0798\n"
     ]
    }
   ],
   "source": [
    "ltr_train.train()"
   ]
  },
  {
   "cell_type": "code",
   "execution_count": 8,
   "metadata": {},
   "outputs": [
    {
     "name": "stdout",
     "output_type": "stream",
     "text": [
      "Loading training data from /home/carlos/MasterDS/tfm/data/ltr/features_targets/98a1222ae6\n"
     ]
    }
   ],
   "source": [
    "X_train, y_train = ltr_train.train_data()"
   ]
  },
  {
   "cell_type": "code",
   "execution_count": 8,
   "metadata": {},
   "outputs": [
    {
     "data": {
      "text/plain": [
       "numpy.ndarray"
      ]
     },
     "execution_count": 8,
     "metadata": {},
     "output_type": "execute_result"
    }
   ],
   "source": [
    "type(y_train)"
   ]
  },
  {
   "cell_type": "code",
   "execution_count": 9,
   "metadata": {},
   "outputs": [
    {
     "data": {
      "text/plain": [
       "scipy.sparse.csr.csr_matrix"
      ]
     },
     "execution_count": 9,
     "metadata": {},
     "output_type": "execute_result"
    }
   ],
   "source": [
    "type(X_train)"
   ]
  },
  {
   "cell_type": "code",
   "execution_count": 10,
   "metadata": {},
   "outputs": [
    {
     "data": {
      "text/plain": [
       "(339040, 6550)"
      ]
     },
     "execution_count": 10,
     "metadata": {},
     "output_type": "execute_result"
    }
   ],
   "source": [
    "X_train.shape"
   ]
  },
  {
   "cell_type": "code",
   "execution_count": null,
   "metadata": {},
   "outputs": [],
   "source": []
  }
 ],
 "metadata": {
  "kernelspec": {
   "display_name": "Python 3",
   "language": "python",
   "name": "python3"
  },
  "language_info": {
   "codemirror_mode": {
    "name": "ipython",
    "version": 3
   },
   "file_extension": ".py",
   "mimetype": "text/x-python",
   "name": "python",
   "nbconvert_exporter": "python",
   "pygments_lexer": "ipython3",
   "version": "3.7.7"
  }
 },
 "nbformat": 4,
 "nbformat_minor": 4
}
