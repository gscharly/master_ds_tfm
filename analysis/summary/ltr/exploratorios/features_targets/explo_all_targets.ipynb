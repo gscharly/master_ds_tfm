{
 "cells": [
  {
   "cell_type": "code",
   "execution_count": 1,
   "metadata": {},
   "outputs": [],
   "source": [
    "MAIN_PATH = \"/home/carlos/MasterDS/tfm\"\n",
    "JSON_DATA_PATH = '{}/data/json/'.format(MAIN_PATH)\n",
    "CSV_DATA_PATH = '{}/data/csv/'.format(MAIN_PATH)"
   ]
  },
  {
   "cell_type": "code",
   "execution_count": 2,
   "metadata": {},
   "outputs": [],
   "source": [
    "import sys\n",
    "sys.path.insert(0, MAIN_PATH)"
   ]
  },
  {
   "cell_type": "code",
   "execution_count": 3,
   "metadata": {},
   "outputs": [],
   "source": [
    "%load_ext autoreload\n",
    "%autoreload 2\n",
    "from scripts.extractive_summary.ltr.ltr_features_targets import LTRFeaturesTargets\n",
    "from scripts.text.article_text_processor import ArticleTextProcessor\n",
    "\n",
    "from scripts.conf import TEAMS\n",
    "%reload_ext autoreload"
   ]
  },
  {
   "cell_type": "code",
   "execution_count": 63,
   "metadata": {},
   "outputs": [],
   "source": [
    "import numpy as np\n",
    "import seaborn as sns\n",
    "import matplotlib.pyplot as plt"
   ]
  },
  {
   "cell_type": "markdown",
   "metadata": {},
   "source": [
    "# Estudio de variables para todos los scores (Memoria)"
   ]
  },
  {
   "cell_type": "markdown",
   "metadata": {},
   "source": [
    "## Carga de scores"
   ]
  },
  {
   "cell_type": "markdown",
   "metadata": {},
   "source": [
    "### ROUGE-1"
   ]
  },
  {
   "cell_type": "code",
   "execution_count": 4,
   "metadata": {},
   "outputs": [],
   "source": [
    "key_events = ['goal', 'red_card', 'penalty']\n",
    "lags = [1, 3, 5]\n",
    "target_metric = 'rouge'\n",
    "drop_teams = True\n",
    "lemma = True\n",
    "metric_params = {'rouge_mode': 'rouge-1', 'rouge_metric': 'r'}\n",
    "#metric_params = {'ngram_range': (1, 2), 'strip_accents': 'unicode'}\n",
    "count_vec_kwargs = {'ngram_range': (1, 2), 'strip_accents': 'unicode'}\n",
    "\n",
    "train_perc = 0.7\n",
    "val_perc = 0.2"
   ]
  },
  {
   "cell_type": "code",
   "execution_count": 5,
   "metadata": {},
   "outputs": [
    {
     "name": "stdout",
     "output_type": "stream",
     "text": [
      "Setting target metric to rouge\n"
     ]
    }
   ],
   "source": [
    "ltr = LTRFeaturesTargets(target_metric=target_metric, \n",
    "                        key_events=key_events,\n",
    "                        lags=lags,\n",
    "                        metric_params=metric_params,\n",
    "                        count_vec_kwargs=count_vec_kwargs,\n",
    "                        drop_teams=drop_teams,\n",
    "                        lemma=lemma)"
   ]
  },
  {
   "cell_type": "code",
   "execution_count": 6,
   "metadata": {},
   "outputs": [
    {
     "name": "stdout",
     "output_type": "stream",
     "text": [
      "Reading /home/carlos/MasterDS/tfm/data/ltr/features_targets/341d2aa93d/train.csv\n"
     ]
    }
   ],
   "source": [
    "train_rouge1 = ltr.read_train()"
   ]
  },
  {
   "cell_type": "code",
   "execution_count": 11,
   "metadata": {},
   "outputs": [],
   "source": [
    "train_rouge1.rename({'score': 'ROUGE-1'}, axis=1, inplace=True)"
   ]
  },
  {
   "cell_type": "markdown",
   "metadata": {},
   "source": [
    "### ROUGE-2"
   ]
  },
  {
   "cell_type": "code",
   "execution_count": 45,
   "metadata": {},
   "outputs": [],
   "source": [
    "key_events = ['goal', 'red_card', 'penalty']\n",
    "lags = [1, 3, 5]\n",
    "target_metric = 'rouge'\n",
    "drop_teams = True\n",
    "lemma = True\n",
    "metric_params = {'rouge_mode': 'rouge-2', 'rouge_metric': 'r'}\n",
    "#metric_params = {'ngram_range': (1, 2), 'strip_accents': 'unicode'}\n",
    "count_vec_kwargs = {'ngram_range': (1, 2), 'strip_accents': 'unicode'}\n",
    "\n",
    "train_perc = 0.7\n",
    "val_perc = 0.2"
   ]
  },
  {
   "cell_type": "code",
   "execution_count": 46,
   "metadata": {},
   "outputs": [
    {
     "name": "stdout",
     "output_type": "stream",
     "text": [
      "Setting target metric to rouge\n"
     ]
    }
   ],
   "source": [
    "ltr = LTRFeaturesTargets(target_metric=target_metric, \n",
    "                        key_events=key_events,\n",
    "                        lags=lags,\n",
    "                        metric_params=metric_params,\n",
    "                        count_vec_kwargs=count_vec_kwargs,\n",
    "                        drop_teams=drop_teams,\n",
    "                        lemma=lemma)"
   ]
  },
  {
   "cell_type": "code",
   "execution_count": 47,
   "metadata": {},
   "outputs": [
    {
     "name": "stdout",
     "output_type": "stream",
     "text": [
      "Reading /home/carlos/MasterDS/tfm/data/ltr/features_targets/3f1afb783e/train.csv\n"
     ]
    }
   ],
   "source": [
    "train_rouge2 = ltr.read_train()"
   ]
  },
  {
   "cell_type": "code",
   "execution_count": 48,
   "metadata": {},
   "outputs": [],
   "source": [
    "train_rouge2.rename({'score': 'ROUGE-2'}, axis=1, inplace=True)"
   ]
  },
  {
   "cell_type": "markdown",
   "metadata": {},
   "source": [
    "### ROUGE-L"
   ]
  },
  {
   "cell_type": "code",
   "execution_count": 8,
   "metadata": {},
   "outputs": [],
   "source": [
    "key_events = ['goal', 'red_card', 'penalty']\n",
    "lags = [1, 3, 5]\n",
    "target_metric = 'rouge'\n",
    "drop_teams = True\n",
    "lemma = True\n",
    "metric_params = {'rouge_mode': 'rouge-l', 'rouge_metric': 'r'}\n",
    "#metric_params = {'ngram_range': (1, 2), 'strip_accents': 'unicode'}\n",
    "count_vec_kwargs = {'ngram_range': (1, 2), 'strip_accents': 'unicode'}\n",
    "\n",
    "train_perc = 0.7\n",
    "val_perc = 0.2"
   ]
  },
  {
   "cell_type": "code",
   "execution_count": 9,
   "metadata": {},
   "outputs": [
    {
     "name": "stdout",
     "output_type": "stream",
     "text": [
      "Setting target metric to rouge\n"
     ]
    }
   ],
   "source": [
    "ltr = LTRFeaturesTargets(target_metric=target_metric, \n",
    "                        key_events=key_events,\n",
    "                        lags=lags,\n",
    "                        metric_params=metric_params,\n",
    "                        count_vec_kwargs=count_vec_kwargs,\n",
    "                        drop_teams=drop_teams,\n",
    "                        lemma=lemma)"
   ]
  },
  {
   "cell_type": "code",
   "execution_count": 10,
   "metadata": {},
   "outputs": [
    {
     "name": "stdout",
     "output_type": "stream",
     "text": [
      "Reading /home/carlos/MasterDS/tfm/data/ltr/features_targets/e80af5e93a/train.csv\n"
     ]
    }
   ],
   "source": [
    "train_rougeL = ltr.read_train()"
   ]
  },
  {
   "cell_type": "code",
   "execution_count": 14,
   "metadata": {},
   "outputs": [],
   "source": [
    "train_rougeL.rename({'score': 'ROUGE-L'}, axis=1, inplace=True)"
   ]
  },
  {
   "cell_type": "markdown",
   "metadata": {},
   "source": [
    "### Cosine TF"
   ]
  },
  {
   "cell_type": "code",
   "execution_count": 15,
   "metadata": {},
   "outputs": [],
   "source": [
    "key_events = ['goal', 'red_card', 'penalty']\n",
    "lags = [1, 3, 5]\n",
    "target_metric = 'cosine_tf'\n",
    "drop_teams = True\n",
    "lemma = True\n",
    "metric_params = {'ngram_range': (1, 2), 'strip_accents': 'unicode'}\n",
    "count_vec_kwargs = {'ngram_range': (1, 2), 'strip_accents': 'unicode'}\n",
    "\n",
    "train_perc = 0.7\n",
    "val_perc = 0.2"
   ]
  },
  {
   "cell_type": "code",
   "execution_count": 16,
   "metadata": {},
   "outputs": [
    {
     "name": "stdout",
     "output_type": "stream",
     "text": [
      "Setting target metric to cosine_tf\n"
     ]
    }
   ],
   "source": [
    "ltr = LTRFeaturesTargets(target_metric=target_metric, \n",
    "                        key_events=key_events,\n",
    "                        lags=lags,\n",
    "                        metric_params=metric_params,\n",
    "                        count_vec_kwargs=count_vec_kwargs,\n",
    "                        drop_teams=drop_teams,\n",
    "                        lemma=lemma)"
   ]
  },
  {
   "cell_type": "code",
   "execution_count": 17,
   "metadata": {},
   "outputs": [
    {
     "name": "stdout",
     "output_type": "stream",
     "text": [
      "Reading /home/carlos/MasterDS/tfm/data/ltr/features_targets/3b4d510625/train.csv\n"
     ]
    }
   ],
   "source": [
    "train_cosineTF = ltr.read_train()"
   ]
  },
  {
   "cell_type": "code",
   "execution_count": 18,
   "metadata": {},
   "outputs": [],
   "source": [
    "train_cosineTF.rename({'score': 'cosine-TF'}, axis=1, inplace=True)"
   ]
  },
  {
   "cell_type": "markdown",
   "metadata": {},
   "source": [
    "### Cosine TF-IDF"
   ]
  },
  {
   "cell_type": "code",
   "execution_count": 19,
   "metadata": {},
   "outputs": [],
   "source": [
    "key_events = ['goal', 'red_card', 'penalty']\n",
    "lags = [1, 3, 5]\n",
    "target_metric = 'cosine_tfidf'\n",
    "drop_teams = True\n",
    "lemma = True\n",
    "metric_params = {'ngram_range': (1, 2), 'strip_accents': 'unicode'}\n",
    "count_vec_kwargs = {'ngram_range': (1, 2), 'strip_accents': 'unicode'}\n",
    "\n",
    "train_perc = 0.7\n",
    "val_perc = 0.2"
   ]
  },
  {
   "cell_type": "code",
   "execution_count": 20,
   "metadata": {},
   "outputs": [
    {
     "name": "stdout",
     "output_type": "stream",
     "text": [
      "Setting target metric to cosine_tfidf\n"
     ]
    }
   ],
   "source": [
    "ltr = LTRFeaturesTargets(target_metric=target_metric, \n",
    "                        key_events=key_events,\n",
    "                        lags=lags,\n",
    "                        metric_params=metric_params,\n",
    "                        count_vec_kwargs=count_vec_kwargs,\n",
    "                        drop_teams=drop_teams,\n",
    "                        lemma=lemma)"
   ]
  },
  {
   "cell_type": "code",
   "execution_count": 21,
   "metadata": {},
   "outputs": [
    {
     "name": "stdout",
     "output_type": "stream",
     "text": [
      "Reading /home/carlos/MasterDS/tfm/data/ltr/features_targets/ca4ee45b98/train.csv\n"
     ]
    }
   ],
   "source": [
    "train_cosineTFIDF = ltr.read_train()"
   ]
  },
  {
   "cell_type": "code",
   "execution_count": 22,
   "metadata": {},
   "outputs": [],
   "source": [
    "train_cosineTFIDF.rename({'score': 'cosine-TFIDF'}, axis=1, inplace=True)"
   ]
  },
  {
   "cell_type": "markdown",
   "metadata": {},
   "source": [
    "### Cosine paraphrase"
   ]
  },
  {
   "cell_type": "code",
   "execution_count": 32,
   "metadata": {},
   "outputs": [],
   "source": [
    "key_events = ['goal', 'red_card', 'penalty']\n",
    "lags = [1, 3, 5]\n",
    "target_metric = 'cosine_emb'\n",
    "drop_teams = True\n",
    "lemma = True\n",
    "metric_params = {'embedding': 'distilroberta-base-paraphrase-v1',\n",
    "                'text_process': 'basic'}\n",
    "#metric_params = {'rouge_mode': 'rouge-1', 'rouge_metric': 'r'}\n",
    "#metric_params = {'ngram_range': (1, 2), 'strip_accents': 'unicode'}\n",
    "count_vec_kwargs = {'ngram_range': (1, 2), 'strip_accents': 'unicode'}\n",
    "\n",
    "train_perc = 0.7\n",
    "val_perc = 0.2"
   ]
  },
  {
   "cell_type": "code",
   "execution_count": 33,
   "metadata": {},
   "outputs": [
    {
     "name": "stdout",
     "output_type": "stream",
     "text": [
      "Setting target metric to cosine_emb\n"
     ]
    }
   ],
   "source": [
    "ltr = LTRFeaturesTargets(target_metric=target_metric, \n",
    "                        key_events=key_events,\n",
    "                        lags=lags,\n",
    "                        metric_params=metric_params,\n",
    "                        count_vec_kwargs=count_vec_kwargs,\n",
    "                        drop_teams=drop_teams,\n",
    "                        lemma=lemma)"
   ]
  },
  {
   "cell_type": "code",
   "execution_count": 34,
   "metadata": {},
   "outputs": [
    {
     "name": "stdout",
     "output_type": "stream",
     "text": [
      "Reading /home/carlos/MasterDS/tfm/data/ltr/features_targets/c03ce6bcfa/train.csv\n"
     ]
    }
   ],
   "source": [
    "train_cosine_para = ltr.read_train()"
   ]
  },
  {
   "cell_type": "code",
   "execution_count": 35,
   "metadata": {},
   "outputs": [],
   "source": [
    "train_cosine_para.rename({'score': 'cosine-embedding-paraphrase'}, axis=1, inplace=True)"
   ]
  },
  {
   "cell_type": "markdown",
   "metadata": {},
   "source": [
    "### Cosine SPS"
   ]
  },
  {
   "cell_type": "code",
   "execution_count": 36,
   "metadata": {},
   "outputs": [],
   "source": [
    "key_events = ['goal', 'red_card', 'penalty']\n",
    "lags = [1, 3, 5]\n",
    "target_metric = 'cosine_emb'\n",
    "drop_teams = True\n",
    "lemma = True\n",
    "metric_params = {'embedding': 'roberta-base-nli-stsb-mean-tokens',\n",
    "                'text_process': 'basic'}\n",
    "#metric_params = {'rouge_mode': 'rouge-1', 'rouge_metric': 'r'}\n",
    "#metric_params = {'ngram_range': (1, 2), 'strip_accents': 'unicode'}\n",
    "count_vec_kwargs = {'ngram_range': (1, 2), 'strip_accents': 'unicode'}\n",
    "\n",
    "train_perc = 0.7\n",
    "val_perc = 0.2"
   ]
  },
  {
   "cell_type": "code",
   "execution_count": 37,
   "metadata": {},
   "outputs": [
    {
     "name": "stdout",
     "output_type": "stream",
     "text": [
      "Setting target metric to cosine_emb\n"
     ]
    }
   ],
   "source": [
    "ltr = LTRFeaturesTargets(target_metric=target_metric, \n",
    "                        key_events=key_events,\n",
    "                        lags=lags,\n",
    "                        metric_params=metric_params,\n",
    "                        count_vec_kwargs=count_vec_kwargs,\n",
    "                        drop_teams=drop_teams,\n",
    "                        lemma=lemma)"
   ]
  },
  {
   "cell_type": "code",
   "execution_count": 29,
   "metadata": {},
   "outputs": [
    {
     "name": "stdout",
     "output_type": "stream",
     "text": [
      "Reading /home/carlos/MasterDS/tfm/data/ltr/features_targets/39aae2ada3/train.csv\n"
     ]
    }
   ],
   "source": [
    "train_cosine_sts = ltr.read_train()"
   ]
  },
  {
   "cell_type": "code",
   "execution_count": 38,
   "metadata": {},
   "outputs": [],
   "source": [
    "train_cosine_sts.rename({'score': 'cosine-embedding-sts'}, axis=1, inplace=True)"
   ]
  },
  {
   "cell_type": "markdown",
   "metadata": {},
   "source": [
    "## Combinación"
   ]
  },
  {
   "cell_type": "code",
   "execution_count": 51,
   "metadata": {},
   "outputs": [],
   "source": [
    "scores = ['ROUGE-1', 'ROUGE-2', 'ROUGE-L', 'cosine-TF', \n",
    "         'cosine-TFIDF', 'cosine-embedding-paraphrase', 'cosine-embedding-sts']"
   ]
  },
  {
   "cell_type": "code",
   "execution_count": 42,
   "metadata": {},
   "outputs": [],
   "source": [
    "unique_key_cols = ['event_ix', 'url', 'json_file']"
   ]
  },
  {
   "cell_type": "code",
   "execution_count": 54,
   "metadata": {},
   "outputs": [],
   "source": [
    "all_scores_df = (train_rouge1.join(train_rouge2['ROUGE-2'])\n",
    "                            .join(train_rougeL['ROUGE-L'])\n",
    "                            .join(train_cosineTF['cosine-TF'])\n",
    "                            .join(train_cosineTFIDF['cosine-TFIDF'])\n",
    "                            .join(train_cosine_para['cosine-embedding-paraphrase'])\n",
    "                            .join(train_cosine_sts['cosine-embedding-sts']))"
   ]
  },
  {
   "cell_type": "code",
   "execution_count": 55,
   "metadata": {},
   "outputs": [
    {
     "data": {
      "text/html": [
       "<div>\n",
       "<style scoped>\n",
       "    .dataframe tbody tr th:only-of-type {\n",
       "        vertical-align: middle;\n",
       "    }\n",
       "\n",
       "    .dataframe tbody tr th {\n",
       "        vertical-align: top;\n",
       "    }\n",
       "\n",
       "    .dataframe thead th {\n",
       "        text-align: right;\n",
       "    }\n",
       "</style>\n",
       "<table border=\"1\" class=\"dataframe\">\n",
       "  <thead>\n",
       "    <tr style=\"text-align: right;\">\n",
       "      <th></th>\n",
       "      <th>length</th>\n",
       "      <th>n_stop</th>\n",
       "      <th>is_key_event</th>\n",
       "      <th>n_players</th>\n",
       "      <th>players_importance</th>\n",
       "      <th>advantage</th>\n",
       "      <th>equalize</th>\n",
       "      <th>position</th>\n",
       "      <th>tfidf_sum</th>\n",
       "      <th>sim_previous_1</th>\n",
       "      <th>...</th>\n",
       "      <th>url</th>\n",
       "      <th>json_file</th>\n",
       "      <th>sentence_ix</th>\n",
       "      <th>ROUGE-1</th>\n",
       "      <th>ROUGE-2</th>\n",
       "      <th>ROUGE-L</th>\n",
       "      <th>cosine-TF</th>\n",
       "      <th>cosine-TFIDF</th>\n",
       "      <th>cosine-embedding-paraphrase</th>\n",
       "      <th>cosine-embedding-sts</th>\n",
       "    </tr>\n",
       "  </thead>\n",
       "  <tbody>\n",
       "    <tr>\n",
       "      <th>0</th>\n",
       "      <td>7</td>\n",
       "      <td>3</td>\n",
       "      <td>0</td>\n",
       "      <td>1</td>\n",
       "      <td>0.000047</td>\n",
       "      <td>0</td>\n",
       "      <td>0</td>\n",
       "      <td>0.494624</td>\n",
       "      <td>3.512653</td>\n",
       "      <td>0.046495</td>\n",
       "      <td>...</td>\n",
       "      <td>https://www.bbc.com/sport/football/50869592</td>\n",
       "      <td>italian_serie_a_2019_2020.json</td>\n",
       "      <td>5</td>\n",
       "      <td>0.166667</td>\n",
       "      <td>0.000000</td>\n",
       "      <td>0.166667</td>\n",
       "      <td>0.301511</td>\n",
       "      <td>0.232623</td>\n",
       "      <td>0.300172</td>\n",
       "      <td>0.556388</td>\n",
       "    </tr>\n",
       "    <tr>\n",
       "      <th>1</th>\n",
       "      <td>3</td>\n",
       "      <td>1</td>\n",
       "      <td>0</td>\n",
       "      <td>1</td>\n",
       "      <td>0.001084</td>\n",
       "      <td>0</td>\n",
       "      <td>0</td>\n",
       "      <td>0.360000</td>\n",
       "      <td>2.198599</td>\n",
       "      <td>0.000000</td>\n",
       "      <td>...</td>\n",
       "      <td>http://www.premierleague.com/match/46691</td>\n",
       "      <td>premier_league_2019_2020.json</td>\n",
       "      <td>0</td>\n",
       "      <td>0.000000</td>\n",
       "      <td>0.000000</td>\n",
       "      <td>0.000000</td>\n",
       "      <td>0.000000</td>\n",
       "      <td>0.000000</td>\n",
       "      <td>0.178952</td>\n",
       "      <td>0.312147</td>\n",
       "    </tr>\n",
       "    <tr>\n",
       "      <th>2</th>\n",
       "      <td>15</td>\n",
       "      <td>10</td>\n",
       "      <td>0</td>\n",
       "      <td>2</td>\n",
       "      <td>0.003998</td>\n",
       "      <td>0</td>\n",
       "      <td>0</td>\n",
       "      <td>0.670732</td>\n",
       "      <td>5.068378</td>\n",
       "      <td>0.000000</td>\n",
       "      <td>...</td>\n",
       "      <td>https://matchcenter.mlssoccer.com/matchcenter/...</td>\n",
       "      <td>mls_2019_2020.json</td>\n",
       "      <td>6</td>\n",
       "      <td>0.200000</td>\n",
       "      <td>0.052632</td>\n",
       "      <td>0.150000</td>\n",
       "      <td>0.339683</td>\n",
       "      <td>0.350193</td>\n",
       "      <td>0.408791</td>\n",
       "      <td>0.530172</td>\n",
       "    </tr>\n",
       "    <tr>\n",
       "      <th>3</th>\n",
       "      <td>4</td>\n",
       "      <td>1</td>\n",
       "      <td>0</td>\n",
       "      <td>1</td>\n",
       "      <td>0.000291</td>\n",
       "      <td>0</td>\n",
       "      <td>0</td>\n",
       "      <td>0.450549</td>\n",
       "      <td>2.558036</td>\n",
       "      <td>0.000000</td>\n",
       "      <td>...</td>\n",
       "      <td>https://matchcenter.mlssoccer.com/matchcenter/...</td>\n",
       "      <td>mls_2016_2017.json</td>\n",
       "      <td>16</td>\n",
       "      <td>0.333333</td>\n",
       "      <td>0.000000</td>\n",
       "      <td>0.333333</td>\n",
       "      <td>0.316228</td>\n",
       "      <td>0.176773</td>\n",
       "      <td>0.438142</td>\n",
       "      <td>0.395272</td>\n",
       "    </tr>\n",
       "    <tr>\n",
       "      <th>4</th>\n",
       "      <td>3</td>\n",
       "      <td>1</td>\n",
       "      <td>0</td>\n",
       "      <td>1</td>\n",
       "      <td>0.001004</td>\n",
       "      <td>0</td>\n",
       "      <td>0</td>\n",
       "      <td>0.254902</td>\n",
       "      <td>2.188177</td>\n",
       "      <td>0.000000</td>\n",
       "      <td>...</td>\n",
       "      <td>https://matchcenter.mlssoccer.com/matchcenter/...</td>\n",
       "      <td>mls_2017_2018.json</td>\n",
       "      <td>0</td>\n",
       "      <td>0.000000</td>\n",
       "      <td>0.000000</td>\n",
       "      <td>0.000000</td>\n",
       "      <td>0.000000</td>\n",
       "      <td>0.000000</td>\n",
       "      <td>0.156053</td>\n",
       "      <td>0.199500</td>\n",
       "    </tr>\n",
       "    <tr>\n",
       "      <th>...</th>\n",
       "      <td>...</td>\n",
       "      <td>...</td>\n",
       "      <td>...</td>\n",
       "      <td>...</td>\n",
       "      <td>...</td>\n",
       "      <td>...</td>\n",
       "      <td>...</td>\n",
       "      <td>...</td>\n",
       "      <td>...</td>\n",
       "      <td>...</td>\n",
       "      <td>...</td>\n",
       "      <td>...</td>\n",
       "      <td>...</td>\n",
       "      <td>...</td>\n",
       "      <td>...</td>\n",
       "      <td>...</td>\n",
       "      <td>...</td>\n",
       "      <td>...</td>\n",
       "      <td>...</td>\n",
       "      <td>...</td>\n",
       "      <td>...</td>\n",
       "    </tr>\n",
       "    <tr>\n",
       "      <th>296655</th>\n",
       "      <td>6</td>\n",
       "      <td>3</td>\n",
       "      <td>0</td>\n",
       "      <td>1</td>\n",
       "      <td>0.000217</td>\n",
       "      <td>0</td>\n",
       "      <td>0</td>\n",
       "      <td>0.084906</td>\n",
       "      <td>3.147186</td>\n",
       "      <td>0.000000</td>\n",
       "      <td>...</td>\n",
       "      <td>https://matchcenter.mlssoccer.com/matchcenter/...</td>\n",
       "      <td>mls_2019_2020.json</td>\n",
       "      <td>7</td>\n",
       "      <td>0.500000</td>\n",
       "      <td>0.000000</td>\n",
       "      <td>0.500000</td>\n",
       "      <td>0.436436</td>\n",
       "      <td>0.347086</td>\n",
       "      <td>0.378528</td>\n",
       "      <td>0.608144</td>\n",
       "    </tr>\n",
       "    <tr>\n",
       "      <th>296656</th>\n",
       "      <td>7</td>\n",
       "      <td>4</td>\n",
       "      <td>0</td>\n",
       "      <td>1</td>\n",
       "      <td>0.006701</td>\n",
       "      <td>0</td>\n",
       "      <td>0</td>\n",
       "      <td>0.066667</td>\n",
       "      <td>3.549072</td>\n",
       "      <td>0.000000</td>\n",
       "      <td>...</td>\n",
       "      <td>http://www.premierleague.com/match/38516</td>\n",
       "      <td>premier_league_2018_2019.json</td>\n",
       "      <td>1</td>\n",
       "      <td>0.083333</td>\n",
       "      <td>0.000000</td>\n",
       "      <td>0.083333</td>\n",
       "      <td>0.208514</td>\n",
       "      <td>0.181246</td>\n",
       "      <td>0.445381</td>\n",
       "      <td>0.498991</td>\n",
       "    </tr>\n",
       "    <tr>\n",
       "      <th>296657</th>\n",
       "      <td>8</td>\n",
       "      <td>4</td>\n",
       "      <td>0</td>\n",
       "      <td>1</td>\n",
       "      <td>0.000036</td>\n",
       "      <td>0</td>\n",
       "      <td>0</td>\n",
       "      <td>0.045802</td>\n",
       "      <td>3.655166</td>\n",
       "      <td>0.000000</td>\n",
       "      <td>...</td>\n",
       "      <td>https://www.espn.com/soccer/report?gameId=491517</td>\n",
       "      <td>italian_serie_a_2017_2018.json</td>\n",
       "      <td>9</td>\n",
       "      <td>0.100000</td>\n",
       "      <td>0.000000</td>\n",
       "      <td>0.100000</td>\n",
       "      <td>0.229416</td>\n",
       "      <td>0.204400</td>\n",
       "      <td>0.334733</td>\n",
       "      <td>0.545798</td>\n",
       "    </tr>\n",
       "    <tr>\n",
       "      <th>296658</th>\n",
       "      <td>3</td>\n",
       "      <td>1</td>\n",
       "      <td>0</td>\n",
       "      <td>1</td>\n",
       "      <td>0.001069</td>\n",
       "      <td>0</td>\n",
       "      <td>0</td>\n",
       "      <td>0.114286</td>\n",
       "      <td>2.206885</td>\n",
       "      <td>1.000000</td>\n",
       "      <td>...</td>\n",
       "      <td>https://matchcenter.mlssoccer.com/matchcenter/...</td>\n",
       "      <td>mls_2017_2018.json</td>\n",
       "      <td>0</td>\n",
       "      <td>0.000000</td>\n",
       "      <td>0.000000</td>\n",
       "      <td>0.000000</td>\n",
       "      <td>0.000000</td>\n",
       "      <td>0.000000</td>\n",
       "      <td>0.182299</td>\n",
       "      <td>0.148469</td>\n",
       "    </tr>\n",
       "    <tr>\n",
       "      <th>296659</th>\n",
       "      <td>3</td>\n",
       "      <td>1</td>\n",
       "      <td>0</td>\n",
       "      <td>1</td>\n",
       "      <td>0.000922</td>\n",
       "      <td>0</td>\n",
       "      <td>0</td>\n",
       "      <td>0.792453</td>\n",
       "      <td>2.196698</td>\n",
       "      <td>0.000000</td>\n",
       "      <td>...</td>\n",
       "      <td>https://matchcenter.mlssoccer.com/matchcenter/...</td>\n",
       "      <td>mls_2018_2019.json</td>\n",
       "      <td>0</td>\n",
       "      <td>0.000000</td>\n",
       "      <td>0.000000</td>\n",
       "      <td>0.000000</td>\n",
       "      <td>0.000000</td>\n",
       "      <td>0.000000</td>\n",
       "      <td>0.306296</td>\n",
       "      <td>0.233222</td>\n",
       "    </tr>\n",
       "  </tbody>\n",
       "</table>\n",
       "<p>296660 rows × 23 columns</p>\n",
       "</div>"
      ],
      "text/plain": [
       "        length  n_stop  is_key_event  n_players  players_importance  \\\n",
       "0            7       3             0          1            0.000047   \n",
       "1            3       1             0          1            0.001084   \n",
       "2           15      10             0          2            0.003998   \n",
       "3            4       1             0          1            0.000291   \n",
       "4            3       1             0          1            0.001004   \n",
       "...        ...     ...           ...        ...                 ...   \n",
       "296655       6       3             0          1            0.000217   \n",
       "296656       7       4             0          1            0.006701   \n",
       "296657       8       4             0          1            0.000036   \n",
       "296658       3       1             0          1            0.001069   \n",
       "296659       3       1             0          1            0.000922   \n",
       "\n",
       "        advantage  equalize  position  tfidf_sum  sim_previous_1  ...  \\\n",
       "0               0         0  0.494624   3.512653        0.046495  ...   \n",
       "1               0         0  0.360000   2.198599        0.000000  ...   \n",
       "2               0         0  0.670732   5.068378        0.000000  ...   \n",
       "3               0         0  0.450549   2.558036        0.000000  ...   \n",
       "4               0         0  0.254902   2.188177        0.000000  ...   \n",
       "...           ...       ...       ...        ...             ...  ...   \n",
       "296655          0         0  0.084906   3.147186        0.000000  ...   \n",
       "296656          0         0  0.066667   3.549072        0.000000  ...   \n",
       "296657          0         0  0.045802   3.655166        0.000000  ...   \n",
       "296658          0         0  0.114286   2.206885        1.000000  ...   \n",
       "296659          0         0  0.792453   2.196698        0.000000  ...   \n",
       "\n",
       "                                                      url  \\\n",
       "0             https://www.bbc.com/sport/football/50869592   \n",
       "1                http://www.premierleague.com/match/46691   \n",
       "2       https://matchcenter.mlssoccer.com/matchcenter/...   \n",
       "3       https://matchcenter.mlssoccer.com/matchcenter/...   \n",
       "4       https://matchcenter.mlssoccer.com/matchcenter/...   \n",
       "...                                                   ...   \n",
       "296655  https://matchcenter.mlssoccer.com/matchcenter/...   \n",
       "296656           http://www.premierleague.com/match/38516   \n",
       "296657   https://www.espn.com/soccer/report?gameId=491517   \n",
       "296658  https://matchcenter.mlssoccer.com/matchcenter/...   \n",
       "296659  https://matchcenter.mlssoccer.com/matchcenter/...   \n",
       "\n",
       "                             json_file  sentence_ix   ROUGE-1   ROUGE-2  \\\n",
       "0       italian_serie_a_2019_2020.json            5  0.166667  0.000000   \n",
       "1        premier_league_2019_2020.json            0  0.000000  0.000000   \n",
       "2                   mls_2019_2020.json            6  0.200000  0.052632   \n",
       "3                   mls_2016_2017.json           16  0.333333  0.000000   \n",
       "4                   mls_2017_2018.json            0  0.000000  0.000000   \n",
       "...                                ...          ...       ...       ...   \n",
       "296655              mls_2019_2020.json            7  0.500000  0.000000   \n",
       "296656   premier_league_2018_2019.json            1  0.083333  0.000000   \n",
       "296657  italian_serie_a_2017_2018.json            9  0.100000  0.000000   \n",
       "296658              mls_2017_2018.json            0  0.000000  0.000000   \n",
       "296659              mls_2018_2019.json            0  0.000000  0.000000   \n",
       "\n",
       "         ROUGE-L  cosine-TF  cosine-TFIDF  cosine-embedding-paraphrase  \\\n",
       "0       0.166667   0.301511      0.232623                     0.300172   \n",
       "1       0.000000   0.000000      0.000000                     0.178952   \n",
       "2       0.150000   0.339683      0.350193                     0.408791   \n",
       "3       0.333333   0.316228      0.176773                     0.438142   \n",
       "4       0.000000   0.000000      0.000000                     0.156053   \n",
       "...          ...        ...           ...                          ...   \n",
       "296655  0.500000   0.436436      0.347086                     0.378528   \n",
       "296656  0.083333   0.208514      0.181246                     0.445381   \n",
       "296657  0.100000   0.229416      0.204400                     0.334733   \n",
       "296658  0.000000   0.000000      0.000000                     0.182299   \n",
       "296659  0.000000   0.000000      0.000000                     0.306296   \n",
       "\n",
       "        cosine-embedding-sts  \n",
       "0                   0.556388  \n",
       "1                   0.312147  \n",
       "2                   0.530172  \n",
       "3                   0.395272  \n",
       "4                   0.199500  \n",
       "...                      ...  \n",
       "296655              0.608144  \n",
       "296656              0.498991  \n",
       "296657              0.545798  \n",
       "296658              0.148469  \n",
       "296659              0.233222  \n",
       "\n",
       "[296660 rows x 23 columns]"
      ]
     },
     "execution_count": 55,
     "metadata": {},
     "output_type": "execute_result"
    }
   ],
   "source": [
    "all_scores_df"
   ]
  },
  {
   "cell_type": "code",
   "execution_count": 95,
   "metadata": {},
   "outputs": [
    {
     "data": {
      "text/plain": [
       "4522"
      ]
     },
     "execution_count": 95,
     "metadata": {},
     "output_type": "execute_result"
    }
   ],
   "source": [
    "len(all_scores_df['url'].unique())"
   ]
  },
  {
   "cell_type": "code",
   "execution_count": null,
   "metadata": {},
   "outputs": [],
   "source": []
  },
  {
   "cell_type": "markdown",
   "metadata": {},
   "source": [
    "## Lengths, stop y tfidf"
   ]
  },
  {
   "cell_type": "code",
   "execution_count": 56,
   "metadata": {},
   "outputs": [],
   "source": [
    "cols = ['length', 'n_stop', 'tfidf_sum']"
   ]
  },
  {
   "cell_type": "code",
   "execution_count": 70,
   "metadata": {},
   "outputs": [],
   "source": [
    "ini_corr = all_scores_df[cols].corr()"
   ]
  },
  {
   "cell_type": "code",
   "execution_count": 71,
   "metadata": {},
   "outputs": [
    {
     "data": {
      "text/html": [
       "<div>\n",
       "<style scoped>\n",
       "    .dataframe tbody tr th:only-of-type {\n",
       "        vertical-align: middle;\n",
       "    }\n",
       "\n",
       "    .dataframe tbody tr th {\n",
       "        vertical-align: top;\n",
       "    }\n",
       "\n",
       "    .dataframe thead th {\n",
       "        text-align: right;\n",
       "    }\n",
       "</style>\n",
       "<table border=\"1\" class=\"dataframe\">\n",
       "  <thead>\n",
       "    <tr style=\"text-align: right;\">\n",
       "      <th></th>\n",
       "      <th>length</th>\n",
       "      <th>n_stop</th>\n",
       "      <th>tfidf_sum</th>\n",
       "    </tr>\n",
       "  </thead>\n",
       "  <tbody>\n",
       "    <tr>\n",
       "      <th>length</th>\n",
       "      <td>1.000000</td>\n",
       "      <td>0.890823</td>\n",
       "      <td>0.984704</td>\n",
       "    </tr>\n",
       "    <tr>\n",
       "      <th>n_stop</th>\n",
       "      <td>0.890823</td>\n",
       "      <td>1.000000</td>\n",
       "      <td>0.857529</td>\n",
       "    </tr>\n",
       "    <tr>\n",
       "      <th>tfidf_sum</th>\n",
       "      <td>0.984704</td>\n",
       "      <td>0.857529</td>\n",
       "      <td>1.000000</td>\n",
       "    </tr>\n",
       "  </tbody>\n",
       "</table>\n",
       "</div>"
      ],
      "text/plain": [
       "             length    n_stop  tfidf_sum\n",
       "length     1.000000  0.890823   0.984704\n",
       "n_stop     0.890823  1.000000   0.857529\n",
       "tfidf_sum  0.984704  0.857529   1.000000"
      ]
     },
     "execution_count": 71,
     "metadata": {},
     "output_type": "execute_result"
    }
   ],
   "source": [
    "ini_corr"
   ]
  },
  {
   "cell_type": "code",
   "execution_count": 74,
   "metadata": {},
   "outputs": [],
   "source": [
    "for score in scores:\n",
    "    corr_score_df = all_scores_df[cols + [score]].corr()\n",
    "    ini_corr[score] = corr_score_df[score].iloc[:-1].copy()"
   ]
  },
  {
   "cell_type": "code",
   "execution_count": 75,
   "metadata": {},
   "outputs": [
    {
     "data": {
      "text/html": [
       "<div>\n",
       "<style scoped>\n",
       "    .dataframe tbody tr th:only-of-type {\n",
       "        vertical-align: middle;\n",
       "    }\n",
       "\n",
       "    .dataframe tbody tr th {\n",
       "        vertical-align: top;\n",
       "    }\n",
       "\n",
       "    .dataframe thead th {\n",
       "        text-align: right;\n",
       "    }\n",
       "</style>\n",
       "<table border=\"1\" class=\"dataframe\">\n",
       "  <thead>\n",
       "    <tr style=\"text-align: right;\">\n",
       "      <th></th>\n",
       "      <th>length</th>\n",
       "      <th>n_stop</th>\n",
       "      <th>tfidf_sum</th>\n",
       "      <th>ROUGE-1</th>\n",
       "      <th>ROUGE-2</th>\n",
       "      <th>ROUGE-L</th>\n",
       "      <th>cosine-TF</th>\n",
       "      <th>cosine-TFIDF</th>\n",
       "      <th>cosine-embedding-paraphrase</th>\n",
       "      <th>cosine-embedding-sts</th>\n",
       "    </tr>\n",
       "  </thead>\n",
       "  <tbody>\n",
       "    <tr>\n",
       "      <th>length</th>\n",
       "      <td>1.000000</td>\n",
       "      <td>0.890823</td>\n",
       "      <td>0.984704</td>\n",
       "      <td>0.347683</td>\n",
       "      <td>0.215274</td>\n",
       "      <td>0.323809</td>\n",
       "      <td>0.306204</td>\n",
       "      <td>0.305288</td>\n",
       "      <td>0.466691</td>\n",
       "      <td>0.617788</td>\n",
       "    </tr>\n",
       "    <tr>\n",
       "      <th>n_stop</th>\n",
       "      <td>0.890823</td>\n",
       "      <td>1.000000</td>\n",
       "      <td>0.857529</td>\n",
       "      <td>0.314077</td>\n",
       "      <td>0.178149</td>\n",
       "      <td>0.290068</td>\n",
       "      <td>0.258892</td>\n",
       "      <td>0.257746</td>\n",
       "      <td>0.416974</td>\n",
       "      <td>0.562805</td>\n",
       "    </tr>\n",
       "    <tr>\n",
       "      <th>tfidf_sum</th>\n",
       "      <td>0.984704</td>\n",
       "      <td>0.857529</td>\n",
       "      <td>1.000000</td>\n",
       "      <td>0.365429</td>\n",
       "      <td>0.220681</td>\n",
       "      <td>0.343001</td>\n",
       "      <td>0.334115</td>\n",
       "      <td>0.332703</td>\n",
       "      <td>0.491945</td>\n",
       "      <td>0.661114</td>\n",
       "    </tr>\n",
       "  </tbody>\n",
       "</table>\n",
       "</div>"
      ],
      "text/plain": [
       "             length    n_stop  tfidf_sum   ROUGE-1   ROUGE-2   ROUGE-L  \\\n",
       "length     1.000000  0.890823   0.984704  0.347683  0.215274  0.323809   \n",
       "n_stop     0.890823  1.000000   0.857529  0.314077  0.178149  0.290068   \n",
       "tfidf_sum  0.984704  0.857529   1.000000  0.365429  0.220681  0.343001   \n",
       "\n",
       "           cosine-TF  cosine-TFIDF  cosine-embedding-paraphrase  \\\n",
       "length      0.306204      0.305288                     0.466691   \n",
       "n_stop      0.258892      0.257746                     0.416974   \n",
       "tfidf_sum   0.334115      0.332703                     0.491945   \n",
       "\n",
       "           cosine-embedding-sts  \n",
       "length                 0.617788  \n",
       "n_stop                 0.562805  \n",
       "tfidf_sum              0.661114  "
      ]
     },
     "execution_count": 75,
     "metadata": {},
     "output_type": "execute_result"
    }
   ],
   "source": [
    "ini_corr"
   ]
  },
  {
   "cell_type": "code",
   "execution_count": 94,
   "metadata": {},
   "outputs": [
    {
     "data": {
      "image/png": "[encoded data removed]",
      "text/plain": [
       "<Figure size 1080x360 with 2 Axes>"
      ]
     },
     "metadata": {
      "needs_background": "light"
     },
     "output_type": "display_data"
    }
   ],
   "source": [
    "plt.figure(figsize=(15,5))\n",
    "sns.heatmap(ini_corr, cmap='Blues', annot=True)\n",
    "plt.xticks(rotation=45)\n",
    "plt.yticks(rotation=45)\n",
    "plt.show()"
   ]
  },
  {
   "cell_type": "code",
   "execution_count": null,
   "metadata": {},
   "outputs": [],
   "source": []
  },
  {
   "cell_type": "code",
   "execution_count": null,
   "metadata": {},
   "outputs": [],
   "source": []
  }
 ],
 "metadata": {
  "kernelspec": {
   "display_name": "Python 3",
   "language": "python",
   "name": "python3"
  },
  "language_info": {
   "codemirror_mode": {
    "name": "ipython",
    "version": 3
   },
   "file_extension": ".py",
   "mimetype": "text/x-python",
   "name": "python",
   "nbconvert_exporter": "python",
   "pygments_lexer": "ipython3",
   "version": "3.7.7"
  }
 },
 "nbformat": 4,
 "nbformat_minor": 4
}
