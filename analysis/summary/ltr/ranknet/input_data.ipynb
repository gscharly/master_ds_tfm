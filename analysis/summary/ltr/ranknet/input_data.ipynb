{
 "cells": [
  {
   "cell_type": "code",
   "execution_count": 1,
   "metadata": {},
   "outputs": [],
   "source": [
    "MAIN_PATH = \"/home/carlos/MasterDS/tfm\"\n",
    "JSON_DATA_PATH = '{}/data/json/'.format(MAIN_PATH)\n",
    "CSV_DATA_PATH = '{}/data/csv/'.format(MAIN_PATH)"
   ]
  },
  {
   "cell_type": "code",
   "execution_count": 2,
   "metadata": {},
   "outputs": [],
   "source": [
    "import sys\n",
    "sys.path.insert(0, MAIN_PATH)"
   ]
  },
  {
   "cell_type": "code",
   "execution_count": 3,
   "metadata": {},
   "outputs": [],
   "source": [
    "%load_ext autorLTRFeaturesTF\n",
    "%autoreload 2\n",
    "from scripts.extractive_summary.ltr.ltr_targets import LTRTargets\n",
    "from scripts.extractive_summary.ltr.ltr_features_tf import LTRFeaturesTF\n",
    "%reload_ext autoreload"
   ]
  },
  {
   "cell_type": "markdown",
   "metadata": {},
   "source": [
    "# Ranknet: datos de entrada"
   ]
  },
  {
   "cell_type": "markdown",
   "metadata": {},
   "source": [
    "Si queremos entrenar un modelo LTR basado en RankNet, necesitamos\n",
    "alimentar al modelo de dos conjuntos de datos, cada uno de ellos\n",
    "con un evento, de tal forma que el vector objetivo será \n",
    "una etiqueta representando qué evento debe ir antes.\n",
    "\n",
    "La idea es, para cada partido, combinar todos los elementos, e ir\n",
    "introduciendo al modelo cada par de eventos. Los eventos pueden\n",
    "estar representados con los distintos métodos que ya hemos visto, \n",
    "y para decidir entre uno y otro podemos usar los scores ya generados."
   ]
  },
  {
   "cell_type": "markdown",
   "metadata": {},
   "source": [
    "# Generando combinaciones de eventos"
   ]
  },
  {
   "cell_type": "markdown",
   "metadata": {},
   "source": [
    "Necesitamos un producto cartesiano de los eventos, sin que se \n",
    "repitan combinaciones."
   ]
  },
  {
   "cell_type": "code",
   "execution_count": 77,
   "metadata": {},
   "outputs": [],
   "source": [
    "target_metric = 'cosine_emb'\n",
    "metric_params = {'embedding': 'roberta-base-nli-stsb-mean-tokens',\n",
    "                 'text_process': 'basic'}\n",
    "drop_teams = True\n",
    "lemma = True"
   ]
  },
  {
   "cell_type": "code",
   "execution_count": 78,
   "metadata": {},
   "outputs": [
    {
     "name": "stdout",
     "output_type": "stream",
     "text": [
      "Setting target metric to cosine_emb\n"
     ]
    }
   ],
   "source": [
    "ltr_targets = LTRTargets(target_metric, metric_params, drop_teams, lemma)"
   ]
  },
  {
   "cell_type": "code",
   "execution_count": 79,
   "metadata": {},
   "outputs": [
    {
     "data": {
      "text/plain": [
       "'819812546b'"
      ]
     },
     "execution_count": 79,
     "metadata": {},
     "output_type": "execute_result"
    }
   ],
   "source": [
    "ltr_targets.experiment_id()"
   ]
  },
  {
   "cell_type": "code",
   "execution_count": 116,
   "metadata": {},
   "outputs": [
    {
     "data": {
      "text/plain": [
       "{'mode': 'tfidf',\n",
       " 'drop_teams': True,\n",
       " 'lemma': True,\n",
       " 'count_vec_kwargs': {'strip_accents': 'unicode'}}"
      ]
     },
     "execution_count": 116,
     "metadata": {},
     "output_type": "execute_result"
    }
   ],
   "source": [
    "features.config()"
   ]
  },
  {
   "cell_type": "code",
   "execution_count": 117,
   "metadata": {},
   "outputs": [
    {
     "data": {
      "text/plain": [
       "'66b1bb47b2'"
      ]
     },
     "execution_count": 117,
     "metadata": {},
     "output_type": "execute_result"
    }
   ],
   "source": [
    "features.experiment_id()"
   ]
  },
  {
   "cell_type": "code",
   "execution_count": null,
   "metadata": {},
   "outputs": [],
   "source": []
  },
  {
   "cell_type": "code",
   "execution_count": null,
   "metadata": {},
   "outputs": [],
   "source": [
    "targets_df = ltr_targets.get_targets()"
   ]
  },
  {
   "cell_type": "markdown",
   "metadata": {},
   "source": [
    "# Generación de features"
   ]
  },
  {
   "cell_type": "markdown",
   "metadata": {},
   "source": [
    "La red que crearemos para Ranknet necesita ser alimentada por dos datasets\n",
    "distintos, cada uno con las features correspondientes a los eventos que se quieren comparar.\n",
    "\n",
    "Por ello, necesitamos generar, para cada partido, dos ficheros (X1 y X2), con\n",
    "las combinaciones de eventos.\n"
   ]
  },
  {
   "cell_type": "code",
   "execution_count": 114,
   "metadata": {},
   "outputs": [],
   "source": [
    "mode = 'tfidf'\n",
    "count_vec_kwargs = {'strip_accents': 'unicode'}\n",
    "drop_teams = True\n",
    "lemma = True"
   ]
  },
  {
   "cell_type": "code",
   "execution_count": 115,
   "metadata": {},
   "outputs": [
    {
     "name": "stdout",
     "output_type": "stream",
     "text": [
      "Setting mode to tfidf\n"
     ]
    }
   ],
   "source": [
    "features = LTRFeaturesTF(mode=mode, count_vec_kwargs=count_vec_kwargs, lemma=lemma,\n",
    "                         drop_teams=drop_teams)"
   ]
  }
 ],
 "metadata": {
  "kernelspec": {
   "display_name": "Python 3",
   "language": "python",
   "name": "python3"
  },
  "language_info": {
   "codemirror_mode": {
    "name": "ipython",
    "version": 3
   },
   "file_extension": ".py",
   "mimetype": "text/x-python",
   "name": "python",
   "nbconvert_exporter": "python",
   "pygments_lexer": "ipython3",
   "version": "3.7.7"
  }
 },
 "nbformat": 4,
 "nbformat_minor": 4
}
