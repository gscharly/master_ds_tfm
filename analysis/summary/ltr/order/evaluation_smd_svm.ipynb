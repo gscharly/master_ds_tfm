{
 "cells": [
  {
   "cell_type": "code",
   "execution_count": 1,
   "metadata": {},
   "outputs": [],
   "source": [
    "MAIN_PATH = \"/home/carlos/MasterDS/tfm\"\n",
    "JSON_DATA_PATH = '{}/data/json/'.format(MAIN_PATH)\n",
    "CSV_DATA_PATH = '{}/data/csv/'.format(MAIN_PATH)"
   ]
  },
  {
   "cell_type": "code",
   "execution_count": 2,
   "metadata": {},
   "outputs": [],
   "source": [
    "import sys\n",
    "sys.path.insert(0, MAIN_PATH)"
   ]
  },
  {
   "cell_type": "code",
   "execution_count": 3,
   "metadata": {},
   "outputs": [],
   "source": [
    "%load_ext autoreload\n",
    "%autoreload 2\n",
    "from scripts.metrics.summary_evaluation import SummaryEvaluation\n",
    "from scripts.models.ltr_svm_tf.train import LTRSVMTFTrain\n",
    "from scripts.models.rank_with_model.rank_with_model import RankModel\n",
    "%reload_ext autoreload"
   ]
  },
  {
   "cell_type": "code",
   "execution_count": 4,
   "metadata": {},
   "outputs": [],
   "source": [
    "import pandas as pd"
   ]
  },
  {
   "cell_type": "markdown",
   "metadata": {},
   "source": [
    "# SVM"
   ]
  },
  {
   "cell_type": "markdown",
   "metadata": {},
   "source": [
    "## Carga de datos"
   ]
  },
  {
   "cell_type": "code",
   "execution_count": 35,
   "metadata": {},
   "outputs": [],
   "source": [
    "ltr_params = {\n",
    "    'mode': 'tfidf',\n",
    "    'count_vec_kwargs': {'strip_accents': 'unicode'},\n",
    "    'target_metric': 'rouge',\n",
    "    'metric_params': {'rouge_mode': 'rouge-1', 'rouge_metric': 'r'},\n",
    "    'drop_teams': True,\n",
    "    'lemma': True,\n",
    "    'train_perc': 0.7,\n",
    "    'val_perc': 0.2\n",
    "}\n",
    "\n",
    "model_params = {}"
   ]
  },
  {
   "cell_type": "code",
   "execution_count": 36,
   "metadata": {},
   "outputs": [
    {
     "name": "stdout",
     "output_type": "stream",
     "text": [
      "Setting target metric to rouge\n",
      "Setting mode to tfidf\n"
     ]
    }
   ],
   "source": [
    "ltr_train = LTRSVMTFTrain(model_params=model_params,\n",
    "                          ltr_params=ltr_params,\n",
    "                         dim_reduction_params=None)"
   ]
  },
  {
   "cell_type": "code",
   "execution_count": null,
   "metadata": {},
   "outputs": [],
   "source": [
    "ltr_train = LTRSVMTFTrain(model_params=model_params, ltr_params=ltr_params,\n",
    "                         dim_reduction_params=dim_reduction_params)"
   ]
  },
  {
   "cell_type": "code",
   "execution_count": 37,
   "metadata": {},
   "outputs": [
    {
     "name": "stdout",
     "output_type": "stream",
     "text": [
      "Model already trained\n"
     ]
    }
   ],
   "source": [
    "rank_model = RankModel(ltr_train, n=10)"
   ]
  },
  {
   "cell_type": "code",
   "execution_count": 8,
   "metadata": {},
   "outputs": [
    {
     "data": {
      "text/plain": [
       "'/home/carlos/MasterDS/tfm/models/rank_with_model/c842b51b47'"
      ]
     },
     "execution_count": 8,
     "metadata": {},
     "output_type": "execute_result"
    }
   ],
   "source": [
    "rank_model.path"
   ]
  },
  {
   "cell_type": "markdown",
   "metadata": {},
   "source": [
    "## Evaluación"
   ]
  },
  {
   "cell_type": "code",
   "execution_count": 38,
   "metadata": {},
   "outputs": [],
   "source": [
    "sms_dict = {\n",
    "    'sent_emb': 'distilroberta-base-paraphrase-v1'\n",
    "}"
   ]
  },
  {
   "cell_type": "code",
   "execution_count": 39,
   "metadata": {},
   "outputs": [
    {
     "name": "stdout",
     "output_type": "stream",
     "text": [
      "Setting target metric to sms\n"
     ]
    }
   ],
   "source": [
    "evaluation = SummaryEvaluation(metric='sms', sms_dict=sms_dict)"
   ]
  },
  {
   "cell_type": "markdown",
   "metadata": {},
   "source": [
    "### Sin procesar"
   ]
  },
  {
   "cell_type": "code",
   "execution_count": 40,
   "metadata": {},
   "outputs": [
    {
     "name": "stdout",
     "output_type": "stream",
     "text": [
      "Ranked summaries already exist\n",
      "Reading ranked summaries from /home/carlos/MasterDS/tfm/models/rank_with_model/9c2f95cd9b/summaries.csv\n",
      "Saving to /home/carlos/MasterDS/tfm/data/metrics/summaries/sms/rank_with_model_ltr_svm_rouge-1_r_8dd264b4d2\n",
      "Performing evaluation for 4523 articles\n",
      "Writing to /home/carlos/MasterDS/tfm/data/metrics/summaries/sms/rank_with_model_ltr_svm_rouge-1_r_8dd264b4d2.pickle\n",
      "Writing avg to /home/carlos/MasterDS/tfm/data/metrics/summaries/sms/rank_with_model_ltr_svm_rouge-1_r_8dd264b4d2_avg.pickle\n"
     ]
    }
   ],
   "source": [
    "scores_dict, avg_scores_dict = evaluation.evaluate_rank(rank_model,\n",
    "                                                   preprocess_text=False)"
   ]
  },
  {
   "cell_type": "code",
   "execution_count": 41,
   "metadata": {},
   "outputs": [
    {
     "data": {
      "text/plain": [
       "0.0001641719725079062"
      ]
     },
     "execution_count": 41,
     "metadata": {},
     "output_type": "execute_result"
    }
   ],
   "source": [
    "avg_scores_dict"
   ]
  },
  {
   "cell_type": "markdown",
   "metadata": {},
   "source": [
    "### Con procesado"
   ]
  },
  {
   "cell_type": "code",
   "execution_count": 42,
   "metadata": {},
   "outputs": [
    {
     "name": "stdout",
     "output_type": "stream",
     "text": [
      "Ranked summaries already exist\n",
      "Reading ranked summaries from /home/carlos/MasterDS/tfm/models/rank_with_model/9c2f95cd9b/summaries.csv\n",
      "Saving to /home/carlos/MasterDS/tfm/data/metrics/summaries/sms/rank_with_model_ltr_svm_rouge-1_r_8dd264b4d2_processed\n",
      "Performing evaluation for 4523 articles\n",
      "Writing to /home/carlos/MasterDS/tfm/data/metrics/summaries/sms/rank_with_model_ltr_svm_rouge-1_r_8dd264b4d2_processed.pickle\n",
      "Writing avg to /home/carlos/MasterDS/tfm/data/metrics/summaries/sms/rank_with_model_ltr_svm_rouge-1_r_8dd264b4d2_processed_avg.pickle\n"
     ]
    }
   ],
   "source": [
    "scores_dict, avg_scores_dict = evaluation.evaluate_rank(rank_model,\n",
    "                                                   preprocess_text=True)"
   ]
  },
  {
   "cell_type": "code",
   "execution_count": 43,
   "metadata": {},
   "outputs": [
    {
     "data": {
      "text/plain": [
       "8.088931567064557e-05"
      ]
     },
     "execution_count": 43,
     "metadata": {},
     "output_type": "execute_result"
    }
   ],
   "source": [
    "avg_scores_dict"
   ]
  },
  {
   "cell_type": "markdown",
   "metadata": {},
   "source": [
    "# Todos los resúmenes"
   ]
  },
  {
   "cell_type": "code",
   "execution_count": 44,
   "metadata": {},
   "outputs": [],
   "source": [
    "sms_dict = {\n",
    "    'sent_emb': 'distilroberta-base-paraphrase-v1'\n",
    "}"
   ]
  },
  {
   "cell_type": "code",
   "execution_count": 45,
   "metadata": {},
   "outputs": [
    {
     "name": "stdout",
     "output_type": "stream",
     "text": [
      "Setting target metric to sms\n"
     ]
    }
   ],
   "source": [
    "evaluation = SummaryEvaluation(metric='sms', sms_dict=sms_dict)"
   ]
  },
  {
   "cell_type": "code",
   "execution_count": 46,
   "metadata": {},
   "outputs": [],
   "source": [
    "pd_metrics = evaluation.output_avg_metrics()"
   ]
  },
  {
   "cell_type": "code",
   "execution_count": 47,
   "metadata": {},
   "outputs": [
    {
     "data": {
      "text/html": [
       "<div>\n",
       "<style scoped>\n",
       "    .dataframe tbody tr th:only-of-type {\n",
       "        vertical-align: middle;\n",
       "    }\n",
       "\n",
       "    .dataframe tbody tr th {\n",
       "        vertical-align: top;\n",
       "    }\n",
       "\n",
       "    .dataframe thead th {\n",
       "        text-align: right;\n",
       "    }\n",
       "</style>\n",
       "<table border=\"1\" class=\"dataframe\">\n",
       "  <thead>\n",
       "    <tr style=\"text-align: right;\">\n",
       "      <th></th>\n",
       "      <th>experiment</th>\n",
       "      <th>score</th>\n",
       "    </tr>\n",
       "  </thead>\n",
       "  <tbody>\n",
       "    <tr>\n",
       "      <th>21</th>\n",
       "      <td>baseline_rank_cosine_tfidf</td>\n",
       "      <td>0.000372</td>\n",
       "    </tr>\n",
       "    <tr>\n",
       "      <th>30</th>\n",
       "      <td>baseline_rank_cosine_tfidf_processed</td>\n",
       "      <td>0.000086</td>\n",
       "    </tr>\n",
       "    <tr>\n",
       "      <th>0</th>\n",
       "      <td>key_events_summaries_1</td>\n",
       "      <td>0.000399</td>\n",
       "    </tr>\n",
       "    <tr>\n",
       "      <th>17</th>\n",
       "      <td>key_events_summaries_1_processed</td>\n",
       "      <td>0.000087</td>\n",
       "    </tr>\n",
       "    <tr>\n",
       "      <th>27</th>\n",
       "      <td>key_events_summaries_2</td>\n",
       "      <td>0.000397</td>\n",
       "    </tr>\n",
       "    <tr>\n",
       "      <th>6</th>\n",
       "      <td>key_events_summaries_2_processed</td>\n",
       "      <td>0.000087</td>\n",
       "    </tr>\n",
       "    <tr>\n",
       "      <th>14</th>\n",
       "      <td>key_events_summaries_3</td>\n",
       "      <td>0.000399</td>\n",
       "    </tr>\n",
       "    <tr>\n",
       "      <th>19</th>\n",
       "      <td>key_events_summaries_3_processed</td>\n",
       "      <td>0.000087</td>\n",
       "    </tr>\n",
       "    <tr>\n",
       "      <th>12</th>\n",
       "      <td>key_events_summaries_4</td>\n",
       "      <td>0.000397</td>\n",
       "    </tr>\n",
       "    <tr>\n",
       "      <th>8</th>\n",
       "      <td>key_events_summaries_4_processed</td>\n",
       "      <td>0.000087</td>\n",
       "    </tr>\n",
       "    <tr>\n",
       "      <th>1</th>\n",
       "      <td>key_events_summaries_graph_1</td>\n",
       "      <td>0.000265</td>\n",
       "    </tr>\n",
       "    <tr>\n",
       "      <th>7</th>\n",
       "      <td>key_events_summaries_graph_1_processed</td>\n",
       "      <td>0.000072</td>\n",
       "    </tr>\n",
       "    <tr>\n",
       "      <th>5</th>\n",
       "      <td>key_events_summaries_graph_2</td>\n",
       "      <td>0.000210</td>\n",
       "    </tr>\n",
       "    <tr>\n",
       "      <th>10</th>\n",
       "      <td>key_events_summaries_graph_2_processed</td>\n",
       "      <td>0.000060</td>\n",
       "    </tr>\n",
       "    <tr>\n",
       "      <th>9</th>\n",
       "      <td>key_events_summaries_graph_3</td>\n",
       "      <td>0.000265</td>\n",
       "    </tr>\n",
       "    <tr>\n",
       "      <th>23</th>\n",
       "      <td>key_events_summaries_graph_3_processed</td>\n",
       "      <td>0.000072</td>\n",
       "    </tr>\n",
       "    <tr>\n",
       "      <th>15</th>\n",
       "      <td>key_events_summaries_graph_4</td>\n",
       "      <td>0.000210</td>\n",
       "    </tr>\n",
       "    <tr>\n",
       "      <th>25</th>\n",
       "      <td>key_events_summaries_graph_4_processed</td>\n",
       "      <td>0.000060</td>\n",
       "    </tr>\n",
       "    <tr>\n",
       "      <th>29</th>\n",
       "      <td>key_events_summaries_graph_5</td>\n",
       "      <td>0.000271</td>\n",
       "    </tr>\n",
       "    <tr>\n",
       "      <th>3</th>\n",
       "      <td>key_events_summaries_graph_5_processed</td>\n",
       "      <td>0.000072</td>\n",
       "    </tr>\n",
       "    <tr>\n",
       "      <th>20</th>\n",
       "      <td>rank_with_model_ltr_gbt_cosine_emb_fca8c8bb80</td>\n",
       "      <td>0.000250</td>\n",
       "    </tr>\n",
       "    <tr>\n",
       "      <th>16</th>\n",
       "      <td>rank_with_model_ltr_gbt_cosine_emb_fca8c8bb80_...</td>\n",
       "      <td>0.000069</td>\n",
       "    </tr>\n",
       "    <tr>\n",
       "      <th>22</th>\n",
       "      <td>rank_with_model_ltr_random_forest_cosine_emb_1...</td>\n",
       "      <td>0.000249</td>\n",
       "    </tr>\n",
       "    <tr>\n",
       "      <th>11</th>\n",
       "      <td>rank_with_model_ltr_random_forest_cosine_emb_1...</td>\n",
       "      <td>0.000068</td>\n",
       "    </tr>\n",
       "    <tr>\n",
       "      <th>18</th>\n",
       "      <td>rank_with_model_ltr_svm_cosine_emb_2fcdfe0b57</td>\n",
       "      <td>0.000350</td>\n",
       "    </tr>\n",
       "    <tr>\n",
       "      <th>2</th>\n",
       "      <td>rank_with_model_ltr_svm_cosine_emb_2fcdfe0b57_...</td>\n",
       "      <td>0.000088</td>\n",
       "    </tr>\n",
       "    <tr>\n",
       "      <th>26</th>\n",
       "      <td>rank_with_model_ltr_svm_cosine_emb_3bcf12a7a0</td>\n",
       "      <td>0.000179</td>\n",
       "    </tr>\n",
       "    <tr>\n",
       "      <th>13</th>\n",
       "      <td>rank_with_model_ltr_svm_cosine_emb_3bcf12a7a0_...</td>\n",
       "      <td>0.000085</td>\n",
       "    </tr>\n",
       "    <tr>\n",
       "      <th>31</th>\n",
       "      <td>rank_with_model_ltr_svm_cosine_tfidf_5959a3c0eb</td>\n",
       "      <td>0.000175</td>\n",
       "    </tr>\n",
       "    <tr>\n",
       "      <th>24</th>\n",
       "      <td>rank_with_model_ltr_svm_cosine_tfidf_5959a3c0e...</td>\n",
       "      <td>0.000084</td>\n",
       "    </tr>\n",
       "    <tr>\n",
       "      <th>28</th>\n",
       "      <td>rank_with_model_ltr_svm_rouge-1_r_8dd264b4d2</td>\n",
       "      <td>0.000164</td>\n",
       "    </tr>\n",
       "    <tr>\n",
       "      <th>4</th>\n",
       "      <td>rank_with_model_ltr_svm_rouge-1_r_8dd264b4d2_p...</td>\n",
       "      <td>0.000081</td>\n",
       "    </tr>\n",
       "  </tbody>\n",
       "</table>\n",
       "</div>"
      ],
      "text/plain": [
       "                                           experiment     score\n",
       "21                         baseline_rank_cosine_tfidf  0.000372\n",
       "30               baseline_rank_cosine_tfidf_processed  0.000086\n",
       "0                              key_events_summaries_1  0.000399\n",
       "17                   key_events_summaries_1_processed  0.000087\n",
       "27                             key_events_summaries_2  0.000397\n",
       "6                    key_events_summaries_2_processed  0.000087\n",
       "14                             key_events_summaries_3  0.000399\n",
       "19                   key_events_summaries_3_processed  0.000087\n",
       "12                             key_events_summaries_4  0.000397\n",
       "8                    key_events_summaries_4_processed  0.000087\n",
       "1                        key_events_summaries_graph_1  0.000265\n",
       "7              key_events_summaries_graph_1_processed  0.000072\n",
       "5                        key_events_summaries_graph_2  0.000210\n",
       "10             key_events_summaries_graph_2_processed  0.000060\n",
       "9                        key_events_summaries_graph_3  0.000265\n",
       "23             key_events_summaries_graph_3_processed  0.000072\n",
       "15                       key_events_summaries_graph_4  0.000210\n",
       "25             key_events_summaries_graph_4_processed  0.000060\n",
       "29                       key_events_summaries_graph_5  0.000271\n",
       "3              key_events_summaries_graph_5_processed  0.000072\n",
       "20      rank_with_model_ltr_gbt_cosine_emb_fca8c8bb80  0.000250\n",
       "16  rank_with_model_ltr_gbt_cosine_emb_fca8c8bb80_...  0.000069\n",
       "22  rank_with_model_ltr_random_forest_cosine_emb_1...  0.000249\n",
       "11  rank_with_model_ltr_random_forest_cosine_emb_1...  0.000068\n",
       "18      rank_with_model_ltr_svm_cosine_emb_2fcdfe0b57  0.000350\n",
       "2   rank_with_model_ltr_svm_cosine_emb_2fcdfe0b57_...  0.000088\n",
       "26      rank_with_model_ltr_svm_cosine_emb_3bcf12a7a0  0.000179\n",
       "13  rank_with_model_ltr_svm_cosine_emb_3bcf12a7a0_...  0.000085\n",
       "31    rank_with_model_ltr_svm_cosine_tfidf_5959a3c0eb  0.000175\n",
       "24  rank_with_model_ltr_svm_cosine_tfidf_5959a3c0e...  0.000084\n",
       "28       rank_with_model_ltr_svm_rouge-1_r_8dd264b4d2  0.000164\n",
       "4   rank_with_model_ltr_svm_rouge-1_r_8dd264b4d2_p...  0.000081"
      ]
     },
     "execution_count": 47,
     "metadata": {},
     "output_type": "execute_result"
    }
   ],
   "source": [
    "pd_metrics.sort_values('experiment')"
   ]
  },
  {
   "cell_type": "code",
   "execution_count": null,
   "metadata": {},
   "outputs": [],
   "source": []
  }
 ],
 "metadata": {
  "kernelspec": {
   "display_name": "Python 3",
   "language": "python",
   "name": "python3"
  },
  "language_info": {
   "codemirror_mode": {
    "name": "ipython",
    "version": 3
   },
   "file_extension": ".py",
   "mimetype": "text/x-python",
   "name": "python",
   "nbconvert_exporter": "python",
   "pygments_lexer": "ipython3",
   "version": "3.7.7"
  }
 },
 "nbformat": 4,
 "nbformat_minor": 4
}
