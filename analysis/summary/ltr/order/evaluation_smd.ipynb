{
 "cells": [
  {
   "cell_type": "code",
   "execution_count": 1,
   "metadata": {},
   "outputs": [],
   "source": [
    "MAIN_PATH = \"/home/carlos/MasterDS/tfm\"\n",
    "JSON_DATA_PATH = '{}/data/json/'.format(MAIN_PATH)\n",
    "CSV_DATA_PATH = '{}/data/csv/'.format(MAIN_PATH)"
   ]
  },
  {
   "cell_type": "code",
   "execution_count": 2,
   "metadata": {},
   "outputs": [],
   "source": [
    "import sys\n",
    "sys.path.insert(0, MAIN_PATH)"
   ]
  },
  {
   "cell_type": "code",
   "execution_count": 13,
   "metadata": {},
   "outputs": [
    {
     "name": "stdout",
     "output_type": "stream",
     "text": [
      "The autoreload extension is already loaded. To reload it, use:\n",
      "  %reload_ext autoreload\n"
     ]
    }
   ],
   "source": [
    "%load_ext autoreload\n",
    "%autoreload 2\n",
    "from scripts.metrics.summary_evaluation import SummaryEvaluation\n",
    "from scripts.models.rank_with_model.rank_with_model import RankModel\n",
    "from scripts.models.baseline_rank.baseline_rank import BaselineRank\n",
    "from scripts.models.ltr.train import LTRTrain\n",
    "from scripts.extractive_summary.ltr.ltr_features_targets import LTRFeaturesTargets\n",
    "from scripts.models.ltr_gbt.train import LTRGBTTrain\n",
    "from scripts.models.ltr_svm_tf.train import LTRSVMTFTrain\n",
    "from scripts import conf\n",
    "%reload_ext autoreload"
   ]
  },
  {
   "cell_type": "code",
   "execution_count": 4,
   "metadata": {},
   "outputs": [],
   "source": [
    "import pandas as pd"
   ]
  },
  {
   "cell_type": "markdown",
   "metadata": {},
   "source": [
    "# Evaluación"
   ]
  },
  {
   "cell_type": "markdown",
   "metadata": {},
   "source": [
    "Se usará el mismo desarrollo que se utilizó cuando se calcularon las métricas de los resúmenes generados por eventos clave y por grafos\n",
    "conceptuales"
   ]
  },
  {
   "cell_type": "markdown",
   "metadata": {},
   "source": [
    "# Baseline"
   ]
  },
  {
   "cell_type": "markdown",
   "metadata": {},
   "source": [
    "## Carga de datos"
   ]
  },
  {
   "cell_type": "code",
   "execution_count": 5,
   "metadata": {},
   "outputs": [],
   "source": [
    "key_events = ['goal', 'red_card', 'penalty']\n",
    "lags = [1, 3, 5]\n",
    "target_metric = 'cosine_tfidf'\n",
    "drop_teams = True\n",
    "lemma = True\n",
    "metric_params = {'ngram_range': (1, 2), 'strip_accents': 'unicode'}\n",
    "count_vec_kwargs = {'ngram_range': (1, 2), 'strip_accents': 'unicode'}"
   ]
  },
  {
   "cell_type": "code",
   "execution_count": 6,
   "metadata": {},
   "outputs": [
    {
     "name": "stdout",
     "output_type": "stream",
     "text": [
      "Setting target metric to cosine_tfidf\n"
     ]
    }
   ],
   "source": [
    "ltr = LTRFeaturesTargets(target_metric=target_metric, \n",
    "                        key_events=key_events,\n",
    "                        lags=lags,\n",
    "                        metric_params=metric_params,\n",
    "                        count_vec_kwargs=count_vec_kwargs,\n",
    "                        drop_teams=drop_teams,\n",
    "                        lemma=lemma)"
   ]
  },
  {
   "cell_type": "code",
   "execution_count": 7,
   "metadata": {},
   "outputs": [
    {
     "name": "stdout",
     "output_type": "stream",
     "text": [
      "Received LTR Features targets. Training and scoring are not necessary\n"
     ]
    }
   ],
   "source": [
    "rank = BaselineRank(ltr=ltr, n=10)"
   ]
  },
  {
   "cell_type": "code",
   "execution_count": 23,
   "metadata": {},
   "outputs": [
    {
     "name": "stdout",
     "output_type": "stream",
     "text": [
      "Ranking events using row_number approach...\n",
      "Saving to /home/carlos/MasterDS/tfm/models/baseline_rank/34e2c72e03/summaries.csv\n"
     ]
    }
   ],
   "source": [
    "rank.run()"
   ]
  },
  {
   "cell_type": "code",
   "execution_count": 24,
   "metadata": {},
   "outputs": [
    {
     "data": {
      "text/plain": [
       "'cosine_tfidf'"
      ]
     },
     "execution_count": 24,
     "metadata": {},
     "output_type": "execute_result"
    }
   ],
   "source": [
    "rank.ltr.target_metric"
   ]
  },
  {
   "cell_type": "markdown",
   "metadata": {},
   "source": [
    "## Evaluación"
   ]
  },
  {
   "cell_type": "code",
   "execution_count": 11,
   "metadata": {},
   "outputs": [],
   "source": [
    "sms_dict = {\n",
    "    'sent_emb': 'distilroberta-base-paraphrase-v1'\n",
    "}"
   ]
  },
  {
   "cell_type": "code",
   "execution_count": 12,
   "metadata": {},
   "outputs": [
    {
     "name": "stdout",
     "output_type": "stream",
     "text": [
      "Setting target metric to sms\n"
     ]
    }
   ],
   "source": [
    "evaluation = SummaryEvaluation(metric='sms', sms_dict=sms_dict)"
   ]
  },
  {
   "cell_type": "markdown",
   "metadata": {},
   "source": [
    "### Sin procesar"
   ]
  },
  {
   "cell_type": "markdown",
   "metadata": {},
   "source": [
    "Los vocab size representan el número de frases que hay en la referencia. "
   ]
  },
  {
   "cell_type": "code",
   "execution_count": null,
   "metadata": {},
   "outputs": [],
   "source": [
    "scores_dict, avg_scores_dict = evaluation.evaluate_rank(rank,\n",
    "                                                   preprocess_text=False)"
   ]
  },
  {
   "cell_type": "markdown",
   "metadata": {},
   "source": [
    "### Con procesado"
   ]
  },
  {
   "cell_type": "code",
   "execution_count": 13,
   "metadata": {},
   "outputs": [
    {
     "name": "stdout",
     "output_type": "stream",
     "text": [
      "Ranked summaries already exist\n",
      "Reading ranked summaries from /home/carlos/MasterDS/tfm/models/baseline_rank/34e2c72e03/summaries.csv\n",
      "Saving to /home/carlos/MasterDS/tfm/data/metrics/summaries/sms/baseline_rank_cosine_tfidf_processed\n",
      "Performing evaluation for 4523 articles\n",
      "Writing to /home/carlos/MasterDS/tfm/data/metrics/summaries/sms/baseline_rank_cosine_tfidf_processed.pickle\n",
      "Writing avg to /home/carlos/MasterDS/tfm/data/metrics/summaries/sms/baseline_rank_cosine_tfidf_processed_avg.pickle\n"
     ]
    }
   ],
   "source": [
    "scores_dict, avg_scores_dict = evaluation.evaluate_rank(rank,\n",
    "                                                   preprocess_text=True)"
   ]
  },
  {
   "cell_type": "code",
   "execution_count": 14,
   "metadata": {},
   "outputs": [
    {
     "data": {
      "text/plain": [
       "8.631958094422498e-05"
      ]
     },
     "execution_count": 14,
     "metadata": {},
     "output_type": "execute_result"
    }
   ],
   "source": [
    "avg_scores_dict"
   ]
  },
  {
   "cell_type": "markdown",
   "metadata": {},
   "source": [
    "# Random forest"
   ]
  },
  {
   "cell_type": "markdown",
   "metadata": {},
   "source": [
    "## Carga de datos"
   ]
  },
  {
   "cell_type": "code",
   "execution_count": 15,
   "metadata": {},
   "outputs": [],
   "source": [
    "ltr_params = {\n",
    "    'key_events': ['goal', 'red_card', 'penalty'],\n",
    "    'lags': [1, 3, 5],\n",
    "    'target_metric': 'cosine_emb',\n",
    "    'drop_teams': True,\n",
    "    'lemma': True,\n",
    "    'metric_params': {'embedding': 'distilroberta-base-paraphrase-v1',\n",
    "                     'text_process': 'basic'},\n",
    "    'count_vec_kwargs': {'ngram_range': (1, 2), 'strip_accents': 'unicode'}\n",
    "}\n",
    "num_features = ['tfidf_sum']\n",
    "cat_features_dict = {'is_key_event': [0, 1],\n",
    "                     'n_players_cat': ['no_player', 'one_player', 'more_than_one_player']}\n",
    "\n",
    "model_params = {\n",
    "    'n_estimators': [100, 200, 500],\n",
    "    'max_depth': [2, 5, 7],\n",
    "    'bootstrap': [True],\n",
    "    \n",
    "}\n",
    "cv = 5\n",
    "opt_metric = 'neg_mean_squared_error'"
   ]
  },
  {
   "cell_type": "code",
   "execution_count": 20,
   "metadata": {},
   "outputs": [
    {
     "name": "stdout",
     "output_type": "stream",
     "text": [
      "Setting target metric to cosine_tfidf\n"
     ]
    }
   ],
   "source": [
    "ltr_train = LTRTrain(cat_features_dict=cat_features_dict, num_features=num_features,\n",
    "                     model_params=model_params, ltr_params=ltr_params)"
   ]
  },
  {
   "cell_type": "code",
   "execution_count": 16,
   "metadata": {},
   "outputs": [
    {
     "name": "stdout",
     "output_type": "stream",
     "text": [
      "Setting target metric to cosine_emb\n"
     ]
    }
   ],
   "source": [
    "#CV\n",
    "ltr_train = LTRTrain(cat_features_dict=cat_features_dict,\n",
    "                     num_features=num_features,\n",
    "                     model_params=model_params, ltr_params=ltr_params,\n",
    "                    cv=cv, opt_metric=opt_metric)"
   ]
  },
  {
   "cell_type": "code",
   "execution_count": 17,
   "metadata": {},
   "outputs": [
    {
     "name": "stdout",
     "output_type": "stream",
     "text": [
      "Model already trained\n"
     ]
    }
   ],
   "source": [
    "rank_model = RankModel(ltr_train, n=10)"
   ]
  },
  {
   "cell_type": "markdown",
   "metadata": {},
   "source": [
    "## Evaluación"
   ]
  },
  {
   "cell_type": "code",
   "execution_count": 18,
   "metadata": {},
   "outputs": [],
   "source": [
    "sms_dict = {\n",
    "    'sent_emb': 'distilroberta-base-paraphrase-v1'\n",
    "}"
   ]
  },
  {
   "cell_type": "code",
   "execution_count": 19,
   "metadata": {},
   "outputs": [
    {
     "name": "stdout",
     "output_type": "stream",
     "text": [
      "Setting target metric to sms\n"
     ]
    }
   ],
   "source": [
    "evaluation = SummaryEvaluation(metric='sms', sms_dict=sms_dict)"
   ]
  },
  {
   "cell_type": "markdown",
   "metadata": {},
   "source": [
    "### Sin procesar"
   ]
  },
  {
   "cell_type": "code",
   "execution_count": 20,
   "metadata": {},
   "outputs": [
    {
     "name": "stdout",
     "output_type": "stream",
     "text": [
      "Ranked summaries already exist\n",
      "Reading ranked summaries from /home/carlos/MasterDS/tfm/models/rank_with_model/3829e2a65c/summaries.csv\n",
      "Saving to /home/carlos/MasterDS/tfm/data/metrics/summaries/sms/rank_with_model_ltr_random_forest_cosine_emb_1fab3e681b\n",
      "Performing evaluation for 4523 articles\n",
      "Writing to /home/carlos/MasterDS/tfm/data/metrics/summaries/sms/rank_with_model_ltr_random_forest_cosine_emb_1fab3e681b.pickle\n",
      "Writing avg to /home/carlos/MasterDS/tfm/data/metrics/summaries/sms/rank_with_model_ltr_random_forest_cosine_emb_1fab3e681b_avg.pickle\n"
     ]
    }
   ],
   "source": [
    "scores_dict, avg_scores_dict = evaluation.evaluate_rank(rank_model,\n",
    "                                                        preprocess_text=False)"
   ]
  },
  {
   "cell_type": "code",
   "execution_count": 21,
   "metadata": {},
   "outputs": [
    {
     "data": {
      "text/plain": [
       "0.00024863831147419623"
      ]
     },
     "execution_count": 21,
     "metadata": {},
     "output_type": "execute_result"
    }
   ],
   "source": [
    "avg_scores_dict"
   ]
  },
  {
   "cell_type": "markdown",
   "metadata": {},
   "source": [
    "### Con procesado"
   ]
  },
  {
   "cell_type": "code",
   "execution_count": 22,
   "metadata": {},
   "outputs": [
    {
     "name": "stdout",
     "output_type": "stream",
     "text": [
      "Ranked summaries already exist\n",
      "Reading ranked summaries from /home/carlos/MasterDS/tfm/models/rank_with_model/3829e2a65c/summaries.csv\n",
      "Saving to /home/carlos/MasterDS/tfm/data/metrics/summaries/sms/rank_with_model_ltr_random_forest_cosine_emb_1fab3e681b_processed\n",
      "Performing evaluation for 4523 articles\n",
      "Writing to /home/carlos/MasterDS/tfm/data/metrics/summaries/sms/rank_with_model_ltr_random_forest_cosine_emb_1fab3e681b_processed.pickle\n",
      "Writing avg to /home/carlos/MasterDS/tfm/data/metrics/summaries/sms/rank_with_model_ltr_random_forest_cosine_emb_1fab3e681b_processed_avg.pickle\n"
     ]
    }
   ],
   "source": [
    "scores_dict, avg_scores_dict = evaluation.evaluate_rank(rank_model,\n",
    "                                                   preprocess_text=True)"
   ]
  },
  {
   "cell_type": "code",
   "execution_count": 23,
   "metadata": {},
   "outputs": [
    {
     "data": {
      "text/plain": [
       "6.802229519430385e-05"
      ]
     },
     "execution_count": 23,
     "metadata": {},
     "output_type": "execute_result"
    }
   ],
   "source": [
    "avg_scores_dict"
   ]
  },
  {
   "cell_type": "markdown",
   "metadata": {},
   "source": [
    "# GBT"
   ]
  },
  {
   "cell_type": "markdown",
   "metadata": {},
   "source": [
    "## Carga de datos"
   ]
  },
  {
   "cell_type": "code",
   "execution_count": 24,
   "metadata": {},
   "outputs": [],
   "source": [
    "ltr_params = {\n",
    "    'key_events': ['goal', 'red_card', 'penalty'],\n",
    "    'lags': [1, 3, 5],\n",
    "    'target_metric': 'cosine_emb',\n",
    "    'drop_teams': True,\n",
    "    'lemma': True,\n",
    "    'metric_params': {'embedding': 'distilroberta-base-paraphrase-v1',\n",
    "                     'text_process': 'basic'},\n",
    "    'count_vec_kwargs': {'ngram_range': (1, 2), 'strip_accents': 'unicode'}\n",
    "}\n",
    "cat_features_dict = {'is_key_event': [0, 1]}\n",
    "num_features = ['tfidf_sum']\n",
    "model_params = {\n",
    "    'min_samples_leaf': [50],\n",
    "    'subsample': [0.8],  \n",
    "    'learning_rate': [0.1],\n",
    "    'n_estimators': [80],\n",
    "    'max_depth':[7],\n",
    "    'min_samples_split': [600],\n",
    "}\n",
    "cv = 5\n",
    "opt_metric = 'neg_mean_squared_error'"
   ]
  },
  {
   "cell_type": "code",
   "execution_count": 25,
   "metadata": {},
   "outputs": [
    {
     "name": "stdout",
     "output_type": "stream",
     "text": [
      "Setting target metric to cosine_emb\n"
     ]
    }
   ],
   "source": [
    "ltr_train = LTRGBTTrain(cat_features_dict=cat_features_dict, num_features=num_features,\n",
    "                     model_params=model_params, ltr_params=ltr_params,\n",
    "                    cv=cv, opt_metric=opt_metric)"
   ]
  },
  {
   "cell_type": "code",
   "execution_count": 26,
   "metadata": {},
   "outputs": [
    {
     "name": "stdout",
     "output_type": "stream",
     "text": [
      "Model already trained\n"
     ]
    }
   ],
   "source": [
    "rank_model = RankModel(ltr_train, n=10)"
   ]
  },
  {
   "cell_type": "code",
   "execution_count": 8,
   "metadata": {},
   "outputs": [
    {
     "data": {
      "text/plain": [
       "'/home/carlos/MasterDS/tfm/models/rank_with_model/77752e3840'"
      ]
     },
     "execution_count": 8,
     "metadata": {},
     "output_type": "execute_result"
    }
   ],
   "source": [
    "rank_model.path"
   ]
  },
  {
   "cell_type": "markdown",
   "metadata": {},
   "source": [
    "## Evaluación"
   ]
  },
  {
   "cell_type": "code",
   "execution_count": 27,
   "metadata": {},
   "outputs": [],
   "source": [
    "sms_dict = {\n",
    "    'sent_emb': 'distilroberta-base-paraphrase-v1'\n",
    "}"
   ]
  },
  {
   "cell_type": "code",
   "execution_count": 28,
   "metadata": {},
   "outputs": [
    {
     "name": "stdout",
     "output_type": "stream",
     "text": [
      "Setting target metric to sms\n"
     ]
    }
   ],
   "source": [
    "evaluation = SummaryEvaluation(metric='sms', sms_dict=sms_dict)"
   ]
  },
  {
   "cell_type": "markdown",
   "metadata": {},
   "source": [
    "### Sin procesar"
   ]
  },
  {
   "cell_type": "code",
   "execution_count": 29,
   "metadata": {},
   "outputs": [
    {
     "name": "stdout",
     "output_type": "stream",
     "text": [
      "Ranked summaries already exist\n",
      "Reading ranked summaries from /home/carlos/MasterDS/tfm/models/rank_with_model/51f2ec7f23/summaries.csv\n",
      "Saving to /home/carlos/MasterDS/tfm/data/metrics/summaries/sms/rank_with_model_ltr_gbt_cosine_emb_fca8c8bb80\n",
      "Performing evaluation for 4523 articles\n",
      "Writing to /home/carlos/MasterDS/tfm/data/metrics/summaries/sms/rank_with_model_ltr_gbt_cosine_emb_fca8c8bb80.pickle\n",
      "Writing avg to /home/carlos/MasterDS/tfm/data/metrics/summaries/sms/rank_with_model_ltr_gbt_cosine_emb_fca8c8bb80_avg.pickle\n"
     ]
    }
   ],
   "source": [
    "scores_dict, avg_scores_dict = evaluation.evaluate_rank(rank_model,\n",
    "                                                   preprocess_text=False)"
   ]
  },
  {
   "cell_type": "code",
   "execution_count": 30,
   "metadata": {},
   "outputs": [
    {
     "data": {
      "text/plain": [
       "0.0002504359209153971"
      ]
     },
     "execution_count": 30,
     "metadata": {},
     "output_type": "execute_result"
    }
   ],
   "source": [
    "avg_scores_dict"
   ]
  },
  {
   "cell_type": "markdown",
   "metadata": {},
   "source": [
    "### Con procesado"
   ]
  },
  {
   "cell_type": "code",
   "execution_count": 31,
   "metadata": {},
   "outputs": [
    {
     "name": "stdout",
     "output_type": "stream",
     "text": [
      "Ranked summaries already exist\n",
      "Reading ranked summaries from /home/carlos/MasterDS/tfm/models/rank_with_model/51f2ec7f23/summaries.csv\n",
      "Saving to /home/carlos/MasterDS/tfm/data/metrics/summaries/sms/rank_with_model_ltr_gbt_cosine_emb_fca8c8bb80_processed\n",
      "Performing evaluation for 4523 articles\n",
      "Writing to /home/carlos/MasterDS/tfm/data/metrics/summaries/sms/rank_with_model_ltr_gbt_cosine_emb_fca8c8bb80_processed.pickle\n",
      "Writing avg to /home/carlos/MasterDS/tfm/data/metrics/summaries/sms/rank_with_model_ltr_gbt_cosine_emb_fca8c8bb80_processed_avg.pickle\n"
     ]
    }
   ],
   "source": [
    "scores_dict, avg_scores_dict = evaluation.evaluate_rank(rank_model,\n",
    "                                                   preprocess_text=True)"
   ]
  },
  {
   "cell_type": "code",
   "execution_count": 32,
   "metadata": {},
   "outputs": [
    {
     "data": {
      "text/plain": [
       "6.854264564757934e-05"
      ]
     },
     "execution_count": 32,
     "metadata": {},
     "output_type": "execute_result"
    }
   ],
   "source": [
    "avg_scores_dict"
   ]
  },
  {
   "cell_type": "markdown",
   "metadata": {},
   "source": [
    "# SVM"
   ]
  },
  {
   "cell_type": "markdown",
   "metadata": {},
   "source": [
    "## Carga de datos"
   ]
  },
  {
   "cell_type": "code",
   "execution_count": 33,
   "metadata": {},
   "outputs": [],
   "source": [
    "ltr_params = {\n",
    "    'mode': 'tfidf',\n",
    "    'count_vec_kwargs': {'strip_accents': 'unicode'},\n",
    "    'target_metric': 'cosine_emb',\n",
    "    'metric_params': {'embedding': 'distilroberta-base-paraphrase-v1',\n",
    "                     'text_process': 'basic'},\n",
    "    'drop_teams': True,\n",
    "    'lemma': True,\n",
    "    'train_perc': 0.7,\n",
    "    'val_perc': 0.2\n",
    "}\n",
    "\n",
    "model_params = {}"
   ]
  },
  {
   "cell_type": "code",
   "execution_count": 34,
   "metadata": {},
   "outputs": [
    {
     "name": "stdout",
     "output_type": "stream",
     "text": [
      "Setting target metric to cosine_emb\n",
      "Setting mode to tfidf\n"
     ]
    }
   ],
   "source": [
    "ltr_train = LTRSVMTFTrain(model_params=model_params,\n",
    "                          ltr_params=ltr_params,\n",
    "                         dim_reduction_params=None)"
   ]
  },
  {
   "cell_type": "code",
   "execution_count": 35,
   "metadata": {},
   "outputs": [
    {
     "ename": "NameError",
     "evalue": "name 'dim_reduction_params' is not defined",
     "output_type": "error",
     "traceback": [
      "\u001b[0;31m---------------------------------------------------------------------------\u001b[0m",
      "\u001b[0;31mNameError\u001b[0m                                 Traceback (most recent call last)",
      "\u001b[0;32m<ipython-input-35-72f8639c9912>\u001b[0m in \u001b[0;36m<module>\u001b[0;34m\u001b[0m\n\u001b[1;32m      1\u001b[0m ltr_train = LTRSVMTFTrain(model_params=model_params, ltr_params=ltr_params,\n\u001b[0;32m----> 2\u001b[0;31m                          dim_reduction_params=dim_reduction_params)\n\u001b[0m",
      "\u001b[0;31mNameError\u001b[0m: name 'dim_reduction_params' is not defined"
     ]
    }
   ],
   "source": [
    "ltr_train = LTRSVMTFTrain(model_params=model_params, ltr_params=ltr_params,\n",
    "                         dim_reduction_params=dim_reduction_params)"
   ]
  },
  {
   "cell_type": "code",
   "execution_count": null,
   "metadata": {},
   "outputs": [],
   "source": [
    "rank_model = RankModel(ltr_train, n=10)"
   ]
  },
  {
   "cell_type": "code",
   "execution_count": 8,
   "metadata": {},
   "outputs": [
    {
     "data": {
      "text/plain": [
       "'/home/carlos/MasterDS/tfm/models/rank_with_model/c842b51b47'"
      ]
     },
     "execution_count": 8,
     "metadata": {},
     "output_type": "execute_result"
    }
   ],
   "source": [
    "rank_model.path"
   ]
  },
  {
   "cell_type": "markdown",
   "metadata": {},
   "source": [
    "## Evaluación"
   ]
  },
  {
   "cell_type": "code",
   "execution_count": null,
   "metadata": {},
   "outputs": [],
   "source": [
    "sms_dict = {\n",
    "    'sent_emb': 'distilroberta-base-paraphrase-v1'\n",
    "}"
   ]
  },
  {
   "cell_type": "code",
   "execution_count": null,
   "metadata": {},
   "outputs": [],
   "source": [
    "evaluation = SummaryEvaluation(metric='sms', sms_dict=sms_dict)"
   ]
  },
  {
   "cell_type": "markdown",
   "metadata": {},
   "source": [
    "### Sin procesar"
   ]
  },
  {
   "cell_type": "code",
   "execution_count": null,
   "metadata": {},
   "outputs": [],
   "source": [
    "scores_dict, avg_scores_dict = evaluation.evaluate_rank(rank_model,\n",
    "                                                   preprocess_text=False)"
   ]
  },
  {
   "cell_type": "code",
   "execution_count": null,
   "metadata": {},
   "outputs": [],
   "source": [
    "avg_scores_dict"
   ]
  },
  {
   "cell_type": "markdown",
   "metadata": {},
   "source": [
    "### Con procesado"
   ]
  },
  {
   "cell_type": "code",
   "execution_count": null,
   "metadata": {},
   "outputs": [],
   "source": [
    "scores_dict, avg_scores_dict = evaluation.evaluate_rank(rank_model,\n",
    "                                                   preprocess_text=True)"
   ]
  },
  {
   "cell_type": "code",
   "execution_count": null,
   "metadata": {},
   "outputs": [],
   "source": [
    "avg_scores_dict"
   ]
  },
  {
   "cell_type": "markdown",
   "metadata": {},
   "source": [
    "# NN"
   ]
  },
  {
   "cell_type": "markdown",
   "metadata": {},
   "source": [
    "## Carga de datos"
   ]
  },
  {
   "cell_type": "code",
   "execution_count": null,
   "metadata": {},
   "outputs": [],
   "source": [
    "ltr_params = {\n",
    "    'mode': 'tfidf',\n",
    "    'count_vec_kwargs': {'strip_accents': 'unicode'},\n",
    "    'target_metric': 'cosine_emb',\n",
    "    'metric_params': {'embedding': 'distilroberta-base-paraphrase-v1',\n",
    "                     'text_process': 'basic'},\n",
    "    'drop_teams': True,\n",
    "    'lemma': True,\n",
    "    'train_perc': 0.7,\n",
    "    'val_perc': 0.2\n",
    "}\n",
    "DENSE_LAYERS = [125, 60, 20]\n",
    "N_DROPOUT = 3\n",
    "\n",
    "model_params = {\n",
    "    'dense_layers': DENSE_LAYERS,\n",
    "    'dense_activation': ['relu'] * len(DENSE_LAYERS),\n",
    "    'dropout': [0.3] * N_DROPOUT,\n",
    "    'optimizer': 'adam',\n",
    "}\n",
    "\n",
    "dim_reduction_params = {\n",
    "        'dim_reduction': 'truncated_svd',\n",
    "        'dim_reduction_params': {\n",
    "            'n_components': 250,\n",
    "            'random_state': 10\n",
    "    }\n",
    "}\n",
    "\n",
    "opt_metric = 'mean_squared_error'\n",
    "epochs = 25\n",
    "batch_size = 128\n",
    "# Not in config\n",
    "shuffle = True\n",
    "max_queue_size = 50"
   ]
  },
  {
   "cell_type": "code",
   "execution_count": null,
   "metadata": {},
   "outputs": [],
   "source": [
    "ltr_train = LTRNNTFTrain(ltr_params, epochs=epochs, batch_size=batch_size,\n",
    "                         model_params=model_params,\n",
    "                         opt_metric=opt_metric)"
   ]
  },
  {
   "cell_type": "code",
   "execution_count": null,
   "metadata": {},
   "outputs": [],
   "source": [
    "ltr_train = LTRNNTFTrain(ltr_params, epochs=epochs, batch_size=batch_size,\n",
    "                         model_params=model_params,\n",
    "                         opt_metric=opt_metric, \n",
    "                        dim_reduction_params=dim_reduction_params)"
   ]
  },
  {
   "cell_type": "code",
   "execution_count": null,
   "metadata": {},
   "outputs": [],
   "source": [
    "rank_model = RankModel(ltr_train, n=10, is_nn=True)"
   ]
  },
  {
   "cell_type": "code",
   "execution_count": 34,
   "metadata": {},
   "outputs": [
    {
     "data": {
      "text/plain": [
       "'/home/carlos/MasterDS/tfm/models/rank_with_model/48e5a967da'"
      ]
     },
     "execution_count": 34,
     "metadata": {},
     "output_type": "execute_result"
    }
   ],
   "source": [
    "rank_model.path"
   ]
  },
  {
   "cell_type": "code",
   "execution_count": 47,
   "metadata": {},
   "outputs": [
    {
     "data": {
      "text/plain": [
       "scripts.models.rank_with_model.rank_with_model.RankModel"
      ]
     },
     "execution_count": 47,
     "metadata": {},
     "output_type": "execute_result"
    }
   ],
   "source": [
    "type(rank_model)"
   ]
  },
  {
   "cell_type": "markdown",
   "metadata": {},
   "source": [
    "## Evaluación"
   ]
  },
  {
   "cell_type": "code",
   "execution_count": null,
   "metadata": {},
   "outputs": [],
   "source": [
    "sms_dict = {\n",
    "    'sent_emb': 'distilroberta-base-paraphrase-v1'\n",
    "}"
   ]
  },
  {
   "cell_type": "code",
   "execution_count": null,
   "metadata": {},
   "outputs": [],
   "source": [
    "evaluation = SummaryEvaluation(metric='sms', sms_dict=sms_dict)"
   ]
  },
  {
   "cell_type": "markdown",
   "metadata": {},
   "source": [
    "### Sin procesar"
   ]
  },
  {
   "cell_type": "code",
   "execution_count": null,
   "metadata": {},
   "outputs": [],
   "source": [
    "scores_dict, avg_scores_dict = evaluation.evaluate_rank(rank_model,\n",
    "                                                   preprocess_text=False)"
   ]
  },
  {
   "cell_type": "code",
   "execution_count": null,
   "metadata": {},
   "outputs": [],
   "source": [
    "avg_scores_dict"
   ]
  },
  {
   "cell_type": "markdown",
   "metadata": {},
   "source": [
    "### Con procesado"
   ]
  },
  {
   "cell_type": "code",
   "execution_count": null,
   "metadata": {},
   "outputs": [],
   "source": [
    "scores_dict, avg_scores_dict = evaluation.evaluate_rank(rank_model,\n",
    "                                                   preprocess_text=True)"
   ]
  },
  {
   "cell_type": "code",
   "execution_count": null,
   "metadata": {},
   "outputs": [],
   "source": [
    "avg_scores_dict"
   ]
  },
  {
   "cell_type": "markdown",
   "metadata": {},
   "source": [
    "# Eventos clave y grafos conceptuales"
   ]
  },
  {
   "cell_type": "code",
   "execution_count": 5,
   "metadata": {},
   "outputs": [],
   "source": [
    "sms_dict = {\n",
    "    'sent_emb': 'distilroberta-base-paraphrase-v1'\n",
    "}"
   ]
  },
  {
   "cell_type": "code",
   "execution_count": 6,
   "metadata": {},
   "outputs": [
    {
     "name": "stdout",
     "output_type": "stream",
     "text": [
      "Setting target metric to sms\n"
     ]
    }
   ],
   "source": [
    "evaluation = SummaryEvaluation(metric='sms', sms_dict=sms_dict)"
   ]
  },
  {
   "cell_type": "code",
   "execution_count": 7,
   "metadata": {},
   "outputs": [
    {
     "name": "stdout",
     "output_type": "stream",
     "text": [
      "Evaluating the following summaries: ['key_events_summaries_1.csv', 'key_events_summaries_3.csv', 'key_events_summaries_4.csv', 'key_events_summaries_graph_2.csv', 'key_events_summaries_graph_3.csv', 'key_events_summaries_2.csv', 'key_events_summaries_graph_5.csv', 'key_events_summaries_graph_1.csv', 'key_events_summaries_graph_4.csv']\n",
      "Evaluating key_events_summaries_1.csv\n",
      "Performing evaluation for 4302 articles\n",
      "Writing to /home/carlos/MasterDS/tfm/data/metrics/summaries/sms/key_events_summaries_1.pickle\n",
      "Writing avg to /home/carlos/MasterDS/tfm/data/metrics/summaries/sms/key_events_summaries_1_avg.pickle\n",
      "Evaluating key_events_summaries_3.csv\n",
      "Performing evaluation for 4302 articles\n",
      "Writing to /home/carlos/MasterDS/tfm/data/metrics/summaries/sms/key_events_summaries_3.pickle\n",
      "Writing avg to /home/carlos/MasterDS/tfm/data/metrics/summaries/sms/key_events_summaries_3_avg.pickle\n",
      "Evaluating key_events_summaries_4.csv\n",
      "Performing evaluation for 4300 articles\n",
      "Writing to /home/carlos/MasterDS/tfm/data/metrics/summaries/sms/key_events_summaries_4.pickle\n",
      "Writing avg to /home/carlos/MasterDS/tfm/data/metrics/summaries/sms/key_events_summaries_4_avg.pickle\n",
      "Evaluating key_events_summaries_graph_2.csv\n",
      "There are 7 articles with an empty summary\n",
      "Performing evaluation for 4516 articles\n",
      "Writing to /home/carlos/MasterDS/tfm/data/metrics/summaries/sms/key_events_summaries_graph_2.pickle\n",
      "Writing avg to /home/carlos/MasterDS/tfm/data/metrics/summaries/sms/key_events_summaries_graph_2_avg.pickle\n",
      "Evaluating key_events_summaries_graph_3.csv\n",
      "There are 7 articles with an empty summary\n",
      "Performing evaluation for 4516 articles\n",
      "Writing to /home/carlos/MasterDS/tfm/data/metrics/summaries/sms/key_events_summaries_graph_3.pickle\n",
      "Writing avg to /home/carlos/MasterDS/tfm/data/metrics/summaries/sms/key_events_summaries_graph_3_avg.pickle\n",
      "Evaluating key_events_summaries_2.csv\n",
      "Performing evaluation for 4300 articles\n",
      "Writing to /home/carlos/MasterDS/tfm/data/metrics/summaries/sms/key_events_summaries_2.pickle\n",
      "Writing avg to /home/carlos/MasterDS/tfm/data/metrics/summaries/sms/key_events_summaries_2_avg.pickle\n",
      "Evaluating key_events_summaries_graph_5.csv\n",
      "Performing evaluation for 4482 articles\n",
      "Writing to /home/carlos/MasterDS/tfm/data/metrics/summaries/sms/key_events_summaries_graph_5.pickle\n",
      "Writing avg to /home/carlos/MasterDS/tfm/data/metrics/summaries/sms/key_events_summaries_graph_5_avg.pickle\n",
      "Evaluating key_events_summaries_graph_1.csv\n",
      "There are 7 articles with an empty summary\n",
      "Performing evaluation for 4516 articles\n",
      "Writing to /home/carlos/MasterDS/tfm/data/metrics/summaries/sms/key_events_summaries_graph_1.pickle\n",
      "Writing avg to /home/carlos/MasterDS/tfm/data/metrics/summaries/sms/key_events_summaries_graph_1_avg.pickle\n",
      "Evaluating key_events_summaries_graph_4.csv\n",
      "There are 7 articles with an empty summary\n",
      "Performing evaluation for 4516 articles\n",
      "Writing to /home/carlos/MasterDS/tfm/data/metrics/summaries/sms/key_events_summaries_graph_4.pickle\n",
      "Writing avg to /home/carlos/MasterDS/tfm/data/metrics/summaries/sms/key_events_summaries_graph_4_avg.pickle\n",
      "CPU times: user 1h 32min 22s, sys: 2.58 s, total: 1h 32min 25s\n",
      "Wall time: 1h 32min 27s\n"
     ]
    }
   ],
   "source": [
    "%%time\n",
    "evaluation.evaluate_all_summaries()"
   ]
  },
  {
   "cell_type": "markdown",
   "metadata": {},
   "source": [
    "# Todos los resúmenes"
   ]
  },
  {
   "cell_type": "code",
   "execution_count": 14,
   "metadata": {},
   "outputs": [],
   "source": [
    "sms_dict = {\n",
    "    'sent_emb': 'distilroberta-base-paraphrase-v1'\n",
    "}"
   ]
  },
  {
   "cell_type": "code",
   "execution_count": 15,
   "metadata": {},
   "outputs": [
    {
     "name": "stdout",
     "output_type": "stream",
     "text": [
      "Setting target metric to sms\n"
     ]
    }
   ],
   "source": [
    "evaluation = SummaryEvaluation(metric='sms', sms_dict=sms_dict)"
   ]
  },
  {
   "cell_type": "code",
   "execution_count": 16,
   "metadata": {},
   "outputs": [],
   "source": [
    "pd_metrics = evaluation.output_avg_metrics()"
   ]
  },
  {
   "cell_type": "code",
   "execution_count": 17,
   "metadata": {},
   "outputs": [
    {
     "data": {
      "text/html": [
       "<div>\n",
       "<style scoped>\n",
       "    .dataframe tbody tr th:only-of-type {\n",
       "        vertical-align: middle;\n",
       "    }\n",
       "\n",
       "    .dataframe tbody tr th {\n",
       "        vertical-align: top;\n",
       "    }\n",
       "\n",
       "    .dataframe thead th {\n",
       "        text-align: right;\n",
       "    }\n",
       "</style>\n",
       "<table border=\"1\" class=\"dataframe\">\n",
       "  <thead>\n",
       "    <tr style=\"text-align: right;\">\n",
       "      <th></th>\n",
       "      <th>experiment</th>\n",
       "      <th>score</th>\n",
       "    </tr>\n",
       "  </thead>\n",
       "  <tbody>\n",
       "    <tr>\n",
       "      <th>0</th>\n",
       "      <td>key_events_summaries_1</td>\n",
       "      <td>0.000399</td>\n",
       "    </tr>\n",
       "    <tr>\n",
       "      <th>1</th>\n",
       "      <td>key_events_summaries_graph_1</td>\n",
       "      <td>0.000265</td>\n",
       "    </tr>\n",
       "    <tr>\n",
       "      <th>2</th>\n",
       "      <td>key_events_summaries_graph_2</td>\n",
       "      <td>0.000210</td>\n",
       "    </tr>\n",
       "    <tr>\n",
       "      <th>3</th>\n",
       "      <td>key_events_summaries_graph_3</td>\n",
       "      <td>0.000265</td>\n",
       "    </tr>\n",
       "    <tr>\n",
       "      <th>4</th>\n",
       "      <td>rank_with_model_ltr_random_forest_cosine_emb_1...</td>\n",
       "      <td>0.000068</td>\n",
       "    </tr>\n",
       "    <tr>\n",
       "      <th>5</th>\n",
       "      <td>key_events_summaries_4</td>\n",
       "      <td>0.000397</td>\n",
       "    </tr>\n",
       "    <tr>\n",
       "      <th>6</th>\n",
       "      <td>key_events_summaries_3</td>\n",
       "      <td>0.000399</td>\n",
       "    </tr>\n",
       "    <tr>\n",
       "      <th>7</th>\n",
       "      <td>key_events_summaries_graph_4</td>\n",
       "      <td>0.000210</td>\n",
       "    </tr>\n",
       "    <tr>\n",
       "      <th>8</th>\n",
       "      <td>rank_with_model_ltr_gbt_cosine_emb_fca8c8bb80_...</td>\n",
       "      <td>0.000069</td>\n",
       "    </tr>\n",
       "    <tr>\n",
       "      <th>9</th>\n",
       "      <td>rank_with_model_ltr_gbt_cosine_emb_fca8c8bb80</td>\n",
       "      <td>0.000250</td>\n",
       "    </tr>\n",
       "    <tr>\n",
       "      <th>10</th>\n",
       "      <td>baseline_rank_cosine_tfidf</td>\n",
       "      <td>0.000372</td>\n",
       "    </tr>\n",
       "    <tr>\n",
       "      <th>11</th>\n",
       "      <td>rank_with_model_ltr_random_forest_cosine_emb_1...</td>\n",
       "      <td>0.000249</td>\n",
       "    </tr>\n",
       "    <tr>\n",
       "      <th>12</th>\n",
       "      <td>key_events_summaries_2</td>\n",
       "      <td>0.000397</td>\n",
       "    </tr>\n",
       "    <tr>\n",
       "      <th>13</th>\n",
       "      <td>key_events_summaries_graph_5</td>\n",
       "      <td>0.000271</td>\n",
       "    </tr>\n",
       "    <tr>\n",
       "      <th>14</th>\n",
       "      <td>baseline_rank_cosine_tfidf_processed</td>\n",
       "      <td>0.000086</td>\n",
       "    </tr>\n",
       "  </tbody>\n",
       "</table>\n",
       "</div>"
      ],
      "text/plain": [
       "                                           experiment     score\n",
       "0                              key_events_summaries_1  0.000399\n",
       "1                        key_events_summaries_graph_1  0.000265\n",
       "2                        key_events_summaries_graph_2  0.000210\n",
       "3                        key_events_summaries_graph_3  0.000265\n",
       "4   rank_with_model_ltr_random_forest_cosine_emb_1...  0.000068\n",
       "5                              key_events_summaries_4  0.000397\n",
       "6                              key_events_summaries_3  0.000399\n",
       "7                        key_events_summaries_graph_4  0.000210\n",
       "8   rank_with_model_ltr_gbt_cosine_emb_fca8c8bb80_...  0.000069\n",
       "9       rank_with_model_ltr_gbt_cosine_emb_fca8c8bb80  0.000250\n",
       "10                         baseline_rank_cosine_tfidf  0.000372\n",
       "11  rank_with_model_ltr_random_forest_cosine_emb_1...  0.000249\n",
       "12                             key_events_summaries_2  0.000397\n",
       "13                       key_events_summaries_graph_5  0.000271\n",
       "14               baseline_rank_cosine_tfidf_processed  0.000086"
      ]
     },
     "execution_count": 17,
     "metadata": {},
     "output_type": "execute_result"
    }
   ],
   "source": [
    "pd_metrics"
   ]
  }
 ],
 "metadata": {
  "kernelspec": {
   "display_name": "Python 3",
   "language": "python",
   "name": "python3"
  },
  "language_info": {
   "codemirror_mode": {
    "name": "ipython",
    "version": 3
   },
   "file_extension": ".py",
   "mimetype": "text/x-python",
   "name": "python",
   "nbconvert_exporter": "python",
   "pygments_lexer": "ipython3",
   "version": "3.7.7"
  }
 },
 "nbformat": 4,
 "nbformat_minor": 4
}
