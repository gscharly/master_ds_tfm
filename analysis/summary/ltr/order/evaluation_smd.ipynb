{
 "cells": [
  {
   "cell_type": "code",
   "execution_count": 1,
   "metadata": {},
   "outputs": [],
   "source": [
    "MAIN_PATH = \"/home/carlos/MasterDS/tfm\"\n",
    "JSON_DATA_PATH = '{}/data/json/'.format(MAIN_PATH)\n",
    "CSV_DATA_PATH = '{}/data/csv/'.format(MAIN_PATH)"
   ]
  },
  {
   "cell_type": "code",
   "execution_count": 2,
   "metadata": {},
   "outputs": [],
   "source": [
    "import sys\n",
    "sys.path.insert(0, MAIN_PATH)"
   ]
  },
  {
   "cell_type": "code",
   "execution_count": 3,
   "metadata": {},
   "outputs": [],
   "source": [
    "%load_ext autoreload\n",
    "%autoreload 2\n",
    "from scripts.metrics.summary_evaluation import SummaryEvaluation\n",
    "from scripts.models.rank_with_model.rank_with_model import RankModel\n",
    "from scripts.models.baseline_rank.baseline_rank import BaselineRank\n",
    "from scripts.models.ltr.train import LTRTrain\n",
    "from scripts.extractive_summary.ltr.ltr_features_targets import LTRFeaturesTargets\n",
    "from scripts.models.ltr_gbt.train import LTRGBTTrain\n",
    "from scripts.models.rank_with_model.metrics import RankModelMetrics\n",
    "from scripts import conf\n",
    "%reload_ext autoreload"
   ]
  },
  {
   "cell_type": "code",
   "execution_count": 4,
   "metadata": {},
   "outputs": [],
   "source": [
    "import pandas as pd"
   ]
  },
  {
   "cell_type": "markdown",
   "metadata": {},
   "source": [
    "# Evaluación"
   ]
  },
  {
   "cell_type": "markdown",
   "metadata": {},
   "source": [
    "Se usará el mismo desarrollo que se utilizó cuando se calcularon las métricas de los resúmenes generados por eventos clave y por grafos\n",
    "conceptuales"
   ]
  },
  {
   "cell_type": "markdown",
   "metadata": {},
   "source": [
    "# Baseline"
   ]
  },
  {
   "cell_type": "markdown",
   "metadata": {},
   "source": [
    "## Carga de datos"
   ]
  },
  {
   "cell_type": "code",
   "execution_count": 5,
   "metadata": {},
   "outputs": [],
   "source": [
    "key_events = ['goal', 'red_card', 'penalty']\n",
    "lags = [1, 3, 5]\n",
    "target_metric = 'cosine_tfidf'\n",
    "drop_teams = True\n",
    "lemma = True\n",
    "metric_params = {'ngram_range': (1, 2), 'strip_accents': 'unicode'}\n",
    "count_vec_kwargs = {'ngram_range': (1, 2), 'strip_accents': 'unicode'}"
   ]
  },
  {
   "cell_type": "code",
   "execution_count": 6,
   "metadata": {},
   "outputs": [
    {
     "name": "stdout",
     "output_type": "stream",
     "text": [
      "Setting target metric to cosine_tfidf\n"
     ]
    }
   ],
   "source": [
    "ltr = LTRFeaturesTargets(target_metric=target_metric, \n",
    "                        key_events=key_events,\n",
    "                        lags=lags,\n",
    "                        metric_params=metric_params,\n",
    "                        count_vec_kwargs=count_vec_kwargs,\n",
    "                        drop_teams=drop_teams,\n",
    "                        lemma=lemma)"
   ]
  },
  {
   "cell_type": "code",
   "execution_count": 7,
   "metadata": {},
   "outputs": [
    {
     "name": "stdout",
     "output_type": "stream",
     "text": [
      "Received LTR Features targets. Training and scoring are not necessary\n"
     ]
    }
   ],
   "source": [
    "rank = BaselineRank(ltr=ltr, n=10)"
   ]
  },
  {
   "cell_type": "code",
   "execution_count": 23,
   "metadata": {},
   "outputs": [
    {
     "name": "stdout",
     "output_type": "stream",
     "text": [
      "Ranking events using row_number approach...\n",
      "Saving to /home/carlos/MasterDS/tfm/models/baseline_rank/34e2c72e03/summaries.csv\n"
     ]
    }
   ],
   "source": [
    "rank.run()"
   ]
  },
  {
   "cell_type": "code",
   "execution_count": 24,
   "metadata": {},
   "outputs": [
    {
     "data": {
      "text/plain": [
       "'cosine_tfidf'"
      ]
     },
     "execution_count": 24,
     "metadata": {},
     "output_type": "execute_result"
    }
   ],
   "source": [
    "rank.ltr.target_metric"
   ]
  },
  {
   "cell_type": "markdown",
   "metadata": {},
   "source": [
    "## Evaluación"
   ]
  },
  {
   "cell_type": "code",
   "execution_count": 11,
   "metadata": {},
   "outputs": [],
   "source": [
    "sms_dict = {\n",
    "    'sent_emb': 'distilroberta-base-paraphrase-v1'\n",
    "}"
   ]
  },
  {
   "cell_type": "code",
   "execution_count": 12,
   "metadata": {},
   "outputs": [
    {
     "name": "stdout",
     "output_type": "stream",
     "text": [
      "Setting target metric to sms\n"
     ]
    }
   ],
   "source": [
    "evaluation = SummaryEvaluation(metric='sms', sms_dict=sms_dict)"
   ]
  },
  {
   "cell_type": "markdown",
   "metadata": {},
   "source": [
    "### Sin procesar"
   ]
  },
  {
   "cell_type": "markdown",
   "metadata": {},
   "source": [
    "Los vocab size representan el número de frases que hay en la referencia. "
   ]
  },
  {
   "cell_type": "code",
   "execution_count": null,
   "metadata": {},
   "outputs": [],
   "source": [
    "scores_dict, avg_scores_dict = evaluation.evaluate_rank(rank,\n",
    "                                                   preprocess_text=False)"
   ]
  },
  {
   "cell_type": "markdown",
   "metadata": {},
   "source": [
    "### Con procesado"
   ]
  },
  {
   "cell_type": "code",
   "execution_count": 13,
   "metadata": {},
   "outputs": [
    {
     "name": "stdout",
     "output_type": "stream",
     "text": [
      "Ranked summaries already exist\n",
      "Reading ranked summaries from /home/carlos/MasterDS/tfm/models/baseline_rank/34e2c72e03/summaries.csv\n",
      "Saving to /home/carlos/MasterDS/tfm/data/metrics/summaries/sms/baseline_rank_cosine_tfidf_processed\n",
      "Performing evaluation for 4523 articles\n",
      "Writing to /home/carlos/MasterDS/tfm/data/metrics/summaries/sms/baseline_rank_cosine_tfidf_processed.pickle\n",
      "Writing avg to /home/carlos/MasterDS/tfm/data/metrics/summaries/sms/baseline_rank_cosine_tfidf_processed_avg.pickle\n"
     ]
    }
   ],
   "source": [
    "scores_dict, avg_scores_dict = evaluation.evaluate_rank(rank,\n",
    "                                                   preprocess_text=True)"
   ]
  },
  {
   "cell_type": "code",
   "execution_count": 14,
   "metadata": {},
   "outputs": [
    {
     "data": {
      "text/plain": [
       "8.631958094422498e-05"
      ]
     },
     "execution_count": 14,
     "metadata": {},
     "output_type": "execute_result"
    }
   ],
   "source": [
    "avg_scores_dict"
   ]
  },
  {
   "cell_type": "markdown",
   "metadata": {},
   "source": [
    "# Random forest"
   ]
  },
  {
   "cell_type": "markdown",
   "metadata": {},
   "source": [
    "## Carga de datos"
   ]
  },
  {
   "cell_type": "code",
   "execution_count": 30,
   "metadata": {},
   "outputs": [],
   "source": [
    "ltr_params = {\n",
    "    'key_events': ['goal', 'red_card', 'penalty'],\n",
    "    'lags': [1, 3, 5],\n",
    "    'target_metric': 'rouge',\n",
    "    'drop_teams': True,\n",
    "    'lemma': True,\n",
    "    'metric_params': {'rouge_mode': 'rouge-1', 'rouge_metric': 'r'},\n",
    "    'count_vec_kwargs': {'ngram_range': (1, 2), 'strip_accents': 'unicode'}\n",
    "}\n",
    "\n",
    "num_features = ['tfidf_sum']\n",
    "cat_features_dict = {'is_key_event': [0, 1],\n",
    "                     'n_players_cat': ['no_player', 'one_player', 'more_than_one_player']}\n",
    "\n",
    "model_params = {\n",
    "    'n_estimators': [100, 200, 500],\n",
    "    'max_depth': [2, 5, 7],\n",
    "    'bootstrap': [True],\n",
    "    \n",
    "}\n",
    "cv = 5\n",
    "opt_metric = 'neg_mean_squared_error'"
   ]
  },
  {
   "cell_type": "code",
   "execution_count": 31,
   "metadata": {},
   "outputs": [
    {
     "name": "stdout",
     "output_type": "stream",
     "text": [
      "Setting target metric to rouge\n"
     ]
    }
   ],
   "source": [
    "ltr_train = LTRTrain(cat_features_dict=cat_features_dict, num_features=num_features,\n",
    "                     model_params=model_params, ltr_params=ltr_params)"
   ]
  },
  {
   "cell_type": "code",
   "execution_count": 32,
   "metadata": {},
   "outputs": [
    {
     "name": "stdout",
     "output_type": "stream",
     "text": [
      "Setting target metric to rouge\n"
     ]
    }
   ],
   "source": [
    "#CV\n",
    "ltr_train = LTRTrain(cat_features_dict=cat_features_dict,\n",
    "                     num_features=num_features,\n",
    "                     model_params=model_params, ltr_params=ltr_params,\n",
    "                    cv=cv, opt_metric=opt_metric)"
   ]
  },
  {
   "cell_type": "code",
   "execution_count": 33,
   "metadata": {},
   "outputs": [
    {
     "data": {
      "text/plain": [
       "'4649644395'"
      ]
     },
     "execution_count": 33,
     "metadata": {},
     "output_type": "execute_result"
    }
   ],
   "source": [
    "ltr_train.experiment_id()"
   ]
  },
  {
   "cell_type": "code",
   "execution_count": 34,
   "metadata": {},
   "outputs": [
    {
     "name": "stdout",
     "output_type": "stream",
     "text": [
      "Model already trained\n"
     ]
    }
   ],
   "source": [
    "rank_model = RankModel(ltr_train, n=10)"
   ]
  },
  {
   "cell_type": "markdown",
   "metadata": {},
   "source": [
    "## Evaluación"
   ]
  },
  {
   "cell_type": "code",
   "execution_count": 35,
   "metadata": {},
   "outputs": [],
   "source": [
    "sms_dict = {\n",
    "    'sent_emb': 'distilroberta-base-paraphrase-v1'\n",
    "}"
   ]
  },
  {
   "cell_type": "code",
   "execution_count": 36,
   "metadata": {},
   "outputs": [
    {
     "name": "stdout",
     "output_type": "stream",
     "text": [
      "Setting target metric to sms\n"
     ]
    }
   ],
   "source": [
    "evaluation = SummaryEvaluation(metric='sms', sms_dict=sms_dict)"
   ]
  },
  {
   "cell_type": "markdown",
   "metadata": {},
   "source": [
    "### Sin procesar"
   ]
  },
  {
   "cell_type": "code",
   "execution_count": 37,
   "metadata": {},
   "outputs": [
    {
     "name": "stdout",
     "output_type": "stream",
     "text": [
      "Ranked summaries already exist\n",
      "Reading ranked summaries from /home/carlos/MasterDS/tfm/models/rank_with_model/1e1b5e1354/summaries.csv\n",
      "Saving to /home/carlos/MasterDS/tfm/data/metrics/summaries/sms/rank_with_model_ltr_random_forest_rouge-1_r_4649644395\n",
      "Performing evaluation for 4523 articles\n",
      "Writing to /home/carlos/MasterDS/tfm/data/metrics/summaries/sms/rank_with_model_ltr_random_forest_rouge-1_r_4649644395.pickle\n",
      "Writing avg to /home/carlos/MasterDS/tfm/data/metrics/summaries/sms/rank_with_model_ltr_random_forest_rouge-1_r_4649644395_avg.pickle\n"
     ]
    }
   ],
   "source": [
    "scores_dict, avg_scores_dict = evaluation.evaluate_rank(rank_model,\n",
    "                                                        preprocess_text=False)"
   ]
  },
  {
   "cell_type": "code",
   "execution_count": 38,
   "metadata": {},
   "outputs": [
    {
     "data": {
      "text/plain": [
       "0.0001298055626846204"
      ]
     },
     "execution_count": 38,
     "metadata": {},
     "output_type": "execute_result"
    }
   ],
   "source": [
    "avg_scores_dict"
   ]
  },
  {
   "cell_type": "markdown",
   "metadata": {},
   "source": [
    "### Con procesado"
   ]
  },
  {
   "cell_type": "code",
   "execution_count": 39,
   "metadata": {},
   "outputs": [
    {
     "name": "stdout",
     "output_type": "stream",
     "text": [
      "Ranked summaries already exist\n",
      "Reading ranked summaries from /home/carlos/MasterDS/tfm/models/rank_with_model/1e1b5e1354/summaries.csv\n",
      "Saving to /home/carlos/MasterDS/tfm/data/metrics/summaries/sms/rank_with_model_ltr_random_forest_rouge-1_r_4649644395_processed\n",
      "Performing evaluation for 4523 articles\n",
      "Writing to /home/carlos/MasterDS/tfm/data/metrics/summaries/sms/rank_with_model_ltr_random_forest_rouge-1_r_4649644395_processed.pickle\n",
      "Writing avg to /home/carlos/MasterDS/tfm/data/metrics/summaries/sms/rank_with_model_ltr_random_forest_rouge-1_r_4649644395_processed_avg.pickle\n"
     ]
    }
   ],
   "source": [
    "scores_dict, avg_scores_dict = evaluation.evaluate_rank(rank_model,\n",
    "                                                   preprocess_text=True)"
   ]
  },
  {
   "cell_type": "code",
   "execution_count": 40,
   "metadata": {},
   "outputs": [
    {
     "data": {
      "text/plain": [
       "6.759536855045942e-05"
      ]
     },
     "execution_count": 40,
     "metadata": {},
     "output_type": "execute_result"
    }
   ],
   "source": [
    "avg_scores_dict"
   ]
  },
  {
   "cell_type": "markdown",
   "metadata": {},
   "source": [
    "# GBT"
   ]
  },
  {
   "cell_type": "markdown",
   "metadata": {},
   "source": [
    "## Carga de datos"
   ]
  },
  {
   "cell_type": "code",
   "execution_count": 66,
   "metadata": {},
   "outputs": [],
   "source": [
    "ltr_params = {\n",
    "    'key_events': ['goal', 'red_card', 'penalty'],\n",
    "    'lags': [1, 3, 5],\n",
    "    'target_metric': 'rouge',\n",
    "    'drop_teams': True,\n",
    "    'lemma': True,\n",
    "    'metric_params': {'rouge_mode': 'rouge-1', 'rouge_metric': 'r'},\n",
    "    'count_vec_kwargs': {'ngram_range': (1, 2), 'strip_accents': 'unicode'}\n",
    "}\n",
    "\n",
    "model_params = {\n",
    "    'min_samples_leaf': [50],\n",
    "    'subsample': [0.8],  \n",
    "    'learning_rate': [0.1],\n",
    "    'n_estimators': [80],\n",
    "    'max_depth':range(5,16,4),\n",
    "    'min_samples_split': range(200,1001,300)\n",
    "}\n",
    "cv = 5"
   ]
  },
  {
   "cell_type": "code",
   "execution_count": 67,
   "metadata": {},
   "outputs": [
    {
     "name": "stdout",
     "output_type": "stream",
     "text": [
      "Setting target metric to rouge\n"
     ]
    }
   ],
   "source": [
    "ltr_train = LTRGBTTrain(cat_features_dict=cat_features_dict, num_features=num_features,\n",
    "                     model_params=model_params, ltr_params=ltr_params,\n",
    "                    cv=cv, opt_metric=opt_metric)"
   ]
  },
  {
   "cell_type": "code",
   "execution_count": 68,
   "metadata": {},
   "outputs": [
    {
     "data": {
      "text/plain": [
       "'be3b14bd22'"
      ]
     },
     "execution_count": 68,
     "metadata": {},
     "output_type": "execute_result"
    }
   ],
   "source": [
    "ltr_train.experiment_id()"
   ]
  },
  {
   "cell_type": "code",
   "execution_count": 69,
   "metadata": {},
   "outputs": [
    {
     "name": "stdout",
     "output_type": "stream",
     "text": [
      "Model already trained\n"
     ]
    }
   ],
   "source": [
    "rank_model = RankModel(ltr_train, n=10)"
   ]
  },
  {
   "cell_type": "code",
   "execution_count": 8,
   "metadata": {},
   "outputs": [
    {
     "data": {
      "text/plain": [
       "'/home/carlos/MasterDS/tfm/models/rank_with_model/77752e3840'"
      ]
     },
     "execution_count": 8,
     "metadata": {},
     "output_type": "execute_result"
    }
   ],
   "source": [
    "rank_model.path"
   ]
  },
  {
   "cell_type": "markdown",
   "metadata": {},
   "source": [
    "## Evaluación"
   ]
  },
  {
   "cell_type": "code",
   "execution_count": 70,
   "metadata": {},
   "outputs": [],
   "source": [
    "sms_dict = {\n",
    "    'sent_emb': 'distilroberta-base-paraphrase-v1'\n",
    "}"
   ]
  },
  {
   "cell_type": "code",
   "execution_count": 71,
   "metadata": {},
   "outputs": [
    {
     "name": "stdout",
     "output_type": "stream",
     "text": [
      "Setting target metric to sms\n"
     ]
    }
   ],
   "source": [
    "evaluation = SummaryEvaluation(metric='sms', sms_dict=sms_dict)"
   ]
  },
  {
   "cell_type": "markdown",
   "metadata": {},
   "source": [
    "### Sin procesar"
   ]
  },
  {
   "cell_type": "code",
   "execution_count": 72,
   "metadata": {},
   "outputs": [
    {
     "name": "stdout",
     "output_type": "stream",
     "text": [
      "Ranked summaries already exist\n",
      "Reading ranked summaries from /home/carlos/MasterDS/tfm/models/rank_with_model/02cf14e54e/summaries.csv\n",
      "Saving to /home/carlos/MasterDS/tfm/data/metrics/summaries/sms/rank_with_model_ltr_gbt_rouge-1_r_be3b14bd22\n",
      "Performing evaluation for 4523 articles\n",
      "Writing to /home/carlos/MasterDS/tfm/data/metrics/summaries/sms/rank_with_model_ltr_gbt_rouge-1_r_be3b14bd22.pickle\n",
      "Writing avg to /home/carlos/MasterDS/tfm/data/metrics/summaries/sms/rank_with_model_ltr_gbt_rouge-1_r_be3b14bd22_avg.pickle\n"
     ]
    }
   ],
   "source": [
    "scores_dict, avg_scores_dict = evaluation.evaluate_rank(rank_model,\n",
    "                                                   preprocess_text=False)"
   ]
  },
  {
   "cell_type": "code",
   "execution_count": 73,
   "metadata": {},
   "outputs": [
    {
     "data": {
      "text/plain": [
       "0.00013162836111063557"
      ]
     },
     "execution_count": 73,
     "metadata": {},
     "output_type": "execute_result"
    }
   ],
   "source": [
    "avg_scores_dict"
   ]
  },
  {
   "cell_type": "markdown",
   "metadata": {},
   "source": [
    "### Con procesado"
   ]
  },
  {
   "cell_type": "code",
   "execution_count": 74,
   "metadata": {},
   "outputs": [
    {
     "name": "stdout",
     "output_type": "stream",
     "text": [
      "Ranked summaries already exist\n",
      "Reading ranked summaries from /home/carlos/MasterDS/tfm/models/rank_with_model/02cf14e54e/summaries.csv\n",
      "Saving to /home/carlos/MasterDS/tfm/data/metrics/summaries/sms/rank_with_model_ltr_gbt_rouge-1_r_be3b14bd22_processed\n",
      "Performing evaluation for 4523 articles\n",
      "Writing to /home/carlos/MasterDS/tfm/data/metrics/summaries/sms/rank_with_model_ltr_gbt_rouge-1_r_be3b14bd22_processed.pickle\n",
      "Writing avg to /home/carlos/MasterDS/tfm/data/metrics/summaries/sms/rank_with_model_ltr_gbt_rouge-1_r_be3b14bd22_processed_avg.pickle\n"
     ]
    }
   ],
   "source": [
    "scores_dict, avg_scores_dict = evaluation.evaluate_rank(rank_model,\n",
    "                                                   preprocess_text=True)"
   ]
  },
  {
   "cell_type": "code",
   "execution_count": 75,
   "metadata": {},
   "outputs": [
    {
     "data": {
      "text/plain": [
       "6.835684273896406e-05"
      ]
     },
     "execution_count": 75,
     "metadata": {},
     "output_type": "execute_result"
    }
   ],
   "source": [
    "avg_scores_dict"
   ]
  },
  {
   "cell_type": "markdown",
   "metadata": {},
   "source": [
    "# Eventos clave y grafos conceptuales"
   ]
  },
  {
   "cell_type": "code",
   "execution_count": 6,
   "metadata": {},
   "outputs": [],
   "source": [
    "sms_dict = {\n",
    "    'sent_emb': 'distilroberta-base-paraphrase-v1'\n",
    "}"
   ]
  },
  {
   "cell_type": "code",
   "execution_count": 7,
   "metadata": {},
   "outputs": [
    {
     "name": "stdout",
     "output_type": "stream",
     "text": [
      "Setting target metric to sms\n"
     ]
    }
   ],
   "source": [
    "evaluation = SummaryEvaluation(metric='sms', sms_dict=sms_dict)"
   ]
  },
  {
   "cell_type": "code",
   "execution_count": 8,
   "metadata": {},
   "outputs": [
    {
     "name": "stdout",
     "output_type": "stream",
     "text": [
      "Evaluating the following summaries: ['key_events_summaries_1.csv', 'key_events_summaries_3.csv', 'key_events_summaries_graph_7.csv', 'key_events_summaries_4.csv', 'key_events_summaries_graph_2.csv', 'key_events_summaries_graph_8.csv', 'key_events_summaries_graph_6.csv', 'key_events_summaries_graph_3.csv', 'key_events_summaries_2.csv', 'key_events_summaries_graph_5.csv', 'key_events_summaries_graph_9.csv', 'key_events_summaries_graph_1.csv', 'key_events_summaries_graph_4.csv']\n",
      "Evaluating key_events_summaries_1.csv\n",
      "/home/carlos/MasterDS/tfm/data/metrics/summaries/sms/key_events_summaries_1_processed\n",
      "Metrics already exist\n",
      "Evaluating key_events_summaries_3.csv\n",
      "/home/carlos/MasterDS/tfm/data/metrics/summaries/sms/key_events_summaries_3_processed\n",
      "Metrics already exist\n",
      "Evaluating key_events_summaries_graph_7.csv\n",
      "/home/carlos/MasterDS/tfm/data/metrics/summaries/sms/key_events_summaries_graph_7_processed\n",
      "There are 1 articles with an empty summary\n",
      "Performing evaluation for 4498 articles\n",
      "Writing to /home/carlos/MasterDS/tfm/data/metrics/summaries/sms/key_events_summaries_graph_7_processed.pickle\n",
      "Writing avg to /home/carlos/MasterDS/tfm/data/metrics/summaries/sms/key_events_summaries_graph_7_processed_avg.pickle\n",
      "Evaluating key_events_summaries_4.csv\n",
      "/home/carlos/MasterDS/tfm/data/metrics/summaries/sms/key_events_summaries_4_processed\n",
      "Metrics already exist\n",
      "Evaluating key_events_summaries_graph_2.csv\n",
      "/home/carlos/MasterDS/tfm/data/metrics/summaries/sms/key_events_summaries_graph_2_processed\n",
      "Metrics already exist\n",
      "Evaluating key_events_summaries_graph_8.csv\n",
      "/home/carlos/MasterDS/tfm/data/metrics/summaries/sms/key_events_summaries_graph_8_processed\n",
      "There are 16 articles with an empty summary\n",
      "Performing evaluation for 4507 articles\n",
      "Writing to /home/carlos/MasterDS/tfm/data/metrics/summaries/sms/key_events_summaries_graph_8_processed.pickle\n",
      "Writing avg to /home/carlos/MasterDS/tfm/data/metrics/summaries/sms/key_events_summaries_graph_8_processed_avg.pickle\n",
      "Evaluating key_events_summaries_graph_6.csv\n",
      "/home/carlos/MasterDS/tfm/data/metrics/summaries/sms/key_events_summaries_graph_6_processed\n",
      "There are 1 articles with an empty summary\n",
      "Performing evaluation for 4498 articles\n",
      "Writing to /home/carlos/MasterDS/tfm/data/metrics/summaries/sms/key_events_summaries_graph_6_processed.pickle\n",
      "Writing avg to /home/carlos/MasterDS/tfm/data/metrics/summaries/sms/key_events_summaries_graph_6_processed_avg.pickle\n",
      "Evaluating key_events_summaries_graph_3.csv\n",
      "/home/carlos/MasterDS/tfm/data/metrics/summaries/sms/key_events_summaries_graph_3_processed\n",
      "Metrics already exist\n",
      "Evaluating key_events_summaries_2.csv\n",
      "/home/carlos/MasterDS/tfm/data/metrics/summaries/sms/key_events_summaries_2_processed\n",
      "Metrics already exist\n",
      "Evaluating key_events_summaries_graph_5.csv\n",
      "/home/carlos/MasterDS/tfm/data/metrics/summaries/sms/key_events_summaries_graph_5_processed\n",
      "Metrics already exist\n",
      "Evaluating key_events_summaries_graph_9.csv\n",
      "/home/carlos/MasterDS/tfm/data/metrics/summaries/sms/key_events_summaries_graph_9_processed\n",
      "There are 16 articles with an empty summary\n",
      "Performing evaluation for 4507 articles\n",
      "Writing to /home/carlos/MasterDS/tfm/data/metrics/summaries/sms/key_events_summaries_graph_9_processed.pickle\n",
      "Writing avg to /home/carlos/MasterDS/tfm/data/metrics/summaries/sms/key_events_summaries_graph_9_processed_avg.pickle\n",
      "Evaluating key_events_summaries_graph_1.csv\n",
      "/home/carlos/MasterDS/tfm/data/metrics/summaries/sms/key_events_summaries_graph_1_processed\n",
      "Metrics already exist\n",
      "Evaluating key_events_summaries_graph_4.csv\n",
      "/home/carlos/MasterDS/tfm/data/metrics/summaries/sms/key_events_summaries_graph_4_processed\n",
      "Metrics already exist\n",
      "CPU times: user 46min 43s, sys: 1.21 s, total: 46min 44s\n",
      "Wall time: 46min 46s\n"
     ]
    }
   ],
   "source": [
    "%%time\n",
    "evaluation.evaluate_all_summaries(preprocess_text=True)"
   ]
  },
  {
   "cell_type": "markdown",
   "metadata": {},
   "source": [
    "# Todos los resúmenes"
   ]
  },
  {
   "cell_type": "code",
   "execution_count": 76,
   "metadata": {},
   "outputs": [],
   "source": [
    "sms_dict = {\n",
    "    'sent_emb': 'distilroberta-base-paraphrase-v1'\n",
    "}"
   ]
  },
  {
   "cell_type": "code",
   "execution_count": 77,
   "metadata": {},
   "outputs": [
    {
     "name": "stdout",
     "output_type": "stream",
     "text": [
      "Setting target metric to sms\n"
     ]
    }
   ],
   "source": [
    "evaluation = SummaryEvaluation(metric='sms', sms_dict=sms_dict)"
   ]
  },
  {
   "cell_type": "code",
   "execution_count": 78,
   "metadata": {},
   "outputs": [],
   "source": [
    "pd_metrics = evaluation.output_avg_metrics()"
   ]
  },
  {
   "cell_type": "code",
   "execution_count": 79,
   "metadata": {},
   "outputs": [
    {
     "data": {
      "text/html": [
       "<div>\n",
       "<style scoped>\n",
       "    .dataframe tbody tr th:only-of-type {\n",
       "        vertical-align: middle;\n",
       "    }\n",
       "\n",
       "    .dataframe tbody tr th {\n",
       "        vertical-align: top;\n",
       "    }\n",
       "\n",
       "    .dataframe thead th {\n",
       "        text-align: right;\n",
       "    }\n",
       "</style>\n",
       "<table border=\"1\" class=\"dataframe\">\n",
       "  <thead>\n",
       "    <tr style=\"text-align: right;\">\n",
       "      <th></th>\n",
       "      <th>score</th>\n",
       "    </tr>\n",
       "    <tr>\n",
       "      <th>experiment</th>\n",
       "      <th></th>\n",
       "    </tr>\n",
       "  </thead>\n",
       "  <tbody>\n",
       "    <tr>\n",
       "      <th>baseline_rank_cosine_tfidf</th>\n",
       "      <td>0.000372</td>\n",
       "    </tr>\n",
       "    <tr>\n",
       "      <th>baseline_rank_cosine_tfidf_processed</th>\n",
       "      <td>0.000086</td>\n",
       "    </tr>\n",
       "    <tr>\n",
       "      <th>key_events_summaries_1</th>\n",
       "      <td>0.000399</td>\n",
       "    </tr>\n",
       "    <tr>\n",
       "      <th>key_events_summaries_1_processed</th>\n",
       "      <td>0.000087</td>\n",
       "    </tr>\n",
       "    <tr>\n",
       "      <th>key_events_summaries_2</th>\n",
       "      <td>0.000397</td>\n",
       "    </tr>\n",
       "    <tr>\n",
       "      <th>key_events_summaries_2_processed</th>\n",
       "      <td>0.000087</td>\n",
       "    </tr>\n",
       "    <tr>\n",
       "      <th>key_events_summaries_3</th>\n",
       "      <td>0.000399</td>\n",
       "    </tr>\n",
       "    <tr>\n",
       "      <th>key_events_summaries_3_processed</th>\n",
       "      <td>0.000087</td>\n",
       "    </tr>\n",
       "    <tr>\n",
       "      <th>key_events_summaries_4</th>\n",
       "      <td>0.000397</td>\n",
       "    </tr>\n",
       "    <tr>\n",
       "      <th>key_events_summaries_4_processed</th>\n",
       "      <td>0.000087</td>\n",
       "    </tr>\n",
       "    <tr>\n",
       "      <th>key_events_summaries_graph_1</th>\n",
       "      <td>0.000265</td>\n",
       "    </tr>\n",
       "    <tr>\n",
       "      <th>key_events_summaries_graph_1_processed</th>\n",
       "      <td>0.000072</td>\n",
       "    </tr>\n",
       "    <tr>\n",
       "      <th>key_events_summaries_graph_2</th>\n",
       "      <td>0.000210</td>\n",
       "    </tr>\n",
       "    <tr>\n",
       "      <th>key_events_summaries_graph_2_processed</th>\n",
       "      <td>0.000060</td>\n",
       "    </tr>\n",
       "    <tr>\n",
       "      <th>key_events_summaries_graph_3</th>\n",
       "      <td>0.000265</td>\n",
       "    </tr>\n",
       "    <tr>\n",
       "      <th>key_events_summaries_graph_3_processed</th>\n",
       "      <td>0.000072</td>\n",
       "    </tr>\n",
       "    <tr>\n",
       "      <th>key_events_summaries_graph_4</th>\n",
       "      <td>0.000210</td>\n",
       "    </tr>\n",
       "    <tr>\n",
       "      <th>key_events_summaries_graph_4_processed</th>\n",
       "      <td>0.000060</td>\n",
       "    </tr>\n",
       "    <tr>\n",
       "      <th>key_events_summaries_graph_5</th>\n",
       "      <td>0.000271</td>\n",
       "    </tr>\n",
       "    <tr>\n",
       "      <th>key_events_summaries_graph_5_processed</th>\n",
       "      <td>0.000072</td>\n",
       "    </tr>\n",
       "    <tr>\n",
       "      <th>key_events_summaries_graph_6</th>\n",
       "      <td>0.000312</td>\n",
       "    </tr>\n",
       "    <tr>\n",
       "      <th>key_events_summaries_graph_6_processed</th>\n",
       "      <td>0.000071</td>\n",
       "    </tr>\n",
       "    <tr>\n",
       "      <th>key_events_summaries_graph_7</th>\n",
       "      <td>0.000280</td>\n",
       "    </tr>\n",
       "    <tr>\n",
       "      <th>key_events_summaries_graph_7_processed</th>\n",
       "      <td>0.000064</td>\n",
       "    </tr>\n",
       "    <tr>\n",
       "      <th>key_events_summaries_graph_8</th>\n",
       "      <td>0.000261</td>\n",
       "    </tr>\n",
       "    <tr>\n",
       "      <th>key_events_summaries_graph_8_processed</th>\n",
       "      <td>0.000065</td>\n",
       "    </tr>\n",
       "    <tr>\n",
       "      <th>key_events_summaries_graph_9</th>\n",
       "      <td>0.000221</td>\n",
       "    </tr>\n",
       "    <tr>\n",
       "      <th>key_events_summaries_graph_9_processed</th>\n",
       "      <td>0.000056</td>\n",
       "    </tr>\n",
       "    <tr>\n",
       "      <th>rank_with_model_ltr_gbt_cosine_emb_3ac3cc1dbd</th>\n",
       "      <td>0.000125</td>\n",
       "    </tr>\n",
       "    <tr>\n",
       "      <th>rank_with_model_ltr_gbt_cosine_emb_3ac3cc1dbd_processed</th>\n",
       "      <td>0.000066</td>\n",
       "    </tr>\n",
       "    <tr>\n",
       "      <th>rank_with_model_ltr_gbt_cosine_emb_fca8c8bb80</th>\n",
       "      <td>0.000250</td>\n",
       "    </tr>\n",
       "    <tr>\n",
       "      <th>rank_with_model_ltr_gbt_cosine_emb_fca8c8bb80_processed</th>\n",
       "      <td>0.000069</td>\n",
       "    </tr>\n",
       "    <tr>\n",
       "      <th>rank_with_model_ltr_gbt_cosine_tfidf_433610900a</th>\n",
       "      <td>0.000137</td>\n",
       "    </tr>\n",
       "    <tr>\n",
       "      <th>rank_with_model_ltr_gbt_cosine_tfidf_433610900a_processed</th>\n",
       "      <td>0.000070</td>\n",
       "    </tr>\n",
       "    <tr>\n",
       "      <th>rank_with_model_ltr_gbt_rouge-1_r_be3b14bd22</th>\n",
       "      <td>0.000132</td>\n",
       "    </tr>\n",
       "    <tr>\n",
       "      <th>rank_with_model_ltr_gbt_rouge-1_r_be3b14bd22_processed</th>\n",
       "      <td>0.000068</td>\n",
       "    </tr>\n",
       "    <tr>\n",
       "      <th>rank_with_model_ltr_nn_cosine_emb_a42168f3fc</th>\n",
       "      <td>0.000329</td>\n",
       "    </tr>\n",
       "    <tr>\n",
       "      <th>rank_with_model_ltr_nn_cosine_emb_a42168f3fc_processed</th>\n",
       "      <td>0.000085</td>\n",
       "    </tr>\n",
       "    <tr>\n",
       "      <th>rank_with_model_ltr_nn_cosine_tfidf_598b6e8db8</th>\n",
       "      <td>0.000329</td>\n",
       "    </tr>\n",
       "    <tr>\n",
       "      <th>rank_with_model_ltr_nn_cosine_tfidf_598b6e8db8_processed</th>\n",
       "      <td>0.000081</td>\n",
       "    </tr>\n",
       "    <tr>\n",
       "      <th>rank_with_model_ltr_nn_rouge-1_r_4083eddade</th>\n",
       "      <td>0.000313</td>\n",
       "    </tr>\n",
       "    <tr>\n",
       "      <th>rank_with_model_ltr_nn_rouge-1_r_4083eddade_processed</th>\n",
       "      <td>0.000080</td>\n",
       "    </tr>\n",
       "    <tr>\n",
       "      <th>rank_with_model_ltr_random_forest_cosine_emb_1fab3e681b</th>\n",
       "      <td>0.000249</td>\n",
       "    </tr>\n",
       "    <tr>\n",
       "      <th>rank_with_model_ltr_random_forest_cosine_emb_1fab3e681b_processed</th>\n",
       "      <td>0.000068</td>\n",
       "    </tr>\n",
       "    <tr>\n",
       "      <th>rank_with_model_ltr_random_forest_cosine_emb_459c57fcf1</th>\n",
       "      <td>0.000125</td>\n",
       "    </tr>\n",
       "    <tr>\n",
       "      <th>rank_with_model_ltr_random_forest_cosine_emb_459c57fcf1_processed</th>\n",
       "      <td>0.000066</td>\n",
       "    </tr>\n",
       "    <tr>\n",
       "      <th>rank_with_model_ltr_random_forest_cosine_tfidf_a422fd6e55</th>\n",
       "      <td>0.000131</td>\n",
       "    </tr>\n",
       "    <tr>\n",
       "      <th>rank_with_model_ltr_random_forest_cosine_tfidf_a422fd6e55_processed</th>\n",
       "      <td>0.000068</td>\n",
       "    </tr>\n",
       "    <tr>\n",
       "      <th>rank_with_model_ltr_random_forest_rouge-1_r_4649644395</th>\n",
       "      <td>0.000130</td>\n",
       "    </tr>\n",
       "    <tr>\n",
       "      <th>rank_with_model_ltr_random_forest_rouge-1_r_4649644395_processed</th>\n",
       "      <td>0.000068</td>\n",
       "    </tr>\n",
       "    <tr>\n",
       "      <th>rank_with_model_ltr_svm_cosine_emb_2fcdfe0b57</th>\n",
       "      <td>0.000350</td>\n",
       "    </tr>\n",
       "    <tr>\n",
       "      <th>rank_with_model_ltr_svm_cosine_emb_2fcdfe0b57_processed</th>\n",
       "      <td>0.000088</td>\n",
       "    </tr>\n",
       "    <tr>\n",
       "      <th>rank_with_model_ltr_svm_cosine_emb_3bcf12a7a0</th>\n",
       "      <td>0.000179</td>\n",
       "    </tr>\n",
       "    <tr>\n",
       "      <th>rank_with_model_ltr_svm_cosine_emb_3bcf12a7a0_processed</th>\n",
       "      <td>0.000085</td>\n",
       "    </tr>\n",
       "    <tr>\n",
       "      <th>rank_with_model_ltr_svm_cosine_tfidf_5959a3c0eb</th>\n",
       "      <td>0.000175</td>\n",
       "    </tr>\n",
       "    <tr>\n",
       "      <th>rank_with_model_ltr_svm_cosine_tfidf_5959a3c0eb_processed</th>\n",
       "      <td>0.000084</td>\n",
       "    </tr>\n",
       "    <tr>\n",
       "      <th>rank_with_model_ltr_svm_rouge-1_r_8dd264b4d2</th>\n",
       "      <td>0.000164</td>\n",
       "    </tr>\n",
       "    <tr>\n",
       "      <th>rank_with_model_ltr_svm_rouge-1_r_8dd264b4d2_processed</th>\n",
       "      <td>0.000081</td>\n",
       "    </tr>\n",
       "  </tbody>\n",
       "</table>\n",
       "</div>"
      ],
      "text/plain": [
       "                                                       score\n",
       "experiment                                                  \n",
       "baseline_rank_cosine_tfidf                          0.000372\n",
       "baseline_rank_cosine_tfidf_processed                0.000086\n",
       "key_events_summaries_1                              0.000399\n",
       "key_events_summaries_1_processed                    0.000087\n",
       "key_events_summaries_2                              0.000397\n",
       "key_events_summaries_2_processed                    0.000087\n",
       "key_events_summaries_3                              0.000399\n",
       "key_events_summaries_3_processed                    0.000087\n",
       "key_events_summaries_4                              0.000397\n",
       "key_events_summaries_4_processed                    0.000087\n",
       "key_events_summaries_graph_1                        0.000265\n",
       "key_events_summaries_graph_1_processed              0.000072\n",
       "key_events_summaries_graph_2                        0.000210\n",
       "key_events_summaries_graph_2_processed              0.000060\n",
       "key_events_summaries_graph_3                        0.000265\n",
       "key_events_summaries_graph_3_processed              0.000072\n",
       "key_events_summaries_graph_4                        0.000210\n",
       "key_events_summaries_graph_4_processed              0.000060\n",
       "key_events_summaries_graph_5                        0.000271\n",
       "key_events_summaries_graph_5_processed              0.000072\n",
       "key_events_summaries_graph_6                        0.000312\n",
       "key_events_summaries_graph_6_processed              0.000071\n",
       "key_events_summaries_graph_7                        0.000280\n",
       "key_events_summaries_graph_7_processed              0.000064\n",
       "key_events_summaries_graph_8                        0.000261\n",
       "key_events_summaries_graph_8_processed              0.000065\n",
       "key_events_summaries_graph_9                        0.000221\n",
       "key_events_summaries_graph_9_processed              0.000056\n",
       "rank_with_model_ltr_gbt_cosine_emb_3ac3cc1dbd       0.000125\n",
       "rank_with_model_ltr_gbt_cosine_emb_3ac3cc1dbd_p...  0.000066\n",
       "rank_with_model_ltr_gbt_cosine_emb_fca8c8bb80       0.000250\n",
       "rank_with_model_ltr_gbt_cosine_emb_fca8c8bb80_p...  0.000069\n",
       "rank_with_model_ltr_gbt_cosine_tfidf_433610900a     0.000137\n",
       "rank_with_model_ltr_gbt_cosine_tfidf_433610900a...  0.000070\n",
       "rank_with_model_ltr_gbt_rouge-1_r_be3b14bd22        0.000132\n",
       "rank_with_model_ltr_gbt_rouge-1_r_be3b14bd22_pr...  0.000068\n",
       "rank_with_model_ltr_nn_cosine_emb_a42168f3fc        0.000329\n",
       "rank_with_model_ltr_nn_cosine_emb_a42168f3fc_pr...  0.000085\n",
       "rank_with_model_ltr_nn_cosine_tfidf_598b6e8db8      0.000329\n",
       "rank_with_model_ltr_nn_cosine_tfidf_598b6e8db8_...  0.000081\n",
       "rank_with_model_ltr_nn_rouge-1_r_4083eddade         0.000313\n",
       "rank_with_model_ltr_nn_rouge-1_r_4083eddade_pro...  0.000080\n",
       "rank_with_model_ltr_random_forest_cosine_emb_1f...  0.000249\n",
       "rank_with_model_ltr_random_forest_cosine_emb_1f...  0.000068\n",
       "rank_with_model_ltr_random_forest_cosine_emb_45...  0.000125\n",
       "rank_with_model_ltr_random_forest_cosine_emb_45...  0.000066\n",
       "rank_with_model_ltr_random_forest_cosine_tfidf_...  0.000131\n",
       "rank_with_model_ltr_random_forest_cosine_tfidf_...  0.000068\n",
       "rank_with_model_ltr_random_forest_rouge-1_r_464...  0.000130\n",
       "rank_with_model_ltr_random_forest_rouge-1_r_464...  0.000068\n",
       "rank_with_model_ltr_svm_cosine_emb_2fcdfe0b57       0.000350\n",
       "rank_with_model_ltr_svm_cosine_emb_2fcdfe0b57_p...  0.000088\n",
       "rank_with_model_ltr_svm_cosine_emb_3bcf12a7a0       0.000179\n",
       "rank_with_model_ltr_svm_cosine_emb_3bcf12a7a0_p...  0.000085\n",
       "rank_with_model_ltr_svm_cosine_tfidf_5959a3c0eb     0.000175\n",
       "rank_with_model_ltr_svm_cosine_tfidf_5959a3c0eb...  0.000084\n",
       "rank_with_model_ltr_svm_rouge-1_r_8dd264b4d2        0.000164\n",
       "rank_with_model_ltr_svm_rouge-1_r_8dd264b4d2_pr...  0.000081"
      ]
     },
     "execution_count": 79,
     "metadata": {},
     "output_type": "execute_result"
    }
   ],
   "source": [
    "pd_metrics.set_index('experiment').sort_index()"
   ]
  },
  {
   "cell_type": "code",
   "execution_count": 10,
   "metadata": {},
   "outputs": [
    {
     "data": {
      "text/html": [
       "<div>\n",
       "<style scoped>\n",
       "    .dataframe tbody tr th:only-of-type {\n",
       "        vertical-align: middle;\n",
       "    }\n",
       "\n",
       "    .dataframe tbody tr th {\n",
       "        vertical-align: top;\n",
       "    }\n",
       "\n",
       "    .dataframe thead th {\n",
       "        text-align: right;\n",
       "    }\n",
       "</style>\n",
       "<table border=\"1\" class=\"dataframe\">\n",
       "  <thead>\n",
       "    <tr style=\"text-align: right;\">\n",
       "      <th></th>\n",
       "      <th>experiment</th>\n",
       "      <th>score</th>\n",
       "    </tr>\n",
       "  </thead>\n",
       "  <tbody>\n",
       "    <tr>\n",
       "      <th>4</th>\n",
       "      <td>rank_with_model_ltr_random_forest_cosine_emb_1...</td>\n",
       "      <td>0.000068</td>\n",
       "    </tr>\n",
       "    <tr>\n",
       "      <th>8</th>\n",
       "      <td>rank_with_model_ltr_gbt_cosine_emb_fca8c8bb80_...</td>\n",
       "      <td>0.000069</td>\n",
       "    </tr>\n",
       "    <tr>\n",
       "      <th>14</th>\n",
       "      <td>baseline_rank_cosine_tfidf_processed</td>\n",
       "      <td>0.000086</td>\n",
       "    </tr>\n",
       "    <tr>\n",
       "      <th>2</th>\n",
       "      <td>key_events_summaries_graph_2</td>\n",
       "      <td>0.000210</td>\n",
       "    </tr>\n",
       "    <tr>\n",
       "      <th>7</th>\n",
       "      <td>key_events_summaries_graph_4</td>\n",
       "      <td>0.000210</td>\n",
       "    </tr>\n",
       "    <tr>\n",
       "      <th>11</th>\n",
       "      <td>rank_with_model_ltr_random_forest_cosine_emb_1...</td>\n",
       "      <td>0.000249</td>\n",
       "    </tr>\n",
       "    <tr>\n",
       "      <th>9</th>\n",
       "      <td>rank_with_model_ltr_gbt_cosine_emb_fca8c8bb80</td>\n",
       "      <td>0.000250</td>\n",
       "    </tr>\n",
       "    <tr>\n",
       "      <th>1</th>\n",
       "      <td>key_events_summaries_graph_1</td>\n",
       "      <td>0.000265</td>\n",
       "    </tr>\n",
       "    <tr>\n",
       "      <th>3</th>\n",
       "      <td>key_events_summaries_graph_3</td>\n",
       "      <td>0.000265</td>\n",
       "    </tr>\n",
       "    <tr>\n",
       "      <th>13</th>\n",
       "      <td>key_events_summaries_graph_5</td>\n",
       "      <td>0.000271</td>\n",
       "    </tr>\n",
       "    <tr>\n",
       "      <th>10</th>\n",
       "      <td>baseline_rank_cosine_tfidf</td>\n",
       "      <td>0.000372</td>\n",
       "    </tr>\n",
       "    <tr>\n",
       "      <th>5</th>\n",
       "      <td>key_events_summaries_4</td>\n",
       "      <td>0.000397</td>\n",
       "    </tr>\n",
       "    <tr>\n",
       "      <th>12</th>\n",
       "      <td>key_events_summaries_2</td>\n",
       "      <td>0.000397</td>\n",
       "    </tr>\n",
       "    <tr>\n",
       "      <th>0</th>\n",
       "      <td>key_events_summaries_1</td>\n",
       "      <td>0.000399</td>\n",
       "    </tr>\n",
       "    <tr>\n",
       "      <th>6</th>\n",
       "      <td>key_events_summaries_3</td>\n",
       "      <td>0.000399</td>\n",
       "    </tr>\n",
       "  </tbody>\n",
       "</table>\n",
       "</div>"
      ],
      "text/plain": [
       "                                           experiment     score\n",
       "4   rank_with_model_ltr_random_forest_cosine_emb_1...  0.000068\n",
       "8   rank_with_model_ltr_gbt_cosine_emb_fca8c8bb80_...  0.000069\n",
       "14               baseline_rank_cosine_tfidf_processed  0.000086\n",
       "2                        key_events_summaries_graph_2  0.000210\n",
       "7                        key_events_summaries_graph_4  0.000210\n",
       "11  rank_with_model_ltr_random_forest_cosine_emb_1...  0.000249\n",
       "9       rank_with_model_ltr_gbt_cosine_emb_fca8c8bb80  0.000250\n",
       "1                        key_events_summaries_graph_1  0.000265\n",
       "3                        key_events_summaries_graph_3  0.000265\n",
       "13                       key_events_summaries_graph_5  0.000271\n",
       "10                         baseline_rank_cosine_tfidf  0.000372\n",
       "5                              key_events_summaries_4  0.000397\n",
       "12                             key_events_summaries_2  0.000397\n",
       "0                              key_events_summaries_1  0.000399\n",
       "6                              key_events_summaries_3  0.000399"
      ]
     },
     "execution_count": 10,
     "metadata": {},
     "output_type": "execute_result"
    }
   ],
   "source": [
    "pd_metrics.sort_values('score')"
   ]
  },
  {
   "cell_type": "code",
   "execution_count": null,
   "metadata": {},
   "outputs": [],
   "source": []
  }
 ],
 "metadata": {
  "kernelspec": {
   "display_name": "Python 3",
   "language": "python",
   "name": "python3"
  },
  "language_info": {
   "codemirror_mode": {
    "name": "ipython",
    "version": 3
   },
   "file_extension": ".py",
   "mimetype": "text/x-python",
   "name": "python",
   "nbconvert_exporter": "python",
   "pygments_lexer": "ipython3",
   "version": "3.7.7"
  }
 },
 "nbformat": 4,
 "nbformat_minor": 4
}
