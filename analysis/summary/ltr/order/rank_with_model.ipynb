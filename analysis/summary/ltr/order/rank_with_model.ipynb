{
 "cells": [
  {
   "cell_type": "code",
   "execution_count": 1,
   "metadata": {},
   "outputs": [],
   "source": [
    "MAIN_PATH = \"/home/carlos/MasterDS/tfm\"\n",
    "JSON_DATA_PATH = '{}/data/json/'.format(MAIN_PATH)\n",
    "CSV_DATA_PATH = '{}/data/csv/'.format(MAIN_PATH)"
   ]
  },
  {
   "cell_type": "code",
   "execution_count": 2,
   "metadata": {},
   "outputs": [],
   "source": [
    "import sys\n",
    "sys.path.insert(0, MAIN_PATH)"
   ]
  },
  {
   "cell_type": "code",
   "execution_count": 3,
   "metadata": {},
   "outputs": [],
   "source": [
    "%load_ext autoreload\n",
    "%autoreload 2\n",
    "from scripts.models.rank_with_model.rank_with_model import RankModel\n",
    "from scripts.models.rank_with_model.metrics import RankModelMetrics\n",
    "from scripts.models.ltr.train import LTRTrain\n",
    "%reload_ext autoreload"
   ]
  },
  {
   "cell_type": "markdown",
   "metadata": {},
   "source": [
    "# Learning to Rank: salida ordenada"
   ]
  },
  {
   "cell_type": "markdown",
   "metadata": {},
   "source": [
    "Una vez se ha obtenido un score que permita ordenar cada evento dentro\n",
    "de un partido, se debe construir el \"resumen\" a partir de ello.\n",
    "\n",
    "La aproximación más sencilla sería ordenar los eventos para cada partido, y escoger los N primeros eventos con mayor score para representar la noticia. Sin embargo, como ya hemos comentado con \n",
    "anterioridad, esto puede sufrir varios problemas: puede haber muchos\n",
    "eventos con el mismo score, y además muchos eventos pueden estar\n",
    "referidos a la misma frase del artículo."
   ]
  },
  {
   "cell_type": "markdown",
   "metadata": {},
   "source": [
    "# Uso de modelos"
   ]
  },
  {
   "cell_type": "markdown",
   "metadata": {},
   "source": [
    "Una vez obtenido un baseline usando directamente los scores, se \n",
    "pasa a utilizar la predicción de estos scores para ordenar los eventos, usando los modelos entrenados."
   ]
  },
  {
   "cell_type": "markdown",
   "metadata": {},
   "source": [
    "## Random forest"
   ]
  },
  {
   "cell_type": "code",
   "execution_count": 4,
   "metadata": {},
   "outputs": [],
   "source": [
    "ltr_params = {\n",
    "    'key_events': ['goal', 'red_card', 'penalty'],\n",
    "    'lags': [1, 3, 5],\n",
    "    'target_metric': 'cosine_emb',\n",
    "    'drop_teams': True,\n",
    "    'lemma': True,\n",
    "    'metric_params': {'embedding': 'roberta-base-nli-stsb-mean-tokens',\n",
    "                     'text_process': 'basic'},\n",
    "    'count_vec_kwargs': {'ngram_range': (1, 2), 'strip_accents': 'unicode'}\n",
    "}\n",
    "num_features = ['tfidf_sum']\n",
    "cat_features_dict = {'is_key_event': [0, 1],\n",
    "                     'n_players_cat': ['no_player', 'one_player', 'more_than_one_player']}\n",
    "\n",
    "model_params = {\n",
    "    'n_estimators': [100, 200, 500],\n",
    "    'max_depth': [2, 5, 7],\n",
    "    'bootstrap': [True],\n",
    "    \n",
    "}\n",
    "cv = 5\n",
    "opt_metric = 'neg_mean_squared_error'"
   ]
  },
  {
   "cell_type": "code",
   "execution_count": 5,
   "metadata": {},
   "outputs": [
    {
     "name": "stdout",
     "output_type": "stream",
     "text": [
      "Setting target metric to cosine_emb\n"
     ]
    }
   ],
   "source": [
    "#CV\n",
    "ltr_train = LTRTrain(cat_features_dict=cat_features_dict,\n",
    "                     num_features=num_features,\n",
    "                     model_params=model_params, ltr_params=ltr_params,\n",
    "                    cv=cv, opt_metric=opt_metric)"
   ]
  },
  {
   "cell_type": "code",
   "execution_count": 6,
   "metadata": {},
   "outputs": [
    {
     "name": "stdout",
     "output_type": "stream",
     "text": [
      "Model already trained\n"
     ]
    }
   ],
   "source": [
    "rank_model = RankModel(ltr_train, n=10)"
   ]
  },
  {
   "cell_type": "code",
   "execution_count": 7,
   "metadata": {},
   "outputs": [
    {
     "name": "stdout",
     "output_type": "stream",
     "text": [
      "Categorizing n_players...\n",
      "Computing new length...\n",
      "Dropping {'n_stop', 'advantage', 'sim_previous_5', 'sentence_ix', 'total_length', 'length', 'n_players', 'json_file', 'equalize', 'players_importance', 'event_ix', 'url', 'sim_previous_1', 'score', 'position', 'sim_previous_3'}\n",
      "Ranking events using row_number approach...\n",
      "Saving to /home/carlos/MasterDS/tfm/models/rank_with_model/975aab0d92/summaries.csv\n"
     ]
    }
   ],
   "source": [
    "rank_model.run()"
   ]
  },
  {
   "cell_type": "markdown",
   "metadata": {},
   "source": [
    "Metrics"
   ]
  },
  {
   "cell_type": "code",
   "execution_count": 15,
   "metadata": {},
   "outputs": [
    {
     "name": "stdout",
     "output_type": "stream",
     "text": [
      "Reading targets from /home/carlos/MasterDS/tfm/data/ltr/targets/6467a8c4d1/targets.csv\n"
     ]
    }
   ],
   "source": [
    "ground_truth_df = rank_model.ltr.ltr.targets.get_targets()"
   ]
  },
  {
   "cell_type": "code",
   "execution_count": 14,
   "metadata": {},
   "outputs": [
    {
     "name": "stdout",
     "output_type": "stream",
     "text": [
      "Categorizing n_players...\n",
      "Computing new length...\n",
      "Dropping {'position', 'total_length', 'sim_previous_3', 'json_file', 'advantage', 'score', 'equalize', 'url', 'event_ix', 'n_players', 'sim_previous_1', 'sentence_ix', 'players_importance', 'length', 'n_stop', 'sim_previous_5'}\n"
     ]
    }
   ],
   "source": [
    "scores_df = rank_model.get_scores_df()"
   ]
  },
  {
   "cell_type": "code",
   "execution_count": 20,
   "metadata": {},
   "outputs": [
    {
     "data": {
      "text/html": [
       "<div>\n",
       "<style scoped>\n",
       "    .dataframe tbody tr th:only-of-type {\n",
       "        vertical-align: middle;\n",
       "    }\n",
       "\n",
       "    .dataframe tbody tr th {\n",
       "        vertical-align: top;\n",
       "    }\n",
       "\n",
       "    .dataframe thead th {\n",
       "        text-align: right;\n",
       "    }\n",
       "</style>\n",
       "<table border=\"1\" class=\"dataframe\">\n",
       "  <thead>\n",
       "    <tr style=\"text-align: right;\">\n",
       "      <th></th>\n",
       "      <th>event_ix</th>\n",
       "      <th>sentence_ix</th>\n",
       "      <th>ground_truth</th>\n",
       "      <th>url</th>\n",
       "      <th>json_file</th>\n",
       "    </tr>\n",
       "  </thead>\n",
       "  <tbody>\n",
       "    <tr>\n",
       "      <th>0</th>\n",
       "      <td>0</td>\n",
       "      <td>4</td>\n",
       "      <td>0.409866</td>\n",
       "      <td>http://www.premierleague.com/match/38678</td>\n",
       "      <td>premier_league_2018_2019.json</td>\n",
       "    </tr>\n",
       "    <tr>\n",
       "      <th>1</th>\n",
       "      <td>1</td>\n",
       "      <td>3</td>\n",
       "      <td>0.417585</td>\n",
       "      <td>http://www.premierleague.com/match/38678</td>\n",
       "      <td>premier_league_2018_2019.json</td>\n",
       "    </tr>\n",
       "    <tr>\n",
       "      <th>2</th>\n",
       "      <td>2</td>\n",
       "      <td>4</td>\n",
       "      <td>0.318657</td>\n",
       "      <td>http://www.premierleague.com/match/38678</td>\n",
       "      <td>premier_league_2018_2019.json</td>\n",
       "    </tr>\n",
       "    <tr>\n",
       "      <th>3</th>\n",
       "      <td>3</td>\n",
       "      <td>3</td>\n",
       "      <td>0.134359</td>\n",
       "      <td>http://www.premierleague.com/match/38678</td>\n",
       "      <td>premier_league_2018_2019.json</td>\n",
       "    </tr>\n",
       "    <tr>\n",
       "      <th>4</th>\n",
       "      <td>4</td>\n",
       "      <td>4</td>\n",
       "      <td>0.419201</td>\n",
       "      <td>http://www.premierleague.com/match/38678</td>\n",
       "      <td>premier_league_2018_2019.json</td>\n",
       "    </tr>\n",
       "    <tr>\n",
       "      <th>...</th>\n",
       "      <td>...</td>\n",
       "      <td>...</td>\n",
       "      <td>...</td>\n",
       "      <td>...</td>\n",
       "      <td>...</td>\n",
       "    </tr>\n",
       "    <tr>\n",
       "      <th>423795</th>\n",
       "      <td>107</td>\n",
       "      <td>6</td>\n",
       "      <td>0.297914</td>\n",
       "      <td>https://www.espn.com/soccer/report?gameId=522804</td>\n",
       "      <td>italian_serie_a_2018_2019.json</td>\n",
       "    </tr>\n",
       "    <tr>\n",
       "      <th>423796</th>\n",
       "      <td>108</td>\n",
       "      <td>6</td>\n",
       "      <td>0.199009</td>\n",
       "      <td>https://www.espn.com/soccer/report?gameId=522804</td>\n",
       "      <td>italian_serie_a_2018_2019.json</td>\n",
       "    </tr>\n",
       "    <tr>\n",
       "      <th>423797</th>\n",
       "      <td>109</td>\n",
       "      <td>7</td>\n",
       "      <td>0.491633</td>\n",
       "      <td>https://www.espn.com/soccer/report?gameId=522804</td>\n",
       "      <td>italian_serie_a_2018_2019.json</td>\n",
       "    </tr>\n",
       "    <tr>\n",
       "      <th>423798</th>\n",
       "      <td>110</td>\n",
       "      <td>7</td>\n",
       "      <td>0.350315</td>\n",
       "      <td>https://www.espn.com/soccer/report?gameId=522804</td>\n",
       "      <td>italian_serie_a_2018_2019.json</td>\n",
       "    </tr>\n",
       "    <tr>\n",
       "      <th>423799</th>\n",
       "      <td>111</td>\n",
       "      <td>7</td>\n",
       "      <td>0.475473</td>\n",
       "      <td>https://www.espn.com/soccer/report?gameId=522804</td>\n",
       "      <td>italian_serie_a_2018_2019.json</td>\n",
       "    </tr>\n",
       "  </tbody>\n",
       "</table>\n",
       "<p>423800 rows × 5 columns</p>\n",
       "</div>"
      ],
      "text/plain": [
       "        event_ix  sentence_ix  ground_truth  \\\n",
       "0              0            4      0.409866   \n",
       "1              1            3      0.417585   \n",
       "2              2            4      0.318657   \n",
       "3              3            3      0.134359   \n",
       "4              4            4      0.419201   \n",
       "...          ...          ...           ...   \n",
       "423795       107            6      0.297914   \n",
       "423796       108            6      0.199009   \n",
       "423797       109            7      0.491633   \n",
       "423798       110            7      0.350315   \n",
       "423799       111            7      0.475473   \n",
       "\n",
       "                                                     url  \\\n",
       "0               http://www.premierleague.com/match/38678   \n",
       "1               http://www.premierleague.com/match/38678   \n",
       "2               http://www.premierleague.com/match/38678   \n",
       "3               http://www.premierleague.com/match/38678   \n",
       "4               http://www.premierleague.com/match/38678   \n",
       "...                                                  ...   \n",
       "423795  https://www.espn.com/soccer/report?gameId=522804   \n",
       "423796  https://www.espn.com/soccer/report?gameId=522804   \n",
       "423797  https://www.espn.com/soccer/report?gameId=522804   \n",
       "423798  https://www.espn.com/soccer/report?gameId=522804   \n",
       "423799  https://www.espn.com/soccer/report?gameId=522804   \n",
       "\n",
       "                             json_file  \n",
       "0        premier_league_2018_2019.json  \n",
       "1        premier_league_2018_2019.json  \n",
       "2        premier_league_2018_2019.json  \n",
       "3        premier_league_2018_2019.json  \n",
       "4        premier_league_2018_2019.json  \n",
       "...                                ...  \n",
       "423795  italian_serie_a_2018_2019.json  \n",
       "423796  italian_serie_a_2018_2019.json  \n",
       "423797  italian_serie_a_2018_2019.json  \n",
       "423798  italian_serie_a_2018_2019.json  \n",
       "423799  italian_serie_a_2018_2019.json  \n",
       "\n",
       "[423800 rows x 5 columns]"
      ]
     },
     "execution_count": 20,
     "metadata": {},
     "output_type": "execute_result"
    }
   ],
   "source": [
    "ground_truth_df"
   ]
  },
  {
   "cell_type": "code",
   "execution_count": 19,
   "metadata": {},
   "outputs": [],
   "source": [
    "ground_truth_df.rename({'score': 'ground_truth'}, axis=1, inplace=True)"
   ]
  },
  {
   "cell_type": "code",
   "execution_count": 17,
   "metadata": {},
   "outputs": [],
   "source": [
    "url = 'http://www.premierleague.com/match/38678'"
   ]
  },
  {
   "cell_type": "code",
   "execution_count": 18,
   "metadata": {},
   "outputs": [
    {
     "data": {
      "text/html": [
       "<div>\n",
       "<style scoped>\n",
       "    .dataframe tbody tr th:only-of-type {\n",
       "        vertical-align: middle;\n",
       "    }\n",
       "\n",
       "    .dataframe tbody tr th {\n",
       "        vertical-align: top;\n",
       "    }\n",
       "\n",
       "    .dataframe thead th {\n",
       "        text-align: right;\n",
       "    }\n",
       "</style>\n",
       "<table border=\"1\" class=\"dataframe\">\n",
       "  <thead>\n",
       "    <tr style=\"text-align: right;\">\n",
       "      <th></th>\n",
       "      <th>url</th>\n",
       "      <th>event_ix</th>\n",
       "      <th>score</th>\n",
       "    </tr>\n",
       "  </thead>\n",
       "  <tbody>\n",
       "    <tr>\n",
       "      <th>0</th>\n",
       "      <td>http://www.premierleague.com/match/38678</td>\n",
       "      <td>0</td>\n",
       "      <td>0.387173</td>\n",
       "    </tr>\n",
       "    <tr>\n",
       "      <th>1</th>\n",
       "      <td>http://www.premierleague.com/match/38678</td>\n",
       "      <td>1</td>\n",
       "      <td>0.259158</td>\n",
       "    </tr>\n",
       "    <tr>\n",
       "      <th>2</th>\n",
       "      <td>http://www.premierleague.com/match/38678</td>\n",
       "      <td>2</td>\n",
       "      <td>0.356472</td>\n",
       "    </tr>\n",
       "    <tr>\n",
       "      <th>3</th>\n",
       "      <td>http://www.premierleague.com/match/38678</td>\n",
       "      <td>3</td>\n",
       "      <td>0.256403</td>\n",
       "    </tr>\n",
       "    <tr>\n",
       "      <th>4</th>\n",
       "      <td>http://www.premierleague.com/match/38678</td>\n",
       "      <td>4</td>\n",
       "      <td>0.348194</td>\n",
       "    </tr>\n",
       "    <tr>\n",
       "      <th>...</th>\n",
       "      <td>...</td>\n",
       "      <td>...</td>\n",
       "      <td>...</td>\n",
       "    </tr>\n",
       "    <tr>\n",
       "      <th>423795</th>\n",
       "      <td>https://www.espn.com/soccer/report?gameId=522804</td>\n",
       "      <td>107</td>\n",
       "      <td>0.261912</td>\n",
       "    </tr>\n",
       "    <tr>\n",
       "      <th>423796</th>\n",
       "      <td>https://www.espn.com/soccer/report?gameId=522804</td>\n",
       "      <td>108</td>\n",
       "      <td>0.254965</td>\n",
       "    </tr>\n",
       "    <tr>\n",
       "      <th>423797</th>\n",
       "      <td>https://www.espn.com/soccer/report?gameId=522804</td>\n",
       "      <td>109</td>\n",
       "      <td>0.390691</td>\n",
       "    </tr>\n",
       "    <tr>\n",
       "      <th>423798</th>\n",
       "      <td>https://www.espn.com/soccer/report?gameId=522804</td>\n",
       "      <td>110</td>\n",
       "      <td>0.356763</td>\n",
       "    </tr>\n",
       "    <tr>\n",
       "      <th>423799</th>\n",
       "      <td>https://www.espn.com/soccer/report?gameId=522804</td>\n",
       "      <td>111</td>\n",
       "      <td>0.400439</td>\n",
       "    </tr>\n",
       "  </tbody>\n",
       "</table>\n",
       "<p>423800 rows × 3 columns</p>\n",
       "</div>"
      ],
      "text/plain": [
       "                                                     url  event_ix     score\n",
       "0               http://www.premierleague.com/match/38678         0  0.387173\n",
       "1               http://www.premierleague.com/match/38678         1  0.259158\n",
       "2               http://www.premierleague.com/match/38678         2  0.356472\n",
       "3               http://www.premierleague.com/match/38678         3  0.256403\n",
       "4               http://www.premierleague.com/match/38678         4  0.348194\n",
       "...                                                  ...       ...       ...\n",
       "423795  https://www.espn.com/soccer/report?gameId=522804       107  0.261912\n",
       "423796  https://www.espn.com/soccer/report?gameId=522804       108  0.254965\n",
       "423797  https://www.espn.com/soccer/report?gameId=522804       109  0.390691\n",
       "423798  https://www.espn.com/soccer/report?gameId=522804       110  0.356763\n",
       "423799  https://www.espn.com/soccer/report?gameId=522804       111  0.400439\n",
       "\n",
       "[423800 rows x 3 columns]"
      ]
     },
     "execution_count": 18,
     "metadata": {},
     "output_type": "execute_result"
    }
   ],
   "source": [
    "scores_df"
   ]
  },
  {
   "cell_type": "code",
   "execution_count": 27,
   "metadata": {},
   "outputs": [],
   "source": [
    "drop_cols = ['json_file', 'event_ix', 'sentence_ix']\n",
    "results_df = scores_df.merge(ground_truth_df, on=['url', 'event_ix'], how='inner')\n",
    "results_df.drop(drop_cols, axis=1, inplace=True)"
   ]
  },
  {
   "cell_type": "code",
   "execution_count": 28,
   "metadata": {},
   "outputs": [
    {
     "data": {
      "text/html": [
       "<div>\n",
       "<style scoped>\n",
       "    .dataframe tbody tr th:only-of-type {\n",
       "        vertical-align: middle;\n",
       "    }\n",
       "\n",
       "    .dataframe tbody tr th {\n",
       "        vertical-align: top;\n",
       "    }\n",
       "\n",
       "    .dataframe thead th {\n",
       "        text-align: right;\n",
       "    }\n",
       "</style>\n",
       "<table border=\"1\" class=\"dataframe\">\n",
       "  <thead>\n",
       "    <tr style=\"text-align: right;\">\n",
       "      <th></th>\n",
       "      <th>url</th>\n",
       "      <th>score</th>\n",
       "      <th>ground_truth</th>\n",
       "    </tr>\n",
       "  </thead>\n",
       "  <tbody>\n",
       "    <tr>\n",
       "      <th>0</th>\n",
       "      <td>http://www.premierleague.com/match/38678</td>\n",
       "      <td>0.387173</td>\n",
       "      <td>0.409866</td>\n",
       "    </tr>\n",
       "    <tr>\n",
       "      <th>1</th>\n",
       "      <td>http://www.premierleague.com/match/38678</td>\n",
       "      <td>0.259158</td>\n",
       "      <td>0.417585</td>\n",
       "    </tr>\n",
       "    <tr>\n",
       "      <th>2</th>\n",
       "      <td>http://www.premierleague.com/match/38678</td>\n",
       "      <td>0.356472</td>\n",
       "      <td>0.318657</td>\n",
       "    </tr>\n",
       "    <tr>\n",
       "      <th>3</th>\n",
       "      <td>http://www.premierleague.com/match/38678</td>\n",
       "      <td>0.256403</td>\n",
       "      <td>0.134359</td>\n",
       "    </tr>\n",
       "    <tr>\n",
       "      <th>4</th>\n",
       "      <td>http://www.premierleague.com/match/38678</td>\n",
       "      <td>0.348194</td>\n",
       "      <td>0.419201</td>\n",
       "    </tr>\n",
       "    <tr>\n",
       "      <th>...</th>\n",
       "      <td>...</td>\n",
       "      <td>...</td>\n",
       "      <td>...</td>\n",
       "    </tr>\n",
       "    <tr>\n",
       "      <th>423795</th>\n",
       "      <td>https://www.espn.com/soccer/report?gameId=522804</td>\n",
       "      <td>0.261912</td>\n",
       "      <td>0.297914</td>\n",
       "    </tr>\n",
       "    <tr>\n",
       "      <th>423796</th>\n",
       "      <td>https://www.espn.com/soccer/report?gameId=522804</td>\n",
       "      <td>0.254965</td>\n",
       "      <td>0.199009</td>\n",
       "    </tr>\n",
       "    <tr>\n",
       "      <th>423797</th>\n",
       "      <td>https://www.espn.com/soccer/report?gameId=522804</td>\n",
       "      <td>0.390691</td>\n",
       "      <td>0.491633</td>\n",
       "    </tr>\n",
       "    <tr>\n",
       "      <th>423798</th>\n",
       "      <td>https://www.espn.com/soccer/report?gameId=522804</td>\n",
       "      <td>0.356763</td>\n",
       "      <td>0.350315</td>\n",
       "    </tr>\n",
       "    <tr>\n",
       "      <th>423799</th>\n",
       "      <td>https://www.espn.com/soccer/report?gameId=522804</td>\n",
       "      <td>0.400439</td>\n",
       "      <td>0.475473</td>\n",
       "    </tr>\n",
       "  </tbody>\n",
       "</table>\n",
       "<p>423800 rows × 3 columns</p>\n",
       "</div>"
      ],
      "text/plain": [
       "                                                     url     score  \\\n",
       "0               http://www.premierleague.com/match/38678  0.387173   \n",
       "1               http://www.premierleague.com/match/38678  0.259158   \n",
       "2               http://www.premierleague.com/match/38678  0.356472   \n",
       "3               http://www.premierleague.com/match/38678  0.256403   \n",
       "4               http://www.premierleague.com/match/38678  0.348194   \n",
       "...                                                  ...       ...   \n",
       "423795  https://www.espn.com/soccer/report?gameId=522804  0.261912   \n",
       "423796  https://www.espn.com/soccer/report?gameId=522804  0.254965   \n",
       "423797  https://www.espn.com/soccer/report?gameId=522804  0.390691   \n",
       "423798  https://www.espn.com/soccer/report?gameId=522804  0.356763   \n",
       "423799  https://www.espn.com/soccer/report?gameId=522804  0.400439   \n",
       "\n",
       "        ground_truth  \n",
       "0           0.409866  \n",
       "1           0.417585  \n",
       "2           0.318657  \n",
       "3           0.134359  \n",
       "4           0.419201  \n",
       "...              ...  \n",
       "423795      0.297914  \n",
       "423796      0.199009  \n",
       "423797      0.491633  \n",
       "423798      0.350315  \n",
       "423799      0.475473  \n",
       "\n",
       "[423800 rows x 3 columns]"
      ]
     },
     "execution_count": 28,
     "metadata": {},
     "output_type": "execute_result"
    }
   ],
   "source": [
    "results_df"
   ]
  },
  {
   "cell_type": "code",
   "execution_count": 29,
   "metadata": {},
   "outputs": [],
   "source": [
    "url_df = results_df[results_df.url==url]"
   ]
  },
  {
   "cell_type": "code",
   "execution_count": 38,
   "metadata": {},
   "outputs": [],
   "source": [
    "from sklearn.metrics import ndcg_score\n",
    "import numpy as np"
   ]
  },
  {
   "cell_type": "code",
   "execution_count": 39,
   "metadata": {},
   "outputs": [],
   "source": [
    "scores = np.asarray([url_df['score'].tolist()])\n",
    "ground_truth = np.asarray([url_df['ground_truth'].tolist()])"
   ]
  },
  {
   "cell_type": "code",
   "execution_count": 40,
   "metadata": {},
   "outputs": [
    {
     "data": {
      "text/plain": [
       "array([[0.38717349, 0.25915811, 0.35647164, 0.25640289, 0.34819362,\n",
       "        0.39744092, 0.38657355, 0.25636408, 0.37185176, 0.38690945,\n",
       "        0.29263462, 0.39080962, 0.38717349, 0.37167088, 0.34352603,\n",
       "        0.25898455, 0.36696722, 0.24682219, 0.36644667, 0.37252241,\n",
       "        0.29124762, 0.50213291, 0.49682173, 0.29109324, 0.37113143,\n",
       "        0.3873369 , 0.25832205, 0.35456027, 0.34388373, 0.25832205,\n",
       "        0.39734621, 0.39648939, 0.29554012, 0.49782297, 0.36106491,\n",
       "        0.24682219, 0.37282961, 0.26326241, 0.38009759, 0.29109324,\n",
       "        0.34348482, 0.25898455, 0.25869545, 0.34350594, 0.25869545,\n",
       "        0.34348482, 0.36153483, 0.26051243, 0.39734621, 0.38737585,\n",
       "        0.25882541, 0.37060976, 0.37059736, 0.26129537, 0.39769341,\n",
       "        0.2915095 , 0.50123063, 0.37014893, 0.24561336, 0.24436686,\n",
       "        0.26067017, 0.38549774, 0.25636408, 0.37046694, 0.49403585,\n",
       "        0.37042084, 0.25640289, 0.28197471, 0.3704534 , 0.25636408,\n",
       "        0.25640289, 0.37043263, 0.25487725, 0.25868647, 0.37046694,\n",
       "        0.25487725, 0.37282961, 0.25882541, 0.37060976, 0.2566097 ,\n",
       "        0.34351516, 0.24682219, 0.38623599]])"
      ]
     },
     "execution_count": 40,
     "metadata": {},
     "output_type": "execute_result"
    }
   ],
   "source": [
    "scores"
   ]
  },
  {
   "cell_type": "code",
   "execution_count": 41,
   "metadata": {},
   "outputs": [
    {
     "data": {
      "text/plain": [
       "array([[0.40986603, 0.41758507, 0.31865731, 0.13435927, 0.41920128,\n",
       "        0.38135689, 0.4614774 , 0.20302108, 0.40898579, 0.37311709,\n",
       "        0.29680306, 0.39059401, 0.40986603, 0.2527889 , 0.3825624 ,\n",
       "        0.3785888 , 0.51525545, 0.25448772, 0.58829701, 0.27070698,\n",
       "        0.3140164 , 0.43958074, 0.49398625, 0.33381161, 0.36793208,\n",
       "        0.34364462, 0.4074727 , 0.34399807, 0.31291628, 0.4074727 ,\n",
       "        0.29483151, 0.4116157 , 0.27980566, 0.57544255, 0.47494888,\n",
       "        0.17011783, 0.25148401, 0.30301556, 0.40850282, 0.33381161,\n",
       "        0.55360907, 0.2358924 , 0.24368083, 0.38276559, 0.24368083,\n",
       "        0.34998846, 0.41154194, 0.19155502, 0.23389085, 0.44498497,\n",
       "        0.17830354, 0.33378857, 0.4064461 , 0.1538114 , 0.41452235,\n",
       "        0.27531984, 0.49988562, 0.45725051, 0.16821909, 0.37322342,\n",
       "        0.31500453, 0.24832232, 0.20302108, 0.34513324, 0.6317721 ,\n",
       "        0.4530853 , 0.13435927, 0.20192146, 0.58809513, 0.20302108,\n",
       "        0.13435927, 0.37342313, 0.23059903, 0.10596801, 0.34513324,\n",
       "        0.21271423, 0.35035577, 0.21912973, 0.29175556, 0.22704446,\n",
       "        0.35574996, 0.2092368 , 0.46443611]])"
      ]
     },
     "execution_count": 41,
     "metadata": {},
     "output_type": "execute_result"
    }
   ],
   "source": [
    "ground_truth"
   ]
  },
  {
   "cell_type": "code",
   "execution_count": 62,
   "metadata": {},
   "outputs": [
    {
     "data": {
      "text/plain": [
       "0.8089719576128829"
      ]
     },
     "execution_count": 62,
     "metadata": {},
     "output_type": "execute_result"
    }
   ],
   "source": [
    "ndcg_score(ground_truth, scores, k=10)"
   ]
  },
  {
   "cell_type": "code",
   "execution_count": 59,
   "metadata": {},
   "outputs": [],
   "source": [
    "a = [[.1,.2,.3]]\n",
    "b = [[.3,.2,.1]]"
   ]
  },
  {
   "cell_type": "code",
   "execution_count": 61,
   "metadata": {},
   "outputs": [
    {
     "data": {
      "text/plain": [
       "0.5307212739772436"
      ]
     },
     "execution_count": 61,
     "metadata": {},
     "output_type": "execute_result"
    }
   ],
   "source": [
    "ndcg_score(a, b, k=2)"
   ]
  },
  {
   "cell_type": "code",
   "execution_count": 63,
   "metadata": {},
   "outputs": [
    {
     "data": {
      "text/plain": [
       "'/home/carlos/MasterDS/tfm/models/rank_with_model/3829e2a65c'"
      ]
     },
     "execution_count": 63,
     "metadata": {},
     "output_type": "execute_result"
    }
   ],
   "source": [
    "rank_model.path"
   ]
  },
  {
   "cell_type": "code",
   "execution_count": 64,
   "metadata": {},
   "outputs": [],
   "source": [
    "a = np.asarray([1,2,3])"
   ]
  },
  {
   "cell_type": "code",
   "execution_count": 65,
   "metadata": {},
   "outputs": [
    {
     "data": {
      "text/plain": [
       "2.0"
      ]
     },
     "execution_count": 65,
     "metadata": {},
     "output_type": "execute_result"
    }
   ],
   "source": [
    "np.mean(a)"
   ]
  },
  {
   "cell_type": "code",
   "execution_count": null,
   "metadata": {},
   "outputs": [],
   "source": []
  },
  {
   "cell_type": "markdown",
   "metadata": {},
   "source": [
    "## Usando librería"
   ]
  },
  {
   "cell_type": "code",
   "execution_count": 8,
   "metadata": {},
   "outputs": [],
   "source": [
    "metrics = RankModelMetrics(rank_model)"
   ]
  },
  {
   "cell_type": "code",
   "execution_count": 9,
   "metadata": {},
   "outputs": [
    {
     "name": "stdout",
     "output_type": "stream",
     "text": [
      "Categorizing n_players...\n",
      "Computing new length...\n",
      "Dropping {'n_stop', 'advantage', 'sim_previous_5', 'sentence_ix', 'total_length', 'length', 'n_players', 'json_file', 'equalize', 'players_importance', 'event_ix', 'url', 'sim_previous_1', 'score', 'position', 'sim_previous_3'}\n",
      "Reading targets from /home/carlos/MasterDS/tfm/data/ltr/targets/819812546b/targets.csv\n"
     ]
    },
    {
     "name": "stderr",
     "output_type": "stream",
     "text": [
      "  8%|▊         | 384/4523 [00:08<01:16, 54.19it/s]/home/carlos/MasterDS/tfm/scripts/models/rank_with_model/metrics.py:56: UserWarning: This url only has one event, ignoring...\n",
      "  warnings.warn('This url only has one event, ignoring...')\n",
      " 14%|█▎        | 614/4523 [00:12<01:20, 48.52it/s]/home/carlos/MasterDS/tfm/scripts/models/rank_with_model/metrics.py:56: UserWarning: This url only has one event, ignoring...\n",
      "  warnings.warn('This url only has one event, ignoring...')\n",
      " 16%|█▌        | 710/4523 [00:15<01:30, 42.08it/s]/home/carlos/MasterDS/tfm/scripts/models/rank_with_model/metrics.py:56: UserWarning: This url only has one event, ignoring...\n",
      "  warnings.warn('This url only has one event, ignoring...')\n",
      " 20%|██        | 912/4523 [00:19<01:12, 49.70it/s]/home/carlos/MasterDS/tfm/scripts/models/rank_with_model/metrics.py:56: UserWarning: This url only has one event, ignoring...\n",
      "  warnings.warn('This url only has one event, ignoring...')\n",
      " 79%|███████▉  | 3573/4523 [01:14<00:21, 44.33it/s]/home/carlos/MasterDS/tfm/scripts/models/rank_with_model/metrics.py:56: UserWarning: This url only has one event, ignoring...\n",
      "  warnings.warn('This url only has one event, ignoring...')\n",
      "100%|██████████| 4523/4523 [01:34<00:00, 47.69it/s]\n"
     ]
    }
   ],
   "source": [
    "avg_metric = metrics.get_metrics()"
   ]
  },
  {
   "cell_type": "code",
   "execution_count": 79,
   "metadata": {},
   "outputs": [
    {
     "data": {
      "text/plain": [
       "0.8401264834493798"
      ]
     },
     "execution_count": 79,
     "metadata": {},
     "output_type": "execute_result"
    }
   ],
   "source": [
    "avg_metric"
   ]
  },
  {
   "cell_type": "code",
   "execution_count": null,
   "metadata": {},
   "outputs": [],
   "source": []
  }
 ],
 "metadata": {
  "kernelspec": {
   "display_name": "Python 3",
   "language": "python",
   "name": "python3"
  },
  "language_info": {
   "codemirror_mode": {
    "name": "ipython",
    "version": 3
   },
   "file_extension": ".py",
   "mimetype": "text/x-python",
   "name": "python",
   "nbconvert_exporter": "python",
   "pygments_lexer": "ipython3",
   "version": "3.7.7"
  }
 },
 "nbformat": 4,
 "nbformat_minor": 4
}
