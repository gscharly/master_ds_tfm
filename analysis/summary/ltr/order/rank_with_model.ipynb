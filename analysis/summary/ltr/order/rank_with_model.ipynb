{
 "cells": [
  {
   "cell_type": "code",
   "execution_count": 2,
   "metadata": {},
   "outputs": [],
   "source": [
    "MAIN_PATH = \"/home/carlos/MasterDS/tfm\"\n",
    "JSON_DATA_PATH = '{}/data/json/'.format(MAIN_PATH)\n",
    "CSV_DATA_PATH = '{}/data/csv/'.format(MAIN_PATH)"
   ]
  },
  {
   "cell_type": "code",
   "execution_count": 3,
   "metadata": {},
   "outputs": [],
   "source": [
    "import sys\n",
    "sys.path.insert(0, MAIN_PATH)"
   ]
  },
  {
   "cell_type": "code",
   "execution_count": 15,
   "metadata": {},
   "outputs": [
    {
     "name": "stdout",
     "output_type": "stream",
     "text": [
      "The autoreload extension is already loaded. To reload it, use:\n",
      "  %reload_ext autoreload\n"
     ]
    }
   ],
   "source": [
    "%load_ext autoreload\n",
    "%autoreload 2\n",
    "from scripts.models.rank_with_model.rank_with_model import RankModel\n",
    "from scripts.models.ltr.train import LTRTrain\n",
    "%reload_ext autoreload"
   ]
  },
  {
   "cell_type": "markdown",
   "metadata": {},
   "source": [
    "# Learning to Rank: salida ordenada"
   ]
  },
  {
   "cell_type": "markdown",
   "metadata": {},
   "source": [
    "Una vez se ha obtenido un score que permita ordenar cada evento dentro\n",
    "de un partido, se debe construir el \"resumen\" a partir de ello.\n",
    "\n",
    "La aproximación más sencilla sería ordenar los eventos para cada partido, y escoger los N primeros eventos con mayor score para representar la noticia. Sin embargo, como ya hemos comentado con \n",
    "anterioridad, esto puede sufrir varios problemas: puede haber muchos\n",
    "eventos con el mismo score, y además muchos eventos pueden estar\n",
    "referidos a la misma frase del artículo."
   ]
  },
  {
   "cell_type": "markdown",
   "metadata": {},
   "source": [
    "# Uso de modelos"
   ]
  },
  {
   "cell_type": "markdown",
   "metadata": {},
   "source": [
    "Una vez obtenido un baseline usando directamente los scores, se \n",
    "pasa a utilizar la predicción de estos scores para ordenar los eventos, usando los modelos entrenados."
   ]
  },
  {
   "cell_type": "markdown",
   "metadata": {},
   "source": [
    "## Random forest"
   ]
  },
  {
   "cell_type": "code",
   "execution_count": 16,
   "metadata": {},
   "outputs": [],
   "source": [
    "ltr_params = {\n",
    "    'key_events': ['goal', 'red_card', 'penalty'],\n",
    "    'lags': [1, 3, 5],\n",
    "    'target_metric': 'rouge',\n",
    "    'drop_teams': True,\n",
    "    'lemma': True,\n",
    "    'metric_params': {'rouge_mode': 'rouge-1', 'rouge_metric': 'r'},\n",
    "    'count_vec_kwargs': {'ngram_range': (1, 2), 'strip_accents': 'unicode'}\n",
    "}\n",
    "cat_features_dict = {'is_key_event': [0, 1]}\n",
    "num_features = ['tfidf_sum']\n",
    "model_params = {\n",
    "    'n_estimators': 100,\n",
    "    'max_depth': 2,\n",
    "    'bootstrap': True,  \n",
    "}"
   ]
  },
  {
   "cell_type": "code",
   "execution_count": 17,
   "metadata": {},
   "outputs": [
    {
     "name": "stdout",
     "output_type": "stream",
     "text": [
      "Setting target metric to rouge\n"
     ]
    }
   ],
   "source": [
    "ltr_train = LTRTrain(cat_features_dict=cat_features_dict, num_features=num_features,\n",
    "                     model_params=model_params, ltr_params=ltr_params)"
   ]
  },
  {
   "cell_type": "code",
   "execution_count": 18,
   "metadata": {},
   "outputs": [
    {
     "name": "stdout",
     "output_type": "stream",
     "text": [
      "Model already trained\n"
     ]
    }
   ],
   "source": [
    "rank_model = RankModel(ltr_train, n=10)"
   ]
  },
  {
   "cell_type": "code",
   "execution_count": 19,
   "metadata": {},
   "outputs": [
    {
     "name": "stdout",
     "output_type": "stream",
     "text": [
      "Categorizing n_players...\n",
      "Computing new length...\n",
      "Dropping {'n_players_cat', 'url', 'n_stop', 'score', 'sim_previous_5', 'sim_previous_3', 'sim_previous_1', 'sentence_ix', 'players_importance', 'event_ix', 'length', 'advantage', 'json_file', 'position', 'n_players', 'equalize', 'total_length'}\n",
      "Ranking events using row_number approach...\n",
      "Saving to /home/carlos/MasterDS/tfm/models/rank_with_model/9ef9119130/summaries.csv\n"
     ]
    }
   ],
   "source": [
    "rank_model.run()"
   ]
  },
  {
   "cell_type": "code",
   "execution_count": null,
   "metadata": {},
   "outputs": [],
   "source": []
  }
 ],
 "metadata": {
  "kernelspec": {
   "display_name": "Python 3",
   "language": "python",
   "name": "python3"
  },
  "language_info": {
   "codemirror_mode": {
    "name": "ipython",
    "version": 3
   },
   "file_extension": ".py",
   "mimetype": "text/x-python",
   "name": "python",
   "nbconvert_exporter": "python",
   "pygments_lexer": "ipython3",
   "version": "3.7.7"
  }
 },
 "nbformat": 4,
 "nbformat_minor": 4
}
