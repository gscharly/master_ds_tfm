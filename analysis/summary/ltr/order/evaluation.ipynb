{
 "cells": [
  {
   "cell_type": "code",
   "execution_count": 1,
   "metadata": {},
   "outputs": [],
   "source": [
    "MAIN_PATH = \"/home/carlos/MasterDS/tfm\"\n",
    "JSON_DATA_PATH = '{}/data/json/'.format(MAIN_PATH)\n",
    "CSV_DATA_PATH = '{}/data/csv/'.format(MAIN_PATH)"
   ]
  },
  {
   "cell_type": "code",
   "execution_count": 2,
   "metadata": {},
   "outputs": [],
   "source": [
    "import sys\n",
    "sys.path.insert(0, MAIN_PATH)"
   ]
  },
  {
   "cell_type": "code",
   "execution_count": 3,
   "metadata": {},
   "outputs": [],
   "source": [
    "%load_ext autoreload\n",
    "%autoreload 2\n",
    "from scripts.metrics.summary_evaluation import SummaryEvaluation\n",
    "from scripts.models.rank_with_model.rank_with_model import RankModel\n",
    "from scripts.models.baseline_rank.baseline_rank import BaselineRank\n",
    "from scripts.models.ltr.train import LTRTrain\n",
    "from scripts.extractive_summary.ltr.ltr_features_targets import LTRFeaturesTargets\n",
    "from scripts.models.ltr_gbt.train import LTRGBTTrain\n",
    "from scripts.models.ltr_svm_tf.train import LTRSVMTFTrain\n",
    "from scripts.models.ltr_nn_tf.train import LTRNNTFTrain\n",
    "from scripts import conf\n",
    "%reload_ext autoreload"
   ]
  },
  {
   "cell_type": "code",
   "execution_count": 4,
   "metadata": {},
   "outputs": [],
   "source": [
    "import pandas as pd"
   ]
  },
  {
   "cell_type": "markdown",
   "metadata": {},
   "source": [
    "# Evaluación"
   ]
  },
  {
   "cell_type": "markdown",
   "metadata": {},
   "source": [
    "Se usará el mismo desarrollo que se utilizó cuando se calcularon las métricas de los resúmenes generados por eventos clave y por grafos\n",
    "conceptuales"
   ]
  },
  {
   "cell_type": "markdown",
   "metadata": {},
   "source": [
    "# Baseline"
   ]
  },
  {
   "cell_type": "markdown",
   "metadata": {},
   "source": [
    "## Carga de datos"
   ]
  },
  {
   "cell_type": "code",
   "execution_count": 17,
   "metadata": {},
   "outputs": [],
   "source": [
    "key_events = ['goal', 'red_card', 'penalty']\n",
    "lags = [1, 3, 5]\n",
    "target_metric = 'rouge'\n",
    "drop_teams = True\n",
    "lemma = True\n",
    "metric_params = {'rouge_mode': 'rouge-1', 'rouge_metric': 'r'}\n",
    "count_vec_kwargs = {'ngram_range': (1, 2), 'strip_accents': 'unicode'}"
   ]
  },
  {
   "cell_type": "code",
   "execution_count": 18,
   "metadata": {},
   "outputs": [
    {
     "name": "stdout",
     "output_type": "stream",
     "text": [
      "Setting target metric to rouge\n"
     ]
    }
   ],
   "source": [
    "ltr = LTRFeaturesTargets(target_metric=target_metric, \n",
    "                        key_events=key_events,\n",
    "                        lags=lags,\n",
    "                        metric_params=metric_params,\n",
    "                        count_vec_kwargs=count_vec_kwargs,\n",
    "                        drop_teams=drop_teams,\n",
    "                        lemma=lemma)"
   ]
  },
  {
   "cell_type": "code",
   "execution_count": 19,
   "metadata": {},
   "outputs": [
    {
     "name": "stdout",
     "output_type": "stream",
     "text": [
      "Received LTR Features targets. Training and scoring are not necessary\n"
     ]
    }
   ],
   "source": [
    "rank = BaselineRank(ltr=ltr, n=10)"
   ]
  },
  {
   "cell_type": "code",
   "execution_count": 20,
   "metadata": {},
   "outputs": [
    {
     "name": "stdout",
     "output_type": "stream",
     "text": [
      "Ranking events using row_number approach...\n",
      "Saving to /home/carlos/MasterDS/tfm/models/baseline_rank/60099ac54d/summaries.csv\n"
     ]
    }
   ],
   "source": [
    "rank.run()"
   ]
  },
  {
   "cell_type": "code",
   "execution_count": 29,
   "metadata": {},
   "outputs": [
    {
     "name": "stdout",
     "output_type": "stream",
     "text": [
      "Reading ranked summaries from /home/carlos/MasterDS/tfm/models/baseline_rank/60099ac54d/summaries.csv\n"
     ]
    }
   ],
   "source": [
    "pd_summaries = rank.read_summaries()"
   ]
  },
  {
   "cell_type": "code",
   "execution_count": 23,
   "metadata": {},
   "outputs": [],
   "source": [
    "articles_path = '{}articles_events.csv'.format(CSV_DATA_PATH)"
   ]
  },
  {
   "cell_type": "code",
   "execution_count": 26,
   "metadata": {},
   "outputs": [],
   "source": [
    "pd_matches = pd.read_csv(articles_path)"
   ]
  },
  {
   "cell_type": "code",
   "execution_count": 34,
   "metadata": {},
   "outputs": [],
   "source": [
    "join_cols = ['url']\n",
    "match_cols = join_cols + ['json_file', 'article', 'events']\n",
    "sum_cols = join_cols + ['summary_events']"
   ]
  },
  {
   "cell_type": "code",
   "execution_count": 35,
   "metadata": {},
   "outputs": [],
   "source": [
    "pd_matches_sum = pd_matches[match_cols].merge(pd_summaries[sum_cols], on=join_cols, how='inner')"
   ]
  },
  {
   "cell_type": "code",
   "execution_count": 36,
   "metadata": {
    "collapsed": true,
    "jupyter": {
     "outputs_hidden": true
    }
   },
   "outputs": [
    {
     "data": {
      "text/html": [
       "<div>\n",
       "<style scoped>\n",
       "    .dataframe tbody tr th:only-of-type {\n",
       "        vertical-align: middle;\n",
       "    }\n",
       "\n",
       "    .dataframe tbody tr th {\n",
       "        vertical-align: top;\n",
       "    }\n",
       "\n",
       "    .dataframe thead th {\n",
       "        text-align: right;\n",
       "    }\n",
       "</style>\n",
       "<table border=\"1\" class=\"dataframe\">\n",
       "  <thead>\n",
       "    <tr style=\"text-align: right;\">\n",
       "      <th></th>\n",
       "      <th>url</th>\n",
       "      <th>json_file</th>\n",
       "      <th>article</th>\n",
       "      <th>events</th>\n",
       "      <th>summary_events</th>\n",
       "    </tr>\n",
       "  </thead>\n",
       "  <tbody>\n",
       "    <tr>\n",
       "      <th>0</th>\n",
       "      <td>http://www.premierleague.com/match/38678</td>\n",
       "      <td>premier_league_2018_2019.json</td>\n",
       "      <td>A goal and an assist from Riyad Mahrez sealed ...</td>\n",
       "      <td>Attempt blocked. Ilkay Gündogan (Manchester Ci...</td>\n",
       "      <td>Attempt saved. Riyad Mahrez (Manchester City) ...</td>\n",
       "    </tr>\n",
       "    <tr>\n",
       "      <th>1</th>\n",
       "      <td>http://www.premierleague.com/match/38679</td>\n",
       "      <td>premier_league_2018_2019.json</td>\n",
       "      <td>A second-half double by Pierre-Emerick Aubamey...</td>\n",
       "      <td>Hand ball by Tom Heaton (Burnley). Yellow Card...</td>\n",
       "      <td>Pierre-Emerick Aubameyang (Arsenal) hits the r...</td>\n",
       "    </tr>\n",
       "    <tr>\n",
       "      <th>2</th>\n",
       "      <td>http://www.premierleague.com/match/38680</td>\n",
       "      <td>premier_league_2018_2019.json</td>\n",
       "      <td>Michy Batshuayi's brace helped Crystal Palace ...</td>\n",
       "      <td>Andros Townsend (Crystal Palace) wins a free k...</td>\n",
       "      <td>Andros Townsend (Crystal Palace) wins a free k...</td>\n",
       "    </tr>\n",
       "    <tr>\n",
       "      <th>3</th>\n",
       "      <td>http://www.premierleague.com/match/38681</td>\n",
       "      <td>premier_league_2018_2019.json</td>\n",
       "      <td>Fulham were overpowered by an impressive Newca...</td>\n",
       "      <td>Attempt missed. Jonjo Shelvey (Newcastle Unite...</td>\n",
       "      <td>Attempt missed. Jonjo Shelvey (Newcastle Unite...</td>\n",
       "    </tr>\n",
       "    <tr>\n",
       "      <th>4</th>\n",
       "      <td>http://www.premierleague.com/match/38682</td>\n",
       "      <td>premier_league_2018_2019.json</td>\n",
       "      <td>Chelsea confirmed a third-place finish after a...</td>\n",
       "      <td>Foul by Jorginho (Chelsea). Jamie Vardy (Leice...</td>\n",
       "      <td>Jamie Vardy (Leicester City) wins a free kick ...</td>\n",
       "    </tr>\n",
       "    <tr>\n",
       "      <th>...</th>\n",
       "      <td>...</td>\n",
       "      <td>...</td>\n",
       "      <td>...</td>\n",
       "      <td>...</td>\n",
       "      <td>...</td>\n",
       "    </tr>\n",
       "    <tr>\n",
       "      <th>4518</th>\n",
       "      <td>https://www.espn.com/soccer/report?gameId=522712</td>\n",
       "      <td>italian_serie_a_2018_2019.json</td>\n",
       "      <td>Inter Milan notched their seventh successive S...</td>\n",
       "      <td>Corner,  Inter Milan. Conceded by Cristian Rom...</td>\n",
       "      <td>Attempt missed. Ivan Perisic (Inter Milan) rig...</td>\n",
       "    </tr>\n",
       "    <tr>\n",
       "      <th>4519</th>\n",
       "      <td>https://www.espn.com/soccer/report?gameId=522672</td>\n",
       "      <td>italian_serie_a_2018_2019.json</td>\n",
       "      <td>Two goals from Arkadiusz Milik helped Napoli m...</td>\n",
       "      <td>Offside, Napoli. Elseid Hysaj tries a through ...</td>\n",
       "      <td>Goal!  Napoli 1, Frosinone 0. Piotr Zielinski ...</td>\n",
       "    </tr>\n",
       "    <tr>\n",
       "      <th>4520</th>\n",
       "      <td>https://www.espn.com/soccer/report?gameId=522701</td>\n",
       "      <td>italian_serie_a_2018_2019.json</td>\n",
       "      <td>Inter Milan's run of seven successive league w...</td>\n",
       "      <td>Attempt blocked. Hans Hateboer (Atalanta) head...</td>\n",
       "      <td>Corner,  Atalanta. Conceded by Samir Handanovi...</td>\n",
       "    </tr>\n",
       "    <tr>\n",
       "      <th>4521</th>\n",
       "      <td>https://www.espn.com/soccer/report?gameId=522667</td>\n",
       "      <td>italian_serie_a_2018_2019.json</td>\n",
       "      <td>Inter Milan rebounded from the disappointment ...</td>\n",
       "      <td>Corner,  Inter Milan. Conceded by Bram Nuytinc...</td>\n",
       "      <td>Marco D'Alessandro (Udinese) wins a free kick ...</td>\n",
       "    </tr>\n",
       "    <tr>\n",
       "      <th>4522</th>\n",
       "      <td>https://www.espn.com/soccer/report?gameId=522804</td>\n",
       "      <td>italian_serie_a_2018_2019.json</td>\n",
       "      <td>Inter Milan, touted as one of the Serie A titl...</td>\n",
       "      <td>Foul by Tomás Rincón (Torino). Sime Vrsaljko (...</td>\n",
       "      <td>Goal!  Inter Milan 1, Torino 0. Ivan Perisic (...</td>\n",
       "    </tr>\n",
       "  </tbody>\n",
       "</table>\n",
       "<p>4523 rows × 5 columns</p>\n",
       "</div>"
      ],
      "text/plain": [
       "                                                   url  ...                                     summary_events\n",
       "0             http://www.premierleague.com/match/38678  ...  Attempt saved. Riyad Mahrez (Manchester City) ...\n",
       "1             http://www.premierleague.com/match/38679  ...  Pierre-Emerick Aubameyang (Arsenal) hits the r...\n",
       "2             http://www.premierleague.com/match/38680  ...  Andros Townsend (Crystal Palace) wins a free k...\n",
       "3             http://www.premierleague.com/match/38681  ...  Attempt missed. Jonjo Shelvey (Newcastle Unite...\n",
       "4             http://www.premierleague.com/match/38682  ...  Jamie Vardy (Leicester City) wins a free kick ...\n",
       "...                                                ...  ...                                                ...\n",
       "4518  https://www.espn.com/soccer/report?gameId=522712  ...  Attempt missed. Ivan Perisic (Inter Milan) rig...\n",
       "4519  https://www.espn.com/soccer/report?gameId=522672  ...  Goal!  Napoli 1, Frosinone 0. Piotr Zielinski ...\n",
       "4520  https://www.espn.com/soccer/report?gameId=522701  ...  Corner,  Atalanta. Conceded by Samir Handanovi...\n",
       "4521  https://www.espn.com/soccer/report?gameId=522667  ...  Marco D'Alessandro (Udinese) wins a free kick ...\n",
       "4522  https://www.espn.com/soccer/report?gameId=522804  ...  Goal!  Inter Milan 1, Torino 0. Ivan Perisic (...\n",
       "\n",
       "[4523 rows x 5 columns]"
      ]
     },
     "execution_count": 36,
     "metadata": {},
     "output_type": "execute_result"
    }
   ],
   "source": [
    "pd_matches_sum"
   ]
  },
  {
   "cell_type": "markdown",
   "metadata": {},
   "source": [
    "## Evaluación"
   ]
  },
  {
   "cell_type": "code",
   "execution_count": 37,
   "metadata": {},
   "outputs": [
    {
     "name": "stdout",
     "output_type": "stream",
     "text": [
      "Setting target metric to rouge\n"
     ]
    }
   ],
   "source": [
    "evaluation = SummaryEvaluation(metric='rouge')"
   ]
  },
  {
   "cell_type": "markdown",
   "metadata": {},
   "source": [
    "### Sin procesar"
   ]
  },
  {
   "cell_type": "code",
   "execution_count": 38,
   "metadata": {},
   "outputs": [],
   "source": [
    "file_name = 'baseline_rank'"
   ]
  },
  {
   "cell_type": "code",
   "execution_count": 44,
   "metadata": {},
   "outputs": [],
   "source": [
    "path = '{}/summaries/rouge/{}'.format(conf.METRICS_PATH, file_name)"
   ]
  },
  {
   "cell_type": "code",
   "execution_count": 47,
   "metadata": {},
   "outputs": [
    {
     "name": "stdout",
     "output_type": "stream",
     "text": [
      "Performing evaluation for 4523 articles\n",
      "Writing to /home/carlos/MasterDS/tfm/data/metrics/summaries/rouge/baseline_rank.pickle\n",
      "Writing avg to /home/carlos/MasterDS/tfm/data/metrics/summaries/rouge/baseline_rank_avg.pickle\n"
     ]
    }
   ],
   "source": [
    "scores_dict, avg_scores_dict = evaluation.evaluate(pd_matches_sum, path,\n",
    "                                                   preprocess_text=False)"
   ]
  },
  {
   "cell_type": "code",
   "execution_count": 48,
   "metadata": {},
   "outputs": [
    {
     "data": {
      "text/plain": [
       "{'rouge-1': {'f': 0.2174203202733838,\n",
       "  'p': 0.2446300614718203,\n",
       "  'r': 0.2258641620482864},\n",
       " 'rouge-2': {'f': 0.046197910241048024,\n",
       "  'p': 0.05345303695536832,\n",
       "  'r': 0.047444265068684204},\n",
       " 'rouge-l': {'f': 0.2009559760580376,\n",
       "  'p': 0.3273697532121361,\n",
       "  'r': 0.1551321076144749}}"
      ]
     },
     "execution_count": 48,
     "metadata": {},
     "output_type": "execute_result"
    }
   ],
   "source": [
    "avg_scores_dict"
   ]
  },
  {
   "cell_type": "markdown",
   "metadata": {},
   "source": [
    "### Con procesado"
   ]
  },
  {
   "cell_type": "code",
   "execution_count": 49,
   "metadata": {},
   "outputs": [],
   "source": [
    "file_name = 'baseline_rank_processed'"
   ]
  },
  {
   "cell_type": "code",
   "execution_count": 50,
   "metadata": {},
   "outputs": [],
   "source": [
    "path = '{}/summaries/rouge/{}'.format(conf.METRICS_PATH, file_name)"
   ]
  },
  {
   "cell_type": "code",
   "execution_count": 53,
   "metadata": {},
   "outputs": [
    {
     "name": "stdout",
     "output_type": "stream",
     "text": [
      "Performing evaluation for 4523 articles\n",
      "Writing to /home/carlos/MasterDS/tfm/data/metrics/summaries/rouge/baseline_rank_processed.pickle\n",
      "Writing avg to /home/carlos/MasterDS/tfm/data/metrics/summaries/rouge/baseline_rank_processed_avg.pickle\n"
     ]
    }
   ],
   "source": [
    "scores_dict, avg_scores_dict = evaluation.evaluate(pd_matches_sum, path,\n",
    "                                                   preprocess_text=True)"
   ]
  },
  {
   "cell_type": "code",
   "execution_count": 54,
   "metadata": {},
   "outputs": [
    {
     "data": {
      "text/plain": [
       "{'rouge-1': {'f': 0.21470774269529114,\n",
       "  'p': 0.22181043816460994,\n",
       "  'r': 0.24382593800687752},\n",
       " 'rouge-2': {'f': 0.06066140105765257,\n",
       "  'p': 0.06151992918019337,\n",
       "  'r': 0.07034246895093633},\n",
       " 'rouge-l': {'f': 0.260602313959701,\n",
       "  'p': 0.3969169606060778,\n",
       "  'r': 0.20847736563413624}}"
      ]
     },
     "execution_count": 54,
     "metadata": {},
     "output_type": "execute_result"
    }
   ],
   "source": [
    "avg_scores_dict"
   ]
  },
  {
   "cell_type": "markdown",
   "metadata": {},
   "source": [
    "# Random forest"
   ]
  },
  {
   "cell_type": "markdown",
   "metadata": {},
   "source": [
    "## Carga de datos"
   ]
  },
  {
   "cell_type": "code",
   "execution_count": 19,
   "metadata": {},
   "outputs": [],
   "source": [
    "ltr_params = {\n",
    "    'key_events': ['goal', 'red_card', 'penalty'],\n",
    "    'lags': [1, 3, 5],\n",
    "    'target_metric': 'cosine_tfidf',\n",
    "    'drop_teams': True,\n",
    "    'lemma': True,\n",
    "    'metric_params': {'ngram_range': (1, 2), 'strip_accents': 'unicode'},\n",
    "    'count_vec_kwargs': {'ngram_range': (1, 2), 'strip_accents': 'unicode'}\n",
    "}\n",
    "cat_features_dict = {'is_key_event': [0, 1]}\n",
    "num_features = ['tfidf_sum']\n",
    "model_params = {\n",
    "    'n_estimators': [100, 200, 500],\n",
    "    'max_depth': [2, 5, 7],\n",
    "    'bootstrap': [True],\n",
    "    \n",
    "}\n",
    "cv = 5\n",
    "opt_metric = 'neg_mean_squared_error'"
   ]
  },
  {
   "cell_type": "code",
   "execution_count": 20,
   "metadata": {},
   "outputs": [
    {
     "name": "stdout",
     "output_type": "stream",
     "text": [
      "Setting target metric to cosine_tfidf\n"
     ]
    }
   ],
   "source": [
    "ltr_train = LTRTrain(cat_features_dict=cat_features_dict, num_features=num_features,\n",
    "                     model_params=model_params, ltr_params=ltr_params)"
   ]
  },
  {
   "cell_type": "code",
   "execution_count": 21,
   "metadata": {},
   "outputs": [
    {
     "name": "stdout",
     "output_type": "stream",
     "text": [
      "Setting target metric to cosine_tfidf\n"
     ]
    }
   ],
   "source": [
    "#CV\n",
    "ltr_train = LTRTrain(cat_features_dict=cat_features_dict, num_features=num_features,\n",
    "                     model_params=model_params, ltr_params=ltr_params,\n",
    "                    cv=cv, opt_metric=opt_metric)"
   ]
  },
  {
   "cell_type": "code",
   "execution_count": 28,
   "metadata": {},
   "outputs": [
    {
     "name": "stdout",
     "output_type": "stream",
     "text": [
      "Model already trained\n"
     ]
    }
   ],
   "source": [
    "rank_model = RankModel(ltr_train, n=10)"
   ]
  },
  {
   "cell_type": "code",
   "execution_count": 23,
   "metadata": {},
   "outputs": [
    {
     "data": {
      "text/plain": [
       "'/home/carlos/MasterDS/tfm/models/rank_with_model/668fb407d3'"
      ]
     },
     "execution_count": 23,
     "metadata": {},
     "output_type": "execute_result"
    }
   ],
   "source": [
    "rank_model.path"
   ]
  },
  {
   "cell_type": "code",
   "execution_count": 29,
   "metadata": {
    "collapsed": true,
    "jupyter": {
     "outputs_hidden": true
    }
   },
   "outputs": [
    {
     "name": "stdout",
     "output_type": "stream",
     "text": [
      "        length  n_stop  is_key_event  n_players  players_importance  \\\n",
      "0           12       4             0          2            0.102041   \n",
      "1            3       2             0          1            0.040816   \n",
      "2            8       5             0          2            0.142857   \n",
      "3            3       2             0          1            0.091837   \n",
      "4            6       3             0          1            0.040816   \n",
      "...        ...     ...           ...        ...                 ...   \n",
      "423795       3       1             0          1            0.000539   \n",
      "423796       4       0             0          2            0.000853   \n",
      "423797      14       7             0          2            0.000797   \n",
      "423798       8       4             0          2            0.001116   \n",
      "423799      15      11             0          2            0.001237   \n",
      "\n",
      "        advantage  equalize  position  tfidf_sum  sim_previous_1  \\\n",
      "0               0         0  0.012048   4.527906        0.000000   \n",
      "1               0         0  0.024096   2.190114        0.000000   \n",
      "2               0         0  0.036145   3.573445        0.000000   \n",
      "3               0         0  0.048193   2.205765        0.241337   \n",
      "4               0         0  0.060241   3.246406        0.000000   \n",
      "...           ...       ...       ...        ...             ...   \n",
      "423795          0         0  0.964286   2.178008        0.000000   \n",
      "423796          0         0  0.973214   2.602282        0.000000   \n",
      "423797          0         0  0.982143   4.892766        0.000000   \n",
      "423798          0         0  0.991071   3.609882        0.098261   \n",
      "423799          0         0  1.000000   5.007116        0.000000   \n",
      "\n",
      "        sim_previous_3  sim_previous_5  event_ix  \\\n",
      "0             0.000000        0.000000         0   \n",
      "1             0.000000        0.000000         1   \n",
      "2             0.000000        0.000000         2   \n",
      "3             0.000000        0.000000         3   \n",
      "4             0.160309        0.000000         4   \n",
      "...                ...             ...       ...   \n",
      "423795        0.000000        0.078282       107   \n",
      "423796        0.000000        0.000000       108   \n",
      "423797        0.000000        0.000000       109   \n",
      "423798        0.000000        0.000000       110   \n",
      "423799        0.088713        0.000000       111   \n",
      "\n",
      "                                                     url  \\\n",
      "0               http://www.premierleague.com/match/38678   \n",
      "1               http://www.premierleague.com/match/38678   \n",
      "2               http://www.premierleague.com/match/38678   \n",
      "3               http://www.premierleague.com/match/38678   \n",
      "4               http://www.premierleague.com/match/38678   \n",
      "...                                                  ...   \n",
      "423795  https://www.espn.com/soccer/report?gameId=522804   \n",
      "423796  https://www.espn.com/soccer/report?gameId=522804   \n",
      "423797  https://www.espn.com/soccer/report?gameId=522804   \n",
      "423798  https://www.espn.com/soccer/report?gameId=522804   \n",
      "423799  https://www.espn.com/soccer/report?gameId=522804   \n",
      "\n",
      "                             json_file  sentence_ix     score  \n",
      "0        premier_league_2018_2019.json            4  0.277126  \n",
      "1        premier_league_2018_2019.json            3  0.275090  \n",
      "2        premier_league_2018_2019.json            2  0.438094  \n",
      "3        premier_league_2018_2019.json            0  0.000000  \n",
      "4        premier_league_2018_2019.json            4  0.286676  \n",
      "...                                ...          ...       ...  \n",
      "423795  italian_serie_a_2018_2019.json            0  0.000000  \n",
      "423796  italian_serie_a_2018_2019.json            3  0.334967  \n",
      "423797  italian_serie_a_2018_2019.json            1  0.197879  \n",
      "423798  italian_serie_a_2018_2019.json            1  0.226486  \n",
      "423799  italian_serie_a_2018_2019.json            2  0.269574  \n",
      "\n",
      "[423800 rows x 17 columns]\n",
      "Categorizing n_players...\n",
      "Computing new length...\n",
      "Dropping {'players_importance', 'sim_previous_3', 'length', 'event_ix', 'equalize', 'url', 'total_length', 'sim_previous_1', 'n_players_cat', 'sentence_ix', 'sim_previous_5', 'n_players', 'json_file', 'n_stop', 'score', 'position', 'advantage'}\n",
      "Ranking events using row_number approach...\n",
      "Saving to /home/carlos/MasterDS/tfm/models/rank_with_model/668fb407d3/summaries.csv\n"
     ]
    }
   ],
   "source": [
    "rank_model.run()"
   ]
  },
  {
   "cell_type": "code",
   "execution_count": 30,
   "metadata": {},
   "outputs": [
    {
     "name": "stdout",
     "output_type": "stream",
     "text": [
      "Reading ranked summaries from /home/carlos/MasterDS/tfm/models/rank_with_model/668fb407d3/summaries.csv\n"
     ]
    }
   ],
   "source": [
    "pd_summaries = rank_model.read_summaries()"
   ]
  },
  {
   "cell_type": "code",
   "execution_count": 31,
   "metadata": {},
   "outputs": [],
   "source": [
    "articles_path = '{}articles_events.csv'.format(CSV_DATA_PATH)"
   ]
  },
  {
   "cell_type": "code",
   "execution_count": null,
   "metadata": {},
   "outputs": [],
   "source": [
    "pd_matches = pd.read_csv(articles_path)"
   ]
  },
  {
   "cell_type": "code",
   "execution_count": null,
   "metadata": {},
   "outputs": [],
   "source": [
    "join_cols = ['url']\n",
    "match_cols = join_cols + ['json_file', 'article', 'events']\n",
    "sum_cols = join_cols + ['summary_events']"
   ]
  },
  {
   "cell_type": "code",
   "execution_count": 65,
   "metadata": {},
   "outputs": [],
   "source": [
    "pd_matches_sum = pd_matches[match_cols].merge(pd_summaries[sum_cols], on=join_cols, how='inner')"
   ]
  },
  {
   "cell_type": "code",
   "execution_count": 36,
   "metadata": {
    "collapsed": true,
    "jupyter": {
     "outputs_hidden": true
    }
   },
   "outputs": [
    {
     "data": {
      "text/html": [
       "<div>\n",
       "<style scoped>\n",
       "    .dataframe tbody tr th:only-of-type {\n",
       "        vertical-align: middle;\n",
       "    }\n",
       "\n",
       "    .dataframe tbody tr th {\n",
       "        vertical-align: top;\n",
       "    }\n",
       "\n",
       "    .dataframe thead th {\n",
       "        text-align: right;\n",
       "    }\n",
       "</style>\n",
       "<table border=\"1\" class=\"dataframe\">\n",
       "  <thead>\n",
       "    <tr style=\"text-align: right;\">\n",
       "      <th></th>\n",
       "      <th>url</th>\n",
       "      <th>json_file</th>\n",
       "      <th>article</th>\n",
       "      <th>events</th>\n",
       "      <th>summary_events</th>\n",
       "    </tr>\n",
       "  </thead>\n",
       "  <tbody>\n",
       "    <tr>\n",
       "      <th>0</th>\n",
       "      <td>http://www.premierleague.com/match/38678</td>\n",
       "      <td>premier_league_2018_2019.json</td>\n",
       "      <td>A goal and an assist from Riyad Mahrez sealed ...</td>\n",
       "      <td>Attempt blocked. Ilkay Gündogan (Manchester Ci...</td>\n",
       "      <td>Attempt saved. Riyad Mahrez (Manchester City) ...</td>\n",
       "    </tr>\n",
       "    <tr>\n",
       "      <th>1</th>\n",
       "      <td>http://www.premierleague.com/match/38679</td>\n",
       "      <td>premier_league_2018_2019.json</td>\n",
       "      <td>A second-half double by Pierre-Emerick Aubamey...</td>\n",
       "      <td>Hand ball by Tom Heaton (Burnley). Yellow Card...</td>\n",
       "      <td>Pierre-Emerick Aubameyang (Arsenal) hits the r...</td>\n",
       "    </tr>\n",
       "    <tr>\n",
       "      <th>2</th>\n",
       "      <td>http://www.premierleague.com/match/38680</td>\n",
       "      <td>premier_league_2018_2019.json</td>\n",
       "      <td>Michy Batshuayi's brace helped Crystal Palace ...</td>\n",
       "      <td>Andros Townsend (Crystal Palace) wins a free k...</td>\n",
       "      <td>Andros Townsend (Crystal Palace) wins a free k...</td>\n",
       "    </tr>\n",
       "    <tr>\n",
       "      <th>3</th>\n",
       "      <td>http://www.premierleague.com/match/38681</td>\n",
       "      <td>premier_league_2018_2019.json</td>\n",
       "      <td>Fulham were overpowered by an impressive Newca...</td>\n",
       "      <td>Attempt missed. Jonjo Shelvey (Newcastle Unite...</td>\n",
       "      <td>Attempt missed. Jonjo Shelvey (Newcastle Unite...</td>\n",
       "    </tr>\n",
       "    <tr>\n",
       "      <th>4</th>\n",
       "      <td>http://www.premierleague.com/match/38682</td>\n",
       "      <td>premier_league_2018_2019.json</td>\n",
       "      <td>Chelsea confirmed a third-place finish after a...</td>\n",
       "      <td>Foul by Jorginho (Chelsea). Jamie Vardy (Leice...</td>\n",
       "      <td>Jamie Vardy (Leicester City) wins a free kick ...</td>\n",
       "    </tr>\n",
       "    <tr>\n",
       "      <th>...</th>\n",
       "      <td>...</td>\n",
       "      <td>...</td>\n",
       "      <td>...</td>\n",
       "      <td>...</td>\n",
       "      <td>...</td>\n",
       "    </tr>\n",
       "    <tr>\n",
       "      <th>4518</th>\n",
       "      <td>https://www.espn.com/soccer/report?gameId=522712</td>\n",
       "      <td>italian_serie_a_2018_2019.json</td>\n",
       "      <td>Inter Milan notched their seventh successive S...</td>\n",
       "      <td>Corner,  Inter Milan. Conceded by Cristian Rom...</td>\n",
       "      <td>Attempt missed. Ivan Perisic (Inter Milan) rig...</td>\n",
       "    </tr>\n",
       "    <tr>\n",
       "      <th>4519</th>\n",
       "      <td>https://www.espn.com/soccer/report?gameId=522672</td>\n",
       "      <td>italian_serie_a_2018_2019.json</td>\n",
       "      <td>Two goals from Arkadiusz Milik helped Napoli m...</td>\n",
       "      <td>Offside, Napoli. Elseid Hysaj tries a through ...</td>\n",
       "      <td>Goal!  Napoli 1, Frosinone 0. Piotr Zielinski ...</td>\n",
       "    </tr>\n",
       "    <tr>\n",
       "      <th>4520</th>\n",
       "      <td>https://www.espn.com/soccer/report?gameId=522701</td>\n",
       "      <td>italian_serie_a_2018_2019.json</td>\n",
       "      <td>Inter Milan's run of seven successive league w...</td>\n",
       "      <td>Attempt blocked. Hans Hateboer (Atalanta) head...</td>\n",
       "      <td>Corner,  Atalanta. Conceded by Samir Handanovi...</td>\n",
       "    </tr>\n",
       "    <tr>\n",
       "      <th>4521</th>\n",
       "      <td>https://www.espn.com/soccer/report?gameId=522667</td>\n",
       "      <td>italian_serie_a_2018_2019.json</td>\n",
       "      <td>Inter Milan rebounded from the disappointment ...</td>\n",
       "      <td>Corner,  Inter Milan. Conceded by Bram Nuytinc...</td>\n",
       "      <td>Marco D'Alessandro (Udinese) wins a free kick ...</td>\n",
       "    </tr>\n",
       "    <tr>\n",
       "      <th>4522</th>\n",
       "      <td>https://www.espn.com/soccer/report?gameId=522804</td>\n",
       "      <td>italian_serie_a_2018_2019.json</td>\n",
       "      <td>Inter Milan, touted as one of the Serie A titl...</td>\n",
       "      <td>Foul by Tomás Rincón (Torino). Sime Vrsaljko (...</td>\n",
       "      <td>Goal!  Inter Milan 1, Torino 0. Ivan Perisic (...</td>\n",
       "    </tr>\n",
       "  </tbody>\n",
       "</table>\n",
       "<p>4523 rows × 5 columns</p>\n",
       "</div>"
      ],
      "text/plain": [
       "                                                   url  ...                                     summary_events\n",
       "0             http://www.premierleague.com/match/38678  ...  Attempt saved. Riyad Mahrez (Manchester City) ...\n",
       "1             http://www.premierleague.com/match/38679  ...  Pierre-Emerick Aubameyang (Arsenal) hits the r...\n",
       "2             http://www.premierleague.com/match/38680  ...  Andros Townsend (Crystal Palace) wins a free k...\n",
       "3             http://www.premierleague.com/match/38681  ...  Attempt missed. Jonjo Shelvey (Newcastle Unite...\n",
       "4             http://www.premierleague.com/match/38682  ...  Jamie Vardy (Leicester City) wins a free kick ...\n",
       "...                                                ...  ...                                                ...\n",
       "4518  https://www.espn.com/soccer/report?gameId=522712  ...  Attempt missed. Ivan Perisic (Inter Milan) rig...\n",
       "4519  https://www.espn.com/soccer/report?gameId=522672  ...  Goal!  Napoli 1, Frosinone 0. Piotr Zielinski ...\n",
       "4520  https://www.espn.com/soccer/report?gameId=522701  ...  Corner,  Atalanta. Conceded by Samir Handanovi...\n",
       "4521  https://www.espn.com/soccer/report?gameId=522667  ...  Marco D'Alessandro (Udinese) wins a free kick ...\n",
       "4522  https://www.espn.com/soccer/report?gameId=522804  ...  Goal!  Inter Milan 1, Torino 0. Ivan Perisic (...\n",
       "\n",
       "[4523 rows x 5 columns]"
      ]
     },
     "execution_count": 36,
     "metadata": {},
     "output_type": "execute_result"
    }
   ],
   "source": [
    "pd_matches_sum"
   ]
  },
  {
   "cell_type": "markdown",
   "metadata": {},
   "source": [
    "## Evaluación"
   ]
  },
  {
   "cell_type": "code",
   "execution_count": 66,
   "metadata": {},
   "outputs": [
    {
     "name": "stdout",
     "output_type": "stream",
     "text": [
      "Setting target metric to rouge\n"
     ]
    }
   ],
   "source": [
    "evaluation = SummaryEvaluation(metric='rouge')"
   ]
  },
  {
   "cell_type": "markdown",
   "metadata": {},
   "source": [
    "### Sin procesar"
   ]
  },
  {
   "cell_type": "code",
   "execution_count": 67,
   "metadata": {},
   "outputs": [],
   "source": [
    "file_name = 'model_rank'"
   ]
  },
  {
   "cell_type": "code",
   "execution_count": 68,
   "metadata": {},
   "outputs": [],
   "source": [
    "path = '{}/summaries/rouge/{}'.format(conf.METRICS_PATH, file_name)"
   ]
  },
  {
   "cell_type": "code",
   "execution_count": 69,
   "metadata": {},
   "outputs": [
    {
     "name": "stdout",
     "output_type": "stream",
     "text": [
      "Performing evaluation for 4523 articles\n",
      "Writing to /home/carlos/MasterDS/tfm/data/metrics/summaries/rouge/model_rank.pickle\n",
      "Writing avg to /home/carlos/MasterDS/tfm/data/metrics/summaries/rouge/model_rank_avg.pickle\n"
     ]
    }
   ],
   "source": [
    "scores_dict, avg_scores_dict = evaluation.evaluate(pd_matches_sum, path,\n",
    "                                                   preprocess_text=False)"
   ]
  },
  {
   "cell_type": "code",
   "execution_count": 70,
   "metadata": {},
   "outputs": [
    {
     "data": {
      "text/plain": [
       "{'rouge-1': {'f': 0.21306391260010107,\n",
       "  'p': 0.25013632311062145,\n",
       "  'r': 0.21894997408278233},\n",
       " 'rouge-2': {'f': 0.045199932512915535,\n",
       "  'p': 0.055650475088027035,\n",
       "  'r': 0.04549660749418747},\n",
       " 'rouge-l': {'f': 0.19461853429268558,\n",
       "  'p': 0.30136037138338223,\n",
       "  'r': 0.15482676105185525}}"
      ]
     },
     "execution_count": 70,
     "metadata": {},
     "output_type": "execute_result"
    }
   ],
   "source": [
    "avg_scores_dict"
   ]
  },
  {
   "cell_type": "markdown",
   "metadata": {},
   "source": [
    "### Con procesado"
   ]
  },
  {
   "cell_type": "code",
   "execution_count": 71,
   "metadata": {},
   "outputs": [],
   "source": [
    "file_name = 'model_rank_processed'"
   ]
  },
  {
   "cell_type": "code",
   "execution_count": 72,
   "metadata": {},
   "outputs": [],
   "source": [
    "path = '{}/summaries/rouge/{}'.format(conf.METRICS_PATH, file_name)"
   ]
  },
  {
   "cell_type": "code",
   "execution_count": 73,
   "metadata": {},
   "outputs": [
    {
     "name": "stdout",
     "output_type": "stream",
     "text": [
      "Performing evaluation for 4523 articles\n",
      "Writing to /home/carlos/MasterDS/tfm/data/metrics/summaries/rouge/model_rank_processed.pickle\n",
      "Writing avg to /home/carlos/MasterDS/tfm/data/metrics/summaries/rouge/model_rank_processed_avg.pickle\n"
     ]
    }
   ],
   "source": [
    "scores_dict, avg_scores_dict = evaluation.evaluate(pd_matches_sum, path,\n",
    "                                                   preprocess_text=True)"
   ]
  },
  {
   "cell_type": "code",
   "execution_count": 74,
   "metadata": {},
   "outputs": [
    {
     "data": {
      "text/plain": [
       "{'rouge-1': {'f': 0.2196694167343189,\n",
       "  'p': 0.2424924246842111,\n",
       "  'r': 0.24196781091666808},\n",
       " 'rouge-2': {'f': 0.06244400032110038,\n",
       "  'p': 0.06835160223319205,\n",
       "  'r': 0.06964941411290702},\n",
       " 'rouge-l': {'f': 0.2521179955746187,\n",
       "  'p': 0.36621056801850377,\n",
       "  'r': 0.20886141399570488}}"
      ]
     },
     "execution_count": 74,
     "metadata": {},
     "output_type": "execute_result"
    }
   ],
   "source": [
    "avg_scores_dict"
   ]
  },
  {
   "cell_type": "markdown",
   "metadata": {},
   "source": [
    "# GBT"
   ]
  },
  {
   "cell_type": "markdown",
   "metadata": {},
   "source": [
    "## Carga de datos"
   ]
  },
  {
   "cell_type": "code",
   "execution_count": 99,
   "metadata": {},
   "outputs": [],
   "source": [
    "ltr_params = {\n",
    "    'key_events': ['goal', 'red_card', 'penalty'],\n",
    "    'lags': [1, 3, 5],\n",
    "    'target_metric': 'rouge',\n",
    "    'drop_teams': True,\n",
    "    'lemma': True,\n",
    "    'metric_params': {'rouge_mode': 'rouge-1', 'rouge_metric': 'r'},\n",
    "    'count_vec_kwargs': {'ngram_range': (1, 2), 'strip_accents': 'unicode'}\n",
    "}\n",
    "cat_features_dict = {'is_key_event': [0, 1]}\n",
    "num_features = ['tfidf_sum']\n",
    "model_params = {\n",
    "    'min_samples_leaf': [50],\n",
    "    'subsample': [0.8],  \n",
    "    'learning_rate': [0.1],\n",
    "    'n_estimators': [80],\n",
    "    'max_depth': range(5,16,4),\n",
    "    'min_samples_split': range(200,1001,300)\n",
    "}\n",
    "cv = 5\n",
    "opt_metric = 'neg_mean_squared_error'"
   ]
  },
  {
   "cell_type": "code",
   "execution_count": 100,
   "metadata": {},
   "outputs": [
    {
     "name": "stdout",
     "output_type": "stream",
     "text": [
      "Setting target metric to rouge\n"
     ]
    }
   ],
   "source": [
    "ltr_train = LTRGBTTrain(cat_features_dict=cat_features_dict, num_features=num_features,\n",
    "                     model_params=model_params, ltr_params=ltr_params,\n",
    "                    cv=cv, opt_metric=opt_metric)"
   ]
  },
  {
   "cell_type": "code",
   "execution_count": 102,
   "metadata": {},
   "outputs": [
    {
     "name": "stdout",
     "output_type": "stream",
     "text": [
      "Model already trained\n"
     ]
    }
   ],
   "source": [
    "rank_model = RankModel(ltr_train, n=10)"
   ]
  },
  {
   "cell_type": "code",
   "execution_count": 103,
   "metadata": {},
   "outputs": [
    {
     "data": {
      "text/plain": [
       "'/home/carlos/MasterDS/tfm/models/rank_with_model/02cf14e54e'"
      ]
     },
     "execution_count": 103,
     "metadata": {},
     "output_type": "execute_result"
    }
   ],
   "source": [
    "rank_model.path"
   ]
  },
  {
   "cell_type": "code",
   "execution_count": 104,
   "metadata": {},
   "outputs": [
    {
     "name": "stdout",
     "output_type": "stream",
     "text": [
      "Categorizing n_players...\n",
      "Computing new length...\n",
      "Dropping {'n_players_cat', 'score', 'sentence_ix', 'event_ix', 'sim_previous_3', 'sim_previous_1', 'advantage', 'url', 'length', 'equalize', 'players_importance', 'total_length', 'sim_previous_5', 'json_file', 'n_stop', 'n_players', 'position'}\n",
      "Ranking events using row_number approach...\n",
      "Saving to /home/carlos/MasterDS/tfm/models/rank_with_model/02cf14e54e/summaries.csv\n"
     ]
    }
   ],
   "source": [
    "rank_model.run()"
   ]
  },
  {
   "cell_type": "code",
   "execution_count": 105,
   "metadata": {},
   "outputs": [
    {
     "name": "stdout",
     "output_type": "stream",
     "text": [
      "Reading ranked summaries from /home/carlos/MasterDS/tfm/models/rank_with_model/02cf14e54e/summaries.csv\n"
     ]
    }
   ],
   "source": [
    "pd_summaries = rank_model.read_summaries()"
   ]
  },
  {
   "cell_type": "code",
   "execution_count": 106,
   "metadata": {},
   "outputs": [],
   "source": [
    "articles_path = '{}articles_events.csv'.format(CSV_DATA_PATH)"
   ]
  },
  {
   "cell_type": "code",
   "execution_count": 107,
   "metadata": {},
   "outputs": [],
   "source": [
    "pd_matches = pd.read_csv(articles_path)"
   ]
  },
  {
   "cell_type": "code",
   "execution_count": 108,
   "metadata": {},
   "outputs": [],
   "source": [
    "join_cols = ['url']\n",
    "match_cols = join_cols + ['json_file', 'article', 'events']\n",
    "sum_cols = join_cols + ['summary_events']"
   ]
  },
  {
   "cell_type": "code",
   "execution_count": 109,
   "metadata": {},
   "outputs": [],
   "source": [
    "pd_matches_sum = pd_matches[match_cols].merge(pd_summaries[sum_cols], on=join_cols, how='inner')"
   ]
  },
  {
   "cell_type": "code",
   "execution_count": 36,
   "metadata": {
    "collapsed": true,
    "jupyter": {
     "outputs_hidden": true
    }
   },
   "outputs": [
    {
     "data": {
      "text/html": [
       "<div>\n",
       "<style scoped>\n",
       "    .dataframe tbody tr th:only-of-type {\n",
       "        vertical-align: middle;\n",
       "    }\n",
       "\n",
       "    .dataframe tbody tr th {\n",
       "        vertical-align: top;\n",
       "    }\n",
       "\n",
       "    .dataframe thead th {\n",
       "        text-align: right;\n",
       "    }\n",
       "</style>\n",
       "<table border=\"1\" class=\"dataframe\">\n",
       "  <thead>\n",
       "    <tr style=\"text-align: right;\">\n",
       "      <th></th>\n",
       "      <th>url</th>\n",
       "      <th>json_file</th>\n",
       "      <th>article</th>\n",
       "      <th>events</th>\n",
       "      <th>summary_events</th>\n",
       "    </tr>\n",
       "  </thead>\n",
       "  <tbody>\n",
       "    <tr>\n",
       "      <th>0</th>\n",
       "      <td>http://www.premierleague.com/match/38678</td>\n",
       "      <td>premier_league_2018_2019.json</td>\n",
       "      <td>A goal and an assist from Riyad Mahrez sealed ...</td>\n",
       "      <td>Attempt blocked. Ilkay Gündogan (Manchester Ci...</td>\n",
       "      <td>Attempt saved. Riyad Mahrez (Manchester City) ...</td>\n",
       "    </tr>\n",
       "    <tr>\n",
       "      <th>1</th>\n",
       "      <td>http://www.premierleague.com/match/38679</td>\n",
       "      <td>premier_league_2018_2019.json</td>\n",
       "      <td>A second-half double by Pierre-Emerick Aubamey...</td>\n",
       "      <td>Hand ball by Tom Heaton (Burnley). Yellow Card...</td>\n",
       "      <td>Pierre-Emerick Aubameyang (Arsenal) hits the r...</td>\n",
       "    </tr>\n",
       "    <tr>\n",
       "      <th>2</th>\n",
       "      <td>http://www.premierleague.com/match/38680</td>\n",
       "      <td>premier_league_2018_2019.json</td>\n",
       "      <td>Michy Batshuayi's brace helped Crystal Palace ...</td>\n",
       "      <td>Andros Townsend (Crystal Palace) wins a free k...</td>\n",
       "      <td>Andros Townsend (Crystal Palace) wins a free k...</td>\n",
       "    </tr>\n",
       "    <tr>\n",
       "      <th>3</th>\n",
       "      <td>http://www.premierleague.com/match/38681</td>\n",
       "      <td>premier_league_2018_2019.json</td>\n",
       "      <td>Fulham were overpowered by an impressive Newca...</td>\n",
       "      <td>Attempt missed. Jonjo Shelvey (Newcastle Unite...</td>\n",
       "      <td>Attempt missed. Jonjo Shelvey (Newcastle Unite...</td>\n",
       "    </tr>\n",
       "    <tr>\n",
       "      <th>4</th>\n",
       "      <td>http://www.premierleague.com/match/38682</td>\n",
       "      <td>premier_league_2018_2019.json</td>\n",
       "      <td>Chelsea confirmed a third-place finish after a...</td>\n",
       "      <td>Foul by Jorginho (Chelsea). Jamie Vardy (Leice...</td>\n",
       "      <td>Jamie Vardy (Leicester City) wins a free kick ...</td>\n",
       "    </tr>\n",
       "    <tr>\n",
       "      <th>...</th>\n",
       "      <td>...</td>\n",
       "      <td>...</td>\n",
       "      <td>...</td>\n",
       "      <td>...</td>\n",
       "      <td>...</td>\n",
       "    </tr>\n",
       "    <tr>\n",
       "      <th>4518</th>\n",
       "      <td>https://www.espn.com/soccer/report?gameId=522712</td>\n",
       "      <td>italian_serie_a_2018_2019.json</td>\n",
       "      <td>Inter Milan notched their seventh successive S...</td>\n",
       "      <td>Corner,  Inter Milan. Conceded by Cristian Rom...</td>\n",
       "      <td>Attempt missed. Ivan Perisic (Inter Milan) rig...</td>\n",
       "    </tr>\n",
       "    <tr>\n",
       "      <th>4519</th>\n",
       "      <td>https://www.espn.com/soccer/report?gameId=522672</td>\n",
       "      <td>italian_serie_a_2018_2019.json</td>\n",
       "      <td>Two goals from Arkadiusz Milik helped Napoli m...</td>\n",
       "      <td>Offside, Napoli. Elseid Hysaj tries a through ...</td>\n",
       "      <td>Goal!  Napoli 1, Frosinone 0. Piotr Zielinski ...</td>\n",
       "    </tr>\n",
       "    <tr>\n",
       "      <th>4520</th>\n",
       "      <td>https://www.espn.com/soccer/report?gameId=522701</td>\n",
       "      <td>italian_serie_a_2018_2019.json</td>\n",
       "      <td>Inter Milan's run of seven successive league w...</td>\n",
       "      <td>Attempt blocked. Hans Hateboer (Atalanta) head...</td>\n",
       "      <td>Corner,  Atalanta. Conceded by Samir Handanovi...</td>\n",
       "    </tr>\n",
       "    <tr>\n",
       "      <th>4521</th>\n",
       "      <td>https://www.espn.com/soccer/report?gameId=522667</td>\n",
       "      <td>italian_serie_a_2018_2019.json</td>\n",
       "      <td>Inter Milan rebounded from the disappointment ...</td>\n",
       "      <td>Corner,  Inter Milan. Conceded by Bram Nuytinc...</td>\n",
       "      <td>Marco D'Alessandro (Udinese) wins a free kick ...</td>\n",
       "    </tr>\n",
       "    <tr>\n",
       "      <th>4522</th>\n",
       "      <td>https://www.espn.com/soccer/report?gameId=522804</td>\n",
       "      <td>italian_serie_a_2018_2019.json</td>\n",
       "      <td>Inter Milan, touted as one of the Serie A titl...</td>\n",
       "      <td>Foul by Tomás Rincón (Torino). Sime Vrsaljko (...</td>\n",
       "      <td>Goal!  Inter Milan 1, Torino 0. Ivan Perisic (...</td>\n",
       "    </tr>\n",
       "  </tbody>\n",
       "</table>\n",
       "<p>4523 rows × 5 columns</p>\n",
       "</div>"
      ],
      "text/plain": [
       "                                                   url  ...                                     summary_events\n",
       "0             http://www.premierleague.com/match/38678  ...  Attempt saved. Riyad Mahrez (Manchester City) ...\n",
       "1             http://www.premierleague.com/match/38679  ...  Pierre-Emerick Aubameyang (Arsenal) hits the r...\n",
       "2             http://www.premierleague.com/match/38680  ...  Andros Townsend (Crystal Palace) wins a free k...\n",
       "3             http://www.premierleague.com/match/38681  ...  Attempt missed. Jonjo Shelvey (Newcastle Unite...\n",
       "4             http://www.premierleague.com/match/38682  ...  Jamie Vardy (Leicester City) wins a free kick ...\n",
       "...                                                ...  ...                                                ...\n",
       "4518  https://www.espn.com/soccer/report?gameId=522712  ...  Attempt missed. Ivan Perisic (Inter Milan) rig...\n",
       "4519  https://www.espn.com/soccer/report?gameId=522672  ...  Goal!  Napoli 1, Frosinone 0. Piotr Zielinski ...\n",
       "4520  https://www.espn.com/soccer/report?gameId=522701  ...  Corner,  Atalanta. Conceded by Samir Handanovi...\n",
       "4521  https://www.espn.com/soccer/report?gameId=522667  ...  Marco D'Alessandro (Udinese) wins a free kick ...\n",
       "4522  https://www.espn.com/soccer/report?gameId=522804  ...  Goal!  Inter Milan 1, Torino 0. Ivan Perisic (...\n",
       "\n",
       "[4523 rows x 5 columns]"
      ]
     },
     "execution_count": 36,
     "metadata": {},
     "output_type": "execute_result"
    }
   ],
   "source": [
    "pd_matches_sum"
   ]
  },
  {
   "cell_type": "markdown",
   "metadata": {},
   "source": [
    "## Evaluación"
   ]
  },
  {
   "cell_type": "code",
   "execution_count": 110,
   "metadata": {},
   "outputs": [
    {
     "name": "stdout",
     "output_type": "stream",
     "text": [
      "Setting target metric to rouge\n"
     ]
    }
   ],
   "source": [
    "evaluation = SummaryEvaluation(metric='rouge')"
   ]
  },
  {
   "cell_type": "markdown",
   "metadata": {},
   "source": [
    "### Sin procesar"
   ]
  },
  {
   "cell_type": "code",
   "execution_count": 111,
   "metadata": {},
   "outputs": [],
   "source": [
    "file_name = 'model_rank_gbt'"
   ]
  },
  {
   "cell_type": "code",
   "execution_count": 112,
   "metadata": {},
   "outputs": [],
   "source": [
    "path = '{}/summaries/rouge/{}'.format(conf.METRICS_PATH, file_name)"
   ]
  },
  {
   "cell_type": "code",
   "execution_count": 114,
   "metadata": {},
   "outputs": [
    {
     "name": "stdout",
     "output_type": "stream",
     "text": [
      "Performing evaluation for 4523 articles\n",
      "Writing to /home/carlos/MasterDS/tfm/data/metrics/summaries/rouge/model_rank_gbt.pickle\n",
      "Writing avg to /home/carlos/MasterDS/tfm/data/metrics/summaries/rouge/model_rank_gbt_avg.pickle\n"
     ]
    }
   ],
   "source": [
    "scores_dict, avg_scores_dict = evaluation.evaluate(pd_matches_sum, path,\n",
    "                                                   preprocess_text=False)"
   ]
  },
  {
   "cell_type": "code",
   "execution_count": 115,
   "metadata": {},
   "outputs": [
    {
     "data": {
      "text/plain": [
       "{'rouge-1': {'f': 0.20276205811977818,\n",
       "  'p': 0.20719857786520804,\n",
       "  'r': 0.23951184236461787},\n",
       " 'rouge-2': {'f': 0.03983985919013643,\n",
       "  'p': 0.042021128445087895,\n",
       "  'r': 0.04656215404694944},\n",
       " 'rouge-l': {'f': 0.1970217252137998,\n",
       "  'p': 0.2958964281227826,\n",
       "  'r': 0.15865173221948106}}"
      ]
     },
     "execution_count": 115,
     "metadata": {},
     "output_type": "execute_result"
    }
   ],
   "source": [
    "avg_scores_dict"
   ]
  },
  {
   "cell_type": "markdown",
   "metadata": {},
   "source": [
    "### Con procesado"
   ]
  },
  {
   "cell_type": "code",
   "execution_count": 122,
   "metadata": {},
   "outputs": [],
   "source": [
    "file_name = 'model_rank_gbt_processed'"
   ]
  },
  {
   "cell_type": "code",
   "execution_count": 123,
   "metadata": {},
   "outputs": [],
   "source": [
    "path = '{}/summaries/rouge/{}'.format(conf.METRICS_PATH, file_name)"
   ]
  },
  {
   "cell_type": "code",
   "execution_count": 124,
   "metadata": {},
   "outputs": [
    {
     "name": "stdout",
     "output_type": "stream",
     "text": [
      "Performing evaluation for 4523 articles\n",
      "Writing to /home/carlos/MasterDS/tfm/data/metrics/summaries/rouge/model_rank_gbt_processed.pickle\n",
      "Writing avg to /home/carlos/MasterDS/tfm/data/metrics/summaries/rouge/model_rank_gbt_processed_avg.pickle\n"
     ]
    }
   ],
   "source": [
    "scores_dict, avg_scores_dict = evaluation.evaluate(pd_matches_sum, path,\n",
    "                                                   preprocess_text=True)"
   ]
  },
  {
   "cell_type": "code",
   "execution_count": 119,
   "metadata": {},
   "outputs": [
    {
     "data": {
      "text/plain": [
       "{'rouge-1': {'f': 0.1862690636642679,\n",
       "  'p': 0.18121337137449792,\n",
       "  'r': 0.23654912956406168},\n",
       " 'rouge-2': {'f': 0.0541520771717992,\n",
       "  'p': 0.05196353708804493,\n",
       "  'r': 0.07016734074984458},\n",
       " 'rouge-l': {'f': 0.24382403170381378,\n",
       "  'p': 0.346439828049648,\n",
       "  'r': 0.20424213646524558}}"
      ]
     },
     "execution_count": 119,
     "metadata": {},
     "output_type": "execute_result"
    }
   ],
   "source": [
    "avg_scores_dict"
   ]
  },
  {
   "cell_type": "markdown",
   "metadata": {},
   "source": [
    "# SVM"
   ]
  },
  {
   "cell_type": "markdown",
   "metadata": {},
   "source": [
    "## Carga de datos"
   ]
  },
  {
   "cell_type": "code",
   "execution_count": 5,
   "metadata": {},
   "outputs": [],
   "source": [
    "ltr_params = {\n",
    "    'mode': 'tfidf',\n",
    "    'count_vec_kwargs': {'strip_accents': 'unicode'},\n",
    "    'target_metric': 'rouge',\n",
    "    'metric_params': {'rouge_mode': 'rouge-1', 'rouge_metric': 'r'},\n",
    "    'drop_teams': True,\n",
    "    'lemma': True,\n",
    "    'train_perc': 0.7,\n",
    "    'val_perc': 0.2\n",
    "}\n",
    "\n",
    "model_params = {}"
   ]
  },
  {
   "cell_type": "code",
   "execution_count": 6,
   "metadata": {},
   "outputs": [
    {
     "name": "stdout",
     "output_type": "stream",
     "text": [
      "Setting target metric to rouge\n",
      "Setting mode to tfidf\n"
     ]
    }
   ],
   "source": [
    "ltr_train = LTRSVMTFTrain(model_params=model_params, ltr_params=ltr_params)"
   ]
  },
  {
   "cell_type": "code",
   "execution_count": 7,
   "metadata": {},
   "outputs": [
    {
     "name": "stdout",
     "output_type": "stream",
     "text": [
      "Model already trained\n"
     ]
    }
   ],
   "source": [
    "rank_model = RankModel(ltr_train, n=10)"
   ]
  },
  {
   "cell_type": "code",
   "execution_count": 10,
   "metadata": {},
   "outputs": [
    {
     "data": {
      "text/plain": [
       "'/home/carlos/MasterDS/tfm/models/rank_with_model/9c2f95cd9b'"
      ]
     },
     "execution_count": 10,
     "metadata": {},
     "output_type": "execute_result"
    }
   ],
   "source": [
    "rank_model.path"
   ]
  },
  {
   "cell_type": "code",
   "execution_count": 15,
   "metadata": {},
   "outputs": [
    {
     "name": "stdout",
     "output_type": "stream",
     "text": [
      "Ranking events using row_number approach...\n",
      "Saving to /home/carlos/MasterDS/tfm/models/rank_with_model/9c2f95cd9b/summaries.csv\n"
     ]
    }
   ],
   "source": [
    "rank_model.run()"
   ]
  },
  {
   "cell_type": "code",
   "execution_count": 16,
   "metadata": {},
   "outputs": [
    {
     "name": "stdout",
     "output_type": "stream",
     "text": [
      "Reading ranked summaries from /home/carlos/MasterDS/tfm/models/rank_with_model/9c2f95cd9b/summaries.csv\n"
     ]
    }
   ],
   "source": [
    "pd_summaries = rank_model.read_summaries()"
   ]
  },
  {
   "cell_type": "code",
   "execution_count": 21,
   "metadata": {},
   "outputs": [],
   "source": [
    "articles_path = '{}articles_events.csv'.format(CSV_DATA_PATH)"
   ]
  },
  {
   "cell_type": "code",
   "execution_count": 22,
   "metadata": {},
   "outputs": [],
   "source": [
    "pd_matches = pd.read_csv(articles_path)"
   ]
  },
  {
   "cell_type": "code",
   "execution_count": 23,
   "metadata": {},
   "outputs": [],
   "source": [
    "join_cols = ['url']\n",
    "match_cols = join_cols + ['json_file', 'article', 'events']\n",
    "sum_cols = join_cols + ['summary_events']"
   ]
  },
  {
   "cell_type": "code",
   "execution_count": 24,
   "metadata": {},
   "outputs": [],
   "source": [
    "pd_matches_sum = pd_matches[match_cols].merge(pd_summaries[sum_cols], on=join_cols, how='inner')"
   ]
  },
  {
   "cell_type": "code",
   "execution_count": 36,
   "metadata": {
    "collapsed": true,
    "jupyter": {
     "outputs_hidden": true
    }
   },
   "outputs": [
    {
     "data": {
      "text/html": [
       "<div>\n",
       "<style scoped>\n",
       "    .dataframe tbody tr th:only-of-type {\n",
       "        vertical-align: middle;\n",
       "    }\n",
       "\n",
       "    .dataframe tbody tr th {\n",
       "        vertical-align: top;\n",
       "    }\n",
       "\n",
       "    .dataframe thead th {\n",
       "        text-align: right;\n",
       "    }\n",
       "</style>\n",
       "<table border=\"1\" class=\"dataframe\">\n",
       "  <thead>\n",
       "    <tr style=\"text-align: right;\">\n",
       "      <th></th>\n",
       "      <th>url</th>\n",
       "      <th>json_file</th>\n",
       "      <th>article</th>\n",
       "      <th>events</th>\n",
       "      <th>summary_events</th>\n",
       "    </tr>\n",
       "  </thead>\n",
       "  <tbody>\n",
       "    <tr>\n",
       "      <th>0</th>\n",
       "      <td>http://www.premierleague.com/match/38678</td>\n",
       "      <td>premier_league_2018_2019.json</td>\n",
       "      <td>A goal and an assist from Riyad Mahrez sealed ...</td>\n",
       "      <td>Attempt blocked. Ilkay Gündogan (Manchester Ci...</td>\n",
       "      <td>Attempt saved. Riyad Mahrez (Manchester City) ...</td>\n",
       "    </tr>\n",
       "    <tr>\n",
       "      <th>1</th>\n",
       "      <td>http://www.premierleague.com/match/38679</td>\n",
       "      <td>premier_league_2018_2019.json</td>\n",
       "      <td>A second-half double by Pierre-Emerick Aubamey...</td>\n",
       "      <td>Hand ball by Tom Heaton (Burnley). Yellow Card...</td>\n",
       "      <td>Pierre-Emerick Aubameyang (Arsenal) hits the r...</td>\n",
       "    </tr>\n",
       "    <tr>\n",
       "      <th>2</th>\n",
       "      <td>http://www.premierleague.com/match/38680</td>\n",
       "      <td>premier_league_2018_2019.json</td>\n",
       "      <td>Michy Batshuayi's brace helped Crystal Palace ...</td>\n",
       "      <td>Andros Townsend (Crystal Palace) wins a free k...</td>\n",
       "      <td>Andros Townsend (Crystal Palace) wins a free k...</td>\n",
       "    </tr>\n",
       "    <tr>\n",
       "      <th>3</th>\n",
       "      <td>http://www.premierleague.com/match/38681</td>\n",
       "      <td>premier_league_2018_2019.json</td>\n",
       "      <td>Fulham were overpowered by an impressive Newca...</td>\n",
       "      <td>Attempt missed. Jonjo Shelvey (Newcastle Unite...</td>\n",
       "      <td>Attempt missed. Jonjo Shelvey (Newcastle Unite...</td>\n",
       "    </tr>\n",
       "    <tr>\n",
       "      <th>4</th>\n",
       "      <td>http://www.premierleague.com/match/38682</td>\n",
       "      <td>premier_league_2018_2019.json</td>\n",
       "      <td>Chelsea confirmed a third-place finish after a...</td>\n",
       "      <td>Foul by Jorginho (Chelsea). Jamie Vardy (Leice...</td>\n",
       "      <td>Jamie Vardy (Leicester City) wins a free kick ...</td>\n",
       "    </tr>\n",
       "    <tr>\n",
       "      <th>...</th>\n",
       "      <td>...</td>\n",
       "      <td>...</td>\n",
       "      <td>...</td>\n",
       "      <td>...</td>\n",
       "      <td>...</td>\n",
       "    </tr>\n",
       "    <tr>\n",
       "      <th>4518</th>\n",
       "      <td>https://www.espn.com/soccer/report?gameId=522712</td>\n",
       "      <td>italian_serie_a_2018_2019.json</td>\n",
       "      <td>Inter Milan notched their seventh successive S...</td>\n",
       "      <td>Corner,  Inter Milan. Conceded by Cristian Rom...</td>\n",
       "      <td>Attempt missed. Ivan Perisic (Inter Milan) rig...</td>\n",
       "    </tr>\n",
       "    <tr>\n",
       "      <th>4519</th>\n",
       "      <td>https://www.espn.com/soccer/report?gameId=522672</td>\n",
       "      <td>italian_serie_a_2018_2019.json</td>\n",
       "      <td>Two goals from Arkadiusz Milik helped Napoli m...</td>\n",
       "      <td>Offside, Napoli. Elseid Hysaj tries a through ...</td>\n",
       "      <td>Goal!  Napoli 1, Frosinone 0. Piotr Zielinski ...</td>\n",
       "    </tr>\n",
       "    <tr>\n",
       "      <th>4520</th>\n",
       "      <td>https://www.espn.com/soccer/report?gameId=522701</td>\n",
       "      <td>italian_serie_a_2018_2019.json</td>\n",
       "      <td>Inter Milan's run of seven successive league w...</td>\n",
       "      <td>Attempt blocked. Hans Hateboer (Atalanta) head...</td>\n",
       "      <td>Corner,  Atalanta. Conceded by Samir Handanovi...</td>\n",
       "    </tr>\n",
       "    <tr>\n",
       "      <th>4521</th>\n",
       "      <td>https://www.espn.com/soccer/report?gameId=522667</td>\n",
       "      <td>italian_serie_a_2018_2019.json</td>\n",
       "      <td>Inter Milan rebounded from the disappointment ...</td>\n",
       "      <td>Corner,  Inter Milan. Conceded by Bram Nuytinc...</td>\n",
       "      <td>Marco D'Alessandro (Udinese) wins a free kick ...</td>\n",
       "    </tr>\n",
       "    <tr>\n",
       "      <th>4522</th>\n",
       "      <td>https://www.espn.com/soccer/report?gameId=522804</td>\n",
       "      <td>italian_serie_a_2018_2019.json</td>\n",
       "      <td>Inter Milan, touted as one of the Serie A titl...</td>\n",
       "      <td>Foul by Tomás Rincón (Torino). Sime Vrsaljko (...</td>\n",
       "      <td>Goal!  Inter Milan 1, Torino 0. Ivan Perisic (...</td>\n",
       "    </tr>\n",
       "  </tbody>\n",
       "</table>\n",
       "<p>4523 rows × 5 columns</p>\n",
       "</div>"
      ],
      "text/plain": [
       "                                                   url  ...                                     summary_events\n",
       "0             http://www.premierleague.com/match/38678  ...  Attempt saved. Riyad Mahrez (Manchester City) ...\n",
       "1             http://www.premierleague.com/match/38679  ...  Pierre-Emerick Aubameyang (Arsenal) hits the r...\n",
       "2             http://www.premierleague.com/match/38680  ...  Andros Townsend (Crystal Palace) wins a free k...\n",
       "3             http://www.premierleague.com/match/38681  ...  Attempt missed. Jonjo Shelvey (Newcastle Unite...\n",
       "4             http://www.premierleague.com/match/38682  ...  Jamie Vardy (Leicester City) wins a free kick ...\n",
       "...                                                ...  ...                                                ...\n",
       "4518  https://www.espn.com/soccer/report?gameId=522712  ...  Attempt missed. Ivan Perisic (Inter Milan) rig...\n",
       "4519  https://www.espn.com/soccer/report?gameId=522672  ...  Goal!  Napoli 1, Frosinone 0. Piotr Zielinski ...\n",
       "4520  https://www.espn.com/soccer/report?gameId=522701  ...  Corner,  Atalanta. Conceded by Samir Handanovi...\n",
       "4521  https://www.espn.com/soccer/report?gameId=522667  ...  Marco D'Alessandro (Udinese) wins a free kick ...\n",
       "4522  https://www.espn.com/soccer/report?gameId=522804  ...  Goal!  Inter Milan 1, Torino 0. Ivan Perisic (...\n",
       "\n",
       "[4523 rows x 5 columns]"
      ]
     },
     "execution_count": 36,
     "metadata": {},
     "output_type": "execute_result"
    }
   ],
   "source": [
    "pd_matches_sum"
   ]
  },
  {
   "cell_type": "markdown",
   "metadata": {},
   "source": [
    "## Evaluación"
   ]
  },
  {
   "cell_type": "code",
   "execution_count": 6,
   "metadata": {},
   "outputs": [
    {
     "name": "stdout",
     "output_type": "stream",
     "text": [
      "Setting target metric to rouge\n"
     ]
    }
   ],
   "source": [
    "evaluation = SummaryEvaluation(metric='rouge')"
   ]
  },
  {
   "cell_type": "markdown",
   "metadata": {},
   "source": [
    "### Sin procesar"
   ]
  },
  {
   "cell_type": "code",
   "execution_count": 18,
   "metadata": {},
   "outputs": [],
   "source": [
    "file_name = 'model_rank_svm'"
   ]
  },
  {
   "cell_type": "code",
   "execution_count": 19,
   "metadata": {},
   "outputs": [],
   "source": [
    "path = '{}/summaries/rouge/{}'.format(conf.METRICS_PATH, file_name)"
   ]
  },
  {
   "cell_type": "code",
   "execution_count": 26,
   "metadata": {},
   "outputs": [
    {
     "name": "stdout",
     "output_type": "stream",
     "text": [
      "Metrics already exist\n"
     ]
    }
   ],
   "source": [
    "scores_dict, avg_scores_dict = evaluation.evaluate(pd_matches_sum, path,\n",
    "                                                   preprocess_text=False)"
   ]
  },
  {
   "cell_type": "code",
   "execution_count": 27,
   "metadata": {},
   "outputs": [
    {
     "data": {
      "text/plain": [
       "{'rouge-1': {'f': 0.21788356255868027,\n",
       "  'p': 0.22974278071935852,\n",
       "  'r': 0.24174105699186801},\n",
       " 'rouge-2': {'f': 0.04535994650476003,\n",
       "  'p': 0.049007145554811504,\n",
       "  'r': 0.049846690086380596},\n",
       " 'rouge-l': {'f': 0.20263455542239314,\n",
       "  'p': 0.30854594666750373,\n",
       "  'r': 0.16163864081175758}}"
      ]
     },
     "execution_count": 27,
     "metadata": {},
     "output_type": "execute_result"
    }
   ],
   "source": [
    "avg_scores_dict"
   ]
  },
  {
   "cell_type": "markdown",
   "metadata": {},
   "source": [
    "### Con procesado"
   ]
  },
  {
   "cell_type": "code",
   "execution_count": 28,
   "metadata": {},
   "outputs": [],
   "source": [
    "file_name = 'model_rank_svm_processed'"
   ]
  },
  {
   "cell_type": "code",
   "execution_count": 29,
   "metadata": {},
   "outputs": [],
   "source": [
    "path = '{}/summaries/rouge/{}'.format(conf.METRICS_PATH, file_name)"
   ]
  },
  {
   "cell_type": "code",
   "execution_count": 30,
   "metadata": {},
   "outputs": [
    {
     "name": "stdout",
     "output_type": "stream",
     "text": [
      "Performing evaluation for 4523 articles\n",
      "Writing to /home/carlos/MasterDS/tfm/data/metrics/summaries/rouge/model_rank_svm_processed.pickle\n",
      "Writing avg to /home/carlos/MasterDS/tfm/data/metrics/summaries/rouge/model_rank_svm_processed_avg.pickle\n"
     ]
    }
   ],
   "source": [
    "scores_dict, avg_scores_dict = evaluation.evaluate(pd_matches_sum, path,\n",
    "                                                   preprocess_text=True)"
   ]
  },
  {
   "cell_type": "code",
   "execution_count": 31,
   "metadata": {},
   "outputs": [
    {
     "data": {
      "text/plain": [
       "{'rouge-1': {'f': 0.20945978648978256,\n",
       "  'p': 0.2052042911993112,\n",
       "  'r': 0.2528724310531036},\n",
       " 'rouge-2': {'f': 0.05894383264776381,\n",
       "  'p': 0.05672518792848706,\n",
       "  'r': 0.07283822243447978},\n",
       " 'rouge-l': {'f': 0.2621038171094809,\n",
       "  'p': 0.37428599559699655,\n",
       "  'r': 0.21765306099689644}}"
      ]
     },
     "execution_count": 31,
     "metadata": {},
     "output_type": "execute_result"
    }
   ],
   "source": [
    "avg_scores_dict"
   ]
  },
  {
   "cell_type": "markdown",
   "metadata": {},
   "source": [
    "# NN"
   ]
  },
  {
   "cell_type": "markdown",
   "metadata": {},
   "source": [
    "## Carga de datos"
   ]
  },
  {
   "cell_type": "code",
   "execution_count": 53,
   "metadata": {},
   "outputs": [],
   "source": [
    "ltr_params = {\n",
    "    'mode': 'tfidf',\n",
    "    'count_vec_kwargs': {'strip_accents': 'unicode'},\n",
    "    'target_metric': 'rouge',\n",
    "    'metric_params': {'rouge_mode': 'rouge-1', 'rouge_metric': 'r'},\n",
    "    'drop_teams': True,\n",
    "    'lemma': True,\n",
    "    'train_perc': 0.7,\n",
    "    'val_perc': 0.2\n",
    "}\n",
    "DENSE_LAYERS = [500, 250, 125, 60, 20]\n",
    "N_DROPOUT = 4\n",
    "\n",
    "model_params = {\n",
    "    'dense_layers': DENSE_LAYERS,\n",
    "    'dense_activation': ['relu'] * len(DENSE_LAYERS),\n",
    "    'dropout': [0.3] * N_DROPOUT,\n",
    "    'optimizer': 'adam'\n",
    "}\n",
    "opt_metric = 'mean_squared_error'\n",
    "epochs = 25\n",
    "batch_size = 128\n",
    "# Not in config\n",
    "shuffle = True\n",
    "max_queue_size = 50"
   ]
  },
  {
   "cell_type": "code",
   "execution_count": 54,
   "metadata": {},
   "outputs": [
    {
     "name": "stdout",
     "output_type": "stream",
     "text": [
      "Adding 1 zeros so that params have the same length\n",
      "Setting target metric to rouge\n",
      "Setting mode to tfidf\n",
      "Optimizing mean_squared_error with adam\n",
      "Epochs: 25\n",
      "Batch size: 128\n"
     ]
    }
   ],
   "source": [
    "ltr_train = LTRNNTFTrain(ltr_params, epochs=epochs, batch_size=batch_size,\n",
    "                         model_params=model_params,\n",
    "                         opt_metric=opt_metric)"
   ]
  },
  {
   "cell_type": "code",
   "execution_count": 59,
   "metadata": {},
   "outputs": [
    {
     "name": "stdout",
     "output_type": "stream",
     "text": [
      "Model already trained\n"
     ]
    }
   ],
   "source": [
    "rank_model = RankModel(ltr_train, n=10, is_nn=True)"
   ]
  },
  {
   "cell_type": "code",
   "execution_count": 15,
   "metadata": {},
   "outputs": [
    {
     "data": {
      "text/plain": [
       "'/home/carlos/MasterDS/tfm/models/rank_with_model/254dd4d848'"
      ]
     },
     "execution_count": 15,
     "metadata": {},
     "output_type": "execute_result"
    }
   ],
   "source": [
    "rank_model.path"
   ]
  },
  {
   "cell_type": "markdown",
   "metadata": {},
   "source": [
    "Si queremos usar una csr matrix en la red, necesita que los índices estén\n",
    "ordenados. Los índices apuntan a los valores que no son cero"
   ]
  },
  {
   "cell_type": "code",
   "execution_count": 17,
   "metadata": {},
   "outputs": [],
   "source": [
    "features_target = rank_model.load_data()"
   ]
  },
  {
   "cell_type": "code",
   "execution_count": 26,
   "metadata": {},
   "outputs": [],
   "source": [
    "x = features_target[0]\n",
    "y = features_target[1]"
   ]
  },
  {
   "cell_type": "code",
   "execution_count": 25,
   "metadata": {},
   "outputs": [
    {
     "data": {
      "text/plain": [
       "array([5593, 5573, 4684, ...,  877,  434,  424], dtype=int32)"
      ]
     },
     "execution_count": 25,
     "metadata": {},
     "output_type": "execute_result"
    }
   ],
   "source": [
    "x.indices"
   ]
  },
  {
   "cell_type": "code",
   "execution_count": 42,
   "metadata": {},
   "outputs": [],
   "source": [
    "docs = ['hola carlos', 'hola isabel', \n",
    "       'hola carlos', 'hola maria', 'hola maria', \n",
    "       'hola carlos']"
   ]
  },
  {
   "cell_type": "code",
   "execution_count": 43,
   "metadata": {},
   "outputs": [],
   "source": [
    "from sklearn.feature_extraction.text import TfidfTransformer, CountVectorizer\n",
    "from sklearn.pipeline import Pipeline"
   ]
  },
  {
   "cell_type": "code",
   "execution_count": 44,
   "metadata": {},
   "outputs": [],
   "source": [
    "count_vec_kwargs = {'strip_accents': 'unicode'}"
   ]
  },
  {
   "cell_type": "code",
   "execution_count": 45,
   "metadata": {},
   "outputs": [],
   "source": [
    "pipe = Pipeline([('count', CountVectorizer(**count_vec_kwargs)),\n",
    "                             ('tfidf', TfidfTransformer())])"
   ]
  },
  {
   "cell_type": "code",
   "execution_count": 46,
   "metadata": {},
   "outputs": [],
   "source": [
    "x_t = pipe.fit_transform(docs)"
   ]
  },
  {
   "cell_type": "code",
   "execution_count": 47,
   "metadata": {},
   "outputs": [
    {
     "data": {
      "text/plain": [
       "<6x4 sparse matrix of type '<class 'numpy.float64'>'\n",
       "\twith 12 stored elements in Compressed Sparse Row format>"
      ]
     },
     "execution_count": 47,
     "metadata": {},
     "output_type": "execute_result"
    }
   ],
   "source": [
    "x_t"
   ]
  },
  {
   "cell_type": "code",
   "execution_count": 48,
   "metadata": {},
   "outputs": [
    {
     "data": {
      "text/plain": [
       "array([1, 0, 2, 1, 1, 0, 3, 1, 3, 1, 1, 0], dtype=int32)"
      ]
     },
     "execution_count": 48,
     "metadata": {},
     "output_type": "execute_result"
    }
   ],
   "source": [
    "x_t.indices"
   ]
  },
  {
   "cell_type": "code",
   "execution_count": 49,
   "metadata": {},
   "outputs": [
    {
     "data": {
      "text/html": [
       "<div>\n",
       "<style scoped>\n",
       "    .dataframe tbody tr th:only-of-type {\n",
       "        vertical-align: middle;\n",
       "    }\n",
       "\n",
       "    .dataframe tbody tr th {\n",
       "        vertical-align: top;\n",
       "    }\n",
       "\n",
       "    .dataframe thead th {\n",
       "        text-align: right;\n",
       "    }\n",
       "</style>\n",
       "<table border=\"1\" class=\"dataframe\">\n",
       "  <thead>\n",
       "    <tr style=\"text-align: right;\">\n",
       "      <th></th>\n",
       "      <th>carlos</th>\n",
       "      <th>hola</th>\n",
       "      <th>isabel</th>\n",
       "      <th>maria</th>\n",
       "    </tr>\n",
       "  </thead>\n",
       "  <tbody>\n",
       "    <tr>\n",
       "      <th>0</th>\n",
       "      <td>0.841819</td>\n",
       "      <td>0.539760</td>\n",
       "      <td>0.000000</td>\n",
       "      <td>0.000000</td>\n",
       "    </tr>\n",
       "    <tr>\n",
       "      <th>1</th>\n",
       "      <td>0.000000</td>\n",
       "      <td>0.405722</td>\n",
       "      <td>0.913996</td>\n",
       "      <td>0.000000</td>\n",
       "    </tr>\n",
       "    <tr>\n",
       "      <th>2</th>\n",
       "      <td>0.841819</td>\n",
       "      <td>0.539760</td>\n",
       "      <td>0.000000</td>\n",
       "      <td>0.000000</td>\n",
       "    </tr>\n",
       "    <tr>\n",
       "      <th>3</th>\n",
       "      <td>0.000000</td>\n",
       "      <td>0.476055</td>\n",
       "      <td>0.000000</td>\n",
       "      <td>0.879415</td>\n",
       "    </tr>\n",
       "    <tr>\n",
       "      <th>4</th>\n",
       "      <td>0.000000</td>\n",
       "      <td>0.476055</td>\n",
       "      <td>0.000000</td>\n",
       "      <td>0.879415</td>\n",
       "    </tr>\n",
       "    <tr>\n",
       "      <th>5</th>\n",
       "      <td>0.841819</td>\n",
       "      <td>0.539760</td>\n",
       "      <td>0.000000</td>\n",
       "      <td>0.000000</td>\n",
       "    </tr>\n",
       "  </tbody>\n",
       "</table>\n",
       "</div>"
      ],
      "text/plain": [
       "     carlos      hola    isabel     maria\n",
       "0  0.841819  0.539760  0.000000  0.000000\n",
       "1  0.000000  0.405722  0.913996  0.000000\n",
       "2  0.841819  0.539760  0.000000  0.000000\n",
       "3  0.000000  0.476055  0.000000  0.879415\n",
       "4  0.000000  0.476055  0.000000  0.879415\n",
       "5  0.841819  0.539760  0.000000  0.000000"
      ]
     },
     "execution_count": 49,
     "metadata": {},
     "output_type": "execute_result"
    }
   ],
   "source": [
    "pd.DataFrame(x_t.toarray(),columns=pipe['count'].get_feature_names())"
   ]
  },
  {
   "cell_type": "code",
   "execution_count": 36,
   "metadata": {},
   "outputs": [
    {
     "data": {
      "text/plain": [
       "array([[0.52064623, 0.43218341, 0.        , 0.52064623, 0.52064623,\n",
       "        0.        , 0.        ],\n",
       "       [0.        , 0.40382593, 0.60298477, 0.48648432, 0.48648432,\n",
       "        0.        , 0.        ],\n",
       "       [0.70710678, 0.        , 0.        , 0.        , 0.        ,\n",
       "        0.70710678, 0.        ],\n",
       "       [0.        , 0.        , 0.        , 0.        , 0.        ,\n",
       "        0.62791376, 0.77828292],\n",
       "       [0.        , 1.        , 0.        , 0.        , 0.        ,\n",
       "        0.        , 0.        ]])"
      ]
     },
     "execution_count": 36,
     "metadata": {},
     "output_type": "execute_result"
    }
   ],
   "source": [
    "x_t.toarray()"
   ]
  },
  {
   "cell_type": "code",
   "execution_count": 50,
   "metadata": {},
   "outputs": [],
   "source": [
    "x_t.sort_indices()"
   ]
  },
  {
   "cell_type": "markdown",
   "metadata": {},
   "source": [
    "Solo ordena los indices dentro de cada fila, por lo que cada fila \n",
    "se mantiene en su sitio."
   ]
  },
  {
   "cell_type": "code",
   "execution_count": 52,
   "metadata": {},
   "outputs": [
    {
     "data": {
      "text/plain": [
       "array([0, 1, 1, 2, 0, 1, 1, 3, 1, 3, 0, 1], dtype=int32)"
      ]
     },
     "execution_count": 52,
     "metadata": {},
     "output_type": "execute_result"
    }
   ],
   "source": [
    "x_t.indices"
   ]
  },
  {
   "cell_type": "code",
   "execution_count": 38,
   "metadata": {},
   "outputs": [
    {
     "data": {
      "text/plain": [
       "array([[0.52064623, 0.43218341, 0.        , 0.52064623, 0.52064623,\n",
       "        0.        , 0.        ],\n",
       "       [0.        , 0.40382593, 0.60298477, 0.48648432, 0.48648432,\n",
       "        0.        , 0.        ],\n",
       "       [0.70710678, 0.        , 0.        , 0.        , 0.        ,\n",
       "        0.70710678, 0.        ],\n",
       "       [0.        , 0.        , 0.        , 0.        , 0.        ,\n",
       "        0.62791376, 0.77828292],\n",
       "       [0.        , 1.        , 0.        , 0.        , 0.        ,\n",
       "        0.        , 0.        ]])"
      ]
     },
     "execution_count": 38,
     "metadata": {},
     "output_type": "execute_result"
    }
   ],
   "source": [
    "x_t.toarray()"
   ]
  },
  {
   "cell_type": "code",
   "execution_count": 40,
   "metadata": {},
   "outputs": [
    {
     "data": {
      "text/html": [
       "<div>\n",
       "<style scoped>\n",
       "    .dataframe tbody tr th:only-of-type {\n",
       "        vertical-align: middle;\n",
       "    }\n",
       "\n",
       "    .dataframe tbody tr th {\n",
       "        vertical-align: top;\n",
       "    }\n",
       "\n",
       "    .dataframe thead th {\n",
       "        text-align: right;\n",
       "    }\n",
       "</style>\n",
       "<table border=\"1\" class=\"dataframe\">\n",
       "  <thead>\n",
       "    <tr style=\"text-align: right;\">\n",
       "      <th></th>\n",
       "      <th>carlos</th>\n",
       "      <th>hola</th>\n",
       "      <th>isabel</th>\n",
       "      <th>llamo</th>\n",
       "      <th>me</th>\n",
       "      <th>soy</th>\n",
       "      <th>tonto</th>\n",
       "    </tr>\n",
       "  </thead>\n",
       "  <tbody>\n",
       "    <tr>\n",
       "      <th>0</th>\n",
       "      <td>0.520646</td>\n",
       "      <td>0.432183</td>\n",
       "      <td>0.000000</td>\n",
       "      <td>0.520646</td>\n",
       "      <td>0.520646</td>\n",
       "      <td>0.000000</td>\n",
       "      <td>0.000000</td>\n",
       "    </tr>\n",
       "    <tr>\n",
       "      <th>1</th>\n",
       "      <td>0.000000</td>\n",
       "      <td>0.403826</td>\n",
       "      <td>0.602985</td>\n",
       "      <td>0.486484</td>\n",
       "      <td>0.486484</td>\n",
       "      <td>0.000000</td>\n",
       "      <td>0.000000</td>\n",
       "    </tr>\n",
       "    <tr>\n",
       "      <th>2</th>\n",
       "      <td>0.707107</td>\n",
       "      <td>0.000000</td>\n",
       "      <td>0.000000</td>\n",
       "      <td>0.000000</td>\n",
       "      <td>0.000000</td>\n",
       "      <td>0.707107</td>\n",
       "      <td>0.000000</td>\n",
       "    </tr>\n",
       "    <tr>\n",
       "      <th>3</th>\n",
       "      <td>0.000000</td>\n",
       "      <td>0.000000</td>\n",
       "      <td>0.000000</td>\n",
       "      <td>0.000000</td>\n",
       "      <td>0.000000</td>\n",
       "      <td>0.627914</td>\n",
       "      <td>0.778283</td>\n",
       "    </tr>\n",
       "    <tr>\n",
       "      <th>4</th>\n",
       "      <td>0.000000</td>\n",
       "      <td>1.000000</td>\n",
       "      <td>0.000000</td>\n",
       "      <td>0.000000</td>\n",
       "      <td>0.000000</td>\n",
       "      <td>0.000000</td>\n",
       "      <td>0.000000</td>\n",
       "    </tr>\n",
       "  </tbody>\n",
       "</table>\n",
       "</div>"
      ],
      "text/plain": [
       "     carlos      hola    isabel     llamo        me       soy     tonto\n",
       "0  0.520646  0.432183  0.000000  0.520646  0.520646  0.000000  0.000000\n",
       "1  0.000000  0.403826  0.602985  0.486484  0.486484  0.000000  0.000000\n",
       "2  0.707107  0.000000  0.000000  0.000000  0.000000  0.707107  0.000000\n",
       "3  0.000000  0.000000  0.000000  0.000000  0.000000  0.627914  0.778283\n",
       "4  0.000000  1.000000  0.000000  0.000000  0.000000  0.000000  0.000000"
      ]
     },
     "execution_count": 40,
     "metadata": {},
     "output_type": "execute_result"
    }
   ],
   "source": [
    "pd.DataFrame(x_t.toarray(),columns=pipe['count'].get_feature_names())"
   ]
  },
  {
   "cell_type": "code",
   "execution_count": 57,
   "metadata": {},
   "outputs": [
    {
     "data": {
      "text/plain": [
       "scipy.sparse.csr.csr_matrix"
      ]
     },
     "execution_count": 57,
     "metadata": {},
     "output_type": "execute_result"
    }
   ],
   "source": [
    "type(x_t)"
   ]
  },
  {
   "cell_type": "code",
   "execution_count": null,
   "metadata": {},
   "outputs": [],
   "source": []
  },
  {
   "cell_type": "code",
   "execution_count": 60,
   "metadata": {},
   "outputs": [
    {
     "name": "stdout",
     "output_type": "stream",
     "text": [
      "Ranking events using row_number approach...\n",
      "Saving to /home/carlos/MasterDS/tfm/models/rank_with_model/254dd4d848/summaries.csv\n"
     ]
    }
   ],
   "source": [
    "rank_model.run()"
   ]
  },
  {
   "cell_type": "code",
   "execution_count": 61,
   "metadata": {},
   "outputs": [
    {
     "name": "stdout",
     "output_type": "stream",
     "text": [
      "Reading ranked summaries from /home/carlos/MasterDS/tfm/models/rank_with_model/254dd4d848/summaries.csv\n"
     ]
    }
   ],
   "source": [
    "pd_summaries = rank_model.read_summaries()"
   ]
  },
  {
   "cell_type": "code",
   "execution_count": 62,
   "metadata": {},
   "outputs": [],
   "source": [
    "articles_path = '{}articles_events.csv'.format(CSV_DATA_PATH)"
   ]
  },
  {
   "cell_type": "code",
   "execution_count": 63,
   "metadata": {},
   "outputs": [],
   "source": [
    "pd_matches = pd.read_csv(articles_path)"
   ]
  },
  {
   "cell_type": "code",
   "execution_count": 64,
   "metadata": {},
   "outputs": [],
   "source": [
    "join_cols = ['url']\n",
    "match_cols = join_cols + ['json_file', 'article', 'events']\n",
    "sum_cols = join_cols + ['summary_events']"
   ]
  },
  {
   "cell_type": "code",
   "execution_count": 65,
   "metadata": {},
   "outputs": [],
   "source": [
    "pd_matches_sum = pd_matches[match_cols].merge(pd_summaries[sum_cols], on=join_cols, how='inner')"
   ]
  },
  {
   "cell_type": "code",
   "execution_count": 36,
   "metadata": {
    "collapsed": true,
    "jupyter": {
     "outputs_hidden": true
    }
   },
   "outputs": [
    {
     "data": {
      "text/html": [
       "<div>\n",
       "<style scoped>\n",
       "    .dataframe tbody tr th:only-of-type {\n",
       "        vertical-align: middle;\n",
       "    }\n",
       "\n",
       "    .dataframe tbody tr th {\n",
       "        vertical-align: top;\n",
       "    }\n",
       "\n",
       "    .dataframe thead th {\n",
       "        text-align: right;\n",
       "    }\n",
       "</style>\n",
       "<table border=\"1\" class=\"dataframe\">\n",
       "  <thead>\n",
       "    <tr style=\"text-align: right;\">\n",
       "      <th></th>\n",
       "      <th>url</th>\n",
       "      <th>json_file</th>\n",
       "      <th>article</th>\n",
       "      <th>events</th>\n",
       "      <th>summary_events</th>\n",
       "    </tr>\n",
       "  </thead>\n",
       "  <tbody>\n",
       "    <tr>\n",
       "      <th>0</th>\n",
       "      <td>http://www.premierleague.com/match/38678</td>\n",
       "      <td>premier_league_2018_2019.json</td>\n",
       "      <td>A goal and an assist from Riyad Mahrez sealed ...</td>\n",
       "      <td>Attempt blocked. Ilkay Gündogan (Manchester Ci...</td>\n",
       "      <td>Attempt saved. Riyad Mahrez (Manchester City) ...</td>\n",
       "    </tr>\n",
       "    <tr>\n",
       "      <th>1</th>\n",
       "      <td>http://www.premierleague.com/match/38679</td>\n",
       "      <td>premier_league_2018_2019.json</td>\n",
       "      <td>A second-half double by Pierre-Emerick Aubamey...</td>\n",
       "      <td>Hand ball by Tom Heaton (Burnley). Yellow Card...</td>\n",
       "      <td>Pierre-Emerick Aubameyang (Arsenal) hits the r...</td>\n",
       "    </tr>\n",
       "    <tr>\n",
       "      <th>2</th>\n",
       "      <td>http://www.premierleague.com/match/38680</td>\n",
       "      <td>premier_league_2018_2019.json</td>\n",
       "      <td>Michy Batshuayi's brace helped Crystal Palace ...</td>\n",
       "      <td>Andros Townsend (Crystal Palace) wins a free k...</td>\n",
       "      <td>Andros Townsend (Crystal Palace) wins a free k...</td>\n",
       "    </tr>\n",
       "    <tr>\n",
       "      <th>3</th>\n",
       "      <td>http://www.premierleague.com/match/38681</td>\n",
       "      <td>premier_league_2018_2019.json</td>\n",
       "      <td>Fulham were overpowered by an impressive Newca...</td>\n",
       "      <td>Attempt missed. Jonjo Shelvey (Newcastle Unite...</td>\n",
       "      <td>Attempt missed. Jonjo Shelvey (Newcastle Unite...</td>\n",
       "    </tr>\n",
       "    <tr>\n",
       "      <th>4</th>\n",
       "      <td>http://www.premierleague.com/match/38682</td>\n",
       "      <td>premier_league_2018_2019.json</td>\n",
       "      <td>Chelsea confirmed a third-place finish after a...</td>\n",
       "      <td>Foul by Jorginho (Chelsea). Jamie Vardy (Leice...</td>\n",
       "      <td>Jamie Vardy (Leicester City) wins a free kick ...</td>\n",
       "    </tr>\n",
       "    <tr>\n",
       "      <th>...</th>\n",
       "      <td>...</td>\n",
       "      <td>...</td>\n",
       "      <td>...</td>\n",
       "      <td>...</td>\n",
       "      <td>...</td>\n",
       "    </tr>\n",
       "    <tr>\n",
       "      <th>4518</th>\n",
       "      <td>https://www.espn.com/soccer/report?gameId=522712</td>\n",
       "      <td>italian_serie_a_2018_2019.json</td>\n",
       "      <td>Inter Milan notched their seventh successive S...</td>\n",
       "      <td>Corner,  Inter Milan. Conceded by Cristian Rom...</td>\n",
       "      <td>Attempt missed. Ivan Perisic (Inter Milan) rig...</td>\n",
       "    </tr>\n",
       "    <tr>\n",
       "      <th>4519</th>\n",
       "      <td>https://www.espn.com/soccer/report?gameId=522672</td>\n",
       "      <td>italian_serie_a_2018_2019.json</td>\n",
       "      <td>Two goals from Arkadiusz Milik helped Napoli m...</td>\n",
       "      <td>Offside, Napoli. Elseid Hysaj tries a through ...</td>\n",
       "      <td>Goal!  Napoli 1, Frosinone 0. Piotr Zielinski ...</td>\n",
       "    </tr>\n",
       "    <tr>\n",
       "      <th>4520</th>\n",
       "      <td>https://www.espn.com/soccer/report?gameId=522701</td>\n",
       "      <td>italian_serie_a_2018_2019.json</td>\n",
       "      <td>Inter Milan's run of seven successive league w...</td>\n",
       "      <td>Attempt blocked. Hans Hateboer (Atalanta) head...</td>\n",
       "      <td>Corner,  Atalanta. Conceded by Samir Handanovi...</td>\n",
       "    </tr>\n",
       "    <tr>\n",
       "      <th>4521</th>\n",
       "      <td>https://www.espn.com/soccer/report?gameId=522667</td>\n",
       "      <td>italian_serie_a_2018_2019.json</td>\n",
       "      <td>Inter Milan rebounded from the disappointment ...</td>\n",
       "      <td>Corner,  Inter Milan. Conceded by Bram Nuytinc...</td>\n",
       "      <td>Marco D'Alessandro (Udinese) wins a free kick ...</td>\n",
       "    </tr>\n",
       "    <tr>\n",
       "      <th>4522</th>\n",
       "      <td>https://www.espn.com/soccer/report?gameId=522804</td>\n",
       "      <td>italian_serie_a_2018_2019.json</td>\n",
       "      <td>Inter Milan, touted as one of the Serie A titl...</td>\n",
       "      <td>Foul by Tomás Rincón (Torino). Sime Vrsaljko (...</td>\n",
       "      <td>Goal!  Inter Milan 1, Torino 0. Ivan Perisic (...</td>\n",
       "    </tr>\n",
       "  </tbody>\n",
       "</table>\n",
       "<p>4523 rows × 5 columns</p>\n",
       "</div>"
      ],
      "text/plain": [
       "                                                   url  ...                                     summary_events\n",
       "0             http://www.premierleague.com/match/38678  ...  Attempt saved. Riyad Mahrez (Manchester City) ...\n",
       "1             http://www.premierleague.com/match/38679  ...  Pierre-Emerick Aubameyang (Arsenal) hits the r...\n",
       "2             http://www.premierleague.com/match/38680  ...  Andros Townsend (Crystal Palace) wins a free k...\n",
       "3             http://www.premierleague.com/match/38681  ...  Attempt missed. Jonjo Shelvey (Newcastle Unite...\n",
       "4             http://www.premierleague.com/match/38682  ...  Jamie Vardy (Leicester City) wins a free kick ...\n",
       "...                                                ...  ...                                                ...\n",
       "4518  https://www.espn.com/soccer/report?gameId=522712  ...  Attempt missed. Ivan Perisic (Inter Milan) rig...\n",
       "4519  https://www.espn.com/soccer/report?gameId=522672  ...  Goal!  Napoli 1, Frosinone 0. Piotr Zielinski ...\n",
       "4520  https://www.espn.com/soccer/report?gameId=522701  ...  Corner,  Atalanta. Conceded by Samir Handanovi...\n",
       "4521  https://www.espn.com/soccer/report?gameId=522667  ...  Marco D'Alessandro (Udinese) wins a free kick ...\n",
       "4522  https://www.espn.com/soccer/report?gameId=522804  ...  Goal!  Inter Milan 1, Torino 0. Ivan Perisic (...\n",
       "\n",
       "[4523 rows x 5 columns]"
      ]
     },
     "execution_count": 36,
     "metadata": {},
     "output_type": "execute_result"
    }
   ],
   "source": [
    "pd_matches_sum"
   ]
  },
  {
   "cell_type": "markdown",
   "metadata": {},
   "source": [
    "## Evaluación"
   ]
  },
  {
   "cell_type": "code",
   "execution_count": 66,
   "metadata": {},
   "outputs": [
    {
     "name": "stdout",
     "output_type": "stream",
     "text": [
      "Setting target metric to rouge\n"
     ]
    }
   ],
   "source": [
    "evaluation = SummaryEvaluation(metric='rouge')"
   ]
  },
  {
   "cell_type": "markdown",
   "metadata": {},
   "source": [
    "### Sin procesar"
   ]
  },
  {
   "cell_type": "code",
   "execution_count": 67,
   "metadata": {},
   "outputs": [],
   "source": [
    "file_name = 'model_rank_nn_rouge_1'"
   ]
  },
  {
   "cell_type": "code",
   "execution_count": 68,
   "metadata": {},
   "outputs": [],
   "source": [
    "path = '{}/summaries/rouge/{}'.format(conf.METRICS_PATH, file_name)"
   ]
  },
  {
   "cell_type": "code",
   "execution_count": 69,
   "metadata": {},
   "outputs": [
    {
     "name": "stdout",
     "output_type": "stream",
     "text": [
      "Performing evaluation for 4523 articles\n",
      "Writing to /home/carlos/MasterDS/tfm/data/metrics/summaries/rouge/model_rank_nn_rouge_1.pickle\n",
      "Writing avg to /home/carlos/MasterDS/tfm/data/metrics/summaries/rouge/model_rank_nn_rouge_1_avg.pickle\n"
     ]
    }
   ],
   "source": [
    "scores_dict, avg_scores_dict = evaluation.evaluate(pd_matches_sum, path,\n",
    "                                                   preprocess_text=False)"
   ]
  },
  {
   "cell_type": "code",
   "execution_count": 70,
   "metadata": {},
   "outputs": [
    {
     "data": {
      "text/plain": [
       "{'rouge-1': {'f': 0.21411083662262675,\n",
       "  'p': 0.224457592865273,\n",
       "  'r': 0.2397299297567234},\n",
       " 'rouge-2': {'f': 0.04439533889364683,\n",
       "  'p': 0.04774201971590945,\n",
       "  'r': 0.0492042502014598},\n",
       " 'rouge-l': {'f': 0.20042964677362315,\n",
       "  'p': 0.3081622494144136,\n",
       "  'r': 0.15918778934787445}}"
      ]
     },
     "execution_count": 70,
     "metadata": {},
     "output_type": "execute_result"
    }
   ],
   "source": [
    "avg_scores_dict"
   ]
  },
  {
   "cell_type": "markdown",
   "metadata": {},
   "source": [
    "### Con procesado"
   ]
  },
  {
   "cell_type": "code",
   "execution_count": 71,
   "metadata": {},
   "outputs": [],
   "source": [
    "file_name = 'model_rank_nn_rouge_1_processed'"
   ]
  },
  {
   "cell_type": "code",
   "execution_count": 72,
   "metadata": {},
   "outputs": [],
   "source": [
    "path = '{}/summaries/rouge/{}'.format(conf.METRICS_PATH, file_name)"
   ]
  },
  {
   "cell_type": "code",
   "execution_count": 73,
   "metadata": {},
   "outputs": [
    {
     "name": "stdout",
     "output_type": "stream",
     "text": [
      "Performing evaluation for 4523 articles\n",
      "Writing to /home/carlos/MasterDS/tfm/data/metrics/summaries/rouge/model_rank_nn_rouge_1_processed.pickle\n",
      "Writing avg to /home/carlos/MasterDS/tfm/data/metrics/summaries/rouge/model_rank_nn_rouge_1_processed_avg.pickle\n"
     ]
    }
   ],
   "source": [
    "scores_dict, avg_scores_dict = evaluation.evaluate(pd_matches_sum, path,\n",
    "                                                   preprocess_text=True)"
   ]
  },
  {
   "cell_type": "code",
   "execution_count": 74,
   "metadata": {},
   "outputs": [
    {
     "data": {
      "text/plain": [
       "{'rouge-1': {'f': 0.20363687131702682,\n",
       "  'p': 0.1990082180294317,\n",
       "  'r': 0.2475099887546123},\n",
       " 'rouge-2': {'f': 0.057136949878860414,\n",
       "  'p': 0.054898840479307966,\n",
       "  'r': 0.07112673178911842},\n",
       " 'rouge-l': {'f': 0.25761571789124194,\n",
       "  'p': 0.3732086187871176,\n",
       "  'r': 0.21239075967698312}}"
      ]
     },
     "execution_count": 74,
     "metadata": {},
     "output_type": "execute_result"
    }
   ],
   "source": [
    "avg_scores_dict"
   ]
  },
  {
   "cell_type": "markdown",
   "metadata": {},
   "source": [
    "# Con todos los resumenes"
   ]
  },
  {
   "cell_type": "code",
   "execution_count": 75,
   "metadata": {},
   "outputs": [
    {
     "name": "stdout",
     "output_type": "stream",
     "text": [
      "Evaluating the following summaries: ['key_events_summaries_1.csv', 'key_events_summaries_3.csv', 'key_events_summaries_4.csv', 'key_events_summaries_graph_2.csv', 'key_events_summaries_graph_3.csv', 'key_events_summaries_2.csv', 'key_events_summaries_graph_5.csv', 'key_events_summaries_graph_1.csv', 'key_events_summaries_graph_4.csv']\n",
      "Evaluating key_events_summaries_1.csv\n",
      "Metrics already exist\n",
      "Evaluating key_events_summaries_3.csv\n",
      "Metrics already exist\n",
      "Evaluating key_events_summaries_4.csv\n",
      "Metrics already exist\n",
      "Evaluating key_events_summaries_graph_2.csv\n",
      "Metrics already exist\n",
      "Evaluating key_events_summaries_graph_3.csv\n",
      "Metrics already exist\n",
      "Evaluating key_events_summaries_2.csv\n",
      "Metrics already exist\n",
      "Evaluating key_events_summaries_graph_5.csv\n",
      "Metrics already exist\n",
      "Evaluating key_events_summaries_graph_1.csv\n",
      "Metrics already exist\n",
      "Evaluating key_events_summaries_graph_4.csv\n",
      "Metrics already exist\n",
      "CPU times: user 1.88 s, sys: 122 ms, total: 2 s\n",
      "Wall time: 3.86 s\n"
     ]
    }
   ],
   "source": [
    "%%time\n",
    "evaluation.evaluate_all_summaries()"
   ]
  },
  {
   "cell_type": "code",
   "execution_count": 76,
   "metadata": {},
   "outputs": [],
   "source": [
    "pd_metrics = evaluation.output_avg_metrics()"
   ]
  },
  {
   "cell_type": "code",
   "execution_count": 77,
   "metadata": {},
   "outputs": [
    {
     "data": {
      "text/html": [
       "<div>\n",
       "<style scoped>\n",
       "    .dataframe tbody tr th:only-of-type {\n",
       "        vertical-align: middle;\n",
       "    }\n",
       "\n",
       "    .dataframe tbody tr th {\n",
       "        vertical-align: top;\n",
       "    }\n",
       "\n",
       "    .dataframe thead tr th {\n",
       "        text-align: left;\n",
       "    }\n",
       "\n",
       "    .dataframe thead tr:last-of-type th {\n",
       "        text-align: right;\n",
       "    }\n",
       "</style>\n",
       "<table border=\"1\" class=\"dataframe\">\n",
       "  <thead>\n",
       "    <tr>\n",
       "      <th>metric</th>\n",
       "      <th colspan=\"3\" halign=\"left\">rouge-1</th>\n",
       "      <th colspan=\"3\" halign=\"left\">rouge-2</th>\n",
       "      <th colspan=\"3\" halign=\"left\">rouge-l</th>\n",
       "    </tr>\n",
       "    <tr>\n",
       "      <th>metric_type</th>\n",
       "      <th>f</th>\n",
       "      <th>p</th>\n",
       "      <th>r</th>\n",
       "      <th>f</th>\n",
       "      <th>p</th>\n",
       "      <th>r</th>\n",
       "      <th>f</th>\n",
       "      <th>p</th>\n",
       "      <th>r</th>\n",
       "    </tr>\n",
       "    <tr>\n",
       "      <th>experiment</th>\n",
       "      <th></th>\n",
       "      <th></th>\n",
       "      <th></th>\n",
       "      <th></th>\n",
       "      <th></th>\n",
       "      <th></th>\n",
       "      <th></th>\n",
       "      <th></th>\n",
       "      <th></th>\n",
       "    </tr>\n",
       "  </thead>\n",
       "  <tbody>\n",
       "    <tr>\n",
       "      <th>baseline_rank</th>\n",
       "      <td>0.217420</td>\n",
       "      <td>0.244630</td>\n",
       "      <td>0.225864</td>\n",
       "      <td>0.046198</td>\n",
       "      <td>0.053453</td>\n",
       "      <td>0.047444</td>\n",
       "      <td>0.200956</td>\n",
       "      <td>0.327370</td>\n",
       "      <td>0.155132</td>\n",
       "    </tr>\n",
       "    <tr>\n",
       "      <th>baseline_rank_processed</th>\n",
       "      <td>0.214708</td>\n",
       "      <td>0.221810</td>\n",
       "      <td>0.243826</td>\n",
       "      <td>0.060661</td>\n",
       "      <td>0.061520</td>\n",
       "      <td>0.070342</td>\n",
       "      <td>0.260602</td>\n",
       "      <td>0.396917</td>\n",
       "      <td>0.208477</td>\n",
       "    </tr>\n",
       "    <tr>\n",
       "      <th>key_events_summaries_1</th>\n",
       "      <td>0.152305</td>\n",
       "      <td>0.337611</td>\n",
       "      <td>0.120764</td>\n",
       "      <td>0.037226</td>\n",
       "      <td>0.099268</td>\n",
       "      <td>0.028425</td>\n",
       "      <td>0.148213</td>\n",
       "      <td>0.404838</td>\n",
       "      <td>0.101478</td>\n",
       "    </tr>\n",
       "    <tr>\n",
       "      <th>key_events_summaries_1_processed</th>\n",
       "      <td>0.195851</td>\n",
       "      <td>0.520812</td>\n",
       "      <td>0.152725</td>\n",
       "      <td>0.062947</td>\n",
       "      <td>0.186978</td>\n",
       "      <td>0.048554</td>\n",
       "      <td>0.209574</td>\n",
       "      <td>0.615943</td>\n",
       "      <td>0.142189</td>\n",
       "    </tr>\n",
       "    <tr>\n",
       "      <th>key_events_summaries_2</th>\n",
       "      <td>0.151979</td>\n",
       "      <td>0.338229</td>\n",
       "      <td>0.120376</td>\n",
       "      <td>0.037130</td>\n",
       "      <td>0.099623</td>\n",
       "      <td>0.028310</td>\n",
       "      <td>0.147826</td>\n",
       "      <td>0.405996</td>\n",
       "      <td>0.101074</td>\n",
       "    </tr>\n",
       "    <tr>\n",
       "      <th>key_events_summaries_2_processed</th>\n",
       "      <td>0.195232</td>\n",
       "      <td>0.522998</td>\n",
       "      <td>0.151988</td>\n",
       "      <td>0.062645</td>\n",
       "      <td>0.187916</td>\n",
       "      <td>0.048229</td>\n",
       "      <td>0.208813</td>\n",
       "      <td>0.618418</td>\n",
       "      <td>0.141428</td>\n",
       "    </tr>\n",
       "    <tr>\n",
       "      <th>key_events_summaries_3</th>\n",
       "      <td>0.152305</td>\n",
       "      <td>0.337611</td>\n",
       "      <td>0.120764</td>\n",
       "      <td>0.037226</td>\n",
       "      <td>0.099268</td>\n",
       "      <td>0.028425</td>\n",
       "      <td>0.148213</td>\n",
       "      <td>0.404838</td>\n",
       "      <td>0.101478</td>\n",
       "    </tr>\n",
       "    <tr>\n",
       "      <th>key_events_summaries_3_processed</th>\n",
       "      <td>0.195851</td>\n",
       "      <td>0.520812</td>\n",
       "      <td>0.152725</td>\n",
       "      <td>0.062947</td>\n",
       "      <td>0.186978</td>\n",
       "      <td>0.048554</td>\n",
       "      <td>0.209574</td>\n",
       "      <td>0.615943</td>\n",
       "      <td>0.142189</td>\n",
       "    </tr>\n",
       "    <tr>\n",
       "      <th>key_events_summaries_4</th>\n",
       "      <td>0.151979</td>\n",
       "      <td>0.338229</td>\n",
       "      <td>0.120376</td>\n",
       "      <td>0.037130</td>\n",
       "      <td>0.099623</td>\n",
       "      <td>0.028310</td>\n",
       "      <td>0.147826</td>\n",
       "      <td>0.405996</td>\n",
       "      <td>0.101074</td>\n",
       "    </tr>\n",
       "    <tr>\n",
       "      <th>key_events_summaries_4_processed</th>\n",
       "      <td>0.195232</td>\n",
       "      <td>0.522998</td>\n",
       "      <td>0.151988</td>\n",
       "      <td>0.062645</td>\n",
       "      <td>0.187916</td>\n",
       "      <td>0.048229</td>\n",
       "      <td>0.208813</td>\n",
       "      <td>0.618418</td>\n",
       "      <td>0.141428</td>\n",
       "    </tr>\n",
       "    <tr>\n",
       "      <th>key_events_summaries_graph_1</th>\n",
       "      <td>0.176339</td>\n",
       "      <td>0.155282</td>\n",
       "      <td>0.251348</td>\n",
       "      <td>0.035792</td>\n",
       "      <td>0.032529</td>\n",
       "      <td>0.050188</td>\n",
       "      <td>0.189669</td>\n",
       "      <td>0.270450</td>\n",
       "      <td>0.157788</td>\n",
       "    </tr>\n",
       "    <tr>\n",
       "      <th>key_events_summaries_graph_1_processed</th>\n",
       "      <td>0.131490</td>\n",
       "      <td>0.107596</td>\n",
       "      <td>0.219318</td>\n",
       "      <td>0.033865</td>\n",
       "      <td>0.027657</td>\n",
       "      <td>0.058878</td>\n",
       "      <td>0.215488</td>\n",
       "      <td>0.280576</td>\n",
       "      <td>0.191649</td>\n",
       "    </tr>\n",
       "    <tr>\n",
       "      <th>key_events_summaries_graph_2</th>\n",
       "      <td>0.151728</td>\n",
       "      <td>0.120522</td>\n",
       "      <td>0.272808</td>\n",
       "      <td>0.029401</td>\n",
       "      <td>0.024034</td>\n",
       "      <td>0.052256</td>\n",
       "      <td>0.197920</td>\n",
       "      <td>0.269437</td>\n",
       "      <td>0.169490</td>\n",
       "    </tr>\n",
       "    <tr>\n",
       "      <th>key_events_summaries_graph_2_processed</th>\n",
       "      <td>0.122147</td>\n",
       "      <td>0.091738</td>\n",
       "      <td>0.256209</td>\n",
       "      <td>0.032860</td>\n",
       "      <td>0.024790</td>\n",
       "      <td>0.072010</td>\n",
       "      <td>0.235995</td>\n",
       "      <td>0.291261</td>\n",
       "      <td>0.218201</td>\n",
       "    </tr>\n",
       "    <tr>\n",
       "      <th>key_events_summaries_graph_3</th>\n",
       "      <td>0.176339</td>\n",
       "      <td>0.155282</td>\n",
       "      <td>0.251348</td>\n",
       "      <td>0.035792</td>\n",
       "      <td>0.032529</td>\n",
       "      <td>0.050188</td>\n",
       "      <td>0.189669</td>\n",
       "      <td>0.270450</td>\n",
       "      <td>0.157788</td>\n",
       "    </tr>\n",
       "    <tr>\n",
       "      <th>key_events_summaries_graph_3_processed</th>\n",
       "      <td>0.131490</td>\n",
       "      <td>0.107596</td>\n",
       "      <td>0.219318</td>\n",
       "      <td>0.033865</td>\n",
       "      <td>0.027657</td>\n",
       "      <td>0.058878</td>\n",
       "      <td>0.215488</td>\n",
       "      <td>0.280576</td>\n",
       "      <td>0.191649</td>\n",
       "    </tr>\n",
       "    <tr>\n",
       "      <th>key_events_summaries_graph_4</th>\n",
       "      <td>0.151728</td>\n",
       "      <td>0.120522</td>\n",
       "      <td>0.272808</td>\n",
       "      <td>0.029401</td>\n",
       "      <td>0.024034</td>\n",
       "      <td>0.052256</td>\n",
       "      <td>0.197920</td>\n",
       "      <td>0.269437</td>\n",
       "      <td>0.169490</td>\n",
       "    </tr>\n",
       "    <tr>\n",
       "      <th>key_events_summaries_graph_4_processed</th>\n",
       "      <td>0.122147</td>\n",
       "      <td>0.091738</td>\n",
       "      <td>0.256209</td>\n",
       "      <td>0.032860</td>\n",
       "      <td>0.024790</td>\n",
       "      <td>0.072010</td>\n",
       "      <td>0.235995</td>\n",
       "      <td>0.291261</td>\n",
       "      <td>0.218201</td>\n",
       "    </tr>\n",
       "    <tr>\n",
       "      <th>key_events_summaries_graph_5</th>\n",
       "      <td>0.173270</td>\n",
       "      <td>0.140934</td>\n",
       "      <td>0.275796</td>\n",
       "      <td>0.034431</td>\n",
       "      <td>0.028395</td>\n",
       "      <td>0.054379</td>\n",
       "      <td>0.199062</td>\n",
       "      <td>0.265995</td>\n",
       "      <td>0.171442</td>\n",
       "    </tr>\n",
       "    <tr>\n",
       "      <th>key_events_summaries_graph_5_processed</th>\n",
       "      <td>0.134658</td>\n",
       "      <td>0.101599</td>\n",
       "      <td>0.248504</td>\n",
       "      <td>0.033602</td>\n",
       "      <td>0.024837</td>\n",
       "      <td>0.064676</td>\n",
       "      <td>0.230492</td>\n",
       "      <td>0.288569</td>\n",
       "      <td>0.209462</td>\n",
       "    </tr>\n",
       "    <tr>\n",
       "      <th>model_rank</th>\n",
       "      <td>0.213064</td>\n",
       "      <td>0.250136</td>\n",
       "      <td>0.218950</td>\n",
       "      <td>0.045200</td>\n",
       "      <td>0.055650</td>\n",
       "      <td>0.045497</td>\n",
       "      <td>0.194619</td>\n",
       "      <td>0.301360</td>\n",
       "      <td>0.154827</td>\n",
       "    </tr>\n",
       "    <tr>\n",
       "      <th>model_rank_gbt_rouge_1</th>\n",
       "      <td>0.202762</td>\n",
       "      <td>0.207199</td>\n",
       "      <td>0.239512</td>\n",
       "      <td>0.039840</td>\n",
       "      <td>0.042021</td>\n",
       "      <td>0.046562</td>\n",
       "      <td>0.197022</td>\n",
       "      <td>0.295896</td>\n",
       "      <td>0.158652</td>\n",
       "    </tr>\n",
       "    <tr>\n",
       "      <th>model_rank_gbt_rouge_1_processed</th>\n",
       "      <td>0.186269</td>\n",
       "      <td>0.181213</td>\n",
       "      <td>0.236549</td>\n",
       "      <td>0.054152</td>\n",
       "      <td>0.051964</td>\n",
       "      <td>0.070167</td>\n",
       "      <td>0.243824</td>\n",
       "      <td>0.346440</td>\n",
       "      <td>0.204242</td>\n",
       "    </tr>\n",
       "    <tr>\n",
       "      <th>model_rank_nn_rouge_1</th>\n",
       "      <td>0.214111</td>\n",
       "      <td>0.224458</td>\n",
       "      <td>0.239730</td>\n",
       "      <td>0.044395</td>\n",
       "      <td>0.047742</td>\n",
       "      <td>0.049204</td>\n",
       "      <td>0.200430</td>\n",
       "      <td>0.308162</td>\n",
       "      <td>0.159188</td>\n",
       "    </tr>\n",
       "    <tr>\n",
       "      <th>model_rank_nn_rouge_1_processed</th>\n",
       "      <td>0.203637</td>\n",
       "      <td>0.199008</td>\n",
       "      <td>0.247510</td>\n",
       "      <td>0.057137</td>\n",
       "      <td>0.054899</td>\n",
       "      <td>0.071127</td>\n",
       "      <td>0.257616</td>\n",
       "      <td>0.373209</td>\n",
       "      <td>0.212391</td>\n",
       "    </tr>\n",
       "    <tr>\n",
       "      <th>model_rank_rouge_1_processed</th>\n",
       "      <td>0.219669</td>\n",
       "      <td>0.242492</td>\n",
       "      <td>0.241968</td>\n",
       "      <td>0.062444</td>\n",
       "      <td>0.068352</td>\n",
       "      <td>0.069649</td>\n",
       "      <td>0.252118</td>\n",
       "      <td>0.366211</td>\n",
       "      <td>0.208861</td>\n",
       "    </tr>\n",
       "    <tr>\n",
       "      <th>model_rank_svm_rouge_1</th>\n",
       "      <td>0.217884</td>\n",
       "      <td>0.229743</td>\n",
       "      <td>0.241741</td>\n",
       "      <td>0.045360</td>\n",
       "      <td>0.049007</td>\n",
       "      <td>0.049847</td>\n",
       "      <td>0.202635</td>\n",
       "      <td>0.308546</td>\n",
       "      <td>0.161639</td>\n",
       "    </tr>\n",
       "    <tr>\n",
       "      <th>model_rank_svm_rouge_1_processed</th>\n",
       "      <td>0.209460</td>\n",
       "      <td>0.205204</td>\n",
       "      <td>0.252872</td>\n",
       "      <td>0.058944</td>\n",
       "      <td>0.056725</td>\n",
       "      <td>0.072838</td>\n",
       "      <td>0.262104</td>\n",
       "      <td>0.374286</td>\n",
       "      <td>0.217653</td>\n",
       "    </tr>\n",
       "    <tr>\n",
       "      <th>upper_bound</th>\n",
       "      <td>0.105305</td>\n",
       "      <td>0.067818</td>\n",
       "      <td>0.361353</td>\n",
       "      <td>0.021309</td>\n",
       "      <td>0.013826</td>\n",
       "      <td>0.073771</td>\n",
       "      <td>0.218348</td>\n",
       "      <td>0.228750</td>\n",
       "      <td>0.232812</td>\n",
       "    </tr>\n",
       "  </tbody>\n",
       "</table>\n",
       "</div>"
      ],
      "text/plain": [
       "metric                                   rouge-1                      \\\n",
       "metric_type                                    f         p         r   \n",
       "experiment                                                             \n",
       "baseline_rank                           0.217420  0.244630  0.225864   \n",
       "baseline_rank_processed                 0.214708  0.221810  0.243826   \n",
       "key_events_summaries_1                  0.152305  0.337611  0.120764   \n",
       "key_events_summaries_1_processed        0.195851  0.520812  0.152725   \n",
       "key_events_summaries_2                  0.151979  0.338229  0.120376   \n",
       "key_events_summaries_2_processed        0.195232  0.522998  0.151988   \n",
       "key_events_summaries_3                  0.152305  0.337611  0.120764   \n",
       "key_events_summaries_3_processed        0.195851  0.520812  0.152725   \n",
       "key_events_summaries_4                  0.151979  0.338229  0.120376   \n",
       "key_events_summaries_4_processed        0.195232  0.522998  0.151988   \n",
       "key_events_summaries_graph_1            0.176339  0.155282  0.251348   \n",
       "key_events_summaries_graph_1_processed  0.131490  0.107596  0.219318   \n",
       "key_events_summaries_graph_2            0.151728  0.120522  0.272808   \n",
       "key_events_summaries_graph_2_processed  0.122147  0.091738  0.256209   \n",
       "key_events_summaries_graph_3            0.176339  0.155282  0.251348   \n",
       "key_events_summaries_graph_3_processed  0.131490  0.107596  0.219318   \n",
       "key_events_summaries_graph_4            0.151728  0.120522  0.272808   \n",
       "key_events_summaries_graph_4_processed  0.122147  0.091738  0.256209   \n",
       "key_events_summaries_graph_5            0.173270  0.140934  0.275796   \n",
       "key_events_summaries_graph_5_processed  0.134658  0.101599  0.248504   \n",
       "model_rank                              0.213064  0.250136  0.218950   \n",
       "model_rank_gbt_rouge_1                  0.202762  0.207199  0.239512   \n",
       "model_rank_gbt_rouge_1_processed        0.186269  0.181213  0.236549   \n",
       "model_rank_nn_rouge_1                   0.214111  0.224458  0.239730   \n",
       "model_rank_nn_rouge_1_processed         0.203637  0.199008  0.247510   \n",
       "model_rank_rouge_1_processed            0.219669  0.242492  0.241968   \n",
       "model_rank_svm_rouge_1                  0.217884  0.229743  0.241741   \n",
       "model_rank_svm_rouge_1_processed        0.209460  0.205204  0.252872   \n",
       "upper_bound                             0.105305  0.067818  0.361353   \n",
       "\n",
       "metric                                   rouge-2                      \\\n",
       "metric_type                                    f         p         r   \n",
       "experiment                                                             \n",
       "baseline_rank                           0.046198  0.053453  0.047444   \n",
       "baseline_rank_processed                 0.060661  0.061520  0.070342   \n",
       "key_events_summaries_1                  0.037226  0.099268  0.028425   \n",
       "key_events_summaries_1_processed        0.062947  0.186978  0.048554   \n",
       "key_events_summaries_2                  0.037130  0.099623  0.028310   \n",
       "key_events_summaries_2_processed        0.062645  0.187916  0.048229   \n",
       "key_events_summaries_3                  0.037226  0.099268  0.028425   \n",
       "key_events_summaries_3_processed        0.062947  0.186978  0.048554   \n",
       "key_events_summaries_4                  0.037130  0.099623  0.028310   \n",
       "key_events_summaries_4_processed        0.062645  0.187916  0.048229   \n",
       "key_events_summaries_graph_1            0.035792  0.032529  0.050188   \n",
       "key_events_summaries_graph_1_processed  0.033865  0.027657  0.058878   \n",
       "key_events_summaries_graph_2            0.029401  0.024034  0.052256   \n",
       "key_events_summaries_graph_2_processed  0.032860  0.024790  0.072010   \n",
       "key_events_summaries_graph_3            0.035792  0.032529  0.050188   \n",
       "key_events_summaries_graph_3_processed  0.033865  0.027657  0.058878   \n",
       "key_events_summaries_graph_4            0.029401  0.024034  0.052256   \n",
       "key_events_summaries_graph_4_processed  0.032860  0.024790  0.072010   \n",
       "key_events_summaries_graph_5            0.034431  0.028395  0.054379   \n",
       "key_events_summaries_graph_5_processed  0.033602  0.024837  0.064676   \n",
       "model_rank                              0.045200  0.055650  0.045497   \n",
       "model_rank_gbt_rouge_1                  0.039840  0.042021  0.046562   \n",
       "model_rank_gbt_rouge_1_processed        0.054152  0.051964  0.070167   \n",
       "model_rank_nn_rouge_1                   0.044395  0.047742  0.049204   \n",
       "model_rank_nn_rouge_1_processed         0.057137  0.054899  0.071127   \n",
       "model_rank_rouge_1_processed            0.062444  0.068352  0.069649   \n",
       "model_rank_svm_rouge_1                  0.045360  0.049007  0.049847   \n",
       "model_rank_svm_rouge_1_processed        0.058944  0.056725  0.072838   \n",
       "upper_bound                             0.021309  0.013826  0.073771   \n",
       "\n",
       "metric                                   rouge-l                      \n",
       "metric_type                                    f         p         r  \n",
       "experiment                                                            \n",
       "baseline_rank                           0.200956  0.327370  0.155132  \n",
       "baseline_rank_processed                 0.260602  0.396917  0.208477  \n",
       "key_events_summaries_1                  0.148213  0.404838  0.101478  \n",
       "key_events_summaries_1_processed        0.209574  0.615943  0.142189  \n",
       "key_events_summaries_2                  0.147826  0.405996  0.101074  \n",
       "key_events_summaries_2_processed        0.208813  0.618418  0.141428  \n",
       "key_events_summaries_3                  0.148213  0.404838  0.101478  \n",
       "key_events_summaries_3_processed        0.209574  0.615943  0.142189  \n",
       "key_events_summaries_4                  0.147826  0.405996  0.101074  \n",
       "key_events_summaries_4_processed        0.208813  0.618418  0.141428  \n",
       "key_events_summaries_graph_1            0.189669  0.270450  0.157788  \n",
       "key_events_summaries_graph_1_processed  0.215488  0.280576  0.191649  \n",
       "key_events_summaries_graph_2            0.197920  0.269437  0.169490  \n",
       "key_events_summaries_graph_2_processed  0.235995  0.291261  0.218201  \n",
       "key_events_summaries_graph_3            0.189669  0.270450  0.157788  \n",
       "key_events_summaries_graph_3_processed  0.215488  0.280576  0.191649  \n",
       "key_events_summaries_graph_4            0.197920  0.269437  0.169490  \n",
       "key_events_summaries_graph_4_processed  0.235995  0.291261  0.218201  \n",
       "key_events_summaries_graph_5            0.199062  0.265995  0.171442  \n",
       "key_events_summaries_graph_5_processed  0.230492  0.288569  0.209462  \n",
       "model_rank                              0.194619  0.301360  0.154827  \n",
       "model_rank_gbt_rouge_1                  0.197022  0.295896  0.158652  \n",
       "model_rank_gbt_rouge_1_processed        0.243824  0.346440  0.204242  \n",
       "model_rank_nn_rouge_1                   0.200430  0.308162  0.159188  \n",
       "model_rank_nn_rouge_1_processed         0.257616  0.373209  0.212391  \n",
       "model_rank_rouge_1_processed            0.252118  0.366211  0.208861  \n",
       "model_rank_svm_rouge_1                  0.202635  0.308546  0.161639  \n",
       "model_rank_svm_rouge_1_processed        0.262104  0.374286  0.217653  \n",
       "upper_bound                             0.218348  0.228750  0.232812  "
      ]
     },
     "execution_count": 77,
     "metadata": {},
     "output_type": "execute_result"
    }
   ],
   "source": [
    "pd.pivot_table(pd_metrics, index='experiment', columns=['metric', 'metric_type'], values='value')"
   ]
  },
  {
   "cell_type": "code",
   "execution_count": 14,
   "metadata": {},
   "outputs": [
    {
     "name": "stdout",
     "output_type": "stream",
     "text": [
      "Performing evaluation for 4523 articles\n",
      "Writing to /home/carlos/MasterDS/tfm/data/metrics/summaries/rouge/upper_bound.pickle\n",
      "Writing avg to /home/carlos/MasterDS/tfm/data/metrics/summaries/rouge/upper_bound_avg.pickle\n"
     ]
    }
   ],
   "source": [
    "evaluation.bound_metrics()"
   ]
  },
  {
   "cell_type": "code",
   "execution_count": 26,
   "metadata": {},
   "outputs": [],
   "source": [
    "pd_bound = evaluation.output_avg_bound()"
   ]
  },
  {
   "cell_type": "code",
   "execution_count": 27,
   "metadata": {},
   "outputs": [
    {
     "data": {
      "text/html": [
       "<div>\n",
       "<style scoped>\n",
       "    .dataframe tbody tr th:only-of-type {\n",
       "        vertical-align: middle;\n",
       "    }\n",
       "\n",
       "    .dataframe tbody tr th {\n",
       "        vertical-align: top;\n",
       "    }\n",
       "\n",
       "    .dataframe thead th {\n",
       "        text-align: right;\n",
       "    }\n",
       "</style>\n",
       "<table border=\"1\" class=\"dataframe\">\n",
       "  <thead>\n",
       "    <tr style=\"text-align: right;\">\n",
       "      <th></th>\n",
       "      <th>metric</th>\n",
       "      <th>metric_type</th>\n",
       "      <th>value</th>\n",
       "    </tr>\n",
       "  </thead>\n",
       "  <tbody>\n",
       "    <tr>\n",
       "      <th>0</th>\n",
       "      <td>rouge-1</td>\n",
       "      <td>f</td>\n",
       "      <td>0.105305</td>\n",
       "    </tr>\n",
       "    <tr>\n",
       "      <th>1</th>\n",
       "      <td>rouge-1</td>\n",
       "      <td>p</td>\n",
       "      <td>0.067818</td>\n",
       "    </tr>\n",
       "    <tr>\n",
       "      <th>2</th>\n",
       "      <td>rouge-1</td>\n",
       "      <td>r</td>\n",
       "      <td>0.361353</td>\n",
       "    </tr>\n",
       "    <tr>\n",
       "      <th>3</th>\n",
       "      <td>rouge-2</td>\n",
       "      <td>f</td>\n",
       "      <td>0.021309</td>\n",
       "    </tr>\n",
       "    <tr>\n",
       "      <th>4</th>\n",
       "      <td>rouge-2</td>\n",
       "      <td>p</td>\n",
       "      <td>0.013826</td>\n",
       "    </tr>\n",
       "    <tr>\n",
       "      <th>5</th>\n",
       "      <td>rouge-2</td>\n",
       "      <td>r</td>\n",
       "      <td>0.073771</td>\n",
       "    </tr>\n",
       "    <tr>\n",
       "      <th>6</th>\n",
       "      <td>rouge-l</td>\n",
       "      <td>f</td>\n",
       "      <td>0.218348</td>\n",
       "    </tr>\n",
       "    <tr>\n",
       "      <th>7</th>\n",
       "      <td>rouge-l</td>\n",
       "      <td>p</td>\n",
       "      <td>0.228750</td>\n",
       "    </tr>\n",
       "    <tr>\n",
       "      <th>8</th>\n",
       "      <td>rouge-l</td>\n",
       "      <td>r</td>\n",
       "      <td>0.232812</td>\n",
       "    </tr>\n",
       "  </tbody>\n",
       "</table>\n",
       "</div>"
      ],
      "text/plain": [
       "    metric metric_type     value\n",
       "0  rouge-1           f  0.105305\n",
       "1  rouge-1           p  0.067818\n",
       "2  rouge-1           r  0.361353\n",
       "3  rouge-2           f  0.021309\n",
       "4  rouge-2           p  0.013826\n",
       "5  rouge-2           r  0.073771\n",
       "6  rouge-l           f  0.218348\n",
       "7  rouge-l           p  0.228750\n",
       "8  rouge-l           r  0.232812"
      ]
     },
     "execution_count": 27,
     "metadata": {},
     "output_type": "execute_result"
    }
   ],
   "source": [
    "pd_bound"
   ]
  }
 ],
 "metadata": {
  "kernelspec": {
   "display_name": "Python 3",
   "language": "python",
   "name": "python3"
  },
  "language_info": {
   "codemirror_mode": {
    "name": "ipython",
    "version": 3
   },
   "file_extension": ".py",
   "mimetype": "text/x-python",
   "name": "python",
   "nbconvert_exporter": "python",
   "pygments_lexer": "ipython3",
   "version": "3.7.7"
  }
 },
 "nbformat": 4,
 "nbformat_minor": 4
}
