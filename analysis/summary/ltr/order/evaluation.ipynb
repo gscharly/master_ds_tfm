{
 "cells": [
  {
   "cell_type": "code",
   "execution_count": 1,
   "metadata": {},
   "outputs": [],
   "source": [
    "MAIN_PATH = \"/home/carlos/MasterDS/tfm\"\n",
    "JSON_DATA_PATH = '{}/data/json/'.format(MAIN_PATH)\n",
    "CSV_DATA_PATH = '{}/data/csv/'.format(MAIN_PATH)"
   ]
  },
  {
   "cell_type": "code",
   "execution_count": 2,
   "metadata": {},
   "outputs": [],
   "source": [
    "import sys\n",
    "sys.path.insert(0, MAIN_PATH)"
   ]
  },
  {
   "cell_type": "code",
   "execution_count": 3,
   "metadata": {},
   "outputs": [],
   "source": [
    "%load_ext autoreload\n",
    "%autoreload 2\n",
    "from scripts.metrics.summary_evaluation import SummaryEvaluation\n",
    "from scripts.models.rank_with_model.rank_with_model import RankModel\n",
    "from scripts.models.baseline_rank.baseline_rank import BaselineRank\n",
    "from scripts.models.ltr.train import LTRTrain\n",
    "from scripts.extractive_summary.ltr.ltr_features_targets import LTRFeaturesTargets\n",
    "from scripts.models.ltr_gbt.train import LTRGBTTrain\n",
    "from scripts.models.ltr_svm_tf.train import LTRSVMTFTrain\n",
    "from scripts import conf\n",
    "%reload_ext autoreload"
   ]
  },
  {
   "cell_type": "code",
   "execution_count": 4,
   "metadata": {},
   "outputs": [],
   "source": [
    "import pandas as pd"
   ]
  },
  {
   "cell_type": "markdown",
   "metadata": {},
   "source": [
    "# Evaluación"
   ]
  },
  {
   "cell_type": "markdown",
   "metadata": {},
   "source": [
    "Se usará el mismo desarrollo que se utilizó cuando se calcularon las métricas de los resúmenes generados por eventos clave y por grafos\n",
    "conceptuales"
   ]
  },
  {
   "cell_type": "markdown",
   "metadata": {},
   "source": [
    "# Baseline"
   ]
  },
  {
   "cell_type": "markdown",
   "metadata": {},
   "source": [
    "## Carga de datos"
   ]
  },
  {
   "cell_type": "code",
   "execution_count": 17,
   "metadata": {},
   "outputs": [],
   "source": [
    "key_events = ['goal', 'red_card', 'penalty']\n",
    "lags = [1, 3, 5]\n",
    "target_metric = 'rouge'\n",
    "drop_teams = True\n",
    "lemma = True\n",
    "metric_params = {'rouge_mode': 'rouge-1', 'rouge_metric': 'r'}\n",
    "count_vec_kwargs = {'ngram_range': (1, 2), 'strip_accents': 'unicode'}"
   ]
  },
  {
   "cell_type": "code",
   "execution_count": 18,
   "metadata": {},
   "outputs": [
    {
     "name": "stdout",
     "output_type": "stream",
     "text": [
      "Setting target metric to rouge\n"
     ]
    }
   ],
   "source": [
    "ltr = LTRFeaturesTargets(target_metric=target_metric, \n",
    "                        key_events=key_events,\n",
    "                        lags=lags,\n",
    "                        metric_params=metric_params,\n",
    "                        count_vec_kwargs=count_vec_kwargs,\n",
    "                        drop_teams=drop_teams,\n",
    "                        lemma=lemma)"
   ]
  },
  {
   "cell_type": "code",
   "execution_count": 19,
   "metadata": {},
   "outputs": [
    {
     "name": "stdout",
     "output_type": "stream",
     "text": [
      "Received LTR Features targets. Training and scoring are not necessary\n"
     ]
    }
   ],
   "source": [
    "rank = BaselineRank(ltr=ltr, n=10)"
   ]
  },
  {
   "cell_type": "code",
   "execution_count": 20,
   "metadata": {},
   "outputs": [
    {
     "name": "stdout",
     "output_type": "stream",
     "text": [
      "Ranking events using row_number approach...\n",
      "Saving to /home/carlos/MasterDS/tfm/models/baseline_rank/60099ac54d/summaries.csv\n"
     ]
    }
   ],
   "source": [
    "rank.run()"
   ]
  },
  {
   "cell_type": "code",
   "execution_count": 29,
   "metadata": {},
   "outputs": [
    {
     "name": "stdout",
     "output_type": "stream",
     "text": [
      "Reading ranked summaries from /home/carlos/MasterDS/tfm/models/baseline_rank/60099ac54d/summaries.csv\n"
     ]
    }
   ],
   "source": [
    "pd_summaries = rank.read_summaries()"
   ]
  },
  {
   "cell_type": "code",
   "execution_count": 23,
   "metadata": {},
   "outputs": [],
   "source": [
    "articles_path = '{}articles_events.csv'.format(CSV_DATA_PATH)"
   ]
  },
  {
   "cell_type": "code",
   "execution_count": 26,
   "metadata": {},
   "outputs": [],
   "source": [
    "pd_matches = pd.read_csv(articles_path)"
   ]
  },
  {
   "cell_type": "code",
   "execution_count": 34,
   "metadata": {},
   "outputs": [],
   "source": [
    "join_cols = ['url']\n",
    "match_cols = join_cols + ['json_file', 'article', 'events']\n",
    "sum_cols = join_cols + ['summary_events']"
   ]
  },
  {
   "cell_type": "code",
   "execution_count": 35,
   "metadata": {},
   "outputs": [],
   "source": [
    "pd_matches_sum = pd_matches[match_cols].merge(pd_summaries[sum_cols], on=join_cols, how='inner')"
   ]
  },
  {
   "cell_type": "code",
   "execution_count": 36,
   "metadata": {
    "collapsed": true,
    "jupyter": {
     "outputs_hidden": true
    }
   },
   "outputs": [
    {
     "data": {
      "text/html": [
       "<div>\n",
       "<style scoped>\n",
       "    .dataframe tbody tr th:only-of-type {\n",
       "        vertical-align: middle;\n",
       "    }\n",
       "\n",
       "    .dataframe tbody tr th {\n",
       "        vertical-align: top;\n",
       "    }\n",
       "\n",
       "    .dataframe thead th {\n",
       "        text-align: right;\n",
       "    }\n",
       "</style>\n",
       "<table border=\"1\" class=\"dataframe\">\n",
       "  <thead>\n",
       "    <tr style=\"text-align: right;\">\n",
       "      <th></th>\n",
       "      <th>url</th>\n",
       "      <th>json_file</th>\n",
       "      <th>article</th>\n",
       "      <th>events</th>\n",
       "      <th>summary_events</th>\n",
       "    </tr>\n",
       "  </thead>\n",
       "  <tbody>\n",
       "    <tr>\n",
       "      <th>0</th>\n",
       "      <td>http://www.premierleague.com/match/38678</td>\n",
       "      <td>premier_league_2018_2019.json</td>\n",
       "      <td>A goal and an assist from Riyad Mahrez sealed ...</td>\n",
       "      <td>Attempt blocked. Ilkay Gündogan (Manchester Ci...</td>\n",
       "      <td>Attempt saved. Riyad Mahrez (Manchester City) ...</td>\n",
       "    </tr>\n",
       "    <tr>\n",
       "      <th>1</th>\n",
       "      <td>http://www.premierleague.com/match/38679</td>\n",
       "      <td>premier_league_2018_2019.json</td>\n",
       "      <td>A second-half double by Pierre-Emerick Aubamey...</td>\n",
       "      <td>Hand ball by Tom Heaton (Burnley). Yellow Card...</td>\n",
       "      <td>Pierre-Emerick Aubameyang (Arsenal) hits the r...</td>\n",
       "    </tr>\n",
       "    <tr>\n",
       "      <th>2</th>\n",
       "      <td>http://www.premierleague.com/match/38680</td>\n",
       "      <td>premier_league_2018_2019.json</td>\n",
       "      <td>Michy Batshuayi's brace helped Crystal Palace ...</td>\n",
       "      <td>Andros Townsend (Crystal Palace) wins a free k...</td>\n",
       "      <td>Andros Townsend (Crystal Palace) wins a free k...</td>\n",
       "    </tr>\n",
       "    <tr>\n",
       "      <th>3</th>\n",
       "      <td>http://www.premierleague.com/match/38681</td>\n",
       "      <td>premier_league_2018_2019.json</td>\n",
       "      <td>Fulham were overpowered by an impressive Newca...</td>\n",
       "      <td>Attempt missed. Jonjo Shelvey (Newcastle Unite...</td>\n",
       "      <td>Attempt missed. Jonjo Shelvey (Newcastle Unite...</td>\n",
       "    </tr>\n",
       "    <tr>\n",
       "      <th>4</th>\n",
       "      <td>http://www.premierleague.com/match/38682</td>\n",
       "      <td>premier_league_2018_2019.json</td>\n",
       "      <td>Chelsea confirmed a third-place finish after a...</td>\n",
       "      <td>Foul by Jorginho (Chelsea). Jamie Vardy (Leice...</td>\n",
       "      <td>Jamie Vardy (Leicester City) wins a free kick ...</td>\n",
       "    </tr>\n",
       "    <tr>\n",
       "      <th>...</th>\n",
       "      <td>...</td>\n",
       "      <td>...</td>\n",
       "      <td>...</td>\n",
       "      <td>...</td>\n",
       "      <td>...</td>\n",
       "    </tr>\n",
       "    <tr>\n",
       "      <th>4518</th>\n",
       "      <td>https://www.espn.com/soccer/report?gameId=522712</td>\n",
       "      <td>italian_serie_a_2018_2019.json</td>\n",
       "      <td>Inter Milan notched their seventh successive S...</td>\n",
       "      <td>Corner,  Inter Milan. Conceded by Cristian Rom...</td>\n",
       "      <td>Attempt missed. Ivan Perisic (Inter Milan) rig...</td>\n",
       "    </tr>\n",
       "    <tr>\n",
       "      <th>4519</th>\n",
       "      <td>https://www.espn.com/soccer/report?gameId=522672</td>\n",
       "      <td>italian_serie_a_2018_2019.json</td>\n",
       "      <td>Two goals from Arkadiusz Milik helped Napoli m...</td>\n",
       "      <td>Offside, Napoli. Elseid Hysaj tries a through ...</td>\n",
       "      <td>Goal!  Napoli 1, Frosinone 0. Piotr Zielinski ...</td>\n",
       "    </tr>\n",
       "    <tr>\n",
       "      <th>4520</th>\n",
       "      <td>https://www.espn.com/soccer/report?gameId=522701</td>\n",
       "      <td>italian_serie_a_2018_2019.json</td>\n",
       "      <td>Inter Milan's run of seven successive league w...</td>\n",
       "      <td>Attempt blocked. Hans Hateboer (Atalanta) head...</td>\n",
       "      <td>Corner,  Atalanta. Conceded by Samir Handanovi...</td>\n",
       "    </tr>\n",
       "    <tr>\n",
       "      <th>4521</th>\n",
       "      <td>https://www.espn.com/soccer/report?gameId=522667</td>\n",
       "      <td>italian_serie_a_2018_2019.json</td>\n",
       "      <td>Inter Milan rebounded from the disappointment ...</td>\n",
       "      <td>Corner,  Inter Milan. Conceded by Bram Nuytinc...</td>\n",
       "      <td>Marco D'Alessandro (Udinese) wins a free kick ...</td>\n",
       "    </tr>\n",
       "    <tr>\n",
       "      <th>4522</th>\n",
       "      <td>https://www.espn.com/soccer/report?gameId=522804</td>\n",
       "      <td>italian_serie_a_2018_2019.json</td>\n",
       "      <td>Inter Milan, touted as one of the Serie A titl...</td>\n",
       "      <td>Foul by Tomás Rincón (Torino). Sime Vrsaljko (...</td>\n",
       "      <td>Goal!  Inter Milan 1, Torino 0. Ivan Perisic (...</td>\n",
       "    </tr>\n",
       "  </tbody>\n",
       "</table>\n",
       "<p>4523 rows × 5 columns</p>\n",
       "</div>"
      ],
      "text/plain": [
       "                                                   url  ...                                     summary_events\n",
       "0             http://www.premierleague.com/match/38678  ...  Attempt saved. Riyad Mahrez (Manchester City) ...\n",
       "1             http://www.premierleague.com/match/38679  ...  Pierre-Emerick Aubameyang (Arsenal) hits the r...\n",
       "2             http://www.premierleague.com/match/38680  ...  Andros Townsend (Crystal Palace) wins a free k...\n",
       "3             http://www.premierleague.com/match/38681  ...  Attempt missed. Jonjo Shelvey (Newcastle Unite...\n",
       "4             http://www.premierleague.com/match/38682  ...  Jamie Vardy (Leicester City) wins a free kick ...\n",
       "...                                                ...  ...                                                ...\n",
       "4518  https://www.espn.com/soccer/report?gameId=522712  ...  Attempt missed. Ivan Perisic (Inter Milan) rig...\n",
       "4519  https://www.espn.com/soccer/report?gameId=522672  ...  Goal!  Napoli 1, Frosinone 0. Piotr Zielinski ...\n",
       "4520  https://www.espn.com/soccer/report?gameId=522701  ...  Corner,  Atalanta. Conceded by Samir Handanovi...\n",
       "4521  https://www.espn.com/soccer/report?gameId=522667  ...  Marco D'Alessandro (Udinese) wins a free kick ...\n",
       "4522  https://www.espn.com/soccer/report?gameId=522804  ...  Goal!  Inter Milan 1, Torino 0. Ivan Perisic (...\n",
       "\n",
       "[4523 rows x 5 columns]"
      ]
     },
     "execution_count": 36,
     "metadata": {},
     "output_type": "execute_result"
    }
   ],
   "source": [
    "pd_matches_sum"
   ]
  },
  {
   "cell_type": "markdown",
   "metadata": {},
   "source": [
    "## Evaluación"
   ]
  },
  {
   "cell_type": "code",
   "execution_count": 37,
   "metadata": {},
   "outputs": [
    {
     "name": "stdout",
     "output_type": "stream",
     "text": [
      "Setting target metric to rouge\n"
     ]
    }
   ],
   "source": [
    "evaluation = SummaryEvaluation(metric='rouge')"
   ]
  },
  {
   "cell_type": "markdown",
   "metadata": {},
   "source": [
    "### Sin procesar"
   ]
  },
  {
   "cell_type": "code",
   "execution_count": 38,
   "metadata": {},
   "outputs": [],
   "source": [
    "file_name = 'baseline_rank'"
   ]
  },
  {
   "cell_type": "code",
   "execution_count": 44,
   "metadata": {},
   "outputs": [],
   "source": [
    "path = '{}/summaries/rouge/{}'.format(conf.METRICS_PATH, file_name)"
   ]
  },
  {
   "cell_type": "code",
   "execution_count": 47,
   "metadata": {},
   "outputs": [
    {
     "name": "stdout",
     "output_type": "stream",
     "text": [
      "Performing evaluation for 4523 articles\n",
      "Writing to /home/carlos/MasterDS/tfm/data/metrics/summaries/rouge/baseline_rank.pickle\n",
      "Writing avg to /home/carlos/MasterDS/tfm/data/metrics/summaries/rouge/baseline_rank_avg.pickle\n"
     ]
    }
   ],
   "source": [
    "scores_dict, avg_scores_dict = evaluation.evaluate(pd_matches_sum, path,\n",
    "                                                   preprocess_text=False)"
   ]
  },
  {
   "cell_type": "code",
   "execution_count": 48,
   "metadata": {},
   "outputs": [
    {
     "data": {
      "text/plain": [
       "{'rouge-1': {'f': 0.2174203202733838,\n",
       "  'p': 0.2446300614718203,\n",
       "  'r': 0.2258641620482864},\n",
       " 'rouge-2': {'f': 0.046197910241048024,\n",
       "  'p': 0.05345303695536832,\n",
       "  'r': 0.047444265068684204},\n",
       " 'rouge-l': {'f': 0.2009559760580376,\n",
       "  'p': 0.3273697532121361,\n",
       "  'r': 0.1551321076144749}}"
      ]
     },
     "execution_count": 48,
     "metadata": {},
     "output_type": "execute_result"
    }
   ],
   "source": [
    "avg_scores_dict"
   ]
  },
  {
   "cell_type": "markdown",
   "metadata": {},
   "source": [
    "### Con procesado"
   ]
  },
  {
   "cell_type": "code",
   "execution_count": 49,
   "metadata": {},
   "outputs": [],
   "source": [
    "file_name = 'baseline_rank_processed'"
   ]
  },
  {
   "cell_type": "code",
   "execution_count": 50,
   "metadata": {},
   "outputs": [],
   "source": [
    "path = '{}/summaries/rouge/{}'.format(conf.METRICS_PATH, file_name)"
   ]
  },
  {
   "cell_type": "code",
   "execution_count": 53,
   "metadata": {},
   "outputs": [
    {
     "name": "stdout",
     "output_type": "stream",
     "text": [
      "Performing evaluation for 4523 articles\n",
      "Writing to /home/carlos/MasterDS/tfm/data/metrics/summaries/rouge/baseline_rank_processed.pickle\n",
      "Writing avg to /home/carlos/MasterDS/tfm/data/metrics/summaries/rouge/baseline_rank_processed_avg.pickle\n"
     ]
    }
   ],
   "source": [
    "scores_dict, avg_scores_dict = evaluation.evaluate(pd_matches_sum, path,\n",
    "                                                   preprocess_text=True)"
   ]
  },
  {
   "cell_type": "code",
   "execution_count": 54,
   "metadata": {},
   "outputs": [
    {
     "data": {
      "text/plain": [
       "{'rouge-1': {'f': 0.21470774269529114,\n",
       "  'p': 0.22181043816460994,\n",
       "  'r': 0.24382593800687752},\n",
       " 'rouge-2': {'f': 0.06066140105765257,\n",
       "  'p': 0.06151992918019337,\n",
       "  'r': 0.07034246895093633},\n",
       " 'rouge-l': {'f': 0.260602313959701,\n",
       "  'p': 0.3969169606060778,\n",
       "  'r': 0.20847736563413624}}"
      ]
     },
     "execution_count": 54,
     "metadata": {},
     "output_type": "execute_result"
    }
   ],
   "source": [
    "avg_scores_dict"
   ]
  },
  {
   "cell_type": "markdown",
   "metadata": {},
   "source": [
    "# Random forest"
   ]
  },
  {
   "cell_type": "markdown",
   "metadata": {},
   "source": [
    "## Carga de datos"
   ]
  },
  {
   "cell_type": "code",
   "execution_count": 55,
   "metadata": {},
   "outputs": [],
   "source": [
    "ltr_params = {\n",
    "    'key_events': ['goal', 'red_card', 'penalty'],\n",
    "    'lags': [1, 3, 5],\n",
    "    'target_metric': 'rouge',\n",
    "    'drop_teams': True,\n",
    "    'lemma': True,\n",
    "    'metric_params': {'rouge_mode': 'rouge-1', 'rouge_metric': 'r'},\n",
    "    'count_vec_kwargs': {'ngram_range': (1, 2), 'strip_accents': 'unicode'}\n",
    "}\n",
    "cat_features_dict = {'is_key_event': [0, 1]}\n",
    "num_features = ['tfidf_sum']\n",
    "model_params = {\n",
    "    'n_estimators': 100,\n",
    "    'max_depth': 2,\n",
    "    'bootstrap': True,  \n",
    "}"
   ]
  },
  {
   "cell_type": "code",
   "execution_count": 56,
   "metadata": {},
   "outputs": [
    {
     "name": "stdout",
     "output_type": "stream",
     "text": [
      "Setting target metric to rouge\n"
     ]
    }
   ],
   "source": [
    "ltr_train = LTRTrain(cat_features_dict=cat_features_dict, num_features=num_features,\n",
    "                     model_params=model_params, ltr_params=ltr_params)"
   ]
  },
  {
   "cell_type": "code",
   "execution_count": 57,
   "metadata": {},
   "outputs": [
    {
     "name": "stdout",
     "output_type": "stream",
     "text": [
      "Model already trained\n"
     ]
    }
   ],
   "source": [
    "rank_model = RankModel(ltr_train, n=10)"
   ]
  },
  {
   "cell_type": "code",
   "execution_count": 60,
   "metadata": {},
   "outputs": [
    {
     "data": {
      "text/plain": [
       "'/home/carlos/MasterDS/tfm/models/rank_with_model/9ef9119130'"
      ]
     },
     "execution_count": 60,
     "metadata": {},
     "output_type": "execute_result"
    }
   ],
   "source": [
    "rank_model.path"
   ]
  },
  {
   "cell_type": "code",
   "execution_count": 58,
   "metadata": {},
   "outputs": [
    {
     "name": "stdout",
     "output_type": "stream",
     "text": [
      "Categorizing n_players...\n",
      "Computing new length...\n",
      "Dropping {'n_players_cat', 'score', 'sentence_ix', 'event_ix', 'sim_previous_3', 'sim_previous_1', 'advantage', 'url', 'length', 'equalize', 'players_importance', 'total_length', 'sim_previous_5', 'json_file', 'n_stop', 'n_players', 'position'}\n",
      "Ranking events using row_number approach...\n",
      "Saving to /home/carlos/MasterDS/tfm/models/rank_with_model/9ef9119130/summaries.csv\n"
     ]
    }
   ],
   "source": [
    "rank_model.run()"
   ]
  },
  {
   "cell_type": "code",
   "execution_count": 61,
   "metadata": {},
   "outputs": [
    {
     "name": "stdout",
     "output_type": "stream",
     "text": [
      "Reading ranked summaries from /home/carlos/MasterDS/tfm/models/rank_with_model/9ef9119130/summaries.csv\n"
     ]
    }
   ],
   "source": [
    "pd_summaries = rank_model.read_summaries()"
   ]
  },
  {
   "cell_type": "code",
   "execution_count": 62,
   "metadata": {},
   "outputs": [],
   "source": [
    "articles_path = '{}articles_events.csv'.format(CSV_DATA_PATH)"
   ]
  },
  {
   "cell_type": "code",
   "execution_count": 63,
   "metadata": {},
   "outputs": [],
   "source": [
    "pd_matches = pd.read_csv(articles_path)"
   ]
  },
  {
   "cell_type": "code",
   "execution_count": 64,
   "metadata": {},
   "outputs": [],
   "source": [
    "join_cols = ['url']\n",
    "match_cols = join_cols + ['json_file', 'article', 'events']\n",
    "sum_cols = join_cols + ['summary_events']"
   ]
  },
  {
   "cell_type": "code",
   "execution_count": 65,
   "metadata": {},
   "outputs": [],
   "source": [
    "pd_matches_sum = pd_matches[match_cols].merge(pd_summaries[sum_cols], on=join_cols, how='inner')"
   ]
  },
  {
   "cell_type": "code",
   "execution_count": 36,
   "metadata": {
    "collapsed": true,
    "jupyter": {
     "outputs_hidden": true
    }
   },
   "outputs": [
    {
     "data": {
      "text/html": [
       "<div>\n",
       "<style scoped>\n",
       "    .dataframe tbody tr th:only-of-type {\n",
       "        vertical-align: middle;\n",
       "    }\n",
       "\n",
       "    .dataframe tbody tr th {\n",
       "        vertical-align: top;\n",
       "    }\n",
       "\n",
       "    .dataframe thead th {\n",
       "        text-align: right;\n",
       "    }\n",
       "</style>\n",
       "<table border=\"1\" class=\"dataframe\">\n",
       "  <thead>\n",
       "    <tr style=\"text-align: right;\">\n",
       "      <th></th>\n",
       "      <th>url</th>\n",
       "      <th>json_file</th>\n",
       "      <th>article</th>\n",
       "      <th>events</th>\n",
       "      <th>summary_events</th>\n",
       "    </tr>\n",
       "  </thead>\n",
       "  <tbody>\n",
       "    <tr>\n",
       "      <th>0</th>\n",
       "      <td>http://www.premierleague.com/match/38678</td>\n",
       "      <td>premier_league_2018_2019.json</td>\n",
       "      <td>A goal and an assist from Riyad Mahrez sealed ...</td>\n",
       "      <td>Attempt blocked. Ilkay Gündogan (Manchester Ci...</td>\n",
       "      <td>Attempt saved. Riyad Mahrez (Manchester City) ...</td>\n",
       "    </tr>\n",
       "    <tr>\n",
       "      <th>1</th>\n",
       "      <td>http://www.premierleague.com/match/38679</td>\n",
       "      <td>premier_league_2018_2019.json</td>\n",
       "      <td>A second-half double by Pierre-Emerick Aubamey...</td>\n",
       "      <td>Hand ball by Tom Heaton (Burnley). Yellow Card...</td>\n",
       "      <td>Pierre-Emerick Aubameyang (Arsenal) hits the r...</td>\n",
       "    </tr>\n",
       "    <tr>\n",
       "      <th>2</th>\n",
       "      <td>http://www.premierleague.com/match/38680</td>\n",
       "      <td>premier_league_2018_2019.json</td>\n",
       "      <td>Michy Batshuayi's brace helped Crystal Palace ...</td>\n",
       "      <td>Andros Townsend (Crystal Palace) wins a free k...</td>\n",
       "      <td>Andros Townsend (Crystal Palace) wins a free k...</td>\n",
       "    </tr>\n",
       "    <tr>\n",
       "      <th>3</th>\n",
       "      <td>http://www.premierleague.com/match/38681</td>\n",
       "      <td>premier_league_2018_2019.json</td>\n",
       "      <td>Fulham were overpowered by an impressive Newca...</td>\n",
       "      <td>Attempt missed. Jonjo Shelvey (Newcastle Unite...</td>\n",
       "      <td>Attempt missed. Jonjo Shelvey (Newcastle Unite...</td>\n",
       "    </tr>\n",
       "    <tr>\n",
       "      <th>4</th>\n",
       "      <td>http://www.premierleague.com/match/38682</td>\n",
       "      <td>premier_league_2018_2019.json</td>\n",
       "      <td>Chelsea confirmed a third-place finish after a...</td>\n",
       "      <td>Foul by Jorginho (Chelsea). Jamie Vardy (Leice...</td>\n",
       "      <td>Jamie Vardy (Leicester City) wins a free kick ...</td>\n",
       "    </tr>\n",
       "    <tr>\n",
       "      <th>...</th>\n",
       "      <td>...</td>\n",
       "      <td>...</td>\n",
       "      <td>...</td>\n",
       "      <td>...</td>\n",
       "      <td>...</td>\n",
       "    </tr>\n",
       "    <tr>\n",
       "      <th>4518</th>\n",
       "      <td>https://www.espn.com/soccer/report?gameId=522712</td>\n",
       "      <td>italian_serie_a_2018_2019.json</td>\n",
       "      <td>Inter Milan notched their seventh successive S...</td>\n",
       "      <td>Corner,  Inter Milan. Conceded by Cristian Rom...</td>\n",
       "      <td>Attempt missed. Ivan Perisic (Inter Milan) rig...</td>\n",
       "    </tr>\n",
       "    <tr>\n",
       "      <th>4519</th>\n",
       "      <td>https://www.espn.com/soccer/report?gameId=522672</td>\n",
       "      <td>italian_serie_a_2018_2019.json</td>\n",
       "      <td>Two goals from Arkadiusz Milik helped Napoli m...</td>\n",
       "      <td>Offside, Napoli. Elseid Hysaj tries a through ...</td>\n",
       "      <td>Goal!  Napoli 1, Frosinone 0. Piotr Zielinski ...</td>\n",
       "    </tr>\n",
       "    <tr>\n",
       "      <th>4520</th>\n",
       "      <td>https://www.espn.com/soccer/report?gameId=522701</td>\n",
       "      <td>italian_serie_a_2018_2019.json</td>\n",
       "      <td>Inter Milan's run of seven successive league w...</td>\n",
       "      <td>Attempt blocked. Hans Hateboer (Atalanta) head...</td>\n",
       "      <td>Corner,  Atalanta. Conceded by Samir Handanovi...</td>\n",
       "    </tr>\n",
       "    <tr>\n",
       "      <th>4521</th>\n",
       "      <td>https://www.espn.com/soccer/report?gameId=522667</td>\n",
       "      <td>italian_serie_a_2018_2019.json</td>\n",
       "      <td>Inter Milan rebounded from the disappointment ...</td>\n",
       "      <td>Corner,  Inter Milan. Conceded by Bram Nuytinc...</td>\n",
       "      <td>Marco D'Alessandro (Udinese) wins a free kick ...</td>\n",
       "    </tr>\n",
       "    <tr>\n",
       "      <th>4522</th>\n",
       "      <td>https://www.espn.com/soccer/report?gameId=522804</td>\n",
       "      <td>italian_serie_a_2018_2019.json</td>\n",
       "      <td>Inter Milan, touted as one of the Serie A titl...</td>\n",
       "      <td>Foul by Tomás Rincón (Torino). Sime Vrsaljko (...</td>\n",
       "      <td>Goal!  Inter Milan 1, Torino 0. Ivan Perisic (...</td>\n",
       "    </tr>\n",
       "  </tbody>\n",
       "</table>\n",
       "<p>4523 rows × 5 columns</p>\n",
       "</div>"
      ],
      "text/plain": [
       "                                                   url  ...                                     summary_events\n",
       "0             http://www.premierleague.com/match/38678  ...  Attempt saved. Riyad Mahrez (Manchester City) ...\n",
       "1             http://www.premierleague.com/match/38679  ...  Pierre-Emerick Aubameyang (Arsenal) hits the r...\n",
       "2             http://www.premierleague.com/match/38680  ...  Andros Townsend (Crystal Palace) wins a free k...\n",
       "3             http://www.premierleague.com/match/38681  ...  Attempt missed. Jonjo Shelvey (Newcastle Unite...\n",
       "4             http://www.premierleague.com/match/38682  ...  Jamie Vardy (Leicester City) wins a free kick ...\n",
       "...                                                ...  ...                                                ...\n",
       "4518  https://www.espn.com/soccer/report?gameId=522712  ...  Attempt missed. Ivan Perisic (Inter Milan) rig...\n",
       "4519  https://www.espn.com/soccer/report?gameId=522672  ...  Goal!  Napoli 1, Frosinone 0. Piotr Zielinski ...\n",
       "4520  https://www.espn.com/soccer/report?gameId=522701  ...  Corner,  Atalanta. Conceded by Samir Handanovi...\n",
       "4521  https://www.espn.com/soccer/report?gameId=522667  ...  Marco D'Alessandro (Udinese) wins a free kick ...\n",
       "4522  https://www.espn.com/soccer/report?gameId=522804  ...  Goal!  Inter Milan 1, Torino 0. Ivan Perisic (...\n",
       "\n",
       "[4523 rows x 5 columns]"
      ]
     },
     "execution_count": 36,
     "metadata": {},
     "output_type": "execute_result"
    }
   ],
   "source": [
    "pd_matches_sum"
   ]
  },
  {
   "cell_type": "markdown",
   "metadata": {},
   "source": [
    "## Evaluación"
   ]
  },
  {
   "cell_type": "code",
   "execution_count": 66,
   "metadata": {},
   "outputs": [
    {
     "name": "stdout",
     "output_type": "stream",
     "text": [
      "Setting target metric to rouge\n"
     ]
    }
   ],
   "source": [
    "evaluation = SummaryEvaluation(metric='rouge')"
   ]
  },
  {
   "cell_type": "markdown",
   "metadata": {},
   "source": [
    "### Sin procesar"
   ]
  },
  {
   "cell_type": "code",
   "execution_count": 67,
   "metadata": {},
   "outputs": [],
   "source": [
    "file_name = 'model_rank'"
   ]
  },
  {
   "cell_type": "code",
   "execution_count": 68,
   "metadata": {},
   "outputs": [],
   "source": [
    "path = '{}/summaries/rouge/{}'.format(conf.METRICS_PATH, file_name)"
   ]
  },
  {
   "cell_type": "code",
   "execution_count": 69,
   "metadata": {},
   "outputs": [
    {
     "name": "stdout",
     "output_type": "stream",
     "text": [
      "Performing evaluation for 4523 articles\n",
      "Writing to /home/carlos/MasterDS/tfm/data/metrics/summaries/rouge/model_rank.pickle\n",
      "Writing avg to /home/carlos/MasterDS/tfm/data/metrics/summaries/rouge/model_rank_avg.pickle\n"
     ]
    }
   ],
   "source": [
    "scores_dict, avg_scores_dict = evaluation.evaluate(pd_matches_sum, path,\n",
    "                                                   preprocess_text=False)"
   ]
  },
  {
   "cell_type": "code",
   "execution_count": 70,
   "metadata": {},
   "outputs": [
    {
     "data": {
      "text/plain": [
       "{'rouge-1': {'f': 0.21306391260010107,\n",
       "  'p': 0.25013632311062145,\n",
       "  'r': 0.21894997408278233},\n",
       " 'rouge-2': {'f': 0.045199932512915535,\n",
       "  'p': 0.055650475088027035,\n",
       "  'r': 0.04549660749418747},\n",
       " 'rouge-l': {'f': 0.19461853429268558,\n",
       "  'p': 0.30136037138338223,\n",
       "  'r': 0.15482676105185525}}"
      ]
     },
     "execution_count": 70,
     "metadata": {},
     "output_type": "execute_result"
    }
   ],
   "source": [
    "avg_scores_dict"
   ]
  },
  {
   "cell_type": "markdown",
   "metadata": {},
   "source": [
    "### Con procesado"
   ]
  },
  {
   "cell_type": "code",
   "execution_count": 71,
   "metadata": {},
   "outputs": [],
   "source": [
    "file_name = 'model_rank_processed'"
   ]
  },
  {
   "cell_type": "code",
   "execution_count": 72,
   "metadata": {},
   "outputs": [],
   "source": [
    "path = '{}/summaries/rouge/{}'.format(conf.METRICS_PATH, file_name)"
   ]
  },
  {
   "cell_type": "code",
   "execution_count": 73,
   "metadata": {},
   "outputs": [
    {
     "name": "stdout",
     "output_type": "stream",
     "text": [
      "Performing evaluation for 4523 articles\n",
      "Writing to /home/carlos/MasterDS/tfm/data/metrics/summaries/rouge/model_rank_processed.pickle\n",
      "Writing avg to /home/carlos/MasterDS/tfm/data/metrics/summaries/rouge/model_rank_processed_avg.pickle\n"
     ]
    }
   ],
   "source": [
    "scores_dict, avg_scores_dict = evaluation.evaluate(pd_matches_sum, path,\n",
    "                                                   preprocess_text=True)"
   ]
  },
  {
   "cell_type": "code",
   "execution_count": 74,
   "metadata": {},
   "outputs": [
    {
     "data": {
      "text/plain": [
       "{'rouge-1': {'f': 0.2196694167343189,\n",
       "  'p': 0.2424924246842111,\n",
       "  'r': 0.24196781091666808},\n",
       " 'rouge-2': {'f': 0.06244400032110038,\n",
       "  'p': 0.06835160223319205,\n",
       "  'r': 0.06964941411290702},\n",
       " 'rouge-l': {'f': 0.2521179955746187,\n",
       "  'p': 0.36621056801850377,\n",
       "  'r': 0.20886141399570488}}"
      ]
     },
     "execution_count": 74,
     "metadata": {},
     "output_type": "execute_result"
    }
   ],
   "source": [
    "avg_scores_dict"
   ]
  },
  {
   "cell_type": "markdown",
   "metadata": {},
   "source": [
    "# GBT"
   ]
  },
  {
   "cell_type": "markdown",
   "metadata": {},
   "source": [
    "## Carga de datos"
   ]
  },
  {
   "cell_type": "code",
   "execution_count": 99,
   "metadata": {},
   "outputs": [],
   "source": [
    "ltr_params = {\n",
    "    'key_events': ['goal', 'red_card', 'penalty'],\n",
    "    'lags': [1, 3, 5],\n",
    "    'target_metric': 'rouge',\n",
    "    'drop_teams': True,\n",
    "    'lemma': True,\n",
    "    'metric_params': {'rouge_mode': 'rouge-1', 'rouge_metric': 'r'},\n",
    "    'count_vec_kwargs': {'ngram_range': (1, 2), 'strip_accents': 'unicode'}\n",
    "}\n",
    "cat_features_dict = {'is_key_event': [0, 1]}\n",
    "num_features = ['tfidf_sum']\n",
    "model_params = {\n",
    "    'min_samples_leaf': [50],\n",
    "    'subsample': [0.8],  \n",
    "    'learning_rate': [0.1],\n",
    "    'n_estimators': [80],\n",
    "    'max_depth': range(5,16,4),\n",
    "    'min_samples_split': range(200,1001,300)\n",
    "}\n",
    "cv = 5\n",
    "opt_metric = 'neg_mean_squared_error'"
   ]
  },
  {
   "cell_type": "code",
   "execution_count": 100,
   "metadata": {},
   "outputs": [
    {
     "name": "stdout",
     "output_type": "stream",
     "text": [
      "Setting target metric to rouge\n"
     ]
    }
   ],
   "source": [
    "ltr_train = LTRGBTTrain(cat_features_dict=cat_features_dict, num_features=num_features,\n",
    "                     model_params=model_params, ltr_params=ltr_params,\n",
    "                    cv=cv, opt_metric=opt_metric)"
   ]
  },
  {
   "cell_type": "code",
   "execution_count": 102,
   "metadata": {},
   "outputs": [
    {
     "name": "stdout",
     "output_type": "stream",
     "text": [
      "Model already trained\n"
     ]
    }
   ],
   "source": [
    "rank_model = RankModel(ltr_train, n=10)"
   ]
  },
  {
   "cell_type": "code",
   "execution_count": 103,
   "metadata": {},
   "outputs": [
    {
     "data": {
      "text/plain": [
       "'/home/carlos/MasterDS/tfm/models/rank_with_model/02cf14e54e'"
      ]
     },
     "execution_count": 103,
     "metadata": {},
     "output_type": "execute_result"
    }
   ],
   "source": [
    "rank_model.path"
   ]
  },
  {
   "cell_type": "code",
   "execution_count": 104,
   "metadata": {},
   "outputs": [
    {
     "name": "stdout",
     "output_type": "stream",
     "text": [
      "Categorizing n_players...\n",
      "Computing new length...\n",
      "Dropping {'n_players_cat', 'score', 'sentence_ix', 'event_ix', 'sim_previous_3', 'sim_previous_1', 'advantage', 'url', 'length', 'equalize', 'players_importance', 'total_length', 'sim_previous_5', 'json_file', 'n_stop', 'n_players', 'position'}\n",
      "Ranking events using row_number approach...\n",
      "Saving to /home/carlos/MasterDS/tfm/models/rank_with_model/02cf14e54e/summaries.csv\n"
     ]
    }
   ],
   "source": [
    "rank_model.run()"
   ]
  },
  {
   "cell_type": "code",
   "execution_count": 105,
   "metadata": {},
   "outputs": [
    {
     "name": "stdout",
     "output_type": "stream",
     "text": [
      "Reading ranked summaries from /home/carlos/MasterDS/tfm/models/rank_with_model/02cf14e54e/summaries.csv\n"
     ]
    }
   ],
   "source": [
    "pd_summaries = rank_model.read_summaries()"
   ]
  },
  {
   "cell_type": "code",
   "execution_count": 106,
   "metadata": {},
   "outputs": [],
   "source": [
    "articles_path = '{}articles_events.csv'.format(CSV_DATA_PATH)"
   ]
  },
  {
   "cell_type": "code",
   "execution_count": 107,
   "metadata": {},
   "outputs": [],
   "source": [
    "pd_matches = pd.read_csv(articles_path)"
   ]
  },
  {
   "cell_type": "code",
   "execution_count": 108,
   "metadata": {},
   "outputs": [],
   "source": [
    "join_cols = ['url']\n",
    "match_cols = join_cols + ['json_file', 'article', 'events']\n",
    "sum_cols = join_cols + ['summary_events']"
   ]
  },
  {
   "cell_type": "code",
   "execution_count": 109,
   "metadata": {},
   "outputs": [],
   "source": [
    "pd_matches_sum = pd_matches[match_cols].merge(pd_summaries[sum_cols], on=join_cols, how='inner')"
   ]
  },
  {
   "cell_type": "code",
   "execution_count": 36,
   "metadata": {
    "collapsed": true,
    "jupyter": {
     "outputs_hidden": true
    }
   },
   "outputs": [
    {
     "data": {
      "text/html": [
       "<div>\n",
       "<style scoped>\n",
       "    .dataframe tbody tr th:only-of-type {\n",
       "        vertical-align: middle;\n",
       "    }\n",
       "\n",
       "    .dataframe tbody tr th {\n",
       "        vertical-align: top;\n",
       "    }\n",
       "\n",
       "    .dataframe thead th {\n",
       "        text-align: right;\n",
       "    }\n",
       "</style>\n",
       "<table border=\"1\" class=\"dataframe\">\n",
       "  <thead>\n",
       "    <tr style=\"text-align: right;\">\n",
       "      <th></th>\n",
       "      <th>url</th>\n",
       "      <th>json_file</th>\n",
       "      <th>article</th>\n",
       "      <th>events</th>\n",
       "      <th>summary_events</th>\n",
       "    </tr>\n",
       "  </thead>\n",
       "  <tbody>\n",
       "    <tr>\n",
       "      <th>0</th>\n",
       "      <td>http://www.premierleague.com/match/38678</td>\n",
       "      <td>premier_league_2018_2019.json</td>\n",
       "      <td>A goal and an assist from Riyad Mahrez sealed ...</td>\n",
       "      <td>Attempt blocked. Ilkay Gündogan (Manchester Ci...</td>\n",
       "      <td>Attempt saved. Riyad Mahrez (Manchester City) ...</td>\n",
       "    </tr>\n",
       "    <tr>\n",
       "      <th>1</th>\n",
       "      <td>http://www.premierleague.com/match/38679</td>\n",
       "      <td>premier_league_2018_2019.json</td>\n",
       "      <td>A second-half double by Pierre-Emerick Aubamey...</td>\n",
       "      <td>Hand ball by Tom Heaton (Burnley). Yellow Card...</td>\n",
       "      <td>Pierre-Emerick Aubameyang (Arsenal) hits the r...</td>\n",
       "    </tr>\n",
       "    <tr>\n",
       "      <th>2</th>\n",
       "      <td>http://www.premierleague.com/match/38680</td>\n",
       "      <td>premier_league_2018_2019.json</td>\n",
       "      <td>Michy Batshuayi's brace helped Crystal Palace ...</td>\n",
       "      <td>Andros Townsend (Crystal Palace) wins a free k...</td>\n",
       "      <td>Andros Townsend (Crystal Palace) wins a free k...</td>\n",
       "    </tr>\n",
       "    <tr>\n",
       "      <th>3</th>\n",
       "      <td>http://www.premierleague.com/match/38681</td>\n",
       "      <td>premier_league_2018_2019.json</td>\n",
       "      <td>Fulham were overpowered by an impressive Newca...</td>\n",
       "      <td>Attempt missed. Jonjo Shelvey (Newcastle Unite...</td>\n",
       "      <td>Attempt missed. Jonjo Shelvey (Newcastle Unite...</td>\n",
       "    </tr>\n",
       "    <tr>\n",
       "      <th>4</th>\n",
       "      <td>http://www.premierleague.com/match/38682</td>\n",
       "      <td>premier_league_2018_2019.json</td>\n",
       "      <td>Chelsea confirmed a third-place finish after a...</td>\n",
       "      <td>Foul by Jorginho (Chelsea). Jamie Vardy (Leice...</td>\n",
       "      <td>Jamie Vardy (Leicester City) wins a free kick ...</td>\n",
       "    </tr>\n",
       "    <tr>\n",
       "      <th>...</th>\n",
       "      <td>...</td>\n",
       "      <td>...</td>\n",
       "      <td>...</td>\n",
       "      <td>...</td>\n",
       "      <td>...</td>\n",
       "    </tr>\n",
       "    <tr>\n",
       "      <th>4518</th>\n",
       "      <td>https://www.espn.com/soccer/report?gameId=522712</td>\n",
       "      <td>italian_serie_a_2018_2019.json</td>\n",
       "      <td>Inter Milan notched their seventh successive S...</td>\n",
       "      <td>Corner,  Inter Milan. Conceded by Cristian Rom...</td>\n",
       "      <td>Attempt missed. Ivan Perisic (Inter Milan) rig...</td>\n",
       "    </tr>\n",
       "    <tr>\n",
       "      <th>4519</th>\n",
       "      <td>https://www.espn.com/soccer/report?gameId=522672</td>\n",
       "      <td>italian_serie_a_2018_2019.json</td>\n",
       "      <td>Two goals from Arkadiusz Milik helped Napoli m...</td>\n",
       "      <td>Offside, Napoli. Elseid Hysaj tries a through ...</td>\n",
       "      <td>Goal!  Napoli 1, Frosinone 0. Piotr Zielinski ...</td>\n",
       "    </tr>\n",
       "    <tr>\n",
       "      <th>4520</th>\n",
       "      <td>https://www.espn.com/soccer/report?gameId=522701</td>\n",
       "      <td>italian_serie_a_2018_2019.json</td>\n",
       "      <td>Inter Milan's run of seven successive league w...</td>\n",
       "      <td>Attempt blocked. Hans Hateboer (Atalanta) head...</td>\n",
       "      <td>Corner,  Atalanta. Conceded by Samir Handanovi...</td>\n",
       "    </tr>\n",
       "    <tr>\n",
       "      <th>4521</th>\n",
       "      <td>https://www.espn.com/soccer/report?gameId=522667</td>\n",
       "      <td>italian_serie_a_2018_2019.json</td>\n",
       "      <td>Inter Milan rebounded from the disappointment ...</td>\n",
       "      <td>Corner,  Inter Milan. Conceded by Bram Nuytinc...</td>\n",
       "      <td>Marco D'Alessandro (Udinese) wins a free kick ...</td>\n",
       "    </tr>\n",
       "    <tr>\n",
       "      <th>4522</th>\n",
       "      <td>https://www.espn.com/soccer/report?gameId=522804</td>\n",
       "      <td>italian_serie_a_2018_2019.json</td>\n",
       "      <td>Inter Milan, touted as one of the Serie A titl...</td>\n",
       "      <td>Foul by Tomás Rincón (Torino). Sime Vrsaljko (...</td>\n",
       "      <td>Goal!  Inter Milan 1, Torino 0. Ivan Perisic (...</td>\n",
       "    </tr>\n",
       "  </tbody>\n",
       "</table>\n",
       "<p>4523 rows × 5 columns</p>\n",
       "</div>"
      ],
      "text/plain": [
       "                                                   url  ...                                     summary_events\n",
       "0             http://www.premierleague.com/match/38678  ...  Attempt saved. Riyad Mahrez (Manchester City) ...\n",
       "1             http://www.premierleague.com/match/38679  ...  Pierre-Emerick Aubameyang (Arsenal) hits the r...\n",
       "2             http://www.premierleague.com/match/38680  ...  Andros Townsend (Crystal Palace) wins a free k...\n",
       "3             http://www.premierleague.com/match/38681  ...  Attempt missed. Jonjo Shelvey (Newcastle Unite...\n",
       "4             http://www.premierleague.com/match/38682  ...  Jamie Vardy (Leicester City) wins a free kick ...\n",
       "...                                                ...  ...                                                ...\n",
       "4518  https://www.espn.com/soccer/report?gameId=522712  ...  Attempt missed. Ivan Perisic (Inter Milan) rig...\n",
       "4519  https://www.espn.com/soccer/report?gameId=522672  ...  Goal!  Napoli 1, Frosinone 0. Piotr Zielinski ...\n",
       "4520  https://www.espn.com/soccer/report?gameId=522701  ...  Corner,  Atalanta. Conceded by Samir Handanovi...\n",
       "4521  https://www.espn.com/soccer/report?gameId=522667  ...  Marco D'Alessandro (Udinese) wins a free kick ...\n",
       "4522  https://www.espn.com/soccer/report?gameId=522804  ...  Goal!  Inter Milan 1, Torino 0. Ivan Perisic (...\n",
       "\n",
       "[4523 rows x 5 columns]"
      ]
     },
     "execution_count": 36,
     "metadata": {},
     "output_type": "execute_result"
    }
   ],
   "source": [
    "pd_matches_sum"
   ]
  },
  {
   "cell_type": "markdown",
   "metadata": {},
   "source": [
    "## Evaluación"
   ]
  },
  {
   "cell_type": "code",
   "execution_count": 110,
   "metadata": {},
   "outputs": [
    {
     "name": "stdout",
     "output_type": "stream",
     "text": [
      "Setting target metric to rouge\n"
     ]
    }
   ],
   "source": [
    "evaluation = SummaryEvaluation(metric='rouge')"
   ]
  },
  {
   "cell_type": "markdown",
   "metadata": {},
   "source": [
    "### Sin procesar"
   ]
  },
  {
   "cell_type": "code",
   "execution_count": 111,
   "metadata": {},
   "outputs": [],
   "source": [
    "file_name = 'model_rank_gbt'"
   ]
  },
  {
   "cell_type": "code",
   "execution_count": 112,
   "metadata": {},
   "outputs": [],
   "source": [
    "path = '{}/summaries/rouge/{}'.format(conf.METRICS_PATH, file_name)"
   ]
  },
  {
   "cell_type": "code",
   "execution_count": 114,
   "metadata": {},
   "outputs": [
    {
     "name": "stdout",
     "output_type": "stream",
     "text": [
      "Performing evaluation for 4523 articles\n",
      "Writing to /home/carlos/MasterDS/tfm/data/metrics/summaries/rouge/model_rank_gbt.pickle\n",
      "Writing avg to /home/carlos/MasterDS/tfm/data/metrics/summaries/rouge/model_rank_gbt_avg.pickle\n"
     ]
    }
   ],
   "source": [
    "scores_dict, avg_scores_dict = evaluation.evaluate(pd_matches_sum, path,\n",
    "                                                   preprocess_text=False)"
   ]
  },
  {
   "cell_type": "code",
   "execution_count": 115,
   "metadata": {},
   "outputs": [
    {
     "data": {
      "text/plain": [
       "{'rouge-1': {'f': 0.20276205811977818,\n",
       "  'p': 0.20719857786520804,\n",
       "  'r': 0.23951184236461787},\n",
       " 'rouge-2': {'f': 0.03983985919013643,\n",
       "  'p': 0.042021128445087895,\n",
       "  'r': 0.04656215404694944},\n",
       " 'rouge-l': {'f': 0.1970217252137998,\n",
       "  'p': 0.2958964281227826,\n",
       "  'r': 0.15865173221948106}}"
      ]
     },
     "execution_count": 115,
     "metadata": {},
     "output_type": "execute_result"
    }
   ],
   "source": [
    "avg_scores_dict"
   ]
  },
  {
   "cell_type": "markdown",
   "metadata": {},
   "source": [
    "### Con procesado"
   ]
  },
  {
   "cell_type": "code",
   "execution_count": 122,
   "metadata": {},
   "outputs": [],
   "source": [
    "file_name = 'model_rank_gbt_processed'"
   ]
  },
  {
   "cell_type": "code",
   "execution_count": 123,
   "metadata": {},
   "outputs": [],
   "source": [
    "path = '{}/summaries/rouge/{}'.format(conf.METRICS_PATH, file_name)"
   ]
  },
  {
   "cell_type": "code",
   "execution_count": 124,
   "metadata": {},
   "outputs": [
    {
     "name": "stdout",
     "output_type": "stream",
     "text": [
      "Performing evaluation for 4523 articles\n",
      "Writing to /home/carlos/MasterDS/tfm/data/metrics/summaries/rouge/model_rank_gbt_processed.pickle\n",
      "Writing avg to /home/carlos/MasterDS/tfm/data/metrics/summaries/rouge/model_rank_gbt_processed_avg.pickle\n"
     ]
    }
   ],
   "source": [
    "scores_dict, avg_scores_dict = evaluation.evaluate(pd_matches_sum, path,\n",
    "                                                   preprocess_text=True)"
   ]
  },
  {
   "cell_type": "code",
   "execution_count": 119,
   "metadata": {},
   "outputs": [
    {
     "data": {
      "text/plain": [
       "{'rouge-1': {'f': 0.1862690636642679,\n",
       "  'p': 0.18121337137449792,\n",
       "  'r': 0.23654912956406168},\n",
       " 'rouge-2': {'f': 0.0541520771717992,\n",
       "  'p': 0.05196353708804493,\n",
       "  'r': 0.07016734074984458},\n",
       " 'rouge-l': {'f': 0.24382403170381378,\n",
       "  'p': 0.346439828049648,\n",
       "  'r': 0.20424213646524558}}"
      ]
     },
     "execution_count": 119,
     "metadata": {},
     "output_type": "execute_result"
    }
   ],
   "source": [
    "avg_scores_dict"
   ]
  },
  {
   "cell_type": "markdown",
   "metadata": {},
   "source": [
    "# SVM"
   ]
  },
  {
   "cell_type": "markdown",
   "metadata": {},
   "source": [
    "## Carga de datos"
   ]
  },
  {
   "cell_type": "code",
   "execution_count": 5,
   "metadata": {},
   "outputs": [],
   "source": [
    "ltr_params = {\n",
    "    'mode': 'tfidf',\n",
    "    'count_vec_kwargs': {'strip_accents': 'unicode'},\n",
    "    'target_metric': 'rouge',\n",
    "    'metric_params': {'rouge_mode': 'rouge-1', 'rouge_metric': 'r'},\n",
    "    'drop_teams': True,\n",
    "    'lemma': True,\n",
    "    'train_perc': 0.7,\n",
    "    'val_perc': 0.2\n",
    "}\n",
    "\n",
    "model_params = {}"
   ]
  },
  {
   "cell_type": "code",
   "execution_count": 6,
   "metadata": {},
   "outputs": [
    {
     "name": "stdout",
     "output_type": "stream",
     "text": [
      "Setting target metric to rouge\n",
      "Setting mode to tfidf\n"
     ]
    }
   ],
   "source": [
    "ltr_train = LTRSVMTFTrain(model_params=model_params, ltr_params=ltr_params)"
   ]
  },
  {
   "cell_type": "code",
   "execution_count": 7,
   "metadata": {},
   "outputs": [
    {
     "name": "stdout",
     "output_type": "stream",
     "text": [
      "Model already trained\n"
     ]
    }
   ],
   "source": [
    "rank_model = RankModel(ltr_train, n=10)"
   ]
  },
  {
   "cell_type": "code",
   "execution_count": 10,
   "metadata": {},
   "outputs": [
    {
     "data": {
      "text/plain": [
       "'/home/carlos/MasterDS/tfm/models/rank_with_model/9c2f95cd9b'"
      ]
     },
     "execution_count": 10,
     "metadata": {},
     "output_type": "execute_result"
    }
   ],
   "source": [
    "rank_model.path"
   ]
  },
  {
   "cell_type": "code",
   "execution_count": null,
   "metadata": {},
   "outputs": [],
   "source": [
    "score_df = rank_model.get_scores_df()"
   ]
  },
  {
   "cell_type": "code",
   "execution_count": null,
   "metadata": {},
   "outputs": [],
   "source": []
  },
  {
   "cell_type": "code",
   "execution_count": 11,
   "metadata": {
    "collapsed": true,
    "jupyter": {
     "outputs_hidden": true
    }
   },
   "outputs": [
    {
     "ename": "ParserError",
     "evalue": "Error tokenizing data. C error: Calling read(nbytes) on source failed. Try engine='python'.",
     "output_type": "error",
     "traceback": [
      "\u001b[0;31m---------------------------------------------------------------------------\u001b[0m",
      "\u001b[0;31mParserError\u001b[0m                               Traceback (most recent call last)",
      "\u001b[0;32m<ipython-input-11-864fdd53ae25>\u001b[0m in \u001b[0;36m<module>\u001b[0;34m\u001b[0m\n\u001b[0;32m----> 1\u001b[0;31m \u001b[0mrank_model\u001b[0m\u001b[0;34m.\u001b[0m\u001b[0mrun\u001b[0m\u001b[0;34m(\u001b[0m\u001b[0;34m)\u001b[0m\u001b[0;34m\u001b[0m\u001b[0;34m\u001b[0m\u001b[0m\n\u001b[0m",
      "\u001b[0;32m~/MasterDS/tfm/scripts/models/row_number_rank.py\u001b[0m in \u001b[0;36mrun\u001b[0;34m(self)\u001b[0m\n\u001b[1;32m     76\u001b[0m         \u001b[0;34m:\u001b[0m\u001b[0;32mreturn\u001b[0m\u001b[0;34m:\u001b[0m\u001b[0;34m\u001b[0m\u001b[0;34m\u001b[0m\u001b[0m\n\u001b[1;32m     77\u001b[0m         \"\"\"\n\u001b[0;32m---> 78\u001b[0;31m         \u001b[0mrank_df\u001b[0m \u001b[0;34m=\u001b[0m \u001b[0mself\u001b[0m\u001b[0;34m.\u001b[0m\u001b[0mrank_events\u001b[0m\u001b[0;34m(\u001b[0m\u001b[0;34m)\u001b[0m\u001b[0;34m\u001b[0m\u001b[0;34m\u001b[0m\u001b[0m\n\u001b[0m\u001b[1;32m     79\u001b[0m         \u001b[0mevents_df\u001b[0m \u001b[0;34m=\u001b[0m \u001b[0mself\u001b[0m\u001b[0;34m.\u001b[0m\u001b[0m_create_events_df\u001b[0m\u001b[0;34m(\u001b[0m\u001b[0;34m)\u001b[0m\u001b[0;34m\u001b[0m\u001b[0;34m\u001b[0m\u001b[0m\n\u001b[1;32m     80\u001b[0m         \u001b[0mmatch_rank_df\u001b[0m \u001b[0;34m=\u001b[0m \u001b[0mself\u001b[0m\u001b[0;34m.\u001b[0m\u001b[0m_ranked_summaries\u001b[0m\u001b[0;34m(\u001b[0m\u001b[0mrank_df\u001b[0m\u001b[0;34m,\u001b[0m \u001b[0mevents_df\u001b[0m\u001b[0;34m)\u001b[0m\u001b[0;34m\u001b[0m\u001b[0;34m\u001b[0m\u001b[0m\n",
      "\u001b[0;32m~/MasterDS/tfm/scripts/models/row_number_rank.py\u001b[0m in \u001b[0;36mrank_events\u001b[0;34m(self)\u001b[0m\n\u001b[1;32m     44\u001b[0m \u001b[0;34m\u001b[0m\u001b[0m\n\u001b[1;32m     45\u001b[0m     \u001b[0;32mdef\u001b[0m \u001b[0mrank_events\u001b[0m\u001b[0;34m(\u001b[0m\u001b[0mself\u001b[0m\u001b[0;34m)\u001b[0m \u001b[0;34m->\u001b[0m \u001b[0mpd\u001b[0m\u001b[0;34m.\u001b[0m\u001b[0mDataFrame\u001b[0m\u001b[0;34m:\u001b[0m\u001b[0;34m\u001b[0m\u001b[0;34m\u001b[0m\u001b[0m\n\u001b[0;32m---> 46\u001b[0;31m         \u001b[0mscored_df\u001b[0m \u001b[0;34m=\u001b[0m \u001b[0mself\u001b[0m\u001b[0;34m.\u001b[0m\u001b[0mget_scores_df\u001b[0m\u001b[0;34m(\u001b[0m\u001b[0;34m)\u001b[0m\u001b[0;34m\u001b[0m\u001b[0;34m\u001b[0m\u001b[0m\n\u001b[0m\u001b[1;32m     47\u001b[0m         \u001b[0mdf_rank\u001b[0m \u001b[0;34m=\u001b[0m \u001b[0mself\u001b[0m\u001b[0;34m.\u001b[0m\u001b[0mrank\u001b[0m\u001b[0;34m(\u001b[0m\u001b[0mscored_df\u001b[0m\u001b[0;34m)\u001b[0m\u001b[0;34m\u001b[0m\u001b[0;34m\u001b[0m\u001b[0m\n\u001b[1;32m     48\u001b[0m         \u001b[0mdf_cols_rank\u001b[0m \u001b[0;34m=\u001b[0m \u001b[0mscored_df\u001b[0m\u001b[0;34m.\u001b[0m\u001b[0mjoin\u001b[0m\u001b[0;34m(\u001b[0m\u001b[0mdf_rank\u001b[0m\u001b[0;34m)\u001b[0m\u001b[0;34m\u001b[0m\u001b[0;34m\u001b[0m\u001b[0m\n",
      "\u001b[0;32m~/MasterDS/tfm/scripts/models/rank_with_model/rank_with_model.py\u001b[0m in \u001b[0;36mget_scores_df\u001b[0;34m(self)\u001b[0m\n\u001b[1;32m     31\u001b[0m         \u001b[0mmodel\u001b[0m \u001b[0;34m=\u001b[0m \u001b[0mself\u001b[0m\u001b[0;34m.\u001b[0m\u001b[0mltr\u001b[0m\u001b[0;34m.\u001b[0m\u001b[0mread_model\u001b[0m\u001b[0;34m(\u001b[0m\u001b[0;34m)\u001b[0m\u001b[0;34m\u001b[0m\u001b[0;34m\u001b[0m\u001b[0m\n\u001b[1;32m     32\u001b[0m         \u001b[0;31m# Load data\u001b[0m\u001b[0;34m\u001b[0m\u001b[0;34m\u001b[0m\u001b[0;34m\u001b[0m\u001b[0m\n\u001b[0;32m---> 33\u001b[0;31m         \u001b[0mdf\u001b[0m \u001b[0;34m=\u001b[0m \u001b[0mself\u001b[0m\u001b[0;34m.\u001b[0m\u001b[0mload_data\u001b[0m\u001b[0;34m(\u001b[0m\u001b[0;34m)\u001b[0m\u001b[0;34m\u001b[0m\u001b[0;34m\u001b[0m\u001b[0m\n\u001b[0m\u001b[1;32m     34\u001b[0m         \u001b[0mX\u001b[0m \u001b[0;34m=\u001b[0m \u001b[0mself\u001b[0m\u001b[0;34m.\u001b[0m\u001b[0mltr\u001b[0m\u001b[0;34m.\u001b[0m\u001b[0mpreprocess_data\u001b[0m\u001b[0;34m(\u001b[0m\u001b[0mdf\u001b[0m\u001b[0;34m)\u001b[0m\u001b[0;34m\u001b[0m\u001b[0;34m\u001b[0m\u001b[0m\n\u001b[1;32m     35\u001b[0m         \u001b[0mX\u001b[0m \u001b[0;34m=\u001b[0m \u001b[0mX\u001b[0m\u001b[0;34m.\u001b[0m\u001b[0mdrop\u001b[0m\u001b[0;34m(\u001b[0m\u001b[0mself\u001b[0m\u001b[0;34m.\u001b[0m\u001b[0mltr\u001b[0m\u001b[0;34m.\u001b[0m\u001b[0mtarget_col\u001b[0m\u001b[0;34m,\u001b[0m \u001b[0maxis\u001b[0m\u001b[0;34m=\u001b[0m\u001b[0;36m1\u001b[0m\u001b[0;34m)\u001b[0m\u001b[0;34m\u001b[0m\u001b[0;34m\u001b[0m\u001b[0m\n",
      "\u001b[0;32m~/MasterDS/tfm/scripts/models/rank_experiment.py\u001b[0m in \u001b[0;36mload_data\u001b[0;34m(self)\u001b[0m\n\u001b[1;32m     69\u001b[0m     \u001b[0;32mdef\u001b[0m \u001b[0mload_data\u001b[0m\u001b[0;34m(\u001b[0m\u001b[0mself\u001b[0m\u001b[0;34m)\u001b[0m \u001b[0;34m->\u001b[0m \u001b[0mpd\u001b[0m\u001b[0;34m.\u001b[0m\u001b[0mDataFrame\u001b[0m\u001b[0;34m:\u001b[0m\u001b[0;34m\u001b[0m\u001b[0;34m\u001b[0m\u001b[0m\n\u001b[1;32m     70\u001b[0m         \u001b[0;34m\"\"\"Reads data from all matches\"\"\"\u001b[0m\u001b[0;34m\u001b[0m\u001b[0;34m\u001b[0m\u001b[0m\n\u001b[0;32m---> 71\u001b[0;31m         \u001b[0;32mreturn\u001b[0m \u001b[0mself\u001b[0m\u001b[0;34m.\u001b[0m\u001b[0mltr\u001b[0m\u001b[0;34m.\u001b[0m\u001b[0mread\u001b[0m\u001b[0;34m(\u001b[0m\u001b[0;34m)\u001b[0m \u001b[0;32mif\u001b[0m \u001b[0misinstance\u001b[0m\u001b[0;34m(\u001b[0m\u001b[0mself\u001b[0m\u001b[0;34m.\u001b[0m\u001b[0mltr\u001b[0m\u001b[0;34m,\u001b[0m \u001b[0mLTRFeaturesTargets\u001b[0m\u001b[0;34m)\u001b[0m \u001b[0;32melse\u001b[0m \u001b[0mself\u001b[0m\u001b[0;34m.\u001b[0m\u001b[0mltr\u001b[0m\u001b[0;34m.\u001b[0m\u001b[0mltr\u001b[0m\u001b[0;34m.\u001b[0m\u001b[0mread\u001b[0m\u001b[0;34m(\u001b[0m\u001b[0;34m)\u001b[0m\u001b[0;34m\u001b[0m\u001b[0;34m\u001b[0m\u001b[0m\n\u001b[0m\u001b[1;32m     72\u001b[0m \u001b[0;34m\u001b[0m\u001b[0m\n\u001b[1;32m     73\u001b[0m     \u001b[0;32mdef\u001b[0m \u001b[0m_write_summaries\u001b[0m\u001b[0;34m(\u001b[0m\u001b[0mself\u001b[0m\u001b[0;34m,\u001b[0m \u001b[0mdf\u001b[0m\u001b[0;34m:\u001b[0m \u001b[0mpd\u001b[0m\u001b[0;34m.\u001b[0m\u001b[0mDataFrame\u001b[0m\u001b[0;34m)\u001b[0m\u001b[0;34m:\u001b[0m\u001b[0;34m\u001b[0m\u001b[0;34m\u001b[0m\u001b[0m\n",
      "\u001b[0;32m~/MasterDS/tfm/scripts/extractive_summary/ltr/learn_to_rank.py\u001b[0m in \u001b[0;36mread\u001b[0;34m(self)\u001b[0m\n\u001b[1;32m    115\u001b[0m     \u001b[0;32mdef\u001b[0m \u001b[0mread\u001b[0m\u001b[0;34m(\u001b[0m\u001b[0mself\u001b[0m\u001b[0;34m)\u001b[0m \u001b[0;34m->\u001b[0m \u001b[0mpd\u001b[0m\u001b[0;34m.\u001b[0m\u001b[0mDataFrame\u001b[0m\u001b[0;34m:\u001b[0m\u001b[0;34m\u001b[0m\u001b[0;34m\u001b[0m\u001b[0m\n\u001b[1;32m    116\u001b[0m         \u001b[0;32mif\u001b[0m \u001b[0mos\u001b[0m\u001b[0;34m.\u001b[0m\u001b[0mpath\u001b[0m\u001b[0;34m.\u001b[0m\u001b[0mexists\u001b[0m\u001b[0;34m(\u001b[0m\u001b[0mself\u001b[0m\u001b[0;34m.\u001b[0m\u001b[0mfile_path\u001b[0m\u001b[0;34m)\u001b[0m\u001b[0;34m:\u001b[0m\u001b[0;34m\u001b[0m\u001b[0;34m\u001b[0m\u001b[0m\n\u001b[0;32m--> 117\u001b[0;31m             \u001b[0;32mreturn\u001b[0m \u001b[0mpd\u001b[0m\u001b[0;34m.\u001b[0m\u001b[0mread_csv\u001b[0m\u001b[0;34m(\u001b[0m\u001b[0mself\u001b[0m\u001b[0;34m.\u001b[0m\u001b[0mfile_path\u001b[0m\u001b[0;34m)\u001b[0m\u001b[0;34m\u001b[0m\u001b[0;34m\u001b[0m\u001b[0m\n\u001b[0m\u001b[1;32m    118\u001b[0m         \u001b[0;32melse\u001b[0m\u001b[0;34m:\u001b[0m\u001b[0;34m\u001b[0m\u001b[0;34m\u001b[0m\u001b[0m\n\u001b[1;32m    119\u001b[0m             \u001b[0;32mraise\u001b[0m \u001b[0mValueError\u001b[0m\u001b[0;34m(\u001b[0m\u001b[0;34m\"{} does not exists\"\u001b[0m\u001b[0;34m.\u001b[0m\u001b[0mformat\u001b[0m\u001b[0;34m(\u001b[0m\u001b[0mself\u001b[0m\u001b[0;34m.\u001b[0m\u001b[0mfile_path\u001b[0m\u001b[0;34m)\u001b[0m\u001b[0;34m)\u001b[0m\u001b[0;34m\u001b[0m\u001b[0;34m\u001b[0m\u001b[0m\n",
      "\u001b[0;32m~/anaconda3/envs/tfm/lib/python3.7/site-packages/pandas/io/parsers.py\u001b[0m in \u001b[0;36mread_csv\u001b[0;34m(filepath_or_buffer, sep, delimiter, header, names, index_col, usecols, squeeze, prefix, mangle_dupe_cols, dtype, engine, converters, true_values, false_values, skipinitialspace, skiprows, skipfooter, nrows, na_values, keep_default_na, na_filter, verbose, skip_blank_lines, parse_dates, infer_datetime_format, keep_date_col, date_parser, dayfirst, cache_dates, iterator, chunksize, compression, thousands, decimal, lineterminator, quotechar, quoting, doublequote, escapechar, comment, encoding, dialect, error_bad_lines, warn_bad_lines, delim_whitespace, low_memory, memory_map, float_precision)\u001b[0m\n\u001b[1;32m    684\u001b[0m     )\n\u001b[1;32m    685\u001b[0m \u001b[0;34m\u001b[0m\u001b[0m\n\u001b[0;32m--> 686\u001b[0;31m     \u001b[0;32mreturn\u001b[0m \u001b[0m_read\u001b[0m\u001b[0;34m(\u001b[0m\u001b[0mfilepath_or_buffer\u001b[0m\u001b[0;34m,\u001b[0m \u001b[0mkwds\u001b[0m\u001b[0;34m)\u001b[0m\u001b[0;34m\u001b[0m\u001b[0;34m\u001b[0m\u001b[0m\n\u001b[0m\u001b[1;32m    687\u001b[0m \u001b[0;34m\u001b[0m\u001b[0m\n\u001b[1;32m    688\u001b[0m \u001b[0;34m\u001b[0m\u001b[0m\n",
      "\u001b[0;32m~/anaconda3/envs/tfm/lib/python3.7/site-packages/pandas/io/parsers.py\u001b[0m in \u001b[0;36m_read\u001b[0;34m(filepath_or_buffer, kwds)\u001b[0m\n\u001b[1;32m    450\u001b[0m \u001b[0;34m\u001b[0m\u001b[0m\n\u001b[1;32m    451\u001b[0m     \u001b[0;31m# Create the parser.\u001b[0m\u001b[0;34m\u001b[0m\u001b[0;34m\u001b[0m\u001b[0;34m\u001b[0m\u001b[0m\n\u001b[0;32m--> 452\u001b[0;31m     \u001b[0mparser\u001b[0m \u001b[0;34m=\u001b[0m \u001b[0mTextFileReader\u001b[0m\u001b[0;34m(\u001b[0m\u001b[0mfp_or_buf\u001b[0m\u001b[0;34m,\u001b[0m \u001b[0;34m**\u001b[0m\u001b[0mkwds\u001b[0m\u001b[0;34m)\u001b[0m\u001b[0;34m\u001b[0m\u001b[0;34m\u001b[0m\u001b[0m\n\u001b[0m\u001b[1;32m    453\u001b[0m \u001b[0;34m\u001b[0m\u001b[0m\n\u001b[1;32m    454\u001b[0m     \u001b[0;32mif\u001b[0m \u001b[0mchunksize\u001b[0m \u001b[0;32mor\u001b[0m \u001b[0miterator\u001b[0m\u001b[0;34m:\u001b[0m\u001b[0;34m\u001b[0m\u001b[0;34m\u001b[0m\u001b[0m\n",
      "\u001b[0;32m~/anaconda3/envs/tfm/lib/python3.7/site-packages/pandas/io/parsers.py\u001b[0m in \u001b[0;36m__init__\u001b[0;34m(self, f, engine, **kwds)\u001b[0m\n\u001b[1;32m    934\u001b[0m             \u001b[0mself\u001b[0m\u001b[0;34m.\u001b[0m\u001b[0moptions\u001b[0m\u001b[0;34m[\u001b[0m\u001b[0;34m\"has_index_names\"\u001b[0m\u001b[0;34m]\u001b[0m \u001b[0;34m=\u001b[0m \u001b[0mkwds\u001b[0m\u001b[0;34m[\u001b[0m\u001b[0;34m\"has_index_names\"\u001b[0m\u001b[0;34m]\u001b[0m\u001b[0;34m\u001b[0m\u001b[0;34m\u001b[0m\u001b[0m\n\u001b[1;32m    935\u001b[0m \u001b[0;34m\u001b[0m\u001b[0m\n\u001b[0;32m--> 936\u001b[0;31m         \u001b[0mself\u001b[0m\u001b[0;34m.\u001b[0m\u001b[0m_make_engine\u001b[0m\u001b[0;34m(\u001b[0m\u001b[0mself\u001b[0m\u001b[0;34m.\u001b[0m\u001b[0mengine\u001b[0m\u001b[0;34m)\u001b[0m\u001b[0;34m\u001b[0m\u001b[0;34m\u001b[0m\u001b[0m\n\u001b[0m\u001b[1;32m    937\u001b[0m \u001b[0;34m\u001b[0m\u001b[0m\n\u001b[1;32m    938\u001b[0m     \u001b[0;32mdef\u001b[0m \u001b[0mclose\u001b[0m\u001b[0;34m(\u001b[0m\u001b[0mself\u001b[0m\u001b[0;34m)\u001b[0m\u001b[0;34m:\u001b[0m\u001b[0;34m\u001b[0m\u001b[0;34m\u001b[0m\u001b[0m\n",
      "\u001b[0;32m~/anaconda3/envs/tfm/lib/python3.7/site-packages/pandas/io/parsers.py\u001b[0m in \u001b[0;36m_make_engine\u001b[0;34m(self, engine)\u001b[0m\n\u001b[1;32m   1166\u001b[0m     \u001b[0;32mdef\u001b[0m \u001b[0m_make_engine\u001b[0m\u001b[0;34m(\u001b[0m\u001b[0mself\u001b[0m\u001b[0;34m,\u001b[0m \u001b[0mengine\u001b[0m\u001b[0;34m=\u001b[0m\u001b[0;34m\"c\"\u001b[0m\u001b[0;34m)\u001b[0m\u001b[0;34m:\u001b[0m\u001b[0;34m\u001b[0m\u001b[0;34m\u001b[0m\u001b[0m\n\u001b[1;32m   1167\u001b[0m         \u001b[0;32mif\u001b[0m \u001b[0mengine\u001b[0m \u001b[0;34m==\u001b[0m \u001b[0;34m\"c\"\u001b[0m\u001b[0;34m:\u001b[0m\u001b[0;34m\u001b[0m\u001b[0;34m\u001b[0m\u001b[0m\n\u001b[0;32m-> 1168\u001b[0;31m             \u001b[0mself\u001b[0m\u001b[0;34m.\u001b[0m\u001b[0m_engine\u001b[0m \u001b[0;34m=\u001b[0m \u001b[0mCParserWrapper\u001b[0m\u001b[0;34m(\u001b[0m\u001b[0mself\u001b[0m\u001b[0;34m.\u001b[0m\u001b[0mf\u001b[0m\u001b[0;34m,\u001b[0m \u001b[0;34m**\u001b[0m\u001b[0mself\u001b[0m\u001b[0;34m.\u001b[0m\u001b[0moptions\u001b[0m\u001b[0;34m)\u001b[0m\u001b[0;34m\u001b[0m\u001b[0;34m\u001b[0m\u001b[0m\n\u001b[0m\u001b[1;32m   1169\u001b[0m         \u001b[0;32melse\u001b[0m\u001b[0;34m:\u001b[0m\u001b[0;34m\u001b[0m\u001b[0;34m\u001b[0m\u001b[0m\n\u001b[1;32m   1170\u001b[0m             \u001b[0;32mif\u001b[0m \u001b[0mengine\u001b[0m \u001b[0;34m==\u001b[0m \u001b[0;34m\"python\"\u001b[0m\u001b[0;34m:\u001b[0m\u001b[0;34m\u001b[0m\u001b[0;34m\u001b[0m\u001b[0m\n",
      "\u001b[0;32m~/anaconda3/envs/tfm/lib/python3.7/site-packages/pandas/io/parsers.py\u001b[0m in \u001b[0;36m__init__\u001b[0;34m(self, src, **kwds)\u001b[0m\n\u001b[1;32m   1996\u001b[0m         \u001b[0mkwds\u001b[0m\u001b[0;34m[\u001b[0m\u001b[0;34m\"usecols\"\u001b[0m\u001b[0;34m]\u001b[0m \u001b[0;34m=\u001b[0m \u001b[0mself\u001b[0m\u001b[0;34m.\u001b[0m\u001b[0musecols\u001b[0m\u001b[0;34m\u001b[0m\u001b[0;34m\u001b[0m\u001b[0m\n\u001b[1;32m   1997\u001b[0m \u001b[0;34m\u001b[0m\u001b[0m\n\u001b[0;32m-> 1998\u001b[0;31m         \u001b[0mself\u001b[0m\u001b[0;34m.\u001b[0m\u001b[0m_reader\u001b[0m \u001b[0;34m=\u001b[0m \u001b[0mparsers\u001b[0m\u001b[0;34m.\u001b[0m\u001b[0mTextReader\u001b[0m\u001b[0;34m(\u001b[0m\u001b[0msrc\u001b[0m\u001b[0;34m,\u001b[0m \u001b[0;34m**\u001b[0m\u001b[0mkwds\u001b[0m\u001b[0;34m)\u001b[0m\u001b[0;34m\u001b[0m\u001b[0;34m\u001b[0m\u001b[0m\n\u001b[0m\u001b[1;32m   1999\u001b[0m         \u001b[0mself\u001b[0m\u001b[0;34m.\u001b[0m\u001b[0munnamed_cols\u001b[0m \u001b[0;34m=\u001b[0m \u001b[0mself\u001b[0m\u001b[0;34m.\u001b[0m\u001b[0m_reader\u001b[0m\u001b[0;34m.\u001b[0m\u001b[0munnamed_cols\u001b[0m\u001b[0;34m\u001b[0m\u001b[0;34m\u001b[0m\u001b[0m\n\u001b[1;32m   2000\u001b[0m \u001b[0;34m\u001b[0m\u001b[0m\n",
      "\u001b[0;32mpandas/_libs/parsers.pyx\u001b[0m in \u001b[0;36mpandas._libs.parsers.TextReader.__cinit__\u001b[0;34m()\u001b[0m\n",
      "\u001b[0;32mpandas/_libs/parsers.pyx\u001b[0m in \u001b[0;36mpandas._libs.parsers.TextReader._get_header\u001b[0;34m()\u001b[0m\n",
      "\u001b[0;32mpandas/_libs/parsers.pyx\u001b[0m in \u001b[0;36mpandas._libs.parsers.TextReader._tokenize_rows\u001b[0;34m()\u001b[0m\n",
      "\u001b[0;32mpandas/_libs/parsers.pyx\u001b[0m in \u001b[0;36mpandas._libs.parsers.raise_parser_error\u001b[0;34m()\u001b[0m\n",
      "\u001b[0;31mParserError\u001b[0m: Error tokenizing data. C error: Calling read(nbytes) on source failed. Try engine='python'."
     ]
    }
   ],
   "source": [
    "rank_model.run()"
   ]
  },
  {
   "cell_type": "code",
   "execution_count": 8,
   "metadata": {},
   "outputs": [],
   "source": [
    "model = rank_model.ltr.read_model()"
   ]
  },
  {
   "cell_type": "code",
   "execution_count": 22,
   "metadata": {},
   "outputs": [
    {
     "data": {
      "text/plain": [
       "<scripts.extractive_summary.ltr.ltr_features_targets_tf.LTRFeaturesTargetsTF at 0x7f7635a65e10>"
      ]
     },
     "execution_count": 22,
     "metadata": {},
     "output_type": "execute_result"
    }
   ],
   "source": [
    "rank_model.ltr.ltr"
   ]
  },
  {
   "cell_type": "code",
   "execution_count": null,
   "metadata": {},
   "outputs": [],
   "source": []
  },
  {
   "cell_type": "code",
   "execution_count": 8,
   "metadata": {},
   "outputs": [],
   "source": [
    "features_target = rank_model.load_data()"
   ]
  },
  {
   "cell_type": "code",
   "execution_count": 18,
   "metadata": {},
   "outputs": [
    {
     "data": {
      "text/plain": [
       "tuple"
      ]
     },
     "execution_count": 18,
     "metadata": {},
     "output_type": "execute_result"
    }
   ],
   "source": [
    "type(features_target)"
   ]
  },
  {
   "cell_type": "code",
   "execution_count": 20,
   "metadata": {},
   "outputs": [],
   "source": [
    "x = features_target[0]"
   ]
  },
  {
   "cell_type": "code",
   "execution_count": null,
   "metadata": {},
   "outputs": [],
   "source": [
    "y_pred = model.predict(x)"
   ]
  },
  {
   "cell_type": "code",
   "execution_count": 14,
   "metadata": {},
   "outputs": [],
   "source": [
    "y = features_target[1]"
   ]
  },
  {
   "cell_type": "code",
   "execution_count": 15,
   "metadata": {},
   "outputs": [
    {
     "data": {
      "text/html": [
       "<div>\n",
       "<style scoped>\n",
       "    .dataframe tbody tr th:only-of-type {\n",
       "        vertical-align: middle;\n",
       "    }\n",
       "\n",
       "    .dataframe tbody tr th {\n",
       "        vertical-align: top;\n",
       "    }\n",
       "\n",
       "    .dataframe thead th {\n",
       "        text-align: right;\n",
       "    }\n",
       "</style>\n",
       "<table border=\"1\" class=\"dataframe\">\n",
       "  <thead>\n",
       "    <tr style=\"text-align: right;\">\n",
       "      <th></th>\n",
       "      <th>event_ix</th>\n",
       "      <th>sentence_ix</th>\n",
       "      <th>score</th>\n",
       "      <th>url</th>\n",
       "      <th>json_file</th>\n",
       "    </tr>\n",
       "  </thead>\n",
       "  <tbody>\n",
       "    <tr>\n",
       "      <th>0</th>\n",
       "      <td>0</td>\n",
       "      <td>4</td>\n",
       "      <td>0.153846</td>\n",
       "      <td>http://www.premierleague.com/match/38678</td>\n",
       "      <td>premier_league_2018_2019.json</td>\n",
       "    </tr>\n",
       "    <tr>\n",
       "      <th>1</th>\n",
       "      <td>1</td>\n",
       "      <td>3</td>\n",
       "      <td>0.181818</td>\n",
       "      <td>http://www.premierleague.com/match/38678</td>\n",
       "      <td>premier_league_2018_2019.json</td>\n",
       "    </tr>\n",
       "    <tr>\n",
       "      <th>2</th>\n",
       "      <td>2</td>\n",
       "      <td>2</td>\n",
       "      <td>0.222222</td>\n",
       "      <td>http://www.premierleague.com/match/38678</td>\n",
       "      <td>premier_league_2018_2019.json</td>\n",
       "    </tr>\n",
       "    <tr>\n",
       "      <th>3</th>\n",
       "      <td>3</td>\n",
       "      <td>0</td>\n",
       "      <td>0.000000</td>\n",
       "      <td>http://www.premierleague.com/match/38678</td>\n",
       "      <td>premier_league_2018_2019.json</td>\n",
       "    </tr>\n",
       "    <tr>\n",
       "      <th>4</th>\n",
       "      <td>4</td>\n",
       "      <td>5</td>\n",
       "      <td>0.200000</td>\n",
       "      <td>http://www.premierleague.com/match/38678</td>\n",
       "      <td>premier_league_2018_2019.json</td>\n",
       "    </tr>\n",
       "    <tr>\n",
       "      <th>...</th>\n",
       "      <td>...</td>\n",
       "      <td>...</td>\n",
       "      <td>...</td>\n",
       "      <td>...</td>\n",
       "      <td>...</td>\n",
       "    </tr>\n",
       "    <tr>\n",
       "      <th>423795</th>\n",
       "      <td>107</td>\n",
       "      <td>0</td>\n",
       "      <td>0.000000</td>\n",
       "      <td>https://www.espn.com/soccer/report?gameId=522804</td>\n",
       "      <td>italian_serie_a_2018_2019.json</td>\n",
       "    </tr>\n",
       "    <tr>\n",
       "      <th>423796</th>\n",
       "      <td>108</td>\n",
       "      <td>3</td>\n",
       "      <td>0.133333</td>\n",
       "      <td>https://www.espn.com/soccer/report?gameId=522804</td>\n",
       "      <td>italian_serie_a_2018_2019.json</td>\n",
       "    </tr>\n",
       "    <tr>\n",
       "      <th>423797</th>\n",
       "      <td>109</td>\n",
       "      <td>7</td>\n",
       "      <td>0.181818</td>\n",
       "      <td>https://www.espn.com/soccer/report?gameId=522804</td>\n",
       "      <td>italian_serie_a_2018_2019.json</td>\n",
       "    </tr>\n",
       "    <tr>\n",
       "      <th>423798</th>\n",
       "      <td>110</td>\n",
       "      <td>1</td>\n",
       "      <td>0.090909</td>\n",
       "      <td>https://www.espn.com/soccer/report?gameId=522804</td>\n",
       "      <td>italian_serie_a_2018_2019.json</td>\n",
       "    </tr>\n",
       "    <tr>\n",
       "      <th>423799</th>\n",
       "      <td>111</td>\n",
       "      <td>2</td>\n",
       "      <td>0.111111</td>\n",
       "      <td>https://www.espn.com/soccer/report?gameId=522804</td>\n",
       "      <td>italian_serie_a_2018_2019.json</td>\n",
       "    </tr>\n",
       "  </tbody>\n",
       "</table>\n",
       "<p>423800 rows × 5 columns</p>\n",
       "</div>"
      ],
      "text/plain": [
       "        event_ix  sentence_ix     score  \\\n",
       "0              0            4  0.153846   \n",
       "1              1            3  0.181818   \n",
       "2              2            2  0.222222   \n",
       "3              3            0  0.000000   \n",
       "4              4            5  0.200000   \n",
       "...          ...          ...       ...   \n",
       "423795       107            0  0.000000   \n",
       "423796       108            3  0.133333   \n",
       "423797       109            7  0.181818   \n",
       "423798       110            1  0.090909   \n",
       "423799       111            2  0.111111   \n",
       "\n",
       "                                                     url  \\\n",
       "0               http://www.premierleague.com/match/38678   \n",
       "1               http://www.premierleague.com/match/38678   \n",
       "2               http://www.premierleague.com/match/38678   \n",
       "3               http://www.premierleague.com/match/38678   \n",
       "4               http://www.premierleague.com/match/38678   \n",
       "...                                                  ...   \n",
       "423795  https://www.espn.com/soccer/report?gameId=522804   \n",
       "423796  https://www.espn.com/soccer/report?gameId=522804   \n",
       "423797  https://www.espn.com/soccer/report?gameId=522804   \n",
       "423798  https://www.espn.com/soccer/report?gameId=522804   \n",
       "423799  https://www.espn.com/soccer/report?gameId=522804   \n",
       "\n",
       "                             json_file  \n",
       "0        premier_league_2018_2019.json  \n",
       "1        premier_league_2018_2019.json  \n",
       "2        premier_league_2018_2019.json  \n",
       "3        premier_league_2018_2019.json  \n",
       "4        premier_league_2018_2019.json  \n",
       "...                                ...  \n",
       "423795  italian_serie_a_2018_2019.json  \n",
       "423796  italian_serie_a_2018_2019.json  \n",
       "423797  italian_serie_a_2018_2019.json  \n",
       "423798  italian_serie_a_2018_2019.json  \n",
       "423799  italian_serie_a_2018_2019.json  \n",
       "\n",
       "[423800 rows x 5 columns]"
      ]
     },
     "execution_count": 15,
     "metadata": {},
     "output_type": "execute_result"
    }
   ],
   "source": [
    "y"
   ]
  },
  {
   "cell_type": "code",
   "execution_count": 105,
   "metadata": {},
   "outputs": [
    {
     "name": "stdout",
     "output_type": "stream",
     "text": [
      "Reading ranked summaries from /home/carlos/MasterDS/tfm/models/rank_with_model/02cf14e54e/summaries.csv\n"
     ]
    }
   ],
   "source": [
    "pd_summaries = rank_model.read_summaries()"
   ]
  },
  {
   "cell_type": "code",
   "execution_count": 106,
   "metadata": {},
   "outputs": [],
   "source": [
    "articles_path = '{}articles_events.csv'.format(CSV_DATA_PATH)"
   ]
  },
  {
   "cell_type": "code",
   "execution_count": 107,
   "metadata": {},
   "outputs": [],
   "source": [
    "pd_matches = pd.read_csv(articles_path)"
   ]
  },
  {
   "cell_type": "code",
   "execution_count": 108,
   "metadata": {},
   "outputs": [],
   "source": [
    "join_cols = ['url']\n",
    "match_cols = join_cols + ['json_file', 'article', 'events']\n",
    "sum_cols = join_cols + ['summary_events']"
   ]
  },
  {
   "cell_type": "code",
   "execution_count": 109,
   "metadata": {},
   "outputs": [],
   "source": [
    "pd_matches_sum = pd_matches[match_cols].merge(pd_summaries[sum_cols], on=join_cols, how='inner')"
   ]
  },
  {
   "cell_type": "code",
   "execution_count": 36,
   "metadata": {
    "collapsed": true,
    "jupyter": {
     "outputs_hidden": true
    }
   },
   "outputs": [
    {
     "data": {
      "text/html": [
       "<div>\n",
       "<style scoped>\n",
       "    .dataframe tbody tr th:only-of-type {\n",
       "        vertical-align: middle;\n",
       "    }\n",
       "\n",
       "    .dataframe tbody tr th {\n",
       "        vertical-align: top;\n",
       "    }\n",
       "\n",
       "    .dataframe thead th {\n",
       "        text-align: right;\n",
       "    }\n",
       "</style>\n",
       "<table border=\"1\" class=\"dataframe\">\n",
       "  <thead>\n",
       "    <tr style=\"text-align: right;\">\n",
       "      <th></th>\n",
       "      <th>url</th>\n",
       "      <th>json_file</th>\n",
       "      <th>article</th>\n",
       "      <th>events</th>\n",
       "      <th>summary_events</th>\n",
       "    </tr>\n",
       "  </thead>\n",
       "  <tbody>\n",
       "    <tr>\n",
       "      <th>0</th>\n",
       "      <td>http://www.premierleague.com/match/38678</td>\n",
       "      <td>premier_league_2018_2019.json</td>\n",
       "      <td>A goal and an assist from Riyad Mahrez sealed ...</td>\n",
       "      <td>Attempt blocked. Ilkay Gündogan (Manchester Ci...</td>\n",
       "      <td>Attempt saved. Riyad Mahrez (Manchester City) ...</td>\n",
       "    </tr>\n",
       "    <tr>\n",
       "      <th>1</th>\n",
       "      <td>http://www.premierleague.com/match/38679</td>\n",
       "      <td>premier_league_2018_2019.json</td>\n",
       "      <td>A second-half double by Pierre-Emerick Aubamey...</td>\n",
       "      <td>Hand ball by Tom Heaton (Burnley). Yellow Card...</td>\n",
       "      <td>Pierre-Emerick Aubameyang (Arsenal) hits the r...</td>\n",
       "    </tr>\n",
       "    <tr>\n",
       "      <th>2</th>\n",
       "      <td>http://www.premierleague.com/match/38680</td>\n",
       "      <td>premier_league_2018_2019.json</td>\n",
       "      <td>Michy Batshuayi's brace helped Crystal Palace ...</td>\n",
       "      <td>Andros Townsend (Crystal Palace) wins a free k...</td>\n",
       "      <td>Andros Townsend (Crystal Palace) wins a free k...</td>\n",
       "    </tr>\n",
       "    <tr>\n",
       "      <th>3</th>\n",
       "      <td>http://www.premierleague.com/match/38681</td>\n",
       "      <td>premier_league_2018_2019.json</td>\n",
       "      <td>Fulham were overpowered by an impressive Newca...</td>\n",
       "      <td>Attempt missed. Jonjo Shelvey (Newcastle Unite...</td>\n",
       "      <td>Attempt missed. Jonjo Shelvey (Newcastle Unite...</td>\n",
       "    </tr>\n",
       "    <tr>\n",
       "      <th>4</th>\n",
       "      <td>http://www.premierleague.com/match/38682</td>\n",
       "      <td>premier_league_2018_2019.json</td>\n",
       "      <td>Chelsea confirmed a third-place finish after a...</td>\n",
       "      <td>Foul by Jorginho (Chelsea). Jamie Vardy (Leice...</td>\n",
       "      <td>Jamie Vardy (Leicester City) wins a free kick ...</td>\n",
       "    </tr>\n",
       "    <tr>\n",
       "      <th>...</th>\n",
       "      <td>...</td>\n",
       "      <td>...</td>\n",
       "      <td>...</td>\n",
       "      <td>...</td>\n",
       "      <td>...</td>\n",
       "    </tr>\n",
       "    <tr>\n",
       "      <th>4518</th>\n",
       "      <td>https://www.espn.com/soccer/report?gameId=522712</td>\n",
       "      <td>italian_serie_a_2018_2019.json</td>\n",
       "      <td>Inter Milan notched their seventh successive S...</td>\n",
       "      <td>Corner,  Inter Milan. Conceded by Cristian Rom...</td>\n",
       "      <td>Attempt missed. Ivan Perisic (Inter Milan) rig...</td>\n",
       "    </tr>\n",
       "    <tr>\n",
       "      <th>4519</th>\n",
       "      <td>https://www.espn.com/soccer/report?gameId=522672</td>\n",
       "      <td>italian_serie_a_2018_2019.json</td>\n",
       "      <td>Two goals from Arkadiusz Milik helped Napoli m...</td>\n",
       "      <td>Offside, Napoli. Elseid Hysaj tries a through ...</td>\n",
       "      <td>Goal!  Napoli 1, Frosinone 0. Piotr Zielinski ...</td>\n",
       "    </tr>\n",
       "    <tr>\n",
       "      <th>4520</th>\n",
       "      <td>https://www.espn.com/soccer/report?gameId=522701</td>\n",
       "      <td>italian_serie_a_2018_2019.json</td>\n",
       "      <td>Inter Milan's run of seven successive league w...</td>\n",
       "      <td>Attempt blocked. Hans Hateboer (Atalanta) head...</td>\n",
       "      <td>Corner,  Atalanta. Conceded by Samir Handanovi...</td>\n",
       "    </tr>\n",
       "    <tr>\n",
       "      <th>4521</th>\n",
       "      <td>https://www.espn.com/soccer/report?gameId=522667</td>\n",
       "      <td>italian_serie_a_2018_2019.json</td>\n",
       "      <td>Inter Milan rebounded from the disappointment ...</td>\n",
       "      <td>Corner,  Inter Milan. Conceded by Bram Nuytinc...</td>\n",
       "      <td>Marco D'Alessandro (Udinese) wins a free kick ...</td>\n",
       "    </tr>\n",
       "    <tr>\n",
       "      <th>4522</th>\n",
       "      <td>https://www.espn.com/soccer/report?gameId=522804</td>\n",
       "      <td>italian_serie_a_2018_2019.json</td>\n",
       "      <td>Inter Milan, touted as one of the Serie A titl...</td>\n",
       "      <td>Foul by Tomás Rincón (Torino). Sime Vrsaljko (...</td>\n",
       "      <td>Goal!  Inter Milan 1, Torino 0. Ivan Perisic (...</td>\n",
       "    </tr>\n",
       "  </tbody>\n",
       "</table>\n",
       "<p>4523 rows × 5 columns</p>\n",
       "</div>"
      ],
      "text/plain": [
       "                                                   url  ...                                     summary_events\n",
       "0             http://www.premierleague.com/match/38678  ...  Attempt saved. Riyad Mahrez (Manchester City) ...\n",
       "1             http://www.premierleague.com/match/38679  ...  Pierre-Emerick Aubameyang (Arsenal) hits the r...\n",
       "2             http://www.premierleague.com/match/38680  ...  Andros Townsend (Crystal Palace) wins a free k...\n",
       "3             http://www.premierleague.com/match/38681  ...  Attempt missed. Jonjo Shelvey (Newcastle Unite...\n",
       "4             http://www.premierleague.com/match/38682  ...  Jamie Vardy (Leicester City) wins a free kick ...\n",
       "...                                                ...  ...                                                ...\n",
       "4518  https://www.espn.com/soccer/report?gameId=522712  ...  Attempt missed. Ivan Perisic (Inter Milan) rig...\n",
       "4519  https://www.espn.com/soccer/report?gameId=522672  ...  Goal!  Napoli 1, Frosinone 0. Piotr Zielinski ...\n",
       "4520  https://www.espn.com/soccer/report?gameId=522701  ...  Corner,  Atalanta. Conceded by Samir Handanovi...\n",
       "4521  https://www.espn.com/soccer/report?gameId=522667  ...  Marco D'Alessandro (Udinese) wins a free kick ...\n",
       "4522  https://www.espn.com/soccer/report?gameId=522804  ...  Goal!  Inter Milan 1, Torino 0. Ivan Perisic (...\n",
       "\n",
       "[4523 rows x 5 columns]"
      ]
     },
     "execution_count": 36,
     "metadata": {},
     "output_type": "execute_result"
    }
   ],
   "source": [
    "pd_matches_sum"
   ]
  },
  {
   "cell_type": "markdown",
   "metadata": {},
   "source": [
    "## Evaluación"
   ]
  },
  {
   "cell_type": "code",
   "execution_count": 110,
   "metadata": {},
   "outputs": [
    {
     "name": "stdout",
     "output_type": "stream",
     "text": [
      "Setting target metric to rouge\n"
     ]
    }
   ],
   "source": [
    "evaluation = SummaryEvaluation(metric='rouge')"
   ]
  },
  {
   "cell_type": "markdown",
   "metadata": {},
   "source": [
    "### Sin procesar"
   ]
  },
  {
   "cell_type": "code",
   "execution_count": 111,
   "metadata": {},
   "outputs": [],
   "source": [
    "file_name = 'model_rank_gbt'"
   ]
  },
  {
   "cell_type": "code",
   "execution_count": 112,
   "metadata": {},
   "outputs": [],
   "source": [
    "path = '{}/summaries/rouge/{}'.format(conf.METRICS_PATH, file_name)"
   ]
  },
  {
   "cell_type": "code",
   "execution_count": 114,
   "metadata": {},
   "outputs": [
    {
     "name": "stdout",
     "output_type": "stream",
     "text": [
      "Performing evaluation for 4523 articles\n",
      "Writing to /home/carlos/MasterDS/tfm/data/metrics/summaries/rouge/model_rank_gbt.pickle\n",
      "Writing avg to /home/carlos/MasterDS/tfm/data/metrics/summaries/rouge/model_rank_gbt_avg.pickle\n"
     ]
    }
   ],
   "source": [
    "scores_dict, avg_scores_dict = evaluation.evaluate(pd_matches_sum, path,\n",
    "                                                   preprocess_text=False)"
   ]
  },
  {
   "cell_type": "code",
   "execution_count": 115,
   "metadata": {},
   "outputs": [
    {
     "data": {
      "text/plain": [
       "{'rouge-1': {'f': 0.20276205811977818,\n",
       "  'p': 0.20719857786520804,\n",
       "  'r': 0.23951184236461787},\n",
       " 'rouge-2': {'f': 0.03983985919013643,\n",
       "  'p': 0.042021128445087895,\n",
       "  'r': 0.04656215404694944},\n",
       " 'rouge-l': {'f': 0.1970217252137998,\n",
       "  'p': 0.2958964281227826,\n",
       "  'r': 0.15865173221948106}}"
      ]
     },
     "execution_count": 115,
     "metadata": {},
     "output_type": "execute_result"
    }
   ],
   "source": [
    "avg_scores_dict"
   ]
  },
  {
   "cell_type": "markdown",
   "metadata": {},
   "source": [
    "### Con procesado"
   ]
  },
  {
   "cell_type": "code",
   "execution_count": 122,
   "metadata": {},
   "outputs": [],
   "source": [
    "file_name = 'model_rank_gbt_processed'"
   ]
  },
  {
   "cell_type": "code",
   "execution_count": 123,
   "metadata": {},
   "outputs": [],
   "source": [
    "path = '{}/summaries/rouge/{}'.format(conf.METRICS_PATH, file_name)"
   ]
  },
  {
   "cell_type": "code",
   "execution_count": 124,
   "metadata": {},
   "outputs": [
    {
     "name": "stdout",
     "output_type": "stream",
     "text": [
      "Performing evaluation for 4523 articles\n",
      "Writing to /home/carlos/MasterDS/tfm/data/metrics/summaries/rouge/model_rank_gbt_processed.pickle\n",
      "Writing avg to /home/carlos/MasterDS/tfm/data/metrics/summaries/rouge/model_rank_gbt_processed_avg.pickle\n"
     ]
    }
   ],
   "source": [
    "scores_dict, avg_scores_dict = evaluation.evaluate(pd_matches_sum, path,\n",
    "                                                   preprocess_text=True)"
   ]
  },
  {
   "cell_type": "code",
   "execution_count": 119,
   "metadata": {},
   "outputs": [
    {
     "data": {
      "text/plain": [
       "{'rouge-1': {'f': 0.1862690636642679,\n",
       "  'p': 0.18121337137449792,\n",
       "  'r': 0.23654912956406168},\n",
       " 'rouge-2': {'f': 0.0541520771717992,\n",
       "  'p': 0.05196353708804493,\n",
       "  'r': 0.07016734074984458},\n",
       " 'rouge-l': {'f': 0.24382403170381378,\n",
       "  'p': 0.346439828049648,\n",
       "  'r': 0.20424213646524558}}"
      ]
     },
     "execution_count": 119,
     "metadata": {},
     "output_type": "execute_result"
    }
   ],
   "source": [
    "avg_scores_dict"
   ]
  },
  {
   "cell_type": "markdown",
   "metadata": {},
   "source": [
    "# Con todos los resumenes"
   ]
  },
  {
   "cell_type": "code",
   "execution_count": 75,
   "metadata": {},
   "outputs": [
    {
     "name": "stdout",
     "output_type": "stream",
     "text": [
      "Evaluating the following summaries: ['key_events_summaries_1.csv', 'key_events_summaries_3.csv', 'key_events_summaries_4.csv', 'key_events_summaries_graph_2.csv', 'key_events_summaries_graph_3.csv', 'key_events_summaries_2.csv', 'key_events_summaries_graph_5.csv', 'key_events_summaries_graph_1.csv', 'key_events_summaries_graph_4.csv']\n",
      "Evaluating key_events_summaries_1.csv\n",
      "Metrics already exist\n",
      "Evaluating key_events_summaries_3.csv\n",
      "Metrics already exist\n",
      "Evaluating key_events_summaries_4.csv\n",
      "Metrics already exist\n",
      "Evaluating key_events_summaries_graph_2.csv\n",
      "Metrics already exist\n",
      "Evaluating key_events_summaries_graph_3.csv\n",
      "Metrics already exist\n",
      "Evaluating key_events_summaries_2.csv\n",
      "Metrics already exist\n",
      "Evaluating key_events_summaries_graph_5.csv\n",
      "Metrics already exist\n",
      "Evaluating key_events_summaries_graph_1.csv\n",
      "Metrics already exist\n",
      "Evaluating key_events_summaries_graph_4.csv\n",
      "Metrics already exist\n",
      "CPU times: user 1.76 s, sys: 172 ms, total: 1.93 s\n",
      "Wall time: 2.71 s\n"
     ]
    }
   ],
   "source": [
    "%%time\n",
    "evaluation.evaluate_all_summaries()"
   ]
  },
  {
   "cell_type": "code",
   "execution_count": 125,
   "metadata": {},
   "outputs": [],
   "source": [
    "pd_metrics = evaluation.output_avg_metrics()"
   ]
  },
  {
   "cell_type": "code",
   "execution_count": 126,
   "metadata": {},
   "outputs": [
    {
     "data": {
      "text/html": [
       "<div>\n",
       "<style scoped>\n",
       "    .dataframe tbody tr th:only-of-type {\n",
       "        vertical-align: middle;\n",
       "    }\n",
       "\n",
       "    .dataframe tbody tr th {\n",
       "        vertical-align: top;\n",
       "    }\n",
       "\n",
       "    .dataframe thead tr th {\n",
       "        text-align: left;\n",
       "    }\n",
       "\n",
       "    .dataframe thead tr:last-of-type th {\n",
       "        text-align: right;\n",
       "    }\n",
       "</style>\n",
       "<table border=\"1\" class=\"dataframe\">\n",
       "  <thead>\n",
       "    <tr>\n",
       "      <th>metric</th>\n",
       "      <th colspan=\"3\" halign=\"left\">rouge-1</th>\n",
       "      <th colspan=\"3\" halign=\"left\">rouge-2</th>\n",
       "      <th colspan=\"3\" halign=\"left\">rouge-l</th>\n",
       "    </tr>\n",
       "    <tr>\n",
       "      <th>metric_type</th>\n",
       "      <th>f</th>\n",
       "      <th>p</th>\n",
       "      <th>r</th>\n",
       "      <th>f</th>\n",
       "      <th>p</th>\n",
       "      <th>r</th>\n",
       "      <th>f</th>\n",
       "      <th>p</th>\n",
       "      <th>r</th>\n",
       "    </tr>\n",
       "    <tr>\n",
       "      <th>experiment</th>\n",
       "      <th></th>\n",
       "      <th></th>\n",
       "      <th></th>\n",
       "      <th></th>\n",
       "      <th></th>\n",
       "      <th></th>\n",
       "      <th></th>\n",
       "      <th></th>\n",
       "      <th></th>\n",
       "    </tr>\n",
       "  </thead>\n",
       "  <tbody>\n",
       "    <tr>\n",
       "      <th>baseline_rank</th>\n",
       "      <td>0.217420</td>\n",
       "      <td>0.244630</td>\n",
       "      <td>0.225864</td>\n",
       "      <td>0.046198</td>\n",
       "      <td>0.053453</td>\n",
       "      <td>0.047444</td>\n",
       "      <td>0.200956</td>\n",
       "      <td>0.327370</td>\n",
       "      <td>0.155132</td>\n",
       "    </tr>\n",
       "    <tr>\n",
       "      <th>baseline_rank_processed</th>\n",
       "      <td>0.214708</td>\n",
       "      <td>0.221810</td>\n",
       "      <td>0.243826</td>\n",
       "      <td>0.060661</td>\n",
       "      <td>0.061520</td>\n",
       "      <td>0.070342</td>\n",
       "      <td>0.260602</td>\n",
       "      <td>0.396917</td>\n",
       "      <td>0.208477</td>\n",
       "    </tr>\n",
       "    <tr>\n",
       "      <th>key_events_summaries_1</th>\n",
       "      <td>0.152305</td>\n",
       "      <td>0.337611</td>\n",
       "      <td>0.120764</td>\n",
       "      <td>0.037226</td>\n",
       "      <td>0.099268</td>\n",
       "      <td>0.028425</td>\n",
       "      <td>0.148213</td>\n",
       "      <td>0.404838</td>\n",
       "      <td>0.101478</td>\n",
       "    </tr>\n",
       "    <tr>\n",
       "      <th>key_events_summaries_1_processed</th>\n",
       "      <td>0.195851</td>\n",
       "      <td>0.520812</td>\n",
       "      <td>0.152725</td>\n",
       "      <td>0.062947</td>\n",
       "      <td>0.186978</td>\n",
       "      <td>0.048554</td>\n",
       "      <td>0.209574</td>\n",
       "      <td>0.615943</td>\n",
       "      <td>0.142189</td>\n",
       "    </tr>\n",
       "    <tr>\n",
       "      <th>key_events_summaries_2</th>\n",
       "      <td>0.151979</td>\n",
       "      <td>0.338229</td>\n",
       "      <td>0.120376</td>\n",
       "      <td>0.037130</td>\n",
       "      <td>0.099623</td>\n",
       "      <td>0.028310</td>\n",
       "      <td>0.147826</td>\n",
       "      <td>0.405996</td>\n",
       "      <td>0.101074</td>\n",
       "    </tr>\n",
       "    <tr>\n",
       "      <th>key_events_summaries_2_processed</th>\n",
       "      <td>0.195232</td>\n",
       "      <td>0.522998</td>\n",
       "      <td>0.151988</td>\n",
       "      <td>0.062645</td>\n",
       "      <td>0.187916</td>\n",
       "      <td>0.048229</td>\n",
       "      <td>0.208813</td>\n",
       "      <td>0.618418</td>\n",
       "      <td>0.141428</td>\n",
       "    </tr>\n",
       "    <tr>\n",
       "      <th>key_events_summaries_3</th>\n",
       "      <td>0.152305</td>\n",
       "      <td>0.337611</td>\n",
       "      <td>0.120764</td>\n",
       "      <td>0.037226</td>\n",
       "      <td>0.099268</td>\n",
       "      <td>0.028425</td>\n",
       "      <td>0.148213</td>\n",
       "      <td>0.404838</td>\n",
       "      <td>0.101478</td>\n",
       "    </tr>\n",
       "    <tr>\n",
       "      <th>key_events_summaries_3_processed</th>\n",
       "      <td>0.195851</td>\n",
       "      <td>0.520812</td>\n",
       "      <td>0.152725</td>\n",
       "      <td>0.062947</td>\n",
       "      <td>0.186978</td>\n",
       "      <td>0.048554</td>\n",
       "      <td>0.209574</td>\n",
       "      <td>0.615943</td>\n",
       "      <td>0.142189</td>\n",
       "    </tr>\n",
       "    <tr>\n",
       "      <th>key_events_summaries_4</th>\n",
       "      <td>0.151979</td>\n",
       "      <td>0.338229</td>\n",
       "      <td>0.120376</td>\n",
       "      <td>0.037130</td>\n",
       "      <td>0.099623</td>\n",
       "      <td>0.028310</td>\n",
       "      <td>0.147826</td>\n",
       "      <td>0.405996</td>\n",
       "      <td>0.101074</td>\n",
       "    </tr>\n",
       "    <tr>\n",
       "      <th>key_events_summaries_4_processed</th>\n",
       "      <td>0.195232</td>\n",
       "      <td>0.522998</td>\n",
       "      <td>0.151988</td>\n",
       "      <td>0.062645</td>\n",
       "      <td>0.187916</td>\n",
       "      <td>0.048229</td>\n",
       "      <td>0.208813</td>\n",
       "      <td>0.618418</td>\n",
       "      <td>0.141428</td>\n",
       "    </tr>\n",
       "    <tr>\n",
       "      <th>key_events_summaries_graph_1</th>\n",
       "      <td>0.176339</td>\n",
       "      <td>0.155282</td>\n",
       "      <td>0.251348</td>\n",
       "      <td>0.035792</td>\n",
       "      <td>0.032529</td>\n",
       "      <td>0.050188</td>\n",
       "      <td>0.189669</td>\n",
       "      <td>0.270450</td>\n",
       "      <td>0.157788</td>\n",
       "    </tr>\n",
       "    <tr>\n",
       "      <th>key_events_summaries_graph_1_processed</th>\n",
       "      <td>0.131490</td>\n",
       "      <td>0.107596</td>\n",
       "      <td>0.219318</td>\n",
       "      <td>0.033865</td>\n",
       "      <td>0.027657</td>\n",
       "      <td>0.058878</td>\n",
       "      <td>0.215488</td>\n",
       "      <td>0.280576</td>\n",
       "      <td>0.191649</td>\n",
       "    </tr>\n",
       "    <tr>\n",
       "      <th>key_events_summaries_graph_2</th>\n",
       "      <td>0.151728</td>\n",
       "      <td>0.120522</td>\n",
       "      <td>0.272808</td>\n",
       "      <td>0.029401</td>\n",
       "      <td>0.024034</td>\n",
       "      <td>0.052256</td>\n",
       "      <td>0.197920</td>\n",
       "      <td>0.269437</td>\n",
       "      <td>0.169490</td>\n",
       "    </tr>\n",
       "    <tr>\n",
       "      <th>key_events_summaries_graph_2_processed</th>\n",
       "      <td>0.122147</td>\n",
       "      <td>0.091738</td>\n",
       "      <td>0.256209</td>\n",
       "      <td>0.032860</td>\n",
       "      <td>0.024790</td>\n",
       "      <td>0.072010</td>\n",
       "      <td>0.235995</td>\n",
       "      <td>0.291261</td>\n",
       "      <td>0.218201</td>\n",
       "    </tr>\n",
       "    <tr>\n",
       "      <th>key_events_summaries_graph_3</th>\n",
       "      <td>0.176339</td>\n",
       "      <td>0.155282</td>\n",
       "      <td>0.251348</td>\n",
       "      <td>0.035792</td>\n",
       "      <td>0.032529</td>\n",
       "      <td>0.050188</td>\n",
       "      <td>0.189669</td>\n",
       "      <td>0.270450</td>\n",
       "      <td>0.157788</td>\n",
       "    </tr>\n",
       "    <tr>\n",
       "      <th>key_events_summaries_graph_3_processed</th>\n",
       "      <td>0.131490</td>\n",
       "      <td>0.107596</td>\n",
       "      <td>0.219318</td>\n",
       "      <td>0.033865</td>\n",
       "      <td>0.027657</td>\n",
       "      <td>0.058878</td>\n",
       "      <td>0.215488</td>\n",
       "      <td>0.280576</td>\n",
       "      <td>0.191649</td>\n",
       "    </tr>\n",
       "    <tr>\n",
       "      <th>key_events_summaries_graph_4</th>\n",
       "      <td>0.151728</td>\n",
       "      <td>0.120522</td>\n",
       "      <td>0.272808</td>\n",
       "      <td>0.029401</td>\n",
       "      <td>0.024034</td>\n",
       "      <td>0.052256</td>\n",
       "      <td>0.197920</td>\n",
       "      <td>0.269437</td>\n",
       "      <td>0.169490</td>\n",
       "    </tr>\n",
       "    <tr>\n",
       "      <th>key_events_summaries_graph_4_processed</th>\n",
       "      <td>0.122147</td>\n",
       "      <td>0.091738</td>\n",
       "      <td>0.256209</td>\n",
       "      <td>0.032860</td>\n",
       "      <td>0.024790</td>\n",
       "      <td>0.072010</td>\n",
       "      <td>0.235995</td>\n",
       "      <td>0.291261</td>\n",
       "      <td>0.218201</td>\n",
       "    </tr>\n",
       "    <tr>\n",
       "      <th>key_events_summaries_graph_5</th>\n",
       "      <td>0.173270</td>\n",
       "      <td>0.140934</td>\n",
       "      <td>0.275796</td>\n",
       "      <td>0.034431</td>\n",
       "      <td>0.028395</td>\n",
       "      <td>0.054379</td>\n",
       "      <td>0.199062</td>\n",
       "      <td>0.265995</td>\n",
       "      <td>0.171442</td>\n",
       "    </tr>\n",
       "    <tr>\n",
       "      <th>key_events_summaries_graph_5_processed</th>\n",
       "      <td>0.134658</td>\n",
       "      <td>0.101599</td>\n",
       "      <td>0.248504</td>\n",
       "      <td>0.033602</td>\n",
       "      <td>0.024837</td>\n",
       "      <td>0.064676</td>\n",
       "      <td>0.230492</td>\n",
       "      <td>0.288569</td>\n",
       "      <td>0.209462</td>\n",
       "    </tr>\n",
       "    <tr>\n",
       "      <th>model_rank</th>\n",
       "      <td>0.213064</td>\n",
       "      <td>0.250136</td>\n",
       "      <td>0.218950</td>\n",
       "      <td>0.045200</td>\n",
       "      <td>0.055650</td>\n",
       "      <td>0.045497</td>\n",
       "      <td>0.194619</td>\n",
       "      <td>0.301360</td>\n",
       "      <td>0.154827</td>\n",
       "    </tr>\n",
       "    <tr>\n",
       "      <th>model_rank_gbt</th>\n",
       "      <td>0.202762</td>\n",
       "      <td>0.207199</td>\n",
       "      <td>0.239512</td>\n",
       "      <td>0.039840</td>\n",
       "      <td>0.042021</td>\n",
       "      <td>0.046562</td>\n",
       "      <td>0.197022</td>\n",
       "      <td>0.295896</td>\n",
       "      <td>0.158652</td>\n",
       "    </tr>\n",
       "    <tr>\n",
       "      <th>model_rank_gbt_processed</th>\n",
       "      <td>0.186269</td>\n",
       "      <td>0.181213</td>\n",
       "      <td>0.236549</td>\n",
       "      <td>0.054152</td>\n",
       "      <td>0.051964</td>\n",
       "      <td>0.070167</td>\n",
       "      <td>0.243824</td>\n",
       "      <td>0.346440</td>\n",
       "      <td>0.204242</td>\n",
       "    </tr>\n",
       "    <tr>\n",
       "      <th>model_rank_processed</th>\n",
       "      <td>0.219669</td>\n",
       "      <td>0.242492</td>\n",
       "      <td>0.241968</td>\n",
       "      <td>0.062444</td>\n",
       "      <td>0.068352</td>\n",
       "      <td>0.069649</td>\n",
       "      <td>0.252118</td>\n",
       "      <td>0.366211</td>\n",
       "      <td>0.208861</td>\n",
       "    </tr>\n",
       "    <tr>\n",
       "      <th>upper_bound</th>\n",
       "      <td>0.105305</td>\n",
       "      <td>0.067818</td>\n",
       "      <td>0.361353</td>\n",
       "      <td>0.021309</td>\n",
       "      <td>0.013826</td>\n",
       "      <td>0.073771</td>\n",
       "      <td>0.218348</td>\n",
       "      <td>0.228750</td>\n",
       "      <td>0.232812</td>\n",
       "    </tr>\n",
       "  </tbody>\n",
       "</table>\n",
       "</div>"
      ],
      "text/plain": [
       "metric                                   rouge-1            ...   rouge-l          \n",
       "metric_type                                    f         p  ...         p         r\n",
       "experiment                                                  ...                    \n",
       "baseline_rank                           0.217420  0.244630  ...  0.327370  0.155132\n",
       "baseline_rank_processed                 0.214708  0.221810  ...  0.396917  0.208477\n",
       "key_events_summaries_1                  0.152305  0.337611  ...  0.404838  0.101478\n",
       "key_events_summaries_1_processed        0.195851  0.520812  ...  0.615943  0.142189\n",
       "key_events_summaries_2                  0.151979  0.338229  ...  0.405996  0.101074\n",
       "key_events_summaries_2_processed        0.195232  0.522998  ...  0.618418  0.141428\n",
       "key_events_summaries_3                  0.152305  0.337611  ...  0.404838  0.101478\n",
       "key_events_summaries_3_processed        0.195851  0.520812  ...  0.615943  0.142189\n",
       "key_events_summaries_4                  0.151979  0.338229  ...  0.405996  0.101074\n",
       "key_events_summaries_4_processed        0.195232  0.522998  ...  0.618418  0.141428\n",
       "key_events_summaries_graph_1            0.176339  0.155282  ...  0.270450  0.157788\n",
       "key_events_summaries_graph_1_processed  0.131490  0.107596  ...  0.280576  0.191649\n",
       "key_events_summaries_graph_2            0.151728  0.120522  ...  0.269437  0.169490\n",
       "key_events_summaries_graph_2_processed  0.122147  0.091738  ...  0.291261  0.218201\n",
       "key_events_summaries_graph_3            0.176339  0.155282  ...  0.270450  0.157788\n",
       "key_events_summaries_graph_3_processed  0.131490  0.107596  ...  0.280576  0.191649\n",
       "key_events_summaries_graph_4            0.151728  0.120522  ...  0.269437  0.169490\n",
       "key_events_summaries_graph_4_processed  0.122147  0.091738  ...  0.291261  0.218201\n",
       "key_events_summaries_graph_5            0.173270  0.140934  ...  0.265995  0.171442\n",
       "key_events_summaries_graph_5_processed  0.134658  0.101599  ...  0.288569  0.209462\n",
       "model_rank                              0.213064  0.250136  ...  0.301360  0.154827\n",
       "model_rank_gbt                          0.202762  0.207199  ...  0.295896  0.158652\n",
       "model_rank_gbt_processed                0.186269  0.181213  ...  0.346440  0.204242\n",
       "model_rank_processed                    0.219669  0.242492  ...  0.366211  0.208861\n",
       "upper_bound                             0.105305  0.067818  ...  0.228750  0.232812\n",
       "\n",
       "[25 rows x 9 columns]"
      ]
     },
     "execution_count": 126,
     "metadata": {},
     "output_type": "execute_result"
    }
   ],
   "source": [
    "pd.pivot_table(pd_metrics, index='experiment', columns=['metric', 'metric_type'], values='value')"
   ]
  },
  {
   "cell_type": "code",
   "execution_count": 14,
   "metadata": {},
   "outputs": [
    {
     "name": "stdout",
     "output_type": "stream",
     "text": [
      "Performing evaluation for 4523 articles\n",
      "Writing to /home/carlos/MasterDS/tfm/data/metrics/summaries/rouge/upper_bound.pickle\n",
      "Writing avg to /home/carlos/MasterDS/tfm/data/metrics/summaries/rouge/upper_bound_avg.pickle\n"
     ]
    }
   ],
   "source": [
    "evaluation.bound_metrics()"
   ]
  },
  {
   "cell_type": "code",
   "execution_count": 26,
   "metadata": {},
   "outputs": [],
   "source": [
    "pd_bound = evaluation.output_avg_bound()"
   ]
  },
  {
   "cell_type": "code",
   "execution_count": 27,
   "metadata": {},
   "outputs": [
    {
     "data": {
      "text/html": [
       "<div>\n",
       "<style scoped>\n",
       "    .dataframe tbody tr th:only-of-type {\n",
       "        vertical-align: middle;\n",
       "    }\n",
       "\n",
       "    .dataframe tbody tr th {\n",
       "        vertical-align: top;\n",
       "    }\n",
       "\n",
       "    .dataframe thead th {\n",
       "        text-align: right;\n",
       "    }\n",
       "</style>\n",
       "<table border=\"1\" class=\"dataframe\">\n",
       "  <thead>\n",
       "    <tr style=\"text-align: right;\">\n",
       "      <th></th>\n",
       "      <th>metric</th>\n",
       "      <th>metric_type</th>\n",
       "      <th>value</th>\n",
       "    </tr>\n",
       "  </thead>\n",
       "  <tbody>\n",
       "    <tr>\n",
       "      <th>0</th>\n",
       "      <td>rouge-1</td>\n",
       "      <td>f</td>\n",
       "      <td>0.105305</td>\n",
       "    </tr>\n",
       "    <tr>\n",
       "      <th>1</th>\n",
       "      <td>rouge-1</td>\n",
       "      <td>p</td>\n",
       "      <td>0.067818</td>\n",
       "    </tr>\n",
       "    <tr>\n",
       "      <th>2</th>\n",
       "      <td>rouge-1</td>\n",
       "      <td>r</td>\n",
       "      <td>0.361353</td>\n",
       "    </tr>\n",
       "    <tr>\n",
       "      <th>3</th>\n",
       "      <td>rouge-2</td>\n",
       "      <td>f</td>\n",
       "      <td>0.021309</td>\n",
       "    </tr>\n",
       "    <tr>\n",
       "      <th>4</th>\n",
       "      <td>rouge-2</td>\n",
       "      <td>p</td>\n",
       "      <td>0.013826</td>\n",
       "    </tr>\n",
       "    <tr>\n",
       "      <th>5</th>\n",
       "      <td>rouge-2</td>\n",
       "      <td>r</td>\n",
       "      <td>0.073771</td>\n",
       "    </tr>\n",
       "    <tr>\n",
       "      <th>6</th>\n",
       "      <td>rouge-l</td>\n",
       "      <td>f</td>\n",
       "      <td>0.218348</td>\n",
       "    </tr>\n",
       "    <tr>\n",
       "      <th>7</th>\n",
       "      <td>rouge-l</td>\n",
       "      <td>p</td>\n",
       "      <td>0.228750</td>\n",
       "    </tr>\n",
       "    <tr>\n",
       "      <th>8</th>\n",
       "      <td>rouge-l</td>\n",
       "      <td>r</td>\n",
       "      <td>0.232812</td>\n",
       "    </tr>\n",
       "  </tbody>\n",
       "</table>\n",
       "</div>"
      ],
      "text/plain": [
       "    metric metric_type     value\n",
       "0  rouge-1           f  0.105305\n",
       "1  rouge-1           p  0.067818\n",
       "2  rouge-1           r  0.361353\n",
       "3  rouge-2           f  0.021309\n",
       "4  rouge-2           p  0.013826\n",
       "5  rouge-2           r  0.073771\n",
       "6  rouge-l           f  0.218348\n",
       "7  rouge-l           p  0.228750\n",
       "8  rouge-l           r  0.232812"
      ]
     },
     "execution_count": 27,
     "metadata": {},
     "output_type": "execute_result"
    }
   ],
   "source": [
    "pd_bound"
   ]
  }
 ],
 "metadata": {
  "kernelspec": {
   "display_name": "Python 3",
   "language": "python",
   "name": "python3"
  },
  "language_info": {
   "codemirror_mode": {
    "name": "ipython",
    "version": 3
   },
   "file_extension": ".py",
   "mimetype": "text/x-python",
   "name": "python",
   "nbconvert_exporter": "python",
   "pygments_lexer": "ipython3",
   "version": "3.7.7"
  }
 },
 "nbformat": 4,
 "nbformat_minor": 4
}
