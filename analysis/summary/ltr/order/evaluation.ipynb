{
 "cells": [
  {
   "cell_type": "code",
   "execution_count": 1,
   "metadata": {},
   "outputs": [],
   "source": [
    "MAIN_PATH = \"/home/carlos/MasterDS/tfm\"\n",
    "JSON_DATA_PATH = '{}/data/json/'.format(MAIN_PATH)\n",
    "CSV_DATA_PATH = '{}/data/csv/'.format(MAIN_PATH)"
   ]
  },
  {
   "cell_type": "code",
   "execution_count": 2,
   "metadata": {},
   "outputs": [],
   "source": [
    "import sys\n",
    "sys.path.insert(0, MAIN_PATH)"
   ]
  },
  {
   "cell_type": "code",
   "execution_count": 10,
   "metadata": {},
   "outputs": [
    {
     "name": "stdout",
     "output_type": "stream",
     "text": [
      "The autoreload extension is already loaded. To reload it, use:\n",
      "  %reload_ext autoreload\n"
     ]
    }
   ],
   "source": [
    "%load_ext autoreload\n",
    "%autoreload 2\n",
    "from scripts.metrics.summary_evaluation import SummaryEvaluation\n",
    "from scripts.models.rank_with_model.rank_with_model import RankModel\n",
    "from scripts.models.baseline_rank.baseline_rank import BaselineRank\n",
    "from scripts.models.ltr.train import LTRTrain\n",
    "from scripts.extractive_summary.ltr.ltr_features_targets import LTRFeaturesTargets\n",
    "from scripts.models.ltr_gbt.train import LTRGBTTrain\n",
    "from scripts.models.ltr_svm_tf.train import LTRSVMTFTrain\n",
    "from scripts.models.ltr_nn_tf.train import LTRNNTFTrain\n",
    "from scripts import conf\n",
    "%reload_ext autoreload"
   ]
  },
  {
   "cell_type": "code",
   "execution_count": 4,
   "metadata": {},
   "outputs": [],
   "source": [
    "import pandas as pd"
   ]
  },
  {
   "cell_type": "markdown",
   "metadata": {},
   "source": [
    "# Evaluación"
   ]
  },
  {
   "cell_type": "markdown",
   "metadata": {},
   "source": [
    "Se usará el mismo desarrollo que se utilizó cuando se calcularon las métricas de los resúmenes generados por eventos clave y por grafos\n",
    "conceptuales"
   ]
  },
  {
   "cell_type": "markdown",
   "metadata": {},
   "source": [
    "# Baseline"
   ]
  },
  {
   "cell_type": "markdown",
   "metadata": {},
   "source": [
    "## Carga de datos"
   ]
  },
  {
   "cell_type": "code",
   "execution_count": 20,
   "metadata": {},
   "outputs": [],
   "source": [
    "key_events = ['goal', 'red_card', 'penalty']\n",
    "lags = [1, 3, 5]\n",
    "target_metric = 'cosine_tfidf'\n",
    "drop_teams = True\n",
    "lemma = True\n",
    "metric_params = {'ngram_range': (1, 2), 'strip_accents': 'unicode'}\n",
    "count_vec_kwargs = {'ngram_range': (1, 2), 'strip_accents': 'unicode'}"
   ]
  },
  {
   "cell_type": "code",
   "execution_count": 21,
   "metadata": {},
   "outputs": [
    {
     "name": "stdout",
     "output_type": "stream",
     "text": [
      "Setting target metric to cosine_tfidf\n"
     ]
    }
   ],
   "source": [
    "ltr = LTRFeaturesTargets(target_metric=target_metric, \n",
    "                        key_events=key_events,\n",
    "                        lags=lags,\n",
    "                        metric_params=metric_params,\n",
    "                        count_vec_kwargs=count_vec_kwargs,\n",
    "                        drop_teams=drop_teams,\n",
    "                        lemma=lemma)"
   ]
  },
  {
   "cell_type": "code",
   "execution_count": 22,
   "metadata": {},
   "outputs": [
    {
     "name": "stdout",
     "output_type": "stream",
     "text": [
      "Received LTR Features targets. Training and scoring are not necessary\n"
     ]
    }
   ],
   "source": [
    "rank = BaselineRank(ltr=ltr, n=10)"
   ]
  },
  {
   "cell_type": "code",
   "execution_count": 23,
   "metadata": {},
   "outputs": [
    {
     "name": "stdout",
     "output_type": "stream",
     "text": [
      "Ranking events using row_number approach...\n",
      "Saving to /home/carlos/MasterDS/tfm/models/baseline_rank/34e2c72e03/summaries.csv\n"
     ]
    }
   ],
   "source": [
    "rank.run()"
   ]
  },
  {
   "cell_type": "code",
   "execution_count": 24,
   "metadata": {},
   "outputs": [
    {
     "data": {
      "text/plain": [
       "'cosine_tfidf'"
      ]
     },
     "execution_count": 24,
     "metadata": {},
     "output_type": "execute_result"
    }
   ],
   "source": [
    "rank.ltr.target_metric"
   ]
  },
  {
   "cell_type": "markdown",
   "metadata": {},
   "source": [
    "## Evaluación"
   ]
  },
  {
   "cell_type": "code",
   "execution_count": 25,
   "metadata": {},
   "outputs": [
    {
     "name": "stdout",
     "output_type": "stream",
     "text": [
      "Setting target metric to rouge\n"
     ]
    }
   ],
   "source": [
    "evaluation = SummaryEvaluation(metric='rouge')"
   ]
  },
  {
   "cell_type": "markdown",
   "metadata": {},
   "source": [
    "### Sin procesar"
   ]
  },
  {
   "cell_type": "code",
   "execution_count": 26,
   "metadata": {},
   "outputs": [
    {
     "name": "stdout",
     "output_type": "stream",
     "text": [
      "Ranked summaries already exist\n",
      "Reading ranked summaries from /home/carlos/MasterDS/tfm/models/baseline_rank/34e2c72e03/summaries.csv\n",
      "Saving to /home/carlos/MasterDS/tfm/data/metrics/summaries/rouge/baseline_rank_cosine_tfidf\n",
      "Performing evaluation for 4523 articles\n",
      "Writing to /home/carlos/MasterDS/tfm/data/metrics/summaries/rouge/baseline_rank_cosine_tfidf.pickle\n",
      "Writing avg to /home/carlos/MasterDS/tfm/data/metrics/summaries/rouge/baseline_rank_cosine_tfidf_avg.pickle\n"
     ]
    }
   ],
   "source": [
    "scores_dict, avg_scores_dict = evaluation.evaluate_rank(rank,\n",
    "                                                   preprocess_text=False)"
   ]
  },
  {
   "cell_type": "code",
   "execution_count": 27,
   "metadata": {},
   "outputs": [
    {
     "data": {
      "text/plain": [
       "{'rouge-1': {'f': 0.19979229468420182,\n",
       "  'p': 0.24900335591362643,\n",
       "  'r': 0.1948519608845315},\n",
       " 'rouge-2': {'f': 0.043968174546395476,\n",
       "  'p': 0.05707513269938273,\n",
       "  'r': 0.04218564407361283},\n",
       " 'rouge-l': {'f': 0.1885891367106406,\n",
       "  'p': 0.3205694129713662,\n",
       "  'r': 0.14408239323536431}}"
      ]
     },
     "execution_count": 27,
     "metadata": {},
     "output_type": "execute_result"
    }
   ],
   "source": [
    "avg_scores_dict"
   ]
  },
  {
   "cell_type": "markdown",
   "metadata": {},
   "source": [
    "### Con procesado"
   ]
  },
  {
   "cell_type": "code",
   "execution_count": 28,
   "metadata": {},
   "outputs": [
    {
     "name": "stdout",
     "output_type": "stream",
     "text": [
      "Ranked summaries already exist\n",
      "Reading ranked summaries from /home/carlos/MasterDS/tfm/models/baseline_rank/34e2c72e03/summaries.csv\n",
      "Saving to /home/carlos/MasterDS/tfm/data/metrics/summaries/rouge/baseline_rank_cosine_tfidf_processed\n",
      "Performing evaluation for 4523 articles\n",
      "Writing to /home/carlos/MasterDS/tfm/data/metrics/summaries/rouge/baseline_rank_cosine_tfidf_processed.pickle\n",
      "Writing avg to /home/carlos/MasterDS/tfm/data/metrics/summaries/rouge/baseline_rank_cosine_tfidf_processed_avg.pickle\n"
     ]
    }
   ],
   "source": [
    "scores_dict, avg_scores_dict = evaluation.evaluate_rank(rank,\n",
    "                                                   preprocess_text=True)"
   ]
  },
  {
   "cell_type": "code",
   "execution_count": 29,
   "metadata": {},
   "outputs": [
    {
     "data": {
      "text/plain": [
       "{'rouge-1': {'f': 0.20614710520254323,\n",
       "  'p': 0.2370105533948301,\n",
       "  'r': 0.21777546369970727},\n",
       " 'rouge-2': {'f': 0.06223472563933338,\n",
       "  'p': 0.0705535173269253,\n",
       "  'r': 0.06670498029156349},\n",
       " 'rouge-l': {'f': 0.23652474459866485,\n",
       "  'p': 0.37782913410707086,\n",
       "  'r': 0.1873853769149725}}"
      ]
     },
     "execution_count": 29,
     "metadata": {},
     "output_type": "execute_result"
    }
   ],
   "source": [
    "avg_scores_dict"
   ]
  },
  {
   "cell_type": "markdown",
   "metadata": {},
   "source": [
    "# Random forest"
   ]
  },
  {
   "cell_type": "markdown",
   "metadata": {},
   "source": [
    "## Carga de datos"
   ]
  },
  {
   "cell_type": "code",
   "execution_count": 87,
   "metadata": {},
   "outputs": [],
   "source": [
    "ltr_params = {\n",
    "    'key_events': ['goal', 'red_card', 'penalty'],\n",
    "    'lags': [1, 3, 5],\n",
    "    'target_metric': 'rouge',\n",
    "    'drop_teams': True,\n",
    "    'lemma': True,\n",
    "    'metric_params': {'rouge_mode': 'rouge-1', 'rouge_metric': 'r'},\n",
    "    'count_vec_kwargs': {'ngram_range': (1, 2), 'strip_accents': 'unicode'}\n",
    "}\n",
    "num_features = ['tfidf_sum']\n",
    "cat_features_dict = {'is_key_event': [0, 1],\n",
    "                     'n_players_cat': ['no_player', 'one_player', 'more_than_one_player']}\n",
    "\n",
    "model_params = {\n",
    "    'n_estimators': [100, 200, 500],\n",
    "    'max_depth': [2, 5, 7],\n",
    "    'bootstrap': [True],\n",
    "    \n",
    "}\n",
    "cv = 5\n",
    "opt_metric = 'neg_mean_squared_error'"
   ]
  },
  {
   "cell_type": "code",
   "execution_count": 20,
   "metadata": {},
   "outputs": [
    {
     "name": "stdout",
     "output_type": "stream",
     "text": [
      "Setting target metric to cosine_tfidf\n"
     ]
    }
   ],
   "source": [
    "ltr_train = LTRTrain(cat_features_dict=cat_features_dict, num_features=num_features,\n",
    "                     model_params=model_params, ltr_params=ltr_params)"
   ]
  },
  {
   "cell_type": "code",
   "execution_count": 88,
   "metadata": {},
   "outputs": [
    {
     "name": "stdout",
     "output_type": "stream",
     "text": [
      "Setting target metric to rouge\n"
     ]
    }
   ],
   "source": [
    "#CV\n",
    "ltr_train = LTRTrain(cat_features_dict=cat_features_dict,\n",
    "                     num_features=num_features,\n",
    "                     model_params=model_params, ltr_params=ltr_params,\n",
    "                    cv=cv, opt_metric=opt_metric)"
   ]
  },
  {
   "cell_type": "code",
   "execution_count": 89,
   "metadata": {},
   "outputs": [
    {
     "name": "stdout",
     "output_type": "stream",
     "text": [
      "Model already trained\n"
     ]
    }
   ],
   "source": [
    "rank_model = RankModel(ltr_train, n=10)"
   ]
  },
  {
   "cell_type": "markdown",
   "metadata": {},
   "source": [
    "## Evaluación"
   ]
  },
  {
   "cell_type": "code",
   "execution_count": 90,
   "metadata": {},
   "outputs": [
    {
     "name": "stdout",
     "output_type": "stream",
     "text": [
      "Setting target metric to rouge\n"
     ]
    }
   ],
   "source": [
    "evaluation = SummaryEvaluation(metric='rouge')"
   ]
  },
  {
   "cell_type": "markdown",
   "metadata": {},
   "source": [
    "### Sin procesar"
   ]
  },
  {
   "cell_type": "code",
   "execution_count": 91,
   "metadata": {},
   "outputs": [
    {
     "name": "stdout",
     "output_type": "stream",
     "text": [
      "Categorizing n_players...\n",
      "Computing new length...\n",
      "Dropping {'total_length', 'url', 'score', 'event_ix', 'n_players', 'advantage', 'players_importance', 'sim_previous_1', 'n_stop', 'sim_previous_5', 'sim_previous_3', 'equalize', 'json_file', 'sentence_ix', 'length', 'position'}\n",
      "Ranking events using row_number approach...\n",
      "Saving to /home/carlos/MasterDS/tfm/models/rank_with_model/1e1b5e1354/summaries.csv\n",
      "Reading ranked summaries from /home/carlos/MasterDS/tfm/models/rank_with_model/1e1b5e1354/summaries.csv\n",
      "Saving to /home/carlos/MasterDS/tfm/data/metrics/summaries/rouge/rank_with_model_ltr_random_forest_rouge-1_r_4649644395\n",
      "Performing evaluation for 4523 articles\n",
      "Writing to /home/carlos/MasterDS/tfm/data/metrics/summaries/rouge/rank_with_model_ltr_random_forest_rouge-1_r_4649644395.pickle\n",
      "Writing avg to /home/carlos/MasterDS/tfm/data/metrics/summaries/rouge/rank_with_model_ltr_random_forest_rouge-1_r_4649644395_avg.pickle\n"
     ]
    }
   ],
   "source": [
    "scores_dict, avg_scores_dict = evaluation.evaluate_rank(rank_model,\n",
    "                                                        preprocess_text=False)"
   ]
  },
  {
   "cell_type": "code",
   "execution_count": 92,
   "metadata": {},
   "outputs": [
    {
     "data": {
      "text/plain": [
       "{'rouge-1': {'f': 0.20201338129646834,\n",
       "  'p': 0.20561044053718983,\n",
       "  'r': 0.23973303543285196},\n",
       " 'rouge-2': {'f': 0.03974249089134354,\n",
       "  'p': 0.041704530457269136,\n",
       "  'r': 0.04666785731645699},\n",
       " 'rouge-l': {'f': 0.19690542623267518,\n",
       "  'p': 0.29621237217045404,\n",
       "  'r': 0.15845738656779743}}"
      ]
     },
     "execution_count": 92,
     "metadata": {},
     "output_type": "execute_result"
    }
   ],
   "source": [
    "avg_scores_dict"
   ]
  },
  {
   "cell_type": "markdown",
   "metadata": {},
   "source": [
    "### Con procesado"
   ]
  },
  {
   "cell_type": "code",
   "execution_count": 93,
   "metadata": {},
   "outputs": [
    {
     "name": "stdout",
     "output_type": "stream",
     "text": [
      "Ranked summaries already exist\n",
      "Reading ranked summaries from /home/carlos/MasterDS/tfm/models/rank_with_model/1e1b5e1354/summaries.csv\n",
      "Saving to /home/carlos/MasterDS/tfm/data/metrics/summaries/rouge/rank_with_model_ltr_random_forest_rouge-1_r_4649644395_processed\n",
      "Performing evaluation for 4523 articles\n",
      "Writing to /home/carlos/MasterDS/tfm/data/metrics/summaries/rouge/rank_with_model_ltr_random_forest_rouge-1_r_4649644395_processed.pickle\n",
      "Writing avg to /home/carlos/MasterDS/tfm/data/metrics/summaries/rouge/rank_with_model_ltr_random_forest_rouge-1_r_4649644395_processed_avg.pickle\n"
     ]
    }
   ],
   "source": [
    "scores_dict, avg_scores_dict = evaluation.evaluate_rank(rank_model,\n",
    "                                                   preprocess_text=True)"
   ]
  },
  {
   "cell_type": "code",
   "execution_count": 94,
   "metadata": {},
   "outputs": [
    {
     "data": {
      "text/plain": [
       "{'rouge-1': {'f': 0.18425479134550568,\n",
       "  'p': 0.178717023506525,\n",
       "  'r': 0.23507950641128378},\n",
       " 'rouge-2': {'f': 0.05364293652901957,\n",
       "  'p': 0.051345724460198874,\n",
       "  'r': 0.06983185816898395},\n",
       " 'rouge-l': {'f': 0.24265352816778532,\n",
       "  'p': 0.34579861320944005,\n",
       "  'r': 0.20300152264615015}}"
      ]
     },
     "execution_count": 94,
     "metadata": {},
     "output_type": "execute_result"
    }
   ],
   "source": [
    "avg_scores_dict"
   ]
  },
  {
   "cell_type": "markdown",
   "metadata": {},
   "source": [
    "# GBT"
   ]
  },
  {
   "cell_type": "markdown",
   "metadata": {},
   "source": [
    "## Carga de datos"
   ]
  },
  {
   "cell_type": "code",
   "execution_count": 5,
   "metadata": {},
   "outputs": [],
   "source": [
    "ltr_params = {\n",
    "    'key_events': ['goal', 'red_card', 'penalty'],\n",
    "    'lags': [1, 3, 5],\n",
    "    'target_metric': 'cosine_tfidf',\n",
    "    'drop_teams': True,\n",
    "    'lemma': True,\n",
    "    'metric_params': {'ngram_range': (1, 2), 'strip_accents': 'unicode'},\n",
    "    'count_vec_kwargs': {'ngram_range': (1, 2), 'strip_accents': 'unicode'}\n",
    "}\n",
    "cat_features_dict = {'is_key_event': [0, 1]}\n",
    "num_features = ['tfidf_sum']\n",
    "model_params = {\n",
    "    'min_samples_leaf': [50],\n",
    "    'subsample': [0.9],  \n",
    "    'learning_rate': [0.1],\n",
    "    'n_estimators': [80],\n",
    "    'max_depth':[11],\n",
    "    'min_samples_split': [200],\n",
    "}\n",
    "cv = 5\n",
    "opt_metric = 'neg_mean_squared_error'"
   ]
  },
  {
   "cell_type": "code",
   "execution_count": 6,
   "metadata": {},
   "outputs": [
    {
     "name": "stdout",
     "output_type": "stream",
     "text": [
      "Setting target metric to cosine_tfidf\n"
     ]
    }
   ],
   "source": [
    "ltr_train = LTRGBTTrain(cat_features_dict=cat_features_dict, num_features=num_features,\n",
    "                     model_params=model_params, ltr_params=ltr_params,\n",
    "                    cv=cv, opt_metric=opt_metric)"
   ]
  },
  {
   "cell_type": "code",
   "execution_count": 7,
   "metadata": {},
   "outputs": [
    {
     "name": "stdout",
     "output_type": "stream",
     "text": [
      "Model already trained\n"
     ]
    }
   ],
   "source": [
    "rank_model = RankModel(ltr_train, n=10)"
   ]
  },
  {
   "cell_type": "code",
   "execution_count": 8,
   "metadata": {},
   "outputs": [
    {
     "data": {
      "text/plain": [
       "'/home/carlos/MasterDS/tfm/models/rank_with_model/77752e3840'"
      ]
     },
     "execution_count": 8,
     "metadata": {},
     "output_type": "execute_result"
    }
   ],
   "source": [
    "rank_model.path"
   ]
  },
  {
   "cell_type": "markdown",
   "metadata": {},
   "source": [
    "## Evaluación"
   ]
  },
  {
   "cell_type": "code",
   "execution_count": 9,
   "metadata": {},
   "outputs": [
    {
     "name": "stdout",
     "output_type": "stream",
     "text": [
      "Setting target metric to rouge\n"
     ]
    }
   ],
   "source": [
    "evaluation = SummaryEvaluation(metric='rouge')"
   ]
  },
  {
   "cell_type": "markdown",
   "metadata": {},
   "source": [
    "### Sin procesar"
   ]
  },
  {
   "cell_type": "code",
   "execution_count": 10,
   "metadata": {},
   "outputs": [
    {
     "name": "stdout",
     "output_type": "stream",
     "text": [
      "Categorizing n_players...\n",
      "Computing new length...\n",
      "Dropping {'n_players', 'advantage', 'sim_previous_3', 'url', 'n_players_cat', 'equalize', 'position', 'sim_previous_1', 'players_importance', 'event_ix', 'sim_previous_5', 'json_file', 'sentence_ix', 'total_length', 'n_stop', 'score', 'length'}\n",
      "Ranking events using row_number approach...\n",
      "Saving to /home/carlos/MasterDS/tfm/models/rank_with_model/77752e3840/summaries.csv\n",
      "Reading ranked summaries from /home/carlos/MasterDS/tfm/models/rank_with_model/77752e3840/summaries.csv\n",
      "Saving to /home/carlos/MasterDS/tfm/data/metrics/summaries/rouge/rank_with_model_ltr_gbt_cosine_tfidf_433610900a\n",
      "Performing evaluation for 4523 articles\n",
      "Writing to /home/carlos/MasterDS/tfm/data/metrics/summaries/rouge/rank_with_model_ltr_gbt_cosine_tfidf_433610900a.pickle\n",
      "Writing avg to /home/carlos/MasterDS/tfm/data/metrics/summaries/rouge/rank_with_model_ltr_gbt_cosine_tfidf_433610900a_avg.pickle\n"
     ]
    }
   ],
   "source": [
    "scores_dict, avg_scores_dict = evaluation.evaluate_rank(rank_model,\n",
    "                                                   preprocess_text=False)"
   ]
  },
  {
   "cell_type": "code",
   "execution_count": 11,
   "metadata": {},
   "outputs": [
    {
     "data": {
      "text/plain": [
       "{'rouge-1': {'f': 0.20595819542257637,\n",
       "  'p': 0.21294021569065466,\n",
       "  'r': 0.2380229271112617},\n",
       " 'rouge-2': {'f': 0.04076413347530134,\n",
       "  'p': 0.043481267381091995,\n",
       "  'r': 0.046611681295501264},\n",
       " 'rouge-l': {'f': 0.19683925177513747,\n",
       "  'p': 0.29301893632591197,\n",
       "  'r': 0.15973914366945902}}"
      ]
     },
     "execution_count": 11,
     "metadata": {},
     "output_type": "execute_result"
    }
   ],
   "source": [
    "avg_scores_dict"
   ]
  },
  {
   "cell_type": "markdown",
   "metadata": {},
   "source": [
    "### Con procesado"
   ]
  },
  {
   "cell_type": "code",
   "execution_count": 12,
   "metadata": {},
   "outputs": [
    {
     "name": "stdout",
     "output_type": "stream",
     "text": [
      "Ranked summaries already exist\n",
      "Reading ranked summaries from /home/carlos/MasterDS/tfm/models/rank_with_model/77752e3840/summaries.csv\n",
      "Saving to /home/carlos/MasterDS/tfm/data/metrics/summaries/rouge/rank_with_model_ltr_gbt_cosine_tfidf_433610900a_processed\n",
      "Performing evaluation for 4523 articles\n",
      "Writing to /home/carlos/MasterDS/tfm/data/metrics/summaries/rouge/rank_with_model_ltr_gbt_cosine_tfidf_433610900a_processed.pickle\n",
      "Writing avg to /home/carlos/MasterDS/tfm/data/metrics/summaries/rouge/rank_with_model_ltr_gbt_cosine_tfidf_433610900a_processed_avg.pickle\n"
     ]
    }
   ],
   "source": [
    "scores_dict, avg_scores_dict = evaluation.evaluate_rank(rank_model,\n",
    "                                                   preprocess_text=True)"
   ]
  },
  {
   "cell_type": "code",
   "execution_count": 13,
   "metadata": {},
   "outputs": [
    {
     "data": {
      "text/plain": [
       "{'rouge-1': {'f': 0.19242624571222655,\n",
       "  'p': 0.18867534276289766,\n",
       "  'r': 0.23972215301339264},\n",
       " 'rouge-2': {'f': 0.05576108472336706,\n",
       "  'p': 0.0539154301546138,\n",
       "  'r': 0.07087355861129793},\n",
       " 'rouge-l': {'f': 0.2455905442307586,\n",
       "  'p': 0.34533623756262893,\n",
       "  'r': 0.20749129238902364}}"
      ]
     },
     "execution_count": 13,
     "metadata": {},
     "output_type": "execute_result"
    }
   ],
   "source": [
    "avg_scores_dict"
   ]
  },
  {
   "cell_type": "markdown",
   "metadata": {},
   "source": [
    "# SVM"
   ]
  },
  {
   "cell_type": "markdown",
   "metadata": {},
   "source": [
    "## Carga de datos"
   ]
  },
  {
   "cell_type": "code",
   "execution_count": 5,
   "metadata": {},
   "outputs": [],
   "source": [
    "ltr_params = {\n",
    "    'mode': 'tfidf',\n",
    "    'count_vec_kwargs': {'strip_accents': 'unicode'},\n",
    "    'target_metric': 'cosine_tfidf',\n",
    "    'metric_params': {'ngram_range': (1, 2), 'strip_accents': 'unicode'},\n",
    "    'drop_teams': True,\n",
    "    'lemma': True,\n",
    "    'train_perc': 0.7,\n",
    "    'val_perc': 0.2\n",
    "}\n",
    "\n",
    "model_params = {}"
   ]
  },
  {
   "cell_type": "code",
   "execution_count": 6,
   "metadata": {},
   "outputs": [
    {
     "name": "stdout",
     "output_type": "stream",
     "text": [
      "Setting target metric to cosine_tfidf\n",
      "Setting mode to tfidf\n"
     ]
    }
   ],
   "source": [
    "ltr_train = LTRSVMTFTrain(model_params=model_params, ltr_params=ltr_params)"
   ]
  },
  {
   "cell_type": "code",
   "execution_count": 7,
   "metadata": {},
   "outputs": [
    {
     "name": "stdout",
     "output_type": "stream",
     "text": [
      "Model already trained\n"
     ]
    }
   ],
   "source": [
    "rank_model = RankModel(ltr_train, n=10)"
   ]
  },
  {
   "cell_type": "code",
   "execution_count": 8,
   "metadata": {},
   "outputs": [
    {
     "data": {
      "text/plain": [
       "'/home/carlos/MasterDS/tfm/models/rank_with_model/c842b51b47'"
      ]
     },
     "execution_count": 8,
     "metadata": {},
     "output_type": "execute_result"
    }
   ],
   "source": [
    "rank_model.path"
   ]
  },
  {
   "cell_type": "markdown",
   "metadata": {},
   "source": [
    "## Evaluación"
   ]
  },
  {
   "cell_type": "code",
   "execution_count": 9,
   "metadata": {},
   "outputs": [
    {
     "name": "stdout",
     "output_type": "stream",
     "text": [
      "Setting target metric to rouge\n"
     ]
    }
   ],
   "source": [
    "evaluation = SummaryEvaluation(metric='rouge')"
   ]
  },
  {
   "cell_type": "markdown",
   "metadata": {},
   "source": [
    "### Sin procesar"
   ]
  },
  {
   "cell_type": "code",
   "execution_count": 10,
   "metadata": {},
   "outputs": [
    {
     "name": "stdout",
     "output_type": "stream",
     "text": [
      "Ranking events using row_number approach...\n",
      "Saving to /home/carlos/MasterDS/tfm/models/rank_with_model/c842b51b47/summaries.csv\n",
      "Reading ranked summaries from /home/carlos/MasterDS/tfm/models/rank_with_model/c842b51b47/summaries.csv\n",
      "Saving to /home/carlos/MasterDS/tfm/data/metrics/summaries/rouge/rank_with_model_ltr_svm_cosine_tfidf_5959a3c0eb\n",
      "Performing evaluation for 4523 articles\n",
      "Writing to /home/carlos/MasterDS/tfm/data/metrics/summaries/rouge/rank_with_model_ltr_svm_cosine_tfidf_5959a3c0eb.pickle\n",
      "Writing avg to /home/carlos/MasterDS/tfm/data/metrics/summaries/rouge/rank_with_model_ltr_svm_cosine_tfidf_5959a3c0eb_avg.pickle\n"
     ]
    }
   ],
   "source": [
    "scores_dict, avg_scores_dict = evaluation.evaluate_rank(rank_model,\n",
    "                                                   preprocess_text=False)"
   ]
  },
  {
   "cell_type": "code",
   "execution_count": 11,
   "metadata": {},
   "outputs": [
    {
     "data": {
      "text/plain": [
       "{'rouge-1': {'f': 0.21529859629075385,\n",
       "  'p': 0.24442658278516374,\n",
       "  'r': 0.2277554166945007},\n",
       " 'rouge-2': {'f': 0.04625120734018724,\n",
       "  'p': 0.05450816217309867,\n",
       "  'r': 0.0481403555868},\n",
       " 'rouge-l': {'f': 0.20077112166486977,\n",
       "  'p': 0.30833042485401896,\n",
       "  'r': 0.16000087436398758}}"
      ]
     },
     "execution_count": 11,
     "metadata": {},
     "output_type": "execute_result"
    }
   ],
   "source": [
    "avg_scores_dict"
   ]
  },
  {
   "cell_type": "markdown",
   "metadata": {},
   "source": [
    "### Con procesado"
   ]
  },
  {
   "cell_type": "code",
   "execution_count": 12,
   "metadata": {},
   "outputs": [
    {
     "name": "stdout",
     "output_type": "stream",
     "text": [
      "Ranked summaries already exist\n",
      "Reading ranked summaries from /home/carlos/MasterDS/tfm/models/rank_with_model/c842b51b47/summaries.csv\n",
      "Saving to /home/carlos/MasterDS/tfm/data/metrics/summaries/rouge/rank_with_model_ltr_svm_cosine_tfidf_5959a3c0eb_processed\n",
      "Performing evaluation for 4523 articles\n",
      "Writing to /home/carlos/MasterDS/tfm/data/metrics/summaries/rouge/rank_with_model_ltr_svm_cosine_tfidf_5959a3c0eb_processed.pickle\n",
      "Writing avg to /home/carlos/MasterDS/tfm/data/metrics/summaries/rouge/rank_with_model_ltr_svm_cosine_tfidf_5959a3c0eb_processed_avg.pickle\n"
     ]
    }
   ],
   "source": [
    "scores_dict, avg_scores_dict = evaluation.evaluate_rank(rank_model,\n",
    "                                                   preprocess_text=True)"
   ]
  },
  {
   "cell_type": "code",
   "execution_count": 13,
   "metadata": {},
   "outputs": [
    {
     "data": {
      "text/plain": [
       "{'rouge-1': {'f': 0.21505350047542593,\n",
       "  'p': 0.22811291380978138,\n",
       "  'r': 0.24578301127756888},\n",
       " 'rouge-2': {'f': 0.06132902014201187,\n",
       "  'p': 0.06391827815574572,\n",
       "  'r': 0.0715563001615982},\n",
       " 'rouge-l': {'f': 0.25628513900656386,\n",
       "  'p': 0.3721991832613804,\n",
       "  'r': 0.21213475574391005}}"
      ]
     },
     "execution_count": 13,
     "metadata": {},
     "output_type": "execute_result"
    }
   ],
   "source": [
    "avg_scores_dict"
   ]
  },
  {
   "cell_type": "markdown",
   "metadata": {},
   "source": [
    "# NN"
   ]
  },
  {
   "cell_type": "markdown",
   "metadata": {},
   "source": [
    "## Carga de datos"
   ]
  },
  {
   "cell_type": "code",
   "execution_count": 99,
   "metadata": {},
   "outputs": [],
   "source": [
    "ltr_params = {\n",
    "    'mode': 'tfidf',\n",
    "    'count_vec_kwargs': {'strip_accents': 'unicode'},\n",
    "    'target_metric': 'cosine_tfidf',\n",
    "    'metric_params': {'ngram_range': (1, 2), 'strip_accents': 'unicode'},\n",
    "    'drop_teams': True,\n",
    "    'lemma': True,\n",
    "    'train_perc': 0.7,\n",
    "    'val_perc': 0.2\n",
    "}\n",
    "DENSE_LAYERS = [500, 250, 125, 60, 20]\n",
    "N_DROPOUT = 4\n",
    "\n",
    "model_params = {\n",
    "    'dense_layers': DENSE_LAYERS,\n",
    "    'dense_activation': ['relu'] * len(DENSE_LAYERS),\n",
    "    'dropout': [0.3] * N_DROPOUT,\n",
    "    'optimizer': 'adam'\n",
    "}\n",
    "opt_metric = 'mean_squared_error'\n",
    "epochs = 25\n",
    "batch_size = 128\n",
    "# Not in config\n",
    "shuffle = True\n",
    "max_queue_size = 50"
   ]
  },
  {
   "cell_type": "code",
   "execution_count": 100,
   "metadata": {},
   "outputs": [
    {
     "name": "stdout",
     "output_type": "stream",
     "text": [
      "Adding 1 zeros so that params have the same length\n",
      "Setting target metric to cosine_tfidf\n",
      "Setting mode to tfidf\n",
      "Optimizing mean_squared_error with adam\n",
      "Epochs: 25\n",
      "Batch size: 128\n"
     ]
    }
   ],
   "source": [
    "ltr_train = LTRNNTFTrain(ltr_params, epochs=epochs, batch_size=batch_size,\n",
    "                         model_params=model_params,\n",
    "                         opt_metric=opt_metric)"
   ]
  },
  {
   "cell_type": "code",
   "execution_count": 101,
   "metadata": {},
   "outputs": [
    {
     "name": "stdout",
     "output_type": "stream",
     "text": [
      "Model already trained\n"
     ]
    }
   ],
   "source": [
    "rank_model = RankModel(ltr_train, n=10, is_nn=True)"
   ]
  },
  {
   "cell_type": "code",
   "execution_count": 15,
   "metadata": {},
   "outputs": [
    {
     "data": {
      "text/plain": [
       "'/home/carlos/MasterDS/tfm/models/rank_with_model/254dd4d848'"
      ]
     },
     "execution_count": 15,
     "metadata": {},
     "output_type": "execute_result"
    }
   ],
   "source": [
    "rank_model.path"
   ]
  },
  {
   "cell_type": "markdown",
   "metadata": {},
   "source": [
    "## Evaluación"
   ]
  },
  {
   "cell_type": "code",
   "execution_count": 102,
   "metadata": {},
   "outputs": [
    {
     "name": "stdout",
     "output_type": "stream",
     "text": [
      "Setting target metric to rouge\n"
     ]
    }
   ],
   "source": [
    "evaluation = SummaryEvaluation(metric='rouge')"
   ]
  },
  {
   "cell_type": "markdown",
   "metadata": {},
   "source": [
    "### Sin procesar"
   ]
  },
  {
   "cell_type": "code",
   "execution_count": 103,
   "metadata": {},
   "outputs": [
    {
     "name": "stdout",
     "output_type": "stream",
     "text": [
      "Ranking events using row_number approach...\n",
      "Saving to /home/carlos/MasterDS/tfm/models/rank_with_model/6f4ca361f3/summaries.csv\n",
      "Reading ranked summaries from /home/carlos/MasterDS/tfm/models/rank_with_model/6f4ca361f3/summaries.csv\n",
      "Saving to /home/carlos/MasterDS/tfm/data/metrics/summaries/rouge/rank_with_model_ltr_nn_cosine_tfidf_598b6e8db8\n",
      "Performing evaluation for 4523 articles\n",
      "Writing to /home/carlos/MasterDS/tfm/data/metrics/summaries/rouge/rank_with_model_ltr_nn_cosine_tfidf_598b6e8db8.pickle\n",
      "Writing avg to /home/carlos/MasterDS/tfm/data/metrics/summaries/rouge/rank_with_model_ltr_nn_cosine_tfidf_598b6e8db8_avg.pickle\n"
     ]
    }
   ],
   "source": [
    "scores_dict, avg_scores_dict = evaluation.evaluate_rank(rank_model,\n",
    "                                                   preprocess_text=False)"
   ]
  },
  {
   "cell_type": "code",
   "execution_count": 104,
   "metadata": {},
   "outputs": [
    {
     "data": {
      "text/plain": [
       "{'rouge-1': {'f': 0.2121848576828116,\n",
       "  'p': 0.23666642017257633,\n",
       "  'r': 0.2307449150710787},\n",
       " 'rouge-2': {'f': 0.04580426040500962,\n",
       "  'p': 0.05305677671571103,\n",
       "  'r': 0.04897908854164727},\n",
       " 'rouge-l': {'f': 0.20152933004411733,\n",
       "  'p': 0.30717488321505537,\n",
       "  'r': 0.161272672149186}}"
      ]
     },
     "execution_count": 104,
     "metadata": {},
     "output_type": "execute_result"
    }
   ],
   "source": [
    "avg_scores_dict"
   ]
  },
  {
   "cell_type": "markdown",
   "metadata": {},
   "source": [
    "### Con procesado"
   ]
  },
  {
   "cell_type": "code",
   "execution_count": 105,
   "metadata": {},
   "outputs": [
    {
     "name": "stdout",
     "output_type": "stream",
     "text": [
      "Ranked summaries already exist\n",
      "Reading ranked summaries from /home/carlos/MasterDS/tfm/models/rank_with_model/6f4ca361f3/summaries.csv\n",
      "Saving to /home/carlos/MasterDS/tfm/data/metrics/summaries/rouge/rank_with_model_ltr_nn_cosine_tfidf_598b6e8db8_processed\n",
      "Performing evaluation for 4523 articles\n",
      "Writing to /home/carlos/MasterDS/tfm/data/metrics/summaries/rouge/rank_with_model_ltr_nn_cosine_tfidf_598b6e8db8_processed.pickle\n",
      "Writing avg to /home/carlos/MasterDS/tfm/data/metrics/summaries/rouge/rank_with_model_ltr_nn_cosine_tfidf_598b6e8db8_processed_avg.pickle\n"
     ]
    }
   ],
   "source": [
    "scores_dict, avg_scores_dict = evaluation.evaluate_rank(rank_model,\n",
    "                                                   preprocess_text=True)"
   ]
  },
  {
   "cell_type": "code",
   "execution_count": 106,
   "metadata": {},
   "outputs": [
    {
     "data": {
      "text/plain": [
       "{'rouge-1': {'f': 0.20929769829227252,\n",
       "  'p': 0.21985300131783983,\n",
       "  'r': 0.24450120365736216},\n",
       " 'rouge-2': {'f': 0.05989609131129074,\n",
       "  'p': 0.06175092321404012,\n",
       "  'r': 0.07150376598052609},\n",
       " 'rouge-l': {'f': 0.25569183133753215,\n",
       "  'p': 0.37070862481839606,\n",
       "  'r': 0.2120668823777382}}"
      ]
     },
     "execution_count": 106,
     "metadata": {},
     "output_type": "execute_result"
    }
   ],
   "source": [
    "avg_scores_dict"
   ]
  },
  {
   "cell_type": "markdown",
   "metadata": {},
   "source": [
    "# Eventos clave y grafos conceptuales"
   ]
  },
  {
   "cell_type": "code",
   "execution_count": 75,
   "metadata": {},
   "outputs": [
    {
     "name": "stdout",
     "output_type": "stream",
     "text": [
      "Evaluating the following summaries: ['key_events_summaries_1.csv', 'key_events_summaries_3.csv', 'key_events_summaries_4.csv', 'key_events_summaries_graph_2.csv', 'key_events_summaries_graph_3.csv', 'key_events_summaries_2.csv', 'key_events_summaries_graph_5.csv', 'key_events_summaries_graph_1.csv', 'key_events_summaries_graph_4.csv']\n",
      "Evaluating key_events_summaries_1.csv\n",
      "Metrics already exist\n",
      "Evaluating key_events_summaries_3.csv\n",
      "Metrics already exist\n",
      "Evaluating key_events_summaries_4.csv\n",
      "Metrics already exist\n",
      "Evaluating key_events_summaries_graph_2.csv\n",
      "Metrics already exist\n",
      "Evaluating key_events_summaries_graph_3.csv\n",
      "Metrics already exist\n",
      "Evaluating key_events_summaries_2.csv\n",
      "Metrics already exist\n",
      "Evaluating key_events_summaries_graph_5.csv\n",
      "Metrics already exist\n",
      "Evaluating key_events_summaries_graph_1.csv\n",
      "Metrics already exist\n",
      "Evaluating key_events_summaries_graph_4.csv\n",
      "Metrics already exist\n",
      "CPU times: user 1.88 s, sys: 122 ms, total: 2 s\n",
      "Wall time: 3.86 s\n"
     ]
    }
   ],
   "source": [
    "%%time\n",
    "evaluation.evaluate_all_summaries()"
   ]
  },
  {
   "cell_type": "markdown",
   "metadata": {},
   "source": [
    "# Todos los resúmenes"
   ]
  },
  {
   "cell_type": "code",
   "execution_count": 18,
   "metadata": {},
   "outputs": [],
   "source": [
    "pd_metrics = evaluation.output_avg_metrics()"
   ]
  },
  {
   "cell_type": "code",
   "execution_count": 19,
   "metadata": {},
   "outputs": [
    {
     "data": {
      "text/html": [
       "<div>\n",
       "<style scoped>\n",
       "    .dataframe tbody tr th:only-of-type {\n",
       "        vertical-align: middle;\n",
       "    }\n",
       "\n",
       "    .dataframe tbody tr th {\n",
       "        vertical-align: top;\n",
       "    }\n",
       "\n",
       "    .dataframe thead tr th {\n",
       "        text-align: left;\n",
       "    }\n",
       "\n",
       "    .dataframe thead tr:last-of-type th {\n",
       "        text-align: right;\n",
       "    }\n",
       "</style>\n",
       "<table border=\"1\" class=\"dataframe\">\n",
       "  <thead>\n",
       "    <tr>\n",
       "      <th>metric</th>\n",
       "      <th colspan=\"3\" halign=\"left\">rouge-1</th>\n",
       "      <th colspan=\"3\" halign=\"left\">rouge-2</th>\n",
       "      <th colspan=\"3\" halign=\"left\">rouge-l</th>\n",
       "    </tr>\n",
       "    <tr>\n",
       "      <th>metric_type</th>\n",
       "      <th>f</th>\n",
       "      <th>p</th>\n",
       "      <th>r</th>\n",
       "      <th>f</th>\n",
       "      <th>p</th>\n",
       "      <th>r</th>\n",
       "      <th>f</th>\n",
       "      <th>p</th>\n",
       "      <th>r</th>\n",
       "    </tr>\n",
       "    <tr>\n",
       "      <th>experiment</th>\n",
       "      <th></th>\n",
       "      <th></th>\n",
       "      <th></th>\n",
       "      <th></th>\n",
       "      <th></th>\n",
       "      <th></th>\n",
       "      <th></th>\n",
       "      <th></th>\n",
       "      <th></th>\n",
       "    </tr>\n",
       "  </thead>\n",
       "  <tbody>\n",
       "    <tr>\n",
       "      <th>baseline_rank_rouge-1_r</th>\n",
       "      <td>0.217420</td>\n",
       "      <td>0.244630</td>\n",
       "      <td>0.225864</td>\n",
       "      <td>0.046198</td>\n",
       "      <td>0.053453</td>\n",
       "      <td>0.047444</td>\n",
       "      <td>0.200956</td>\n",
       "      <td>0.327370</td>\n",
       "      <td>0.155132</td>\n",
       "    </tr>\n",
       "    <tr>\n",
       "      <th>baseline_rank_rouge-1_r_processed</th>\n",
       "      <td>0.214708</td>\n",
       "      <td>0.221810</td>\n",
       "      <td>0.243826</td>\n",
       "      <td>0.060661</td>\n",
       "      <td>0.061520</td>\n",
       "      <td>0.070342</td>\n",
       "      <td>0.260602</td>\n",
       "      <td>0.396917</td>\n",
       "      <td>0.208477</td>\n",
       "    </tr>\n",
       "    <tr>\n",
       "      <th>key_events_summaries_1</th>\n",
       "      <td>0.152305</td>\n",
       "      <td>0.337611</td>\n",
       "      <td>0.120764</td>\n",
       "      <td>0.037226</td>\n",
       "      <td>0.099268</td>\n",
       "      <td>0.028425</td>\n",
       "      <td>0.148213</td>\n",
       "      <td>0.404838</td>\n",
       "      <td>0.101478</td>\n",
       "    </tr>\n",
       "    <tr>\n",
       "      <th>key_events_summaries_1_processed</th>\n",
       "      <td>0.195851</td>\n",
       "      <td>0.520812</td>\n",
       "      <td>0.152725</td>\n",
       "      <td>0.062947</td>\n",
       "      <td>0.186978</td>\n",
       "      <td>0.048554</td>\n",
       "      <td>0.209574</td>\n",
       "      <td>0.615943</td>\n",
       "      <td>0.142189</td>\n",
       "    </tr>\n",
       "    <tr>\n",
       "      <th>key_events_summaries_2</th>\n",
       "      <td>0.151979</td>\n",
       "      <td>0.338229</td>\n",
       "      <td>0.120376</td>\n",
       "      <td>0.037130</td>\n",
       "      <td>0.099623</td>\n",
       "      <td>0.028310</td>\n",
       "      <td>0.147826</td>\n",
       "      <td>0.405996</td>\n",
       "      <td>0.101074</td>\n",
       "    </tr>\n",
       "    <tr>\n",
       "      <th>key_events_summaries_2_processed</th>\n",
       "      <td>0.195232</td>\n",
       "      <td>0.522998</td>\n",
       "      <td>0.151988</td>\n",
       "      <td>0.062645</td>\n",
       "      <td>0.187916</td>\n",
       "      <td>0.048229</td>\n",
       "      <td>0.208813</td>\n",
       "      <td>0.618418</td>\n",
       "      <td>0.141428</td>\n",
       "    </tr>\n",
       "    <tr>\n",
       "      <th>key_events_summaries_3</th>\n",
       "      <td>0.152305</td>\n",
       "      <td>0.337611</td>\n",
       "      <td>0.120764</td>\n",
       "      <td>0.037226</td>\n",
       "      <td>0.099268</td>\n",
       "      <td>0.028425</td>\n",
       "      <td>0.148213</td>\n",
       "      <td>0.404838</td>\n",
       "      <td>0.101478</td>\n",
       "    </tr>\n",
       "    <tr>\n",
       "      <th>key_events_summaries_3_processed</th>\n",
       "      <td>0.195851</td>\n",
       "      <td>0.520812</td>\n",
       "      <td>0.152725</td>\n",
       "      <td>0.062947</td>\n",
       "      <td>0.186978</td>\n",
       "      <td>0.048554</td>\n",
       "      <td>0.209574</td>\n",
       "      <td>0.615943</td>\n",
       "      <td>0.142189</td>\n",
       "    </tr>\n",
       "    <tr>\n",
       "      <th>key_events_summaries_4</th>\n",
       "      <td>0.151979</td>\n",
       "      <td>0.338229</td>\n",
       "      <td>0.120376</td>\n",
       "      <td>0.037130</td>\n",
       "      <td>0.099623</td>\n",
       "      <td>0.028310</td>\n",
       "      <td>0.147826</td>\n",
       "      <td>0.405996</td>\n",
       "      <td>0.101074</td>\n",
       "    </tr>\n",
       "    <tr>\n",
       "      <th>key_events_summaries_4_processed</th>\n",
       "      <td>0.195232</td>\n",
       "      <td>0.522998</td>\n",
       "      <td>0.151988</td>\n",
       "      <td>0.062645</td>\n",
       "      <td>0.187916</td>\n",
       "      <td>0.048229</td>\n",
       "      <td>0.208813</td>\n",
       "      <td>0.618418</td>\n",
       "      <td>0.141428</td>\n",
       "    </tr>\n",
       "    <tr>\n",
       "      <th>key_events_summaries_graph_1</th>\n",
       "      <td>0.176339</td>\n",
       "      <td>0.155282</td>\n",
       "      <td>0.251348</td>\n",
       "      <td>0.035792</td>\n",
       "      <td>0.032529</td>\n",
       "      <td>0.050188</td>\n",
       "      <td>0.189669</td>\n",
       "      <td>0.270450</td>\n",
       "      <td>0.157788</td>\n",
       "    </tr>\n",
       "    <tr>\n",
       "      <th>key_events_summaries_graph_1_processed</th>\n",
       "      <td>0.131490</td>\n",
       "      <td>0.107596</td>\n",
       "      <td>0.219318</td>\n",
       "      <td>0.033865</td>\n",
       "      <td>0.027657</td>\n",
       "      <td>0.058878</td>\n",
       "      <td>0.215488</td>\n",
       "      <td>0.280576</td>\n",
       "      <td>0.191649</td>\n",
       "    </tr>\n",
       "    <tr>\n",
       "      <th>key_events_summaries_graph_2</th>\n",
       "      <td>0.151728</td>\n",
       "      <td>0.120522</td>\n",
       "      <td>0.272808</td>\n",
       "      <td>0.029401</td>\n",
       "      <td>0.024034</td>\n",
       "      <td>0.052256</td>\n",
       "      <td>0.197920</td>\n",
       "      <td>0.269437</td>\n",
       "      <td>0.169490</td>\n",
       "    </tr>\n",
       "    <tr>\n",
       "      <th>key_events_summaries_graph_2_processed</th>\n",
       "      <td>0.122147</td>\n",
       "      <td>0.091738</td>\n",
       "      <td>0.256209</td>\n",
       "      <td>0.032860</td>\n",
       "      <td>0.024790</td>\n",
       "      <td>0.072010</td>\n",
       "      <td>0.235995</td>\n",
       "      <td>0.291261</td>\n",
       "      <td>0.218201</td>\n",
       "    </tr>\n",
       "    <tr>\n",
       "      <th>key_events_summaries_graph_3</th>\n",
       "      <td>0.176339</td>\n",
       "      <td>0.155282</td>\n",
       "      <td>0.251348</td>\n",
       "      <td>0.035792</td>\n",
       "      <td>0.032529</td>\n",
       "      <td>0.050188</td>\n",
       "      <td>0.189669</td>\n",
       "      <td>0.270450</td>\n",
       "      <td>0.157788</td>\n",
       "    </tr>\n",
       "    <tr>\n",
       "      <th>key_events_summaries_graph_3_processed</th>\n",
       "      <td>0.131490</td>\n",
       "      <td>0.107596</td>\n",
       "      <td>0.219318</td>\n",
       "      <td>0.033865</td>\n",
       "      <td>0.027657</td>\n",
       "      <td>0.058878</td>\n",
       "      <td>0.215488</td>\n",
       "      <td>0.280576</td>\n",
       "      <td>0.191649</td>\n",
       "    </tr>\n",
       "    <tr>\n",
       "      <th>key_events_summaries_graph_4</th>\n",
       "      <td>0.151728</td>\n",
       "      <td>0.120522</td>\n",
       "      <td>0.272808</td>\n",
       "      <td>0.029401</td>\n",
       "      <td>0.024034</td>\n",
       "      <td>0.052256</td>\n",
       "      <td>0.197920</td>\n",
       "      <td>0.269437</td>\n",
       "      <td>0.169490</td>\n",
       "    </tr>\n",
       "    <tr>\n",
       "      <th>key_events_summaries_graph_4_processed</th>\n",
       "      <td>0.122147</td>\n",
       "      <td>0.091738</td>\n",
       "      <td>0.256209</td>\n",
       "      <td>0.032860</td>\n",
       "      <td>0.024790</td>\n",
       "      <td>0.072010</td>\n",
       "      <td>0.235995</td>\n",
       "      <td>0.291261</td>\n",
       "      <td>0.218201</td>\n",
       "    </tr>\n",
       "    <tr>\n",
       "      <th>key_events_summaries_graph_5</th>\n",
       "      <td>0.173270</td>\n",
       "      <td>0.140934</td>\n",
       "      <td>0.275796</td>\n",
       "      <td>0.034431</td>\n",
       "      <td>0.028395</td>\n",
       "      <td>0.054379</td>\n",
       "      <td>0.199062</td>\n",
       "      <td>0.265995</td>\n",
       "      <td>0.171442</td>\n",
       "    </tr>\n",
       "    <tr>\n",
       "      <th>key_events_summaries_graph_5_processed</th>\n",
       "      <td>0.134658</td>\n",
       "      <td>0.101599</td>\n",
       "      <td>0.248504</td>\n",
       "      <td>0.033602</td>\n",
       "      <td>0.024837</td>\n",
       "      <td>0.064676</td>\n",
       "      <td>0.230492</td>\n",
       "      <td>0.288569</td>\n",
       "      <td>0.209462</td>\n",
       "    </tr>\n",
       "    <tr>\n",
       "      <th>rank_with_model_ltr_gbt_cosine_tfidf_433610900a</th>\n",
       "      <td>0.205958</td>\n",
       "      <td>0.212940</td>\n",
       "      <td>0.238023</td>\n",
       "      <td>0.040764</td>\n",
       "      <td>0.043481</td>\n",
       "      <td>0.046612</td>\n",
       "      <td>0.196839</td>\n",
       "      <td>0.293019</td>\n",
       "      <td>0.159739</td>\n",
       "    </tr>\n",
       "    <tr>\n",
       "      <th>rank_with_model_ltr_gbt_cosine_tfidf_433610900a_processed</th>\n",
       "      <td>0.192426</td>\n",
       "      <td>0.188675</td>\n",
       "      <td>0.239722</td>\n",
       "      <td>0.055761</td>\n",
       "      <td>0.053915</td>\n",
       "      <td>0.070874</td>\n",
       "      <td>0.245591</td>\n",
       "      <td>0.345336</td>\n",
       "      <td>0.207491</td>\n",
       "    </tr>\n",
       "    <tr>\n",
       "      <th>rank_with_model_ltr_gbt_rouge-1_r_be3b14bd22</th>\n",
       "      <td>0.202762</td>\n",
       "      <td>0.207199</td>\n",
       "      <td>0.239512</td>\n",
       "      <td>0.039840</td>\n",
       "      <td>0.042021</td>\n",
       "      <td>0.046562</td>\n",
       "      <td>0.197022</td>\n",
       "      <td>0.295896</td>\n",
       "      <td>0.158652</td>\n",
       "    </tr>\n",
       "    <tr>\n",
       "      <th>rank_with_model_ltr_gbt_rouge-1_r_be3b14bd22_processed</th>\n",
       "      <td>0.186269</td>\n",
       "      <td>0.181213</td>\n",
       "      <td>0.236549</td>\n",
       "      <td>0.054152</td>\n",
       "      <td>0.051964</td>\n",
       "      <td>0.070167</td>\n",
       "      <td>0.243824</td>\n",
       "      <td>0.346440</td>\n",
       "      <td>0.204242</td>\n",
       "    </tr>\n",
       "    <tr>\n",
       "      <th>rank_with_model_ltr_nn_cosine_tfidf_598b6e8db8</th>\n",
       "      <td>0.212185</td>\n",
       "      <td>0.236666</td>\n",
       "      <td>0.230745</td>\n",
       "      <td>0.045804</td>\n",
       "      <td>0.053057</td>\n",
       "      <td>0.048979</td>\n",
       "      <td>0.201529</td>\n",
       "      <td>0.307175</td>\n",
       "      <td>0.161273</td>\n",
       "    </tr>\n",
       "    <tr>\n",
       "      <th>rank_with_model_ltr_nn_cosine_tfidf_598b6e8db8_processed</th>\n",
       "      <td>0.209298</td>\n",
       "      <td>0.219853</td>\n",
       "      <td>0.244501</td>\n",
       "      <td>0.059896</td>\n",
       "      <td>0.061751</td>\n",
       "      <td>0.071504</td>\n",
       "      <td>0.255692</td>\n",
       "      <td>0.370709</td>\n",
       "      <td>0.212067</td>\n",
       "    </tr>\n",
       "    <tr>\n",
       "      <th>rank_with_model_ltr_nn_rouge-1_r_4083eddade</th>\n",
       "      <td>0.214111</td>\n",
       "      <td>0.224458</td>\n",
       "      <td>0.239730</td>\n",
       "      <td>0.044395</td>\n",
       "      <td>0.047742</td>\n",
       "      <td>0.049204</td>\n",
       "      <td>0.200430</td>\n",
       "      <td>0.308162</td>\n",
       "      <td>0.159188</td>\n",
       "    </tr>\n",
       "    <tr>\n",
       "      <th>rank_with_model_ltr_nn_rouge-1_r_4083eddade_processed</th>\n",
       "      <td>0.203637</td>\n",
       "      <td>0.199008</td>\n",
       "      <td>0.247510</td>\n",
       "      <td>0.057137</td>\n",
       "      <td>0.054899</td>\n",
       "      <td>0.071127</td>\n",
       "      <td>0.257616</td>\n",
       "      <td>0.373209</td>\n",
       "      <td>0.212391</td>\n",
       "    </tr>\n",
       "    <tr>\n",
       "      <th>rank_with_model_ltr_random_forest_cosine_tfidf_a422fd6e55</th>\n",
       "      <td>0.203121</td>\n",
       "      <td>0.206317</td>\n",
       "      <td>0.240780</td>\n",
       "      <td>0.039301</td>\n",
       "      <td>0.041074</td>\n",
       "      <td>0.046232</td>\n",
       "      <td>0.196495</td>\n",
       "      <td>0.293281</td>\n",
       "      <td>0.158893</td>\n",
       "    </tr>\n",
       "    <tr>\n",
       "      <th>rank_with_model_ltr_random_forest_cosine_tfidf_a422fd6e55_processed</th>\n",
       "      <td>0.184689</td>\n",
       "      <td>0.178371</td>\n",
       "      <td>0.235998</td>\n",
       "      <td>0.053600</td>\n",
       "      <td>0.051049</td>\n",
       "      <td>0.069938</td>\n",
       "      <td>0.242246</td>\n",
       "      <td>0.341585</td>\n",
       "      <td>0.203941</td>\n",
       "    </tr>\n",
       "    <tr>\n",
       "      <th>rank_with_model_ltr_random_forest_rouge-1_r_4649644395</th>\n",
       "      <td>0.202013</td>\n",
       "      <td>0.205610</td>\n",
       "      <td>0.239733</td>\n",
       "      <td>0.039742</td>\n",
       "      <td>0.041705</td>\n",
       "      <td>0.046668</td>\n",
       "      <td>0.196905</td>\n",
       "      <td>0.296212</td>\n",
       "      <td>0.158457</td>\n",
       "    </tr>\n",
       "    <tr>\n",
       "      <th>rank_with_model_ltr_random_forest_rouge-1_r_4649644395_processed</th>\n",
       "      <td>0.184255</td>\n",
       "      <td>0.178717</td>\n",
       "      <td>0.235080</td>\n",
       "      <td>0.053643</td>\n",
       "      <td>0.051346</td>\n",
       "      <td>0.069832</td>\n",
       "      <td>0.242654</td>\n",
       "      <td>0.345799</td>\n",
       "      <td>0.203002</td>\n",
       "    </tr>\n",
       "    <tr>\n",
       "      <th>rank_with_model_ltr_svm_cosine_tfidf_5959a3c0eb</th>\n",
       "      <td>0.215299</td>\n",
       "      <td>0.244427</td>\n",
       "      <td>0.227755</td>\n",
       "      <td>0.046251</td>\n",
       "      <td>0.054508</td>\n",
       "      <td>0.048140</td>\n",
       "      <td>0.200771</td>\n",
       "      <td>0.308330</td>\n",
       "      <td>0.160001</td>\n",
       "    </tr>\n",
       "    <tr>\n",
       "      <th>rank_with_model_ltr_svm_cosine_tfidf_5959a3c0eb_processed</th>\n",
       "      <td>0.215054</td>\n",
       "      <td>0.228113</td>\n",
       "      <td>0.245783</td>\n",
       "      <td>0.061329</td>\n",
       "      <td>0.063918</td>\n",
       "      <td>0.071556</td>\n",
       "      <td>0.256285</td>\n",
       "      <td>0.372199</td>\n",
       "      <td>0.212135</td>\n",
       "    </tr>\n",
       "    <tr>\n",
       "      <th>rank_with_model_ltr_svm_rouge-1_r_8dd264b4d2</th>\n",
       "      <td>0.217884</td>\n",
       "      <td>0.229743</td>\n",
       "      <td>0.241741</td>\n",
       "      <td>0.045360</td>\n",
       "      <td>0.049007</td>\n",
       "      <td>0.049847</td>\n",
       "      <td>0.202635</td>\n",
       "      <td>0.308546</td>\n",
       "      <td>0.161639</td>\n",
       "    </tr>\n",
       "    <tr>\n",
       "      <th>rank_with_model_ltr_svm_rouge-1_r_8dd264b4d2_processed</th>\n",
       "      <td>0.209460</td>\n",
       "      <td>0.205204</td>\n",
       "      <td>0.252872</td>\n",
       "      <td>0.058944</td>\n",
       "      <td>0.056725</td>\n",
       "      <td>0.072838</td>\n",
       "      <td>0.262104</td>\n",
       "      <td>0.374286</td>\n",
       "      <td>0.217653</td>\n",
       "    </tr>\n",
       "    <tr>\n",
       "      <th>upper_bound</th>\n",
       "      <td>0.105305</td>\n",
       "      <td>0.067818</td>\n",
       "      <td>0.361353</td>\n",
       "      <td>0.021309</td>\n",
       "      <td>0.013826</td>\n",
       "      <td>0.073771</td>\n",
       "      <td>0.218348</td>\n",
       "      <td>0.228750</td>\n",
       "      <td>0.232812</td>\n",
       "    </tr>\n",
       "  </tbody>\n",
       "</table>\n",
       "</div>"
      ],
      "text/plain": [
       "metric                                               rouge-1            \\\n",
       "metric_type                                                f         p   \n",
       "experiment                                                               \n",
       "baseline_rank_rouge-1_r                             0.217420  0.244630   \n",
       "baseline_rank_rouge-1_r_processed                   0.214708  0.221810   \n",
       "key_events_summaries_1                              0.152305  0.337611   \n",
       "key_events_summaries_1_processed                    0.195851  0.520812   \n",
       "key_events_summaries_2                              0.151979  0.338229   \n",
       "key_events_summaries_2_processed                    0.195232  0.522998   \n",
       "key_events_summaries_3                              0.152305  0.337611   \n",
       "key_events_summaries_3_processed                    0.195851  0.520812   \n",
       "key_events_summaries_4                              0.151979  0.338229   \n",
       "key_events_summaries_4_processed                    0.195232  0.522998   \n",
       "key_events_summaries_graph_1                        0.176339  0.155282   \n",
       "key_events_summaries_graph_1_processed              0.131490  0.107596   \n",
       "key_events_summaries_graph_2                        0.151728  0.120522   \n",
       "key_events_summaries_graph_2_processed              0.122147  0.091738   \n",
       "key_events_summaries_graph_3                        0.176339  0.155282   \n",
       "key_events_summaries_graph_3_processed              0.131490  0.107596   \n",
       "key_events_summaries_graph_4                        0.151728  0.120522   \n",
       "key_events_summaries_graph_4_processed              0.122147  0.091738   \n",
       "key_events_summaries_graph_5                        0.173270  0.140934   \n",
       "key_events_summaries_graph_5_processed              0.134658  0.101599   \n",
       "rank_with_model_ltr_gbt_cosine_tfidf_433610900a     0.205958  0.212940   \n",
       "rank_with_model_ltr_gbt_cosine_tfidf_433610900a...  0.192426  0.188675   \n",
       "rank_with_model_ltr_gbt_rouge-1_r_be3b14bd22        0.202762  0.207199   \n",
       "rank_with_model_ltr_gbt_rouge-1_r_be3b14bd22_pr...  0.186269  0.181213   \n",
       "rank_with_model_ltr_nn_cosine_tfidf_598b6e8db8      0.212185  0.236666   \n",
       "rank_with_model_ltr_nn_cosine_tfidf_598b6e8db8_...  0.209298  0.219853   \n",
       "rank_with_model_ltr_nn_rouge-1_r_4083eddade         0.214111  0.224458   \n",
       "rank_with_model_ltr_nn_rouge-1_r_4083eddade_pro...  0.203637  0.199008   \n",
       "rank_with_model_ltr_random_forest_cosine_tfidf_...  0.203121  0.206317   \n",
       "rank_with_model_ltr_random_forest_cosine_tfidf_...  0.184689  0.178371   \n",
       "rank_with_model_ltr_random_forest_rouge-1_r_464...  0.202013  0.205610   \n",
       "rank_with_model_ltr_random_forest_rouge-1_r_464...  0.184255  0.178717   \n",
       "rank_with_model_ltr_svm_cosine_tfidf_5959a3c0eb     0.215299  0.244427   \n",
       "rank_with_model_ltr_svm_cosine_tfidf_5959a3c0eb...  0.215054  0.228113   \n",
       "rank_with_model_ltr_svm_rouge-1_r_8dd264b4d2        0.217884  0.229743   \n",
       "rank_with_model_ltr_svm_rouge-1_r_8dd264b4d2_pr...  0.209460  0.205204   \n",
       "upper_bound                                         0.105305  0.067818   \n",
       "\n",
       "metric                                                         rouge-2  \\\n",
       "metric_type                                                r         f   \n",
       "experiment                                                               \n",
       "baseline_rank_rouge-1_r                             0.225864  0.046198   \n",
       "baseline_rank_rouge-1_r_processed                   0.243826  0.060661   \n",
       "key_events_summaries_1                              0.120764  0.037226   \n",
       "key_events_summaries_1_processed                    0.152725  0.062947   \n",
       "key_events_summaries_2                              0.120376  0.037130   \n",
       "key_events_summaries_2_processed                    0.151988  0.062645   \n",
       "key_events_summaries_3                              0.120764  0.037226   \n",
       "key_events_summaries_3_processed                    0.152725  0.062947   \n",
       "key_events_summaries_4                              0.120376  0.037130   \n",
       "key_events_summaries_4_processed                    0.151988  0.062645   \n",
       "key_events_summaries_graph_1                        0.251348  0.035792   \n",
       "key_events_summaries_graph_1_processed              0.219318  0.033865   \n",
       "key_events_summaries_graph_2                        0.272808  0.029401   \n",
       "key_events_summaries_graph_2_processed              0.256209  0.032860   \n",
       "key_events_summaries_graph_3                        0.251348  0.035792   \n",
       "key_events_summaries_graph_3_processed              0.219318  0.033865   \n",
       "key_events_summaries_graph_4                        0.272808  0.029401   \n",
       "key_events_summaries_graph_4_processed              0.256209  0.032860   \n",
       "key_events_summaries_graph_5                        0.275796  0.034431   \n",
       "key_events_summaries_graph_5_processed              0.248504  0.033602   \n",
       "rank_with_model_ltr_gbt_cosine_tfidf_433610900a     0.238023  0.040764   \n",
       "rank_with_model_ltr_gbt_cosine_tfidf_433610900a...  0.239722  0.055761   \n",
       "rank_with_model_ltr_gbt_rouge-1_r_be3b14bd22        0.239512  0.039840   \n",
       "rank_with_model_ltr_gbt_rouge-1_r_be3b14bd22_pr...  0.236549  0.054152   \n",
       "rank_with_model_ltr_nn_cosine_tfidf_598b6e8db8      0.230745  0.045804   \n",
       "rank_with_model_ltr_nn_cosine_tfidf_598b6e8db8_...  0.244501  0.059896   \n",
       "rank_with_model_ltr_nn_rouge-1_r_4083eddade         0.239730  0.044395   \n",
       "rank_with_model_ltr_nn_rouge-1_r_4083eddade_pro...  0.247510  0.057137   \n",
       "rank_with_model_ltr_random_forest_cosine_tfidf_...  0.240780  0.039301   \n",
       "rank_with_model_ltr_random_forest_cosine_tfidf_...  0.235998  0.053600   \n",
       "rank_with_model_ltr_random_forest_rouge-1_r_464...  0.239733  0.039742   \n",
       "rank_with_model_ltr_random_forest_rouge-1_r_464...  0.235080  0.053643   \n",
       "rank_with_model_ltr_svm_cosine_tfidf_5959a3c0eb     0.227755  0.046251   \n",
       "rank_with_model_ltr_svm_cosine_tfidf_5959a3c0eb...  0.245783  0.061329   \n",
       "rank_with_model_ltr_svm_rouge-1_r_8dd264b4d2        0.241741  0.045360   \n",
       "rank_with_model_ltr_svm_rouge-1_r_8dd264b4d2_pr...  0.252872  0.058944   \n",
       "upper_bound                                         0.361353  0.021309   \n",
       "\n",
       "metric                                                                  \\\n",
       "metric_type                                                p         r   \n",
       "experiment                                                               \n",
       "baseline_rank_rouge-1_r                             0.053453  0.047444   \n",
       "baseline_rank_rouge-1_r_processed                   0.061520  0.070342   \n",
       "key_events_summaries_1                              0.099268  0.028425   \n",
       "key_events_summaries_1_processed                    0.186978  0.048554   \n",
       "key_events_summaries_2                              0.099623  0.028310   \n",
       "key_events_summaries_2_processed                    0.187916  0.048229   \n",
       "key_events_summaries_3                              0.099268  0.028425   \n",
       "key_events_summaries_3_processed                    0.186978  0.048554   \n",
       "key_events_summaries_4                              0.099623  0.028310   \n",
       "key_events_summaries_4_processed                    0.187916  0.048229   \n",
       "key_events_summaries_graph_1                        0.032529  0.050188   \n",
       "key_events_summaries_graph_1_processed              0.027657  0.058878   \n",
       "key_events_summaries_graph_2                        0.024034  0.052256   \n",
       "key_events_summaries_graph_2_processed              0.024790  0.072010   \n",
       "key_events_summaries_graph_3                        0.032529  0.050188   \n",
       "key_events_summaries_graph_3_processed              0.027657  0.058878   \n",
       "key_events_summaries_graph_4                        0.024034  0.052256   \n",
       "key_events_summaries_graph_4_processed              0.024790  0.072010   \n",
       "key_events_summaries_graph_5                        0.028395  0.054379   \n",
       "key_events_summaries_graph_5_processed              0.024837  0.064676   \n",
       "rank_with_model_ltr_gbt_cosine_tfidf_433610900a     0.043481  0.046612   \n",
       "rank_with_model_ltr_gbt_cosine_tfidf_433610900a...  0.053915  0.070874   \n",
       "rank_with_model_ltr_gbt_rouge-1_r_be3b14bd22        0.042021  0.046562   \n",
       "rank_with_model_ltr_gbt_rouge-1_r_be3b14bd22_pr...  0.051964  0.070167   \n",
       "rank_with_model_ltr_nn_cosine_tfidf_598b6e8db8      0.053057  0.048979   \n",
       "rank_with_model_ltr_nn_cosine_tfidf_598b6e8db8_...  0.061751  0.071504   \n",
       "rank_with_model_ltr_nn_rouge-1_r_4083eddade         0.047742  0.049204   \n",
       "rank_with_model_ltr_nn_rouge-1_r_4083eddade_pro...  0.054899  0.071127   \n",
       "rank_with_model_ltr_random_forest_cosine_tfidf_...  0.041074  0.046232   \n",
       "rank_with_model_ltr_random_forest_cosine_tfidf_...  0.051049  0.069938   \n",
       "rank_with_model_ltr_random_forest_rouge-1_r_464...  0.041705  0.046668   \n",
       "rank_with_model_ltr_random_forest_rouge-1_r_464...  0.051346  0.069832   \n",
       "rank_with_model_ltr_svm_cosine_tfidf_5959a3c0eb     0.054508  0.048140   \n",
       "rank_with_model_ltr_svm_cosine_tfidf_5959a3c0eb...  0.063918  0.071556   \n",
       "rank_with_model_ltr_svm_rouge-1_r_8dd264b4d2        0.049007  0.049847   \n",
       "rank_with_model_ltr_svm_rouge-1_r_8dd264b4d2_pr...  0.056725  0.072838   \n",
       "upper_bound                                         0.013826  0.073771   \n",
       "\n",
       "metric                                               rouge-l            \\\n",
       "metric_type                                                f         p   \n",
       "experiment                                                               \n",
       "baseline_rank_rouge-1_r                             0.200956  0.327370   \n",
       "baseline_rank_rouge-1_r_processed                   0.260602  0.396917   \n",
       "key_events_summaries_1                              0.148213  0.404838   \n",
       "key_events_summaries_1_processed                    0.209574  0.615943   \n",
       "key_events_summaries_2                              0.147826  0.405996   \n",
       "key_events_summaries_2_processed                    0.208813  0.618418   \n",
       "key_events_summaries_3                              0.148213  0.404838   \n",
       "key_events_summaries_3_processed                    0.209574  0.615943   \n",
       "key_events_summaries_4                              0.147826  0.405996   \n",
       "key_events_summaries_4_processed                    0.208813  0.618418   \n",
       "key_events_summaries_graph_1                        0.189669  0.270450   \n",
       "key_events_summaries_graph_1_processed              0.215488  0.280576   \n",
       "key_events_summaries_graph_2                        0.197920  0.269437   \n",
       "key_events_summaries_graph_2_processed              0.235995  0.291261   \n",
       "key_events_summaries_graph_3                        0.189669  0.270450   \n",
       "key_events_summaries_graph_3_processed              0.215488  0.280576   \n",
       "key_events_summaries_graph_4                        0.197920  0.269437   \n",
       "key_events_summaries_graph_4_processed              0.235995  0.291261   \n",
       "key_events_summaries_graph_5                        0.199062  0.265995   \n",
       "key_events_summaries_graph_5_processed              0.230492  0.288569   \n",
       "rank_with_model_ltr_gbt_cosine_tfidf_433610900a     0.196839  0.293019   \n",
       "rank_with_model_ltr_gbt_cosine_tfidf_433610900a...  0.245591  0.345336   \n",
       "rank_with_model_ltr_gbt_rouge-1_r_be3b14bd22        0.197022  0.295896   \n",
       "rank_with_model_ltr_gbt_rouge-1_r_be3b14bd22_pr...  0.243824  0.346440   \n",
       "rank_with_model_ltr_nn_cosine_tfidf_598b6e8db8      0.201529  0.307175   \n",
       "rank_with_model_ltr_nn_cosine_tfidf_598b6e8db8_...  0.255692  0.370709   \n",
       "rank_with_model_ltr_nn_rouge-1_r_4083eddade         0.200430  0.308162   \n",
       "rank_with_model_ltr_nn_rouge-1_r_4083eddade_pro...  0.257616  0.373209   \n",
       "rank_with_model_ltr_random_forest_cosine_tfidf_...  0.196495  0.293281   \n",
       "rank_with_model_ltr_random_forest_cosine_tfidf_...  0.242246  0.341585   \n",
       "rank_with_model_ltr_random_forest_rouge-1_r_464...  0.196905  0.296212   \n",
       "rank_with_model_ltr_random_forest_rouge-1_r_464...  0.242654  0.345799   \n",
       "rank_with_model_ltr_svm_cosine_tfidf_5959a3c0eb     0.200771  0.308330   \n",
       "rank_with_model_ltr_svm_cosine_tfidf_5959a3c0eb...  0.256285  0.372199   \n",
       "rank_with_model_ltr_svm_rouge-1_r_8dd264b4d2        0.202635  0.308546   \n",
       "rank_with_model_ltr_svm_rouge-1_r_8dd264b4d2_pr...  0.262104  0.374286   \n",
       "upper_bound                                         0.218348  0.228750   \n",
       "\n",
       "metric                                                        \n",
       "metric_type                                                r  \n",
       "experiment                                                    \n",
       "baseline_rank_rouge-1_r                             0.155132  \n",
       "baseline_rank_rouge-1_r_processed                   0.208477  \n",
       "key_events_summaries_1                              0.101478  \n",
       "key_events_summaries_1_processed                    0.142189  \n",
       "key_events_summaries_2                              0.101074  \n",
       "key_events_summaries_2_processed                    0.141428  \n",
       "key_events_summaries_3                              0.101478  \n",
       "key_events_summaries_3_processed                    0.142189  \n",
       "key_events_summaries_4                              0.101074  \n",
       "key_events_summaries_4_processed                    0.141428  \n",
       "key_events_summaries_graph_1                        0.157788  \n",
       "key_events_summaries_graph_1_processed              0.191649  \n",
       "key_events_summaries_graph_2                        0.169490  \n",
       "key_events_summaries_graph_2_processed              0.218201  \n",
       "key_events_summaries_graph_3                        0.157788  \n",
       "key_events_summaries_graph_3_processed              0.191649  \n",
       "key_events_summaries_graph_4                        0.169490  \n",
       "key_events_summaries_graph_4_processed              0.218201  \n",
       "key_events_summaries_graph_5                        0.171442  \n",
       "key_events_summaries_graph_5_processed              0.209462  \n",
       "rank_with_model_ltr_gbt_cosine_tfidf_433610900a     0.159739  \n",
       "rank_with_model_ltr_gbt_cosine_tfidf_433610900a...  0.207491  \n",
       "rank_with_model_ltr_gbt_rouge-1_r_be3b14bd22        0.158652  \n",
       "rank_with_model_ltr_gbt_rouge-1_r_be3b14bd22_pr...  0.204242  \n",
       "rank_with_model_ltr_nn_cosine_tfidf_598b6e8db8      0.161273  \n",
       "rank_with_model_ltr_nn_cosine_tfidf_598b6e8db8_...  0.212067  \n",
       "rank_with_model_ltr_nn_rouge-1_r_4083eddade         0.159188  \n",
       "rank_with_model_ltr_nn_rouge-1_r_4083eddade_pro...  0.212391  \n",
       "rank_with_model_ltr_random_forest_cosine_tfidf_...  0.158893  \n",
       "rank_with_model_ltr_random_forest_cosine_tfidf_...  0.203941  \n",
       "rank_with_model_ltr_random_forest_rouge-1_r_464...  0.158457  \n",
       "rank_with_model_ltr_random_forest_rouge-1_r_464...  0.203002  \n",
       "rank_with_model_ltr_svm_cosine_tfidf_5959a3c0eb     0.160001  \n",
       "rank_with_model_ltr_svm_cosine_tfidf_5959a3c0eb...  0.212135  \n",
       "rank_with_model_ltr_svm_rouge-1_r_8dd264b4d2        0.161639  \n",
       "rank_with_model_ltr_svm_rouge-1_r_8dd264b4d2_pr...  0.217653  \n",
       "upper_bound                                         0.232812  "
      ]
     },
     "execution_count": 19,
     "metadata": {},
     "output_type": "execute_result"
    }
   ],
   "source": [
    "pd.pivot_table(pd_metrics, index='experiment', columns=['metric', 'metric_type'], values='value')"
   ]
  },
  {
   "cell_type": "code",
   "execution_count": 14,
   "metadata": {},
   "outputs": [
    {
     "name": "stdout",
     "output_type": "stream",
     "text": [
      "Performing evaluation for 4523 articles\n",
      "Writing to /home/carlos/MasterDS/tfm/data/metrics/summaries/rouge/upper_bound.pickle\n",
      "Writing avg to /home/carlos/MasterDS/tfm/data/metrics/summaries/rouge/upper_bound_avg.pickle\n"
     ]
    }
   ],
   "source": [
    "evaluation.bound_metrics()"
   ]
  },
  {
   "cell_type": "code",
   "execution_count": 26,
   "metadata": {},
   "outputs": [],
   "source": [
    "pd_bound = evaluation.output_avg_bound()"
   ]
  },
  {
   "cell_type": "code",
   "execution_count": 27,
   "metadata": {},
   "outputs": [
    {
     "data": {
      "text/html": [
       "<div>\n",
       "<style scoped>\n",
       "    .dataframe tbody tr th:only-of-type {\n",
       "        vertical-align: middle;\n",
       "    }\n",
       "\n",
       "    .dataframe tbody tr th {\n",
       "        vertical-align: top;\n",
       "    }\n",
       "\n",
       "    .dataframe thead th {\n",
       "        text-align: right;\n",
       "    }\n",
       "</style>\n",
       "<table border=\"1\" class=\"dataframe\">\n",
       "  <thead>\n",
       "    <tr style=\"text-align: right;\">\n",
       "      <th></th>\n",
       "      <th>metric</th>\n",
       "      <th>metric_type</th>\n",
       "      <th>value</th>\n",
       "    </tr>\n",
       "  </thead>\n",
       "  <tbody>\n",
       "    <tr>\n",
       "      <th>0</th>\n",
       "      <td>rouge-1</td>\n",
       "      <td>f</td>\n",
       "      <td>0.105305</td>\n",
       "    </tr>\n",
       "    <tr>\n",
       "      <th>1</th>\n",
       "      <td>rouge-1</td>\n",
       "      <td>p</td>\n",
       "      <td>0.067818</td>\n",
       "    </tr>\n",
       "    <tr>\n",
       "      <th>2</th>\n",
       "      <td>rouge-1</td>\n",
       "      <td>r</td>\n",
       "      <td>0.361353</td>\n",
       "    </tr>\n",
       "    <tr>\n",
       "      <th>3</th>\n",
       "      <td>rouge-2</td>\n",
       "      <td>f</td>\n",
       "      <td>0.021309</td>\n",
       "    </tr>\n",
       "    <tr>\n",
       "      <th>4</th>\n",
       "      <td>rouge-2</td>\n",
       "      <td>p</td>\n",
       "      <td>0.013826</td>\n",
       "    </tr>\n",
       "    <tr>\n",
       "      <th>5</th>\n",
       "      <td>rouge-2</td>\n",
       "      <td>r</td>\n",
       "      <td>0.073771</td>\n",
       "    </tr>\n",
       "    <tr>\n",
       "      <th>6</th>\n",
       "      <td>rouge-l</td>\n",
       "      <td>f</td>\n",
       "      <td>0.218348</td>\n",
       "    </tr>\n",
       "    <tr>\n",
       "      <th>7</th>\n",
       "      <td>rouge-l</td>\n",
       "      <td>p</td>\n",
       "      <td>0.228750</td>\n",
       "    </tr>\n",
       "    <tr>\n",
       "      <th>8</th>\n",
       "      <td>rouge-l</td>\n",
       "      <td>r</td>\n",
       "      <td>0.232812</td>\n",
       "    </tr>\n",
       "  </tbody>\n",
       "</table>\n",
       "</div>"
      ],
      "text/plain": [
       "    metric metric_type     value\n",
       "0  rouge-1           f  0.105305\n",
       "1  rouge-1           p  0.067818\n",
       "2  rouge-1           r  0.361353\n",
       "3  rouge-2           f  0.021309\n",
       "4  rouge-2           p  0.013826\n",
       "5  rouge-2           r  0.073771\n",
       "6  rouge-l           f  0.218348\n",
       "7  rouge-l           p  0.228750\n",
       "8  rouge-l           r  0.232812"
      ]
     },
     "execution_count": 27,
     "metadata": {},
     "output_type": "execute_result"
    }
   ],
   "source": [
    "pd_bound"
   ]
  }
 ],
 "metadata": {
  "kernelspec": {
   "display_name": "Python 3",
   "language": "python",
   "name": "python3"
  },
  "language_info": {
   "codemirror_mode": {
    "name": "ipython",
    "version": 3
   },
   "file_extension": ".py",
   "mimetype": "text/x-python",
   "name": "python",
   "nbconvert_exporter": "python",
   "pygments_lexer": "ipython3",
   "version": "3.7.7"
  }
 },
 "nbformat": 4,
 "nbformat_minor": 4
}
