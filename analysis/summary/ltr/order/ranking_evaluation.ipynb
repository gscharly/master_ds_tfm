{
 "cells": [
  {
   "cell_type": "code",
   "execution_count": 2,
   "metadata": {},
   "outputs": [],
   "source": [
    "MAIN_PATH = \"/home/carlos/MasterDS/tfm\"\n",
    "JSON_DATA_PATH = '{}/data/json/'.format(MAIN_PATH)\n",
    "CSV_DATA_PATH = '{}/data/csv/'.format(MAIN_PATH)"
   ]
  },
  {
   "cell_type": "code",
   "execution_count": 3,
   "metadata": {},
   "outputs": [],
   "source": [
    "import sys\n",
    "sys.path.insert(0, MAIN_PATH)"
   ]
  },
  {
   "cell_type": "code",
   "execution_count": 4,
   "metadata": {},
   "outputs": [],
   "source": [
    "%load_ext autoreload\n",
    "%autoreload 2\n",
    "from scripts.metrics.summary_evaluation import SummaryEvaluation\n",
    "from scripts.models.rank_with_model.rank_with_model import RankModel\n",
    "from scripts.models.baseline_rank.baseline_rank import BaselineRank\n",
    "from scripts.models.ltr.train import LTRTrain\n",
    "from scripts.extractive_summary.ltr.ltr_features_targets import LTRFeaturesTargets\n",
    "from scripts.models.ltr_gbt.train import LTRGBTTrain\n",
    "from scripts.models.ltr_svm_tf.train import LTRSVMTFTrain\n",
    "from scripts.models.ltr_nn_tf.train import LTRNNTFTrain\n",
    "from scripts.models.rank_with_model.metrics import RankModelMetrics\n",
    "from scripts import conf\n",
    "%reload_ext autoreload"
   ]
  },
  {
   "cell_type": "code",
   "execution_count": 5,
   "metadata": {},
   "outputs": [],
   "source": [
    "import pandas as pd"
   ]
  },
  {
   "cell_type": "markdown",
   "metadata": {},
   "source": [
    "# Evaluación de ranking"
   ]
  },
  {
   "cell_type": "markdown",
   "metadata": {},
   "source": [
    "# Random forest"
   ]
  },
  {
   "cell_type": "markdown",
   "metadata": {},
   "source": [
    "## Carga de datos"
   ]
  },
  {
   "cell_type": "code",
   "execution_count": 6,
   "metadata": {},
   "outputs": [
    {
     "name": "stdout",
     "output_type": "stream",
     "text": [
      "Setting target metric to cosine_emb\n"
     ]
    }
   ],
   "source": [
    "ltr_params = {\n",
    "    'key_events': ['goal', 'red_card', 'penalty'],\n",
    "    'lags': [1, 3, 5],\n",
    "    'target_metric': 'cosine_emb',\n",
    "    'drop_teams': True,\n",
    "    'lemma': True,\n",
    "    'metric_params': {'embedding': 'roberta-base-nli-stsb-mean-tokens',\n",
    "                     'text_process': 'basic'},\n",
    "    'count_vec_kwargs': {'ngram_range': (1, 2), 'strip_accents': 'unicode'}\n",
    "}\n",
    "num_features = ['tfidf_sum']\n",
    "cat_features_dict = {'is_key_event': [0, 1],\n",
    "                     'n_players_cat': ['no_player', 'one_player', 'more_than_one_player']}\n",
    "\n",
    "# Uncomment if using cv\n",
    "\n",
    "model_params = {\n",
    "    'n_estimators': [100, 200, 500],\n",
    "    'max_depth': [2, 5, 7],\n",
    "    'bootstrap': [True],\n",
    "    \n",
    "}\n",
    "cv = 5\n",
    "opt_metric = 'neg_mean_squared_error'\n",
    "ltr_train = LTRTrain(cat_features_dict=cat_features_dict, num_features=num_features,\n",
    "                     model_params=model_params, ltr_params=ltr_params,\n",
    "                    cv=cv, opt_metric=opt_metric)\n"
   ]
  },
  {
   "cell_type": "code",
   "execution_count": 55,
   "metadata": {},
   "outputs": [
    {
     "name": "stdout",
     "output_type": "stream",
     "text": [
      "Setting target metric to rouge\n"
     ]
    }
   ],
   "source": [
    "ltr_train = LTRTrain(cat_features_dict=cat_features_dict, num_features=num_features,\n",
    "                     model_params=model_params, ltr_params=ltr_params)"
   ]
  },
  {
   "cell_type": "code",
   "execution_count": 7,
   "metadata": {},
   "outputs": [
    {
     "name": "stdout",
     "output_type": "stream",
     "text": [
      "Setting target metric to cosine_emb\n"
     ]
    }
   ],
   "source": [
    "#CV\n",
    "ltr_train = LTRTrain(cat_features_dict=cat_features_dict,\n",
    "                     num_features=num_features,\n",
    "                     model_params=model_params, ltr_params=ltr_params,\n",
    "                    cv=cv, opt_metric=opt_metric)"
   ]
  },
  {
   "cell_type": "code",
   "execution_count": 10,
   "metadata": {},
   "outputs": [
    {
     "data": {
      "text/plain": [
       "'459c57fcf1'"
      ]
     },
     "execution_count": 10,
     "metadata": {},
     "output_type": "execute_result"
    }
   ],
   "source": [
    "ltr_train.experiment_id()"
   ]
  },
  {
   "cell_type": "code",
   "execution_count": 8,
   "metadata": {},
   "outputs": [
    {
     "name": "stdout",
     "output_type": "stream",
     "text": [
      "Model already trained\n"
     ]
    }
   ],
   "source": [
    "rank_model = RankModel(ltr_train, n=10)"
   ]
  },
  {
   "cell_type": "markdown",
   "metadata": {},
   "source": [
    "## Evaluación"
   ]
  },
  {
   "cell_type": "code",
   "execution_count": 9,
   "metadata": {},
   "outputs": [],
   "source": [
    "rank_metrics = RankModelMetrics(rank_model)"
   ]
  },
  {
   "cell_type": "code",
   "execution_count": 10,
   "metadata": {},
   "outputs": [],
   "source": [
    "avg_ndcg = rank_metrics.get_metrics()"
   ]
  },
  {
   "cell_type": "code",
   "execution_count": 11,
   "metadata": {},
   "outputs": [
    {
     "data": {
      "text/plain": [
       "0.8696006108476068"
      ]
     },
     "execution_count": 11,
     "metadata": {},
     "output_type": "execute_result"
    }
   ],
   "source": [
    "avg_ndcg"
   ]
  },
  {
   "cell_type": "markdown",
   "metadata": {},
   "source": [
    "# GBT"
   ]
  },
  {
   "cell_type": "markdown",
   "metadata": {},
   "source": [
    "## Carga de datos"
   ]
  },
  {
   "cell_type": "code",
   "execution_count": 12,
   "metadata": {},
   "outputs": [],
   "source": [
    "ltr_params = {\n",
    "    'key_events': ['goal', 'red_card', 'penalty'],\n",
    "    'lags': [1, 3, 5],\n",
    "    'target_metric': 'cosine_emb',\n",
    "    'drop_teams': True,\n",
    "    'lemma': True,\n",
    "    'metric_params': {'embedding': 'roberta-base-nli-stsb-mean-tokens',\n",
    "                     'text_process': 'basic'},\n",
    "    'count_vec_kwargs': {'ngram_range': (1, 2), 'strip_accents': 'unicode'}\n",
    "}\n",
    "cat_features_dict = {'is_key_event': [0, 1]}\n",
    "num_features = ['tfidf_sum']\n",
    "\n",
    "model_params = {\n",
    "    'min_samples_leaf': [50],\n",
    "    'subsample': [0.8],  \n",
    "    'learning_rate': [0.1],\n",
    "    'n_estimators': [80],\n",
    "    'max_depth':[7],\n",
    "    'min_samples_split': [600],\n",
    "}\n",
    "cv = 5\n",
    "opt_metric = 'neg_mean_squared_error'"
   ]
  },
  {
   "cell_type": "code",
   "execution_count": 13,
   "metadata": {},
   "outputs": [
    {
     "name": "stdout",
     "output_type": "stream",
     "text": [
      "Setting target metric to cosine_emb\n"
     ]
    }
   ],
   "source": [
    "ltr_train = LTRGBTTrain(cat_features_dict=cat_features_dict, num_features=num_features,\n",
    "                     model_params=model_params, ltr_params=ltr_params,\n",
    "                    cv=cv, opt_metric=opt_metric)"
   ]
  },
  {
   "cell_type": "code",
   "execution_count": 14,
   "metadata": {},
   "outputs": [
    {
     "data": {
      "text/plain": [
       "'fca8c8bb80'"
      ]
     },
     "execution_count": 14,
     "metadata": {},
     "output_type": "execute_result"
    }
   ],
   "source": [
    "ltr_train.experiment_id()"
   ]
  },
  {
   "cell_type": "code",
   "execution_count": 14,
   "metadata": {},
   "outputs": [
    {
     "name": "stdout",
     "output_type": "stream",
     "text": [
      "Model already trained\n"
     ]
    }
   ],
   "source": [
    "rank_model = RankModel(ltr_train, n=10)"
   ]
  },
  {
   "cell_type": "code",
   "execution_count": 17,
   "metadata": {},
   "outputs": [
    {
     "data": {
      "text/plain": [
       "'/home/carlos/MasterDS/tfm/models/rank_with_model/77752e3840'"
      ]
     },
     "execution_count": 17,
     "metadata": {},
     "output_type": "execute_result"
    }
   ],
   "source": [
    "rank_model.path"
   ]
  },
  {
   "cell_type": "markdown",
   "metadata": {},
   "source": [
    "## Evaluación"
   ]
  },
  {
   "cell_type": "markdown",
   "metadata": {},
   "source": [
    "## Evaluación"
   ]
  },
  {
   "cell_type": "code",
   "execution_count": 15,
   "metadata": {},
   "outputs": [],
   "source": [
    "rank_metrics = RankModelMetrics(rank_model)"
   ]
  },
  {
   "cell_type": "code",
   "execution_count": 16,
   "metadata": {},
   "outputs": [
    {
     "name": "stdout",
     "output_type": "stream",
     "text": [
      "Categorizing n_players...\n",
      "Computing new length...\n",
      "Dropping {'position', 'event_ix', 'equalize', 'players_importance', 'n_stop', 'length', 'sim_previous_5', 'total_length', 'score', 'sentence_ix', 'sim_previous_3', 'n_players_cat', 'url', 'n_players', 'sim_previous_1', 'json_file', 'advantage'}\n",
      "Reading targets from /home/carlos/MasterDS/tfm/data/ltr/targets/819812546b/targets.csv\n"
     ]
    },
    {
     "name": "stderr",
     "output_type": "stream",
     "text": [
      "  9%|▊         | 388/4523 [00:08<01:34, 43.74it/s]/home/carlos/MasterDS/tfm/scripts/models/rank_with_model/metrics.py:56: UserWarning: This url only has one event, ignoring...\n",
      "  warnings.warn('This url only has one event, ignoring...')\n",
      " 14%|█▎        | 616/4523 [00:13<01:18, 49.95it/s]/home/carlos/MasterDS/tfm/scripts/models/rank_with_model/metrics.py:56: UserWarning: This url only has one event, ignoring...\n",
      "  warnings.warn('This url only has one event, ignoring...')\n",
      " 16%|█▌        | 713/4523 [00:15<01:15, 50.70it/s]/home/carlos/MasterDS/tfm/scripts/models/rank_with_model/metrics.py:56: UserWarning: This url only has one event, ignoring...\n",
      "  warnings.warn('This url only has one event, ignoring...')\n",
      " 20%|██        | 910/4523 [00:19<01:12, 49.87it/s]/home/carlos/MasterDS/tfm/scripts/models/rank_with_model/metrics.py:56: UserWarning: This url only has one event, ignoring...\n",
      "  warnings.warn('This url only has one event, ignoring...')\n",
      " 79%|███████▉  | 3577/4523 [01:16<00:22, 41.91it/s]/home/carlos/MasterDS/tfm/scripts/models/rank_with_model/metrics.py:56: UserWarning: This url only has one event, ignoring...\n",
      "  warnings.warn('This url only has one event, ignoring...')\n",
      "100%|██████████| 4523/4523 [01:38<00:00, 46.15it/s]\n"
     ]
    }
   ],
   "source": [
    "avg_ndcg = rank_metrics.get_metrics()"
   ]
  },
  {
   "cell_type": "code",
   "execution_count": 17,
   "metadata": {},
   "outputs": [
    {
     "data": {
      "text/plain": [
       "0.869108959186533"
      ]
     },
     "execution_count": 17,
     "metadata": {},
     "output_type": "execute_result"
    }
   ],
   "source": [
    "avg_ndcg"
   ]
  },
  {
   "cell_type": "markdown",
   "metadata": {},
   "source": [
    "# SVM"
   ]
  },
  {
   "cell_type": "markdown",
   "metadata": {},
   "source": [
    "## Carga de datos"
   ]
  },
  {
   "cell_type": "code",
   "execution_count": 18,
   "metadata": {},
   "outputs": [],
   "source": [
    "ltr_params = {\n",
    "    'mode': 'tfidf',\n",
    "    'count_vec_kwargs': {'strip_accents': 'unicode'},\n",
    "    'target_metric': 'cosine_emb',\n",
    "    'metric_params': {'embedding': 'roberta-base-nli-stsb-mean-tokens',\n",
    "                     'text_process': 'basic'},\n",
    "    'drop_teams': True,\n",
    "    'lemma': True,\n",
    "    'train_perc': 0.7,\n",
    "    'val_perc': 0.2\n",
    "}\n",
    "\n",
    "dim_reduction_params = {\n",
    "    'dim_reduction': 'truncated_svd',\n",
    "    'dim_reduction_params': {\n",
    "        'n_components': 20,\n",
    "        'random_state': 10\n",
    "    }\n",
    "}\n",
    "\n",
    "model_params = {}"
   ]
  },
  {
   "cell_type": "code",
   "execution_count": 19,
   "metadata": {},
   "outputs": [
    {
     "name": "stdout",
     "output_type": "stream",
     "text": [
      "Setting target metric to cosine_emb\n",
      "Setting mode to tfidf\n"
     ]
    }
   ],
   "source": [
    "ltr_train = LTRSVMTFTrain(model_params=model_params,\n",
    "                          ltr_params=ltr_params,\n",
    "                         dim_reduction_params=None)"
   ]
  },
  {
   "cell_type": "code",
   "execution_count": 32,
   "metadata": {},
   "outputs": [
    {
     "name": "stdout",
     "output_type": "stream",
     "text": [
      "Setting target metric to cosine_emb\n",
      "Setting mode to tfidf\n",
      "Using truncated_svd for dimensionality reduction\n"
     ]
    }
   ],
   "source": [
    "ltr_train = LTRSVMTFTrain(model_params=model_params, ltr_params=ltr_params,\n",
    "                         dim_reduction_params=dim_reduction_params)"
   ]
  },
  {
   "cell_type": "code",
   "execution_count": 20,
   "metadata": {},
   "outputs": [
    {
     "name": "stdout",
     "output_type": "stream",
     "text": [
      "Model already trained\n"
     ]
    }
   ],
   "source": [
    "rank_model = RankModel(ltr_train, n=10)"
   ]
  },
  {
   "cell_type": "code",
   "execution_count": 34,
   "metadata": {},
   "outputs": [
    {
     "data": {
      "text/plain": [
       "'4422e10011'"
      ]
     },
     "execution_count": 34,
     "metadata": {},
     "output_type": "execute_result"
    }
   ],
   "source": [
    "ltr_train.experiment_id()"
   ]
  },
  {
   "cell_type": "markdown",
   "metadata": {},
   "source": [
    "## Evaluación"
   ]
  },
  {
   "cell_type": "code",
   "execution_count": 21,
   "metadata": {},
   "outputs": [],
   "source": [
    "rank_metrics = RankModelMetrics(rank_model)"
   ]
  },
  {
   "cell_type": "code",
   "execution_count": 22,
   "metadata": {},
   "outputs": [
    {
     "name": "stdout",
     "output_type": "stream",
     "text": [
      "Reading targets from /home/carlos/MasterDS/tfm/data/ltr/targets/819812546b/targets.csv\n"
     ]
    },
    {
     "name": "stderr",
     "output_type": "stream",
     "text": [
      "  9%|▊         | 385/4523 [00:07<01:18, 52.69it/s]/home/carlos/MasterDS/tfm/scripts/models/rank_with_model/metrics.py:56: UserWarning: This url only has one event, ignoring...\n",
      "  warnings.warn('This url only has one event, ignoring...')\n",
      " 14%|█▎        | 613/4523 [00:11<01:13, 53.01it/s]/home/carlos/MasterDS/tfm/scripts/models/rank_with_model/metrics.py:56: UserWarning: This url only has one event, ignoring...\n",
      "  warnings.warn('This url only has one event, ignoring...')\n",
      " 16%|█▌        | 709/4523 [00:13<01:12, 52.83it/s]/home/carlos/MasterDS/tfm/scripts/models/rank_with_model/metrics.py:56: UserWarning: This url only has one event, ignoring...\n",
      "  warnings.warn('This url only has one event, ignoring...')\n",
      " 20%|██        | 907/4523 [00:17<01:07, 53.60it/s]/home/carlos/MasterDS/tfm/scripts/models/rank_with_model/metrics.py:56: UserWarning: This url only has one event, ignoring...\n",
      "  warnings.warn('This url only has one event, ignoring...')\n",
      " 79%|███████▉  | 3577/4523 [01:08<00:17, 52.81it/s]/home/carlos/MasterDS/tfm/scripts/models/rank_with_model/metrics.py:56: UserWarning: This url only has one event, ignoring...\n",
      "  warnings.warn('This url only has one event, ignoring...')\n",
      "100%|██████████| 4523/4523 [01:26<00:00, 52.57it/s]\n"
     ]
    }
   ],
   "source": [
    "avg_ndcg = rank_metrics.get_metrics()"
   ]
  },
  {
   "cell_type": "code",
   "execution_count": 23,
   "metadata": {},
   "outputs": [
    {
     "data": {
      "text/plain": [
       "0.9198286293726916"
      ]
     },
     "execution_count": 23,
     "metadata": {},
     "output_type": "execute_result"
    }
   ],
   "source": [
    "avg_ndcg"
   ]
  },
  {
   "cell_type": "markdown",
   "metadata": {},
   "source": [
    "# NN"
   ]
  },
  {
   "cell_type": "markdown",
   "metadata": {},
   "source": [
    "## Carga de datos"
   ]
  },
  {
   "cell_type": "code",
   "execution_count": 24,
   "metadata": {},
   "outputs": [],
   "source": [
    "ltr_params = {\n",
    "    'mode': 'tfidf',\n",
    "    'count_vec_kwargs': {'strip_accents': 'unicode'},\n",
    "    'target_metric': 'cosine_emb',\n",
    "    'metric_params': {'embedding': 'roberta-base-nli-stsb-mean-tokens',\n",
    "                     'text_process': 'basic'},\n",
    "    'drop_teams': True,\n",
    "    'lemma': True,\n",
    "    'train_perc': 0.7,\n",
    "    'val_perc': 0.2\n",
    "}\n",
    "DENSE_LAYERS = [125, 60, 20]\n",
    "N_DROPOUT = 3\n",
    "\n",
    "model_params = {\n",
    "    'dense_layers': DENSE_LAYERS,\n",
    "    'dense_activation': ['relu'] * len(DENSE_LAYERS),\n",
    "    'dropout': [0.3] * N_DROPOUT,\n",
    "    'optimizer': 'adam',\n",
    "}\n",
    "\n",
    "dim_reduction_params = {\n",
    "        'dim_reduction': 'truncated_svd',\n",
    "        'dim_reduction_params': {\n",
    "            'n_components': 250,\n",
    "            'random_state': 10\n",
    "    }\n",
    "}\n",
    "\n",
    "opt_metric = 'mean_squared_error'\n",
    "epochs = 25\n",
    "batch_size = 128\n",
    "# Not in config\n",
    "shuffle = True\n",
    "max_queue_size = 50"
   ]
  },
  {
   "cell_type": "code",
   "execution_count": 25,
   "metadata": {},
   "outputs": [
    {
     "name": "stdout",
     "output_type": "stream",
     "text": [
      "Setting target metric to cosine_emb\n",
      "Setting mode to tfidf\n",
      "Optimizing mean_squared_error with adam\n",
      "Epochs: 25\n",
      "Batch size: 128\n"
     ]
    }
   ],
   "source": [
    "ltr_train = LTRNNTFTrain(ltr_params, epochs=epochs, batch_size=batch_size,\n",
    "                         model_params=model_params,\n",
    "                         opt_metric=opt_metric)"
   ]
  },
  {
   "cell_type": "code",
   "execution_count": 13,
   "metadata": {},
   "outputs": [
    {
     "name": "stdout",
     "output_type": "stream",
     "text": [
      "Using truncated_svd for dimensionality reduction\n",
      "Using truncated_svd for dimensionality reduction\n",
      "Setting target metric to cosine_emb\n",
      "Setting mode to tfidf\n",
      "Optimizing mean_squared_error with adam\n",
      "Epochs: 25\n",
      "Batch size: 128\n"
     ]
    }
   ],
   "source": [
    "ltr_train = LTRNNTFTrain(ltr_params, epochs=epochs, batch_size=batch_size,\n",
    "                         model_params=model_params,\n",
    "                         opt_metric=opt_metric, \n",
    "                        dim_reduction_params=dim_reduction_params)"
   ]
  },
  {
   "cell_type": "code",
   "execution_count": 26,
   "metadata": {},
   "outputs": [
    {
     "name": "stdout",
     "output_type": "stream",
     "text": [
      "Model already trained\n"
     ]
    }
   ],
   "source": [
    "rank_model = RankModel(ltr_train, n=10, is_nn=True)"
   ]
  },
  {
   "cell_type": "code",
   "execution_count": 41,
   "metadata": {},
   "outputs": [
    {
     "data": {
      "text/plain": [
       "'/home/carlos/MasterDS/tfm/models/rank_with_model/57e17a45b6'"
      ]
     },
     "execution_count": 41,
     "metadata": {},
     "output_type": "execute_result"
    }
   ],
   "source": [
    "rank_model.path"
   ]
  },
  {
   "cell_type": "code",
   "execution_count": 42,
   "metadata": {},
   "outputs": [
    {
     "data": {
      "text/plain": [
       "scripts.models.rank_with_model.rank_with_model.RankModel"
      ]
     },
     "execution_count": 42,
     "metadata": {},
     "output_type": "execute_result"
    }
   ],
   "source": [
    "type(rank_model)"
   ]
  },
  {
   "cell_type": "code",
   "execution_count": 14,
   "metadata": {},
   "outputs": [
    {
     "data": {
      "text/plain": [
       "'440cde5154'"
      ]
     },
     "execution_count": 14,
     "metadata": {},
     "output_type": "execute_result"
    }
   ],
   "source": [
    "ltr_train.experiment_id()"
   ]
  },
  {
   "cell_type": "markdown",
   "metadata": {},
   "source": [
    "## Evaluación"
   ]
  },
  {
   "cell_type": "code",
   "execution_count": 27,
   "metadata": {},
   "outputs": [],
   "source": [
    "rank_metrics = RankModelMetrics(rank_model)"
   ]
  },
  {
   "cell_type": "code",
   "execution_count": 28,
   "metadata": {},
   "outputs": [
    {
     "name": "stdout",
     "output_type": "stream",
     "text": [
      "Reading targets from /home/carlos/MasterDS/tfm/data/ltr/targets/819812546b/targets.csv\n"
     ]
    },
    {
     "name": "stderr",
     "output_type": "stream",
     "text": [
      "  9%|▊         | 388/4523 [00:07<01:18, 52.94it/s]/home/carlos/MasterDS/tfm/scripts/models/rank_with_model/metrics.py:56: UserWarning: This url only has one event, ignoring...\n",
      "  warnings.warn('This url only has one event, ignoring...')\n",
      " 14%|█▎        | 616/4523 [00:11<01:16, 51.28it/s]/home/carlos/MasterDS/tfm/scripts/models/rank_with_model/metrics.py:56: UserWarning: This url only has one event, ignoring...\n",
      "  warnings.warn('This url only has one event, ignoring...')\n",
      " 16%|█▌        | 712/4523 [00:13<01:11, 53.38it/s]/home/carlos/MasterDS/tfm/scripts/models/rank_with_model/metrics.py:56: UserWarning: This url only has one event, ignoring...\n",
      "  warnings.warn('This url only has one event, ignoring...')\n",
      " 20%|██        | 910/4523 [00:17<01:07, 53.63it/s]/home/carlos/MasterDS/tfm/scripts/models/rank_with_model/metrics.py:56: UserWarning: This url only has one event, ignoring...\n",
      "  warnings.warn('This url only has one event, ignoring...')\n",
      " 79%|███████▉  | 3576/4523 [01:08<00:18, 52.44it/s]/home/carlos/MasterDS/tfm/scripts/models/rank_with_model/metrics.py:56: UserWarning: This url only has one event, ignoring...\n",
      "  warnings.warn('This url only has one event, ignoring...')\n",
      "100%|██████████| 4523/4523 [01:26<00:00, 52.19it/s]\n"
     ]
    }
   ],
   "source": [
    "avg_ndcg = rank_metrics.get_metrics()"
   ]
  },
  {
   "cell_type": "code",
   "execution_count": 29,
   "metadata": {},
   "outputs": [
    {
     "data": {
      "text/plain": [
       "0.9166167855009472"
      ]
     },
     "execution_count": 29,
     "metadata": {},
     "output_type": "execute_result"
    }
   ],
   "source": [
    "avg_ndcg"
   ]
  },
  {
   "cell_type": "markdown",
   "metadata": {},
   "source": [
    "## Métricas modelos vs ordenación"
   ]
  },
  {
   "cell_type": "code",
   "execution_count": 41,
   "metadata": {},
   "outputs": [],
   "source": [
    "import pandas as pd\n",
    "import matplotlib.pyplot as plt"
   ]
  },
  {
   "cell_type": "code",
   "execution_count": 51,
   "metadata": {},
   "outputs": [],
   "source": [
    "metrics_dict = {\n",
    "    'MSE': [0.01475,\n",
    "0.0147,\n",
    "0.01475,\n",
    "0.01366,\n",
    "0.01995,\n",
    "0.01989,\n",
    "0.01948,\n",
    "0.01836,\n",
    "0.006887,\n",
    "0.006924,\n",
    "0.005833,\n",
    "0.005589,\n",
    "0.009057,\n",
    "0.00913,\n",
    "0.007152,\n",
    "0.007072],\n",
    "    'NDCG@10': [0.6668249673,\n",
    "0.6670141986,\n",
    "0.7896433687,\n",
    "0.757607911,\n",
    "0.6750373009,\n",
    "0.6811594792,\n",
    "0.7880717308,\n",
    "0.756274068,\n",
    "0.8401264834,\n",
    "0.8404661173,\n",
    "0.8897762351,\n",
    "0.8960260083,\n",
    "0.8696006108,\n",
    "0.8691089592,\n",
    "0.9198286294,\n",
    "0.9166167855],\n",
    "    'Modelo': ['RF', 'GBT', 'SVM', 'NN']*4,\n",
    "    'Score': ['ROUGE-1']*4 + ['Cosine TF-IDF']*4 + ['Cosine + paraphrase']*4 + ['Cosine + STS']*4\n",
    "}"
   ]
  },
  {
   "cell_type": "code",
   "execution_count": 52,
   "metadata": {},
   "outputs": [],
   "source": [
    "metrics_df = pd.DataFrame(metrics_dict)"
   ]
  },
  {
   "cell_type": "code",
   "execution_count": 62,
   "metadata": {},
   "outputs": [
    {
     "data": {
      "text/html": [
       "<div>\n",
       "<style scoped>\n",
       "    .dataframe tbody tr th:only-of-type {\n",
       "        vertical-align: middle;\n",
       "    }\n",
       "\n",
       "    .dataframe tbody tr th {\n",
       "        vertical-align: top;\n",
       "    }\n",
       "\n",
       "    .dataframe thead th {\n",
       "        text-align: right;\n",
       "    }\n",
       "</style>\n",
       "<table border=\"1\" class=\"dataframe\">\n",
       "  <thead>\n",
       "    <tr style=\"text-align: right;\">\n",
       "      <th></th>\n",
       "      <th>MSE</th>\n",
       "      <th>NDCG@10</th>\n",
       "      <th>Modelo</th>\n",
       "      <th>Score</th>\n",
       "    </tr>\n",
       "  </thead>\n",
       "  <tbody>\n",
       "    <tr>\n",
       "      <th>0</th>\n",
       "      <td>0.014750</td>\n",
       "      <td>0.666825</td>\n",
       "      <td>RF</td>\n",
       "      <td>ROUGE-1</td>\n",
       "    </tr>\n",
       "    <tr>\n",
       "      <th>1</th>\n",
       "      <td>0.014700</td>\n",
       "      <td>0.667014</td>\n",
       "      <td>GBT</td>\n",
       "      <td>ROUGE-1</td>\n",
       "    </tr>\n",
       "    <tr>\n",
       "      <th>2</th>\n",
       "      <td>0.014750</td>\n",
       "      <td>0.789643</td>\n",
       "      <td>SVM</td>\n",
       "      <td>ROUGE-1</td>\n",
       "    </tr>\n",
       "    <tr>\n",
       "      <th>3</th>\n",
       "      <td>0.013660</td>\n",
       "      <td>0.757608</td>\n",
       "      <td>NN</td>\n",
       "      <td>ROUGE-1</td>\n",
       "    </tr>\n",
       "    <tr>\n",
       "      <th>4</th>\n",
       "      <td>0.019950</td>\n",
       "      <td>0.675037</td>\n",
       "      <td>RF</td>\n",
       "      <td>Cosine TF-IDF</td>\n",
       "    </tr>\n",
       "    <tr>\n",
       "      <th>5</th>\n",
       "      <td>0.019890</td>\n",
       "      <td>0.681159</td>\n",
       "      <td>GBT</td>\n",
       "      <td>Cosine TF-IDF</td>\n",
       "    </tr>\n",
       "    <tr>\n",
       "      <th>6</th>\n",
       "      <td>0.019480</td>\n",
       "      <td>0.788072</td>\n",
       "      <td>SVM</td>\n",
       "      <td>Cosine TF-IDF</td>\n",
       "    </tr>\n",
       "    <tr>\n",
       "      <th>7</th>\n",
       "      <td>0.018360</td>\n",
       "      <td>0.756274</td>\n",
       "      <td>NN</td>\n",
       "      <td>Cosine TF-IDF</td>\n",
       "    </tr>\n",
       "    <tr>\n",
       "      <th>8</th>\n",
       "      <td>0.006887</td>\n",
       "      <td>0.840126</td>\n",
       "      <td>RF</td>\n",
       "      <td>Cosine + paraphrase</td>\n",
       "    </tr>\n",
       "    <tr>\n",
       "      <th>9</th>\n",
       "      <td>0.006924</td>\n",
       "      <td>0.840466</td>\n",
       "      <td>GBT</td>\n",
       "      <td>Cosine + paraphrase</td>\n",
       "    </tr>\n",
       "    <tr>\n",
       "      <th>10</th>\n",
       "      <td>0.005833</td>\n",
       "      <td>0.889776</td>\n",
       "      <td>SVM</td>\n",
       "      <td>Cosine + paraphrase</td>\n",
       "    </tr>\n",
       "    <tr>\n",
       "      <th>11</th>\n",
       "      <td>0.005589</td>\n",
       "      <td>0.896026</td>\n",
       "      <td>NN</td>\n",
       "      <td>Cosine + paraphrase</td>\n",
       "    </tr>\n",
       "    <tr>\n",
       "      <th>12</th>\n",
       "      <td>0.009057</td>\n",
       "      <td>0.869601</td>\n",
       "      <td>RF</td>\n",
       "      <td>Cosine + STS</td>\n",
       "    </tr>\n",
       "    <tr>\n",
       "      <th>13</th>\n",
       "      <td>0.009130</td>\n",
       "      <td>0.869109</td>\n",
       "      <td>GBT</td>\n",
       "      <td>Cosine + STS</td>\n",
       "    </tr>\n",
       "    <tr>\n",
       "      <th>14</th>\n",
       "      <td>0.007152</td>\n",
       "      <td>0.919829</td>\n",
       "      <td>SVM</td>\n",
       "      <td>Cosine + STS</td>\n",
       "    </tr>\n",
       "    <tr>\n",
       "      <th>15</th>\n",
       "      <td>0.007072</td>\n",
       "      <td>0.916617</td>\n",
       "      <td>NN</td>\n",
       "      <td>Cosine + STS</td>\n",
       "    </tr>\n",
       "  </tbody>\n",
       "</table>\n",
       "</div>"
      ],
      "text/plain": [
       "         MSE   NDCG@10 Modelo                Score\n",
       "0   0.014750  0.666825     RF              ROUGE-1\n",
       "1   0.014700  0.667014    GBT              ROUGE-1\n",
       "2   0.014750  0.789643    SVM              ROUGE-1\n",
       "3   0.013660  0.757608     NN              ROUGE-1\n",
       "4   0.019950  0.675037     RF        Cosine TF-IDF\n",
       "5   0.019890  0.681159    GBT        Cosine TF-IDF\n",
       "6   0.019480  0.788072    SVM        Cosine TF-IDF\n",
       "7   0.018360  0.756274     NN        Cosine TF-IDF\n",
       "8   0.006887  0.840126     RF  Cosine + paraphrase\n",
       "9   0.006924  0.840466    GBT  Cosine + paraphrase\n",
       "10  0.005833  0.889776    SVM  Cosine + paraphrase\n",
       "11  0.005589  0.896026     NN  Cosine + paraphrase\n",
       "12  0.009057  0.869601     RF         Cosine + STS\n",
       "13  0.009130  0.869109    GBT         Cosine + STS\n",
       "14  0.007152  0.919829    SVM         Cosine + STS\n",
       "15  0.007072  0.916617     NN         Cosine + STS"
      ]
     },
     "execution_count": 62,
     "metadata": {},
     "output_type": "execute_result"
    }
   ],
   "source": [
    "metrics_df"
   ]
  },
  {
   "cell_type": "code",
   "execution_count": 54,
   "metadata": {},
   "outputs": [],
   "source": [
    "scores = ['ROUGE-1', 'Cosine TF-IDF', 'Cosine + paraphrase', 'Cosine + STS']"
   ]
  },
  {
   "cell_type": "code",
   "execution_count": 71,
   "metadata": {},
   "outputs": [
    {
     "data": {
      "image/png": "[encoded data removed]",
      "text/plain": [
       "<Figure size 432x288 with 2 Axes>"
      ]
     },
     "metadata": {
      "needs_background": "light"
     },
     "output_type": "display_data"
    },
    {
     "data": {
      "image/png": "[encoded data removed]",
      "text/plain": [
       "<Figure size 432x288 with 2 Axes>"
      ]
     },
     "metadata": {
      "needs_background": "light"
     },
     "output_type": "display_data"
    },
    {
     "data": {
      "image/png": "[encoded data removed]",
      "text/plain": [
       "<Figure size 432x288 with 2 Axes>"
      ]
     },
     "metadata": {
      "needs_background": "light"
     },
     "output_type": "display_data"
    },
    {
     "data": {
      "image/png": "[encoded data removed]",
      "text/plain": [
       "<Figure size 432x288 with 2 Axes>"
      ]
     },
     "metadata": {
      "needs_background": "light"
     },
     "output_type": "display_data"
    }
   ],
   "source": [
    "for score in scores:\n",
    "    score_df = metrics_df[metrics_df.Score == score].sort_values('MSE')\n",
    "    fig = plt.figure()\n",
    "    ax = fig.add_subplot(111)\n",
    "    ax1 = ax.twinx()\n",
    "\n",
    "    width = 0.2\n",
    "\n",
    "    score_df.plot(kind='bar', x='Modelo', y='MSE', ax=ax, width=width, position=1)\n",
    "    score_df.plot(kind='bar', x='Modelo', y='NDCG@10', color='orange', ax=ax1, width=width, position=0)\n",
    "\n",
    "    ax.set_ylabel('MSE')\n",
    "    ax1.set_ylabel('NDCG@10')\n",
    "    \n",
    "    ax.get_legend().remove()\n",
    "    ax1.get_legend().remove()\n",
    "    \n",
    "    for tick in ax.get_xticklabels():\n",
    "        tick.set_rotation(45)\n",
    "    \n",
    "    plt.title(score)\n",
    "\n",
    "    plt.show()"
   ]
  },
  {
   "cell_type": "code",
   "execution_count": 74,
   "metadata": {},
   "outputs": [
    {
     "data": {
      "text/plain": [
       "<AxesSubplot:xlabel='Modelo'>"
      ]
     },
     "execution_count": 74,
     "metadata": {},
     "output_type": "execute_result"
    },
    {
     "data": {
      "image/png": "[encoded data removed]",
      "text/plain": [
       "<Figure size 432x288 with 1 Axes>"
      ]
     },
     "metadata": {
      "needs_background": "light"
     },
     "output_type": "display_data"
    }
   ],
   "source": [
    "metrics_df[metrics_df.Score=='Cosine TF-IDF'].plot.bar(x='Modelo', y='NDCG@10', color='orange')"
   ]
  },
  {
   "cell_type": "code",
   "execution_count": null,
   "metadata": {},
   "outputs": [],
   "source": []
  },
  {
   "cell_type": "markdown",
   "metadata": {},
   "source": [
    "# Eventos clave y grafos conceptuales"
   ]
  },
  {
   "cell_type": "code",
   "execution_count": 5,
   "metadata": {},
   "outputs": [],
   "source": [
    "sms_dict = {\n",
    "    'sent_emb': 'distilroberta-base-paraphrase-v1'\n",
    "}"
   ]
  },
  {
   "cell_type": "code",
   "execution_count": 6,
   "metadata": {},
   "outputs": [
    {
     "name": "stdout",
     "output_type": "stream",
     "text": [
      "Setting target metric to sms\n"
     ]
    }
   ],
   "source": [
    "evaluation = SummaryEvaluation(metric='sms', sms_dict=sms_dict)"
   ]
  },
  {
   "cell_type": "code",
   "execution_count": 11,
   "metadata": {},
   "outputs": [
    {
     "name": "stdout",
     "output_type": "stream",
     "text": [
      "Evaluating the following summaries: ['key_events_summaries_1.csv', 'key_events_summaries_3.csv', 'key_events_summaries_4.csv', 'key_events_summaries_graph_2.csv', 'key_events_summaries_graph_3.csv', 'key_events_summaries_2.csv', 'key_events_summaries_graph_5.csv', 'key_events_summaries_graph_1.csv', 'key_events_summaries_graph_4.csv']\n",
      "Evaluating key_events_summaries_1.csv\n",
      "Performing evaluation for 4302 articles\n",
      "Writing to /home/carlos/MasterDS/tfm/data/metrics/summaries/sms/key_events_summaries_1_processed.pickle\n",
      "Writing avg to /home/carlos/MasterDS/tfm/data/metrics/summaries/sms/key_events_summaries_1_processed_avg.pickle\n",
      "Evaluating key_events_summaries_3.csv\n",
      "Performing evaluation for 4302 articles\n",
      "Writing to /home/carlos/MasterDS/tfm/data/metrics/summaries/sms/key_events_summaries_3_processed.pickle\n",
      "Writing avg to /home/carlos/MasterDS/tfm/data/metrics/summaries/sms/key_events_summaries_3_processed_avg.pickle\n",
      "Evaluating key_events_summaries_4.csv\n",
      "Performing evaluation for 4300 articles\n",
      "Writing to /home/carlos/MasterDS/tfm/data/metrics/summaries/sms/key_events_summaries_4_processed.pickle\n",
      "Writing avg to /home/carlos/MasterDS/tfm/data/metrics/summaries/sms/key_events_summaries_4_processed_avg.pickle\n",
      "Evaluating key_events_summaries_graph_2.csv\n",
      "There are 7 articles with an empty summary\n",
      "Performing evaluation for 4516 articles\n",
      "Writing to /home/carlos/MasterDS/tfm/data/metrics/summaries/sms/key_events_summaries_graph_2_processed.pickle\n",
      "Writing avg to /home/carlos/MasterDS/tfm/data/metrics/summaries/sms/key_events_summaries_graph_2_processed_avg.pickle\n",
      "Evaluating key_events_summaries_graph_3.csv\n",
      "There are 7 articles with an empty summary\n",
      "Performing evaluation for 4516 articles\n",
      "Writing to /home/carlos/MasterDS/tfm/data/metrics/summaries/sms/key_events_summaries_graph_3_processed.pickle\n",
      "Writing avg to /home/carlos/MasterDS/tfm/data/metrics/summaries/sms/key_events_summaries_graph_3_processed_avg.pickle\n",
      "Evaluating key_events_summaries_2.csv\n",
      "Performing evaluation for 4300 articles\n",
      "Writing to /home/carlos/MasterDS/tfm/data/metrics/summaries/sms/key_events_summaries_2_processed.pickle\n",
      "Writing avg to /home/carlos/MasterDS/tfm/data/metrics/summaries/sms/key_events_summaries_2_processed_avg.pickle\n",
      "Evaluating key_events_summaries_graph_5.csv\n",
      "Performing evaluation for 4482 articles\n",
      "Writing to /home/carlos/MasterDS/tfm/data/metrics/summaries/sms/key_events_summaries_graph_5_processed.pickle\n",
      "Writing avg to /home/carlos/MasterDS/tfm/data/metrics/summaries/sms/key_events_summaries_graph_5_processed_avg.pickle\n",
      "Evaluating key_events_summaries_graph_1.csv\n",
      "There are 7 articles with an empty summary\n",
      "Performing evaluation for 4516 articles\n",
      "Writing to /home/carlos/MasterDS/tfm/data/metrics/summaries/sms/key_events_summaries_graph_1_processed.pickle\n",
      "Writing avg to /home/carlos/MasterDS/tfm/data/metrics/summaries/sms/key_events_summaries_graph_1_processed_avg.pickle\n",
      "Evaluating key_events_summaries_graph_4.csv\n",
      "There are 7 articles with an empty summary\n",
      "Performing evaluation for 4516 articles\n",
      "Writing to /home/carlos/MasterDS/tfm/data/metrics/summaries/sms/key_events_summaries_graph_4_processed.pickle\n",
      "Writing avg to /home/carlos/MasterDS/tfm/data/metrics/summaries/sms/key_events_summaries_graph_4_processed_avg.pickle\n",
      "CPU times: user 1h 48min 48s, sys: 6.52 s, total: 1h 48min 55s\n",
      "Wall time: 1h 49min 43s\n"
     ]
    }
   ],
   "source": [
    "%%time\n",
    "evaluation.evaluate_all_summaries(preprocess_text=True)"
   ]
  },
  {
   "cell_type": "markdown",
   "metadata": {},
   "source": [
    "# Todos los resúmenes"
   ]
  },
  {
   "cell_type": "code",
   "execution_count": 6,
   "metadata": {},
   "outputs": [],
   "source": [
    "sms_dict = {\n",
    "    'sent_emb': 'distilroberta-base-paraphrase-v1'\n",
    "}"
   ]
  },
  {
   "cell_type": "code",
   "execution_count": 7,
   "metadata": {},
   "outputs": [
    {
     "name": "stdout",
     "output_type": "stream",
     "text": [
      "Setting target metric to sms\n"
     ]
    }
   ],
   "source": [
    "evaluation = SummaryEvaluation(metric='sms', sms_dict=sms_dict)"
   ]
  },
  {
   "cell_type": "code",
   "execution_count": 8,
   "metadata": {},
   "outputs": [],
   "source": [
    "pd_metrics = evaluation.output_avg_metrics()"
   ]
  },
  {
   "cell_type": "code",
   "execution_count": 9,
   "metadata": {},
   "outputs": [
    {
     "data": {
      "text/html": [
       "<div>\n",
       "<style scoped>\n",
       "    .dataframe tbody tr th:only-of-type {\n",
       "        vertical-align: middle;\n",
       "    }\n",
       "\n",
       "    .dataframe tbody tr th {\n",
       "        vertical-align: top;\n",
       "    }\n",
       "\n",
       "    .dataframe thead th {\n",
       "        text-align: right;\n",
       "    }\n",
       "</style>\n",
       "<table border=\"1\" class=\"dataframe\">\n",
       "  <thead>\n",
       "    <tr style=\"text-align: right;\">\n",
       "      <th></th>\n",
       "      <th>experiment</th>\n",
       "      <th>score</th>\n",
       "    </tr>\n",
       "  </thead>\n",
       "  <tbody>\n",
       "    <tr>\n",
       "      <th>10</th>\n",
       "      <td>baseline_rank_cosine_tfidf</td>\n",
       "      <td>0.000372</td>\n",
       "    </tr>\n",
       "    <tr>\n",
       "      <th>14</th>\n",
       "      <td>baseline_rank_cosine_tfidf_processed</td>\n",
       "      <td>0.000086</td>\n",
       "    </tr>\n",
       "    <tr>\n",
       "      <th>0</th>\n",
       "      <td>key_events_summaries_1</td>\n",
       "      <td>0.000399</td>\n",
       "    </tr>\n",
       "    <tr>\n",
       "      <th>12</th>\n",
       "      <td>key_events_summaries_2</td>\n",
       "      <td>0.000397</td>\n",
       "    </tr>\n",
       "    <tr>\n",
       "      <th>6</th>\n",
       "      <td>key_events_summaries_3</td>\n",
       "      <td>0.000399</td>\n",
       "    </tr>\n",
       "    <tr>\n",
       "      <th>5</th>\n",
       "      <td>key_events_summaries_4</td>\n",
       "      <td>0.000397</td>\n",
       "    </tr>\n",
       "    <tr>\n",
       "      <th>1</th>\n",
       "      <td>key_events_summaries_graph_1</td>\n",
       "      <td>0.000265</td>\n",
       "    </tr>\n",
       "    <tr>\n",
       "      <th>2</th>\n",
       "      <td>key_events_summaries_graph_2</td>\n",
       "      <td>0.000210</td>\n",
       "    </tr>\n",
       "    <tr>\n",
       "      <th>3</th>\n",
       "      <td>key_events_summaries_graph_3</td>\n",
       "      <td>0.000265</td>\n",
       "    </tr>\n",
       "    <tr>\n",
       "      <th>7</th>\n",
       "      <td>key_events_summaries_graph_4</td>\n",
       "      <td>0.000210</td>\n",
       "    </tr>\n",
       "    <tr>\n",
       "      <th>13</th>\n",
       "      <td>key_events_summaries_graph_5</td>\n",
       "      <td>0.000271</td>\n",
       "    </tr>\n",
       "    <tr>\n",
       "      <th>9</th>\n",
       "      <td>rank_with_model_ltr_gbt_cosine_emb_fca8c8bb80</td>\n",
       "      <td>0.000250</td>\n",
       "    </tr>\n",
       "    <tr>\n",
       "      <th>8</th>\n",
       "      <td>rank_with_model_ltr_gbt_cosine_emb_fca8c8bb80_...</td>\n",
       "      <td>0.000069</td>\n",
       "    </tr>\n",
       "    <tr>\n",
       "      <th>11</th>\n",
       "      <td>rank_with_model_ltr_random_forest_cosine_emb_1...</td>\n",
       "      <td>0.000249</td>\n",
       "    </tr>\n",
       "    <tr>\n",
       "      <th>4</th>\n",
       "      <td>rank_with_model_ltr_random_forest_cosine_emb_1...</td>\n",
       "      <td>0.000068</td>\n",
       "    </tr>\n",
       "  </tbody>\n",
       "</table>\n",
       "</div>"
      ],
      "text/plain": [
       "                                           experiment     score\n",
       "10                         baseline_rank_cosine_tfidf  0.000372\n",
       "14               baseline_rank_cosine_tfidf_processed  0.000086\n",
       "0                              key_events_summaries_1  0.000399\n",
       "12                             key_events_summaries_2  0.000397\n",
       "6                              key_events_summaries_3  0.000399\n",
       "5                              key_events_summaries_4  0.000397\n",
       "1                        key_events_summaries_graph_1  0.000265\n",
       "2                        key_events_summaries_graph_2  0.000210\n",
       "3                        key_events_summaries_graph_3  0.000265\n",
       "7                        key_events_summaries_graph_4  0.000210\n",
       "13                       key_events_summaries_graph_5  0.000271\n",
       "9       rank_with_model_ltr_gbt_cosine_emb_fca8c8bb80  0.000250\n",
       "8   rank_with_model_ltr_gbt_cosine_emb_fca8c8bb80_...  0.000069\n",
       "11  rank_with_model_ltr_random_forest_cosine_emb_1...  0.000249\n",
       "4   rank_with_model_ltr_random_forest_cosine_emb_1...  0.000068"
      ]
     },
     "execution_count": 9,
     "metadata": {},
     "output_type": "execute_result"
    }
   ],
   "source": [
    "pd_metrics.sort_values('experiment')"
   ]
  },
  {
   "cell_type": "code",
   "execution_count": 10,
   "metadata": {},
   "outputs": [
    {
     "data": {
      "text/html": [
       "<div>\n",
       "<style scoped>\n",
       "    .dataframe tbody tr th:only-of-type {\n",
       "        vertical-align: middle;\n",
       "    }\n",
       "\n",
       "    .dataframe tbody tr th {\n",
       "        vertical-align: top;\n",
       "    }\n",
       "\n",
       "    .dataframe thead th {\n",
       "        text-align: right;\n",
       "    }\n",
       "</style>\n",
       "<table border=\"1\" class=\"dataframe\">\n",
       "  <thead>\n",
       "    <tr style=\"text-align: right;\">\n",
       "      <th></th>\n",
       "      <th>experiment</th>\n",
       "      <th>score</th>\n",
       "    </tr>\n",
       "  </thead>\n",
       "  <tbody>\n",
       "    <tr>\n",
       "      <th>4</th>\n",
       "      <td>rank_with_model_ltr_random_forest_cosine_emb_1...</td>\n",
       "      <td>0.000068</td>\n",
       "    </tr>\n",
       "    <tr>\n",
       "      <th>8</th>\n",
       "      <td>rank_with_model_ltr_gbt_cosine_emb_fca8c8bb80_...</td>\n",
       "      <td>0.000069</td>\n",
       "    </tr>\n",
       "    <tr>\n",
       "      <th>14</th>\n",
       "      <td>baseline_rank_cosine_tfidf_processed</td>\n",
       "      <td>0.000086</td>\n",
       "    </tr>\n",
       "    <tr>\n",
       "      <th>2</th>\n",
       "      <td>key_events_summaries_graph_2</td>\n",
       "      <td>0.000210</td>\n",
       "    </tr>\n",
       "    <tr>\n",
       "      <th>7</th>\n",
       "      <td>key_events_summaries_graph_4</td>\n",
       "      <td>0.000210</td>\n",
       "    </tr>\n",
       "    <tr>\n",
       "      <th>11</th>\n",
       "      <td>rank_with_model_ltr_random_forest_cosine_emb_1...</td>\n",
       "      <td>0.000249</td>\n",
       "    </tr>\n",
       "    <tr>\n",
       "      <th>9</th>\n",
       "      <td>rank_with_model_ltr_gbt_cosine_emb_fca8c8bb80</td>\n",
       "      <td>0.000250</td>\n",
       "    </tr>\n",
       "    <tr>\n",
       "      <th>1</th>\n",
       "      <td>key_events_summaries_graph_1</td>\n",
       "      <td>0.000265</td>\n",
       "    </tr>\n",
       "    <tr>\n",
       "      <th>3</th>\n",
       "      <td>key_events_summaries_graph_3</td>\n",
       "      <td>0.000265</td>\n",
       "    </tr>\n",
       "    <tr>\n",
       "      <th>13</th>\n",
       "      <td>key_events_summaries_graph_5</td>\n",
       "      <td>0.000271</td>\n",
       "    </tr>\n",
       "    <tr>\n",
       "      <th>10</th>\n",
       "      <td>baseline_rank_cosine_tfidf</td>\n",
       "      <td>0.000372</td>\n",
       "    </tr>\n",
       "    <tr>\n",
       "      <th>5</th>\n",
       "      <td>key_events_summaries_4</td>\n",
       "      <td>0.000397</td>\n",
       "    </tr>\n",
       "    <tr>\n",
       "      <th>12</th>\n",
       "      <td>key_events_summaries_2</td>\n",
       "      <td>0.000397</td>\n",
       "    </tr>\n",
       "    <tr>\n",
       "      <th>0</th>\n",
       "      <td>key_events_summaries_1</td>\n",
       "      <td>0.000399</td>\n",
       "    </tr>\n",
       "    <tr>\n",
       "      <th>6</th>\n",
       "      <td>key_events_summaries_3</td>\n",
       "      <td>0.000399</td>\n",
       "    </tr>\n",
       "  </tbody>\n",
       "</table>\n",
       "</div>"
      ],
      "text/plain": [
       "                                           experiment     score\n",
       "4   rank_with_model_ltr_random_forest_cosine_emb_1...  0.000068\n",
       "8   rank_with_model_ltr_gbt_cosine_emb_fca8c8bb80_...  0.000069\n",
       "14               baseline_rank_cosine_tfidf_processed  0.000086\n",
       "2                        key_events_summaries_graph_2  0.000210\n",
       "7                        key_events_summaries_graph_4  0.000210\n",
       "11  rank_with_model_ltr_random_forest_cosine_emb_1...  0.000249\n",
       "9       rank_with_model_ltr_gbt_cosine_emb_fca8c8bb80  0.000250\n",
       "1                        key_events_summaries_graph_1  0.000265\n",
       "3                        key_events_summaries_graph_3  0.000265\n",
       "13                       key_events_summaries_graph_5  0.000271\n",
       "10                         baseline_rank_cosine_tfidf  0.000372\n",
       "5                              key_events_summaries_4  0.000397\n",
       "12                             key_events_summaries_2  0.000397\n",
       "0                              key_events_summaries_1  0.000399\n",
       "6                              key_events_summaries_3  0.000399"
      ]
     },
     "execution_count": 10,
     "metadata": {},
     "output_type": "execute_result"
    }
   ],
   "source": [
    "pd_metrics.sort_values('score')"
   ]
  },
  {
   "cell_type": "code",
   "execution_count": null,
   "metadata": {},
   "outputs": [],
   "source": []
  }
 ],
 "metadata": {
  "kernelspec": {
   "display_name": "Python 3",
   "language": "python",
   "name": "python3"
  },
  "language_info": {
   "codemirror_mode": {
    "name": "ipython",
    "version": 3
   },
   "file_extension": ".py",
   "mimetype": "text/x-python",
   "name": "python",
   "nbconvert_exporter": "python",
   "pygments_lexer": "ipython3",
   "version": "3.7.7"
  }
 },
 "nbformat": 4,
 "nbformat_minor": 4
}
