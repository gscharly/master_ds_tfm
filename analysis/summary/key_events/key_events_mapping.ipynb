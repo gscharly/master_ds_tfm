{
 "cells": [
  {
   "cell_type": "code",
   "execution_count": 1,
   "metadata": {},
   "outputs": [],
   "source": [
    "MAIN_PATH = \"/home/carlos/MasterDS/tfm\"\n",
    "JSON_DATA_PATH = '{}/data/json/'.format(MAIN_PATH)\n",
    "CSV_DATA_PATH = '{}/data/csv/'.format(MAIN_PATH)"
   ]
  },
  {
   "cell_type": "code",
   "execution_count": 2,
   "metadata": {},
   "outputs": [],
   "source": [
    "import sys\n",
    "sys.path.insert(0, MAIN_PATH)"
   ]
  },
  {
   "cell_type": "code",
   "execution_count": 3,
   "metadata": {},
   "outputs": [],
   "source": [
    "%load_ext autoreload\n",
    "%autoreload 2\n",
    "from scripts.extractive_summary.key_events_summary import KeyEventsSummary\n",
    "\n",
    "from scripts.conf import TEAMS\n",
    "\n",
    "import pandas as pd\n",
    "%reload_ext autoreload"
   ]
  },
  {
   "cell_type": "markdown",
   "metadata": {},
   "source": [
    "# Enlazar eventos a frases de artículos"
   ]
  },
  {
   "cell_type": "markdown",
   "metadata": {},
   "source": [
    "### Con un artículo"
   ]
  },
  {
   "cell_type": "code",
   "execution_count": 4,
   "metadata": {},
   "outputs": [],
   "source": [
    "key_events_list = ['goal', 'red_card']"
   ]
  },
  {
   "cell_type": "code",
   "execution_count": 5,
   "metadata": {},
   "outputs": [],
   "source": [
    "key_events = KeyEventsSummary(key_events_list, drop_teams=True)"
   ]
  },
  {
   "cell_type": "code",
   "execution_count": 6,
   "metadata": {},
   "outputs": [],
   "source": [
    "all_files = key_events.processor.load_json()"
   ]
  },
  {
   "cell_type": "code",
   "execution_count": 7,
   "metadata": {},
   "outputs": [],
   "source": [
    "season_file = 'premier_league_2018_2019.json'\n",
    "league_season_teams = TEAMS[season_file.split('.')[0]]\n",
    "# Solo para pruebas\n",
    "key_events.processor.league_season_teams = league_season_teams"
   ]
  },
  {
   "cell_type": "code",
   "execution_count": 8,
   "metadata": {},
   "outputs": [],
   "source": [
    "match_dict = all_files[season_file]['http://www.premierleague.com/match/38678']"
   ]
  },
  {
   "cell_type": "code",
   "execution_count": 9,
   "metadata": {},
   "outputs": [],
   "source": [
    "events = match_dict['events']"
   ]
  },
  {
   "cell_type": "code",
   "execution_count": 13,
   "metadata": {
    "collapsed": true,
    "jupyter": {
     "outputs_hidden": true
    }
   },
   "outputs": [
    {
     "data": {
      "text/plain": [
       "['Attempt blocked. Ilkay Gündogan (Manchester City) right footed shot from outside the box is blocked. Assisted by Bernardo Silva.',\n",
       " 'Corner,  Brighton and Hove Albion. Conceded by Aymeric Laporte.',\n",
       " 'Offside, Brighton and Hove Albion. Anthony Knockaert tries a through ball, but Glenn Murray is caught offside.',\n",
       " 'Foul by Anthony Knockaert (Brighton and Hove Albion).',\n",
       " 'Aymeric Laporte (Manchester City) wins a free kick in the defensive half.',\n",
       " 'Attempt missed. Alireza Jahanbakhsh (Brighton and Hove Albion) right footed shot from outside the box is close, but misses to the left. Assisted by Anthony Knockaert following a fast break.',\n",
       " 'Attempt blocked. Sergio Agüero (Manchester City) right footed shot from outside the box is blocked. Assisted by Bernardo Silva.',\n",
       " 'Foul by Yves Bissouma (Brighton and Hove Albion).',\n",
       " 'Bernardo Silva (Manchester City) wins a free kick in the defensive half.',\n",
       " 'Attempt missed. Sergio Agüero (Manchester City) header from the centre of the box misses to the left. Assisted by Raheem Sterling with a cross.',\n",
       " 'Corner,  Manchester City. Conceded by Anthony Knockaert.',\n",
       " 'Attempt saved. Riyad Mahrez (Manchester City) left footed shot from outside the box is saved in the bottom right corner. Assisted by Kyle Walker.',\n",
       " 'Attempt blocked. Ilkay Gündogan (Manchester City) right footed shot from outside the box is blocked. Assisted by Bernardo Silva.',\n",
       " 'Attempt blocked. Kyle Walker (Manchester City) right footed shot from outside the box is blocked.',\n",
       " 'Aymeric Laporte (Manchester City) wins a free kick on the left wing.',\n",
       " 'Foul by Glenn Murray (Brighton and Hove Albion).',\n",
       " 'Glenn Murray (Brighton and Hove Albion) wins a free kick in the defensive half.',\n",
       " 'Foul by Aymeric Laporte (Manchester City).',\n",
       " 'Offside, Manchester City. Ilkay Gündogan tries a through ball, but Riyad Mahrez is caught offside.',\n",
       " 'Attempt blocked. Alireza Jahanbakhsh (Brighton and Hove Albion) right footed shot from outside the box is blocked.',\n",
       " 'Corner,  Brighton and Hove Albion. Conceded by Raheem Sterling.',\n",
       " 'Goal.  Brighton and Hove Albion 1, Manchester City 0. Glenn Murray (Brighton and Hove Albion) header from the left side of the six yard box to the bottom left corner. Assisted by Pascal Groß with a cross following a corner.',\n",
       " 'Goal.  Brighton and Hove Albion 1, Manchester City 1. Sergio Agüero (Manchester City) left footed shot from a difficult angle on the left to the centre of the goal. Assisted by David Silva with a through ball.',\n",
       " 'Corner,  Manchester City. Conceded by Shane Duffy.',\n",
       " 'Attempt saved. Bernardo Silva (Manchester City) header from the centre of the box is saved in the centre of the goal.',\n",
       " 'Attempt blocked. Bernardo Silva (Manchester City) left footed shot from the right side of the box is blocked. Assisted by Kyle Walker.',\n",
       " 'Foul by Sergio Agüero (Manchester City).',\n",
       " 'Bernardo (Brighton and Hove Albion) wins a free kick in the defensive half.',\n",
       " 'Anthony Knockaert (Brighton and Hove Albion) wins a free kick on the right wing.',\n",
       " 'Foul by Sergio Agüero (Manchester City).',\n",
       " 'Attempt missed. Shane Duffy (Brighton and Hove Albion) header from the centre of the box is just a bit too high. Assisted by Pascal Groß with a cross following a set piece situation.',\n",
       " 'Attempt saved. Riyad Mahrez (Manchester City) right footed shot from a difficult angle on the right is saved in the centre of the goal. Assisted by David Silva.',\n",
       " 'Corner,  Manchester City. Conceded by Mat Ryan.',\n",
       " 'Goal.  Brighton and Hove Albion 1, Manchester City 2. Aymeric Laporte (Manchester City) header from very close range to the top left corner. Assisted by Riyad Mahrez with a cross following a corner.',\n",
       " 'Yves Bissouma (Brighton and Hove Albion) wins a free kick in the attacking half.',\n",
       " 'Foul by Vincent Kompany (Manchester City).',\n",
       " 'Attempt saved. Lewis Dunk (Brighton and Hove Albion) right footed shot from outside the box is saved in the top centre of the goal.',\n",
       " 'Corner,  Brighton and Hove Albion. Conceded by Ederson.',\n",
       " 'Attempt blocked. Riyad Mahrez (Manchester City) left footed shot from the right side of the box is blocked. Assisted by Aymeric Laporte.',\n",
       " 'Corner,  Manchester City. Conceded by Shane Duffy.',\n",
       " 'Ilkay Gündogan (Manchester City) wins a free kick on the right wing.',\n",
       " 'Foul by Alireza Jahanbakhsh (Brighton and Hove Albion).',\n",
       " 'Foul by David Silva (Manchester City).',\n",
       " 'Bruno (Brighton and Hove Albion) wins a free kick in the defensive half.',\n",
       " 'Foul by David Silva (Manchester City).',\n",
       " 'Pascal Groß (Brighton and Hove Albion) wins a free kick in the defensive half.',\n",
       " 'Alireza Jahanbakhsh (Brighton and Hove Albion) wins a free kick on the left wing.',\n",
       " 'Foul by Kyle Walker (Manchester City).',\n",
       " 'Attempt missed. Lewis Dunk (Brighton and Hove Albion) header from the centre of the box is too high. Assisted by Anthony Knockaert with a cross following a set piece situation.',\n",
       " 'Attempt blocked. Ilkay Gündogan (Manchester City) right footed shot from outside the box is blocked. Assisted by Sergio Agüero.',\n",
       " 'Foul by Oleksandr Zinchenko (Manchester City).',\n",
       " 'Anthony Knockaert (Brighton and Hove Albion) wins a free kick in the defensive half.',\n",
       " 'David Silva (Manchester City) wins a free kick in the defensive half.',\n",
       " 'Foul by Beram Kayal (Brighton and Hove Albion).',\n",
       " 'Attempt saved. Raheem Sterling (Manchester City) left footed shot from the left side of the box is saved in the bottom left corner. Assisted by Ilkay Gündogan.',\n",
       " 'Corner,  Manchester City. Conceded by Lewis Dunk.',\n",
       " 'Goal.  Brighton and Hove Albion 1, Manchester City 3. Riyad Mahrez (Manchester City) right footed shot from outside the box to the top right corner. Assisted by David Silva.',\n",
       " 'Attempt missed. Ilkay Gündogan (Manchester City) right footed shot from outside the box is close, but misses to the right.',\n",
       " 'Substitution, Brighton and Hove Albion. Jürgen Locadia replaces Alireza Jahanbakhsh.',\n",
       " 'Substitution, Brighton and Hove Albion. Florin Andone replaces Glenn Murray.',\n",
       " 'Corner,  Manchester City. Conceded by Bernardo.',\n",
       " 'Attempt missed. Oleksandr Zinchenko (Manchester City) left footed shot from outside the box misses to the right. Assisted by Kyle Walker.',\n",
       " 'Foul by Yves Bissouma (Brighton and Hove Albion).',\n",
       " 'Raheem Sterling (Manchester City) wins a free kick in the attacking half.',\n",
       " 'Goal.  Brighton and Hove Albion 1, Manchester City 4. Ilkay Gündogan (Manchester City) from a free kick with a right footed shot to the bottom right corner.',\n",
       " 'Sergio Agüero (Manchester City) wins a free kick in the attacking half.',\n",
       " 'Foul by Anthony Knockaert (Brighton and Hove Albion).',\n",
       " 'Substitution, Manchester City. Kevin De Bruyne replaces David Silva.',\n",
       " 'Riyad Mahrez (Manchester City) wins a free kick in the defensive half.',\n",
       " 'Foul by Yves Bissouma (Brighton and Hove Albion).',\n",
       " 'Foul by Anthony Knockaert (Brighton and Hove Albion).',\n",
       " 'Sergio Agüero (Manchester City) wins a free kick on the left wing.',\n",
       " 'Substitution, Brighton and Hove Albion. Martín Montoya replaces Bruno.',\n",
       " 'Foul by Florin Andone (Brighton and Hove Albion).',\n",
       " 'Raheem Sterling (Manchester City) wins a free kick in the attacking half.',\n",
       " 'Substitution, Manchester City. Nicolás Otamendi replaces Vincent Kompany.',\n",
       " 'Attempt saved. Kevin De Bruyne (Manchester City) right footed shot from outside the box is saved in the centre of the goal.',\n",
       " 'Foul by Martín Montoya (Brighton and Hove Albion).',\n",
       " 'Raheem Sterling (Manchester City) wins a free kick in the defensive half.',\n",
       " 'Substitution, Manchester City. Danilo replaces Kyle Walker.',\n",
       " 'Kevin De Bruyne (Manchester City) wins a free kick on the right wing.',\n",
       " 'Foul by Bernardo (Brighton and Hove Albion).',\n",
       " 'Attempt blocked. Sergio Agüero (Manchester City) left footed shot from the centre of the box is blocked. Assisted by Riyad Mahrez.']"
      ]
     },
     "execution_count": 13,
     "metadata": {},
     "output_type": "execute_result"
    }
   ],
   "source": [
    "events"
   ]
  },
  {
   "cell_type": "code",
   "execution_count": 10,
   "metadata": {},
   "outputs": [
    {
     "name": "stdout",
     "output_type": "stream",
     "text": [
      "Number of original events: 83\n",
      "Number of processed events: 5\n"
     ]
    }
   ],
   "source": [
    "processed_events = key_events.process_match_events(events, keep_key_events=True)"
   ]
  },
  {
   "cell_type": "code",
   "execution_count": 20,
   "metadata": {},
   "outputs": [
    {
     "data": {
      "text/plain": [
       "['goal brighton hove albion manchester city glenn murray brighton hove albion header left yard box left corner assisted gross cross following corner',\n",
       " 'goal brighton hove albion manchester city sergio aguero manchester city left footed shot difficult angle left centre goal assisted david silva ball',\n",
       " 'goal brighton hove albion manchester city aymeric manchester city header close range left corner assisted riyad mahrez cross following corner',\n",
       " 'goal brighton hove albion manchester city riyad mahrez manchester city right footed shot outside box right corner assisted david silva',\n",
       " 'goal brighton hove albion manchester city ilkay gundogan manchester city free kick right footed shot right corner']"
      ]
     },
     "execution_count": 20,
     "metadata": {},
     "output_type": "execute_result"
    }
   ],
   "source": [
    "processed_events"
   ]
  },
  {
   "cell_type": "code",
   "execution_count": 25,
   "metadata": {},
   "outputs": [
    {
     "data": {
      "text/plain": [
       "['goal brighton hove albion manchester city glenn murray brighton hove albion header left yard box left corner assist gross cross follow corner',\n",
       " 'goal brighton hove albion manchester city sergio aguero manchester city leave footed shot difficult angle left centre goal assist david silva ball',\n",
       " 'goal brighton hove albion manchester city aymeric manchester city header close range left corner assist riyad mahrez cross follow corner',\n",
       " 'goal brighton hove albion manchester city riyad mahrez manchester city right footed shot outside box right corner assist david silva',\n",
       " 'goal brighton hove albion manchester city ilkay gundogan manchester city free kick right footed shot right corner']"
      ]
     },
     "execution_count": 25,
     "metadata": {},
     "output_type": "execute_result"
    }
   ],
   "source": [
    "# Con lemma\n",
    "processed_events"
   ]
  },
  {
   "cell_type": "code",
   "execution_count": 11,
   "metadata": {},
   "outputs": [
    {
     "data": {
      "text/plain": [
       "['goal glenn murray header left yard box left corner assisted gross cross following corner',\n",
       " 'goal sergio aguero left footed shot difficult angle left centre goal assisted david silva ball',\n",
       " 'goal aymeric header close range left corner assisted riyad mahrez cross following corner',\n",
       " 'goal riyad mahrez footed shot outside box corner assisted david silva',\n",
       " 'goal ilkay gundogan free kick footed shot corner']"
      ]
     },
     "execution_count": 11,
     "metadata": {},
     "output_type": "execute_result"
    }
   ],
   "source": [
    "# Sin equipos\n",
    "processed_events"
   ]
  },
  {
   "cell_type": "code",
   "execution_count": 12,
   "metadata": {},
   "outputs": [],
   "source": [
    "count_vec_kwargs = {'ngram_range': (1, 2), 'strip_accents': 'unicode'}"
   ]
  },
  {
   "cell_type": "code",
   "execution_count": 14,
   "metadata": {},
   "outputs": [
    {
     "name": "stdout",
     "output_type": "stream",
     "text": [
      "Number of original events: 83\n",
      "Number of processed events: 5\n",
      "Number of sentences in original article: 6\n",
      "Number of sentences in summary: 4\n"
     ]
    },
    {
     "data": {
      "text/plain": [
       "{'article_summary': \"A goal and an assist from Riyad Mahrez sealed a 4-1 comeback win at Brighton & Hove Albion that confirmed Manchester City as Premier League champions.\\xa0\\nGlenn Murray gave Brighton a shock lead when he headed in Pascal Gross's 27th-minute corner.\\nBut Sergio Aguero levelled within a minute after being played in by David Silva, before Aymeric Laporte headed City in front from Mahrez's corner on 38 minutes.\\nAfter the break, Mahrez fired superbly into the top corner before Ilkay Gundogan scored a brilliant free-kick with 18 minutes remaining.\\n\",\n",
       " 'sentences_ixs': array([2, 3, 0, 3, 4]),\n",
       " 'article_sents_list': ['A goal and an assist from Riyad Mahrez sealed a 4-1 comeback win at Brighton & Hove Albion that confirmed Manchester City as Premier League champions.\\xa0\\n',\n",
       "  \"The Algerian, a 2015/16 champion with Leicester City, replaced Phil Foden in the starting line-up and starred as Pep Guardiola's side defended the PL title and claimed the Trophy for the fourth time.\\n\",\n",
       "  \"Glenn Murray gave Brighton a shock lead when he headed in Pascal Gross's 27th-minute corner.\\n\",\n",
       "  \"But Sergio Aguero levelled within a minute after being played in by David Silva, before Aymeric Laporte headed City in front from Mahrez's corner on 38 minutes.\\n\",\n",
       "  'After the break, Mahrez fired superbly into the top corner before Ilkay Gundogan scored a brilliant free-kick with 18 minutes remaining.\\n',\n",
       "  'City finished on 98 points, one above Liverpool, who won 2-0 against Wolverhampton Wanderers on the final day.']}"
      ]
     },
     "execution_count": 14,
     "metadata": {},
     "output_type": "execute_result"
    }
   ],
   "source": [
    "key_events.match_summary(match_dict, count_vec_kwargs, save_relations=True,\n",
    "                         keep_key_events=True)"
   ]
  },
  {
   "cell_type": "code",
   "execution_count": 17,
   "metadata": {},
   "outputs": [
    {
     "data": {
      "text/plain": [
       "{'goal': {'Goal.  Brighton and Hove Albion 1, Manchester City 0. Glenn Murray (Brighton and Hove Albion) header from the left side of the six yard box to the bottom left corner. Assisted by Pascal Groß with a cross following a corner.': \"Glenn Murray gave Brighton a shock lead when he headed in Pascal Gross's 27th-minute corner.\\n\",\n",
       "  'Goal.  Brighton and Hove Albion 1, Manchester City 1. Sergio Agüero (Manchester City) left footed shot from a difficult angle on the left to the centre of the goal. Assisted by David Silva with a through ball.': \"But Sergio Aguero levelled within a minute after being played in by David Silva, before Aymeric Laporte headed City in front from Mahrez's corner on 38 minutes.\\n\",\n",
       "  'Goal.  Brighton and Hove Albion 1, Manchester City 2. Aymeric Laporte (Manchester City) header from very close range to the top left corner. Assisted by Riyad Mahrez with a cross following a corner.': 'A goal and an assist from Riyad Mahrez sealed a 4-1 comeback win at Brighton & Hove Albion that confirmed Manchester City as Premier League champions.\\xa0\\n',\n",
       "  'Goal.  Brighton and Hove Albion 1, Manchester City 3. Riyad Mahrez (Manchester City) right footed shot from outside the box to the top right corner. Assisted by David Silva.': \"But Sergio Aguero levelled within a minute after being played in by David Silva, before Aymeric Laporte headed City in front from Mahrez's corner on 38 minutes.\\n\",\n",
       "  'Goal.  Brighton and Hove Albion 1, Manchester City 4. Ilkay Gündogan (Manchester City) from a free kick with a right footed shot to the bottom right corner.': 'After the break, Mahrez fired superbly into the top corner before Ilkay Gundogan scored a brilliant free-kick with 18 minutes remaining.\\n'},\n",
       " 'red_card': {}}"
      ]
     },
     "execution_count": 17,
     "metadata": {},
     "output_type": "execute_result"
    }
   ],
   "source": [
    "key_events.global_event_sentence_dict"
   ]
  },
  {
   "cell_type": "markdown",
   "metadata": {},
   "source": [
    "### Con todos"
   ]
  },
  {
   "cell_type": "code",
   "execution_count": 18,
   "metadata": {},
   "outputs": [],
   "source": [
    "key_events_list = ['goal', 'red_card', 'penalty']\n",
    "summaries_path = '{}summaries/key_events_summaries_3.csv'.format(CSV_DATA_PATH)\n",
    "map_path = '{}summaries/key_events_summaries_3_map.csv'.format(CSV_DATA_PATH)\n",
    "count_vec_kwargs = {'ngram_range': (1, 2), 'strip_accents': 'unicode'}"
   ]
  },
  {
   "cell_type": "code",
   "execution_count": 19,
   "metadata": {},
   "outputs": [
    {
     "data": {
      "text/plain": [
       "'/home/carlos/MasterDS/tfm/data/csv/summaries/key_events_summaries_3_map.csv'"
      ]
     },
     "execution_count": 19,
     "metadata": {},
     "output_type": "execute_result"
    }
   ],
   "source": [
    "map_path"
   ]
  },
  {
   "cell_type": "code",
   "execution_count": 20,
   "metadata": {},
   "outputs": [],
   "source": [
    "key_events = KeyEventsSummary(key_events_list, lemma=True)"
   ]
  },
  {
   "cell_type": "code",
   "execution_count": null,
   "metadata": {},
   "outputs": [],
   "source": [
    "%%time\n",
    "pd_df = key_events.run(save_events_sentences=True, path_csv=summaries_path, \n",
    "                       path_mapping=map_path, count_vec_kwargs=count_vec_kwargs, keep_key_events=True)"
   ]
  },
  {
   "cell_type": "code",
   "execution_count": 52,
   "metadata": {},
   "outputs": [
    {
     "data": {
      "text/plain": [
       "['Goal!  Napoli 1, Brescia 0. Dries Mertens (Napoli) right footed shot from the centre of the box to the bottom right corner. Assisted by José Callejón.',\n",
       " 'GOAL CANCELLED BY VAR: Kostas Manolas (Napoli) scores but the goal is ruled out after a VAR review.',\n",
       " 'VAR Decision: No Goal  Napoli 1-0 Brescia.',\n",
       " 'Attempt saved. Faouzi Ghoulam (Napoli) right footed shot from outside the box is saved in the centre of the goal.',\n",
       " 'Goal!  Napoli 2, Brescia 0. Kostas Manolas (Napoli) header from the centre of the box to the bottom right corner. Assisted by Nikola Maksimovic with a headed pass following a corner.',\n",
       " 'GOAL CANCELLED BY VAR: Sandro Tonali (Brescia) scores but the goal is ruled out after a VAR review.',\n",
       " 'VAR Decision: No Goal  Napoli 2-0 Brescia.',\n",
       " 'Goal!  Napoli 2, Brescia 1. Mario Balotelli (Brescia) header from the centre of the box to the top left corner. Assisted by Sandro Tonali with a cross following a corner.',\n",
       " 'Attempt saved. Piotr Zielinski (Napoli) right footed shot from the centre of the box is saved in the centre of the goal. Assisted by Dries Mertens.',\n",
       " 'Attempt saved. Elseid Hysaj (Napoli) right footed shot from outside the box is saved in the top centre of the goal. Assisted by José Callejón.',\n",
       " 'Attempt saved. José Callejón (Napoli) left footed shot from the right side of the box is saved in the centre of the goal. Assisted by Piotr Zielinski.']"
      ]
     },
     "execution_count": 52,
     "metadata": {},
     "output_type": "execute_result"
    }
   ],
   "source": [
    "pd_df['summary_events'].values[0]"
   ]
  }
 ],
 "metadata": {
  "kernelspec": {
   "display_name": "Python 3",
   "language": "python",
   "name": "python3"
  },
  "language_info": {
   "codemirror_mode": {
    "name": "ipython",
    "version": 3
   },
   "file_extension": ".py",
   "mimetype": "text/x-python",
   "name": "python",
   "nbconvert_exporter": "python",
   "pygments_lexer": "ipython3",
   "version": "3.7.7"
  }
 },
 "nbformat": 4,
 "nbformat_minor": 4
}
