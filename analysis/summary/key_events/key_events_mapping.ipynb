{
 "cells": [
  {
   "cell_type": "code",
   "execution_count": 1,
   "metadata": {},
   "outputs": [],
   "source": [
    "MAIN_PATH = \"/home/carlos/MasterDS/tfm\"\n",
    "JSON_DATA_PATH = '{}/data/json/'.format(MAIN_PATH)\n",
    "CSV_DATA_PATH = '{}/data/csv/'.format(MAIN_PATH)"
   ]
  },
  {
   "cell_type": "code",
   "execution_count": 2,
   "metadata": {},
   "outputs": [],
   "source": [
    "import sys\n",
    "sys.path.insert(0, MAIN_PATH)"
   ]
  },
  {
   "cell_type": "code",
   "execution_count": 13,
   "metadata": {},
   "outputs": [
    {
     "name": "stdout",
     "output_type": "stream",
     "text": [
      "The autoreload extension is already loaded. To reload it, use:\n",
      "  %reload_ext autoreload\n"
     ]
    }
   ],
   "source": [
    "%load_ext autoreload\n",
    "%autoreload 2\n",
    "from scripts.extractive_summary.key_events_summary import KeyEventsSummary\n",
    "from scripts.text.article_text_processor import ArticleTextProcessor\n",
    "\n",
    "from scripts.conf import TEAMS\n",
    "\n",
    "import pandas as pd\n",
    "%reload_ext autoreload"
   ]
  },
  {
   "cell_type": "markdown",
   "metadata": {},
   "source": [
    "# Enlazar eventos a frases de artículos"
   ]
  },
  {
   "cell_type": "markdown",
   "metadata": {},
   "source": [
    "### Con un artículo"
   ]
  },
  {
   "cell_type": "code",
   "execution_count": 4,
   "metadata": {},
   "outputs": [],
   "source": [
    "key_events_list = ['goal', 'red_card']"
   ]
  },
  {
   "cell_type": "code",
   "execution_count": 24,
   "metadata": {},
   "outputs": [],
   "source": [
    "processor = ArticleTextProcessor()\n",
    "key_events = KeyEventsSummary(key_events_list, lemma=False)"
   ]
  },
  {
   "cell_type": "code",
   "execution_count": 17,
   "metadata": {},
   "outputs": [],
   "source": [
    "all_files = processor.load_json()"
   ]
  },
  {
   "cell_type": "code",
   "execution_count": 25,
   "metadata": {},
   "outputs": [],
   "source": [
    "season_file = 'premier_league_2019_2020.json'\n",
    "league_season_teams = TEAMS[season_file.split('.')[0]]\n",
    "# Solo para pruebas\n",
    "key_events.league_season_teams = league_season_teams"
   ]
  },
  {
   "cell_type": "code",
   "execution_count": 19,
   "metadata": {},
   "outputs": [],
   "source": [
    "prueba = all_files[season_file]['https://www.bbc.com/sport/football/49785376']"
   ]
  },
  {
   "cell_type": "code",
   "execution_count": 9,
   "metadata": {},
   "outputs": [],
   "source": [
    "events = prueba['events']"
   ]
  },
  {
   "cell_type": "code",
   "execution_count": 26,
   "metadata": {},
   "outputs": [
    {
     "name": "stdout",
     "output_type": "stream",
     "text": [
      "Number of original events: 83\n",
      "Number of processed events: 6\n"
     ]
    }
   ],
   "source": [
    "processed_events = key_events.process_match_events(events, keep_key_events=True)"
   ]
  },
  {
   "cell_type": "code",
   "execution_count": 27,
   "metadata": {},
   "outputs": [
    {
     "data": {
      "text/plain": [
       "['goal leicester city newcastle united ricardo pereira leicester city left footed shot outside box left corner',\n",
       " 'isaac hayden newcastle united shown red card',\n",
       " 'goal leicester city newcastle united jamie vardy leicester city left footed shot left box left corner assisted harvey barnes following fast break',\n",
       " 'goal dummett newcastle united leicester city newcastle united',\n",
       " 'goal leicester city newcastle united jamie vardy leicester city header close range centre goal assisted marc albrighton',\n",
       " 'goal leicester city newcastle united wilfred ndidi leicester city right footed shot centre box left corner assisted jonny evans headed following corner']"
      ]
     },
     "execution_count": 27,
     "metadata": {},
     "output_type": "execute_result"
    }
   ],
   "source": [
    "processed_events"
   ]
  },
  {
   "cell_type": "code",
   "execution_count": 21,
   "metadata": {},
   "outputs": [
    {
     "data": {
      "text/plain": [
       "['goal leicester city newcastle united ricardo pereira leicester city leave footed shot outside box left corner',\n",
       " 'isaac hayden newcastle united show red card',\n",
       " 'goal leicester city newcastle united jamie vardy leicester city leave footed shot left box left corner assist harvey barnes follow fast break',\n",
       " 'goal dummett newcastle united leicester city newcastle united',\n",
       " 'goal leicester city newcastle united jamie vardy leicester city header close range centre goal assist marc albrighton',\n",
       " 'goal leicester city newcastle united wilfred ndidi leicester city right footed shot centre box left corner assist jonny evans head follow corner']"
      ]
     },
     "execution_count": 21,
     "metadata": {},
     "output_type": "execute_result"
    }
   ],
   "source": [
    "# Con lemma\n",
    "processed_events"
   ]
  },
  {
   "cell_type": "code",
   "execution_count": 17,
   "metadata": {},
   "outputs": [
    {
     "data": {
      "text/plain": [
       "['goal manchester united arsenal scott mctominay manchester united right footed shot outside box left corner assisted marcus rashford',\n",
       " 'goal manchester united arsenal emerick aubameyang arsenal left footed shot box goal assisted bukayo saka ball goal awarded following var',\n",
       " 'var decision goal manchester united arsenal emerick aubameyang']"
      ]
     },
     "execution_count": 17,
     "metadata": {},
     "output_type": "execute_result"
    }
   ],
   "source": [
    "# Con equipos\n",
    "processed_events"
   ]
  },
  {
   "cell_type": "code",
   "execution_count": 12,
   "metadata": {},
   "outputs": [
    {
     "data": {
      "text/plain": [
       "['goal scott mctominay footed shot outside box left corner assisted marcus rashford',\n",
       " 'goal emerick aubameyang left footed shot box goal assisted bukayo saka ball goal awarded following var',\n",
       " 'var decision goal emerick aubameyang']"
      ]
     },
     "execution_count": 12,
     "metadata": {},
     "output_type": "execute_result"
    }
   ],
   "source": [
    "# Sin equipos\n",
    "processed_events"
   ]
  },
  {
   "cell_type": "code",
   "execution_count": 15,
   "metadata": {},
   "outputs": [],
   "source": [
    "count_vec_kwargs = {'ngram_range': (1, 2), 'strip_accents': 'unicode'}"
   ]
  },
  {
   "cell_type": "code",
   "execution_count": 19,
   "metadata": {
    "collapsed": true,
    "jupyter": {
     "outputs_hidden": true
    }
   },
   "outputs": [
    {
     "name": "stdout",
     "output_type": "stream",
     "text": [
      "Number of original events: 83\n",
      "Number of processed events: 7\n",
      "Number of sentences in original article: 40\n",
      "Number of sentences in summary: 5\n"
     ]
    },
    {
     "data": {
      "text/plain": [
       "('On a shocking day for Newcastle, Wilfred Ndidi added a late fifth goal with a shot on the turn.\\nPortugal defender Pereira\\'s second goal in as many top-flight games set the tone for an utterly dominant performance - the former Porto player starting the move inside his own half before finishing after a neat one-two with former Newcastle player Ayoze Perez.\\nDummett\\'s own goal added to Newcastle\\'s woes yet Leicester were not done as Vardy was left unmarked to make it 4-0 with a close-range header before Ndidi piled on the embarrassment for the visitors.\\nLeicester City boss Brendan Rodgers: \"It was an outstanding performance and result.Newcastle boss Steve Bruce on Isaac Hayden\\'s red card: \"I\\'ve got no complaints, the red card was a poor challenge. \\n',\n",
       " array([17, 31, 37, 31, 31, 19,  9]),\n",
       " ['Brendan Rodgers says it will be a \"big ask\" for Leicester City to finish in a Champions League spot - despite continuing their strong start to the season with a thumping win over Newcastle.\\n',\n",
       "  'Jamie Vardy scored twice as Leicester demonstrated potential to secure a top-four finish by recording their biggest Premier League win to move back up to third in the table.\\n',\n",
       "  'The 2015-16 champions are three points clear of both Chelsea and Tottenham, who finished third and fourth respectively last season.\\n',\n",
       "  'Yet Rodgers played down his side\\'s chances of finishing in the top four, and said: \"It\\'s very early in the season.\\n',\n",
       "  '\"We know it\\'s a big ask because of all the other clubs that have been regulars there.',\n",
       "  'We are only really focusing on how we play, looking at our performance levels.\"\\n',\n",
       "  \"Newcastle are anchored in the relegation zone after Leicester took full advantage of Isaac Hayden's straight red card for a terrible tackle on fellow midfielder Dennis Praet by running riot.\\n\",\n",
       "  \"Leicester were already leading through Ricardo Pereira's outstanding low finish before the hosts made the extra man advantage count with three goals in 10 second-half minutes.\\n\",\n",
       "  \"Vardy beat Martin Dubravka at his near post to double the lead and, after Paul Dummett had deflected Praet's cross into his own net to make it 3-0, headed the fourth.\\n\",\n",
       "  'On a shocking day for Newcastle, Wilfred Ndidi added a late fifth goal with a shot on the turn.\\n',\n",
       "  \"Rodgers' side, who started the weekend third but dropped to fifth following Saturday's games, are two points off second-placed Manchester City and seven behind leaders Liverpool, who they visit next Saturday. \\n\",\n",
       "  'Rodgers will have a spring in his step when he makes his first return to Anfield since being sacked by Liverpool in 2015.\\n',\n",
       "  \"This was Leicester's 10th - and almost certainly easiest - top-flight win in 18 games since they announced his appointment in February.\\n\",\n",
       "  '\"I\\'ll give my life to make the supporters proud of this club,\" said Rodgers on the day he was unveiled as Leicester\\'s fourth permanent boss in 23 months.\\n',\n",
       "  'Rejuvenated and full of energy, they have been transformed by the former Celtic manager who took over a team drained of confidence and starved of wins seven months ago.\\n',\n",
       "  \"Only Manchester City and Liverpool have accumulated more Premier League points than Leicester since Rodgers' appointment, and Newcastle can count themselves fortunate not to have been on the end of an even heavier drubbing.\\n\",\n",
       "  'Leicester produced a clinical performance and scored from all five of their shots on target.\\n',\n",
       "  \"Portugal defender Pereira's second goal in as many top-flight games set the tone for an utterly dominant performance - the former Porto player starting the move inside his own half before finishing after a neat one-two with former Newcastle player Ayoze Perez.\\n\",\n",
       "  \"After Hayden's red card, Leicester swarmed their opponents yet Dubravka should have kept out Vardy's first goal.\\n\",\n",
       "  \"Dummett's own goal added to Newcastle's woes yet Leicester were not done as Vardy was left unmarked to make it 4-0 with a close-range header before Ndidi piled on the embarrassment for the visitors.\\n\",\n",
       "  'Newcastle started the weekend in 17th spot but end it rooted in the bottom three after a spineless performance devoid of fight and character.\\n',\n",
       "  'Steve Bruce talked about \"a huge challenge\" when he was appointed head coach in the summer yet, just seven games in, the problems are piling up.\\n',\n",
       "  'Bruce already knew before this game his side had serious issues in front of goal after scoring just four times in six matches - as many as they managed in the last match under Rafael Benitez in May.\\n',\n",
       "  'Not only did they fail to find the net against Leicester, they did not muster a single shot on target.\\n',\n",
       "  \"With the game goalless, Hayden's shot from distance almost found Yoshinori Muto in a scoring position,\",\n",
       "  'while Christian Atsu - one goal since December 2017 - lifted another attempt over the bar.\\n',\n",
       "  \"Hayden did his side no favours with his out-of-control challenge, while Dubravka's failure to stop Vardy from scoring Leicester's second left the visitors demoralised with more than half an hour remaining.\\n\",\n",
       "  \"While Perez - Newcastle's leading scorer in the Premier League last season - is thriving at Leicester, the goals have dried up for the Magpies.\\n\",\n",
       "  'They invested a club record £40m in the summer to sign Brazilian striker Joelinton yet he has found the net once, as many times as Netherlands defender Jetro Willems who joined on loan from Eintracht Frankfurt.\\n',\n",
       "  'It does not get any easier for Bruce or Newcastle.',\n",
       "  \"After next Sunday's home game with Manchester United, their first game after the international break is at Chelsea on 19 October.\\n\",\n",
       "  'Leicester City boss Brendan Rodgers: \"It was an outstanding performance and result.',\n",
       "  'Going down to 10 men can work for or against you',\n",
       "  'but I thought how the players dealt with that and managed the game was outstanding.\\n',\n",
       "  '\"In the second half the players showed a wonderful appetite.',\n",
       "  'We pressed it so hard, were hungry in the game and hungry for goals.',\n",
       "  'A clean sheet, five really good goals and a really good day for us.\"\\n',\n",
       "  'Newcastle boss Steve Bruce on Isaac Hayden\\'s red card: \"I\\'ve got no complaints, the red card was a poor challenge. \\n',\n",
       "  '\"Maybe back in my day you might get away with that but in today\\'s game then I\\'ve got no argument.\"\\n',\n",
       "  \"Leicester now begin preparing for next Saturday's game at Premier League leaders Liverpool (15:00 BST), while Newcastle are at home to Manchester United next Sunday (16:30) - the final league game before the international break.\"])"
      ]
     },
     "execution_count": 19,
     "metadata": {},
     "output_type": "execute_result"
    }
   ],
   "source": [
    "key_events.match_summary(prueba, count_vec_kwargs, save_relations=True,\n",
    "                         keep_key_events=True)"
   ]
  },
  {
   "cell_type": "code",
   "execution_count": 72,
   "metadata": {},
   "outputs": [
    {
     "data": {
      "text/plain": [
       "{'goal': {50: 1, 63: 34, 64: 2}, 'red_card': {}}"
      ]
     },
     "execution_count": 72,
     "metadata": {},
     "output_type": "execute_result"
    }
   ],
   "source": [
    "key_events.event_sentence_dict"
   ]
  },
  {
   "cell_type": "code",
   "execution_count": 14,
   "metadata": {
    "collapsed": true,
    "jupyter": {
     "outputs_hidden": true
    }
   },
   "outputs": [
    {
     "data": {
      "text/plain": [
       "{'goal': {'Goal!  Manchester United 1, Arsenal 0. Scott McTominay (Manchester United) right footed shot from outside the box to the top left corner. Assisted by Marcus Rashford.': None,\n",
       "  'Goal!  Manchester United 1, Arsenal 1. Pierre-Emerick Aubameyang (Arsenal) left footed shot from the centre of the box to the centre of the goal. Assisted by Bukayo Saka with a through ball.Goal awarded following VAR Review.': None,\n",
       "  'VAR Decision: Goal  Manchester United 1-1 Arsenal (Pierre-Emerick Aubameyang).': None},\n",
       " 'red_card': {},\n",
       " 'Goal!  Manchester United 1, Arsenal 0. Scott McTominay (Manchester United) right footed shot from outside the box to the top left corner. Assisted by Marcus Rashford.': 'In a disappointing encounter that was a pale shadow of their mighty clashes of years gone by, Scott McTominay gave Manchester United the lead at the end of an attritional first-half with a rising drive from the edge of the area.\\n',\n",
       " 'Goal!  Manchester United 1, Arsenal 1. Pierre-Emerick Aubameyang (Arsenal) left footed shot from the centre of the box to the centre of the goal. Assisted by Bukayo Saka with a through ball.Goal awarded following VAR Review.': 'Bukayo [Saka] is progressing well',\n",
       " 'VAR Decision: Goal  Manchester United 1-1 Arsenal (Pierre-Emerick Aubameyang).': \"Arsenal equalised just before the hour courtesy of Pierre-Emerick Aubameyang's cool finish.\"}"
      ]
     },
     "execution_count": 14,
     "metadata": {},
     "output_type": "execute_result"
    }
   ],
   "source": [
    "key_events.event_sentence_dict"
   ]
  },
  {
   "cell_type": "markdown",
   "metadata": {},
   "source": [
    "### Con todos"
   ]
  },
  {
   "cell_type": "code",
   "execution_count": 28,
   "metadata": {},
   "outputs": [],
   "source": [
    "key_events_list = ['goal', 'red_card']\n",
    "summaries_path = '{}summaries/key_events_summaries_3.csv'.format(CSV_DATA_PATH)\n",
    "map_path = '{}summaries/key_events_summaries_3_map.csv'.format(CSV_DATA_PATH)\n",
    "count_vec_kwargs = {'ngram_range': (1, 2), 'strip_accents': 'unicode'}"
   ]
  },
  {
   "cell_type": "code",
   "execution_count": 29,
   "metadata": {},
   "outputs": [
    {
     "data": {
      "text/plain": [
       "'/home/carlos/MasterDS/tfm/data/csv/summaries/key_events_summaries_3_map.csv'"
      ]
     },
     "execution_count": 29,
     "metadata": {},
     "output_type": "execute_result"
    }
   ],
   "source": [
    "map_path"
   ]
  },
  {
   "cell_type": "code",
   "execution_count": 30,
   "metadata": {},
   "outputs": [],
   "source": [
    "key_events = KeyEventsSummary(key_events_list, lemma=True)"
   ]
  },
  {
   "cell_type": "code",
   "execution_count": null,
   "metadata": {},
   "outputs": [
    {
     "name": "stderr",
     "output_type": "stream",
     "text": [
      "  0%|          | 0/20 [00:00<?, ?it/s]"
     ]
    },
    {
     "name": "stdout",
     "output_type": "stream",
     "text": [
      "Number of original events: 108\n",
      "Number of processed events: 7\n",
      "Number of sentences in original article: 12\n",
      "Number of sentences in summary: 3\n",
      "Number of original events: 106\n",
      "Number of processed events: 5\n",
      "Number of sentences in original article: 6\n",
      "Number of sentences in summary: 3\n",
      "Number of original events: 105\n",
      "Number of processed events: 2\n",
      "Number of sentences in original article: 6\n",
      "Number of sentences in summary: 2\n",
      "Number of original events: 121\n",
      "Number of processed events: 4\n",
      "Number of sentences in original article: 5\n",
      "Number of sentences in summary: 3\n",
      "Number of original events: 116\n",
      "Number of processed events: 2\n",
      "Number of sentences in original article: 5\n",
      "Number of sentences in summary: 2\n",
      "Number of original events: 118\n",
      "Number of processed events: 3\n",
      "Number of sentences in original article: 5\n",
      "Number of sentences in summary: 2\n",
      "Number of original events: 117\n",
      "Number of processed events: 3\n",
      "Number of sentences in original article: 13\n",
      "Number of sentences in summary: 3\n",
      "Number of original events: 126\n",
      "Number of processed events: 3\n",
      "Number of sentences in original article: 6\n",
      "Number of sentences in summary: 2\n",
      "Number of original events: 100\n",
      "Number of processed events: 6\n",
      "Number of sentences in original article: 5\n",
      "Number of sentences in summary: 3\n",
      "Number of original events: 117\n",
      "Number of processed events: 0\n"
     ]
    },
    {
     "name": "stderr",
     "output_type": "stream",
     "text": [
      "/home/carlos/MasterDS/tfm/scripts/extractive_summary/key_events.py:109: UserWarning: Could not perform tfidf\n",
      "  if len(summary_events) == 0 or len(processed_article_sentences) == 0:\n",
      "/home/carlos/MasterDS/tfm/scripts/extractive_summary/key_events_summary.py:196: UserWarning: Could not perform summary for https://www.bbc.com/sport/football/49702257\n",
      "  warnings.warn('Could not perform summary for {}'.format(match_url))\n"
     ]
    },
    {
     "name": "stdout",
     "output_type": "stream",
     "text": [
      "Number of original events: 123\n",
      "Number of processed events: 2\n",
      "Number of sentences in original article: 8\n",
      "Number of sentences in summary: 2\n",
      "Number of original events: 99\n",
      "Number of processed events: 4\n",
      "Number of sentences in original article: 17\n",
      "Number of sentences in summary: 2\n",
      "Number of original events: 119\n",
      "Number of processed events: 4\n",
      "Number of sentences in original article: 14\n",
      "Number of sentences in summary: 3\n",
      "Number of original events: 140\n",
      "Number of processed events: 6\n",
      "Number of sentences in original article: 7\n",
      "Number of sentences in summary: 4\n",
      "Number of original events: 113\n",
      "Number of processed events: 5\n",
      "Number of sentences in original article: 4\n",
      "Number of sentences in summary: 3\n",
      "Number of original events: 133\n",
      "Number of processed events: 3\n",
      "Number of sentences in original article: 6\n",
      "Number of sentences in summary: 3\n",
      "Number of original events: 91\n",
      "Number of processed events: 9\n",
      "Number of sentences in original article: 9\n",
      "Number of sentences in summary: 4\n",
      "Number of original events: 123\n",
      "Number of processed events: 7\n",
      "Number of sentences in original article: 11\n",
      "Number of sentences in summary: 4\n",
      "Number of original events: 131\n",
      "Number of processed events: 3\n",
      "Number of sentences in original article: 12\n",
      "Number of sentences in summary: 3\n",
      "Number of original events: 116\n",
      "Number of processed events: 3\n",
      "Number of sentences in original article: 9\n",
      "Number of sentences in summary: 3\n",
      "Number of original events: 131\n",
      "Number of processed events: 6\n",
      "Number of sentences in original article: 11\n",
      "Number of sentences in summary: 4\n",
      "Number of original events: 95\n",
      "Number of processed events: 5\n",
      "Number of sentences in original article: 12\n",
      "Number of sentences in summary: 2\n",
      "Number of original events: 99\n",
      "Number of processed events: 4\n",
      "Number of sentences in original article: 9\n",
      "Number of sentences in summary: 2\n",
      "Number of original events: 126\n",
      "Number of processed events: 5\n"
     ]
    },
    {
     "name": "stderr",
     "output_type": "stream",
     "text": [
      "/home/carlos/MasterDS/tfm/scripts/extractive_summary/key_events.py:109: UserWarning: Could not perform tfidf\n",
      "  if len(summary_events) == 0 or len(processed_article_sentences) == 0:\n",
      "/home/carlos/MasterDS/tfm/scripts/extractive_summary/key_events_summary.py:196: UserWarning: Could not perform summary for https://www.bbc.com/sport/football/50830907\n",
      "  warnings.warn('Could not perform summary for {}'.format(match_url))\n"
     ]
    },
    {
     "name": "stdout",
     "output_type": "stream",
     "text": [
      "Number of original events: 103\n",
      "Number of processed events: 3\n",
      "Number of sentences in original article: 13\n",
      "Number of sentences in summary: 3\n",
      "Number of original events: 100\n",
      "Number of processed events: 4\n",
      "Number of sentences in original article: 9\n",
      "Number of sentences in summary: 2\n",
      "Number of original events: 114\n",
      "Number of processed events: 4\n",
      "Number of sentences in original article: 6\n",
      "Number of sentences in summary: 3\n",
      "Number of original events: 112\n",
      "Number of processed events: 3\n",
      "Number of sentences in original article: 7\n",
      "Number of sentences in summary: 1\n",
      "Number of original events: 125\n",
      "Number of processed events: 5\n"
     ]
    },
    {
     "name": "stderr",
     "output_type": "stream",
     "text": [
      "/home/carlos/MasterDS/tfm/scripts/extractive_summary/key_events.py:109: UserWarning: Could not perform tfidf\n",
      "  if len(summary_events) == 0 or len(processed_article_sentences) == 0:\n",
      "/home/carlos/MasterDS/tfm/scripts/extractive_summary/key_events_summary.py:196: UserWarning: Could not perform summary for https://www.bbc.com/sport/football/50693021\n",
      "  warnings.warn('Could not perform summary for {}'.format(match_url))\n"
     ]
    },
    {
     "name": "stdout",
     "output_type": "stream",
     "text": [
      "Number of original events: 122\n",
      "Number of processed events: 3\n"
     ]
    },
    {
     "name": "stderr",
     "output_type": "stream",
     "text": [
      "/home/carlos/MasterDS/tfm/scripts/extractive_summary/key_events_summary.py:196: UserWarning: Could not perform summary for https://www.bbc.com/sport/football/50693028\n",
      "  warnings.warn('Could not perform summary for {}'.format(match_url))\n"
     ]
    },
    {
     "name": "stdout",
     "output_type": "stream",
     "text": [
      "Number of original events: 111\n",
      "Number of processed events: 5\n",
      "Number of sentences in original article: 6\n",
      "Number of sentences in summary: 3\n",
      "Number of original events: 91\n",
      "Number of processed events: 0\n"
     ]
    },
    {
     "name": "stderr",
     "output_type": "stream",
     "text": [
      "/home/carlos/MasterDS/tfm/scripts/extractive_summary/key_events.py:109: UserWarning: Could not perform tfidf\n",
      "  if len(summary_events) == 0 or len(processed_article_sentences) == 0:\n",
      "/home/carlos/MasterDS/tfm/scripts/extractive_summary/key_events_summary.py:196: UserWarning: Could not perform summary for https://www.bbc.com/sport/football/50692874\n",
      "  warnings.warn('Could not perform summary for {}'.format(match_url))\n"
     ]
    },
    {
     "name": "stdout",
     "output_type": "stream",
     "text": [
      "Number of original events: 119\n",
      "Number of processed events: 4\n",
      "Number of sentences in original article: 12\n",
      "Number of sentences in summary: 3\n",
      "Number of original events: 118\n",
      "Number of processed events: 3\n",
      "Number of sentences in original article: 6\n",
      "Number of sentences in summary: 3\n",
      "Number of original events: 130\n",
      "Number of processed events: 1\n",
      "Number of sentences in original article: 14\n",
      "Number of sentences in summary: 1\n",
      "Number of original events: 108\n",
      "Number of processed events: 3\n",
      "Number of sentences in original article: 17\n",
      "Number of sentences in summary: 2\n",
      "Number of original events: 107\n",
      "Number of processed events: 10\n",
      "Number of sentences in original article: 10\n",
      "Number of sentences in summary: 4\n",
      "Number of original events: 105\n",
      "Number of processed events: 4\n",
      "Number of sentences in original article: 8\n",
      "Number of sentences in summary: 3\n",
      "Number of original events: 106\n",
      "Number of processed events: 3\n",
      "Number of sentences in original article: 10\n",
      "Number of sentences in summary: 2\n",
      "Number of original events: 128\n",
      "Number of processed events: 8\n",
      "Number of sentences in original article: 8\n",
      "Number of sentences in summary: 5\n",
      "Number of original events: 125\n",
      "Number of processed events: 5\n",
      "Number of sentences in original article: 7\n",
      "Number of sentences in summary: 2\n",
      "Number of original events: 111\n",
      "Number of processed events: 2\n",
      "Number of sentences in original article: 6\n",
      "Number of sentences in summary: 2\n",
      "Number of original events: 99\n",
      "Number of processed events: 3\n",
      "Number of sentences in original article: 8\n",
      "Number of sentences in summary: 2\n",
      "Number of original events: 100\n",
      "Number of processed events: 7\n",
      "Number of sentences in original article: 9\n",
      "Number of sentences in summary: 5\n",
      "Number of original events: 116\n",
      "Number of processed events: 3\n",
      "Number of sentences in original article: 5\n",
      "Number of sentences in summary: 1\n",
      "Number of original events: 118\n",
      "Number of processed events: 3\n",
      "Number of sentences in original article: 9\n",
      "Number of sentences in summary: 2\n",
      "Number of original events: 101\n",
      "Number of processed events: 2\n",
      "Number of sentences in original article: 12\n",
      "Number of sentences in summary: 2\n",
      "Number of original events: 88\n",
      "Number of processed events: 1\n"
     ]
    },
    {
     "name": "stderr",
     "output_type": "stream",
     "text": [
      "/home/carlos/MasterDS/tfm/scripts/extractive_summary/key_events.py:109: UserWarning: Could not perform tfidf\n",
      "  if len(summary_events) == 0 or len(processed_article_sentences) == 0:\n",
      "/home/carlos/MasterDS/tfm/scripts/extractive_summary/key_events_summary.py:196: UserWarning: Could not perform summary for https://www.bbc.com/sport/football/51076441\n",
      "  warnings.warn('Could not perform summary for {}'.format(match_url))\n"
     ]
    },
    {
     "name": "stdout",
     "output_type": "stream",
     "text": [
      "Number of original events: 122\n",
      "Number of processed events: 2\n",
      "Number of sentences in original article: 10\n",
      "Number of sentences in summary: 2\n",
      "Number of original events: 98\n",
      "Number of processed events: 4\n",
      "Number of sentences in original article: 9\n",
      "Number of sentences in summary: 1\n",
      "Number of original events: 121\n",
      "Number of processed events: 0\n"
     ]
    },
    {
     "name": "stderr",
     "output_type": "stream",
     "text": [
      "/home/carlos/MasterDS/tfm/scripts/extractive_summary/key_events.py:109: UserWarning: Could not perform tfidf\n",
      "  if len(summary_events) == 0 or len(processed_article_sentences) == 0:\n",
      "/home/carlos/MasterDS/tfm/scripts/extractive_summary/key_events_summary.py:196: UserWarning: Could not perform summary for https://www.bbc.com/sport/football/51000233\n",
      "  warnings.warn('Could not perform summary for {}'.format(match_url))\n"
     ]
    },
    {
     "name": "stdout",
     "output_type": "stream",
     "text": [
      "Number of original events: 121\n",
      "Number of processed events: 4\n",
      "Number of sentences in original article: 8\n",
      "Number of sentences in summary: 2\n",
      "Number of original events: 121\n",
      "Number of processed events: 4\n",
      "Number of sentences in original article: 9\n",
      "Number of sentences in summary: 2\n",
      "Number of original events: 108\n",
      "Number of processed events: 6\n",
      "Number of sentences in original article: 9\n",
      "Number of sentences in summary: 3\n",
      "Number of original events: 98\n",
      "Number of processed events: 5\n",
      "Number of sentences in original article: 14\n",
      "Number of sentences in summary: 4\n",
      "Number of original events: 138\n",
      "Number of processed events: 3\n",
      "Number of sentences in original article: 9\n",
      "Number of sentences in summary: 3\n",
      "Number of original events: 109\n",
      "Number of processed events: 2\n",
      "Number of sentences in original article: 7\n",
      "Number of sentences in summary: 1\n",
      "Number of original events: 107\n",
      "Number of processed events: 3\n",
      "Number of sentences in original article: 10\n",
      "Number of sentences in summary: 3\n",
      "Number of original events: 104\n",
      "Number of processed events: 6\n",
      "Number of sentences in original article: 15\n",
      "Number of sentences in summary: 4\n",
      "Number of original events: 117\n",
      "Number of processed events: 5\n",
      "Number of sentences in original article: 13\n",
      "Number of sentences in summary: 2\n",
      "Number of original events: 102\n",
      "Number of processed events: 3\n",
      "Number of sentences in original article: 7\n",
      "Number of sentences in summary: 2\n",
      "Number of original events: 107\n",
      "Number of processed events: 3\n",
      "Number of sentences in original article: 7\n",
      "Number of sentences in summary: 2\n",
      "Number of original events: 107\n",
      "Number of processed events: 2\n",
      "Number of sentences in original article: 8\n",
      "Number of sentences in summary: 1\n",
      "Number of original events: 134\n",
      "Number of processed events: 7\n"
     ]
    },
    {
     "name": "stderr",
     "output_type": "stream",
     "text": [
      "/home/carlos/MasterDS/tfm/scripts/extractive_summary/key_events.py:109: UserWarning: Could not perform tfidf\n",
      "  if len(summary_events) == 0 or len(processed_article_sentences) == 0:\n",
      "/home/carlos/MasterDS/tfm/scripts/extractive_summary/key_events_summary.py:196: UserWarning: Could not perform summary for https://www.bbc.com/sport/football/50537838\n",
      "  warnings.warn('Could not perform summary for {}'.format(match_url))\n"
     ]
    },
    {
     "name": "stdout",
     "output_type": "stream",
     "text": [
      "Number of original events: 130\n",
      "Number of processed events: 4\n"
     ]
    },
    {
     "name": "stderr",
     "output_type": "stream",
     "text": [
      "/home/carlos/MasterDS/tfm/scripts/extractive_summary/key_events_summary.py:196: UserWarning: Could not perform summary for https://www.bbc.com/sport/football/50537845\n",
      "  warnings.warn('Could not perform summary for {}'.format(match_url))\n"
     ]
    },
    {
     "name": "stdout",
     "output_type": "stream",
     "text": [
      "Number of original events: 125\n",
      "Number of processed events: 5\n",
      "Number of sentences in original article: 8\n",
      "Number of sentences in summary: 2\n",
      "Number of original events: 116\n",
      "Number of processed events: 3\n"
     ]
    },
    {
     "name": "stderr",
     "output_type": "stream",
     "text": [
      "/home/carlos/MasterDS/tfm/scripts/extractive_summary/key_events.py:109: UserWarning: Could not perform tfidf\n",
      "  if len(summary_events) == 0 or len(processed_article_sentences) == 0:\n",
      "/home/carlos/MasterDS/tfm/scripts/extractive_summary/key_events_summary.py:196: UserWarning: Could not perform summary for https://www.bbc.com/sport/football/50537817\n",
      "  warnings.warn('Could not perform summary for {}'.format(match_url))\n"
     ]
    },
    {
     "name": "stdout",
     "output_type": "stream",
     "text": [
      "Number of original events: 122\n",
      "Number of processed events: 1\n"
     ]
    },
    {
     "name": "stderr",
     "output_type": "stream",
     "text": [
      "/home/carlos/MasterDS/tfm/scripts/extractive_summary/key_events_summary.py:196: UserWarning: Could not perform summary for https://www.bbc.com/sport/football/50537824\n",
      "  warnings.warn('Could not perform summary for {}'.format(match_url))\n"
     ]
    },
    {
     "name": "stdout",
     "output_type": "stream",
     "text": [
      "Number of original events: 125\n",
      "Number of processed events: 5\n"
     ]
    },
    {
     "name": "stderr",
     "output_type": "stream",
     "text": [
      "/home/carlos/MasterDS/tfm/scripts/extractive_summary/key_events_summary.py:196: UserWarning: Could not perform summary for https://www.bbc.com/sport/football/50537831\n",
      "  warnings.warn('Could not perform summary for {}'.format(match_url))\n"
     ]
    },
    {
     "name": "stdout",
     "output_type": "stream",
     "text": [
      "Number of original events: 124\n",
      "Number of processed events: 4\n",
      "Number of sentences in original article: 9\n",
      "Number of sentences in summary: 2\n",
      "Number of original events: 111\n",
      "Number of processed events: 2\n"
     ]
    },
    {
     "name": "stderr",
     "output_type": "stream",
     "text": [
      "/home/carlos/MasterDS/tfm/scripts/extractive_summary/key_events.py:109: UserWarning: Could not perform tfidf\n",
      "  if len(summary_events) == 0 or len(processed_article_sentences) == 0:\n",
      "/home/carlos/MasterDS/tfm/scripts/extractive_summary/key_events_summary.py:196: UserWarning: Could not perform summary for https://www.bbc.com/sport/football/50530482\n",
      "  warnings.warn('Could not perform summary for {}'.format(match_url))\n"
     ]
    },
    {
     "name": "stdout",
     "output_type": "stream",
     "text": [
      "Number of original events: 117\n",
      "Number of processed events: 3\n"
     ]
    },
    {
     "name": "stderr",
     "output_type": "stream",
     "text": [
      "/home/carlos/MasterDS/tfm/scripts/extractive_summary/key_events_summary.py:196: UserWarning: Could not perform summary for https://www.bbc.com/sport/football/50530489\n",
      "  warnings.warn('Could not perform summary for {}'.format(match_url))\n"
     ]
    },
    {
     "name": "stdout",
     "output_type": "stream",
     "text": [
      "Number of original events: 103\n",
      "Number of processed events: 1\n",
      "Number of sentences in original article: 9\n",
      "Number of sentences in summary: 1\n",
      "Number of original events: 129\n",
      "Number of processed events: 3\n"
     ]
    },
    {
     "name": "stderr",
     "output_type": "stream",
     "text": [
      "/home/carlos/MasterDS/tfm/scripts/extractive_summary/key_events.py:109: UserWarning: Could not perform tfidf\n",
      "  if len(summary_events) == 0 or len(processed_article_sentences) == 0:\n",
      "/home/carlos/MasterDS/tfm/scripts/extractive_summary/key_events_summary.py:196: UserWarning: Could not perform summary for https://www.bbc.com/sport/football/50281826\n",
      "  warnings.warn('Could not perform summary for {}'.format(match_url))\n"
     ]
    },
    {
     "name": "stdout",
     "output_type": "stream",
     "text": [
      "Number of original events: 107\n",
      "Number of processed events: 4\n"
     ]
    },
    {
     "name": "stderr",
     "output_type": "stream",
     "text": [
      "/home/carlos/MasterDS/tfm/scripts/extractive_summary/key_events_summary.py:196: UserWarning: Could not perform summary for https://www.bbc.com/sport/football/50281827\n",
      "  warnings.warn('Could not perform summary for {}'.format(match_url))\n"
     ]
    },
    {
     "name": "stdout",
     "output_type": "stream",
     "text": [
      "Number of original events: 115\n",
      "Number of processed events: 4\n"
     ]
    },
    {
     "name": "stderr",
     "output_type": "stream",
     "text": [
      "/home/carlos/MasterDS/tfm/scripts/extractive_summary/key_events_summary.py:196: UserWarning: Could not perform summary for https://www.bbc.com/sport/football/50281840\n",
      "  warnings.warn('Could not perform summary for {}'.format(match_url))\n"
     ]
    },
    {
     "name": "stdout",
     "output_type": "stream",
     "text": [
      "Number of original events: 122\n",
      "Number of processed events: 4\n",
      "Number of sentences in original article: 38\n",
      "Number of sentences in summary: 2\n",
      "Number of original events: 126\n",
      "Number of processed events: 2\n"
     ]
    },
    {
     "name": "stderr",
     "output_type": "stream",
     "text": [
      "/home/carlos/MasterDS/tfm/scripts/extractive_summary/key_events.py:109: UserWarning: Could not perform tfidf\n",
      "  if len(summary_events) == 0 or len(processed_article_sentences) == 0:\n",
      "/home/carlos/MasterDS/tfm/scripts/extractive_summary/key_events_summary.py:196: UserWarning: Could not perform summary for https://www.bbc.com/sport/football/50281854\n",
      "  warnings.warn('Could not perform summary for {}'.format(match_url))\n"
     ]
    },
    {
     "name": "stdout",
     "output_type": "stream",
     "text": [
      "Number of original events: 107\n",
      "Number of processed events: 3\n"
     ]
    },
    {
     "name": "stderr",
     "output_type": "stream",
     "text": [
      "/home/carlos/MasterDS/tfm/scripts/extractive_summary/key_events_summary.py:196: UserWarning: Could not perform summary for https://www.bbc.com/sport/football/50281861\n",
      "  warnings.warn('Could not perform summary for {}'.format(match_url))\n"
     ]
    },
    {
     "name": "stdout",
     "output_type": "stream",
     "text": [
      "Number of original events: 147\n",
      "Number of processed events: 3\n"
     ]
    },
    {
     "name": "stderr",
     "output_type": "stream",
     "text": [
      "/home/carlos/MasterDS/tfm/scripts/extractive_summary/key_events_summary.py:196: UserWarning: Could not perform summary for https://www.bbc.com/sport/football/50274960\n",
      "  warnings.warn('Could not perform summary for {}'.format(match_url))\n"
     ]
    },
    {
     "name": "stdout",
     "output_type": "stream",
     "text": [
      "Number of original events: 135\n",
      "Number of processed events: 3\n"
     ]
    },
    {
     "name": "stderr",
     "output_type": "stream",
     "text": [
      "/home/carlos/MasterDS/tfm/scripts/extractive_summary/key_events_summary.py:196: UserWarning: Could not perform summary for https://www.bbc.com/sport/football/50274967\n",
      "  warnings.warn('Could not perform summary for {}'.format(match_url))\n",
      "  5%|▌         | 1/20 [02:14<42:37, 134.62s/it]"
     ]
    },
    {
     "name": "stdout",
     "output_type": "stream",
     "text": [
      "Number of original events: 138\n",
      "Number of processed events: 1\n",
      "Number of sentences in original article: 6\n",
      "Number of sentences in summary: 1\n",
      "Number of original events: 109\n",
      "Number of processed events: 0\n"
     ]
    },
    {
     "name": "stderr",
     "output_type": "stream",
     "text": [
      "/home/carlos/MasterDS/tfm/scripts/extractive_summary/key_events.py:109: UserWarning: Could not perform tfidf\n",
      "  if len(summary_events) == 0 or len(processed_article_sentences) == 0:\n",
      "/home/carlos/MasterDS/tfm/scripts/extractive_summary/key_events_summary.py:196: UserWarning: Could not perform summary for https://www.bbc.com/sport/football/49745022\n",
      "  warnings.warn('Could not perform summary for {}'.format(match_url))\n"
     ]
    },
    {
     "name": "stdout",
     "output_type": "stream",
     "text": [
      "Number of original events: 102\n",
      "Number of processed events: 5\n",
      "Number of sentences in original article: 47\n",
      "Number of sentences in summary: 5\n",
      "Number of original events: 97\n",
      "Number of processed events: 4\n",
      "Number of sentences in original article: 23\n",
      "Number of sentences in summary: 3\n",
      "Number of original events: 105\n",
      "Number of processed events: 3\n"
     ]
    },
    {
     "name": "stderr",
     "output_type": "stream",
     "text": [
      "/home/carlos/MasterDS/tfm/scripts/extractive_summary/key_events.py:109: UserWarning: Could not perform tfidf\n",
      "  if len(summary_events) == 0 or len(processed_article_sentences) == 0:\n",
      "/home/carlos/MasterDS/tfm/scripts/extractive_summary/key_events_summary.py:196: UserWarning: Could not perform summary for https://www.bbc.com/sport/football/49732386\n",
      "  warnings.warn('Could not perform summary for {}'.format(match_url))\n"
     ]
    },
    {
     "name": "stdout",
     "output_type": "stream",
     "text": [
      "Number of original events: 125\n",
      "Number of processed events: 4\n"
     ]
    },
    {
     "name": "stderr",
     "output_type": "stream",
     "text": [
      "/home/carlos/MasterDS/tfm/scripts/extractive_summary/key_events_summary.py:196: UserWarning: Could not perform summary for https://www.bbc.com/sport/football/49732400\n",
      "  warnings.warn('Could not perform summary for {}'.format(match_url))\n"
     ]
    },
    {
     "name": "stdout",
     "output_type": "stream",
     "text": [
      "Number of original events: 90\n",
      "Number of processed events: 3\n",
      "Number of sentences in original article: 20\n",
      "Number of sentences in summary: 1\n",
      "Number of original events: 108\n",
      "Number of processed events: 4\n",
      "Number of sentences in original article: 6\n",
      "Number of sentences in summary: 3\n",
      "Number of original events: 92\n",
      "Number of processed events: 3\n"
     ]
    },
    {
     "name": "stderr",
     "output_type": "stream",
     "text": [
      "/home/carlos/MasterDS/tfm/scripts/extractive_summary/key_events.py:109: UserWarning: Could not perform tfidf\n",
      "  if len(summary_events) == 0 or len(processed_article_sentences) == 0:\n",
      "/home/carlos/MasterDS/tfm/scripts/extractive_summary/key_events_summary.py:196: UserWarning: Could not perform summary for https://www.bbc.com/sport/football/49745039\n",
      "  warnings.warn('Could not perform summary for {}'.format(match_url))\n"
     ]
    },
    {
     "name": "stdout",
     "output_type": "stream",
     "text": [
      "Number of original events: 111\n",
      "Number of processed events: 12\n",
      "Number of sentences in original article: 32\n",
      "Number of sentences in summary: 6\n",
      "Number of original events: 83\n",
      "Number of processed events: 2\n",
      "Number of sentences in original article: 47\n",
      "Number of sentences in summary: 1\n",
      "Number of original events: 109\n",
      "Number of processed events: 2\n",
      "Number of sentences in original article: 11\n",
      "Number of sentences in summary: 2\n",
      "Number of original events: 88\n",
      "Number of processed events: 0\n"
     ]
    },
    {
     "name": "stderr",
     "output_type": "stream",
     "text": [
      "/home/carlos/MasterDS/tfm/scripts/extractive_summary/key_events.py:109: UserWarning: Could not perform tfidf\n",
      "  if len(summary_events) == 0 or len(processed_article_sentences) == 0:\n",
      "/home/carlos/MasterDS/tfm/scripts/extractive_summary/key_events_summary.py:196: UserWarning: Could not perform summary for https://www.bbc.com/sport/football/49718948\n",
      "  warnings.warn('Could not perform summary for {}'.format(match_url))\n"
     ]
    },
    {
     "name": "stdout",
     "output_type": "stream",
     "text": [
      "Number of original events: 98\n",
      "Number of processed events: 2\n"
     ]
    },
    {
     "name": "stderr",
     "output_type": "stream",
     "text": [
      "/home/carlos/MasterDS/tfm/scripts/extractive_summary/key_events_summary.py:196: UserWarning: Could not perform summary for https://www.bbc.com/sport/football/49731911\n",
      "  warnings.warn('Could not perform summary for {}'.format(match_url))\n"
     ]
    },
    {
     "name": "stdout",
     "output_type": "stream",
     "text": [
      "Number of original events: 106\n",
      "Number of processed events: 4\n"
     ]
    },
    {
     "name": "stderr",
     "output_type": "stream",
     "text": [
      "/home/carlos/MasterDS/tfm/scripts/extractive_summary/key_events_summary.py:196: UserWarning: Could not perform summary for https://www.bbc.com/sport/football/49731925\n",
      "  warnings.warn('Could not perform summary for {}'.format(match_url))\n"
     ]
    },
    {
     "name": "stdout",
     "output_type": "stream",
     "text": [
      "Number of original events: 103\n",
      "Number of processed events: 3\n"
     ]
    },
    {
     "name": "stderr",
     "output_type": "stream",
     "text": [
      "/home/carlos/MasterDS/tfm/scripts/extractive_summary/key_events_summary.py:196: UserWarning: Could not perform summary for https://www.bbc.com/sport/football/49731918\n",
      "  warnings.warn('Could not perform summary for {}'.format(match_url))\n"
     ]
    },
    {
     "name": "stdout",
     "output_type": "stream",
     "text": [
      "Number of original events: 123\n",
      "Number of processed events: 1\n",
      "Number of sentences in original article: 25\n",
      "Number of sentences in summary: 1\n",
      "Number of original events: 102\n",
      "Number of processed events: 1\n",
      "Number of sentences in original article: 33\n",
      "Number of sentences in summary: 1\n",
      "Number of original events: 91\n",
      "Number of processed events: 4\n",
      "Number of sentences in original article: 43\n",
      "Number of sentences in summary: 3\n",
      "Number of original events: 84\n",
      "Number of processed events: 4\n",
      "Number of sentences in original article: 35\n",
      "Number of sentences in summary: 3\n",
      "Number of original events: 76\n",
      "Number of processed events: 2\n",
      "Number of sentences in original article: 26\n",
      "Number of sentences in summary: 2\n",
      "Number of original events: 107\n",
      "Number of processed events: 5\n",
      "Number of sentences in original article: 13\n",
      "Number of sentences in summary: 3\n",
      "Number of original events: 119\n",
      "Number of processed events: 1\n",
      "Number of sentences in original article: 38\n",
      "Number of sentences in summary: 1\n",
      "Number of original events: 91\n",
      "Number of processed events: 1\n",
      "Number of sentences in original article: 42\n",
      "Number of sentences in summary: 1\n",
      "Number of original events: 93\n",
      "Number of processed events: 3\n",
      "Number of sentences in original article: 35\n",
      "Number of sentences in summary: 1\n",
      "Number of original events: 155\n",
      "Number of processed events: 5\n",
      "Number of sentences in original article: 21\n",
      "Number of sentences in summary: 4\n",
      "Number of original events: 108\n",
      "Number of processed events: 3\n",
      "Number of sentences in original article: 25\n",
      "Number of sentences in summary: 3\n",
      "Number of original events: 115\n",
      "Number of processed events: 3\n",
      "Number of sentences in original article: 60\n",
      "Number of sentences in summary: 1\n",
      "Number of original events: 108\n",
      "Number of processed events: 7\n",
      "Number of sentences in original article: 29\n",
      "Number of sentences in summary: 3\n",
      "Number of original events: 116\n",
      "Number of processed events: 7\n",
      "Number of sentences in original article: 11\n",
      "Number of sentences in summary: 1\n",
      "Number of original events: 88\n",
      "Number of processed events: 2\n",
      "Number of sentences in original article: 19\n",
      "Number of sentences in summary: 2\n",
      "Number of original events: 78\n",
      "Number of processed events: 4\n",
      "Number of sentences in original article: 13\n",
      "Number of sentences in summary: 2\n",
      "Number of original events: 123\n",
      "Number of processed events: 7\n",
      "Number of sentences in original article: 13\n",
      "Number of sentences in summary: 3\n",
      "Number of original events: 107\n",
      "Number of processed events: 2\n"
     ]
    },
    {
     "name": "stderr",
     "output_type": "stream",
     "text": [
      "/home/carlos/MasterDS/tfm/scripts/extractive_summary/key_events.py:109: UserWarning: Could not perform tfidf\n",
      "  if len(summary_events) == 0 or len(processed_article_sentences) == 0:\n",
      "/home/carlos/MasterDS/tfm/scripts/extractive_summary/key_events_summary.py:196: UserWarning: Could not perform summary for https://www.bbc.com/sport/football/50519913\n",
      "  warnings.warn('Could not perform summary for {}'.format(match_url))\n"
     ]
    },
    {
     "name": "stdout",
     "output_type": "stream",
     "text": [
      "Number of original events: 106\n",
      "Number of processed events: 4\n",
      "Number of sentences in original article: 7\n",
      "Number of sentences in summary: 1\n",
      "Number of original events: 136\n",
      "Number of processed events: 5\n",
      "Number of sentences in original article: 26\n",
      "Number of sentences in summary: 5\n",
      "Number of original events: 108\n",
      "Number of processed events: 4\n"
     ]
    },
    {
     "name": "stderr",
     "output_type": "stream",
     "text": [
      "/home/carlos/MasterDS/tfm/scripts/extractive_summary/key_events.py:109: UserWarning: Could not perform tfidf\n",
      "  if len(summary_events) == 0 or len(processed_article_sentences) == 0:\n",
      "/home/carlos/MasterDS/tfm/scripts/extractive_summary/key_events_summary.py:196: UserWarning: Could not perform summary for https://www.bbc.com/sport/football/50519930\n",
      "  warnings.warn('Could not perform summary for {}'.format(match_url))\n"
     ]
    },
    {
     "name": "stdout",
     "output_type": "stream",
     "text": [
      "Number of original events: 128\n",
      "Number of processed events: 2\n",
      "Number of sentences in original article: 14\n",
      "Number of sentences in summary: 2\n",
      "Number of original events: 112\n",
      "Number of processed events: 4\n",
      "Number of sentences in original article: 35\n",
      "Number of sentences in summary: 2\n",
      "Number of original events: 101\n",
      "Number of processed events: 8\n",
      "Number of sentences in original article: 11\n",
      "Number of sentences in summary: 4\n",
      "Number of original events: 100\n",
      "Number of processed events: 6\n",
      "Number of sentences in original article: 22\n",
      "Number of sentences in summary: 2\n",
      "Number of original events: 120\n",
      "Number of processed events: 2\n"
     ]
    },
    {
     "name": "stderr",
     "output_type": "stream",
     "text": [
      "/home/carlos/MasterDS/tfm/scripts/extractive_summary/key_events.py:109: UserWarning: Could not perform tfidf\n",
      "  if len(summary_events) == 0 or len(processed_article_sentences) == 0:\n",
      "/home/carlos/MasterDS/tfm/scripts/extractive_summary/key_events_summary.py:196: UserWarning: Could not perform summary for https://www.bbc.com/sport/football/50567017\n",
      "  warnings.warn('Could not perform summary for {}'.format(match_url))\n"
     ]
    },
    {
     "name": "stdout",
     "output_type": "stream",
     "text": [
      "Number of original events: 87\n",
      "Number of processed events: 2\n",
      "Number of sentences in original article: 34\n",
      "Number of sentences in summary: 2\n",
      "Number of original events: 135\n",
      "Number of processed events: 2\n"
     ]
    },
    {
     "name": "stderr",
     "output_type": "stream",
     "text": [
      "/home/carlos/MasterDS/tfm/scripts/extractive_summary/key_events.py:109: UserWarning: Could not perform tfidf\n",
      "  if len(summary_events) == 0 or len(processed_article_sentences) == 0:\n",
      "/home/carlos/MasterDS/tfm/scripts/extractive_summary/key_events_summary.py:196: UserWarning: Could not perform summary for https://www.bbc.com/sport/football/50567003\n",
      "  warnings.warn('Could not perform summary for {}'.format(match_url))\n"
     ]
    },
    {
     "name": "stdout",
     "output_type": "stream",
     "text": [
      "Number of original events: 100\n",
      "Number of processed events: 1\n",
      "Number of sentences in original article: 8\n",
      "Number of sentences in summary: 1\n",
      "Number of original events: 100\n",
      "Number of processed events: 1\n",
      "Number of sentences in original article: 8\n",
      "Number of sentences in summary: 1\n",
      "Number of original events: 88\n",
      "Number of processed events: 6\n",
      "Number of sentences in original article: 30\n",
      "Number of sentences in summary: 1\n",
      "Number of original events: 103\n",
      "Number of processed events: 2\n",
      "Number of sentences in original article: 12\n",
      "Number of sentences in summary: 2\n",
      "Number of original events: 100\n",
      "Number of processed events: 4\n",
      "Number of sentences in original article: 34\n",
      "Number of sentences in summary: 4\n",
      "Number of original events: 94\n",
      "Number of processed events: 3\n",
      "Number of sentences in original article: 41\n",
      "Number of sentences in summary: 3\n",
      "Number of original events: 102\n",
      "Number of processed events: 6\n"
     ]
    },
    {
     "name": "stderr",
     "output_type": "stream",
     "text": [
      "/home/carlos/MasterDS/tfm/scripts/extractive_summary/key_events.py:109: UserWarning: Could not perform tfidf\n",
      "  if len(summary_events) == 0 or len(processed_article_sentences) == 0:\n",
      "/home/carlos/MasterDS/tfm/scripts/extractive_summary/key_events_summary.py:196: UserWarning: Could not perform summary for https://www.bbc.com/sport/football/50296563\n",
      "  warnings.warn('Could not perform summary for {}'.format(match_url))\n"
     ]
    },
    {
     "name": "stdout",
     "output_type": "stream",
     "text": [
      "Number of original events: 106\n",
      "Number of processed events: 3\n",
      "Number of sentences in original article: 12\n",
      "Number of sentences in summary: 1\n",
      "Number of original events: 114\n",
      "Number of processed events: 4\n"
     ]
    },
    {
     "name": "stderr",
     "output_type": "stream",
     "text": [
      "/home/carlos/MasterDS/tfm/scripts/extractive_summary/key_events.py:109: UserWarning: Could not perform tfidf\n",
      "  if len(summary_events) == 0 or len(processed_article_sentences) == 0:\n",
      "/home/carlos/MasterDS/tfm/scripts/extractive_summary/key_events_summary.py:196: UserWarning: Could not perform summary for https://www.bbc.com/sport/football/50296528\n",
      "  warnings.warn('Could not perform summary for {}'.format(match_url))\n"
     ]
    },
    {
     "name": "stdout",
     "output_type": "stream",
     "text": [
      "Number of original events: 91\n",
      "Number of processed events: 3\n",
      "Number of sentences in original article: 37\n",
      "Number of sentences in summary: 3\n",
      "Number of original events: 137\n",
      "Number of processed events: 4\n",
      "Number of sentences in original article: 8\n",
      "Number of sentences in summary: 2\n",
      "Number of original events: 114\n",
      "Number of processed events: 0\n"
     ]
    },
    {
     "name": "stderr",
     "output_type": "stream",
     "text": [
      "/home/carlos/MasterDS/tfm/scripts/extractive_summary/key_events.py:109: UserWarning: Could not perform tfidf\n",
      "  if len(summary_events) == 0 or len(processed_article_sentences) == 0:\n",
      "/home/carlos/MasterDS/tfm/scripts/extractive_summary/key_events_summary.py:196: UserWarning: Could not perform summary for https://www.bbc.com/sport/football/50294397\n",
      "  warnings.warn('Could not perform summary for {}'.format(match_url))\n"
     ]
    },
    {
     "name": "stdout",
     "output_type": "stream",
     "text": [
      "Number of original events: 94\n",
      "Number of processed events: 5\n",
      "Number of sentences in original article: 11\n",
      "Number of sentences in summary: 2\n",
      "Number of original events: 102\n",
      "Number of processed events: 3\n"
     ]
    },
    {
     "name": "stderr",
     "output_type": "stream",
     "text": [
      "/home/carlos/MasterDS/tfm/scripts/extractive_summary/key_events.py:109: UserWarning: Could not perform tfidf\n",
      "  if len(summary_events) == 0 or len(processed_article_sentences) == 0:\n",
      "/home/carlos/MasterDS/tfm/scripts/extractive_summary/key_events_summary.py:196: UserWarning: Could not perform summary for https://www.bbc.com/sport/football/50309354\n",
      "  warnings.warn('Could not perform summary for {}'.format(match_url))\n"
     ]
    },
    {
     "name": "stdout",
     "output_type": "stream",
     "text": [
      "Number of original events: 89\n",
      "Number of processed events: 5\n"
     ]
    },
    {
     "name": "stderr",
     "output_type": "stream",
     "text": [
      "/home/carlos/MasterDS/tfm/scripts/extractive_summary/key_events_summary.py:196: UserWarning: Could not perform summary for https://www.bbc.com/sport/football/50309378\n",
      "  warnings.warn('Could not perform summary for {}'.format(match_url))\n"
     ]
    },
    {
     "name": "stdout",
     "output_type": "stream",
     "text": [
      "Number of original events: 110\n",
      "Number of processed events: 10\n",
      "Number of sentences in original article: 52\n",
      "Number of sentences in summary: 8\n",
      "Number of original events: 110\n",
      "Number of processed events: 5\n"
     ]
    },
    {
     "name": "stderr",
     "output_type": "stream",
     "text": [
      "/home/carlos/MasterDS/tfm/scripts/extractive_summary/key_events.py:109: UserWarning: Could not perform tfidf\n",
      "  if len(summary_events) == 0 or len(processed_article_sentences) == 0:\n",
      "/home/carlos/MasterDS/tfm/scripts/extractive_summary/key_events_summary.py:196: UserWarning: Could not perform summary for https://www.bbc.com/sport/football/50309371\n",
      "  warnings.warn('Could not perform summary for {}'.format(match_url))\n"
     ]
    },
    {
     "name": "stdout",
     "output_type": "stream",
     "text": [
      "Number of original events: 95\n",
      "Number of processed events: 4\n",
      "Number of sentences in original article: 7\n",
      "Number of sentences in summary: 2\n",
      "Number of original events: 117\n",
      "Number of processed events: 5\n",
      "Number of sentences in original article: 6\n",
      "Number of sentences in summary: 3\n",
      "Number of original events: 94\n",
      "Number of processed events: 4\n",
      "Number of sentences in original article: 25\n",
      "Number of sentences in summary: 1\n",
      "Number of original events: 121\n",
      "Number of processed events: 1\n"
     ]
    },
    {
     "name": "stderr",
     "output_type": "stream",
     "text": [
      "/home/carlos/MasterDS/tfm/scripts/extractive_summary/key_events.py:109: UserWarning: Could not perform tfidf\n",
      "  if len(summary_events) == 0 or len(processed_article_sentences) == 0:\n",
      "/home/carlos/MasterDS/tfm/scripts/extractive_summary/key_events_summary.py:196: UserWarning: Could not perform summary for https://www.bbc.com/sport/football/50749882\n",
      "  warnings.warn('Could not perform summary for {}'.format(match_url))\n"
     ]
    },
    {
     "name": "stdout",
     "output_type": "stream",
     "text": [
      "Number of original events: 69\n",
      "Number of processed events: 5\n",
      "Number of sentences in original article: 37\n",
      "Number of sentences in summary: 2\n",
      "Number of original events: 109\n",
      "Number of processed events: 5\n",
      "Number of sentences in original article: 9\n",
      "Number of sentences in summary: 3\n",
      "Number of original events: 105\n",
      "Number of processed events: 5\n",
      "Number of sentences in original article: 12\n",
      "Number of sentences in summary: 3\n",
      "Number of original events: 88\n",
      "Number of processed events: 2\n",
      "Number of sentences in original article: 10\n",
      "Number of sentences in summary: 2\n",
      "Number of original events: 81\n",
      "Number of processed events: 2\n",
      "Number of sentences in original article: 47\n",
      "Number of sentences in summary: 2\n",
      "Number of original events: 105\n",
      "Number of processed events: 4\n",
      "Number of sentences in original article: 25\n",
      "Number of sentences in summary: 2\n",
      "Number of original events: 112\n",
      "Number of processed events: 3\n",
      "Number of sentences in original article: 5\n",
      "Number of sentences in summary: 1\n",
      "Number of original events: 113\n",
      "Number of processed events: 3\n",
      "Number of sentences in original article: 29\n",
      "Number of sentences in summary: 3\n",
      "Number of original events: 92\n",
      "Number of processed events: 3\n"
     ]
    },
    {
     "name": "stderr",
     "output_type": "stream",
     "text": [
      "/home/carlos/MasterDS/tfm/scripts/extractive_summary/key_events.py:109: UserWarning: Could not perform tfidf\n",
      "  if len(summary_events) == 0 or len(processed_article_sentences) == 0:\n",
      "/home/carlos/MasterDS/tfm/scripts/extractive_summary/key_events_summary.py:196: UserWarning: Could not perform summary for https://www.bbc.com/sport/football/50722487\n",
      "  warnings.warn('Could not perform summary for {}'.format(match_url))\n"
     ]
    },
    {
     "name": "stdout",
     "output_type": "stream",
     "text": [
      "Number of original events: 120\n",
      "Number of processed events: 4\n"
     ]
    },
    {
     "name": "stderr",
     "output_type": "stream",
     "text": [
      "/home/carlos/MasterDS/tfm/scripts/extractive_summary/key_events_summary.py:196: UserWarning: Could not perform summary for https://www.bbc.com/sport/football/50722494\n",
      "  warnings.warn('Could not perform summary for {}'.format(match_url))\n"
     ]
    },
    {
     "name": "stdout",
     "output_type": "stream",
     "text": [
      "Number of original events: 115\n",
      "Number of processed events: 2\n",
      "Number of sentences in original article: 9\n",
      "Number of sentences in summary: 2\n",
      "Number of original events: 88\n",
      "Number of processed events: 3\n",
      "Number of sentences in original article: 30\n",
      "Number of sentences in summary: 3\n",
      "Number of original events: 101\n",
      "Number of processed events: 8\n",
      "Number of sentences in original article: 8\n",
      "Number of sentences in summary: 1\n",
      "Number of original events: 95\n",
      "Number of processed events: 5\n",
      "Number of sentences in original article: 38\n",
      "Number of sentences in summary: 5\n",
      "Number of original events: 96\n",
      "Number of processed events: 2\n"
     ]
    },
    {
     "name": "stderr",
     "output_type": "stream",
     "text": [
      "/home/carlos/MasterDS/tfm/scripts/extractive_summary/key_events.py:109: UserWarning: Could not perform tfidf\n",
      "  if len(summary_events) == 0 or len(processed_article_sentences) == 0:\n",
      "/home/carlos/MasterDS/tfm/scripts/extractive_summary/key_events_summary.py:196: UserWarning: Could not perform summary for https://www.bbc.com/sport/football/49874436\n",
      "  warnings.warn('Could not perform summary for {}'.format(match_url))\n"
     ]
    },
    {
     "name": "stdout",
     "output_type": "stream",
     "text": [
      "Number of original events: 117\n",
      "Number of processed events: 3\n",
      "Number of sentences in original article: 17\n",
      "Number of sentences in summary: 3\n",
      "Number of original events: 89\n",
      "Number of processed events: 3\n"
     ]
    },
    {
     "name": "stderr",
     "output_type": "stream",
     "text": [
      "/home/carlos/MasterDS/tfm/scripts/extractive_summary/key_events.py:109: UserWarning: Could not perform tfidf\n",
      "  if len(summary_events) == 0 or len(processed_article_sentences) == 0:\n",
      "/home/carlos/MasterDS/tfm/scripts/extractive_summary/key_events_summary.py:196: UserWarning: Could not perform summary for https://www.bbc.com/sport/football/50159013\n",
      "  warnings.warn('Could not perform summary for {}'.format(match_url))\n"
     ]
    },
    {
     "name": "stdout",
     "output_type": "stream",
     "text": [
      "Number of original events: 115\n",
      "Number of processed events: 3\n"
     ]
    },
    {
     "name": "stderr",
     "output_type": "stream",
     "text": [
      "/home/carlos/MasterDS/tfm/scripts/extractive_summary/key_events_summary.py:196: UserWarning: Could not perform summary for https://www.bbc.com/sport/football/50159027\n",
      "  warnings.warn('Could not perform summary for {}'.format(match_url))\n"
     ]
    },
    {
     "name": "stdout",
     "output_type": "stream",
     "text": [
      "Number of original events: 120\n",
      "Number of processed events: 3\n",
      "Number of sentences in original article: 17\n",
      "Number of sentences in summary: 2\n",
      "Number of original events: 133\n",
      "Number of processed events: 2\n"
     ]
    },
    {
     "name": "stderr",
     "output_type": "stream",
     "text": [
      "/home/carlos/MasterDS/tfm/scripts/extractive_summary/key_events.py:109: UserWarning: Could not perform tfidf\n",
      "  if len(summary_events) == 0 or len(processed_article_sentences) == 0:\n",
      "/home/carlos/MasterDS/tfm/scripts/extractive_summary/key_events_summary.py:196: UserWarning: Could not perform summary for https://www.bbc.com/sport/football/50159020\n",
      "  warnings.warn('Could not perform summary for {}'.format(match_url))\n"
     ]
    },
    {
     "name": "stdout",
     "output_type": "stream",
     "text": [
      "Number of original events: 98\n",
      "Number of processed events: 5\n",
      "Number of sentences in original article: 8\n",
      "Number of sentences in summary: 2\n",
      "Number of original events: 106\n",
      "Number of processed events: 1\n",
      "Number of sentences in original article: 17\n",
      "Number of sentences in summary: 1\n",
      "Number of original events: 101\n",
      "Number of processed events: 5\n",
      "Number of sentences in original article: 25\n",
      "Number of sentences in summary: 2\n",
      "Number of original events: 88\n",
      "Number of processed events: 5\n",
      "Number of sentences in original article: 23\n",
      "Number of sentences in summary: 1\n",
      "Number of original events: 109\n",
      "Number of processed events: 4\n"
     ]
    },
    {
     "name": "stderr",
     "output_type": "stream",
     "text": [
      "/home/carlos/MasterDS/tfm/scripts/extractive_summary/key_events.py:109: UserWarning: Could not perform tfidf\n",
      "  if len(summary_events) == 0 or len(processed_article_sentences) == 0:\n",
      "/home/carlos/MasterDS/tfm/scripts/extractive_summary/key_events_summary.py:196: UserWarning: Could not perform summary for https://www.bbc.com/sport/football/50145091\n",
      "  warnings.warn('Could not perform summary for {}'.format(match_url))\n"
     ]
    },
    {
     "name": "stdout",
     "output_type": "stream",
     "text": [
      "Number of original events: 114\n",
      "Number of processed events: 6\n",
      "Number of sentences in original article: 43\n",
      "Number of sentences in summary: 2\n",
      "Number of original events: 87\n",
      "Number of processed events: 1\n"
     ]
    },
    {
     "name": "stderr",
     "output_type": "stream",
     "text": [
      "/home/carlos/MasterDS/tfm/scripts/extractive_summary/key_events.py:109: UserWarning: Could not perform tfidf\n",
      "  if len(summary_events) == 0 or len(processed_article_sentences) == 0:\n",
      "/home/carlos/MasterDS/tfm/scripts/extractive_summary/key_events_summary.py:196: UserWarning: Could not perform summary for https://www.bbc.com/sport/football/50129393\n",
      "  warnings.warn('Could not perform summary for {}'.format(match_url))\n"
     ]
    },
    {
     "name": "stdout",
     "output_type": "stream",
     "text": [
      "Number of original events: 116\n",
      "Number of processed events: 3\n",
      "Number of sentences in original article: 6\n",
      "Number of sentences in summary: 1\n",
      "Number of original events: 104\n",
      "Number of processed events: 0\n"
     ]
    },
    {
     "name": "stderr",
     "output_type": "stream",
     "text": [
      "/home/carlos/MasterDS/tfm/scripts/extractive_summary/key_events.py:109: UserWarning: Could not perform tfidf\n",
      "  if len(summary_events) == 0 or len(processed_article_sentences) == 0:\n",
      "/home/carlos/MasterDS/tfm/scripts/extractive_summary/key_events_summary.py:196: UserWarning: Could not perform summary for https://www.bbc.com/sport/football/49912233\n",
      "  warnings.warn('Could not perform summary for {}'.format(match_url))\n"
     ]
    },
    {
     "name": "stdout",
     "output_type": "stream",
     "text": [
      "Number of original events: 84\n",
      "Number of processed events: 7\n",
      "Number of sentences in original article: 21\n",
      "Number of sentences in summary: 2\n",
      "Number of original events: 85\n",
      "Number of processed events: 2\n",
      "Number of sentences in original article: 1\n",
      "Number of sentences in summary: 1\n",
      "Number of original events: 127\n",
      "Number of processed events: 3\n",
      "Number of sentences in original article: 17\n",
      "Number of sentences in summary: 3\n",
      "Number of original events: 82\n",
      "Number of processed events: 2\n",
      "Number of sentences in original article: 1\n",
      "Number of sentences in summary: 1\n",
      "Number of original events: 100\n",
      "Number of processed events: 4\n",
      "Number of sentences in original article: 1\n",
      "Number of sentences in summary: 1\n",
      "Number of original events: 78\n",
      "Number of processed events: 3\n",
      "Number of sentences in original article: 34\n",
      "Number of sentences in summary: 3\n",
      "Number of original events: 116\n",
      "Number of processed events: 3\n",
      "Number of sentences in original article: 7\n",
      "Number of sentences in summary: 3\n",
      "Number of original events: 116\n",
      "Number of processed events: 6\n",
      "Number of sentences in original article: 27\n",
      "Number of sentences in summary: 3\n",
      "Number of original events: 125\n",
      "Number of processed events: 1\n",
      "Number of sentences in original article: 4\n",
      "Number of sentences in summary: 1\n",
      "Number of original events: 128\n",
      "Number of processed events: 4\n",
      "Number of sentences in original article: 1\n",
      "Number of sentences in summary: 1\n",
      "Number of original events: 104\n",
      "Number of processed events: 9\n",
      "Number of sentences in original article: 28\n",
      "Number of sentences in summary: 1\n",
      "Number of original events: 119\n",
      "Number of processed events: 3\n",
      "Number of sentences in original article: 1\n",
      "Number of sentences in summary: 1\n",
      "Number of original events: 93\n",
      "Number of processed events: 2\n",
      "Number of sentences in original article: 35\n",
      "Number of sentences in summary: 1\n",
      "Number of original events: 102\n",
      "Number of processed events: 3\n",
      "Number of sentences in original article: 14\n",
      "Number of sentences in summary: 2\n"
     ]
    },
    {
     "name": "stderr",
     "output_type": "stream",
     "text": [
      " 10%|█         | 2/20 [05:42<46:58, 156.61s/it]"
     ]
    },
    {
     "name": "stdout",
     "output_type": "stream",
     "text": [
      "Number of original events: 117\n",
      "Number of processed events: 2\n",
      "Number of sentences in original article: 1\n",
      "Number of sentences in summary: 1\n",
      "Number of original events: 89\n",
      "Number of processed events: 1\n",
      "Number of sentences in original article: 11\n",
      "Number of sentences in summary: 1\n",
      "Number of original events: 116\n",
      "Number of processed events: 0\n"
     ]
    },
    {
     "name": "stderr",
     "output_type": "stream",
     "text": [
      "/home/carlos/MasterDS/tfm/scripts/extractive_summary/key_events.py:109: UserWarning: Could not perform tfidf\n",
      "  if len(summary_events) == 0 or len(processed_article_sentences) == 0:\n",
      "/home/carlos/MasterDS/tfm/scripts/extractive_summary/key_events_summary.py:196: UserWarning: Could not perform summary for https://matchcenter.mlssoccer.com/matchcenter/2018-06-06-miami-united-vs-orlando-city-sc/feed\n",
      "  warnings.warn('Could not perform summary for {}'.format(match_url))\n"
     ]
    },
    {
     "name": "stdout",
     "output_type": "stream",
     "text": [
      "Number of original events: 73\n",
      "Number of processed events: 0\n"
     ]
    },
    {
     "name": "stderr",
     "output_type": "stream",
     "text": [
      "/home/carlos/MasterDS/tfm/scripts/extractive_summary/key_events_summary.py:196: UserWarning: Could not perform summary for https://matchcenter.mlssoccer.com/matchcenter/2018-06-02-montreal-impact-vs-houston-dynamo/feed\n",
      "  warnings.warn('Could not perform summary for {}'.format(match_url))\n"
     ]
    },
    {
     "name": "stdout",
     "output_type": "stream",
     "text": [
      "Number of original events: 88\n",
      "Number of processed events: 0\n"
     ]
    },
    {
     "name": "stderr",
     "output_type": "stream",
     "text": [
      "/home/carlos/MasterDS/tfm/scripts/extractive_summary/key_events_summary.py:196: UserWarning: Could not perform summary for https://matchcenter.mlssoccer.com/matchcenter/2018-06-06-atlanta-united-fc-vs-charleston-battery/feed\n",
      "  warnings.warn('Could not perform summary for {}'.format(match_url))\n"
     ]
    },
    {
     "name": "stdout",
     "output_type": "stream",
     "text": [
      "Number of original events: 96\n",
      "Number of processed events: 0\n"
     ]
    },
    {
     "name": "stderr",
     "output_type": "stream",
     "text": [
      "/home/carlos/MasterDS/tfm/scripts/extractive_summary/key_events_summary.py:196: UserWarning: Could not perform summary for https://matchcenter.mlssoccer.com/matchcenter/2018-05-25-houston-dynamo-vs-new-york-city-fc/feed\n",
      "  warnings.warn('Could not perform summary for {}'.format(match_url))\n"
     ]
    },
    {
     "name": "stdout",
     "output_type": "stream",
     "text": [
      "Number of original events: 92\n",
      "Number of processed events: 0\n"
     ]
    },
    {
     "name": "stderr",
     "output_type": "stream",
     "text": [
      "/home/carlos/MasterDS/tfm/scripts/extractive_summary/key_events_summary.py:196: UserWarning: Could not perform summary for https://matchcenter.mlssoccer.com/matchcenter/2018-09-16-dc-united-vs-new-york-red-bulls/feed\n",
      "  warnings.warn('Could not perform summary for {}'.format(match_url))\n"
     ]
    },
    {
     "name": "stdout",
     "output_type": "stream",
     "text": [
      "Number of original events: 97\n",
      "Number of processed events: 0\n"
     ]
    },
    {
     "name": "stderr",
     "output_type": "stream",
     "text": [
      "/home/carlos/MasterDS/tfm/scripts/extractive_summary/key_events_summary.py:196: UserWarning: Could not perform summary for https://matchcenter.mlssoccer.com/matchcenter/2018-03-10-houston-dynamo-vs-vancouver-whitecaps-fc/feed\n",
      "  warnings.warn('Could not perform summary for {}'.format(match_url))\n"
     ]
    },
    {
     "name": "stdout",
     "output_type": "stream",
     "text": [
      "Number of original events: 94\n",
      "Number of processed events: 0\n"
     ]
    },
    {
     "name": "stderr",
     "output_type": "stream",
     "text": [
      "/home/carlos/MasterDS/tfm/scripts/extractive_summary/key_events_summary.py:196: UserWarning: Could not perform summary for https://matchcenter.mlssoccer.com/matchcenter/2018-10-21-philadelphia-union-vs-new-york-red-bulls/feed\n",
      "  warnings.warn('Could not perform summary for {}'.format(match_url))\n"
     ]
    },
    {
     "name": "stdout",
     "output_type": "stream",
     "text": [
      "Number of original events: 92\n",
      "Number of processed events: 0\n"
     ]
    },
    {
     "name": "stderr",
     "output_type": "stream",
     "text": [
      "/home/carlos/MasterDS/tfm/scripts/extractive_summary/key_events_summary.py:196: UserWarning: Could not perform summary for https://matchcenter.mlssoccer.com/matchcenter/2018-05-21-montreal-impact-vs-la-galaxy/feed\n",
      "  warnings.warn('Could not perform summary for {}'.format(match_url))\n"
     ]
    },
    {
     "name": "stdout",
     "output_type": "stream",
     "text": [
      "Number of original events: 94\n",
      "Number of processed events: 1\n",
      "Number of sentences in original article: 7\n",
      "Number of sentences in summary: 1\n",
      "Number of original events: 76\n",
      "Number of processed events: 1\n",
      "Number of sentences in original article: 7\n",
      "Number of sentences in summary: 1\n",
      "Number of original events: 93\n",
      "Number of processed events: 1\n",
      "Number of sentences in original article: 8\n",
      "Number of sentences in summary: 1\n",
      "Number of original events: 82\n",
      "Number of processed events: 2\n",
      "Number of sentences in original article: 12\n",
      "Number of sentences in summary: 2\n",
      "Number of original events: 96\n",
      "Number of processed events: 0\n"
     ]
    },
    {
     "name": "stderr",
     "output_type": "stream",
     "text": [
      "/home/carlos/MasterDS/tfm/scripts/extractive_summary/key_events.py:109: UserWarning: Could not perform tfidf\n",
      "  if len(summary_events) == 0 or len(processed_article_sentences) == 0:\n",
      "/home/carlos/MasterDS/tfm/scripts/extractive_summary/key_events_summary.py:196: UserWarning: Could not perform summary for https://matchcenter.mlssoccer.com/matchcenter/2018-09-29-minnesota-united-fc-vs-new-york-city-fc/feed\n",
      "  warnings.warn('Could not perform summary for {}'.format(match_url))\n"
     ]
    },
    {
     "name": "stdout",
     "output_type": "stream",
     "text": [
      "Number of original events: 139\n",
      "Number of processed events: 0\n"
     ]
    },
    {
     "name": "stderr",
     "output_type": "stream",
     "text": [
      "/home/carlos/MasterDS/tfm/scripts/extractive_summary/key_events_summary.py:196: UserWarning: Could not perform summary for https://matchcenter.mlssoccer.com/matchcenter/2018-03-06-club-tijuana-vs-new-york-red-bulls/feed\n",
      "  warnings.warn('Could not perform summary for {}'.format(match_url))\n"
     ]
    },
    {
     "name": "stdout",
     "output_type": "stream",
     "text": [
      "Number of original events: 85\n",
      "Number of processed events: 0\n"
     ]
    },
    {
     "name": "stderr",
     "output_type": "stream",
     "text": [
      "/home/carlos/MasterDS/tfm/scripts/extractive_summary/key_events_summary.py:196: UserWarning: Could not perform summary for https://matchcenter.mlssoccer.com/matchcenter/2018-06-09-la-galaxy-vs-real-salt-lake/feed\n",
      "  warnings.warn('Could not perform summary for {}'.format(match_url))\n"
     ]
    },
    {
     "name": "stdout",
     "output_type": "stream",
     "text": [
      "Number of original events: 111\n",
      "Number of processed events: 0\n"
     ]
    },
    {
     "name": "stderr",
     "output_type": "stream",
     "text": [
      "/home/carlos/MasterDS/tfm/scripts/extractive_summary/key_events_summary.py:196: UserWarning: Could not perform summary for https://matchcenter.mlssoccer.com/matchcenter/2018-07-28-san-jose-earthquakes-vs-real-salt-lake/feed\n",
      "  warnings.warn('Could not perform summary for {}'.format(match_url))\n"
     ]
    },
    {
     "name": "stdout",
     "output_type": "stream",
     "text": [
      "Number of original events: 80\n",
      "Number of processed events: 0\n"
     ]
    },
    {
     "name": "stderr",
     "output_type": "stream",
     "text": [
      "/home/carlos/MasterDS/tfm/scripts/extractive_summary/key_events_summary.py:196: UserWarning: Could not perform summary for https://matchcenter.mlssoccer.com/matchcenter/2018-03-07-toronto-fc-vs-tigres-uanl/feed\n",
      "  warnings.warn('Could not perform summary for {}'.format(match_url))\n"
     ]
    },
    {
     "name": "stdout",
     "output_type": "stream",
     "text": [
      "Number of original events: 74\n",
      "Number of processed events: 1\n",
      "Number of sentences in original article: 10\n",
      "Number of sentences in summary: 1\n",
      "Number of original events: 91\n",
      "Number of processed events: 0\n"
     ]
    },
    {
     "name": "stderr",
     "output_type": "stream",
     "text": [
      "/home/carlos/MasterDS/tfm/scripts/extractive_summary/key_events.py:109: UserWarning: Could not perform tfidf\n",
      "  if len(summary_events) == 0 or len(processed_article_sentences) == 0:\n",
      "/home/carlos/MasterDS/tfm/scripts/extractive_summary/key_events_summary.py:196: UserWarning: Could not perform summary for https://matchcenter.mlssoccer.com/matchcenter/2018-10-08-seattle-sounders-fc-vs-houston-dynamo/feed\n",
      "  warnings.warn('Could not perform summary for {}'.format(match_url))\n"
     ]
    },
    {
     "name": "stdout",
     "output_type": "stream",
     "text": [
      "Number of original events: 76\n",
      "Number of processed events: 0\n"
     ]
    },
    {
     "name": "stderr",
     "output_type": "stream",
     "text": [
      "/home/carlos/MasterDS/tfm/scripts/extractive_summary/key_events_summary.py:196: UserWarning: Could not perform summary for https://matchcenter.mlssoccer.com/matchcenter/2018-03-31-chicago-fire-vs-portland-timbers/feed\n",
      "  warnings.warn('Could not perform summary for {}'.format(match_url))\n"
     ]
    },
    {
     "name": "stdout",
     "output_type": "stream",
     "text": [
      "Number of original events: 81\n",
      "Number of processed events: 0\n"
     ]
    },
    {
     "name": "stderr",
     "output_type": "stream",
     "text": [
      "/home/carlos/MasterDS/tfm/scripts/extractive_summary/key_events_summary.py:196: UserWarning: Could not perform summary for https://matchcenter.mlssoccer.com/matchcenter/2018-07-25-toronto-fc-vs-ottawa-fury-fc/feed\n",
      "  warnings.warn('Could not perform summary for {}'.format(match_url))\n"
     ]
    },
    {
     "name": "stdout",
     "output_type": "stream",
     "text": [
      "Number of original events: 115\n",
      "Number of processed events: 0\n"
     ]
    },
    {
     "name": "stderr",
     "output_type": "stream",
     "text": [
      "/home/carlos/MasterDS/tfm/scripts/extractive_summary/key_events_summary.py:196: UserWarning: Could not perform summary for https://matchcenter.mlssoccer.com/matchcenter/2018-08-18-vancouver-whitecaps-fc-vs-new-york-red-bulls/feed\n",
      "  warnings.warn('Could not perform summary for {}'.format(match_url))\n"
     ]
    },
    {
     "name": "stdout",
     "output_type": "stream",
     "text": [
      "Number of original events: 79\n",
      "Number of processed events: 0\n"
     ]
    },
    {
     "name": "stderr",
     "output_type": "stream",
     "text": [
      "/home/carlos/MasterDS/tfm/scripts/extractive_summary/key_events_summary.py:196: UserWarning: Could not perform summary for https://matchcenter.mlssoccer.com/matchcenter/2018-09-26-new-york-city-fc-vs-chicago-fire/feed\n",
      "  warnings.warn('Could not perform summary for {}'.format(match_url))\n"
     ]
    },
    {
     "name": "stdout",
     "output_type": "stream",
     "text": [
      "Number of original events: 82\n",
      "Number of processed events: 0\n"
     ]
    },
    {
     "name": "stderr",
     "output_type": "stream",
     "text": [
      "/home/carlos/MasterDS/tfm/scripts/extractive_summary/key_events_summary.py:196: UserWarning: Could not perform summary for https://matchcenter.mlssoccer.com/matchcenter/2018-08-11-real-salt-lake-vs-montreal-impact/feed\n",
      "  warnings.warn('Could not perform summary for {}'.format(match_url))\n"
     ]
    },
    {
     "name": "stdout",
     "output_type": "stream",
     "text": [
      "Number of original events: 110\n",
      "Number of processed events: 0\n"
     ]
    },
    {
     "name": "stderr",
     "output_type": "stream",
     "text": [
      "/home/carlos/MasterDS/tfm/scripts/extractive_summary/key_events_summary.py:196: UserWarning: Could not perform summary for https://matchcenter.mlssoccer.com/matchcenter/2018-08-04-montreal-impact-vs-dc-united/feed\n",
      "  warnings.warn('Could not perform summary for {}'.format(match_url))\n"
     ]
    },
    {
     "name": "stdout",
     "output_type": "stream",
     "text": [
      "Number of original events: 103\n",
      "Number of processed events: 0\n"
     ]
    },
    {
     "name": "stderr",
     "output_type": "stream",
     "text": [
      "/home/carlos/MasterDS/tfm/scripts/extractive_summary/key_events_summary.py:196: UserWarning: Could not perform summary for https://matchcenter.mlssoccer.com/matchcenter/2018-07-28-new-york-red-bulls-vs-columbus-crew-sc/feed\n",
      "  warnings.warn('Could not perform summary for {}'.format(match_url))\n"
     ]
    },
    {
     "name": "stdout",
     "output_type": "stream",
     "text": [
      "Number of original events: 133\n",
      "Number of processed events: 0\n"
     ]
    },
    {
     "name": "stderr",
     "output_type": "stream",
     "text": [
      "/home/carlos/MasterDS/tfm/scripts/extractive_summary/key_events_summary.py:196: UserWarning: Could not perform summary for https://matchcenter.mlssoccer.com/matchcenter/2018-02-28-fc-dallas-vs-tauro-fc/feed\n",
      "  warnings.warn('Could not perform summary for {}'.format(match_url))\n"
     ]
    },
    {
     "name": "stdout",
     "output_type": "stream",
     "text": [
      "Number of original events: 88\n",
      "Number of processed events: 0\n"
     ]
    },
    {
     "name": "stderr",
     "output_type": "stream",
     "text": [
      "/home/carlos/MasterDS/tfm/scripts/extractive_summary/key_events_summary.py:196: UserWarning: Could not perform summary for https://matchcenter.mlssoccer.com/matchcenter/2018-08-15-los-angeles-football-club-vs-real-salt-lake/feed\n",
      "  warnings.warn('Could not perform summary for {}'.format(match_url))\n"
     ]
    },
    {
     "name": "stdout",
     "output_type": "stream",
     "text": [
      "Number of original events: 94\n",
      "Number of processed events: 0\n"
     ]
    },
    {
     "name": "stderr",
     "output_type": "stream",
     "text": [
      "/home/carlos/MasterDS/tfm/scripts/extractive_summary/key_events_summary.py:196: UserWarning: Could not perform summary for https://matchcenter.mlssoccer.com/matchcenter/2018-07-29-la-galaxy-vs-orlando-city-sc/feed\n",
      "  warnings.warn('Could not perform summary for {}'.format(match_url))\n"
     ]
    },
    {
     "name": "stdout",
     "output_type": "stream",
     "text": [
      "Number of original events: 89\n",
      "Number of processed events: 0\n"
     ]
    },
    {
     "name": "stderr",
     "output_type": "stream",
     "text": [
      "/home/carlos/MasterDS/tfm/scripts/extractive_summary/key_events_summary.py:196: UserWarning: Could not perform summary for https://matchcenter.mlssoccer.com/matchcenter/2018-06-02-republic-of-ireland-vs-us-mens-national-team/feed\n",
      "  warnings.warn('Could not perform summary for {}'.format(match_url))\n"
     ]
    },
    {
     "name": "stdout",
     "output_type": "stream",
     "text": [
      "Number of original events: 74\n",
      "Number of processed events: 0\n"
     ]
    },
    {
     "name": "stderr",
     "output_type": "stream",
     "text": [
      "/home/carlos/MasterDS/tfm/scripts/extractive_summary/key_events_summary.py:196: UserWarning: Could not perform summary for https://matchcenter.mlssoccer.com/matchcenter/2018-02-20-colorado-rapids-vs-toronto-fc/feed\n",
      "  warnings.warn('Could not perform summary for {}'.format(match_url))\n"
     ]
    },
    {
     "name": "stdout",
     "output_type": "stream",
     "text": [
      "Number of original events: 82\n",
      "Number of processed events: 0\n"
     ]
    },
    {
     "name": "stderr",
     "output_type": "stream",
     "text": [
      "/home/carlos/MasterDS/tfm/scripts/extractive_summary/key_events_summary.py:196: UserWarning: Could not perform summary for https://matchcenter.mlssoccer.com/matchcenter/2018-06-20-atlanta-united-fc-vs-chicago-fire/feed\n",
      "  warnings.warn('Could not perform summary for {}'.format(match_url))\n"
     ]
    },
    {
     "name": "stdout",
     "output_type": "stream",
     "text": [
      "Number of original events: 83\n",
      "Number of processed events: 0\n"
     ]
    },
    {
     "name": "stderr",
     "output_type": "stream",
     "text": [
      "/home/carlos/MasterDS/tfm/scripts/extractive_summary/key_events_summary.py:196: UserWarning: Could not perform summary for https://matchcenter.mlssoccer.com/matchcenter/2018-06-30-montreal-impact-vs-sporting-kansas-city/feed\n",
      "  warnings.warn('Could not perform summary for {}'.format(match_url))\n"
     ]
    },
    {
     "name": "stdout",
     "output_type": "stream",
     "text": [
      "Number of original events: 108\n",
      "Number of processed events: 0\n"
     ]
    },
    {
     "name": "stderr",
     "output_type": "stream",
     "text": [
      "/home/carlos/MasterDS/tfm/scripts/extractive_summary/key_events_summary.py:196: UserWarning: Could not perform summary for https://matchcenter.mlssoccer.com/matchcenter/2018-06-16-philadelphia-union-vs-new-york-red-bulls/feed\n",
      "  warnings.warn('Could not perform summary for {}'.format(match_url))\n"
     ]
    },
    {
     "name": "stdout",
     "output_type": "stream",
     "text": [
      "Number of original events: 108\n",
      "Number of processed events: 0\n"
     ]
    },
    {
     "name": "stderr",
     "output_type": "stream",
     "text": [
      "/home/carlos/MasterDS/tfm/scripts/extractive_summary/key_events_summary.py:196: UserWarning: Could not perform summary for https://matchcenter.mlssoccer.com/matchcenter/2018-06-20-los-angeles-football-club-vs-sacramento-republic/feed\n",
      "  warnings.warn('Could not perform summary for {}'.format(match_url))\n"
     ]
    },
    {
     "name": "stdout",
     "output_type": "stream",
     "text": [
      "Number of original events: 96\n",
      "Number of processed events: 1\n",
      "Number of sentences in original article: 8\n",
      "Number of sentences in summary: 1\n",
      "Number of original events: 85\n",
      "Number of processed events: 0\n"
     ]
    },
    {
     "name": "stderr",
     "output_type": "stream",
     "text": [
      "/home/carlos/MasterDS/tfm/scripts/extractive_summary/key_events.py:109: UserWarning: Could not perform tfidf\n",
      "  if len(summary_events) == 0 or len(processed_article_sentences) == 0:\n",
      "/home/carlos/MasterDS/tfm/scripts/extractive_summary/key_events_summary.py:196: UserWarning: Could not perform summary for https://matchcenter.mlssoccer.com/matchcenter/2018-03-03-houston-dynamo-vs-atlanta-united-fc/feed\n",
      "  warnings.warn('Could not perform summary for {}'.format(match_url))\n"
     ]
    },
    {
     "name": "stdout",
     "output_type": "stream",
     "text": [
      "Number of original events: 107\n",
      "Number of processed events: 0\n"
     ]
    },
    {
     "name": "stderr",
     "output_type": "stream",
     "text": [
      "/home/carlos/MasterDS/tfm/scripts/extractive_summary/key_events_summary.py:196: UserWarning: Could not perform summary for https://matchcenter.mlssoccer.com/matchcenter/2018-09-30-new-york-red-bulls-vs-atlanta-united-fc/feed\n",
      "  warnings.warn('Could not perform summary for {}'.format(match_url))\n"
     ]
    },
    {
     "name": "stdout",
     "output_type": "stream",
     "text": [
      "Number of original events: 107\n",
      "Number of processed events: 1\n",
      "Number of sentences in original article: 7\n",
      "Number of sentences in summary: 1\n",
      "Number of original events: 101\n",
      "Number of processed events: 0\n"
     ]
    },
    {
     "name": "stderr",
     "output_type": "stream",
     "text": [
      "/home/carlos/MasterDS/tfm/scripts/extractive_summary/key_events.py:109: UserWarning: Could not perform tfidf\n",
      "  if len(summary_events) == 0 or len(processed_article_sentences) == 0:\n",
      "/home/carlos/MasterDS/tfm/scripts/extractive_summary/key_events_summary.py:196: UserWarning: Could not perform summary for https://matchcenter.mlssoccer.com/matchcenter/2018-04-28-columbus-crew-sc-vs-san-jose-earthquakes/feed\n",
      "  warnings.warn('Could not perform summary for {}'.format(match_url))\n"
     ]
    },
    {
     "name": "stdout",
     "output_type": "stream",
     "text": [
      "Number of original events: 87\n",
      "Number of processed events: 0\n"
     ]
    },
    {
     "name": "stderr",
     "output_type": "stream",
     "text": [
      "/home/carlos/MasterDS/tfm/scripts/extractive_summary/key_events_summary.py:196: UserWarning: Could not perform summary for https://matchcenter.mlssoccer.com/matchcenter/2018-03-31-minnesota-united-fc-vs-atlanta-united-fc/feed\n",
      "  warnings.warn('Could not perform summary for {}'.format(match_url))\n"
     ]
    },
    {
     "name": "stdout",
     "output_type": "stream",
     "text": [
      "Number of original events: 92\n",
      "Number of processed events: 0\n"
     ]
    },
    {
     "name": "stderr",
     "output_type": "stream",
     "text": [
      "/home/carlos/MasterDS/tfm/scripts/extractive_summary/key_events_summary.py:196: UserWarning: Could not perform summary for https://matchcenter.mlssoccer.com/matchcenter/2018-06-30-los-angeles-football-club-vs-philadelphia-union/feed\n",
      "  warnings.warn('Could not perform summary for {}'.format(match_url))\n"
     ]
    },
    {
     "name": "stdout",
     "output_type": "stream",
     "text": [
      "Number of original events: 100\n",
      "Number of processed events: 0\n"
     ]
    },
    {
     "name": "stderr",
     "output_type": "stream",
     "text": [
      "/home/carlos/MasterDS/tfm/scripts/extractive_summary/key_events_summary.py:196: UserWarning: Could not perform summary for https://matchcenter.mlssoccer.com/matchcenter/2018-03-31-seattle-sounders-fc-vs-montreal-impact/feed\n",
      "  warnings.warn('Could not perform summary for {}'.format(match_url))\n"
     ]
    },
    {
     "name": "stdout",
     "output_type": "stream",
     "text": [
      "Number of original events: 114\n",
      "Number of processed events: 0\n"
     ]
    },
    {
     "name": "stderr",
     "output_type": "stream",
     "text": [
      "/home/carlos/MasterDS/tfm/scripts/extractive_summary/key_events_summary.py:196: UserWarning: Could not perform summary for https://matchcenter.mlssoccer.com/matchcenter/2018-08-04-minnesota-united-fc-vs-seattle-sounders-fc/feed\n",
      "  warnings.warn('Could not perform summary for {}'.format(match_url))\n"
     ]
    },
    {
     "name": "stdout",
     "output_type": "stream",
     "text": [
      "Number of original events: 108\n",
      "Number of processed events: 0\n"
     ]
    },
    {
     "name": "stderr",
     "output_type": "stream",
     "text": [
      "/home/carlos/MasterDS/tfm/scripts/extractive_summary/key_events_summary.py:196: UserWarning: Could not perform summary for https://matchcenter.mlssoccer.com/matchcenter/2018-03-07-seattle-sounders-fc-vs-cd-guadalajara/feed\n",
      "  warnings.warn('Could not perform summary for {}'.format(match_url))\n"
     ]
    },
    {
     "name": "stdout",
     "output_type": "stream",
     "text": [
      "Number of original events: 126\n",
      "Number of processed events: 0\n"
     ]
    },
    {
     "name": "stderr",
     "output_type": "stream",
     "text": [
      "/home/carlos/MasterDS/tfm/scripts/extractive_summary/key_events_summary.py:196: UserWarning: Could not perform summary for https://matchcenter.mlssoccer.com/matchcenter/2018-07-26-los-angeles-football-club-vs-la-galaxy/feed\n",
      "  warnings.warn('Could not perform summary for {}'.format(match_url))\n"
     ]
    },
    {
     "name": "stdout",
     "output_type": "stream",
     "text": [
      "Number of original events: 109\n",
      "Number of processed events: 1\n",
      "Number of sentences in original article: 13\n",
      "Number of sentences in summary: 1\n",
      "Number of original events: 90\n",
      "Number of processed events: 0\n"
     ]
    },
    {
     "name": "stderr",
     "output_type": "stream",
     "text": [
      "/home/carlos/MasterDS/tfm/scripts/extractive_summary/key_events.py:109: UserWarning: Could not perform tfidf\n",
      "  if len(summary_events) == 0 or len(processed_article_sentences) == 0:\n",
      "/home/carlos/MasterDS/tfm/scripts/extractive_summary/key_events_summary.py:196: UserWarning: Could not perform summary for https://matchcenter.mlssoccer.com/matchcenter/2018-07-07-sporting-kansas-city-vs-toronto-fc/feed\n",
      "  warnings.warn('Could not perform summary for {}'.format(match_url))\n"
     ]
    },
    {
     "name": "stdout",
     "output_type": "stream",
     "text": [
      "Number of original events: 85\n",
      "Number of processed events: 0\n"
     ]
    },
    {
     "name": "stderr",
     "output_type": "stream",
     "text": [
      "/home/carlos/MasterDS/tfm/scripts/extractive_summary/key_events_summary.py:196: UserWarning: Could not perform summary for https://matchcenter.mlssoccer.com/matchcenter/2018-09-01-toronto-fc-vs-los-angeles-football-club/feed\n",
      "  warnings.warn('Could not perform summary for {}'.format(match_url))\n"
     ]
    },
    {
     "name": "stdout",
     "output_type": "stream",
     "text": [
      "Number of original events: 86\n",
      "Number of processed events: 1\n",
      "Number of sentences in original article: 17\n",
      "Number of sentences in summary: 1\n",
      "Number of original events: 88\n",
      "Number of processed events: 1\n",
      "Number of sentences in original article: 7\n",
      "Number of sentences in summary: 1\n",
      "Number of original events: 100\n",
      "Number of processed events: 0\n"
     ]
    },
    {
     "name": "stderr",
     "output_type": "stream",
     "text": [
      "/home/carlos/MasterDS/tfm/scripts/extractive_summary/key_events.py:109: UserWarning: Could not perform tfidf\n",
      "  if len(summary_events) == 0 or len(processed_article_sentences) == 0:\n",
      "/home/carlos/MasterDS/tfm/scripts/extractive_summary/key_events_summary.py:196: UserWarning: Could not perform summary for https://matchcenter.mlssoccer.com/matchcenter/2018-05-06-orlando-city-sc-vs-real-salt-lake/feed\n",
      "  warnings.warn('Could not perform summary for {}'.format(match_url))\n"
     ]
    },
    {
     "name": "stdout",
     "output_type": "stream",
     "text": [
      "Number of original events: 94\n",
      "Number of processed events: 0\n"
     ]
    },
    {
     "name": "stderr",
     "output_type": "stream",
     "text": [
      "/home/carlos/MasterDS/tfm/scripts/extractive_summary/key_events_summary.py:196: UserWarning: Could not perform summary for https://matchcenter.mlssoccer.com/matchcenter/2018-10-28-sporting-kansas-city-vs-los-angeles-football-club/feed\n",
      "  warnings.warn('Could not perform summary for {}'.format(match_url))\n"
     ]
    },
    {
     "name": "stdout",
     "output_type": "stream",
     "text": [
      "Number of original events: 119\n",
      "Number of processed events: 0\n"
     ]
    },
    {
     "name": "stderr",
     "output_type": "stream",
     "text": [
      "/home/carlos/MasterDS/tfm/scripts/extractive_summary/key_events_summary.py:196: UserWarning: Could not perform summary for https://matchcenter.mlssoccer.com/matchcenter/2018-09-26-houston-dynamo-vs-philadelphia-union/feed\n",
      "  warnings.warn('Could not perform summary for {}'.format(match_url))\n"
     ]
    },
    {
     "name": "stdout",
     "output_type": "stream",
     "text": [
      "Number of original events: 72\n",
      "Number of processed events: 0\n"
     ]
    },
    {
     "name": "stderr",
     "output_type": "stream",
     "text": [
      "/home/carlos/MasterDS/tfm/scripts/extractive_summary/key_events_summary.py:196: UserWarning: Could not perform summary for https://matchcenter.mlssoccer.com/matchcenter/2018-05-05-seattle-sounders-fc-vs-columbus-crew-sc/feed\n",
      "  warnings.warn('Could not perform summary for {}'.format(match_url))\n"
     ]
    },
    {
     "name": "stdout",
     "output_type": "stream",
     "text": [
      "Number of original events: 106\n",
      "Number of processed events: 0\n"
     ]
    },
    {
     "name": "stderr",
     "output_type": "stream",
     "text": [
      "/home/carlos/MasterDS/tfm/scripts/extractive_summary/key_events_summary.py:196: UserWarning: Could not perform summary for https://matchcenter.mlssoccer.com/matchcenter/2018-05-11-vancouver-whitecaps-fc-vs-houston-dynamo/feed\n",
      "  warnings.warn('Could not perform summary for {}'.format(match_url))\n"
     ]
    },
    {
     "name": "stdout",
     "output_type": "stream",
     "text": [
      "Number of original events: 112\n",
      "Number of processed events: 1\n",
      "Number of sentences in original article: 6\n",
      "Number of sentences in summary: 1\n",
      "Number of original events: 89\n",
      "Number of processed events: 0\n"
     ]
    },
    {
     "name": "stderr",
     "output_type": "stream",
     "text": [
      "/home/carlos/MasterDS/tfm/scripts/extractive_summary/key_events.py:109: UserWarning: Could not perform tfidf\n",
      "  if len(summary_events) == 0 or len(processed_article_sentences) == 0:\n",
      "/home/carlos/MasterDS/tfm/scripts/extractive_summary/key_events_summary.py:196: UserWarning: Could not perform summary for https://matchcenter.mlssoccer.com/matchcenter/2018-05-30-real-salt-lake-vs-houston-dynamo/feed\n",
      "  warnings.warn('Could not perform summary for {}'.format(match_url))\n"
     ]
    },
    {
     "name": "stdout",
     "output_type": "stream",
     "text": [
      "Number of original events: 87\n",
      "Number of processed events: 0\n"
     ]
    },
    {
     "name": "stderr",
     "output_type": "stream",
     "text": [
      "/home/carlos/MasterDS/tfm/scripts/extractive_summary/key_events_summary.py:196: UserWarning: Could not perform summary for https://matchcenter.mlssoccer.com/matchcenter/2018-08-04-fc-dallas-vs-san-jose-earthquakes/feed\n",
      "  warnings.warn('Could not perform summary for {}'.format(match_url))\n"
     ]
    },
    {
     "name": "stdout",
     "output_type": "stream",
     "text": [
      "Number of original events: 81\n",
      "Number of processed events: 0\n"
     ]
    },
    {
     "name": "stderr",
     "output_type": "stream",
     "text": [
      "/home/carlos/MasterDS/tfm/scripts/extractive_summary/key_events_summary.py:196: UserWarning: Could not perform summary for https://matchcenter.mlssoccer.com/matchcenter/2018-05-05-new-york-red-bulls-vs-new-york-city-fc/feed\n",
      "  warnings.warn('Could not perform summary for {}'.format(match_url))\n"
     ]
    },
    {
     "name": "stdout",
     "output_type": "stream",
     "text": [
      "Number of original events: 103\n",
      "Number of processed events: 0\n"
     ]
    },
    {
     "name": "stderr",
     "output_type": "stream",
     "text": [
      "/home/carlos/MasterDS/tfm/scripts/extractive_summary/key_events_summary.py:196: UserWarning: Could not perform summary for https://matchcenter.mlssoccer.com/matchcenter/2018-04-29-los-angeles-football-club-vs-seattle-sounders-fc/feed\n",
      "  warnings.warn('Could not perform summary for {}'.format(match_url))\n"
     ]
    },
    {
     "name": "stdout",
     "output_type": "stream",
     "text": [
      "Number of original events: 85\n",
      "Number of processed events: 0\n"
     ]
    },
    {
     "name": "stderr",
     "output_type": "stream",
     "text": [
      "/home/carlos/MasterDS/tfm/scripts/extractive_summary/key_events_summary.py:196: UserWarning: Could not perform summary for https://matchcenter.mlssoccer.com/matchcenter/2018-06-09-columbus-crew-sc-vs-new-york-red-bulls/feed\n",
      "  warnings.warn('Could not perform summary for {}'.format(match_url))\n"
     ]
    },
    {
     "name": "stdout",
     "output_type": "stream",
     "text": [
      "Number of original events: 101\n",
      "Number of processed events: 0\n"
     ]
    },
    {
     "name": "stderr",
     "output_type": "stream",
     "text": [
      "/home/carlos/MasterDS/tfm/scripts/extractive_summary/key_events_summary.py:196: UserWarning: Could not perform summary for https://matchcenter.mlssoccer.com/matchcenter/2018-05-12-new-england-revolution-vs-toronto-fc/feed\n",
      "  warnings.warn('Could not perform summary for {}'.format(match_url))\n"
     ]
    },
    {
     "name": "stdout",
     "output_type": "stream",
     "text": [
      "Number of original events: 104\n",
      "Number of processed events: 0\n"
     ]
    },
    {
     "name": "stderr",
     "output_type": "stream",
     "text": [
      "/home/carlos/MasterDS/tfm/scripts/extractive_summary/key_events_summary.py:196: UserWarning: Could not perform summary for https://matchcenter.mlssoccer.com/matchcenter/2018-07-08-new-york-city-fc-vs-new-york-red-bulls/feed\n",
      "  warnings.warn('Could not perform summary for {}'.format(match_url))\n"
     ]
    },
    {
     "name": "stdout",
     "output_type": "stream",
     "text": [
      "Number of original events: 97\n",
      "Number of processed events: 1\n",
      "Number of sentences in original article: 6\n",
      "Number of sentences in summary: 1\n",
      "Number of original events: 89\n",
      "Number of processed events: 0\n"
     ]
    },
    {
     "name": "stderr",
     "output_type": "stream",
     "text": [
      "/home/carlos/MasterDS/tfm/scripts/extractive_summary/key_events.py:109: UserWarning: Could not perform tfidf\n",
      "  if len(summary_events) == 0 or len(processed_article_sentences) == 0:\n",
      "/home/carlos/MasterDS/tfm/scripts/extractive_summary/key_events_summary.py:196: UserWarning: Could not perform summary for https://matchcenter.mlssoccer.com/matchcenter/2018-04-22-portland-timbers-vs-new-york-city-fc/feed\n",
      "  warnings.warn('Could not perform summary for {}'.format(match_url))\n"
     ]
    },
    {
     "name": "stdout",
     "output_type": "stream",
     "text": [
      "Number of original events: 114\n",
      "Number of processed events: 0\n"
     ]
    },
    {
     "name": "stderr",
     "output_type": "stream",
     "text": [
      "/home/carlos/MasterDS/tfm/scripts/extractive_summary/key_events_summary.py:196: UserWarning: Could not perform summary for https://matchcenter.mlssoccer.com/matchcenter/2018-03-10-orlando-city-sc-vs-minnesota-united-fc/feed\n",
      "  warnings.warn('Could not perform summary for {}'.format(match_url))\n"
     ]
    },
    {
     "name": "stdout",
     "output_type": "stream",
     "text": [
      "Number of original events: 80\n",
      "Number of processed events: 0\n"
     ]
    },
    {
     "name": "stderr",
     "output_type": "stream",
     "text": [
      "/home/carlos/MasterDS/tfm/scripts/extractive_summary/key_events_summary.py:196: UserWarning: Could not perform summary for https://matchcenter.mlssoccer.com/matchcenter/2018-03-24-canada-vs-new-zealand/feed\n",
      "  warnings.warn('Could not perform summary for {}'.format(match_url))\n"
     ]
    },
    {
     "name": "stdout",
     "output_type": "stream",
     "text": [
      "Number of original events: 77\n",
      "Number of processed events: 0\n"
     ]
    },
    {
     "name": "stderr",
     "output_type": "stream",
     "text": [
      "/home/carlos/MasterDS/tfm/scripts/extractive_summary/key_events_summary.py:196: UserWarning: Could not perform summary for https://matchcenter.mlssoccer.com/matchcenter/2018-05-09-toronto-fc-vs-seattle-sounders-fc/feed\n",
      "  warnings.warn('Could not perform summary for {}'.format(match_url))\n"
     ]
    },
    {
     "name": "stdout",
     "output_type": "stream",
     "text": [
      "Number of original events: 84\n",
      "Number of processed events: 1\n",
      "Number of sentences in original article: 7\n",
      "Number of sentences in summary: 1\n",
      "Number of original events: 90\n",
      "Number of processed events: 0\n"
     ]
    },
    {
     "name": "stderr",
     "output_type": "stream",
     "text": [
      "/home/carlos/MasterDS/tfm/scripts/extractive_summary/key_events.py:109: UserWarning: Could not perform tfidf\n",
      "  if len(summary_events) == 0 or len(processed_article_sentences) == 0:\n",
      "/home/carlos/MasterDS/tfm/scripts/extractive_summary/key_events_summary.py:196: UserWarning: Could not perform summary for https://matchcenter.mlssoccer.com/matchcenter/2018-05-25-la-galaxy-vs-san-jose-earthquakes/feed\n",
      "  warnings.warn('Could not perform summary for {}'.format(match_url))\n"
     ]
    },
    {
     "name": "stdout",
     "output_type": "stream",
     "text": [
      "Number of original events: 106\n",
      "Number of processed events: 0\n"
     ]
    },
    {
     "name": "stderr",
     "output_type": "stream",
     "text": [
      "/home/carlos/MasterDS/tfm/scripts/extractive_summary/key_events_summary.py:196: UserWarning: Could not perform summary for https://matchcenter.mlssoccer.com/matchcenter/2018-06-13-new-york-red-bulls-vs-seattle-sounders-fc/feed\n",
      "  warnings.warn('Could not perform summary for {}'.format(match_url))\n"
     ]
    },
    {
     "name": "stdout",
     "output_type": "stream",
     "text": [
      "Number of original events: 79\n",
      "Number of processed events: 0\n"
     ]
    },
    {
     "name": "stderr",
     "output_type": "stream",
     "text": [
      "/home/carlos/MasterDS/tfm/scripts/extractive_summary/key_events_summary.py:196: UserWarning: Could not perform summary for https://matchcenter.mlssoccer.com/matchcenter/2018-07-18-philadelphia-union-vs-orlando-city-sc/feed\n",
      "  warnings.warn('Could not perform summary for {}'.format(match_url))\n"
     ]
    },
    {
     "name": "stdout",
     "output_type": "stream",
     "text": [
      "Number of original events: 96\n",
      "Number of processed events: 1\n",
      "Number of sentences in original article: 8\n",
      "Number of sentences in summary: 1\n",
      "Number of original events: 102\n",
      "Number of processed events: 0\n"
     ]
    },
    {
     "name": "stderr",
     "output_type": "stream",
     "text": [
      "/home/carlos/MasterDS/tfm/scripts/extractive_summary/key_events.py:109: UserWarning: Could not perform tfidf\n",
      "  if len(summary_events) == 0 or len(processed_article_sentences) == 0:\n",
      "/home/carlos/MasterDS/tfm/scripts/extractive_summary/key_events_summary.py:196: UserWarning: Could not perform summary for https://matchcenter.mlssoccer.com/matchcenter/2018-07-04-la-galaxy-vs-dc-united/feed\n",
      "  warnings.warn('Could not perform summary for {}'.format(match_url))\n"
     ]
    },
    {
     "name": "stdout",
     "output_type": "stream",
     "text": [
      "Number of original events: 83\n",
      "Number of processed events: 0\n"
     ]
    },
    {
     "name": "stderr",
     "output_type": "stream",
     "text": [
      "/home/carlos/MasterDS/tfm/scripts/extractive_summary/key_events_summary.py:196: UserWarning: Could not perform summary for https://matchcenter.mlssoccer.com/matchcenter/2018-10-17-orlando-city-sc-vs-seattle-sounders-fc/feed\n",
      "  warnings.warn('Could not perform summary for {}'.format(match_url))\n"
     ]
    },
    {
     "name": "stdout",
     "output_type": "stream",
     "text": [
      "Number of original events: 79\n",
      "Number of processed events: 0\n"
     ]
    },
    {
     "name": "stderr",
     "output_type": "stream",
     "text": [
      "/home/carlos/MasterDS/tfm/scripts/extractive_summary/key_events_summary.py:196: UserWarning: Could not perform summary for https://matchcenter.mlssoccer.com/matchcenter/2018-08-14-la-galaxy-vs-colorado-rapids/feed\n",
      "  warnings.warn('Could not perform summary for {}'.format(match_url))\n"
     ]
    },
    {
     "name": "stdout",
     "output_type": "stream",
     "text": [
      "Number of original events: 80\n",
      "Number of processed events: 0\n"
     ]
    },
    {
     "name": "stderr",
     "output_type": "stream",
     "text": [
      "/home/carlos/MasterDS/tfm/scripts/extractive_summary/key_events_summary.py:196: UserWarning: Could not perform summary for https://matchcenter.mlssoccer.com/matchcenter/2018-05-09-columbus-crew-sc-vs-philadelphia-union/feed\n",
      "  warnings.warn('Could not perform summary for {}'.format(match_url))\n"
     ]
    },
    {
     "name": "stdout",
     "output_type": "stream",
     "text": [
      "Number of original events: 108\n",
      "Number of processed events: 0\n"
     ]
    },
    {
     "name": "stderr",
     "output_type": "stream",
     "text": [
      "/home/carlos/MasterDS/tfm/scripts/extractive_summary/key_events_summary.py:196: UserWarning: Could not perform summary for https://matchcenter.mlssoccer.com/matchcenter/2018-07-18-minnesota-united-fc-vs-new-england-revolution/feed\n",
      "  warnings.warn('Could not perform summary for {}'.format(match_url))\n"
     ]
    },
    {
     "name": "stdout",
     "output_type": "stream",
     "text": [
      "Number of original events: 99\n",
      "Number of processed events: 0\n"
     ]
    },
    {
     "name": "stderr",
     "output_type": "stream",
     "text": [
      "/home/carlos/MasterDS/tfm/scripts/extractive_summary/key_events_summary.py:196: UserWarning: Could not perform summary for https://matchcenter.mlssoccer.com/matchcenter/2018-08-26-portland-timbers-vs-seattle-sounders-fc/feed\n",
      "  warnings.warn('Could not perform summary for {}'.format(match_url))\n"
     ]
    },
    {
     "name": "stdout",
     "output_type": "stream",
     "text": [
      "Number of original events: 100\n",
      "Number of processed events: 0\n"
     ]
    },
    {
     "name": "stderr",
     "output_type": "stream",
     "text": [
      "/home/carlos/MasterDS/tfm/scripts/extractive_summary/key_events_summary.py:196: UserWarning: Could not perform summary for https://matchcenter.mlssoccer.com/matchcenter/2018-10-21-los-angeles-football-club-vs-vancouver-whitecaps-fc/feed\n",
      "  warnings.warn('Could not perform summary for {}'.format(match_url))\n"
     ]
    },
    {
     "name": "stdout",
     "output_type": "stream",
     "text": [
      "Number of original events: 93\n",
      "Number of processed events: 0\n"
     ]
    },
    {
     "name": "stderr",
     "output_type": "stream",
     "text": [
      "/home/carlos/MasterDS/tfm/scripts/extractive_summary/key_events_summary.py:196: UserWarning: Could not perform summary for https://matchcenter.mlssoccer.com/matchcenter/2018-04-21-columbus-crew-sc-vs-new-england-revolution/feed\n",
      "  warnings.warn('Could not perform summary for {}'.format(match_url))\n"
     ]
    },
    {
     "name": "stdout",
     "output_type": "stream",
     "text": [
      "Number of original events: 78\n",
      "Number of processed events: 0\n"
     ]
    },
    {
     "name": "stderr",
     "output_type": "stream",
     "text": [
      "/home/carlos/MasterDS/tfm/scripts/extractive_summary/key_events_summary.py:196: UserWarning: Could not perform summary for https://matchcenter.mlssoccer.com/matchcenter/2018-07-07-real-salt-lake-vs-fc-dallas/feed\n",
      "  warnings.warn('Could not perform summary for {}'.format(match_url))\n"
     ]
    },
    {
     "name": "stdout",
     "output_type": "stream",
     "text": [
      "Number of original events: 79\n",
      "Number of processed events: 0\n"
     ]
    },
    {
     "name": "stderr",
     "output_type": "stream",
     "text": [
      "/home/carlos/MasterDS/tfm/scripts/extractive_summary/key_events_summary.py:196: UserWarning: Could not perform summary for https://matchcenter.mlssoccer.com/matchcenter/2018-05-20-chicago-fire-vs-houston-dynamo/feed\n",
      "  warnings.warn('Could not perform summary for {}'.format(match_url))\n"
     ]
    },
    {
     "name": "stdout",
     "output_type": "stream",
     "text": [
      "Number of original events: 89\n",
      "Number of processed events: 0\n"
     ]
    },
    {
     "name": "stderr",
     "output_type": "stream",
     "text": [
      "/home/carlos/MasterDS/tfm/scripts/extractive_summary/key_events_summary.py:196: UserWarning: Could not perform summary for https://matchcenter.mlssoccer.com/matchcenter/2018-09-22-columbus-crew-sc-vs-colorado-rapids/feed\n",
      "  warnings.warn('Could not perform summary for {}'.format(match_url))\n"
     ]
    },
    {
     "name": "stdout",
     "output_type": "stream",
     "text": [
      "Number of original events: 84\n",
      "Number of processed events: 0\n"
     ]
    },
    {
     "name": "stderr",
     "output_type": "stream",
     "text": [
      "/home/carlos/MasterDS/tfm/scripts/extractive_summary/key_events_summary.py:196: UserWarning: Could not perform summary for https://matchcenter.mlssoccer.com/matchcenter/2018-09-29-portland-timbers-vs-fc-dallas/feed\n",
      "  warnings.warn('Could not perform summary for {}'.format(match_url))\n"
     ]
    },
    {
     "name": "stdout",
     "output_type": "stream",
     "text": [
      "Number of original events: 86\n",
      "Number of processed events: 0\n"
     ]
    },
    {
     "name": "stderr",
     "output_type": "stream",
     "text": [
      "/home/carlos/MasterDS/tfm/scripts/extractive_summary/key_events_summary.py:196: UserWarning: Could not perform summary for https://matchcenter.mlssoccer.com/matchcenter/2018-08-11-columbus-crew-sc-vs-houston-dynamo/feed\n",
      "  warnings.warn('Could not perform summary for {}'.format(match_url))\n"
     ]
    },
    {
     "name": "stdout",
     "output_type": "stream",
     "text": [
      "Number of original events: 106\n",
      "Number of processed events: 0\n"
     ]
    },
    {
     "name": "stderr",
     "output_type": "stream",
     "text": [
      "/home/carlos/MasterDS/tfm/scripts/extractive_summary/key_events_summary.py:196: UserWarning: Could not perform summary for https://matchcenter.mlssoccer.com/matchcenter/2018-07-03-houston-dynamo-vs-los-angeles-football-club/feed\n",
      "  warnings.warn('Could not perform summary for {}'.format(match_url))\n"
     ]
    },
    {
     "name": "stdout",
     "output_type": "stream",
     "text": [
      "Number of original events: 92\n",
      "Number of processed events: 0\n"
     ]
    },
    {
     "name": "stderr",
     "output_type": "stream",
     "text": [
      "/home/carlos/MasterDS/tfm/scripts/extractive_summary/key_events_summary.py:196: UserWarning: Could not perform summary for https://matchcenter.mlssoccer.com/matchcenter/2018-03-17-new-york-city-fc-vs-orlando-city-sc/feed\n",
      "  warnings.warn('Could not perform summary for {}'.format(match_url))\n"
     ]
    },
    {
     "name": "stdout",
     "output_type": "stream",
     "text": [
      "Number of original events: 112\n",
      "Number of processed events: 0\n"
     ]
    },
    {
     "name": "stderr",
     "output_type": "stream",
     "text": [
      "/home/carlos/MasterDS/tfm/scripts/extractive_summary/key_events_summary.py:196: UserWarning: Could not perform summary for https://matchcenter.mlssoccer.com/matchcenter/2018-10-21-dc-united-vs-new-york-city-fc/feed\n",
      "  warnings.warn('Could not perform summary for {}'.format(match_url))\n"
     ]
    },
    {
     "name": "stdout",
     "output_type": "stream",
     "text": [
      "Number of original events: 96\n",
      "Number of processed events: 0\n"
     ]
    },
    {
     "name": "stderr",
     "output_type": "stream",
     "text": [
      "/home/carlos/MasterDS/tfm/scripts/extractive_summary/key_events_summary.py:196: UserWarning: Could not perform summary for https://matchcenter.mlssoccer.com/matchcenter/2018-10-28-seattle-sounders-fc-vs-san-jose-earthquakes/feed\n",
      "  warnings.warn('Could not perform summary for {}'.format(match_url))\n"
     ]
    },
    {
     "name": "stdout",
     "output_type": "stream",
     "text": [
      "Number of original events: 97\n",
      "Number of processed events: 0\n"
     ]
    },
    {
     "name": "stderr",
     "output_type": "stream",
     "text": [
      "/home/carlos/MasterDS/tfm/scripts/extractive_summary/key_events_summary.py:196: UserWarning: Could not perform summary for https://matchcenter.mlssoccer.com/matchcenter/2018-03-31-houston-dynamo-vs-new-england-revolution/feed\n",
      "  warnings.warn('Could not perform summary for {}'.format(match_url))\n"
     ]
    },
    {
     "name": "stdout",
     "output_type": "stream",
     "text": [
      "Number of original events: 96\n",
      "Number of processed events: 0\n"
     ]
    },
    {
     "name": "stderr",
     "output_type": "stream",
     "text": [
      "/home/carlos/MasterDS/tfm/scripts/extractive_summary/key_events_summary.py:196: UserWarning: Could not perform summary for https://matchcenter.mlssoccer.com/matchcenter/2018-06-09-seattle-sounders-fc-vs-dc-united/feed\n",
      "  warnings.warn('Could not perform summary for {}'.format(match_url))\n"
     ]
    },
    {
     "name": "stdout",
     "output_type": "stream",
     "text": [
      "Number of original events: 90\n",
      "Number of processed events: 0\n"
     ]
    },
    {
     "name": "stderr",
     "output_type": "stream",
     "text": [
      "/home/carlos/MasterDS/tfm/scripts/extractive_summary/key_events_summary.py:196: UserWarning: Could not perform summary for https://matchcenter.mlssoccer.com/matchcenter/2018-10-21-orlando-city-sc-vs-columbus-crew-sc/feed\n",
      "  warnings.warn('Could not perform summary for {}'.format(match_url))\n"
     ]
    },
    {
     "name": "stdout",
     "output_type": "stream",
     "text": [
      "Number of original events: 76\n",
      "Number of processed events: 0\n"
     ]
    },
    {
     "name": "stderr",
     "output_type": "stream",
     "text": [
      "/home/carlos/MasterDS/tfm/scripts/extractive_summary/key_events_summary.py:196: UserWarning: Could not perform summary for https://matchcenter.mlssoccer.com/matchcenter/2018-07-07-montreal-impact-vs-colorado-rapids/feed\n",
      "  warnings.warn('Could not perform summary for {}'.format(match_url))\n"
     ]
    },
    {
     "name": "stdout",
     "output_type": "stream",
     "text": [
      "Number of original events: 108\n",
      "Number of processed events: 0\n"
     ]
    },
    {
     "name": "stderr",
     "output_type": "stream",
     "text": [
      "/home/carlos/MasterDS/tfm/scripts/extractive_summary/key_events_summary.py:196: UserWarning: Could not perform summary for https://matchcenter.mlssoccer.com/matchcenter/2018-05-05-montreal-impact-vs-new-england-revolution/feed\n",
      "  warnings.warn('Could not perform summary for {}'.format(match_url))\n"
     ]
    },
    {
     "name": "stdout",
     "output_type": "stream",
     "text": [
      "Number of original events: 78\n",
      "Number of processed events: 0\n"
     ]
    },
    {
     "name": "stderr",
     "output_type": "stream",
     "text": [
      "/home/carlos/MasterDS/tfm/scripts/extractive_summary/key_events_summary.py:196: UserWarning: Could not perform summary for https://matchcenter.mlssoccer.com/matchcenter/2018-12-08-atlanta-united-fc-vs-portland-timbers/feed\n",
      "  warnings.warn('Could not perform summary for {}'.format(match_url))\n"
     ]
    },
    {
     "name": "stdout",
     "output_type": "stream",
     "text": [
      "Number of original events: 83\n",
      "Number of processed events: 0\n"
     ]
    },
    {
     "name": "stderr",
     "output_type": "stream",
     "text": [
      "/home/carlos/MasterDS/tfm/scripts/extractive_summary/key_events_summary.py:196: UserWarning: Could not perform summary for https://matchcenter.mlssoccer.com/matchcenter/2018-07-07-new-england-revolution-vs-seattle-sounders-fc/feed\n",
      "  warnings.warn('Could not perform summary for {}'.format(match_url))\n"
     ]
    },
    {
     "name": "stdout",
     "output_type": "stream",
     "text": [
      "Number of original events: 80\n",
      "Number of processed events: 2\n",
      "Number of sentences in original article: 11\n",
      "Number of sentences in summary: 1\n",
      "Number of original events: 87\n",
      "Number of processed events: 0\n"
     ]
    },
    {
     "name": "stderr",
     "output_type": "stream",
     "text": [
      "/home/carlos/MasterDS/tfm/scripts/extractive_summary/key_events.py:109: UserWarning: Could not perform tfidf\n",
      "  if len(summary_events) == 0 or len(processed_article_sentences) == 0:\n",
      "/home/carlos/MasterDS/tfm/scripts/extractive_summary/key_events_summary.py:196: UserWarning: Could not perform summary for https://matchcenter.mlssoccer.com/matchcenter/2018-06-23-philadelphia-union-vs-vancouver-whitecaps-fc/feed\n",
      "  warnings.warn('Could not perform summary for {}'.format(match_url))\n"
     ]
    },
    {
     "name": "stdout",
     "output_type": "stream",
     "text": [
      "Number of original events: 79\n",
      "Number of processed events: 0\n"
     ]
    },
    {
     "name": "stderr",
     "output_type": "stream",
     "text": [
      "/home/carlos/MasterDS/tfm/scripts/extractive_summary/key_events_summary.py:196: UserWarning: Could not perform summary for https://matchcenter.mlssoccer.com/matchcenter/2018-08-18-sporting-kansas-city-vs-portland-timbers/feed\n",
      "  warnings.warn('Could not perform summary for {}'.format(match_url))\n"
     ]
    },
    {
     "name": "stdout",
     "output_type": "stream",
     "text": [
      "Number of original events: 97\n",
      "Number of processed events: 0\n"
     ]
    },
    {
     "name": "stderr",
     "output_type": "stream",
     "text": [
      "/home/carlos/MasterDS/tfm/scripts/extractive_summary/key_events_summary.py:196: UserWarning: Could not perform summary for https://matchcenter.mlssoccer.com/matchcenter/2018-08-19-dc-united-vs-new-england-revolution/feed\n",
      "  warnings.warn('Could not perform summary for {}'.format(match_url))\n"
     ]
    },
    {
     "name": "stdout",
     "output_type": "stream",
     "text": [
      "Number of original events: 81\n",
      "Number of processed events: 0\n"
     ]
    },
    {
     "name": "stderr",
     "output_type": "stream",
     "text": [
      "/home/carlos/MasterDS/tfm/scripts/extractive_summary/key_events_summary.py:196: UserWarning: Could not perform summary for https://matchcenter.mlssoccer.com/matchcenter/2018-07-28-montreal-impact-vs-atlanta-united-fc/feed\n",
      "  warnings.warn('Could not perform summary for {}'.format(match_url))\n"
     ]
    },
    {
     "name": "stdout",
     "output_type": "stream",
     "text": [
      "Number of original events: 101\n",
      "Number of processed events: 0\n"
     ]
    },
    {
     "name": "stderr",
     "output_type": "stream",
     "text": [
      "/home/carlos/MasterDS/tfm/scripts/extractive_summary/key_events_summary.py:196: UserWarning: Could not perform summary for https://matchcenter.mlssoccer.com/matchcenter/2018-02-27-toronto-fc-vs-colorado-rapids/feed\n",
      "  warnings.warn('Could not perform summary for {}'.format(match_url))\n"
     ]
    },
    {
     "name": "stdout",
     "output_type": "stream",
     "text": [
      "Number of original events: 105\n",
      "Number of processed events: 0\n"
     ]
    },
    {
     "name": "stderr",
     "output_type": "stream",
     "text": [
      "/home/carlos/MasterDS/tfm/scripts/extractive_summary/key_events_summary.py:196: UserWarning: Could not perform summary for https://matchcenter.mlssoccer.com/matchcenter/2018-09-22-new-england-revolution-vs-chicago-fire/feed\n",
      "  warnings.warn('Could not perform summary for {}'.format(match_url))\n"
     ]
    },
    {
     "name": "stdout",
     "output_type": "stream",
     "text": [
      "Number of original events: 89\n",
      "Number of processed events: 1\n",
      "Number of sentences in original article: 12\n",
      "Number of sentences in summary: 1\n",
      "Number of original events: 111\n",
      "Number of processed events: 0\n"
     ]
    },
    {
     "name": "stderr",
     "output_type": "stream",
     "text": [
      "/home/carlos/MasterDS/tfm/scripts/extractive_summary/key_events.py:109: UserWarning: Could not perform tfidf\n",
      "  if len(summary_events) == 0 or len(processed_article_sentences) == 0:\n",
      "/home/carlos/MasterDS/tfm/scripts/extractive_summary/key_events_summary.py:196: UserWarning: Could not perform summary for https://matchcenter.mlssoccer.com/matchcenter/2018-07-28-portland-timbers-vs-houston-dynamo/feed\n",
      "  warnings.warn('Could not perform summary for {}'.format(match_url))\n"
     ]
    },
    {
     "name": "stdout",
     "output_type": "stream",
     "text": [
      "Number of original events: 128\n",
      "Number of processed events: 8\n",
      "Number of sentences in original article: 10\n",
      "Number of sentences in summary: 4\n",
      "Number of original events: 105\n",
      "Number of processed events: 1\n",
      "Number of sentences in original article: 15\n",
      "Number of sentences in summary: 1\n",
      "Number of original events: 74\n",
      "Number of processed events: 0\n"
     ]
    },
    {
     "name": "stderr",
     "output_type": "stream",
     "text": [
      "/home/carlos/MasterDS/tfm/scripts/extractive_summary/key_events.py:109: UserWarning: Could not perform tfidf\n",
      "  if len(summary_events) == 0 or len(processed_article_sentences) == 0:\n",
      "/home/carlos/MasterDS/tfm/scripts/extractive_summary/key_events_summary.py:196: UserWarning: Could not perform summary for https://matchcenter.mlssoccer.com/matchcenter/2018-08-15-dc-united-vs-portland-timbers/feed\n",
      "  warnings.warn('Could not perform summary for {}'.format(match_url))\n"
     ]
    },
    {
     "name": "stdout",
     "output_type": "stream",
     "text": [
      "Number of original events: 95\n",
      "Number of processed events: 0\n"
     ]
    },
    {
     "name": "stderr",
     "output_type": "stream",
     "text": [
      "/home/carlos/MasterDS/tfm/scripts/extractive_summary/key_events_summary.py:196: UserWarning: Could not perform summary for https://matchcenter.mlssoccer.com/matchcenter/2018-03-04-vancouver-whitecaps-fc-vs-montreal-impact/feed\n",
      "  warnings.warn('Could not perform summary for {}'.format(match_url))\n"
     ]
    },
    {
     "name": "stdout",
     "output_type": "stream",
     "text": [
      "Number of original events: 103\n",
      "Number of processed events: 0\n"
     ]
    },
    {
     "name": "stderr",
     "output_type": "stream",
     "text": [
      "/home/carlos/MasterDS/tfm/scripts/extractive_summary/key_events_summary.py:196: UserWarning: Could not perform summary for https://matchcenter.mlssoccer.com/matchcenter/2018-04-04-cd-guadalajara-vs-new-york-red-bulls/feed\n",
      "  warnings.warn('Could not perform summary for {}'.format(match_url))\n"
     ]
    },
    {
     "name": "stdout",
     "output_type": "stream",
     "text": [
      "Number of original events: 90\n",
      "Number of processed events: 0\n"
     ]
    },
    {
     "name": "stderr",
     "output_type": "stream",
     "text": [
      "/home/carlos/MasterDS/tfm/scripts/extractive_summary/key_events_summary.py:196: UserWarning: Could not perform summary for https://matchcenter.mlssoccer.com/matchcenter/2018-09-01-fc-dallas-vs-houston-dynamo/feed\n",
      "  warnings.warn('Could not perform summary for {}'.format(match_url))\n"
     ]
    },
    {
     "name": "stdout",
     "output_type": "stream",
     "text": [
      "Number of original events: 104\n",
      "Number of processed events: 0\n"
     ]
    },
    {
     "name": "stderr",
     "output_type": "stream",
     "text": [
      "/home/carlos/MasterDS/tfm/scripts/extractive_summary/key_events_summary.py:196: UserWarning: Could not perform summary for https://matchcenter.mlssoccer.com/matchcenter/2018-10-28-chicago-fire-vs-dc-united/feed\n",
      "  warnings.warn('Could not perform summary for {}'.format(match_url))\n"
     ]
    },
    {
     "name": "stdout",
     "output_type": "stream",
     "text": [
      "Number of original events: 94\n",
      "Number of processed events: 0\n"
     ]
    },
    {
     "name": "stderr",
     "output_type": "stream",
     "text": [
      "/home/carlos/MasterDS/tfm/scripts/extractive_summary/key_events_summary.py:196: UserWarning: Could not perform summary for https://matchcenter.mlssoccer.com/matchcenter/2018-04-14-new-england-revolution-vs-fc-dallas/feed\n",
      "  warnings.warn('Could not perform summary for {}'.format(match_url))\n"
     ]
    },
    {
     "name": "stdout",
     "output_type": "stream",
     "text": [
      "Number of original events: 107\n",
      "Number of processed events: 0\n"
     ]
    },
    {
     "name": "stderr",
     "output_type": "stream",
     "text": [
      "/home/carlos/MasterDS/tfm/scripts/extractive_summary/key_events_summary.py:196: UserWarning: Could not perform summary for https://matchcenter.mlssoccer.com/matchcenter/2018-05-30-new-england-revolution-vs-atlanta-united-fc/feed\n",
      "  warnings.warn('Could not perform summary for {}'.format(match_url))\n"
     ]
    },
    {
     "name": "stdout",
     "output_type": "stream",
     "text": [
      "Number of original events: 95\n",
      "Number of processed events: 1\n",
      "Number of sentences in original article: 7\n",
      "Number of sentences in summary: 1\n",
      "Number of original events: 98\n",
      "Number of processed events: 0\n"
     ]
    },
    {
     "name": "stderr",
     "output_type": "stream",
     "text": [
      "/home/carlos/MasterDS/tfm/scripts/extractive_summary/key_events.py:109: UserWarning: Could not perform tfidf\n",
      "  if len(summary_events) == 0 or len(processed_article_sentences) == 0:\n",
      "/home/carlos/MasterDS/tfm/scripts/extractive_summary/key_events_summary.py:196: UserWarning: Could not perform summary for https://matchcenter.mlssoccer.com/matchcenter/2018-06-23-seattle-sounders-fc-vs-chicago-fire/feed\n",
      "  warnings.warn('Could not perform summary for {}'.format(match_url))\n"
     ]
    },
    {
     "name": "stdout",
     "output_type": "stream",
     "text": [
      "Number of original events: 90\n",
      "Number of processed events: 0\n"
     ]
    },
    {
     "name": "stderr",
     "output_type": "stream",
     "text": [
      "/home/carlos/MasterDS/tfm/scripts/extractive_summary/key_events_summary.py:196: UserWarning: Could not perform summary for https://matchcenter.mlssoccer.com/matchcenter/2018-04-07-philadelphia-union-vs-san-jose-earthquakes/feed\n",
      "  warnings.warn('Could not perform summary for {}'.format(match_url))\n"
     ]
    },
    {
     "name": "stdout",
     "output_type": "stream",
     "text": [
      "Number of original events: 93\n",
      "Number of processed events: 0\n"
     ]
    },
    {
     "name": "stderr",
     "output_type": "stream",
     "text": [
      "/home/carlos/MasterDS/tfm/scripts/extractive_summary/key_events_summary.py:196: UserWarning: Could not perform summary for https://matchcenter.mlssoccer.com/matchcenter/2018-05-04-toronto-fc-vs-philadelphia-union/feed\n",
      "  warnings.warn('Could not perform summary for {}'.format(match_url))\n"
     ]
    },
    {
     "name": "stdout",
     "output_type": "stream",
     "text": [
      "Number of original events: 104\n",
      "Number of processed events: 0\n"
     ]
    },
    {
     "name": "stderr",
     "output_type": "stream",
     "text": [
      "/home/carlos/MasterDS/tfm/scripts/extractive_summary/key_events_summary.py:196: UserWarning: Could not perform summary for https://matchcenter.mlssoccer.com/matchcenter/2018-06-30-seattle-sounders-fc-vs-portland-timbers/feed\n",
      "  warnings.warn('Could not perform summary for {}'.format(match_url))\n"
     ]
    },
    {
     "name": "stdout",
     "output_type": "stream",
     "text": [
      "Number of original events: 101\n",
      "Number of processed events: 1\n",
      "Number of sentences in original article: 9\n",
      "Number of sentences in summary: 1\n",
      "Number of original events: 97\n",
      "Number of processed events: 0\n"
     ]
    },
    {
     "name": "stderr",
     "output_type": "stream",
     "text": [
      "/home/carlos/MasterDS/tfm/scripts/extractive_summary/key_events.py:109: UserWarning: Could not perform tfidf\n",
      "  if len(summary_events) == 0 or len(processed_article_sentences) == 0:\n",
      "/home/carlos/MasterDS/tfm/scripts/extractive_summary/key_events_summary.py:196: UserWarning: Could not perform summary for https://matchcenter.mlssoccer.com/matchcenter/2018-08-11-colorado-rapids-vs-san-jose-earthquakes/feed\n",
      "  warnings.warn('Could not perform summary for {}'.format(match_url))\n"
     ]
    },
    {
     "name": "stdout",
     "output_type": "stream",
     "text": [
      "Number of original events: 87\n",
      "Number of processed events: 0\n"
     ]
    },
    {
     "name": "stderr",
     "output_type": "stream",
     "text": [
      "/home/carlos/MasterDS/tfm/scripts/extractive_summary/key_events_summary.py:196: UserWarning: Could not perform summary for https://matchcenter.mlssoccer.com/matchcenter/2018-08-29-dc-united-vs-philadelphia-union/feed\n",
      "  warnings.warn('Could not perform summary for {}'.format(match_url))\n"
     ]
    },
    {
     "name": "stdout",
     "output_type": "stream",
     "text": [
      "Number of original events: 104\n",
      "Number of processed events: 0\n"
     ]
    },
    {
     "name": "stderr",
     "output_type": "stream",
     "text": [
      "/home/carlos/MasterDS/tfm/scripts/extractive_summary/key_events_summary.py:196: UserWarning: Could not perform summary for https://matchcenter.mlssoccer.com/matchcenter/2018-06-24-atlanta-united-fc-vs-portland-timbers/feed\n",
      "  warnings.warn('Could not perform summary for {}'.format(match_url))\n"
     ]
    },
    {
     "name": "stdout",
     "output_type": "stream",
     "text": [
      "Number of original events: 106\n",
      "Number of processed events: 0\n"
     ]
    },
    {
     "name": "stderr",
     "output_type": "stream",
     "text": [
      "/home/carlos/MasterDS/tfm/scripts/extractive_summary/key_events_summary.py:196: UserWarning: Could not perform summary for https://matchcenter.mlssoccer.com/matchcenter/2018-10-21-houston-dynamo-vs-seattle-sounders-fc/feed\n",
      "  warnings.warn('Could not perform summary for {}'.format(match_url))\n"
     ]
    },
    {
     "name": "stdout",
     "output_type": "stream",
     "text": [
      "Number of original events: 94\n",
      "Number of processed events: 0\n"
     ]
    },
    {
     "name": "stderr",
     "output_type": "stream",
     "text": [
      "/home/carlos/MasterDS/tfm/scripts/extractive_summary/key_events_summary.py:196: UserWarning: Could not perform summary for https://matchcenter.mlssoccer.com/matchcenter/2018-07-14-montreal-impact-vs-san-jose-earthquakes/feed\n",
      "  warnings.warn('Could not perform summary for {}'.format(match_url))\n"
     ]
    },
    {
     "name": "stdout",
     "output_type": "stream",
     "text": [
      "Number of original events: 85\n",
      "Number of processed events: 0\n"
     ]
    },
    {
     "name": "stderr",
     "output_type": "stream",
     "text": [
      "/home/carlos/MasterDS/tfm/scripts/extractive_summary/key_events_summary.py:196: UserWarning: Could not perform summary for https://matchcenter.mlssoccer.com/matchcenter/2018-03-03-toronto-fc-vs-columbus-crew-sc/feed\n",
      "  warnings.warn('Could not perform summary for {}'.format(match_url))\n"
     ]
    },
    {
     "name": "stdout",
     "output_type": "stream",
     "text": [
      "Number of original events: 87\n",
      "Number of processed events: 0\n"
     ]
    },
    {
     "name": "stderr",
     "output_type": "stream",
     "text": [
      "/home/carlos/MasterDS/tfm/scripts/extractive_summary/key_events_summary.py:196: UserWarning: Could not perform summary for https://matchcenter.mlssoccer.com/matchcenter/2018-08-18-montreal-impact-vs-chicago-fire/feed\n",
      "  warnings.warn('Could not perform summary for {}'.format(match_url))\n"
     ]
    },
    {
     "name": "stdout",
     "output_type": "stream",
     "text": [
      "Number of original events: 77\n",
      "Number of processed events: 0\n"
     ]
    },
    {
     "name": "stderr",
     "output_type": "stream",
     "text": [
      "/home/carlos/MasterDS/tfm/scripts/extractive_summary/key_events_summary.py:196: UserWarning: Could not perform summary for https://matchcenter.mlssoccer.com/matchcenter/2018-06-03-sporting-kansas-city-vs-minnesota-united-fc/feed\n",
      "  warnings.warn('Could not perform summary for {}'.format(match_url))\n"
     ]
    },
    {
     "name": "stdout",
     "output_type": "stream",
     "text": [
      "Number of original events: 90\n",
      "Number of processed events: 0\n"
     ]
    },
    {
     "name": "stderr",
     "output_type": "stream",
     "text": [
      "/home/carlos/MasterDS/tfm/scripts/extractive_summary/key_events_summary.py:196: UserWarning: Could not perform summary for https://matchcenter.mlssoccer.com/matchcenter/2018-03-17-minnesota-united-fc-vs-chicago-fire/feed\n",
      "  warnings.warn('Could not perform summary for {}'.format(match_url))\n"
     ]
    },
    {
     "name": "stdout",
     "output_type": "stream",
     "text": [
      "Number of original events: 95\n",
      "Number of processed events: 2\n",
      "Number of sentences in original article: 12\n",
      "Number of sentences in summary: 1\n",
      "Number of original events: 92\n",
      "Number of processed events: 0\n"
     ]
    },
    {
     "name": "stderr",
     "output_type": "stream",
     "text": [
      "/home/carlos/MasterDS/tfm/scripts/extractive_summary/key_events.py:109: UserWarning: Could not perform tfidf\n",
      "  if len(summary_events) == 0 or len(processed_article_sentences) == 0:\n",
      "/home/carlos/MasterDS/tfm/scripts/extractive_summary/key_events_summary.py:196: UserWarning: Could not perform summary for https://matchcenter.mlssoccer.com/matchcenter/2018-04-07-real-salt-lake-vs-vancouver-whitecaps-fc/feed\n",
      "  warnings.warn('Could not perform summary for {}'.format(match_url))\n"
     ]
    },
    {
     "name": "stdout",
     "output_type": "stream",
     "text": [
      "Number of original events: 98\n",
      "Number of processed events: 0\n"
     ]
    },
    {
     "name": "stderr",
     "output_type": "stream",
     "text": [
      "/home/carlos/MasterDS/tfm/scripts/extractive_summary/key_events_summary.py:196: UserWarning: Could not perform summary for https://matchcenter.mlssoccer.com/matchcenter/2018-08-26-new-york-red-bulls-vs-dc-united/feed\n",
      "  warnings.warn('Could not perform summary for {}'.format(match_url))\n"
     ]
    },
    {
     "name": "stdout",
     "output_type": "stream",
     "text": [
      "Number of original events: 113\n",
      "Number of processed events: 0\n"
     ]
    },
    {
     "name": "stderr",
     "output_type": "stream",
     "text": [
      "/home/carlos/MasterDS/tfm/scripts/extractive_summary/key_events_summary.py:196: UserWarning: Could not perform summary for https://matchcenter.mlssoccer.com/matchcenter/2018-11-20-italy-vs-us-mens-national-team/feed\n",
      "  warnings.warn('Could not perform summary for {}'.format(match_url))\n"
     ]
    },
    {
     "name": "stdout",
     "output_type": "stream",
     "text": [
      "Number of original events: 107\n",
      "Number of processed events: 0\n"
     ]
    },
    {
     "name": "stderr",
     "output_type": "stream",
     "text": [
      "/home/carlos/MasterDS/tfm/scripts/extractive_summary/key_events_summary.py:196: UserWarning: Could not perform summary for https://matchcenter.mlssoccer.com/matchcenter/2018-03-11-new-york-city-fc-vs-la-galaxy/feed\n",
      "  warnings.warn('Could not perform summary for {}'.format(match_url))\n"
     ]
    },
    {
     "name": "stdout",
     "output_type": "stream",
     "text": [
      "Number of original events: 83\n",
      "Number of processed events: 0\n"
     ]
    },
    {
     "name": "stderr",
     "output_type": "stream",
     "text": [
      "/home/carlos/MasterDS/tfm/scripts/extractive_summary/key_events_summary.py:196: UserWarning: Could not perform summary for https://matchcenter.mlssoccer.com/matchcenter/2018-10-28-vancouver-whitecaps-fc-vs-portland-timbers/feed\n",
      "  warnings.warn('Could not perform summary for {}'.format(match_url))\n"
     ]
    },
    {
     "name": "stdout",
     "output_type": "stream",
     "text": [
      "Number of original events: 89\n",
      "Number of processed events: 1\n",
      "Number of sentences in original article: 6\n",
      "Number of sentences in summary: 1\n",
      "Number of original events: 96\n",
      "Number of processed events: 0\n"
     ]
    },
    {
     "name": "stderr",
     "output_type": "stream",
     "text": [
      "/home/carlos/MasterDS/tfm/scripts/extractive_summary/key_events.py:109: UserWarning: Could not perform tfidf\n",
      "  if len(summary_events) == 0 or len(processed_article_sentences) == 0:\n",
      "/home/carlos/MasterDS/tfm/scripts/extractive_summary/key_events_summary.py:196: UserWarning: Could not perform summary for https://matchcenter.mlssoccer.com/matchcenter/2018-03-03-orlando-city-sc-vs-dc-united/feed\n",
      "  warnings.warn('Could not perform summary for {}'.format(match_url))\n"
     ]
    },
    {
     "name": "stdout",
     "output_type": "stream",
     "text": [
      "Number of original events: 117\n",
      "Number of processed events: 1\n",
      "Number of sentences in original article: 9\n",
      "Number of sentences in summary: 1\n",
      "Number of original events: 97\n",
      "Number of processed events: 0\n"
     ]
    },
    {
     "name": "stderr",
     "output_type": "stream",
     "text": [
      "/home/carlos/MasterDS/tfm/scripts/extractive_summary/key_events.py:109: UserWarning: Could not perform tfidf\n",
      "  if len(summary_events) == 0 or len(processed_article_sentences) == 0:\n",
      "/home/carlos/MasterDS/tfm/scripts/extractive_summary/key_events_summary.py:196: UserWarning: Could not perform summary for https://matchcenter.mlssoccer.com/matchcenter/2018-09-01-orlando-city-sc-vs-philadelphia-union/feed\n",
      "  warnings.warn('Could not perform summary for {}'.format(match_url))\n"
     ]
    },
    {
     "name": "stdout",
     "output_type": "stream",
     "text": [
      "Number of original events: 100\n",
      "Number of processed events: 1\n",
      "Number of sentences in original article: 10\n",
      "Number of sentences in summary: 1\n",
      "Number of original events: 106\n",
      "Number of processed events: 0\n"
     ]
    },
    {
     "name": "stderr",
     "output_type": "stream",
     "text": [
      "/home/carlos/MasterDS/tfm/scripts/extractive_summary/key_events.py:109: UserWarning: Could not perform tfidf\n",
      "  if len(summary_events) == 0 or len(processed_article_sentences) == 0:\n",
      "/home/carlos/MasterDS/tfm/scripts/extractive_summary/key_events_summary.py:196: UserWarning: Could not perform summary for https://matchcenter.mlssoccer.com/matchcenter/2018-04-14-san-jose-earthquakes-vs-houston-dynamo/feed\n",
      "  warnings.warn('Could not perform summary for {}'.format(match_url))\n"
     ]
    },
    {
     "name": "stdout",
     "output_type": "stream",
     "text": [
      "Number of original events: 73\n",
      "Number of processed events: 0\n"
     ]
    },
    {
     "name": "stderr",
     "output_type": "stream",
     "text": [
      "/home/carlos/MasterDS/tfm/scripts/extractive_summary/key_events_summary.py:196: UserWarning: Could not perform summary for https://matchcenter.mlssoccer.com/matchcenter/2018-06-30-chicago-fire-vs-new-york-city-fc/feed\n",
      "  warnings.warn('Could not perform summary for {}'.format(match_url))\n"
     ]
    },
    {
     "name": "stdout",
     "output_type": "stream",
     "text": [
      "Number of original events: 120\n",
      "Number of processed events: 0\n"
     ]
    },
    {
     "name": "stderr",
     "output_type": "stream",
     "text": [
      "/home/carlos/MasterDS/tfm/scripts/extractive_summary/key_events_summary.py:196: UserWarning: Could not perform summary for https://matchcenter.mlssoccer.com/matchcenter/2018-05-26-los-angeles-football-club-vs-dc-united/feed\n",
      "  warnings.warn('Could not perform summary for {}'.format(match_url))\n"
     ]
    },
    {
     "name": "stdout",
     "output_type": "stream",
     "text": [
      "Number of original events: 83\n",
      "Number of processed events: 0\n"
     ]
    },
    {
     "name": "stderr",
     "output_type": "stream",
     "text": [
      "/home/carlos/MasterDS/tfm/scripts/extractive_summary/key_events_summary.py:196: UserWarning: Could not perform summary for https://matchcenter.mlssoccer.com/matchcenter/2018-04-28-atlanta-united-fc-vs-montreal-impact/feed\n",
      "  warnings.warn('Could not perform summary for {}'.format(match_url))\n"
     ]
    },
    {
     "name": "stdout",
     "output_type": "stream",
     "text": [
      "Number of original events: 82\n",
      "Number of processed events: 1\n",
      "Number of sentences in original article: 14\n",
      "Number of sentences in summary: 1\n",
      "Number of original events: 95\n",
      "Number of processed events: 1\n",
      "Number of sentences in original article: 16\n",
      "Number of sentences in summary: 1\n",
      "Number of original events: 100\n",
      "Number of processed events: 0\n"
     ]
    },
    {
     "name": "stderr",
     "output_type": "stream",
     "text": [
      "/home/carlos/MasterDS/tfm/scripts/extractive_summary/key_events.py:109: UserWarning: Could not perform tfidf\n",
      "  if len(summary_events) == 0 or len(processed_article_sentences) == 0:\n",
      "/home/carlos/MasterDS/tfm/scripts/extractive_summary/key_events_summary.py:196: UserWarning: Could not perform summary for https://matchcenter.mlssoccer.com/matchcenter/2018-10-28-la-galaxy-vs-houston-dynamo/feed\n",
      "  warnings.warn('Could not perform summary for {}'.format(match_url))\n"
     ]
    },
    {
     "name": "stdout",
     "output_type": "stream",
     "text": [
      "Number of original events: 87\n",
      "Number of processed events: 0\n"
     ]
    },
    {
     "name": "stderr",
     "output_type": "stream",
     "text": [
      "/home/carlos/MasterDS/tfm/scripts/extractive_summary/key_events_summary.py:196: UserWarning: Could not perform summary for https://matchcenter.mlssoccer.com/matchcenter/2018-06-30-new-england-revolution-vs-dc-united/feed\n",
      "  warnings.warn('Could not perform summary for {}'.format(match_url))\n"
     ]
    },
    {
     "name": "stdout",
     "output_type": "stream",
     "text": [
      "Number of original events: 102\n",
      "Number of processed events: 1\n",
      "Number of sentences in original article: 11\n",
      "Number of sentences in summary: 1\n",
      "Number of original events: 103\n",
      "Number of processed events: 0\n"
     ]
    },
    {
     "name": "stderr",
     "output_type": "stream",
     "text": [
      "/home/carlos/MasterDS/tfm/scripts/extractive_summary/key_events.py:109: UserWarning: Could not perform tfidf\n",
      "  if len(summary_events) == 0 or len(processed_article_sentences) == 0:\n",
      "/home/carlos/MasterDS/tfm/scripts/extractive_summary/key_events_summary.py:196: UserWarning: Could not perform summary for https://matchcenter.mlssoccer.com/matchcenter/2018-06-02-portland-timbers-vs-la-galaxy/feed\n",
      "  warnings.warn('Could not perform summary for {}'.format(match_url))\n"
     ]
    },
    {
     "name": "stdout",
     "output_type": "stream",
     "text": [
      "Number of original events: 82\n",
      "Number of processed events: 1\n",
      "Number of sentences in original article: 9\n",
      "Number of sentences in summary: 1\n",
      "Number of original events: 87\n",
      "Number of processed events: 0\n"
     ]
    },
    {
     "name": "stderr",
     "output_type": "stream",
     "text": [
      "/home/carlos/MasterDS/tfm/scripts/extractive_summary/key_events.py:109: UserWarning: Could not perform tfidf\n",
      "  if len(summary_events) == 0 or len(processed_article_sentences) == 0:\n",
      "/home/carlos/MasterDS/tfm/scripts/extractive_summary/key_events_summary.py:196: UserWarning: Could not perform summary for https://matchcenter.mlssoccer.com/matchcenter/2018-07-21-portland-timbers-vs-montreal-impact/feed\n",
      "  warnings.warn('Could not perform summary for {}'.format(match_url))\n"
     ]
    },
    {
     "name": "stdout",
     "output_type": "stream",
     "text": [
      "Number of original events: 97\n",
      "Number of processed events: 0\n"
     ]
    },
    {
     "name": "stderr",
     "output_type": "stream",
     "text": [
      "/home/carlos/MasterDS/tfm/scripts/extractive_summary/key_events_summary.py:196: UserWarning: Could not perform summary for https://matchcenter.mlssoccer.com/matchcenter/2018-09-22-montreal-impact-vs-new-york-city-fc/feed\n",
      "  warnings.warn('Could not perform summary for {}'.format(match_url))\n"
     ]
    },
    {
     "name": "stdout",
     "output_type": "stream",
     "text": [
      "Number of original events: 93\n",
      "Number of processed events: 0\n"
     ]
    },
    {
     "name": "stderr",
     "output_type": "stream",
     "text": [
      "/home/carlos/MasterDS/tfm/scripts/extractive_summary/key_events_summary.py:196: UserWarning: Could not perform summary for https://matchcenter.mlssoccer.com/matchcenter/2018-08-18-san-jose-earthquakes-vs-toronto-fc/feed\n",
      "  warnings.warn('Could not perform summary for {}'.format(match_url))\n"
     ]
    },
    {
     "name": "stdout",
     "output_type": "stream",
     "text": [
      "Number of original events: 91\n",
      "Number of processed events: 0\n"
     ]
    },
    {
     "name": "stderr",
     "output_type": "stream",
     "text": [
      "/home/carlos/MasterDS/tfm/scripts/extractive_summary/key_events_summary.py:196: UserWarning: Could not perform summary for https://matchcenter.mlssoccer.com/matchcenter/2018-03-10-new-england-revolution-vs-colorado-rapids/feed\n",
      "  warnings.warn('Could not perform summary for {}'.format(match_url))\n"
     ]
    },
    {
     "name": "stdout",
     "output_type": "stream",
     "text": [
      "Number of original events: 94\n",
      "Number of processed events: 0\n"
     ]
    },
    {
     "name": "stderr",
     "output_type": "stream",
     "text": [
      "/home/carlos/MasterDS/tfm/scripts/extractive_summary/key_events_summary.py:196: UserWarning: Could not perform summary for https://matchcenter.mlssoccer.com/matchcenter/2018-07-21-philadelphia-union-vs-la-galaxy/feed\n",
      "  warnings.warn('Could not perform summary for {}'.format(match_url))\n"
     ]
    },
    {
     "name": "stdout",
     "output_type": "stream",
     "text": [
      "Number of original events: 108\n",
      "Number of processed events: 0\n"
     ]
    },
    {
     "name": "stderr",
     "output_type": "stream",
     "text": [
      "/home/carlos/MasterDS/tfm/scripts/extractive_summary/key_events_summary.py:196: UserWarning: Could not perform summary for https://matchcenter.mlssoccer.com/matchcenter/2018-04-17-toronto-fc-vs-cd-guadalajara/feed\n",
      "  warnings.warn('Could not perform summary for {}'.format(match_url))\n"
     ]
    },
    {
     "name": "stdout",
     "output_type": "stream",
     "text": [
      "Number of original events: 83\n",
      "Number of processed events: 0\n"
     ]
    },
    {
     "name": "stderr",
     "output_type": "stream",
     "text": [
      "/home/carlos/MasterDS/tfm/scripts/extractive_summary/key_events_summary.py:196: UserWarning: Could not perform summary for https://matchcenter.mlssoccer.com/matchcenter/2018-10-12-los-angeles-football-club-vs-houston-dynamo/feed\n",
      "  warnings.warn('Could not perform summary for {}'.format(match_url))\n"
     ]
    },
    {
     "name": "stdout",
     "output_type": "stream",
     "text": [
      "Number of original events: 105\n",
      "Number of processed events: 0\n"
     ]
    },
    {
     "name": "stderr",
     "output_type": "stream",
     "text": [
      "/home/carlos/MasterDS/tfm/scripts/extractive_summary/key_events_summary.py:196: UserWarning: Could not perform summary for https://matchcenter.mlssoccer.com/matchcenter/2018-07-07-portland-timbers-vs-san-jose-earthquakes/feed\n",
      "  warnings.warn('Could not perform summary for {}'.format(match_url))\n"
     ]
    },
    {
     "name": "stdout",
     "output_type": "stream",
     "text": [
      "Number of original events: 96\n",
      "Number of processed events: 0\n"
     ]
    },
    {
     "name": "stderr",
     "output_type": "stream",
     "text": [
      "/home/carlos/MasterDS/tfm/scripts/extractive_summary/key_events_summary.py:196: UserWarning: Could not perform summary for https://matchcenter.mlssoccer.com/matchcenter/2018-03-04-seattle-sounders-fc-vs-los-angeles-football-club/feed\n",
      "  warnings.warn('Could not perform summary for {}'.format(match_url))\n"
     ]
    },
    {
     "name": "stdout",
     "output_type": "stream",
     "text": [
      "Number of original events: 101\n",
      "Number of processed events: 0\n"
     ]
    },
    {
     "name": "stderr",
     "output_type": "stream",
     "text": [
      "/home/carlos/MasterDS/tfm/scripts/extractive_summary/key_events_summary.py:196: UserWarning: Could not perform summary for https://matchcenter.mlssoccer.com/matchcenter/2018-07-21-real-salt-lake-vs-colorado-rapids/feed\n",
      "  warnings.warn('Could not perform summary for {}'.format(match_url))\n"
     ]
    },
    {
     "name": "stdout",
     "output_type": "stream",
     "text": [
      "Number of original events: 95\n",
      "Number of processed events: 0\n"
     ]
    },
    {
     "name": "stderr",
     "output_type": "stream",
     "text": [
      "/home/carlos/MasterDS/tfm/scripts/extractive_summary/key_events_summary.py:196: UserWarning: Could not perform summary for https://matchcenter.mlssoccer.com/matchcenter/2018-10-13-new-england-revolution-vs-orlando-city-sc/feed\n",
      "  warnings.warn('Could not perform summary for {}'.format(match_url))\n"
     ]
    },
    {
     "name": "stdout",
     "output_type": "stream",
     "text": [
      "Number of original events: 109\n",
      "Number of processed events: 0\n"
     ]
    },
    {
     "name": "stderr",
     "output_type": "stream",
     "text": [
      "/home/carlos/MasterDS/tfm/scripts/extractive_summary/key_events_summary.py:196: UserWarning: Could not perform summary for https://matchcenter.mlssoccer.com/matchcenter/2018-07-28-sporting-kansas-city-vs-fc-dallas/feed\n",
      "  warnings.warn('Could not perform summary for {}'.format(match_url))\n"
     ]
    },
    {
     "name": "stdout",
     "output_type": "stream",
     "text": [
      "Number of original events: 106\n",
      "Number of processed events: 0\n"
     ]
    },
    {
     "name": "stderr",
     "output_type": "stream",
     "text": [
      "/home/carlos/MasterDS/tfm/scripts/extractive_summary/key_events_summary.py:196: UserWarning: Could not perform summary for https://matchcenter.mlssoccer.com/matchcenter/2018-07-15-atlanta-united-fc-vs-seattle-sounders-fc/feed\n",
      "  warnings.warn('Could not perform summary for {}'.format(match_url))\n"
     ]
    },
    {
     "name": "stdout",
     "output_type": "stream",
     "text": [
      "Number of original events: 124\n",
      "Number of processed events: 5\n",
      "Number of sentences in original article: 15\n",
      "Number of sentences in summary: 1\n",
      "Number of original events: 84\n",
      "Number of processed events: 0\n"
     ]
    },
    {
     "name": "stderr",
     "output_type": "stream",
     "text": [
      "/home/carlos/MasterDS/tfm/scripts/extractive_summary/key_events.py:109: UserWarning: Could not perform tfidf\n",
      "  if len(summary_events) == 0 or len(processed_article_sentences) == 0:\n",
      "/home/carlos/MasterDS/tfm/scripts/extractive_summary/key_events_summary.py:196: UserWarning: Could not perform summary for https://matchcenter.mlssoccer.com/matchcenter/2018-10-06-philadelphia-union-vs-minnesota-united-fc/feed\n",
      "  warnings.warn('Could not perform summary for {}'.format(match_url))\n"
     ]
    },
    {
     "name": "stdout",
     "output_type": "stream",
     "text": [
      "Number of original events: 71\n",
      "Number of processed events: 0\n"
     ]
    },
    {
     "name": "stderr",
     "output_type": "stream",
     "text": [
      "/home/carlos/MasterDS/tfm/scripts/extractive_summary/key_events_summary.py:196: UserWarning: Could not perform summary for https://matchcenter.mlssoccer.com/matchcenter/2018-06-02-columbus-crew-sc-vs-toronto-fc/feed\n",
      "  warnings.warn('Could not perform summary for {}'.format(match_url))\n"
     ]
    },
    {
     "name": "stdout",
     "output_type": "stream",
     "text": [
      "Number of original events: 110\n",
      "Number of processed events: 0\n"
     ]
    },
    {
     "name": "stderr",
     "output_type": "stream",
     "text": [
      "/home/carlos/MasterDS/tfm/scripts/extractive_summary/key_events_summary.py:196: UserWarning: Could not perform summary for https://matchcenter.mlssoccer.com/matchcenter/2018-09-23-vancouver-whitecaps-fc-vs-fc-dallas/feed\n",
      "  warnings.warn('Could not perform summary for {}'.format(match_url))\n"
     ]
    },
    {
     "name": "stdout",
     "output_type": "stream",
     "text": [
      "Number of original events: 93\n",
      "Number of processed events: 0\n"
     ]
    },
    {
     "name": "stderr",
     "output_type": "stream",
     "text": [
      "/home/carlos/MasterDS/tfm/scripts/extractive_summary/key_events_summary.py:196: UserWarning: Could not perform summary for https://matchcenter.mlssoccer.com/matchcenter/2018-03-17-real-salt-lake-vs-new-york-red-bulls/feed\n",
      "  warnings.warn('Could not perform summary for {}'.format(match_url))\n"
     ]
    },
    {
     "name": "stdout",
     "output_type": "stream",
     "text": [
      "Number of original events: 81\n",
      "Number of processed events: 0\n"
     ]
    },
    {
     "name": "stderr",
     "output_type": "stream",
     "text": [
      "/home/carlos/MasterDS/tfm/scripts/extractive_summary/key_events_summary.py:196: UserWarning: Could not perform summary for https://matchcenter.mlssoccer.com/matchcenter/2018-09-15-philadelphia-union-vs-montreal-impact/feed\n",
      "  warnings.warn('Could not perform summary for {}'.format(match_url))\n"
     ]
    },
    {
     "name": "stdout",
     "output_type": "stream",
     "text": [
      "Number of original events: 94\n",
      "Number of processed events: 0\n"
     ]
    },
    {
     "name": "stderr",
     "output_type": "stream",
     "text": [
      "/home/carlos/MasterDS/tfm/scripts/extractive_summary/key_events_summary.py:196: UserWarning: Could not perform summary for https://matchcenter.mlssoccer.com/matchcenter/2018-09-30-sporting-kansas-city-vs-real-salt-lake/feed\n",
      "  warnings.warn('Could not perform summary for {}'.format(match_url))\n"
     ]
    },
    {
     "name": "stdout",
     "output_type": "stream",
     "text": [
      "Number of original events: 94\n",
      "Number of processed events: 0\n"
     ]
    },
    {
     "name": "stderr",
     "output_type": "stream",
     "text": [
      "/home/carlos/MasterDS/tfm/scripts/extractive_summary/key_events_summary.py:196: UserWarning: Could not perform summary for https://matchcenter.mlssoccer.com/matchcenter/2018-03-24-colorado-rapids-vs-sporting-kansas-city/feed\n",
      "  warnings.warn('Could not perform summary for {}'.format(match_url))\n"
     ]
    },
    {
     "name": "stdout",
     "output_type": "stream",
     "text": [
      "Number of original events: 98\n",
      "Number of processed events: 0\n"
     ]
    },
    {
     "name": "stderr",
     "output_type": "stream",
     "text": [
      "/home/carlos/MasterDS/tfm/scripts/extractive_summary/key_events_summary.py:196: UserWarning: Could not perform summary for https://matchcenter.mlssoccer.com/matchcenter/2018-04-11-new-york-city-fc-vs-real-salt-lake/feed\n",
      "  warnings.warn('Could not perform summary for {}'.format(match_url))\n"
     ]
    },
    {
     "name": "stdout",
     "output_type": "stream",
     "text": [
      "Number of original events: 97\n",
      "Number of processed events: 1\n",
      "Number of sentences in original article: 9\n",
      "Number of sentences in summary: 1\n",
      "Number of original events: 107\n",
      "Number of processed events: 0\n"
     ]
    },
    {
     "name": "stderr",
     "output_type": "stream",
     "text": [
      "/home/carlos/MasterDS/tfm/scripts/extractive_summary/key_events.py:109: UserWarning: Could not perform tfidf\n",
      "  if len(summary_events) == 0 or len(processed_article_sentences) == 0:\n",
      "/home/carlos/MasterDS/tfm/scripts/extractive_summary/key_events_summary.py:196: UserWarning: Could not perform summary for https://matchcenter.mlssoccer.com/matchcenter/2018-04-21-la-galaxy-vs-atlanta-united-fc/feed\n",
      "  warnings.warn('Could not perform summary for {}'.format(match_url))\n"
     ]
    },
    {
     "name": "stdout",
     "output_type": "stream",
     "text": [
      "Number of original events: 89\n",
      "Number of processed events: 0\n"
     ]
    },
    {
     "name": "stderr",
     "output_type": "stream",
     "text": [
      "/home/carlos/MasterDS/tfm/scripts/extractive_summary/key_events_summary.py:196: UserWarning: Could not perform summary for https://matchcenter.mlssoccer.com/matchcenter/2018-10-17-dc-united-vs-toronto-fc/feed\n",
      "  warnings.warn('Could not perform summary for {}'.format(match_url))\n"
     ]
    },
    {
     "name": "stdout",
     "output_type": "stream",
     "text": [
      "Number of original events: 120\n",
      "Number of processed events: 5\n",
      "Number of sentences in original article: 15\n",
      "Number of sentences in summary: 1\n",
      "Number of original events: 100\n",
      "Number of processed events: 0\n"
     ]
    },
    {
     "name": "stderr",
     "output_type": "stream",
     "text": [
      "/home/carlos/MasterDS/tfm/scripts/extractive_summary/key_events.py:109: UserWarning: Could not perform tfidf\n",
      "  if len(summary_events) == 0 or len(processed_article_sentences) == 0:\n",
      "/home/carlos/MasterDS/tfm/scripts/extractive_summary/key_events_summary.py:196: UserWarning: Could not perform summary for https://matchcenter.mlssoccer.com/matchcenter/2018-11-04-portland-timbers-vs-seattle-sounders-fc/feed\n",
      "  warnings.warn('Could not perform summary for {}'.format(match_url))\n"
     ]
    },
    {
     "name": "stdout",
     "output_type": "stream",
     "text": [
      "Number of original events: 112\n",
      "Number of processed events: 0\n"
     ]
    },
    {
     "name": "stderr",
     "output_type": "stream",
     "text": [
      "/home/carlos/MasterDS/tfm/scripts/extractive_summary/key_events_summary.py:196: UserWarning: Could not perform summary for https://matchcenter.mlssoccer.com/matchcenter/2018-03-24-new-england-revolution-vs-new-york-city-fc/feed\n",
      "  warnings.warn('Could not perform summary for {}'.format(match_url))\n"
     ]
    },
    {
     "name": "stdout",
     "output_type": "stream",
     "text": [
      "Number of original events: 85\n",
      "Number of processed events: 0\n"
     ]
    },
    {
     "name": "stderr",
     "output_type": "stream",
     "text": [
      "/home/carlos/MasterDS/tfm/scripts/extractive_summary/key_events_summary.py:196: UserWarning: Could not perform summary for https://matchcenter.mlssoccer.com/matchcenter/2018-05-26-new-york-red-bulls-vs-philadelphia-union/feed\n",
      "  warnings.warn('Could not perform summary for {}'.format(match_url))\n"
     ]
    },
    {
     "name": "stdout",
     "output_type": "stream",
     "text": [
      "Number of original events: 105\n",
      "Number of processed events: 1\n",
      "Number of sentences in original article: 11\n",
      "Number of sentences in summary: 1\n",
      "Number of original events: 82\n",
      "Number of processed events: 1\n",
      "Number of sentences in original article: 10\n",
      "Number of sentences in summary: 1\n",
      "Number of original events: 92\n",
      "Number of processed events: 0\n"
     ]
    },
    {
     "name": "stderr",
     "output_type": "stream",
     "text": [
      "/home/carlos/MasterDS/tfm/scripts/extractive_summary/key_events.py:109: UserWarning: Could not perform tfidf\n",
      "  if len(summary_events) == 0 or len(processed_article_sentences) == 0:\n",
      "/home/carlos/MasterDS/tfm/scripts/extractive_summary/key_events_summary.py:196: UserWarning: Could not perform summary for https://matchcenter.mlssoccer.com/matchcenter/2018-09-23-philadelphia-union-vs-sporting-kansas-city/feed\n",
      "  warnings.warn('Could not perform summary for {}'.format(match_url))\n"
     ]
    },
    {
     "name": "stdout",
     "output_type": "stream",
     "text": [
      "Number of original events: 108\n",
      "Number of processed events: 0\n"
     ]
    },
    {
     "name": "stderr",
     "output_type": "stream",
     "text": [
      "/home/carlos/MasterDS/tfm/scripts/extractive_summary/key_events_summary.py:196: UserWarning: Could not perform summary for https://matchcenter.mlssoccer.com/matchcenter/2018-05-19-new-england-revolution-vs-columbus-crew-sc/feed\n",
      "  warnings.warn('Could not perform summary for {}'.format(match_url))\n"
     ]
    },
    {
     "name": "stdout",
     "output_type": "stream",
     "text": [
      "Number of original events: 99\n",
      "Number of processed events: 0\n"
     ]
    },
    {
     "name": "stderr",
     "output_type": "stream",
     "text": [
      "/home/carlos/MasterDS/tfm/scripts/extractive_summary/key_events_summary.py:196: UserWarning: Could not perform summary for https://matchcenter.mlssoccer.com/matchcenter/2018-08-12-toronto-fc-vs-new-york-city-fc/feed\n",
      "  warnings.warn('Could not perform summary for {}'.format(match_url))\n"
     ]
    },
    {
     "name": "stdout",
     "output_type": "stream",
     "text": [
      "Number of original events: 103\n",
      "Number of processed events: 1\n",
      "Number of sentences in original article: 7\n",
      "Number of sentences in summary: 1\n",
      "Number of original events: 97\n",
      "Number of processed events: 0\n"
     ]
    },
    {
     "name": "stderr",
     "output_type": "stream",
     "text": [
      "/home/carlos/MasterDS/tfm/scripts/extractive_summary/key_events.py:109: UserWarning: Could not perform tfidf\n",
      "  if len(summary_events) == 0 or len(processed_article_sentences) == 0:\n",
      "/home/carlos/MasterDS/tfm/scripts/extractive_summary/key_events_summary.py:196: UserWarning: Could not perform summary for https://matchcenter.mlssoccer.com/matchcenter/2018-08-29-portland-timbers-vs-toronto-fc/feed\n",
      "  warnings.warn('Could not perform summary for {}'.format(match_url))\n"
     ]
    },
    {
     "name": "stdout",
     "output_type": "stream",
     "text": [
      "Number of original events: 78\n",
      "Number of processed events: 0\n"
     ]
    },
    {
     "name": "stderr",
     "output_type": "stream",
     "text": [
      "/home/carlos/MasterDS/tfm/scripts/extractive_summary/key_events_summary.py:196: UserWarning: Could not perform summary for https://matchcenter.mlssoccer.com/matchcenter/2018-05-05-los-angeles-football-club-vs-fc-dallas/feed\n",
      "  warnings.warn('Could not perform summary for {}'.format(match_url))\n"
     ]
    },
    {
     "name": "stdout",
     "output_type": "stream",
     "text": [
      "Number of original events: 96\n",
      "Number of processed events: 1\n",
      "Number of sentences in original article: 11\n",
      "Number of sentences in summary: 1\n",
      "Number of original events: 111\n",
      "Number of processed events: 2\n",
      "Number of sentences in original article: 10\n",
      "Number of sentences in summary: 1\n",
      "Number of original events: 89\n",
      "Number of processed events: 0\n"
     ]
    },
    {
     "name": "stderr",
     "output_type": "stream",
     "text": [
      "/home/carlos/MasterDS/tfm/scripts/extractive_summary/key_events.py:109: UserWarning: Could not perform tfidf\n",
      "  if len(summary_events) == 0 or len(processed_article_sentences) == 0:\n",
      "/home/carlos/MasterDS/tfm/scripts/extractive_summary/key_events_summary.py:196: UserWarning: Could not perform summary for https://matchcenter.mlssoccer.com/matchcenter/2018-10-06-montreal-impact-vs-columbus-crew-sc/feed\n",
      "  warnings.warn('Could not perform summary for {}'.format(match_url))\n"
     ]
    },
    {
     "name": "stdout",
     "output_type": "stream",
     "text": [
      "Number of original events: 131\n",
      "Number of processed events: 0\n"
     ]
    },
    {
     "name": "stderr",
     "output_type": "stream",
     "text": [
      "/home/carlos/MasterDS/tfm/scripts/extractive_summary/key_events_summary.py:196: UserWarning: Could not perform summary for https://matchcenter.mlssoccer.com/matchcenter/2018-07-18-los-angeles-football-club-vs-portland-timbers/feed\n",
      "  warnings.warn('Could not perform summary for {}'.format(match_url))\n"
     ]
    },
    {
     "name": "stdout",
     "output_type": "stream",
     "text": [
      "Number of original events: 85\n",
      "Number of processed events: 0\n"
     ]
    },
    {
     "name": "stderr",
     "output_type": "stream",
     "text": [
      "/home/carlos/MasterDS/tfm/scripts/extractive_summary/key_events_summary.py:196: UserWarning: Could not perform summary for https://matchcenter.mlssoccer.com/matchcenter/2018-05-13-orlando-city-sc-vs-atlanta-united-fc/feed\n",
      "  warnings.warn('Could not perform summary for {}'.format(match_url))\n"
     ]
    },
    {
     "name": "stdout",
     "output_type": "stream",
     "text": [
      "Number of original events: 81\n",
      "Number of processed events: 0\n"
     ]
    },
    {
     "name": "stderr",
     "output_type": "stream",
     "text": [
      "/home/carlos/MasterDS/tfm/scripts/extractive_summary/key_events_summary.py:196: UserWarning: Could not perform summary for https://matchcenter.mlssoccer.com/matchcenter/2018-03-17-sporting-kansas-city-vs-san-jose-earthquakes/feed\n",
      "  warnings.warn('Could not perform summary for {}'.format(match_url))\n"
     ]
    },
    {
     "name": "stdout",
     "output_type": "stream",
     "text": [
      "Number of original events: 100\n",
      "Number of processed events: 0\n"
     ]
    },
    {
     "name": "stderr",
     "output_type": "stream",
     "text": [
      "/home/carlos/MasterDS/tfm/scripts/extractive_summary/key_events_summary.py:196: UserWarning: Could not perform summary for https://matchcenter.mlssoccer.com/matchcenter/2018-10-28-new-england-revolution-vs-montreal-impact/feed\n",
      "  warnings.warn('Could not perform summary for {}'.format(match_url))\n"
     ]
    },
    {
     "name": "stdout",
     "output_type": "stream",
     "text": [
      "Number of original events: 89\n",
      "Number of processed events: 0\n"
     ]
    },
    {
     "name": "stderr",
     "output_type": "stream",
     "text": [
      "/home/carlos/MasterDS/tfm/scripts/extractive_summary/key_events_summary.py:196: UserWarning: Could not perform summary for https://matchcenter.mlssoccer.com/matchcenter/2018-04-07-chicago-fire-vs-columbus-crew-sc/feed\n",
      "  warnings.warn('Could not perform summary for {}'.format(match_url))\n"
     ]
    },
    {
     "name": "stdout",
     "output_type": "stream",
     "text": [
      "Number of original events: 84\n",
      "Number of processed events: 0\n"
     ]
    },
    {
     "name": "stderr",
     "output_type": "stream",
     "text": [
      "/home/carlos/MasterDS/tfm/scripts/extractive_summary/key_events_summary.py:196: UserWarning: Could not perform summary for https://matchcenter.mlssoccer.com/matchcenter/2018-07-14-minnesota-united-fc-vs-real-salt-lake/feed\n",
      "  warnings.warn('Could not perform summary for {}'.format(match_url))\n"
     ]
    },
    {
     "name": "stdout",
     "output_type": "stream",
     "text": [
      "Number of original events: 121\n",
      "Number of processed events: 2\n",
      "Number of sentences in original article: 10\n",
      "Number of sentences in summary: 1\n",
      "Number of original events: 120\n",
      "Number of processed events: 0\n"
     ]
    },
    {
     "name": "stderr",
     "output_type": "stream",
     "text": [
      "/home/carlos/MasterDS/tfm/scripts/extractive_summary/key_events.py:109: UserWarning: Could not perform tfidf\n",
      "  if len(summary_events) == 0 or len(processed_article_sentences) == 0:\n",
      "/home/carlos/MasterDS/tfm/scripts/extractive_summary/key_events_summary.py:196: UserWarning: Could not perform summary for https://matchcenter.mlssoccer.com/matchcenter/2018-08-19-los-angeles-football-club-vs-colorado-rapids/feed\n",
      "  warnings.warn('Could not perform summary for {}'.format(match_url))\n"
     ]
    },
    {
     "name": "stdout",
     "output_type": "stream",
     "text": [
      "Number of original events: 85\n",
      "Number of processed events: 0\n"
     ]
    },
    {
     "name": "stderr",
     "output_type": "stream",
     "text": [
      "/home/carlos/MasterDS/tfm/scripts/extractive_summary/key_events_summary.py:196: UserWarning: Could not perform summary for https://matchcenter.mlssoccer.com/matchcenter/2018-05-30-la-galaxy-vs-fc-dallas/feed\n",
      "  warnings.warn('Could not perform summary for {}'.format(match_url))\n"
     ]
    },
    {
     "name": "stdout",
     "output_type": "stream",
     "text": [
      "Number of original events: 67\n",
      "Number of processed events: 0\n"
     ]
    },
    {
     "name": "stderr",
     "output_type": "stream",
     "text": [
      "/home/carlos/MasterDS/tfm/scripts/extractive_summary/key_events_summary.py:196: UserWarning: Could not perform summary for https://matchcenter.mlssoccer.com/matchcenter/2018-07-21-chicago-fire-vs-toronto-fc/feed\n",
      "  warnings.warn('Could not perform summary for {}'.format(match_url))\n"
     ]
    },
    {
     "name": "stdout",
     "output_type": "stream",
     "text": [
      "Number of original events: 99\n",
      "Number of processed events: 0\n"
     ]
    },
    {
     "name": "stderr",
     "output_type": "stream",
     "text": [
      "/home/carlos/MasterDS/tfm/scripts/extractive_summary/key_events_summary.py:196: UserWarning: Could not perform summary for https://matchcenter.mlssoccer.com/matchcenter/2018-06-23-sporting-kansas-city-vs-houston-dynamo/feed\n",
      "  warnings.warn('Could not perform summary for {}'.format(match_url))\n"
     ]
    },
    {
     "name": "stdout",
     "output_type": "stream",
     "text": [
      "Number of original events: 96\n",
      "Number of processed events: 0\n"
     ]
    },
    {
     "name": "stderr",
     "output_type": "stream",
     "text": [
      "/home/carlos/MasterDS/tfm/scripts/extractive_summary/key_events_summary.py:196: UserWarning: Could not perform summary for https://matchcenter.mlssoccer.com/matchcenter/2018-10-16-canada-vs-dominica/feed\n",
      "  warnings.warn('Could not perform summary for {}'.format(match_url))\n"
     ]
    },
    {
     "name": "stdout",
     "output_type": "stream",
     "text": [
      "Number of original events: 137\n",
      "Number of processed events: 0\n"
     ]
    },
    {
     "name": "stderr",
     "output_type": "stream",
     "text": [
      "/home/carlos/MasterDS/tfm/scripts/extractive_summary/key_events_summary.py:196: UserWarning: Could not perform summary for https://matchcenter.mlssoccer.com/matchcenter/2018-09-15-los-angeles-football-club-vs-new-england-revolution/feed\n",
      "  warnings.warn('Could not perform summary for {}'.format(match_url))\n"
     ]
    },
    {
     "name": "stdout",
     "output_type": "stream",
     "text": [
      "Number of original events: 107\n",
      "Number of processed events: 1\n",
      "Number of sentences in original article: 11\n",
      "Number of sentences in summary: 1\n",
      "Number of original events: 103\n",
      "Number of processed events: 1\n",
      "Number of sentences in original article: 11\n",
      "Number of sentences in summary: 1\n",
      "Number of original events: 92\n",
      "Number of processed events: 0\n"
     ]
    },
    {
     "name": "stderr",
     "output_type": "stream",
     "text": [
      "/home/carlos/MasterDS/tfm/scripts/extractive_summary/key_events.py:109: UserWarning: Could not perform tfidf\n",
      "  if len(summary_events) == 0 or len(processed_article_sentences) == 0:\n",
      "/home/carlos/MasterDS/tfm/scripts/extractive_summary/key_events_summary.py:196: UserWarning: Could not perform summary for https://matchcenter.mlssoccer.com/matchcenter/2018-06-18-houston-dynamo-vs-minnesota-united-fc/feed\n",
      "  warnings.warn('Could not perform summary for {}'.format(match_url))\n"
     ]
    },
    {
     "name": "stdout",
     "output_type": "stream",
     "text": [
      "Number of original events: 114\n",
      "Number of processed events: 6\n",
      "Number of sentences in original article: 9\n",
      "Number of sentences in summary: 2\n",
      "Number of original events: 89\n",
      "Number of processed events: 0\n"
     ]
    },
    {
     "name": "stderr",
     "output_type": "stream",
     "text": [
      "/home/carlos/MasterDS/tfm/scripts/extractive_summary/key_events.py:109: UserWarning: Could not perform tfidf\n",
      "  if len(summary_events) == 0 or len(processed_article_sentences) == 0:\n",
      "/home/carlos/MasterDS/tfm/scripts/extractive_summary/key_events_summary.py:196: UserWarning: Could not perform summary for https://matchcenter.mlssoccer.com/matchcenter/2018-08-18-seattle-sounders-fc-vs-la-galaxy/feed\n",
      "  warnings.warn('Could not perform summary for {}'.format(match_url))\n"
     ]
    },
    {
     "name": "stdout",
     "output_type": "stream",
     "text": [
      "Number of original events: 88\n",
      "Number of processed events: 0\n"
     ]
    },
    {
     "name": "stderr",
     "output_type": "stream",
     "text": [
      "/home/carlos/MasterDS/tfm/scripts/extractive_summary/key_events_summary.py:196: UserWarning: Could not perform summary for https://matchcenter.mlssoccer.com/matchcenter/2018-10-28-new-york-red-bulls-vs-orlando-city-sc/feed\n",
      "  warnings.warn('Could not perform summary for {}'.format(match_url))\n"
     ]
    },
    {
     "name": "stdout",
     "output_type": "stream",
     "text": [
      "Number of original events: 91\n",
      "Number of processed events: 0\n"
     ]
    },
    {
     "name": "stderr",
     "output_type": "stream",
     "text": [
      "/home/carlos/MasterDS/tfm/scripts/extractive_summary/key_events_summary.py:196: UserWarning: Could not perform summary for https://matchcenter.mlssoccer.com/matchcenter/2018-08-04-portland-timbers-vs-philadelphia-union/feed\n",
      "  warnings.warn('Could not perform summary for {}'.format(match_url))\n"
     ]
    },
    {
     "name": "stdout",
     "output_type": "stream",
     "text": [
      "Number of original events: 104\n",
      "Number of processed events: 0\n"
     ]
    },
    {
     "name": "stderr",
     "output_type": "stream",
     "text": [
      "/home/carlos/MasterDS/tfm/scripts/extractive_summary/key_events_summary.py:196: UserWarning: Could not perform summary for https://matchcenter.mlssoccer.com/matchcenter/2018-11-18-st-kitts-and-nevis-vs-canada/feed\n",
      "  warnings.warn('Could not perform summary for {}'.format(match_url))\n"
     ]
    },
    {
     "name": "stdout",
     "output_type": "stream",
     "text": [
      "Number of original events: 96\n",
      "Number of processed events: 0\n"
     ]
    },
    {
     "name": "stderr",
     "output_type": "stream",
     "text": [
      "/home/carlos/MasterDS/tfm/scripts/extractive_summary/key_events_summary.py:196: UserWarning: Could not perform summary for https://matchcenter.mlssoccer.com/matchcenter/2018-03-31-colorado-rapids-vs-philadelphia-union/feed\n",
      "  warnings.warn('Could not perform summary for {}'.format(match_url))\n"
     ]
    },
    {
     "name": "stdout",
     "output_type": "stream",
     "text": [
      "Number of original events: 132\n",
      "Number of processed events: 19\n",
      "Number of sentences in original article: 17\n",
      "Number of sentences in summary: 1\n",
      "Number of original events: 101\n",
      "Number of processed events: 0\n"
     ]
    },
    {
     "name": "stderr",
     "output_type": "stream",
     "text": [
      "/home/carlos/MasterDS/tfm/scripts/extractive_summary/key_events.py:109: UserWarning: Could not perform tfidf\n",
      "  if len(summary_events) == 0 or len(processed_article_sentences) == 0:\n",
      "/home/carlos/MasterDS/tfm/scripts/extractive_summary/key_events_summary.py:196: UserWarning: Could not perform summary for https://matchcenter.mlssoccer.com/matchcenter/2018-06-13-colorado-rapids-vs-chicago-fire/feed\n",
      "  warnings.warn('Could not perform summary for {}'.format(match_url))\n"
     ]
    },
    {
     "name": "stdout",
     "output_type": "stream",
     "text": [
      "Number of original events: 75\n",
      "Number of processed events: 0\n"
     ]
    },
    {
     "name": "stderr",
     "output_type": "stream",
     "text": [
      "/home/carlos/MasterDS/tfm/scripts/extractive_summary/key_events_summary.py:196: UserWarning: Could not perform summary for https://matchcenter.mlssoccer.com/matchcenter/2018-10-17-vancouver-whitecaps-fc-vs-sporting-kansas-city/feed\n",
      "  warnings.warn('Could not perform summary for {}'.format(match_url))\n"
     ]
    },
    {
     "name": "stdout",
     "output_type": "stream",
     "text": [
      "Number of original events: 103\n",
      "Number of processed events: 0\n"
     ]
    },
    {
     "name": "stderr",
     "output_type": "stream",
     "text": [
      "/home/carlos/MasterDS/tfm/scripts/extractive_summary/key_events_summary.py:196: UserWarning: Could not perform summary for https://matchcenter.mlssoccer.com/matchcenter/2018-09-29-dc-united-vs-montreal-impact/feed\n",
      "  warnings.warn('Could not perform summary for {}'.format(match_url))\n"
     ]
    },
    {
     "name": "stdout",
     "output_type": "stream",
     "text": [
      "Number of original events: 97\n",
      "Number of processed events: 1\n",
      "Number of sentences in original article: 8\n",
      "Number of sentences in summary: 1\n",
      "Number of original events: 83\n",
      "Number of processed events: 0\n"
     ]
    },
    {
     "name": "stderr",
     "output_type": "stream",
     "text": [
      "/home/carlos/MasterDS/tfm/scripts/extractive_summary/key_events.py:109: UserWarning: Could not perform tfidf\n",
      "  if len(summary_events) == 0 or len(processed_article_sentences) == 0:\n",
      "/home/carlos/MasterDS/tfm/scripts/extractive_summary/key_events_summary.py:196: UserWarning: Could not perform summary for https://matchcenter.mlssoccer.com/matchcenter/2018-09-19-toronto-fc-vs-tigres-uanl/feed\n",
      "  warnings.warn('Could not perform summary for {}'.format(match_url))\n"
     ]
    },
    {
     "name": "stdout",
     "output_type": "stream",
     "text": [
      "Number of original events: 102\n",
      "Number of processed events: 0\n"
     ]
    },
    {
     "name": "stderr",
     "output_type": "stream",
     "text": [
      "/home/carlos/MasterDS/tfm/scripts/extractive_summary/key_events_summary.py:196: UserWarning: Could not perform summary for https://matchcenter.mlssoccer.com/matchcenter/2018-06-02-new-york-city-fc-vs-orlando-city-sc/feed\n",
      "  warnings.warn('Could not perform summary for {}'.format(match_url))\n"
     ]
    },
    {
     "name": "stdout",
     "output_type": "stream",
     "text": [
      "Number of original events: 96\n",
      "Number of processed events: 1\n",
      "Number of sentences in original article: 6\n",
      "Number of sentences in summary: 1\n",
      "Number of original events: 112\n",
      "Number of processed events: 1\n",
      "Number of sentences in original article: 8\n",
      "Number of sentences in summary: 1\n",
      "Number of original events: 97\n",
      "Number of processed events: 0\n"
     ]
    },
    {
     "name": "stderr",
     "output_type": "stream",
     "text": [
      "/home/carlos/MasterDS/tfm/scripts/extractive_summary/key_events.py:109: UserWarning: Could not perform tfidf\n",
      "  if len(summary_events) == 0 or len(processed_article_sentences) == 0:\n",
      "/home/carlos/MasterDS/tfm/scripts/extractive_summary/key_events_summary.py:196: UserWarning: Could not perform summary for https://matchcenter.mlssoccer.com/matchcenter/2018-07-18-montreal-impact-vs-vancouver-whitecaps-fc/feed\n",
      "  warnings.warn('Could not perform summary for {}'.format(match_url))\n"
     ]
    },
    {
     "name": "stdout",
     "output_type": "stream",
     "text": [
      "Number of original events: 106\n",
      "Number of processed events: 0\n"
     ]
    },
    {
     "name": "stderr",
     "output_type": "stream",
     "text": [
      "/home/carlos/MasterDS/tfm/scripts/extractive_summary/key_events_summary.py:196: UserWarning: Could not perform summary for https://matchcenter.mlssoccer.com/matchcenter/2018-06-06-houston-dynamo-vs-ntx-rayados/feed\n",
      "  warnings.warn('Could not perform summary for {}'.format(match_url))\n"
     ]
    },
    {
     "name": "stdout",
     "output_type": "stream",
     "text": [
      "Number of original events: 115\n",
      "Number of processed events: 0\n"
     ]
    },
    {
     "name": "stderr",
     "output_type": "stream",
     "text": [
      "/home/carlos/MasterDS/tfm/scripts/extractive_summary/key_events_summary.py:196: UserWarning: Could not perform summary for https://matchcenter.mlssoccer.com/matchcenter/2018-04-13-philadelphia-union-vs-orlando-city-sc/feed\n",
      "  warnings.warn('Could not perform summary for {}'.format(match_url))\n"
     ]
    },
    {
     "name": "stdout",
     "output_type": "stream",
     "text": [
      "Number of original events: 95\n",
      "Number of processed events: 0\n"
     ]
    },
    {
     "name": "stderr",
     "output_type": "stream",
     "text": [
      "/home/carlos/MasterDS/tfm/scripts/extractive_summary/key_events_summary.py:196: UserWarning: Could not perform summary for https://matchcenter.mlssoccer.com/matchcenter/2018-08-08-philadelphia-union-vs-chicago-fire/feed\n",
      "  warnings.warn('Could not perform summary for {}'.format(match_url))\n"
     ]
    },
    {
     "name": "stdout",
     "output_type": "stream",
     "text": [
      "Number of original events: 110\n",
      "Number of processed events: 0\n"
     ]
    },
    {
     "name": "stderr",
     "output_type": "stream",
     "text": [
      "/home/carlos/MasterDS/tfm/scripts/extractive_summary/key_events_summary.py:196: UserWarning: Could not perform summary for https://matchcenter.mlssoccer.com/matchcenter/2018-03-31-san-jose-earthquakes-vs-new-york-city-fc/feed\n",
      "  warnings.warn('Could not perform summary for {}'.format(match_url))\n"
     ]
    },
    {
     "name": "stdout",
     "output_type": "stream",
     "text": [
      "Number of original events: 85\n",
      "Number of processed events: 1\n",
      "Number of sentences in original article: 6\n",
      "Number of sentences in summary: 1\n",
      "Number of original events: 100\n",
      "Number of processed events: 0\n"
     ]
    },
    {
     "name": "stderr",
     "output_type": "stream",
     "text": [
      "/home/carlos/MasterDS/tfm/scripts/extractive_summary/key_events.py:109: UserWarning: Could not perform tfidf\n",
      "  if len(summary_events) == 0 or len(processed_article_sentences) == 0:\n",
      "/home/carlos/MasterDS/tfm/scripts/extractive_summary/key_events_summary.py:196: UserWarning: Could not perform summary for https://matchcenter.mlssoccer.com/matchcenter/2018-04-29-colorado-rapids-vs-orlando-city-sc/feed\n",
      "  warnings.warn('Could not perform summary for {}'.format(match_url))\n"
     ]
    },
    {
     "name": "stdout",
     "output_type": "stream",
     "text": [
      "Number of original events: 96\n",
      "Number of processed events: 0\n"
     ]
    },
    {
     "name": "stderr",
     "output_type": "stream",
     "text": [
      "/home/carlos/MasterDS/tfm/scripts/extractive_summary/key_events_summary.py:196: UserWarning: Could not perform summary for https://matchcenter.mlssoccer.com/matchcenter/2018-03-24-fc-dallas-vs-portland-timbers/feed\n",
      "  warnings.warn('Could not perform summary for {}'.format(match_url))\n"
     ]
    },
    {
     "name": "stdout",
     "output_type": "stream",
     "text": [
      "Number of original events: 98\n",
      "Number of processed events: 0\n"
     ]
    },
    {
     "name": "stderr",
     "output_type": "stream",
     "text": [
      "/home/carlos/MasterDS/tfm/scripts/extractive_summary/key_events_summary.py:196: UserWarning: Could not perform summary for https://matchcenter.mlssoccer.com/matchcenter/2018-07-25-vancouver-whitecaps-fc-vs-montreal-impact/feed\n",
      "  warnings.warn('Could not perform summary for {}'.format(match_url))\n"
     ]
    },
    {
     "name": "stdout",
     "output_type": "stream",
     "text": [
      "Number of original events: 99\n",
      "Number of processed events: 0\n"
     ]
    },
    {
     "name": "stderr",
     "output_type": "stream",
     "text": [
      "/home/carlos/MasterDS/tfm/scripts/extractive_summary/key_events_summary.py:196: UserWarning: Could not perform summary for https://matchcenter.mlssoccer.com/matchcenter/2018-03-03-fc-dallas-vs-real-salt-lake/feed\n",
      "  warnings.warn('Could not perform summary for {}'.format(match_url))\n"
     ]
    },
    {
     "name": "stdout",
     "output_type": "stream",
     "text": [
      "Number of original events: 86\n",
      "Number of processed events: 0\n"
     ]
    },
    {
     "name": "stderr",
     "output_type": "stream",
     "text": [
      "/home/carlos/MasterDS/tfm/scripts/extractive_summary/key_events_summary.py:196: UserWarning: Could not perform summary for https://matchcenter.mlssoccer.com/matchcenter/2018-10-21-atlanta-united-fc-vs-chicago-fire/feed\n",
      "  warnings.warn('Could not perform summary for {}'.format(match_url))\n"
     ]
    },
    {
     "name": "stdout",
     "output_type": "stream",
     "text": [
      "Number of original events: 105\n",
      "Number of processed events: 0\n"
     ]
    },
    {
     "name": "stderr",
     "output_type": "stream",
     "text": [
      "/home/carlos/MasterDS/tfm/scripts/extractive_summary/key_events_summary.py:196: UserWarning: Could not perform summary for https://matchcenter.mlssoccer.com/matchcenter/2018-03-01-seattle-sounders-fc-vs-santa-tecla-fc/feed\n",
      "  warnings.warn('Could not perform summary for {}'.format(match_url))\n"
     ]
    },
    {
     "name": "stdout",
     "output_type": "stream",
     "text": [
      "Number of original events: 82\n",
      "Number of processed events: 0\n"
     ]
    },
    {
     "name": "stderr",
     "output_type": "stream",
     "text": [
      "/home/carlos/MasterDS/tfm/scripts/extractive_summary/key_events_summary.py:196: UserWarning: Could not perform summary for https://matchcenter.mlssoccer.com/matchcenter/2018-03-10-columbus-crew-sc-vs-montreal-impact/feed\n",
      "  warnings.warn('Could not perform summary for {}'.format(match_url))\n"
     ]
    },
    {
     "name": "stdout",
     "output_type": "stream",
     "text": [
      "Number of original events: 91\n",
      "Number of processed events: 0\n"
     ]
    },
    {
     "name": "stderr",
     "output_type": "stream",
     "text": [
      "/home/carlos/MasterDS/tfm/scripts/extractive_summary/key_events_summary.py:196: UserWarning: Could not perform summary for https://matchcenter.mlssoccer.com/matchcenter/2018-03-13-tigres-uanl-vs-toronto-fc/feed\n",
      "  warnings.warn('Could not perform summary for {}'.format(match_url))\n"
     ]
    },
    {
     "name": "stdout",
     "output_type": "stream",
     "text": [
      "Number of original events: 94\n",
      "Number of processed events: 0\n"
     ]
    },
    {
     "name": "stderr",
     "output_type": "stream",
     "text": [
      "/home/carlos/MasterDS/tfm/scripts/extractive_summary/key_events_summary.py:196: UserWarning: Could not perform summary for https://matchcenter.mlssoccer.com/matchcenter/2018-06-06-san-antonio-fc-vs-fc-dallas/feed\n",
      "  warnings.warn('Could not perform summary for {}'.format(match_url))\n"
     ]
    },
    {
     "name": "stdout",
     "output_type": "stream",
     "text": [
      "Number of original events: 82\n",
      "Number of processed events: 0\n"
     ]
    },
    {
     "name": "stderr",
     "output_type": "stream",
     "text": [
      "/home/carlos/MasterDS/tfm/scripts/extractive_summary/key_events_summary.py:196: UserWarning: Could not perform summary for https://matchcenter.mlssoccer.com/matchcenter/2018-08-15-toronto-fc-vs-vancouver-whitecaps-fc/feed\n",
      "  warnings.warn('Could not perform summary for {}'.format(match_url))\n"
     ]
    },
    {
     "name": "stdout",
     "output_type": "stream",
     "text": [
      "Number of original events: 97\n",
      "Number of processed events: 0\n"
     ]
    },
    {
     "name": "stderr",
     "output_type": "stream",
     "text": [
      "/home/carlos/MasterDS/tfm/scripts/extractive_summary/key_events_summary.py:196: UserWarning: Could not perform summary for https://matchcenter.mlssoccer.com/matchcenter/2018-10-06-atlanta-united-fc-vs-new-england-revolution/feed\n",
      "  warnings.warn('Could not perform summary for {}'.format(match_url))\n"
     ]
    },
    {
     "name": "stdout",
     "output_type": "stream",
     "text": [
      "Number of original events: 118\n",
      "Number of processed events: 0\n"
     ]
    },
    {
     "name": "stderr",
     "output_type": "stream",
     "text": [
      "/home/carlos/MasterDS/tfm/scripts/extractive_summary/key_events_summary.py:196: UserWarning: Could not perform summary for https://matchcenter.mlssoccer.com/matchcenter/2018-05-13-los-angeles-football-club-vs-new-york-city-fc/feed\n",
      "  warnings.warn('Could not perform summary for {}'.format(match_url))\n"
     ]
    },
    {
     "name": "stdout",
     "output_type": "stream",
     "text": [
      "Number of original events: 120\n",
      "Number of processed events: 0\n"
     ]
    },
    {
     "name": "stderr",
     "output_type": "stream",
     "text": [
      "/home/carlos/MasterDS/tfm/scripts/extractive_summary/key_events_summary.py:196: UserWarning: Could not perform summary for https://matchcenter.mlssoccer.com/matchcenter/2018-03-03-san-jose-earthquakes-vs-minnesota-united-fc/feed\n",
      "  warnings.warn('Could not perform summary for {}'.format(match_url))\n"
     ]
    },
    {
     "name": "stdout",
     "output_type": "stream",
     "text": [
      "Number of original events: 91\n",
      "Number of processed events: 1\n",
      "Number of sentences in original article: 7\n",
      "Number of sentences in summary: 1\n",
      "Number of original events: 81\n",
      "Number of processed events: 0\n"
     ]
    },
    {
     "name": "stderr",
     "output_type": "stream",
     "text": [
      "/home/carlos/MasterDS/tfm/scripts/extractive_summary/key_events.py:109: UserWarning: Could not perform tfidf\n",
      "  if len(summary_events) == 0 or len(processed_article_sentences) == 0:\n",
      "/home/carlos/MasterDS/tfm/scripts/extractive_summary/key_events_summary.py:196: UserWarning: Could not perform summary for https://matchcenter.mlssoccer.com/matchcenter/2018-03-24-columbus-crew-sc-vs-dc-united/feed\n",
      "  warnings.warn('Could not perform summary for {}'.format(match_url))\n"
     ]
    },
    {
     "name": "stdout",
     "output_type": "stream",
     "text": [
      "Number of original events: 112\n",
      "Number of processed events: 0\n"
     ]
    },
    {
     "name": "stderr",
     "output_type": "stream",
     "text": [
      "/home/carlos/MasterDS/tfm/scripts/extractive_summary/key_events_summary.py:196: UserWarning: Could not perform summary for https://matchcenter.mlssoccer.com/matchcenter/2018-05-05-sporting-kansas-city-vs-colorado-rapids/feed\n",
      "  warnings.warn('Could not perform summary for {}'.format(match_url))\n"
     ]
    },
    {
     "name": "stdout",
     "output_type": "stream",
     "text": [
      "Number of original events: 69\n",
      "Number of processed events: 0\n"
     ]
    },
    {
     "name": "stderr",
     "output_type": "stream",
     "text": [
      "/home/carlos/MasterDS/tfm/scripts/extractive_summary/key_events_summary.py:196: UserWarning: Could not perform summary for https://matchcenter.mlssoccer.com/matchcenter/2018-06-20-louisville-city-vs-nashville-sc/feed\n",
      "  warnings.warn('Could not perform summary for {}'.format(match_url))\n"
     ]
    },
    {
     "name": "stdout",
     "output_type": "stream",
     "text": [
      "Number of original events: 112\n",
      "Number of processed events: 0\n"
     ]
    },
    {
     "name": "stderr",
     "output_type": "stream",
     "text": [
      "/home/carlos/MasterDS/tfm/scripts/extractive_summary/key_events_summary.py:196: UserWarning: Could not perform summary for https://matchcenter.mlssoccer.com/matchcenter/2018-06-06-new-york-red-bulls-vs-new-york-city-fc/feed\n",
      "  warnings.warn('Could not perform summary for {}'.format(match_url))\n"
     ]
    },
    {
     "name": "stdout",
     "output_type": "stream",
     "text": [
      "Number of original events: 109\n",
      "Number of processed events: 0\n"
     ]
    },
    {
     "name": "stderr",
     "output_type": "stream",
     "text": [
      "/home/carlos/MasterDS/tfm/scripts/extractive_summary/key_events_summary.py:196: UserWarning: Could not perform summary for https://matchcenter.mlssoccer.com/matchcenter/2018-06-16-sporting-kansas-city-vs-fc-dallas/feed\n",
      "  warnings.warn('Could not perform summary for {}'.format(match_url))\n"
     ]
    },
    {
     "name": "stdout",
     "output_type": "stream",
     "text": [
      "Number of original events: 90\n",
      "Number of processed events: 2\n",
      "Number of sentences in original article: 7\n",
      "Number of sentences in summary: 2\n",
      "Number of original events: 94\n",
      "Number of processed events: 0\n"
     ]
    },
    {
     "name": "stderr",
     "output_type": "stream",
     "text": [
      "/home/carlos/MasterDS/tfm/scripts/extractive_summary/key_events.py:109: UserWarning: Could not perform tfidf\n",
      "  if len(summary_events) == 0 or len(processed_article_sentences) == 0:\n",
      "/home/carlos/MasterDS/tfm/scripts/extractive_summary/key_events_summary.py:196: UserWarning: Could not perform summary for https://matchcenter.mlssoccer.com/matchcenter/2018-10-28-new-york-city-fc-vs-philadelphia-union/feed\n",
      "  warnings.warn('Could not perform summary for {}'.format(match_url))\n"
     ]
    },
    {
     "name": "stdout",
     "output_type": "stream",
     "text": [
      "Number of original events: 110\n",
      "Number of processed events: 0\n"
     ]
    },
    {
     "name": "stderr",
     "output_type": "stream",
     "text": [
      "/home/carlos/MasterDS/tfm/scripts/extractive_summary/key_events_summary.py:196: UserWarning: Could not perform summary for https://matchcenter.mlssoccer.com/matchcenter/2018-03-01-new-york-red-bulls-vs-olimpia/feed\n",
      "  warnings.warn('Could not perform summary for {}'.format(match_url))\n"
     ]
    },
    {
     "name": "stdout",
     "output_type": "stream",
     "text": [
      "Number of original events: 79\n",
      "Number of processed events: 0\n"
     ]
    },
    {
     "name": "stderr",
     "output_type": "stream",
     "text": [
      "/home/carlos/MasterDS/tfm/scripts/extractive_summary/key_events_summary.py:196: UserWarning: Could not perform summary for https://matchcenter.mlssoccer.com/matchcenter/2018-09-11-us-mens-national-team-vs-mexico/feed\n",
      "  warnings.warn('Could not perform summary for {}'.format(match_url))\n"
     ]
    },
    {
     "name": "stdout",
     "output_type": "stream",
     "text": [
      "Number of original events: 88\n",
      "Number of processed events: 0\n"
     ]
    },
    {
     "name": "stderr",
     "output_type": "stream",
     "text": [
      "/home/carlos/MasterDS/tfm/scripts/extractive_summary/key_events_summary.py:196: UserWarning: Could not perform summary for https://matchcenter.mlssoccer.com/matchcenter/2018-02-22-santa-tecla-fc-vs-seattle-sounders-fc/feed\n",
      "  warnings.warn('Could not perform summary for {}'.format(match_url))\n"
     ]
    },
    {
     "name": "stdout",
     "output_type": "stream",
     "text": [
      "Number of original events: 81\n",
      "Number of processed events: 0\n"
     ]
    },
    {
     "name": "stderr",
     "output_type": "stream",
     "text": [
      "/home/carlos/MasterDS/tfm/scripts/extractive_summary/key_events_summary.py:196: UserWarning: Could not perform summary for https://matchcenter.mlssoccer.com/matchcenter/2018-05-05-chicago-fire-vs-atlanta-united-fc/feed\n",
      "  warnings.warn('Could not perform summary for {}'.format(match_url))\n"
     ]
    },
    {
     "name": "stdout",
     "output_type": "stream",
     "text": [
      "Number of original events: 99\n",
      "Number of processed events: 0\n"
     ]
    },
    {
     "name": "stderr",
     "output_type": "stream",
     "text": [
      "/home/carlos/MasterDS/tfm/scripts/extractive_summary/key_events_summary.py:196: UserWarning: Could not perform summary for https://matchcenter.mlssoccer.com/matchcenter/2018-03-10-new-york-red-bulls-vs-portland-timbers/feed\n",
      "  warnings.warn('Could not perform summary for {}'.format(match_url))\n"
     ]
    },
    {
     "name": "stdout",
     "output_type": "stream",
     "text": [
      "Number of original events: 108\n",
      "Number of processed events: 0\n"
     ]
    },
    {
     "name": "stderr",
     "output_type": "stream",
     "text": [
      "/home/carlos/MasterDS/tfm/scripts/extractive_summary/key_events_summary.py:196: UserWarning: Could not perform summary for https://matchcenter.mlssoccer.com/matchcenter/2018-06-30-columbus-crew-sc-vs-real-salt-lake/feed\n",
      "  warnings.warn('Could not perform summary for {}'.format(match_url))\n"
     ]
    },
    {
     "name": "stdout",
     "output_type": "stream",
     "text": [
      "Number of original events: 83\n",
      "Number of processed events: 0\n"
     ]
    },
    {
     "name": "stderr",
     "output_type": "stream",
     "text": [
      "/home/carlos/MasterDS/tfm/scripts/extractive_summary/key_events_summary.py:196: UserWarning: Could not perform summary for https://matchcenter.mlssoccer.com/matchcenter/2018-06-02-fc-dallas-vs-los-angeles-football-club/feed\n",
      "  warnings.warn('Could not perform summary for {}'.format(match_url))\n"
     ]
    },
    {
     "name": "stdout",
     "output_type": "stream",
     "text": [
      "Number of original events: 93\n",
      "Number of processed events: 0\n"
     ]
    },
    {
     "name": "stderr",
     "output_type": "stream",
     "text": [
      "/home/carlos/MasterDS/tfm/scripts/extractive_summary/key_events_summary.py:196: UserWarning: Could not perform summary for https://matchcenter.mlssoccer.com/matchcenter/2018-09-08-new-york-city-fc-vs-dc-united/feed\n",
      "  warnings.warn('Could not perform summary for {}'.format(match_url))\n"
     ]
    },
    {
     "name": "stdout",
     "output_type": "stream",
     "text": [
      "Number of original events: 96\n",
      "Number of processed events: 0\n"
     ]
    },
    {
     "name": "stderr",
     "output_type": "stream",
     "text": [
      "/home/carlos/MasterDS/tfm/scripts/extractive_summary/key_events_summary.py:196: UserWarning: Could not perform summary for https://matchcenter.mlssoccer.com/matchcenter/2018-06-23-los-angeles-football-club-vs-columbus-crew-sc/feed\n",
      "  warnings.warn('Could not perform summary for {}'.format(match_url))\n"
     ]
    },
    {
     "name": "stdout",
     "output_type": "stream",
     "text": [
      "Number of original events: 106\n",
      "Number of processed events: 0\n"
     ]
    },
    {
     "name": "stderr",
     "output_type": "stream",
     "text": [
      "/home/carlos/MasterDS/tfm/scripts/extractive_summary/key_events_summary.py:196: UserWarning: Could not perform summary for https://matchcenter.mlssoccer.com/matchcenter/2018-06-29-minnesota-united-fc-vs-fc-dallas/feed\n",
      "  warnings.warn('Could not perform summary for {}'.format(match_url))\n"
     ]
    },
    {
     "name": "stdout",
     "output_type": "stream",
     "text": [
      "Number of original events: 116\n",
      "Number of processed events: 1\n",
      "Number of sentences in original article: 7\n",
      "Number of sentences in summary: 1\n",
      "Number of original events: 86\n",
      "Number of processed events: 0\n"
     ]
    },
    {
     "name": "stderr",
     "output_type": "stream",
     "text": [
      "/home/carlos/MasterDS/tfm/scripts/extractive_summary/key_events.py:109: UserWarning: Could not perform tfidf\n",
      "  if len(summary_events) == 0 or len(processed_article_sentences) == 0:\n",
      "/home/carlos/MasterDS/tfm/scripts/extractive_summary/key_events_summary.py:196: UserWarning: Could not perform summary for https://matchcenter.mlssoccer.com/matchcenter/2018-04-21-new-york-red-bulls-vs-chicago-fire/feed\n",
      "  warnings.warn('Could not perform summary for {}'.format(match_url))\n"
     ]
    },
    {
     "name": "stdout",
     "output_type": "stream",
     "text": [
      "Number of original events: 86\n",
      "Number of processed events: 0\n"
     ]
    },
    {
     "name": "stderr",
     "output_type": "stream",
     "text": [
      "/home/carlos/MasterDS/tfm/scripts/extractive_summary/key_events_summary.py:196: UserWarning: Could not perform summary for https://matchcenter.mlssoccer.com/matchcenter/2018-03-24-vancouver-whitecaps-fc-vs-la-galaxy/feed\n",
      "  warnings.warn('Could not perform summary for {}'.format(match_url))\n"
     ]
    },
    {
     "name": "stdout",
     "output_type": "stream",
     "text": [
      "Number of original events: 107\n",
      "Number of processed events: 0\n"
     ]
    },
    {
     "name": "stderr",
     "output_type": "stream",
     "text": [
      "/home/carlos/MasterDS/tfm/scripts/extractive_summary/key_events_summary.py:196: UserWarning: Could not perform summary for https://matchcenter.mlssoccer.com/matchcenter/2018-03-13-new-york-red-bulls-vs-club-tijuana/feed\n",
      "  warnings.warn('Could not perform summary for {}'.format(match_url))\n"
     ]
    },
    {
     "name": "stdout",
     "output_type": "stream",
     "text": [
      "Number of original events: 98\n",
      "Number of processed events: 0\n"
     ]
    },
    {
     "name": "stderr",
     "output_type": "stream",
     "text": [
      "/home/carlos/MasterDS/tfm/scripts/extractive_summary/key_events_summary.py:196: UserWarning: Could not perform summary for https://matchcenter.mlssoccer.com/matchcenter/2018-04-27-vancouver-whitecaps-fc-vs-real-salt-lake/feed\n",
      "  warnings.warn('Could not perform summary for {}'.format(match_url))\n"
     ]
    },
    {
     "name": "stdout",
     "output_type": "stream",
     "text": [
      "Number of original events: 122\n",
      "Number of processed events: 0\n"
     ]
    },
    {
     "name": "stderr",
     "output_type": "stream",
     "text": [
      "/home/carlos/MasterDS/tfm/scripts/extractive_summary/key_events_summary.py:196: UserWarning: Could not perform summary for https://matchcenter.mlssoccer.com/matchcenter/2018-08-11-los-angeles-football-club-vs-sporting-kansas-city/feed\n",
      "  warnings.warn('Could not perform summary for {}'.format(match_url))\n"
     ]
    },
    {
     "name": "stdout",
     "output_type": "stream",
     "text": [
      "Number of original events: 108\n",
      "Number of processed events: 0\n"
     ]
    },
    {
     "name": "stderr",
     "output_type": "stream",
     "text": [
      "/home/carlos/MasterDS/tfm/scripts/extractive_summary/key_events_summary.py:196: UserWarning: Could not perform summary for https://matchcenter.mlssoccer.com/matchcenter/2018-09-22-minnesota-united-fc-vs-portland-timbers/feed\n",
      "  warnings.warn('Could not perform summary for {}'.format(match_url))\n"
     ]
    },
    {
     "name": "stdout",
     "output_type": "stream",
     "text": [
      "Number of original events: 98\n",
      "Number of processed events: 0\n"
     ]
    },
    {
     "name": "stderr",
     "output_type": "stream",
     "text": [
      "/home/carlos/MasterDS/tfm/scripts/extractive_summary/key_events_summary.py:196: UserWarning: Could not perform summary for https://matchcenter.mlssoccer.com/matchcenter/2018-03-10-chicago-fire-vs-sporting-kansas-city/feed\n",
      "  warnings.warn('Could not perform summary for {}'.format(match_url))\n"
     ]
    },
    {
     "name": "stdout",
     "output_type": "stream",
     "text": [
      "Number of original events: 97\n",
      "Number of processed events: 8\n",
      "Number of sentences in original article: 19\n",
      "Number of sentences in summary: 2\n",
      "Number of original events: 94\n",
      "Number of processed events: 0\n"
     ]
    },
    {
     "name": "stderr",
     "output_type": "stream",
     "text": [
      "/home/carlos/MasterDS/tfm/scripts/extractive_summary/key_events.py:109: UserWarning: Could not perform tfidf\n",
      "  if len(summary_events) == 0 or len(processed_article_sentences) == 0:\n",
      "/home/carlos/MasterDS/tfm/scripts/extractive_summary/key_events_summary.py:196: UserWarning: Could not perform summary for https://matchcenter.mlssoccer.com/matchcenter/2018-06-06-nashville-sc-vs-colorado-rapids/feed\n",
      "  warnings.warn('Could not perform summary for {}'.format(match_url))\n"
     ]
    },
    {
     "name": "stdout",
     "output_type": "stream",
     "text": [
      "Number of original events: 107\n",
      "Number of processed events: 1\n",
      "Number of sentences in original article: 12\n",
      "Number of sentences in summary: 1\n",
      "Number of original events: 105\n",
      "Number of processed events: 0\n"
     ]
    },
    {
     "name": "stderr",
     "output_type": "stream",
     "text": [
      "/home/carlos/MasterDS/tfm/scripts/extractive_summary/key_events.py:109: UserWarning: Could not perform tfidf\n",
      "  if len(summary_events) == 0 or len(processed_article_sentences) == 0:\n",
      "/home/carlos/MasterDS/tfm/scripts/extractive_summary/key_events_summary.py:196: UserWarning: Could not perform summary for https://matchcenter.mlssoccer.com/matchcenter/2018-05-09-chicago-fire-vs-montreal-impact/feed\n",
      "  warnings.warn('Could not perform summary for {}'.format(match_url))\n"
     ]
    },
    {
     "name": "stdout",
     "output_type": "stream",
     "text": [
      "Number of original events: 106\n",
      "Number of processed events: 0\n"
     ]
    },
    {
     "name": "stderr",
     "output_type": "stream",
     "text": [
      "/home/carlos/MasterDS/tfm/scripts/extractive_summary/key_events_summary.py:196: UserWarning: Could not perform summary for https://matchcenter.mlssoccer.com/matchcenter/2018-03-04-sporting-kansas-city-vs-new-york-city-fc/feed\n",
      "  warnings.warn('Could not perform summary for {}'.format(match_url))\n"
     ]
    },
    {
     "name": "stdout",
     "output_type": "stream",
     "text": [
      "Number of original events: 116\n",
      "Number of processed events: 1\n",
      "Number of sentences in original article: 8\n",
      "Number of sentences in summary: 1\n",
      "Number of original events: 68\n",
      "Number of processed events: 0\n"
     ]
    },
    {
     "name": "stderr",
     "output_type": "stream",
     "text": [
      "/home/carlos/MasterDS/tfm/scripts/extractive_summary/key_events.py:109: UserWarning: Could not perform tfidf\n",
      "  if len(summary_events) == 0 or len(processed_article_sentences) == 0:\n",
      "/home/carlos/MasterDS/tfm/scripts/extractive_summary/key_events_summary.py:196: UserWarning: Could not perform summary for https://matchcenter.mlssoccer.com/matchcenter/2018-07-04-minnesota-united-fc-vs-toronto-fc/feed\n",
      "  warnings.warn('Could not perform summary for {}'.format(match_url))\n"
     ]
    },
    {
     "name": "stdout",
     "output_type": "stream",
     "text": [
      "Number of original events: 88\n",
      "Number of processed events: 0\n"
     ]
    },
    {
     "name": "stderr",
     "output_type": "stream",
     "text": [
      "/home/carlos/MasterDS/tfm/scripts/extractive_summary/key_events_summary.py:196: UserWarning: Could not perform summary for https://matchcenter.mlssoccer.com/matchcenter/2018-07-29-seattle-sounders-fc-vs-new-york-city-fc/feed\n",
      "  warnings.warn('Could not perform summary for {}'.format(match_url))\n"
     ]
    },
    {
     "name": "stdout",
     "output_type": "stream",
     "text": [
      "Number of original events: 81\n",
      "Number of processed events: 0\n"
     ]
    },
    {
     "name": "stderr",
     "output_type": "stream",
     "text": [
      "/home/carlos/MasterDS/tfm/scripts/extractive_summary/key_events_summary.py:196: UserWarning: Could not perform summary for https://matchcenter.mlssoccer.com/matchcenter/2018-04-15-sporting-kansas-city-vs-seattle-sounders-fc/feed\n",
      "  warnings.warn('Could not perform summary for {}'.format(match_url))\n"
     ]
    },
    {
     "name": "stdout",
     "output_type": "stream",
     "text": [
      "Number of original events: 86\n",
      "Number of processed events: 0\n"
     ]
    },
    {
     "name": "stderr",
     "output_type": "stream",
     "text": [
      "/home/carlos/MasterDS/tfm/scripts/extractive_summary/key_events_summary.py:196: UserWarning: Could not perform summary for https://matchcenter.mlssoccer.com/matchcenter/2018-04-08-la-galaxy-vs-sporting-kansas-city/feed\n",
      "  warnings.warn('Could not perform summary for {}'.format(match_url))\n"
     ]
    },
    {
     "name": "stdout",
     "output_type": "stream",
     "text": [
      "Number of original events: 107\n",
      "Number of processed events: 0\n"
     ]
    },
    {
     "name": "stderr",
     "output_type": "stream",
     "text": [
      "/home/carlos/MasterDS/tfm/scripts/extractive_summary/key_events_summary.py:196: UserWarning: Could not perform summary for https://matchcenter.mlssoccer.com/matchcenter/2018-06-02-new-england-revolution-vs-new-york-red-bulls/feed\n",
      "  warnings.warn('Could not perform summary for {}'.format(match_url))\n"
     ]
    },
    {
     "name": "stdout",
     "output_type": "stream",
     "text": [
      "Number of original events: 74\n",
      "Number of processed events: 0\n"
     ]
    },
    {
     "name": "stderr",
     "output_type": "stream",
     "text": [
      "/home/carlos/MasterDS/tfm/scripts/extractive_summary/key_events_summary.py:196: UserWarning: Could not perform summary for https://matchcenter.mlssoccer.com/matchcenter/2018-06-13-columbus-crew-sc-vs-atlanta-united-fc/feed\n",
      "  warnings.warn('Could not perform summary for {}'.format(match_url))\n"
     ]
    },
    {
     "name": "stdout",
     "output_type": "stream",
     "text": [
      "Number of original events: 103\n",
      "Number of processed events: 1\n",
      "Number of sentences in original article: 9\n",
      "Number of sentences in summary: 1\n",
      "Number of original events: 104\n",
      "Number of processed events: 1\n",
      "Number of sentences in original article: 6\n",
      "Number of sentences in summary: 1\n",
      "Number of original events: 86\n",
      "Number of processed events: 0\n"
     ]
    },
    {
     "name": "stderr",
     "output_type": "stream",
     "text": [
      "/home/carlos/MasterDS/tfm/scripts/extractive_summary/key_events.py:109: UserWarning: Could not perform tfidf\n",
      "  if len(summary_events) == 0 or len(processed_article_sentences) == 0:\n",
      "/home/carlos/MasterDS/tfm/scripts/extractive_summary/key_events_summary.py:196: UserWarning: Could not perform summary for https://matchcenter.mlssoccer.com/matchcenter/2018-09-19-portland-timbers-vs-columbus-crew-sc/feed\n",
      "  warnings.warn('Could not perform summary for {}'.format(match_url))\n"
     ]
    },
    {
     "name": "stdout",
     "output_type": "stream",
     "text": [
      "Number of original events: 103\n",
      "Number of processed events: 0\n"
     ]
    },
    {
     "name": "stderr",
     "output_type": "stream",
     "text": [
      "/home/carlos/MasterDS/tfm/scripts/extractive_summary/key_events_summary.py:196: UserWarning: Could not perform summary for https://matchcenter.mlssoccer.com/matchcenter/2018-03-04-la-galaxy-vs-portland-timbers/feed\n",
      "  warnings.warn('Could not perform summary for {}'.format(match_url))\n"
     ]
    },
    {
     "name": "stdout",
     "output_type": "stream",
     "text": [
      "Number of original events: 89\n",
      "Number of processed events: 0\n"
     ]
    },
    {
     "name": "stderr",
     "output_type": "stream",
     "text": [
      "/home/carlos/MasterDS/tfm/scripts/extractive_summary/key_events_summary.py:196: UserWarning: Could not perform summary for https://matchcenter.mlssoccer.com/matchcenter/2018-03-31-sporting-kansas-city-vs-dc-united/feed\n",
      "  warnings.warn('Could not perform summary for {}'.format(match_url))\n"
     ]
    },
    {
     "name": "stdout",
     "output_type": "stream",
     "text": [
      "Number of original events: 87\n",
      "Number of processed events: 0\n"
     ]
    },
    {
     "name": "stderr",
     "output_type": "stream",
     "text": [
      "/home/carlos/MasterDS/tfm/scripts/extractive_summary/key_events_summary.py:196: UserWarning: Could not perform summary for https://matchcenter.mlssoccer.com/matchcenter/2018-08-23-houston-dynamo-vs-fc-dallas/feed\n",
      "  warnings.warn('Could not perform summary for {}'.format(match_url))\n"
     ]
    },
    {
     "name": "stdout",
     "output_type": "stream",
     "text": [
      "Number of original events: 78\n",
      "Number of processed events: 0\n"
     ]
    },
    {
     "name": "stderr",
     "output_type": "stream",
     "text": [
      "/home/carlos/MasterDS/tfm/scripts/extractive_summary/key_events_summary.py:196: UserWarning: Could not perform summary for https://matchcenter.mlssoccer.com/matchcenter/2018-09-15-fc-dallas-vs-columbus-crew-sc/feed\n",
      "  warnings.warn('Could not perform summary for {}'.format(match_url))\n"
     ]
    },
    {
     "name": "stdout",
     "output_type": "stream",
     "text": [
      "Number of original events: 69\n",
      "Number of processed events: 0\n"
     ]
    },
    {
     "name": "stderr",
     "output_type": "stream",
     "text": [
      "/home/carlos/MasterDS/tfm/scripts/extractive_summary/key_events_summary.py:196: UserWarning: Could not perform summary for https://matchcenter.mlssoccer.com/matchcenter/2018-06-30-atlanta-united-fc-vs-orlando-city-sc/feed\n",
      "  warnings.warn('Could not perform summary for {}'.format(match_url))\n"
     ]
    },
    {
     "name": "stdout",
     "output_type": "stream",
     "text": [
      "Number of original events: 78\n",
      "Number of processed events: 1\n",
      "Number of sentences in original article: 7\n",
      "Number of sentences in summary: 1\n",
      "Number of original events: 73\n",
      "Number of processed events: 0\n"
     ]
    },
    {
     "name": "stderr",
     "output_type": "stream",
     "text": [
      "/home/carlos/MasterDS/tfm/scripts/extractive_summary/key_events.py:109: UserWarning: Could not perform tfidf\n",
      "  if len(summary_events) == 0 or len(processed_article_sentences) == 0:\n",
      "/home/carlos/MasterDS/tfm/scripts/extractive_summary/key_events_summary.py:196: UserWarning: Could not perform summary for https://matchcenter.mlssoccer.com/matchcenter/2018-09-15-san-jose-earthquakes-vs-sporting-kansas-city/feed\n",
      "  warnings.warn('Could not perform summary for {}'.format(match_url))\n"
     ]
    },
    {
     "name": "stdout",
     "output_type": "stream",
     "text": [
      "Number of original events: 98\n",
      "Number of processed events: 1\n",
      "Number of sentences in original article: 7\n",
      "Number of sentences in summary: 1\n",
      "Number of original events: 74\n",
      "Number of processed events: 0\n"
     ]
    },
    {
     "name": "stderr",
     "output_type": "stream",
     "text": [
      "/home/carlos/MasterDS/tfm/scripts/extractive_summary/key_events.py:109: UserWarning: Could not perform tfidf\n",
      "  if len(summary_events) == 0 or len(processed_article_sentences) == 0:\n",
      "/home/carlos/MasterDS/tfm/scripts/extractive_summary/key_events_summary.py:196: UserWarning: Could not perform summary for https://matchcenter.mlssoccer.com/matchcenter/2018-07-14-colorado-rapids-vs-houston-dynamo/feed\n",
      "  warnings.warn('Could not perform summary for {}'.format(match_url))\n"
     ]
    },
    {
     "name": "stdout",
     "output_type": "stream",
     "text": [
      "Number of original events: 85\n",
      "Number of processed events: 0\n"
     ]
    },
    {
     "name": "stderr",
     "output_type": "stream",
     "text": [
      "/home/carlos/MasterDS/tfm/scripts/extractive_summary/key_events_summary.py:196: UserWarning: Could not perform summary for https://matchcenter.mlssoccer.com/matchcenter/2018-07-18-ottawa-fury-fc-vs-toronto-fc/feed\n",
      "  warnings.warn('Could not perform summary for {}'.format(match_url))\n"
     ]
    },
    {
     "name": "stdout",
     "output_type": "stream",
     "text": [
      "Number of original events: 70\n",
      "Number of processed events: 0\n"
     ]
    },
    {
     "name": "stderr",
     "output_type": "stream",
     "text": [
      "/home/carlos/MasterDS/tfm/scripts/extractive_summary/key_events_summary.py:196: UserWarning: Could not perform summary for https://matchcenter.mlssoccer.com/matchcenter/2018-09-09-us-virgin-islands-vs-canada/feed\n",
      "  warnings.warn('Could not perform summary for {}'.format(match_url))\n"
     ]
    },
    {
     "name": "stdout",
     "output_type": "stream",
     "text": [
      "Number of original events: 102\n",
      "Number of processed events: 0\n"
     ]
    },
    {
     "name": "stderr",
     "output_type": "stream",
     "text": [
      "/home/carlos/MasterDS/tfm/scripts/extractive_summary/key_events_summary.py:196: UserWarning: Could not perform summary for https://matchcenter.mlssoccer.com/matchcenter/2018-07-07-philadelphia-union-vs-atlanta-united-fc/feed\n",
      "  warnings.warn('Could not perform summary for {}'.format(match_url))\n"
     ]
    },
    {
     "name": "stdout",
     "output_type": "stream",
     "text": [
      "Number of original events: 104\n",
      "Number of processed events: 0\n"
     ]
    },
    {
     "name": "stderr",
     "output_type": "stream",
     "text": [
      "/home/carlos/MasterDS/tfm/scripts/extractive_summary/key_events_summary.py:196: UserWarning: Could not perform summary for https://matchcenter.mlssoccer.com/matchcenter/2018-09-12-dc-united-vs-minnesota-united-fc/feed\n",
      "  warnings.warn('Could not perform summary for {}'.format(match_url))\n"
     ]
    },
    {
     "name": "stdout",
     "output_type": "stream",
     "text": [
      "Number of original events: 83\n",
      "Number of processed events: 0\n"
     ]
    },
    {
     "name": "stderr",
     "output_type": "stream",
     "text": [
      "/home/carlos/MasterDS/tfm/scripts/extractive_summary/key_events_summary.py:196: UserWarning: Could not perform summary for https://matchcenter.mlssoccer.com/matchcenter/2018-10-06-toronto-fc-vs-vancouver-whitecaps-fc/feed\n",
      "  warnings.warn('Could not perform summary for {}'.format(match_url))\n"
     ]
    },
    {
     "name": "stdout",
     "output_type": "stream",
     "text": [
      "Number of original events: 114\n",
      "Number of processed events: 0\n"
     ]
    },
    {
     "name": "stderr",
     "output_type": "stream",
     "text": [
      "/home/carlos/MasterDS/tfm/scripts/extractive_summary/key_events_summary.py:196: UserWarning: Could not perform summary for https://matchcenter.mlssoccer.com/matchcenter/2018-08-18-houston-dynamo-vs-real-salt-lake/feed\n",
      "  warnings.warn('Could not perform summary for {}'.format(match_url))\n"
     ]
    },
    {
     "name": "stdout",
     "output_type": "stream",
     "text": [
      "Number of original events: 110\n",
      "Number of processed events: 0\n"
     ]
    },
    {
     "name": "stderr",
     "output_type": "stream",
     "text": [
      "/home/carlos/MasterDS/tfm/scripts/extractive_summary/key_events_summary.py:196: UserWarning: Could not perform summary for https://matchcenter.mlssoccer.com/matchcenter/2018-05-28-us-mens-national-team-vs-bolivia/feed\n",
      "  warnings.warn('Could not perform summary for {}'.format(match_url))\n"
     ]
    },
    {
     "name": "stdout",
     "output_type": "stream",
     "text": [
      "Number of original events: 98\n",
      "Number of processed events: 0\n"
     ]
    },
    {
     "name": "stderr",
     "output_type": "stream",
     "text": [
      "/home/carlos/MasterDS/tfm/scripts/extractive_summary/key_events_summary.py:196: UserWarning: Could not perform summary for https://matchcenter.mlssoccer.com/matchcenter/2018-07-14-orlando-city-sc-vs-toronto-fc/feed\n",
      "  warnings.warn('Could not perform summary for {}'.format(match_url))\n"
     ]
    },
    {
     "name": "stdout",
     "output_type": "stream",
     "text": [
      "Number of original events: 110\n",
      "Number of processed events: 0\n"
     ]
    },
    {
     "name": "stderr",
     "output_type": "stream",
     "text": [
      "/home/carlos/MasterDS/tfm/scripts/extractive_summary/key_events_summary.py:196: UserWarning: Could not perform summary for https://matchcenter.mlssoccer.com/matchcenter/2018-09-01-columbus-crew-sc-vs-new-york-city-fc/feed\n",
      "  warnings.warn('Could not perform summary for {}'.format(match_url))\n"
     ]
    },
    {
     "name": "stdout",
     "output_type": "stream",
     "text": [
      "Number of original events: 62\n",
      "Number of processed events: 0\n"
     ]
    },
    {
     "name": "stderr",
     "output_type": "stream",
     "text": [
      "/home/carlos/MasterDS/tfm/scripts/extractive_summary/key_events_summary.py:196: UserWarning: Could not perform summary for https://matchcenter.mlssoccer.com/matchcenter/2018-05-12-columbus-crew-sc-vs-chicago-fire/feed\n",
      "  warnings.warn('Could not perform summary for {}'.format(match_url))\n"
     ]
    },
    {
     "name": "stdout",
     "output_type": "stream",
     "text": [
      "Number of original events: 118\n",
      "Number of processed events: 0\n"
     ]
    },
    {
     "name": "stderr",
     "output_type": "stream",
     "text": [
      "/home/carlos/MasterDS/tfm/scripts/extractive_summary/key_events_summary.py:196: UserWarning: Could not perform summary for https://matchcenter.mlssoccer.com/matchcenter/2018-09-05-new-york-city-fc-vs-new-england-revolution/feed\n",
      "  warnings.warn('Could not perform summary for {}'.format(match_url))\n"
     ]
    },
    {
     "name": "stdout",
     "output_type": "stream",
     "text": [
      "Number of original events: 83\n",
      "Number of processed events: 0\n"
     ]
    },
    {
     "name": "stderr",
     "output_type": "stream",
     "text": [
      "/home/carlos/MasterDS/tfm/scripts/extractive_summary/key_events_summary.py:196: UserWarning: Could not perform summary for https://matchcenter.mlssoccer.com/matchcenter/2018-04-21-fc-dallas-vs-philadelphia-union/feed\n",
      "  warnings.warn('Could not perform summary for {}'.format(match_url))\n"
     ]
    },
    {
     "name": "stdout",
     "output_type": "stream",
     "text": [
      "Number of original events: 82\n",
      "Number of processed events: 0\n"
     ]
    },
    {
     "name": "stderr",
     "output_type": "stream",
     "text": [
      "/home/carlos/MasterDS/tfm/scripts/extractive_summary/key_events_summary.py:196: UserWarning: Could not perform summary for https://matchcenter.mlssoccer.com/matchcenter/2018-10-16-us-mens-national-team-vs-peru/feed\n",
      "  warnings.warn('Could not perform summary for {}'.format(match_url))\n"
     ]
    },
    {
     "name": "stdout",
     "output_type": "stream",
     "text": [
      "Number of original events: 96\n",
      "Number of processed events: 0\n"
     ]
    },
    {
     "name": "stderr",
     "output_type": "stream",
     "text": [
      "/home/carlos/MasterDS/tfm/scripts/extractive_summary/key_events_summary.py:196: UserWarning: Could not perform summary for https://matchcenter.mlssoccer.com/matchcenter/2018-03-03-philadelphia-union-vs-new-england-revolution/feed\n",
      "  warnings.warn('Could not perform summary for {}'.format(match_url))\n"
     ]
    },
    {
     "name": "stdout",
     "output_type": "stream",
     "text": [
      "Number of original events: 117\n",
      "Number of processed events: 0\n"
     ]
    },
    {
     "name": "stderr",
     "output_type": "stream",
     "text": [
      "/home/carlos/MasterDS/tfm/scripts/extractive_summary/key_events_summary.py:196: UserWarning: Could not perform summary for https://matchcenter.mlssoccer.com/matchcenter/2018-04-10-club-america-vs-toronto-fc/feed\n",
      "  warnings.warn('Could not perform summary for {}'.format(match_url))\n"
     ]
    },
    {
     "name": "stdout",
     "output_type": "stream",
     "text": [
      "Number of original events: 84\n",
      "Number of processed events: 0\n"
     ]
    },
    {
     "name": "stderr",
     "output_type": "stream",
     "text": [
      "/home/carlos/MasterDS/tfm/scripts/extractive_summary/key_events_summary.py:196: UserWarning: Could not perform summary for https://matchcenter.mlssoccer.com/matchcenter/2018-03-18-fc-dallas-vs-seattle-sounders-fc/feed\n",
      "  warnings.warn('Could not perform summary for {}'.format(match_url))\n"
     ]
    },
    {
     "name": "stdout",
     "output_type": "stream",
     "text": [
      "Number of original events: 87\n",
      "Number of processed events: 0\n"
     ]
    },
    {
     "name": "stderr",
     "output_type": "stream",
     "text": [
      "/home/carlos/MasterDS/tfm/scripts/extractive_summary/key_events_summary.py:196: UserWarning: Could not perform summary for https://matchcenter.mlssoccer.com/matchcenter/2018-07-21-atlanta-united-fc-vs-dc-united/feed\n",
      "  warnings.warn('Could not perform summary for {}'.format(match_url))\n"
     ]
    },
    {
     "name": "stdout",
     "output_type": "stream",
     "text": [
      "Number of original events: 87\n",
      "Number of processed events: 0\n"
     ]
    },
    {
     "name": "stderr",
     "output_type": "stream",
     "text": [
      "/home/carlos/MasterDS/tfm/scripts/extractive_summary/key_events_summary.py:196: UserWarning: Could not perform summary for https://matchcenter.mlssoccer.com/matchcenter/2018-07-14-new-england-revolution-vs-la-galaxy/feed\n",
      "  warnings.warn('Could not perform summary for {}'.format(match_url))\n"
     ]
    },
    {
     "name": "stdout",
     "output_type": "stream",
     "text": [
      "Number of original events: 107\n",
      "Number of processed events: 0\n"
     ]
    },
    {
     "name": "stderr",
     "output_type": "stream",
     "text": [
      "/home/carlos/MasterDS/tfm/scripts/extractive_summary/key_events_summary.py:196: UserWarning: Could not perform summary for https://matchcenter.mlssoccer.com/matchcenter/2018-06-09-san-jose-earthquakes-vs-los-angeles-football-club/feed\n",
      "  warnings.warn('Could not perform summary for {}'.format(match_url))\n"
     ]
    },
    {
     "name": "stdout",
     "output_type": "stream",
     "text": [
      "Number of original events: 113\n",
      "Number of processed events: 1\n",
      "Number of sentences in original article: 11\n",
      "Number of sentences in summary: 1\n",
      "Number of original events: 100\n",
      "Number of processed events: 0\n"
     ]
    },
    {
     "name": "stderr",
     "output_type": "stream",
     "text": [
      "/home/carlos/MasterDS/tfm/scripts/extractive_summary/key_events.py:109: UserWarning: Could not perform tfidf\n",
      "  if len(summary_events) == 0 or len(processed_article_sentences) == 0:\n",
      "/home/carlos/MasterDS/tfm/scripts/extractive_summary/key_events_summary.py:196: UserWarning: Could not perform summary for https://matchcenter.mlssoccer.com/matchcenter/2018-05-05-san-jose-earthquakes-vs-portland-timbers/feed\n",
      "  warnings.warn('Could not perform summary for {}'.format(match_url))\n"
     ]
    },
    {
     "name": "stdout",
     "output_type": "stream",
     "text": [
      "Number of original events: 111\n",
      "Number of processed events: 1\n",
      "Number of sentences in original article: 8\n",
      "Number of sentences in summary: 1\n",
      "Number of original events: 106\n",
      "Number of processed events: 0\n"
     ]
    },
    {
     "name": "stderr",
     "output_type": "stream",
     "text": [
      "/home/carlos/MasterDS/tfm/scripts/extractive_summary/key_events.py:109: UserWarning: Could not perform tfidf\n",
      "  if len(summary_events) == 0 or len(processed_article_sentences) == 0:\n",
      "/home/carlos/MasterDS/tfm/scripts/extractive_summary/key_events_summary.py:196: UserWarning: Could not perform summary for https://matchcenter.mlssoccer.com/matchcenter/2018-05-25-toronto-fc-vs-fc-dallas/feed\n",
      "  warnings.warn('Could not perform summary for {}'.format(match_url))\n"
     ]
    },
    {
     "name": "stdout",
     "output_type": "stream",
     "text": [
      "Number of original events: 97\n",
      "Number of processed events: 4\n",
      "Number of sentences in original article: 8\n",
      "Number of sentences in summary: 3\n",
      "Number of original events: 83\n",
      "Number of processed events: 1\n",
      "Number of sentences in original article: 9\n",
      "Number of sentences in summary: 1\n",
      "Number of original events: 106\n",
      "Number of processed events: 0\n"
     ]
    },
    {
     "name": "stderr",
     "output_type": "stream",
     "text": [
      "/home/carlos/MasterDS/tfm/scripts/extractive_summary/key_events.py:109: UserWarning: Could not perform tfidf\n",
      "  if len(summary_events) == 0 or len(processed_article_sentences) == 0:\n",
      "/home/carlos/MasterDS/tfm/scripts/extractive_summary/key_events_summary.py:196: UserWarning: Could not perform summary for https://matchcenter.mlssoccer.com/matchcenter/2018-05-26-vancouver-whitecaps-fc-vs-new-england-revolution/feed\n",
      "  warnings.warn('Could not perform summary for {}'.format(match_url))\n"
     ]
    },
    {
     "name": "stdout",
     "output_type": "stream",
     "text": [
      "Number of original events: 82\n",
      "Number of processed events: 0\n"
     ]
    },
    {
     "name": "stderr",
     "output_type": "stream",
     "text": [
      "/home/carlos/MasterDS/tfm/scripts/extractive_summary/key_events_summary.py:196: UserWarning: Could not perform summary for https://matchcenter.mlssoccer.com/matchcenter/2018-04-28-philadelphia-union-vs-dc-united/feed\n",
      "  warnings.warn('Could not perform summary for {}'.format(match_url))\n"
     ]
    },
    {
     "name": "stdout",
     "output_type": "stream",
     "text": [
      "Number of original events: 115\n",
      "Number of processed events: 0\n"
     ]
    },
    {
     "name": "stderr",
     "output_type": "stream",
     "text": [
      "/home/carlos/MasterDS/tfm/scripts/extractive_summary/key_events_summary.py:196: UserWarning: Could not perform summary for https://matchcenter.mlssoccer.com/matchcenter/2018-07-21-seattle-sounders-fc-vs-vancouver-whitecaps-fc/feed\n",
      "  warnings.warn('Could not perform summary for {}'.format(match_url))\n"
     ]
    },
    {
     "name": "stdout",
     "output_type": "stream",
     "text": [
      "Number of original events: 97\n",
      "Number of processed events: 0\n"
     ]
    },
    {
     "name": "stderr",
     "output_type": "stream",
     "text": [
      "/home/carlos/MasterDS/tfm/scripts/extractive_summary/key_events_summary.py:196: UserWarning: Could not perform summary for https://matchcenter.mlssoccer.com/matchcenter/2018-07-21-columbus-crew-sc-vs-orlando-city-sc/feed\n",
      "  warnings.warn('Could not perform summary for {}'.format(match_url))\n"
     ]
    },
    {
     "name": "stdout",
     "output_type": "stream",
     "text": [
      "Number of original events: 94\n",
      "Number of processed events: 0\n"
     ]
    },
    {
     "name": "stderr",
     "output_type": "stream",
     "text": [
      "/home/carlos/MasterDS/tfm/scripts/extractive_summary/key_events_summary.py:196: UserWarning: Could not perform summary for https://matchcenter.mlssoccer.com/matchcenter/2018-05-19-san-jose-earthquakes-vs-dc-united/feed\n",
      "  warnings.warn('Could not perform summary for {}'.format(match_url))\n"
     ]
    },
    {
     "name": "stdout",
     "output_type": "stream",
     "text": [
      "Number of original events: 85\n",
      "Number of processed events: 1\n",
      "Number of sentences in original article: 8\n",
      "Number of sentences in summary: 1\n",
      "Number of original events: 78\n",
      "Number of processed events: 0\n"
     ]
    },
    {
     "name": "stderr",
     "output_type": "stream",
     "text": [
      "/home/carlos/MasterDS/tfm/scripts/extractive_summary/key_events.py:109: UserWarning: Could not perform tfidf\n",
      "  if len(summary_events) == 0 or len(processed_article_sentences) == 0:\n",
      "/home/carlos/MasterDS/tfm/scripts/extractive_summary/key_events_summary.py:196: UserWarning: Could not perform summary for https://matchcenter.mlssoccer.com/matchcenter/2018-07-11-new-york-city-fc-vs-montreal-impact/feed\n",
      "  warnings.warn('Could not perform summary for {}'.format(match_url))\n"
     ]
    },
    {
     "name": "stdout",
     "output_type": "stream",
     "text": [
      "Number of original events: 92\n",
      "Number of processed events: 0\n"
     ]
    },
    {
     "name": "stderr",
     "output_type": "stream",
     "text": [
      "/home/carlos/MasterDS/tfm/scripts/extractive_summary/key_events_summary.py:196: UserWarning: Could not perform summary for https://matchcenter.mlssoccer.com/matchcenter/2018-06-02-real-salt-lake-vs-seattle-sounders-fc/feed\n",
      "  warnings.warn('Could not perform summary for {}'.format(match_url))\n"
     ]
    },
    {
     "name": "stdout",
     "output_type": "stream",
     "text": [
      "Number of original events: 104\n",
      "Number of processed events: 1\n",
      "Number of sentences in original article: 11\n",
      "Number of sentences in summary: 1\n",
      "Number of original events: 84\n",
      "Number of processed events: 0\n"
     ]
    },
    {
     "name": "stderr",
     "output_type": "stream",
     "text": [
      "/home/carlos/MasterDS/tfm/scripts/extractive_summary/key_events.py:109: UserWarning: Could not perform tfidf\n",
      "  if len(summary_events) == 0 or len(processed_article_sentences) == 0:\n",
      "/home/carlos/MasterDS/tfm/scripts/extractive_summary/key_events_summary.py:196: UserWarning: Could not perform summary for https://matchcenter.mlssoccer.com/matchcenter/2018-11-04-real-salt-lake-vs-sporting-kansas-city/feed\n",
      "  warnings.warn('Could not perform summary for {}'.format(match_url))\n"
     ]
    },
    {
     "name": "stdout",
     "output_type": "stream",
     "text": [
      "Number of original events: 86\n",
      "Number of processed events: 0\n"
     ]
    },
    {
     "name": "stderr",
     "output_type": "stream",
     "text": [
      "/home/carlos/MasterDS/tfm/scripts/extractive_summary/key_events_summary.py:196: UserWarning: Could not perform summary for https://matchcenter.mlssoccer.com/matchcenter/2018-10-21-san-jose-earthquakes-vs-colorado-rapids/feed\n",
      "  warnings.warn('Could not perform summary for {}'.format(match_url))\n"
     ]
    },
    {
     "name": "stdout",
     "output_type": "stream",
     "text": [
      "Number of original events: 104\n",
      "Number of processed events: 1\n",
      "Number of sentences in original article: 8\n",
      "Number of sentences in summary: 1\n",
      "Number of original events: 130\n",
      "Number of processed events: 13\n",
      "Number of sentences in original article: 11\n",
      "Number of sentences in summary: 2\n",
      "Number of original events: 108\n",
      "Number of processed events: 1\n",
      "Number of sentences in original article: 10\n",
      "Number of sentences in summary: 1\n",
      "Number of original events: 96\n",
      "Number of processed events: 1\n",
      "Number of sentences in original article: 9\n",
      "Number of sentences in summary: 1\n",
      "Number of original events: 87\n",
      "Number of processed events: 1\n",
      "Number of sentences in original article: 12\n",
      "Number of sentences in summary: 1\n",
      "Number of original events: 111\n",
      "Number of processed events: 0\n"
     ]
    },
    {
     "name": "stderr",
     "output_type": "stream",
     "text": [
      "/home/carlos/MasterDS/tfm/scripts/extractive_summary/key_events.py:109: UserWarning: Could not perform tfidf\n",
      "  if len(summary_events) == 0 or len(processed_article_sentences) == 0:\n",
      "/home/carlos/MasterDS/tfm/scripts/extractive_summary/key_events_summary.py:196: UserWarning: Could not perform summary for https://matchcenter.mlssoccer.com/matchcenter/2018-06-05-philadelphia-union-vs-richmond-kickers/feed\n",
      "  warnings.warn('Could not perform summary for {}'.format(match_url))\n"
     ]
    },
    {
     "name": "stdout",
     "output_type": "stream",
     "text": [
      "Number of original events: 102\n",
      "Number of processed events: 0\n"
     ]
    },
    {
     "name": "stderr",
     "output_type": "stream",
     "text": [
      "/home/carlos/MasterDS/tfm/scripts/extractive_summary/key_events_summary.py:196: UserWarning: Could not perform summary for https://matchcenter.mlssoccer.com/matchcenter/2018-09-29-la-galaxy-vs-vancouver-whitecaps-fc/feed\n",
      "  warnings.warn('Could not perform summary for {}'.format(match_url))\n"
     ]
    },
    {
     "name": "stdout",
     "output_type": "stream",
     "text": [
      "Number of original events: 78\n",
      "Number of processed events: 0\n"
     ]
    },
    {
     "name": "stderr",
     "output_type": "stream",
     "text": [
      "/home/carlos/MasterDS/tfm/scripts/extractive_summary/key_events_summary.py:196: UserWarning: Could not perform summary for https://matchcenter.mlssoccer.com/matchcenter/2018-07-07-vancouver-whitecaps-fc-vs-chicago-fire/feed\n",
      "  warnings.warn('Could not perform summary for {}'.format(match_url))\n"
     ]
    },
    {
     "name": "stdout",
     "output_type": "stream",
     "text": [
      "Number of original events: 102\n",
      "Number of processed events: 0\n"
     ]
    },
    {
     "name": "stderr",
     "output_type": "stream",
     "text": [
      "/home/carlos/MasterDS/tfm/scripts/extractive_summary/key_events_summary.py:196: UserWarning: Could not perform summary for https://matchcenter.mlssoccer.com/matchcenter/2018-11-11-atlanta-united-fc-vs-new-york-city-fc/feed\n",
      "  warnings.warn('Could not perform summary for {}'.format(match_url))\n"
     ]
    },
    {
     "name": "stdout",
     "output_type": "stream",
     "text": [
      "Number of original events: 98\n",
      "Number of processed events: 0\n"
     ]
    },
    {
     "name": "stderr",
     "output_type": "stream",
     "text": [
      "/home/carlos/MasterDS/tfm/scripts/extractive_summary/key_events_summary.py:196: UserWarning: Could not perform summary for https://matchcenter.mlssoccer.com/matchcenter/2018-07-18-houston-dynamo-vs-sporting-kansas-city/feed\n",
      "  warnings.warn('Could not perform summary for {}'.format(match_url))\n"
     ]
    },
    {
     "name": "stdout",
     "output_type": "stream",
     "text": [
      "Number of original events: 84\n",
      "Number of processed events: 0\n"
     ]
    },
    {
     "name": "stderr",
     "output_type": "stream",
     "text": [
      "/home/carlos/MasterDS/tfm/scripts/extractive_summary/key_events_summary.py:196: UserWarning: Could not perform summary for https://matchcenter.mlssoccer.com/matchcenter/2018-05-26-minnesota-united-fc-vs-montreal-impact/feed\n",
      "  warnings.warn('Could not perform summary for {}'.format(match_url))\n"
     ]
    },
    {
     "name": "stdout",
     "output_type": "stream",
     "text": [
      "Number of original events: 84\n",
      "Number of processed events: 0\n"
     ]
    },
    {
     "name": "stderr",
     "output_type": "stream",
     "text": [
      "/home/carlos/MasterDS/tfm/scripts/extractive_summary/key_events_summary.py:196: UserWarning: Could not perform summary for https://matchcenter.mlssoccer.com/matchcenter/2018-09-07-us-mens-national-team-vs-brazil/feed\n",
      "  warnings.warn('Could not perform summary for {}'.format(match_url))\n"
     ]
    },
    {
     "name": "stdout",
     "output_type": "stream",
     "text": [
      "Number of original events: 119\n",
      "Number of processed events: 0\n"
     ]
    },
    {
     "name": "stderr",
     "output_type": "stream",
     "text": [
      "/home/carlos/MasterDS/tfm/scripts/extractive_summary/key_events_summary.py:196: UserWarning: Could not perform summary for https://matchcenter.mlssoccer.com/matchcenter/2018-04-29-new-york-city-fc-vs-fc-dallas/feed\n",
      "  warnings.warn('Could not perform summary for {}'.format(match_url))\n"
     ]
    },
    {
     "name": "stdout",
     "output_type": "stream",
     "text": [
      "Number of original events: 92\n",
      "Number of processed events: 0\n"
     ]
    },
    {
     "name": "stderr",
     "output_type": "stream",
     "text": [
      "/home/carlos/MasterDS/tfm/scripts/extractive_summary/key_events_summary.py:196: UserWarning: Could not perform summary for https://matchcenter.mlssoccer.com/matchcenter/2018-04-14-new-york-red-bulls-vs-montreal-impact/feed\n",
      "  warnings.warn('Could not perform summary for {}'.format(match_url))\n"
     ]
    },
    {
     "name": "stdout",
     "output_type": "stream",
     "text": [
      "Number of original events: 75\n",
      "Number of processed events: 0\n"
     ]
    },
    {
     "name": "stderr",
     "output_type": "stream",
     "text": [
      "/home/carlos/MasterDS/tfm/scripts/extractive_summary/key_events_summary.py:196: UserWarning: Could not perform summary for https://matchcenter.mlssoccer.com/matchcenter/2018-06-06-portland-timbers-vs-san-jose-earthquakes/feed\n",
      "  warnings.warn('Could not perform summary for {}'.format(match_url))\n"
     ]
    },
    {
     "name": "stdout",
     "output_type": "stream",
     "text": [
      "Number of original events: 75\n",
      "Number of processed events: 0\n"
     ]
    },
    {
     "name": "stderr",
     "output_type": "stream",
     "text": [
      "/home/carlos/MasterDS/tfm/scripts/extractive_summary/key_events_summary.py:196: UserWarning: Could not perform summary for https://matchcenter.mlssoccer.com/matchcenter/2018-08-23-chicago-fire-vs-columbus-crew-sc/feed\n",
      "  warnings.warn('Could not perform summary for {}'.format(match_url))\n"
     ]
    },
    {
     "name": "stdout",
     "output_type": "stream",
     "text": [
      "Number of original events: 88\n",
      "Number of processed events: 0\n"
     ]
    },
    {
     "name": "stderr",
     "output_type": "stream",
     "text": [
      "/home/carlos/MasterDS/tfm/scripts/extractive_summary/key_events_summary.py:196: UserWarning: Could not perform summary for https://matchcenter.mlssoccer.com/matchcenter/2018-07-28-vancouver-whitecaps-fc-vs-minnesota-united-fc/feed\n",
      "  warnings.warn('Could not perform summary for {}'.format(match_url))\n"
     ]
    },
    {
     "name": "stdout",
     "output_type": "stream",
     "text": [
      "Number of original events: 91\n",
      "Number of processed events: 1\n",
      "Number of sentences in original article: 9\n",
      "Number of sentences in summary: 1\n",
      "Number of original events: 85\n",
      "Number of processed events: 1\n",
      "Number of sentences in original article: 7\n",
      "Number of sentences in summary: 1\n",
      "Number of original events: 101\n",
      "Number of processed events: 0\n"
     ]
    },
    {
     "name": "stderr",
     "output_type": "stream",
     "text": [
      "/home/carlos/MasterDS/tfm/scripts/extractive_summary/key_events.py:109: UserWarning: Could not perform tfidf\n",
      "  if len(summary_events) == 0 or len(processed_article_sentences) == 0:\n",
      "/home/carlos/MasterDS/tfm/scripts/extractive_summary/key_events_summary.py:196: UserWarning: Could not perform summary for https://matchcenter.mlssoccer.com/matchcenter/2018-10-31-new-york-city-fc-vs-philadelphia-union/feed\n",
      "  warnings.warn('Could not perform summary for {}'.format(match_url))\n"
     ]
    },
    {
     "name": "stdout",
     "output_type": "stream",
     "text": [
      "Number of original events: 121\n",
      "Number of processed events: 0\n"
     ]
    },
    {
     "name": "stderr",
     "output_type": "stream",
     "text": [
      "/home/carlos/MasterDS/tfm/scripts/extractive_summary/key_events_summary.py:196: UserWarning: Could not perform summary for https://matchcenter.mlssoccer.com/matchcenter/2018-07-01-toronto-fc-vs-new-york-red-bulls/feed\n",
      "  warnings.warn('Could not perform summary for {}'.format(match_url))\n"
     ]
    },
    {
     "name": "stdout",
     "output_type": "stream",
     "text": [
      "Number of original events: 80\n",
      "Number of processed events: 0\n"
     ]
    },
    {
     "name": "stderr",
     "output_type": "stream",
     "text": [
      "/home/carlos/MasterDS/tfm/scripts/extractive_summary/key_events_summary.py:196: UserWarning: Could not perform summary for https://matchcenter.mlssoccer.com/matchcenter/2018-09-22-atlanta-united-fc-vs-real-salt-lake/feed\n",
      "  warnings.warn('Could not perform summary for {}'.format(match_url))\n"
     ]
    },
    {
     "name": "stdout",
     "output_type": "stream",
     "text": [
      "Number of original events: 120\n",
      "Number of processed events: 0\n"
     ]
    },
    {
     "name": "stderr",
     "output_type": "stream",
     "text": [
      "/home/carlos/MasterDS/tfm/scripts/extractive_summary/key_events_summary.py:196: UserWarning: Could not perform summary for https://matchcenter.mlssoccer.com/matchcenter/2018-05-09-los-angeles-football-club-vs-minnesota-united-fc/feed\n",
      "  warnings.warn('Could not perform summary for {}'.format(match_url))\n"
     ]
    },
    {
     "name": "stdout",
     "output_type": "stream",
     "text": [
      "Number of original events: 92\n",
      "Number of processed events: 0\n"
     ]
    },
    {
     "name": "stderr",
     "output_type": "stream",
     "text": [
      "/home/carlos/MasterDS/tfm/scripts/extractive_summary/key_events_summary.py:196: UserWarning: Could not perform summary for https://matchcenter.mlssoccer.com/matchcenter/2018-03-17-montreal-impact-vs-toronto-fc/feed\n",
      "  warnings.warn('Could not perform summary for {}'.format(match_url))\n"
     ]
    },
    {
     "name": "stdout",
     "output_type": "stream",
     "text": [
      "Number of original events: 99\n",
      "Number of processed events: 0\n"
     ]
    },
    {
     "name": "stderr",
     "output_type": "stream",
     "text": [
      "/home/carlos/MasterDS/tfm/scripts/extractive_summary/key_events_summary.py:196: UserWarning: Could not perform summary for https://matchcenter.mlssoccer.com/matchcenter/2018-04-03-toronto-fc-vs-club-america/feed\n",
      "  warnings.warn('Could not perform summary for {}'.format(match_url))\n"
     ]
    },
    {
     "name": "stdout",
     "output_type": "stream",
     "text": [
      "Number of original events: 100\n",
      "Number of processed events: 0\n"
     ]
    },
    {
     "name": "stderr",
     "output_type": "stream",
     "text": [
      "/home/carlos/MasterDS/tfm/scripts/extractive_summary/key_events_summary.py:196: UserWarning: Could not perform summary for https://matchcenter.mlssoccer.com/matchcenter/2018-05-19-fc-dallas-vs-vancouver-whitecaps-fc/feed\n",
      "  warnings.warn('Could not perform summary for {}'.format(match_url))\n"
     ]
    },
    {
     "name": "stdout",
     "output_type": "stream",
     "text": [
      "Number of original events: 101\n",
      "Number of processed events: 0\n"
     ]
    },
    {
     "name": "stderr",
     "output_type": "stream",
     "text": [
      "/home/carlos/MasterDS/tfm/scripts/extractive_summary/key_events_summary.py:196: UserWarning: Could not perform summary for https://matchcenter.mlssoccer.com/matchcenter/2018-06-06-la-galaxy-vs-golden-state-force/feed\n",
      "  warnings.warn('Could not perform summary for {}'.format(match_url))\n"
     ]
    },
    {
     "name": "stdout",
     "output_type": "stream",
     "text": [
      "Number of original events: 99\n",
      "Number of processed events: 1\n",
      "Number of sentences in original article: 15\n",
      "Number of sentences in summary: 1\n",
      "Number of original events: 79\n",
      "Number of processed events: 0\n"
     ]
    },
    {
     "name": "stderr",
     "output_type": "stream",
     "text": [
      "/home/carlos/MasterDS/tfm/scripts/extractive_summary/key_events.py:109: UserWarning: Could not perform tfidf\n",
      "  if len(summary_events) == 0 or len(processed_article_sentences) == 0:\n",
      "/home/carlos/MasterDS/tfm/scripts/extractive_summary/key_events_summary.py:196: UserWarning: Could not perform summary for https://matchcenter.mlssoccer.com/matchcenter/2018-06-13-toronto-fc-vs-dc-united/feed\n",
      "  warnings.warn('Could not perform summary for {}'.format(match_url))\n"
     ]
    },
    {
     "name": "stdout",
     "output_type": "stream",
     "text": [
      "Number of original events: 108\n",
      "Number of processed events: 1\n",
      "Number of sentences in original article: 8\n",
      "Number of sentences in summary: 1\n",
      "Number of original events: 96\n",
      "Number of processed events: 1\n",
      "Number of sentences in original article: 7\n",
      "Number of sentences in summary: 1\n",
      "Number of original events: 85\n",
      "Number of processed events: 0\n"
     ]
    },
    {
     "name": "stderr",
     "output_type": "stream",
     "text": [
      "/home/carlos/MasterDS/tfm/scripts/extractive_summary/key_events.py:109: UserWarning: Could not perform tfidf\n",
      "  if len(summary_events) == 0 or len(processed_article_sentences) == 0:\n",
      "/home/carlos/MasterDS/tfm/scripts/extractive_summary/key_events_summary.py:196: UserWarning: Could not perform summary for https://matchcenter.mlssoccer.com/matchcenter/2018-09-08-sporting-kansas-city-vs-orlando-city-sc/feed\n",
      "  warnings.warn('Could not perform summary for {}'.format(match_url))\n"
     ]
    },
    {
     "name": "stdout",
     "output_type": "stream",
     "text": [
      "Number of original events: 85\n",
      "Number of processed events: 0\n"
     ]
    },
    {
     "name": "stderr",
     "output_type": "stream",
     "text": [
      "/home/carlos/MasterDS/tfm/scripts/extractive_summary/key_events_summary.py:196: UserWarning: Could not perform summary for https://matchcenter.mlssoccer.com/matchcenter/2018-10-28-colorado-rapids-vs-fc-dallas/feed\n",
      "  warnings.warn('Could not perform summary for {}'.format(match_url))\n"
     ]
    },
    {
     "name": "stdout",
     "output_type": "stream",
     "text": [
      "Number of original events: 92\n",
      "Number of processed events: 0\n"
     ]
    },
    {
     "name": "stderr",
     "output_type": "stream",
     "text": [
      "/home/carlos/MasterDS/tfm/scripts/extractive_summary/key_events_summary.py:196: UserWarning: Could not perform summary for https://matchcenter.mlssoccer.com/matchcenter/2018-09-16-chicago-fire-vs-orlando-city-sc/feed\n",
      "  warnings.warn('Could not perform summary for {}'.format(match_url))\n"
     ]
    },
    {
     "name": "stdout",
     "output_type": "stream",
     "text": [
      "Number of original events: 74\n",
      "Number of processed events: 0\n"
     ]
    },
    {
     "name": "stderr",
     "output_type": "stream",
     "text": [
      "/home/carlos/MasterDS/tfm/scripts/extractive_summary/key_events_summary.py:196: UserWarning: Could not perform summary for https://matchcenter.mlssoccer.com/matchcenter/2018-09-23-la-galaxy-vs-seattle-sounders-fc/feed\n",
      "  warnings.warn('Could not perform summary for {}'.format(match_url))\n"
     ]
    },
    {
     "name": "stdout",
     "output_type": "stream",
     "text": [
      "Number of original events: 85\n",
      "Number of processed events: 0\n"
     ]
    },
    {
     "name": "stderr",
     "output_type": "stream",
     "text": [
      "/home/carlos/MasterDS/tfm/scripts/extractive_summary/key_events_summary.py:196: UserWarning: Could not perform summary for https://matchcenter.mlssoccer.com/matchcenter/2018-10-28-columbus-crew-sc-vs-minnesota-united-fc/feed\n",
      "  warnings.warn('Could not perform summary for {}'.format(match_url))\n"
     ]
    },
    {
     "name": "stdout",
     "output_type": "stream",
     "text": [
      "Number of original events: 107\n",
      "Number of processed events: 0\n"
     ]
    },
    {
     "name": "stderr",
     "output_type": "stream",
     "text": [
      "/home/carlos/MasterDS/tfm/scripts/extractive_summary/key_events_summary.py:196: UserWarning: Could not perform summary for https://matchcenter.mlssoccer.com/matchcenter/2018-05-19-portland-timbers-vs-los-angeles-football-club/feed\n",
      "  warnings.warn('Could not perform summary for {}'.format(match_url))\n"
     ]
    },
    {
     "name": "stdout",
     "output_type": "stream",
     "text": [
      "Number of original events: 102\n",
      "Number of processed events: 0\n"
     ]
    },
    {
     "name": "stderr",
     "output_type": "stream",
     "text": [
      "/home/carlos/MasterDS/tfm/scripts/extractive_summary/key_events_summary.py:196: UserWarning: Could not perform summary for https://matchcenter.mlssoccer.com/matchcenter/2018-07-18-chicago-fire-vs-louisville-city/feed\n",
      "  warnings.warn('Could not perform summary for {}'.format(match_url))\n"
     ]
    },
    {
     "name": "stdout",
     "output_type": "stream",
     "text": [
      "Number of original events: 89\n",
      "Number of processed events: 0\n"
     ]
    },
    {
     "name": "stderr",
     "output_type": "stream",
     "text": [
      "/home/carlos/MasterDS/tfm/scripts/extractive_summary/key_events_summary.py:196: UserWarning: Could not perform summary for https://matchcenter.mlssoccer.com/matchcenter/2018-08-12-seattle-sounders-fc-vs-fc-dallas/feed\n",
      "  warnings.warn('Could not perform summary for {}'.format(match_url))\n"
     ]
    },
    {
     "name": "stdout",
     "output_type": "stream",
     "text": [
      "Number of original events: 109\n",
      "Number of processed events: 0\n"
     ]
    },
    {
     "name": "stderr",
     "output_type": "stream",
     "text": [
      "/home/carlos/MasterDS/tfm/scripts/extractive_summary/key_events_summary.py:196: UserWarning: Could not perform summary for https://matchcenter.mlssoccer.com/matchcenter/2018-05-12-minnesota-united-fc-vs-san-jose-earthquakes/feed\n",
      "  warnings.warn('Could not perform summary for {}'.format(match_url))\n"
     ]
    },
    {
     "name": "stdout",
     "output_type": "stream",
     "text": [
      "Number of original events: 96\n",
      "Number of processed events: 0\n"
     ]
    },
    {
     "name": "stderr",
     "output_type": "stream",
     "text": [
      "/home/carlos/MasterDS/tfm/scripts/extractive_summary/key_events_summary.py:196: UserWarning: Could not perform summary for https://matchcenter.mlssoccer.com/matchcenter/2018-09-29-houston-dynamo-vs-san-jose-earthquakes/feed\n",
      "  warnings.warn('Could not perform summary for {}'.format(match_url))\n"
     ]
    },
    {
     "name": "stdout",
     "output_type": "stream",
     "text": [
      "Number of original events: 103\n",
      "Number of processed events: 0\n"
     ]
    },
    {
     "name": "stderr",
     "output_type": "stream",
     "text": [
      "/home/carlos/MasterDS/tfm/scripts/extractive_summary/key_events_summary.py:196: UserWarning: Could not perform summary for https://matchcenter.mlssoccer.com/matchcenter/2018-05-12-fc-dallas-vs-la-galaxy/feed\n",
      "  warnings.warn('Could not perform summary for {}'.format(match_url))\n"
     ]
    },
    {
     "name": "stdout",
     "output_type": "stream",
     "text": [
      "Number of original events: 92\n",
      "Number of processed events: 1\n",
      "Number of sentences in original article: 9\n",
      "Number of sentences in summary: 1\n",
      "Number of original events: 88\n",
      "Number of processed events: 0\n"
     ]
    },
    {
     "name": "stderr",
     "output_type": "stream",
     "text": [
      "/home/carlos/MasterDS/tfm/scripts/extractive_summary/key_events.py:109: UserWarning: Could not perform tfidf\n",
      "  if len(summary_events) == 0 or len(processed_article_sentences) == 0:\n",
      "/home/carlos/MasterDS/tfm/scripts/extractive_summary/key_events_summary.py:196: UserWarning: Could not perform summary for https://matchcenter.mlssoccer.com/matchcenter/2018-08-04-real-salt-lake-vs-chicago-fire/feed\n",
      "  warnings.warn('Could not perform summary for {}'.format(match_url))\n"
     ]
    },
    {
     "name": "stdout",
     "output_type": "stream",
     "text": [
      "Number of original events: 104\n",
      "Number of processed events: 0\n"
     ]
    },
    {
     "name": "stderr",
     "output_type": "stream",
     "text": [
      "/home/carlos/MasterDS/tfm/scripts/extractive_summary/key_events_summary.py:196: UserWarning: Could not perform summary for https://matchcenter.mlssoccer.com/matchcenter/2018-11-01-los-angeles-football-club-vs-real-salt-lake/feed\n",
      "  warnings.warn('Could not perform summary for {}'.format(match_url))\n"
     ]
    },
    {
     "name": "stdout",
     "output_type": "stream",
     "text": [
      "Number of original events: 112\n",
      "Number of processed events: 0\n"
     ]
    },
    {
     "name": "stderr",
     "output_type": "stream",
     "text": [
      "/home/carlos/MasterDS/tfm/scripts/extractive_summary/key_events_summary.py:196: UserWarning: Could not perform summary for https://matchcenter.mlssoccer.com/matchcenter/2018-10-21-fc-dallas-vs-sporting-kansas-city/feed\n",
      "  warnings.warn('Could not perform summary for {}'.format(match_url))\n"
     ]
    },
    {
     "name": "stdout",
     "output_type": "stream",
     "text": [
      "Number of original events: 71\n",
      "Number of processed events: 0\n"
     ]
    },
    {
     "name": "stderr",
     "output_type": "stream",
     "text": [
      "/home/carlos/MasterDS/tfm/scripts/extractive_summary/key_events_summary.py:196: UserWarning: Could not perform summary for https://matchcenter.mlssoccer.com/matchcenter/2018-08-29-san-jose-earthquakes-vs-fc-dallas/feed\n",
      "  warnings.warn('Could not perform summary for {}'.format(match_url))\n"
     ]
    },
    {
     "name": "stdout",
     "output_type": "stream",
     "text": [
      "Number of original events: 101\n",
      "Number of processed events: 1\n",
      "Number of sentences in original article: 6\n",
      "Number of sentences in summary: 1\n",
      "Number of original events: 104\n",
      "Number of processed events: 0\n"
     ]
    },
    {
     "name": "stderr",
     "output_type": "stream",
     "text": [
      "/home/carlos/MasterDS/tfm/scripts/extractive_summary/key_events.py:109: UserWarning: Could not perform tfidf\n",
      "  if len(summary_events) == 0 or len(processed_article_sentences) == 0:\n",
      "/home/carlos/MasterDS/tfm/scripts/extractive_summary/key_events_summary.py:196: UserWarning: Could not perform summary for https://matchcenter.mlssoccer.com/matchcenter/2018-08-18-philadelphia-union-vs-new-york-city-fc/feed\n",
      "  warnings.warn('Could not perform summary for {}'.format(match_url))\n"
     ]
    },
    {
     "name": "stdout",
     "output_type": "stream",
     "text": [
      "Number of original events: 77\n",
      "Number of processed events: 1\n",
      "Number of sentences in original article: 8\n",
      "Number of sentences in summary: 1\n",
      "Number of original events: 111\n",
      "Number of processed events: 6\n",
      "Number of sentences in original article: 15\n",
      "Number of sentences in summary: 1\n",
      "Number of original events: 78\n",
      "Number of processed events: 0\n"
     ]
    },
    {
     "name": "stderr",
     "output_type": "stream",
     "text": [
      "/home/carlos/MasterDS/tfm/scripts/extractive_summary/key_events.py:109: UserWarning: Could not perform tfidf\n",
      "  if len(summary_events) == 0 or len(processed_article_sentences) == 0:\n",
      "/home/carlos/MasterDS/tfm/scripts/extractive_summary/key_events_summary.py:196: UserWarning: Could not perform summary for https://matchcenter.mlssoccer.com/matchcenter/2018-09-22-los-angeles-football-club-vs-san-jose-earthquakes/feed\n",
      "  warnings.warn('Could not perform summary for {}'.format(match_url))\n"
     ]
    },
    {
     "name": "stdout",
     "output_type": "stream",
     "text": [
      "Number of original events: 77\n",
      "Number of processed events: 1\n",
      "Number of sentences in original article: 9\n",
      "Number of sentences in summary: 1\n",
      "Number of original events: 70\n",
      "Number of processed events: 0\n"
     ]
    },
    {
     "name": "stderr",
     "output_type": "stream",
     "text": [
      "/home/carlos/MasterDS/tfm/scripts/extractive_summary/key_events.py:109: UserWarning: Could not perform tfidf\n",
      "  if len(summary_events) == 0 or len(processed_article_sentences) == 0:\n",
      "/home/carlos/MasterDS/tfm/scripts/extractive_summary/key_events_summary.py:196: UserWarning: Could not perform summary for https://matchcenter.mlssoccer.com/matchcenter/2018-08-05-new-york-red-bulls-vs-los-angeles-football-club/feed\n",
      "  warnings.warn('Could not perform summary for {}'.format(match_url))\n"
     ]
    },
    {
     "name": "stdout",
     "output_type": "stream",
     "text": [
      "Number of original events: 110\n",
      "Number of processed events: 0\n"
     ]
    },
    {
     "name": "stderr",
     "output_type": "stream",
     "text": [
      "/home/carlos/MasterDS/tfm/scripts/extractive_summary/key_events_summary.py:196: UserWarning: Could not perform summary for https://matchcenter.mlssoccer.com/matchcenter/2018-07-28-dc-united-vs-colorado-rapids/feed\n",
      "  warnings.warn('Could not perform summary for {}'.format(match_url))\n"
     ]
    },
    {
     "name": "stdout",
     "output_type": "stream",
     "text": [
      "Number of original events: 78\n",
      "Number of processed events: 0\n"
     ]
    },
    {
     "name": "stderr",
     "output_type": "stream",
     "text": [
      "/home/carlos/MasterDS/tfm/scripts/extractive_summary/key_events_summary.py:196: UserWarning: Could not perform summary for https://matchcenter.mlssoccer.com/matchcenter/2018-10-11-us-mens-national-team-vs-colombia/feed\n",
      "  warnings.warn('Could not perform summary for {}'.format(match_url))\n"
     ]
    },
    {
     "name": "stdout",
     "output_type": "stream",
     "text": [
      "Number of original events: 106\n",
      "Number of processed events: 0\n"
     ]
    },
    {
     "name": "stderr",
     "output_type": "stream",
     "text": [
      "/home/carlos/MasterDS/tfm/scripts/extractive_summary/key_events_summary.py:196: UserWarning: Could not perform summary for https://matchcenter.mlssoccer.com/matchcenter/2018-08-04-new-york-city-fc-vs-vancouver-whitecaps-fc/feed\n",
      "  warnings.warn('Could not perform summary for {}'.format(match_url))\n"
     ]
    },
    {
     "name": "stdout",
     "output_type": "stream",
     "text": [
      "Number of original events: 77\n",
      "Number of processed events: 0\n"
     ]
    },
    {
     "name": "stderr",
     "output_type": "stream",
     "text": [
      "/home/carlos/MasterDS/tfm/scripts/extractive_summary/key_events_summary.py:196: UserWarning: Could not perform summary for https://matchcenter.mlssoccer.com/matchcenter/2018-11-04-columbus-crew-sc-vs-new-york-red-bulls/feed\n",
      "  warnings.warn('Could not perform summary for {}'.format(match_url))\n"
     ]
    },
    {
     "name": "stdout",
     "output_type": "stream",
     "text": [
      "Number of original events: 92\n",
      "Number of processed events: 0\n"
     ]
    },
    {
     "name": "stderr",
     "output_type": "stream",
     "text": [
      "/home/carlos/MasterDS/tfm/scripts/extractive_summary/key_events_summary.py:196: UserWarning: Could not perform summary for https://matchcenter.mlssoccer.com/matchcenter/2018-07-28-toronto-fc-vs-chicago-fire/feed\n",
      "  warnings.warn('Could not perform summary for {}'.format(match_url))\n"
     ]
    },
    {
     "name": "stdout",
     "output_type": "stream",
     "text": [
      "Number of original events: 89\n",
      "Number of processed events: 0\n"
     ]
    },
    {
     "name": "stderr",
     "output_type": "stream",
     "text": [
      "/home/carlos/MasterDS/tfm/scripts/extractive_summary/key_events_summary.py:196: UserWarning: Could not perform summary for https://matchcenter.mlssoccer.com/matchcenter/2018-04-10-new-york-red-bulls-vs-cd-guadalajara/feed\n",
      "  warnings.warn('Could not perform summary for {}'.format(match_url))\n"
     ]
    },
    {
     "name": "stdout",
     "output_type": "stream",
     "text": [
      "Number of original events: 82\n",
      "Number of processed events: 0\n"
     ]
    },
    {
     "name": "stderr",
     "output_type": "stream",
     "text": [
      "/home/carlos/MasterDS/tfm/scripts/extractive_summary/key_events_summary.py:196: UserWarning: Could not perform summary for https://matchcenter.mlssoccer.com/matchcenter/2018-08-29-new-york-red-bulls-vs-houston-dynamo/feed\n",
      "  warnings.warn('Could not perform summary for {}'.format(match_url))\n"
     ]
    },
    {
     "name": "stdout",
     "output_type": "stream",
     "text": [
      "Number of original events: 108\n",
      "Number of processed events: 0\n"
     ]
    },
    {
     "name": "stderr",
     "output_type": "stream",
     "text": [
      "/home/carlos/MasterDS/tfm/scripts/extractive_summary/key_events_summary.py:196: UserWarning: Could not perform summary for https://matchcenter.mlssoccer.com/matchcenter/2018-11-29-sporting-kansas-city-vs-portland-timbers/feed\n",
      "  warnings.warn('Could not perform summary for {}'.format(match_url))\n"
     ]
    },
    {
     "name": "stdout",
     "output_type": "stream",
     "text": [
      "Number of original events: 101\n",
      "Number of processed events: 0\n"
     ]
    },
    {
     "name": "stderr",
     "output_type": "stream",
     "text": [
      "/home/carlos/MasterDS/tfm/scripts/extractive_summary/key_events_summary.py:196: UserWarning: Could not perform summary for https://matchcenter.mlssoccer.com/matchcenter/2018-09-01-vancouver-whitecaps-fc-vs-san-jose-earthquakes/feed\n",
      "  warnings.warn('Could not perform summary for {}'.format(match_url))\n"
     ]
    },
    {
     "name": "stdout",
     "output_type": "stream",
     "text": [
      "Number of original events: 108\n",
      "Number of processed events: 0\n"
     ]
    },
    {
     "name": "stderr",
     "output_type": "stream",
     "text": [
      "/home/carlos/MasterDS/tfm/scripts/extractive_summary/key_events_summary.py:196: UserWarning: Could not perform summary for https://matchcenter.mlssoccer.com/matchcenter/2018-10-21-portland-timbers-vs-real-salt-lake/feed\n",
      "  warnings.warn('Could not perform summary for {}'.format(match_url))\n"
     ]
    },
    {
     "name": "stdout",
     "output_type": "stream",
     "text": [
      "Number of original events: 81\n",
      "Number of processed events: 0\n"
     ]
    },
    {
     "name": "stderr",
     "output_type": "stream",
     "text": [
      "/home/carlos/MasterDS/tfm/scripts/extractive_summary/key_events_summary.py:196: UserWarning: Could not perform summary for https://matchcenter.mlssoccer.com/matchcenter/2018-11-11-new-york-red-bulls-vs-columbus-crew-sc/feed\n",
      "  warnings.warn('Could not perform summary for {}'.format(match_url))\n"
     ]
    },
    {
     "name": "stdout",
     "output_type": "stream",
     "text": [
      "Number of original events: 93\n",
      "Number of processed events: 0\n"
     ]
    },
    {
     "name": "stderr",
     "output_type": "stream",
     "text": [
      "/home/carlos/MasterDS/tfm/scripts/extractive_summary/key_events_summary.py:196: UserWarning: Could not perform summary for https://matchcenter.mlssoccer.com/matchcenter/2018-06-08-philadelphia-union-vs-toronto-fc/feed\n",
      "  warnings.warn('Could not perform summary for {}'.format(match_url))\n"
     ]
    },
    {
     "name": "stdout",
     "output_type": "stream",
     "text": [
      "Number of original events: 92\n",
      "Number of processed events: 0\n"
     ]
    },
    {
     "name": "stderr",
     "output_type": "stream",
     "text": [
      "/home/carlos/MasterDS/tfm/scripts/extractive_summary/key_events_summary.py:196: UserWarning: Could not perform summary for https://matchcenter.mlssoccer.com/matchcenter/2018-05-26-seattle-sounders-fc-vs-real-salt-lake/feed\n",
      "  warnings.warn('Could not perform summary for {}'.format(match_url))\n"
     ]
    },
    {
     "name": "stdout",
     "output_type": "stream",
     "text": [
      "Number of original events: 90\n",
      "Number of processed events: 0\n"
     ]
    },
    {
     "name": "stderr",
     "output_type": "stream",
     "text": [
      "/home/carlos/MasterDS/tfm/scripts/extractive_summary/key_events_summary.py:196: UserWarning: Could not perform summary for https://matchcenter.mlssoccer.com/matchcenter/2018-10-06-fc-dallas-vs-orlando-city-sc/feed\n",
      "  warnings.warn('Could not perform summary for {}'.format(match_url))\n"
     ]
    },
    {
     "name": "stdout",
     "output_type": "stream",
     "text": [
      "Number of original events: 94\n",
      "Number of processed events: 0\n"
     ]
    },
    {
     "name": "stderr",
     "output_type": "stream",
     "text": [
      "/home/carlos/MasterDS/tfm/scripts/extractive_summary/key_events_summary.py:196: UserWarning: Could not perform summary for https://matchcenter.mlssoccer.com/matchcenter/2018-04-22-seattle-sounders-fc-vs-minnesota-united-fc/feed\n",
      "  warnings.warn('Could not perform summary for {}'.format(match_url))\n"
     ]
    },
    {
     "name": "stdout",
     "output_type": "stream",
     "text": [
      "Number of original events: 92\n",
      "Number of processed events: 0\n"
     ]
    },
    {
     "name": "stderr",
     "output_type": "stream",
     "text": [
      "/home/carlos/MasterDS/tfm/scripts/extractive_summary/key_events_summary.py:196: UserWarning: Could not perform summary for https://matchcenter.mlssoccer.com/matchcenter/2018-09-15-toronto-fc-vs-la-galaxy/feed\n",
      "  warnings.warn('Could not perform summary for {}'.format(match_url))\n"
     ]
    },
    {
     "name": "stdout",
     "output_type": "stream",
     "text": [
      "Number of original events: 109\n",
      "Number of processed events: 1\n",
      "Number of sentences in original article: 4\n",
      "Number of sentences in summary: 1\n",
      "Number of original events: 85\n",
      "Number of processed events: 0\n"
     ]
    },
    {
     "name": "stderr",
     "output_type": "stream",
     "text": [
      "/home/carlos/MasterDS/tfm/scripts/extractive_summary/key_events.py:109: UserWarning: Could not perform tfidf\n",
      "  if len(summary_events) == 0 or len(processed_article_sentences) == 0:\n",
      "/home/carlos/MasterDS/tfm/scripts/extractive_summary/key_events_summary.py:196: UserWarning: Could not perform summary for https://matchcenter.mlssoccer.com/matchcenter/2018-02-21-tauro-fc-vs-fc-dallas/feed\n",
      "  warnings.warn('Could not perform summary for {}'.format(match_url))\n"
     ]
    },
    {
     "name": "stdout",
     "output_type": "stream",
     "text": [
      "Number of original events: 135\n",
      "Number of processed events: 7\n",
      "Number of sentences in original article: 12\n",
      "Number of sentences in summary: 4\n",
      "Number of original events: 87\n",
      "Number of processed events: 0\n"
     ]
    },
    {
     "name": "stderr",
     "output_type": "stream",
     "text": [
      "/home/carlos/MasterDS/tfm/scripts/extractive_summary/key_events.py:109: UserWarning: Could not perform tfidf\n",
      "  if len(summary_events) == 0 or len(processed_article_sentences) == 0:\n",
      "/home/carlos/MasterDS/tfm/scripts/extractive_summary/key_events_summary.py:196: UserWarning: Could not perform summary for https://matchcenter.mlssoccer.com/matchcenter/2018-04-07-fc-dallas-vs-colorado-rapids/feed\n",
      "  warnings.warn('Could not perform summary for {}'.format(match_url))\n"
     ]
    },
    {
     "name": "stdout",
     "output_type": "stream",
     "text": [
      "Number of original events: 78\n",
      "Number of processed events: 0\n"
     ]
    },
    {
     "name": "stderr",
     "output_type": "stream",
     "text": [
      "/home/carlos/MasterDS/tfm/scripts/extractive_summary/key_events_summary.py:196: UserWarning: Could not perform summary for https://matchcenter.mlssoccer.com/matchcenter/2018-03-30-toronto-fc-vs-real-salt-lake/feed\n",
      "  warnings.warn('Could not perform summary for {}'.format(match_url))\n"
     ]
    },
    {
     "name": "stdout",
     "output_type": "stream",
     "text": [
      "Number of original events: 109\n",
      "Number of processed events: 0\n"
     ]
    },
    {
     "name": "stderr",
     "output_type": "stream",
     "text": [
      "/home/carlos/MasterDS/tfm/scripts/extractive_summary/key_events_summary.py:196: UserWarning: Could not perform summary for https://matchcenter.mlssoccer.com/matchcenter/2018-04-21-orlando-city-sc-vs-san-jose-earthquakes/feed\n",
      "  warnings.warn('Could not perform summary for {}'.format(match_url))\n"
     ]
    },
    {
     "name": "stdout",
     "output_type": "stream",
     "text": [
      "Number of original events: 98\n",
      "Number of processed events: 0\n"
     ]
    },
    {
     "name": "stderr",
     "output_type": "stream",
     "text": [
      "/home/carlos/MasterDS/tfm/scripts/extractive_summary/key_events_summary.py:196: UserWarning: Could not perform summary for https://matchcenter.mlssoccer.com/matchcenter/2018-04-21-montreal-impact-vs-los-angeles-football-club/feed\n",
      "  warnings.warn('Could not perform summary for {}'.format(match_url))\n"
     ]
    },
    {
     "name": "stdout",
     "output_type": "stream",
     "text": [
      "Number of original events: 84\n",
      "Number of processed events: 1\n",
      "Number of sentences in original article: 16\n",
      "Number of sentences in summary: 1\n",
      "Number of original events: 104\n",
      "Number of processed events: 0\n"
     ]
    },
    {
     "name": "stderr",
     "output_type": "stream",
     "text": [
      "/home/carlos/MasterDS/tfm/scripts/extractive_summary/key_events.py:109: UserWarning: Could not perform tfidf\n",
      "  if len(summary_events) == 0 or len(processed_article_sentences) == 0:\n",
      "/home/carlos/MasterDS/tfm/scripts/extractive_summary/key_events_summary.py:196: UserWarning: Could not perform summary for https://matchcenter.mlssoccer.com/matchcenter/2018-06-09-chicago-fire-vs-new-england-revolution/feed\n",
      "  warnings.warn('Could not perform summary for {}'.format(match_url))\n"
     ]
    },
    {
     "name": "stdout",
     "output_type": "stream",
     "text": [
      "Number of original events: 86\n",
      "Number of processed events: 0\n"
     ]
    },
    {
     "name": "stderr",
     "output_type": "stream",
     "text": [
      "/home/carlos/MasterDS/tfm/scripts/extractive_summary/key_events_summary.py:196: UserWarning: Could not perform summary for https://matchcenter.mlssoccer.com/matchcenter/2018-03-14-cd-guadalajara-vs-seattle-sounders-fc/feed\n",
      "  warnings.warn('Could not perform summary for {}'.format(match_url))\n"
     ]
    },
    {
     "name": "stdout",
     "output_type": "stream",
     "text": [
      "Number of original events: 107\n",
      "Number of processed events: 1\n",
      "Number of sentences in original article: 8\n",
      "Number of sentences in summary: 1\n",
      "Number of original events: 100\n",
      "Number of processed events: 0\n"
     ]
    },
    {
     "name": "stderr",
     "output_type": "stream",
     "text": [
      "/home/carlos/MasterDS/tfm/scripts/extractive_summary/key_events.py:109: UserWarning: Could not perform tfidf\n",
      "  if len(summary_events) == 0 or len(processed_article_sentences) == 0:\n",
      "/home/carlos/MasterDS/tfm/scripts/extractive_summary/key_events_summary.py:196: UserWarning: Could not perform summary for https://matchcenter.mlssoccer.com/matchcenter/2018-03-24-new-york-red-bulls-vs-minnesota-united-fc/feed\n",
      "  warnings.warn('Could not perform summary for {}'.format(match_url))\n"
     ]
    },
    {
     "name": "stdout",
     "output_type": "stream",
     "text": [
      "Number of original events: 106\n",
      "Number of processed events: 1\n",
      "Number of sentences in original article: 10\n",
      "Number of sentences in summary: 1\n",
      "Number of original events: 93\n",
      "Number of processed events: 0\n"
     ]
    },
    {
     "name": "stderr",
     "output_type": "stream",
     "text": [
      "/home/carlos/MasterDS/tfm/scripts/extractive_summary/key_events.py:109: UserWarning: Could not perform tfidf\n",
      "  if len(summary_events) == 0 or len(processed_article_sentences) == 0:\n",
      "/home/carlos/MasterDS/tfm/scripts/extractive_summary/key_events_summary.py:196: UserWarning: Could not perform summary for https://matchcenter.mlssoccer.com/matchcenter/2018-03-17-atlanta-united-fc-vs-vancouver-whitecaps-fc/feed\n",
      "  warnings.warn('Could not perform summary for {}'.format(match_url))\n"
     ]
    },
    {
     "name": "stdout",
     "output_type": "stream",
     "text": [
      "Number of original events: 108\n",
      "Number of processed events: 0\n"
     ]
    },
    {
     "name": "stderr",
     "output_type": "stream",
     "text": [
      "/home/carlos/MasterDS/tfm/scripts/extractive_summary/key_events_summary.py:196: UserWarning: Could not perform summary for https://matchcenter.mlssoccer.com/matchcenter/2018-11-25-portland-timbers-vs-sporting-kansas-city/feed\n",
      "  warnings.warn('Could not perform summary for {}'.format(match_url))\n"
     ]
    },
    {
     "name": "stdout",
     "output_type": "stream",
     "text": [
      "Number of original events: 113\n",
      "Number of processed events: 0\n"
     ]
    },
    {
     "name": "stderr",
     "output_type": "stream",
     "text": [
      "/home/carlos/MasterDS/tfm/scripts/extractive_summary/key_events_summary.py:196: UserWarning: Could not perform summary for https://matchcenter.mlssoccer.com/matchcenter/2018-08-11-la-galaxy-vs-minnesota-united-fc/feed\n",
      "  warnings.warn('Could not perform summary for {}'.format(match_url))\n"
     ]
    },
    {
     "name": "stdout",
     "output_type": "stream",
     "text": [
      "Number of original events: 86\n",
      "Number of processed events: 0\n"
     ]
    },
    {
     "name": "stderr",
     "output_type": "stream",
     "text": [
      "/home/carlos/MasterDS/tfm/scripts/extractive_summary/key_events_summary.py:196: UserWarning: Could not perform summary for https://matchcenter.mlssoccer.com/matchcenter/2018-07-14-dc-united-vs-vancouver-whitecaps-fc/feed\n",
      "  warnings.warn('Could not perform summary for {}'.format(match_url))\n"
     ]
    },
    {
     "name": "stdout",
     "output_type": "stream",
     "text": [
      "Number of original events: 92\n",
      "Number of processed events: 0\n"
     ]
    },
    {
     "name": "stderr",
     "output_type": "stream",
     "text": [
      "/home/carlos/MasterDS/tfm/scripts/extractive_summary/key_events_summary.py:196: UserWarning: Could not perform summary for https://matchcenter.mlssoccer.com/matchcenter/2018-06-06-los-angeles-football-club-vs-fresno-fc/feed\n",
      "  warnings.warn('Could not perform summary for {}'.format(match_url))\n"
     ]
    },
    {
     "name": "stdout",
     "output_type": "stream",
     "text": [
      "Number of original events: 93\n",
      "Number of processed events: 0\n"
     ]
    },
    {
     "name": "stderr",
     "output_type": "stream",
     "text": [
      "/home/carlos/MasterDS/tfm/scripts/extractive_summary/key_events_summary.py:196: UserWarning: Could not perform summary for https://matchcenter.mlssoccer.com/matchcenter/2018-07-15-los-angeles-football-club-vs-portland-timbers/feed\n",
      "  warnings.warn('Could not perform summary for {}'.format(match_url))\n"
     ]
    },
    {
     "name": "stdout",
     "output_type": "stream",
     "text": [
      "Number of original events: 112\n",
      "Number of processed events: 1\n",
      "Number of sentences in original article: 10\n",
      "Number of sentences in summary: 1\n",
      "Number of original events: 96\n",
      "Number of processed events: 0\n"
     ]
    },
    {
     "name": "stderr",
     "output_type": "stream",
     "text": [
      "/home/carlos/MasterDS/tfm/scripts/extractive_summary/key_events.py:109: UserWarning: Could not perform tfidf\n",
      "  if len(summary_events) == 0 or len(processed_article_sentences) == 0:\n",
      "/home/carlos/MasterDS/tfm/scripts/extractive_summary/key_events_summary.py:196: UserWarning: Could not perform summary for https://matchcenter.mlssoccer.com/matchcenter/2018-06-09-houston-dynamo-vs-colorado-rapids/feed\n",
      "  warnings.warn('Could not perform summary for {}'.format(match_url))\n"
     ]
    },
    {
     "name": "stdout",
     "output_type": "stream",
     "text": [
      "Number of original events: 74\n",
      "Number of processed events: 1\n",
      "Number of sentences in original article: 14\n",
      "Number of sentences in summary: 1\n",
      "Number of original events: 97\n",
      "Number of processed events: 0\n"
     ]
    },
    {
     "name": "stderr",
     "output_type": "stream",
     "text": [
      "/home/carlos/MasterDS/tfm/scripts/extractive_summary/key_events.py:109: UserWarning: Could not perform tfidf\n",
      "  if len(summary_events) == 0 or len(processed_article_sentences) == 0:\n",
      "/home/carlos/MasterDS/tfm/scripts/extractive_summary/key_events_summary.py:196: UserWarning: Could not perform summary for https://matchcenter.mlssoccer.com/matchcenter/2018-05-05-minnesota-united-fc-vs-vancouver-whitecaps-fc/feed\n",
      "  warnings.warn('Could not perform summary for {}'.format(match_url))\n"
     ]
    },
    {
     "name": "stdout",
     "output_type": "stream",
     "text": [
      "Number of original events: 84\n",
      "Number of processed events: 0\n"
     ]
    },
    {
     "name": "stderr",
     "output_type": "stream",
     "text": [
      "/home/carlos/MasterDS/tfm/scripts/extractive_summary/key_events_summary.py:196: UserWarning: Could not perform summary for https://matchcenter.mlssoccer.com/matchcenter/2018-04-13-vancouver-whitecaps-fc-vs-los-angeles-football-club/feed\n",
      "  warnings.warn('Could not perform summary for {}'.format(match_url))\n"
     ]
    },
    {
     "name": "stdout",
     "output_type": "stream",
     "text": [
      "Number of original events: 104\n",
      "Number of processed events: 0\n"
     ]
    },
    {
     "name": "stderr",
     "output_type": "stream",
     "text": [
      "/home/carlos/MasterDS/tfm/scripts/extractive_summary/key_events_summary.py:196: UserWarning: Could not perform summary for https://matchcenter.mlssoccer.com/matchcenter/2018-09-01-new-england-revolution-vs-portland-timbers/feed\n",
      "  warnings.warn('Could not perform summary for {}'.format(match_url))\n"
     ]
    },
    {
     "name": "stdout",
     "output_type": "stream",
     "text": [
      "Number of original events: 72\n",
      "Number of processed events: 0\n"
     ]
    },
    {
     "name": "stderr",
     "output_type": "stream",
     "text": [
      "/home/carlos/MasterDS/tfm/scripts/extractive_summary/key_events_summary.py:196: UserWarning: Could not perform summary for https://matchcenter.mlssoccer.com/matchcenter/2018-11-15-england-vs-us-mens-national-team/feed\n",
      "  warnings.warn('Could not perform summary for {}'.format(match_url))\n"
     ]
    },
    {
     "name": "stdout",
     "output_type": "stream",
     "text": [
      "Number of original events: 78\n",
      "Number of processed events: 0\n"
     ]
    },
    {
     "name": "stderr",
     "output_type": "stream",
     "text": [
      "/home/carlos/MasterDS/tfm/scripts/extractive_summary/key_events_summary.py:196: UserWarning: Could not perform summary for https://matchcenter.mlssoccer.com/matchcenter/2018-06-09-france-vs-us-mens-national-team/feed\n",
      "  warnings.warn('Could not perform summary for {}'.format(match_url))\n"
     ]
    },
    {
     "name": "stdout",
     "output_type": "stream",
     "text": [
      "Number of original events: 91\n",
      "Number of processed events: 0\n"
     ]
    },
    {
     "name": "stderr",
     "output_type": "stream",
     "text": [
      "/home/carlos/MasterDS/tfm/scripts/extractive_summary/key_events_summary.py:196: UserWarning: Could not perform summary for https://matchcenter.mlssoccer.com/matchcenter/2018-05-16-vancouver-whitecaps-fc-vs-san-jose-earthquakes/feed\n",
      "  warnings.warn('Could not perform summary for {}'.format(match_url))\n"
     ]
    },
    {
     "name": "stdout",
     "output_type": "stream",
     "text": [
      "Number of original events: 115\n",
      "Number of processed events: 0\n"
     ]
    },
    {
     "name": "stderr",
     "output_type": "stream",
     "text": [
      "/home/carlos/MasterDS/tfm/scripts/extractive_summary/key_events_summary.py:196: UserWarning: Could not perform summary for https://matchcenter.mlssoccer.com/matchcenter/2018-08-25-san-jose-earthquakes-vs-vancouver-whitecaps-fc/feed\n",
      "  warnings.warn('Could not perform summary for {}'.format(match_url))\n"
     ]
    },
    {
     "name": "stdout",
     "output_type": "stream",
     "text": [
      "Number of original events: 94\n",
      "Number of processed events: 0\n"
     ]
    },
    {
     "name": "stderr",
     "output_type": "stream",
     "text": [
      "/home/carlos/MasterDS/tfm/scripts/extractive_summary/key_events_summary.py:196: UserWarning: Could not perform summary for https://matchcenter.mlssoccer.com/matchcenter/2018-06-02-atlanta-united-fc-vs-philadelphia-union/feed\n",
      "  warnings.warn('Could not perform summary for {}'.format(match_url))\n"
     ]
    },
    {
     "name": "stdout",
     "output_type": "stream",
     "text": [
      "Number of original events: 94\n",
      "Number of processed events: 0\n"
     ]
    },
    {
     "name": "stderr",
     "output_type": "stream",
     "text": [
      "/home/carlos/MasterDS/tfm/scripts/extractive_summary/key_events_summary.py:196: UserWarning: Could not perform summary for https://matchcenter.mlssoccer.com/matchcenter/2018-10-21-minnesota-united-fc-vs-la-galaxy/feed\n",
      "  warnings.warn('Could not perform summary for {}'.format(match_url))\n"
     ]
    },
    {
     "name": "stdout",
     "output_type": "stream",
     "text": [
      "Number of original events: 95\n",
      "Number of processed events: 0\n"
     ]
    },
    {
     "name": "stderr",
     "output_type": "stream",
     "text": [
      "/home/carlos/MasterDS/tfm/scripts/extractive_summary/key_events_summary.py:196: UserWarning: Could not perform summary for https://matchcenter.mlssoccer.com/matchcenter/2018-08-04-colorado-rapids-vs-la-galaxy/feed\n",
      "  warnings.warn('Could not perform summary for {}'.format(match_url))\n"
     ]
    },
    {
     "name": "stdout",
     "output_type": "stream",
     "text": [
      "Number of original events: 83\n",
      "Number of processed events: 4\n",
      "Number of sentences in original article: 17\n",
      "Number of sentences in summary: 2\n",
      "Number of original events: 119\n",
      "Number of processed events: 0\n"
     ]
    },
    {
     "name": "stderr",
     "output_type": "stream",
     "text": [
      "/home/carlos/MasterDS/tfm/scripts/extractive_summary/key_events.py:109: UserWarning: Could not perform tfidf\n",
      "  if len(summary_events) == 0 or len(processed_article_sentences) == 0:\n",
      "/home/carlos/MasterDS/tfm/scripts/extractive_summary/key_events_summary.py:196: UserWarning: Could not perform summary for https://matchcenter.mlssoccer.com/matchcenter/2018-04-21-real-salt-lake-vs-colorado-rapids/feed\n",
      "  warnings.warn('Could not perform summary for {}'.format(match_url))\n"
     ]
    },
    {
     "name": "stdout",
     "output_type": "stream",
     "text": [
      "Number of original events: 115\n",
      "Number of processed events: 0\n"
     ]
    },
    {
     "name": "stderr",
     "output_type": "stream",
     "text": [
      "/home/carlos/MasterDS/tfm/scripts/extractive_summary/key_events_summary.py:196: UserWarning: Could not perform summary for https://matchcenter.mlssoccer.com/matchcenter/2018-06-13-san-jose-earthquakes-vs-new-england-revolution/feed\n",
      "  warnings.warn('Could not perform summary for {}'.format(match_url))\n"
     ]
    },
    {
     "name": "stdout",
     "output_type": "stream",
     "text": [
      "Number of original events: 107\n",
      "Number of processed events: 0\n"
     ]
    },
    {
     "name": "stderr",
     "output_type": "stream",
     "text": [
      "/home/carlos/MasterDS/tfm/scripts/extractive_summary/key_events_summary.py:196: UserWarning: Could not perform summary for https://matchcenter.mlssoccer.com/matchcenter/2018-03-31-orlando-city-sc-vs-new-york-red-bulls/feed\n",
      "  warnings.warn('Could not perform summary for {}'.format(match_url))\n"
     ]
    },
    {
     "name": "stdout",
     "output_type": "stream",
     "text": [
      "Number of original events: 82\n",
      "Number of processed events: 0\n"
     ]
    },
    {
     "name": "stderr",
     "output_type": "stream",
     "text": [
      "/home/carlos/MasterDS/tfm/scripts/extractive_summary/key_events_summary.py:196: UserWarning: Could not perform summary for https://matchcenter.mlssoccer.com/matchcenter/2018-03-11-atlanta-united-fc-vs-dc-united/feed\n",
      "  warnings.warn('Could not perform summary for {}'.format(match_url))\n"
     ]
    },
    {
     "name": "stdout",
     "output_type": "stream",
     "text": [
      "Number of original events: 126\n",
      "Number of processed events: 0\n"
     ]
    },
    {
     "name": "stderr",
     "output_type": "stream",
     "text": [
      "/home/carlos/MasterDS/tfm/scripts/extractive_summary/key_events_summary.py:196: UserWarning: Could not perform summary for https://matchcenter.mlssoccer.com/matchcenter/2018-11-11-sporting-kansas-city-vs-real-salt-lake/feed\n",
      "  warnings.warn('Could not perform summary for {}'.format(match_url))\n"
     ]
    },
    {
     "name": "stdout",
     "output_type": "stream",
     "text": [
      "Number of original events: 86\n",
      "Number of processed events: 0\n"
     ]
    },
    {
     "name": "stderr",
     "output_type": "stream",
     "text": [
      "/home/carlos/MasterDS/tfm/scripts/extractive_summary/key_events_summary.py:196: UserWarning: Could not perform summary for https://matchcenter.mlssoccer.com/matchcenter/2018-07-11-chicago-fire-vs-philadelphia-union/feed\n",
      "  warnings.warn('Could not perform summary for {}'.format(match_url))\n"
     ]
    },
    {
     "name": "stdout",
     "output_type": "stream",
     "text": [
      "Number of original events: 84\n",
      "Number of processed events: 0\n"
     ]
    },
    {
     "name": "stderr",
     "output_type": "stream",
     "text": [
      "/home/carlos/MasterDS/tfm/scripts/extractive_summary/key_events_summary.py:196: UserWarning: Could not perform summary for https://matchcenter.mlssoccer.com/matchcenter/2018-05-30-philadelphia-union-vs-chicago-fire/feed\n",
      "  warnings.warn('Could not perform summary for {}'.format(match_url))\n"
     ]
    },
    {
     "name": "stdout",
     "output_type": "stream",
     "text": [
      "Number of original events: 94\n",
      "Number of processed events: 0\n"
     ]
    },
    {
     "name": "stderr",
     "output_type": "stream",
     "text": [
      "/home/carlos/MasterDS/tfm/scripts/extractive_summary/key_events_summary.py:196: UserWarning: Could not perform summary for https://matchcenter.mlssoccer.com/matchcenter/2018-09-08-portland-timbers-vs-colorado-rapids/feed\n",
      "  warnings.warn('Could not perform summary for {}'.format(match_url))\n"
     ]
    },
    {
     "name": "stdout",
     "output_type": "stream",
     "text": [
      "Number of original events: 103\n",
      "Number of processed events: 0\n"
     ]
    },
    {
     "name": "stderr",
     "output_type": "stream",
     "text": [
      "/home/carlos/MasterDS/tfm/scripts/extractive_summary/key_events_summary.py:196: UserWarning: Could not perform summary for https://matchcenter.mlssoccer.com/matchcenter/2018-03-27-us-mens-national-team-vs-paraguay/feed\n",
      "  warnings.warn('Could not perform summary for {}'.format(match_url))\n"
     ]
    },
    {
     "name": "stdout",
     "output_type": "stream",
     "text": [
      "Number of original events: 105\n",
      "Number of processed events: 0\n"
     ]
    },
    {
     "name": "stderr",
     "output_type": "stream",
     "text": [
      "/home/carlos/MasterDS/tfm/scripts/extractive_summary/key_events_summary.py:196: UserWarning: Could not perform summary for https://matchcenter.mlssoccer.com/matchcenter/2018-04-14-colorado-rapids-vs-toronto-fc/feed\n",
      "  warnings.warn('Could not perform summary for {}'.format(match_url))\n"
     ]
    },
    {
     "name": "stdout",
     "output_type": "stream",
     "text": [
      "Number of original events: 87\n",
      "Number of processed events: 0\n"
     ]
    },
    {
     "name": "stderr",
     "output_type": "stream",
     "text": [
      "/home/carlos/MasterDS/tfm/scripts/extractive_summary/key_events_summary.py:196: UserWarning: Could not perform summary for https://matchcenter.mlssoccer.com/matchcenter/2018-06-05-louisville-city-vs-new-england-revolution/feed\n",
      "  warnings.warn('Could not perform summary for {}'.format(match_url))\n"
     ]
    },
    {
     "name": "stdout",
     "output_type": "stream",
     "text": [
      "Number of original events: 66\n",
      "Number of processed events: 0\n"
     ]
    },
    {
     "name": "stderr",
     "output_type": "stream",
     "text": [
      "/home/carlos/MasterDS/tfm/scripts/extractive_summary/key_events_summary.py:196: UserWarning: Could not perform summary for https://matchcenter.mlssoccer.com/matchcenter/2018-07-25-san-jose-earthquakes-vs-seattle-sounders-fc/feed\n",
      "  warnings.warn('Could not perform summary for {}'.format(match_url))\n"
     ]
    },
    {
     "name": "stdout",
     "output_type": "stream",
     "text": [
      "Number of original events: 97\n",
      "Number of processed events: 0\n"
     ]
    },
    {
     "name": "stderr",
     "output_type": "stream",
     "text": [
      "/home/carlos/MasterDS/tfm/scripts/extractive_summary/key_events_summary.py:196: UserWarning: Could not perform summary for https://matchcenter.mlssoccer.com/matchcenter/2018-06-02-chicago-fire-vs-san-jose-earthquakes/feed\n",
      "  warnings.warn('Could not perform summary for {}'.format(match_url))\n"
     ]
    },
    {
     "name": "stdout",
     "output_type": "stream",
     "text": [
      "Number of original events: 102\n",
      "Number of processed events: 0\n"
     ]
    },
    {
     "name": "stderr",
     "output_type": "stream",
     "text": [
      "/home/carlos/MasterDS/tfm/scripts/extractive_summary/key_events_summary.py:196: UserWarning: Could not perform summary for https://matchcenter.mlssoccer.com/matchcenter/2018-08-11-new-england-revolution-vs-philadelphia-union/feed\n",
      "  warnings.warn('Could not perform summary for {}'.format(match_url))\n"
     ]
    },
    {
     "name": "stdout",
     "output_type": "stream",
     "text": [
      "Number of original events: 107\n",
      "Number of processed events: 0\n"
     ]
    },
    {
     "name": "stderr",
     "output_type": "stream",
     "text": [
      "/home/carlos/MasterDS/tfm/scripts/extractive_summary/key_events_summary.py:196: UserWarning: Could not perform summary for https://matchcenter.mlssoccer.com/matchcenter/2018-07-14-new-york-city-fc-vs-columbus-crew-sc/feed\n",
      "  warnings.warn('Could not perform summary for {}'.format(match_url))\n"
     ]
    },
    {
     "name": "stdout",
     "output_type": "stream",
     "text": [
      "Number of original events: 92\n",
      "Number of processed events: 0\n"
     ]
    },
    {
     "name": "stderr",
     "output_type": "stream",
     "text": [
      "/home/carlos/MasterDS/tfm/scripts/extractive_summary/key_events_summary.py:196: UserWarning: Could not perform summary for https://matchcenter.mlssoccer.com/matchcenter/2018-08-11-chicago-fire-vs-new-york-red-bulls/feed\n",
      "  warnings.warn('Could not perform summary for {}'.format(match_url))\n"
     ]
    },
    {
     "name": "stdout",
     "output_type": "stream",
     "text": [
      "Number of original events: 106\n",
      "Number of processed events: 0\n"
     ]
    },
    {
     "name": "stderr",
     "output_type": "stream",
     "text": [
      "/home/carlos/MasterDS/tfm/scripts/extractive_summary/key_events_summary.py:196: UserWarning: Could not perform summary for https://matchcenter.mlssoccer.com/matchcenter/2018-07-21-new-york-red-bulls-vs-new-england-revolution/feed\n",
      "  warnings.warn('Could not perform summary for {}'.format(match_url))\n"
     ]
    },
    {
     "name": "stdout",
     "output_type": "stream",
     "text": [
      "Number of original events: 131\n",
      "Number of processed events: 1\n",
      "Number of sentences in original article: 9\n",
      "Number of sentences in summary: 1\n",
      "Number of original events: 80\n",
      "Number of processed events: 0\n"
     ]
    },
    {
     "name": "stderr",
     "output_type": "stream",
     "text": [
      "/home/carlos/MasterDS/tfm/scripts/extractive_summary/key_events.py:109: UserWarning: Could not perform tfidf\n",
      "  if len(summary_events) == 0 or len(processed_article_sentences) == 0:\n",
      "/home/carlos/MasterDS/tfm/scripts/extractive_summary/key_events_summary.py:196: UserWarning: Could not perform summary for https://matchcenter.mlssoccer.com/matchcenter/2018-08-19-atlanta-united-fc-vs-columbus-crew-sc/feed\n",
      "  warnings.warn('Could not perform summary for {}'.format(match_url))\n"
     ]
    },
    {
     "name": "stdout",
     "output_type": "stream",
     "text": [
      "Number of original events: 83\n",
      "Number of processed events: 0\n"
     ]
    },
    {
     "name": "stderr",
     "output_type": "stream",
     "text": [
      "/home/carlos/MasterDS/tfm/scripts/extractive_summary/key_events_summary.py:196: UserWarning: Could not perform summary for https://matchcenter.mlssoccer.com/matchcenter/2018-08-25-sporting-kansas-city-vs-minnesota-united-fc/feed\n",
      "  warnings.warn('Could not perform summary for {}'.format(match_url))\n"
     ]
    },
    {
     "name": "stdout",
     "output_type": "stream",
     "text": [
      "Number of original events: 114\n",
      "Number of processed events: 1\n",
      "Number of sentences in original article: 11\n",
      "Number of sentences in summary: 1\n",
      "Number of original events: 123\n",
      "Number of processed events: 0\n"
     ]
    },
    {
     "name": "stderr",
     "output_type": "stream",
     "text": [
      "/home/carlos/MasterDS/tfm/scripts/extractive_summary/key_events.py:109: UserWarning: Could not perform tfidf\n",
      "  if len(summary_events) == 0 or len(processed_article_sentences) == 0:\n",
      "/home/carlos/MasterDS/tfm/scripts/extractive_summary/key_events_summary.py:196: UserWarning: Could not perform summary for https://matchcenter.mlssoccer.com/matchcenter/2018-06-06-sacramento-republic-vs-seattle-sounders-fc/feed\n",
      "  warnings.warn('Could not perform summary for {}'.format(match_url))\n"
     ]
    },
    {
     "name": "stdout",
     "output_type": "stream",
     "text": [
      "Number of original events: 63\n",
      "Number of processed events: 0\n"
     ]
    },
    {
     "name": "stderr",
     "output_type": "stream",
     "text": [
      "/home/carlos/MasterDS/tfm/scripts/extractive_summary/key_events_summary.py:196: UserWarning: Could not perform summary for https://matchcenter.mlssoccer.com/matchcenter/2018-08-08-vancouver-whitecaps-fc-vs-toronto-fc/feed\n",
      "  warnings.warn('Could not perform summary for {}'.format(match_url))\n"
     ]
    },
    {
     "name": "stdout",
     "output_type": "stream",
     "text": [
      "Number of original events: 109\n",
      "Number of processed events: 0\n"
     ]
    },
    {
     "name": "stderr",
     "output_type": "stream",
     "text": [
      "/home/carlos/MasterDS/tfm/scripts/extractive_summary/key_events_summary.py:196: UserWarning: Could not perform summary for https://matchcenter.mlssoccer.com/matchcenter/2018-06-23-real-salt-lake-vs-san-jose-earthquakes/feed\n",
      "  warnings.warn('Could not perform summary for {}'.format(match_url))\n"
     ]
    },
    {
     "name": "stdout",
     "output_type": "stream",
     "text": [
      "Number of original events: 95\n",
      "Number of processed events: 0\n"
     ]
    },
    {
     "name": "stderr",
     "output_type": "stream",
     "text": [
      "/home/carlos/MasterDS/tfm/scripts/extractive_summary/key_events_summary.py:196: UserWarning: Could not perform summary for https://matchcenter.mlssoccer.com/matchcenter/2018-03-17-philadelphia-union-vs-columbus-crew-sc/feed\n",
      "  warnings.warn('Could not perform summary for {}'.format(match_url))\n"
     ]
    },
    {
     "name": "stdout",
     "output_type": "stream",
     "text": [
      "Number of original events: 110\n",
      "Number of processed events: 0\n"
     ]
    },
    {
     "name": "stderr",
     "output_type": "stream",
     "text": [
      "/home/carlos/MasterDS/tfm/scripts/extractive_summary/key_events_summary.py:196: UserWarning: Could not perform summary for https://matchcenter.mlssoccer.com/matchcenter/2018-06-09-new-york-city-fc-vs-atlanta-united-fc/feed\n",
      "  warnings.warn('Could not perform summary for {}'.format(match_url))\n"
     ]
    },
    {
     "name": "stdout",
     "output_type": "stream",
     "text": [
      "Number of original events: 77\n",
      "Number of processed events: 0\n"
     ]
    },
    {
     "name": "stderr",
     "output_type": "stream",
     "text": [
      "/home/carlos/MasterDS/tfm/scripts/extractive_summary/key_events_summary.py:196: UserWarning: Could not perform summary for https://matchcenter.mlssoccer.com/matchcenter/2018-09-22-new-york-red-bulls-vs-toronto-fc/feed\n",
      "  warnings.warn('Could not perform summary for {}'.format(match_url))\n"
     ]
    },
    {
     "name": "stdout",
     "output_type": "stream",
     "text": [
      "Number of original events: 106\n",
      "Number of processed events: 0\n"
     ]
    },
    {
     "name": "stderr",
     "output_type": "stream",
     "text": [
      "/home/carlos/MasterDS/tfm/scripts/extractive_summary/key_events_summary.py:196: UserWarning: Could not perform summary for https://matchcenter.mlssoccer.com/matchcenter/2018-05-19-new-york-city-fc-vs-colorado-rapids/feed\n",
      "  warnings.warn('Could not perform summary for {}'.format(match_url))\n"
     ]
    },
    {
     "name": "stdout",
     "output_type": "stream",
     "text": [
      "Number of original events: 64\n",
      "Number of processed events: 0\n"
     ]
    },
    {
     "name": "stderr",
     "output_type": "stream",
     "text": [
      "/home/carlos/MasterDS/tfm/scripts/extractive_summary/key_events_summary.py:196: UserWarning: Could not perform summary for https://matchcenter.mlssoccer.com/matchcenter/2018-05-18-toronto-fc-vs-orlando-city-sc/feed\n",
      "  warnings.warn('Could not perform summary for {}'.format(match_url))\n"
     ]
    },
    {
     "name": "stdout",
     "output_type": "stream",
     "text": [
      "Number of original events: 104\n",
      "Number of processed events: 0\n"
     ]
    },
    {
     "name": "stderr",
     "output_type": "stream",
     "text": [
      "/home/carlos/MasterDS/tfm/scripts/extractive_summary/key_events_summary.py:196: UserWarning: Could not perform summary for https://matchcenter.mlssoccer.com/matchcenter/2018-05-20-minnesota-united-fc-vs-sporting-kansas-city/feed\n",
      "  warnings.warn('Could not perform summary for {}'.format(match_url))\n"
     ]
    },
    {
     "name": "stdout",
     "output_type": "stream",
     "text": [
      "Number of original events: 82\n",
      "Number of processed events: 0\n"
     ]
    },
    {
     "name": "stderr",
     "output_type": "stream",
     "text": [
      "/home/carlos/MasterDS/tfm/scripts/extractive_summary/key_events_summary.py:196: UserWarning: Could not perform summary for https://matchcenter.mlssoccer.com/matchcenter/2018-08-25-toronto-fc-vs-montreal-impact/feed\n",
      "  warnings.warn('Could not perform summary for {}'.format(match_url))\n"
     ]
    },
    {
     "name": "stdout",
     "output_type": "stream",
     "text": [
      "Number of original events: 79\n",
      "Number of processed events: 0\n"
     ]
    },
    {
     "name": "stderr",
     "output_type": "stream",
     "text": [
      "/home/carlos/MasterDS/tfm/scripts/extractive_summary/key_events_summary.py:196: UserWarning: Could not perform summary for https://matchcenter.mlssoccer.com/matchcenter/2018-06-24-new-york-city-fc-vs-toronto-fc/feed\n",
      "  warnings.warn('Could not perform summary for {}'.format(match_url))\n"
     ]
    },
    {
     "name": "stdout",
     "output_type": "stream",
     "text": [
      "Number of original events: 74\n",
      "Number of processed events: 0\n"
     ]
    },
    {
     "name": "stderr",
     "output_type": "stream",
     "text": [
      "/home/carlos/MasterDS/tfm/scripts/extractive_summary/key_events_summary.py:196: UserWarning: Could not perform summary for https://matchcenter.mlssoccer.com/matchcenter/2018-08-04-atlanta-united-fc-vs-toronto-fc/feed\n",
      "  warnings.warn('Could not perform summary for {}'.format(match_url))\n"
     ]
    },
    {
     "name": "stdout",
     "output_type": "stream",
     "text": [
      "Number of original events: 58\n",
      "Number of processed events: 0\n"
     ]
    },
    {
     "name": "stderr",
     "output_type": "stream",
     "text": [
      "/home/carlos/MasterDS/tfm/scripts/extractive_summary/key_events_summary.py:196: UserWarning: Could not perform summary for https://matchcenter.mlssoccer.com/matchcenter/2018-06-06-real-salt-lake-vs-sporting-kansas-city/feed\n",
      "  warnings.warn('Could not perform summary for {}'.format(match_url))\n"
     ]
    },
    {
     "name": "stdout",
     "output_type": "stream",
     "text": [
      "Number of original events: 83\n",
      "Number of processed events: 0\n"
     ]
    },
    {
     "name": "stderr",
     "output_type": "stream",
     "text": [
      "/home/carlos/MasterDS/tfm/scripts/extractive_summary/key_events_summary.py:196: UserWarning: Could not perform summary for https://matchcenter.mlssoccer.com/matchcenter/2018-07-04-fc-dallas-vs-atlanta-united-fc/feed\n",
      "  warnings.warn('Could not perform summary for {}'.format(match_url))\n"
     ]
    },
    {
     "name": "stdout",
     "output_type": "stream",
     "text": [
      "Number of original events: 96\n",
      "Number of processed events: 0\n"
     ]
    },
    {
     "name": "stderr",
     "output_type": "stream",
     "text": [
      "/home/carlos/MasterDS/tfm/scripts/extractive_summary/key_events_summary.py:196: UserWarning: Could not perform summary for https://matchcenter.mlssoccer.com/matchcenter/2018-06-09-portland-timbers-vs-sporting-kansas-city/feed\n",
      "  warnings.warn('Could not perform summary for {}'.format(match_url))\n"
     ]
    },
    {
     "name": "stdout",
     "output_type": "stream",
     "text": [
      "Number of original events: 80\n",
      "Number of processed events: 0\n"
     ]
    },
    {
     "name": "stderr",
     "output_type": "stream",
     "text": [
      "/home/carlos/MasterDS/tfm/scripts/extractive_summary/key_events_summary.py:196: UserWarning: Could not perform summary for https://matchcenter.mlssoccer.com/matchcenter/2018-08-24-orlando-city-sc-vs-atlanta-united-fc/feed\n",
      "  warnings.warn('Could not perform summary for {}'.format(match_url))\n"
     ]
    },
    {
     "name": "stdout",
     "output_type": "stream",
     "text": [
      "Number of original events: 16\n",
      "Number of processed events: 0\n"
     ]
    },
    {
     "name": "stderr",
     "output_type": "stream",
     "text": [
      "/home/carlos/MasterDS/tfm/scripts/extractive_summary/key_events_summary.py:196: UserWarning: Could not perform summary for https://matchcenter.mlssoccer.com/matchcenter/2018-10-13-dc-united-vs-fc-dallas/feed\n",
      "  warnings.warn('Could not perform summary for {}'.format(match_url))\n"
     ]
    },
    {
     "name": "stdout",
     "output_type": "stream",
     "text": [
      "Number of original events: 65\n",
      "Number of processed events: 0\n"
     ]
    },
    {
     "name": "stderr",
     "output_type": "stream",
     "text": [
      "/home/carlos/MasterDS/tfm/scripts/extractive_summary/key_events_summary.py:196: UserWarning: Could not perform summary for https://matchcenter.mlssoccer.com/matchcenter/2018-03-31-la-galaxy-vs-los-angeles-football-club/feed\n",
      "  warnings.warn('Could not perform summary for {}'.format(match_url))\n"
     ]
    },
    {
     "name": "stdout",
     "output_type": "stream",
     "text": [
      "Number of original events: 96\n",
      "Number of processed events: 0\n"
     ]
    },
    {
     "name": "stderr",
     "output_type": "stream",
     "text": [
      "/home/carlos/MasterDS/tfm/scripts/extractive_summary/key_events_summary.py:196: UserWarning: Could not perform summary for https://matchcenter.mlssoccer.com/matchcenter/2018-09-02-dc-united-vs-atlanta-united-fc/feed\n",
      "  warnings.warn('Could not perform summary for {}'.format(match_url))\n"
     ]
    },
    {
     "name": "stdout",
     "output_type": "stream",
     "text": [
      "Number of original events: 70\n",
      "Number of processed events: 0\n"
     ]
    },
    {
     "name": "stderr",
     "output_type": "stream",
     "text": [
      "/home/carlos/MasterDS/tfm/scripts/extractive_summary/key_events_summary.py:196: UserWarning: Could not perform summary for https://matchcenter.mlssoccer.com/matchcenter/2018-07-22-minnesota-united-fc-vs-los-angeles-football-club/feed\n",
      "  warnings.warn('Could not perform summary for {}'.format(match_url))\n"
     ]
    },
    {
     "name": "stdout",
     "output_type": "stream",
     "text": [
      "Number of original events: 74\n",
      "Number of processed events: 0\n"
     ]
    },
    {
     "name": "stderr",
     "output_type": "stream",
     "text": [
      "/home/carlos/MasterDS/tfm/scripts/extractive_summary/key_events_summary.py:196: UserWarning: Could not perform summary for https://matchcenter.mlssoccer.com/matchcenter/2018-07-14-fc-dallas-vs-chicago-fire/feed\n",
      "  warnings.warn('Could not perform summary for {}'.format(match_url))\n"
     ]
    },
    {
     "name": "stdout",
     "output_type": "stream",
     "text": [
      "Number of original events: 130\n",
      "Number of processed events: 0\n"
     ]
    },
    {
     "name": "stderr",
     "output_type": "stream",
     "text": [
      "/home/carlos/MasterDS/tfm/scripts/extractive_summary/key_events_summary.py:196: UserWarning: Could not perform summary for https://matchcenter.mlssoccer.com/matchcenter/2018-02-22-olimpia-vs-new-york-red-bulls/feed\n",
      "  warnings.warn('Could not perform summary for {}'.format(match_url))\n"
     ]
    },
    {
     "name": "stdout",
     "output_type": "stream",
     "text": [
      "Number of original events: 98\n",
      "Number of processed events: 2\n",
      "Number of sentences in original article: 12\n",
      "Number of sentences in summary: 1\n",
      "Number of original events: 100\n",
      "Number of processed events: 0\n"
     ]
    },
    {
     "name": "stderr",
     "output_type": "stream",
     "text": [
      "/home/carlos/MasterDS/tfm/scripts/extractive_summary/key_events.py:109: UserWarning: Could not perform tfidf\n",
      "  if len(summary_events) == 0 or len(processed_article_sentences) == 0:\n",
      "/home/carlos/MasterDS/tfm/scripts/extractive_summary/key_events_summary.py:196: UserWarning: Could not perform summary for https://matchcenter.mlssoccer.com/matchcenter/2018-10-06-san-jose-earthquakes-vs-new-york-red-bulls/feed\n",
      "  warnings.warn('Could not perform summary for {}'.format(match_url))\n"
     ]
    },
    {
     "name": "stdout",
     "output_type": "stream",
     "text": [
      "Number of original events: 120\n",
      "Number of processed events: 0\n"
     ]
    },
    {
     "name": "stderr",
     "output_type": "stream",
     "text": [
      "/home/carlos/MasterDS/tfm/scripts/extractive_summary/key_events_summary.py:196: UserWarning: Could not perform summary for https://matchcenter.mlssoccer.com/matchcenter/2018-08-11-portland-timbers-vs-vancouver-whitecaps-fc/feed\n",
      "  warnings.warn('Could not perform summary for {}'.format(match_url))\n"
     ]
    },
    {
     "name": "stdout",
     "output_type": "stream",
     "text": [
      "Number of original events: 92\n",
      "Number of processed events: 0\n"
     ]
    },
    {
     "name": "stderr",
     "output_type": "stream",
     "text": [
      "/home/carlos/MasterDS/tfm/scripts/extractive_summary/key_events_summary.py:196: UserWarning: Could not perform summary for https://matchcenter.mlssoccer.com/matchcenter/2018-09-01-real-salt-lake-vs-la-galaxy/feed\n",
      "  warnings.warn('Could not perform summary for {}'.format(match_url))\n"
     ]
    },
    {
     "name": "stdout",
     "output_type": "stream",
     "text": [
      "Number of original events: 81\n",
      "Number of processed events: 1\n",
      "Number of sentences in original article: 13\n",
      "Number of sentences in summary: 1\n"
     ]
    },
    {
     "name": "stderr",
     "output_type": "stream",
     "text": [
      "/home/carlos/MasterDS/tfm/scripts/extractive_summary/key_events.py:109: UserWarning: Could not perform tfidf\n",
      "  if len(summary_events) == 0 or len(processed_article_sentences) == 0:\n",
      "/home/carlos/MasterDS/tfm/scripts/extractive_summary/key_events_summary.py:196: UserWarning: Could not perform summary for https://matchcenter.mlssoccer.com/matchcenter/2018-06-15-portland-timbers-vs-la-galaxy/feed\n",
      "  warnings.warn('Could not perform summary for {}'.format(match_url))\n",
      " 15%|█▌        | 3/20 [20:20<1:45:39, 372.91s/it]"
     ]
    },
    {
     "name": "stdout",
     "output_type": "stream",
     "text": [
      "Number of original events: 103\n",
      "Number of processed events: 0\n",
      "Number of original events: 113\n",
      "Number of processed events: 3\n",
      "Number of sentences in original article: 13\n",
      "Number of sentences in summary: 2\n",
      "Number of original events: 118\n",
      "Number of processed events: 2\n"
     ]
    },
    {
     "name": "stderr",
     "output_type": "stream",
     "text": [
      "/home/carlos/MasterDS/tfm/scripts/extractive_summary/key_events.py:109: UserWarning: Could not perform tfidf\n",
      "  if len(summary_events) == 0 or len(processed_article_sentences) == 0:\n",
      "/home/carlos/MasterDS/tfm/scripts/extractive_summary/key_events_summary.py:196: UserWarning: Could not perform summary for https://www.bbc.com/sport/football/50537887\n",
      "  warnings.warn('Could not perform summary for {}'.format(match_url))\n"
     ]
    },
    {
     "name": "stdout",
     "output_type": "stream",
     "text": [
      "Number of original events: 117\n",
      "Number of processed events: 3\n"
     ]
    },
    {
     "name": "stderr",
     "output_type": "stream",
     "text": [
      "/home/carlos/MasterDS/tfm/scripts/extractive_summary/key_events_summary.py:196: UserWarning: Could not perform summary for https://www.bbc.com/sport/football/50537904\n",
      "  warnings.warn('Could not perform summary for {}'.format(match_url))\n"
     ]
    },
    {
     "name": "stdout",
     "output_type": "stream",
     "text": [
      "Number of original events: 97\n",
      "Number of processed events: 2\n"
     ]
    },
    {
     "name": "stderr",
     "output_type": "stream",
     "text": [
      "/home/carlos/MasterDS/tfm/scripts/extractive_summary/key_events_summary.py:196: UserWarning: Could not perform summary for https://www.bbc.com/sport/football/50537911\n",
      "  warnings.warn('Could not perform summary for {}'.format(match_url))\n"
     ]
    },
    {
     "name": "stdout",
     "output_type": "stream",
     "text": [
      "Number of original events: 98\n",
      "Number of processed events: 4\n"
     ]
    },
    {
     "name": "stderr",
     "output_type": "stream",
     "text": [
      "/home/carlos/MasterDS/tfm/scripts/extractive_summary/key_events_summary.py:196: UserWarning: Could not perform summary for https://www.bbc.com/sport/football/50537918\n",
      "  warnings.warn('Could not perform summary for {}'.format(match_url))\n"
     ]
    },
    {
     "name": "stdout",
     "output_type": "stream",
     "text": [
      "Number of original events: 120\n",
      "Number of processed events: 1\n"
     ]
    },
    {
     "name": "stderr",
     "output_type": "stream",
     "text": [
      "/home/carlos/MasterDS/tfm/scripts/extractive_summary/key_events_summary.py:196: UserWarning: Could not perform summary for https://www.bbc.com/sport/football/50537935\n",
      "  warnings.warn('Could not perform summary for {}'.format(match_url))\n"
     ]
    },
    {
     "name": "stdout",
     "output_type": "stream",
     "text": [
      "Number of original events: 81\n",
      "Number of processed events: 3\n",
      "Number of sentences in original article: 8\n",
      "Number of sentences in summary: 3\n",
      "Number of original events: 108\n",
      "Number of processed events: 3\n"
     ]
    },
    {
     "name": "stderr",
     "output_type": "stream",
     "text": [
      "/home/carlos/MasterDS/tfm/scripts/extractive_summary/key_events.py:109: UserWarning: Could not perform tfidf\n",
      "  if len(summary_events) == 0 or len(processed_article_sentences) == 0:\n",
      "/home/carlos/MasterDS/tfm/scripts/extractive_summary/key_events_summary.py:196: UserWarning: Could not perform summary for https://www.bbc.com/sport/football/50530362\n",
      "  warnings.warn('Could not perform summary for {}'.format(match_url))\n"
     ]
    },
    {
     "name": "stdout",
     "output_type": "stream",
     "text": [
      "Number of original events: 123\n",
      "Number of processed events: 2\n"
     ]
    },
    {
     "name": "stderr",
     "output_type": "stream",
     "text": [
      "/home/carlos/MasterDS/tfm/scripts/extractive_summary/key_events_summary.py:196: UserWarning: Could not perform summary for https://www.bbc.com/sport/football/50530369\n",
      "  warnings.warn('Could not perform summary for {}'.format(match_url))\n"
     ]
    },
    {
     "name": "stdout",
     "output_type": "stream",
     "text": [
      "Number of original events: 110\n",
      "Number of processed events: 3\n",
      "Number of sentences in original article: 14\n",
      "Number of sentences in summary: 3\n",
      "Number of original events: 95\n",
      "Number of processed events: 2\n"
     ]
    },
    {
     "name": "stderr",
     "output_type": "stream",
     "text": [
      "/home/carlos/MasterDS/tfm/scripts/extractive_summary/key_events.py:109: UserWarning: Could not perform tfidf\n",
      "  if len(summary_events) == 0 or len(processed_article_sentences) == 0:\n",
      "/home/carlos/MasterDS/tfm/scripts/extractive_summary/key_events_summary.py:196: UserWarning: Could not perform summary for https://www.bbc.com/sport/football/50524479\n",
      "  warnings.warn('Could not perform summary for {}'.format(match_url))\n"
     ]
    },
    {
     "name": "stdout",
     "output_type": "stream",
     "text": [
      "Number of original events: 82\n",
      "Number of processed events: 4\n",
      "Number of sentences in original article: 10\n",
      "Number of sentences in summary: 1\n",
      "Number of original events: 103\n",
      "Number of processed events: 5\n",
      "Number of sentences in original article: 10\n",
      "Number of sentences in summary: 2\n",
      "Number of original events: 95\n",
      "Number of processed events: 0\n"
     ]
    },
    {
     "name": "stderr",
     "output_type": "stream",
     "text": [
      "/home/carlos/MasterDS/tfm/scripts/extractive_summary/key_events.py:109: UserWarning: Could not perform tfidf\n",
      "  if len(summary_events) == 0 or len(processed_article_sentences) == 0:\n",
      "/home/carlos/MasterDS/tfm/scripts/extractive_summary/key_events_summary.py:196: UserWarning: Could not perform summary for https://www.bbc.com/sport/football/50281757\n",
      "  warnings.warn('Could not perform summary for {}'.format(match_url))\n"
     ]
    },
    {
     "name": "stdout",
     "output_type": "stream",
     "text": [
      "Number of original events: 118\n",
      "Number of processed events: 6\n"
     ]
    },
    {
     "name": "stderr",
     "output_type": "stream",
     "text": [
      "/home/carlos/MasterDS/tfm/scripts/extractive_summary/key_events_summary.py:196: UserWarning: Could not perform summary for https://www.bbc.com/sport/football/50281764\n",
      "  warnings.warn('Could not perform summary for {}'.format(match_url))\n"
     ]
    },
    {
     "name": "stdout",
     "output_type": "stream",
     "text": [
      "Number of original events: 96\n",
      "Number of processed events: 1\n"
     ]
    },
    {
     "name": "stderr",
     "output_type": "stream",
     "text": [
      "/home/carlos/MasterDS/tfm/scripts/extractive_summary/key_events_summary.py:196: UserWarning: Could not perform summary for https://www.bbc.com/sport/football/50281771\n",
      "  warnings.warn('Could not perform summary for {}'.format(match_url))\n"
     ]
    },
    {
     "name": "stdout",
     "output_type": "stream",
     "text": [
      "Number of original events: 112\n",
      "Number of processed events: 3\n"
     ]
    },
    {
     "name": "stderr",
     "output_type": "stream",
     "text": [
      "/home/carlos/MasterDS/tfm/scripts/extractive_summary/key_events_summary.py:196: UserWarning: Could not perform summary for https://www.bbc.com/sport/football/50281788\n",
      "  warnings.warn('Could not perform summary for {}'.format(match_url))\n"
     ]
    },
    {
     "name": "stdout",
     "output_type": "stream",
     "text": [
      "Number of original events: 111\n",
      "Number of processed events: 3\n",
      "Number of sentences in original article: 29\n",
      "Number of sentences in summary: 1\n",
      "Number of original events: 116\n",
      "Number of processed events: 3\n"
     ]
    },
    {
     "name": "stderr",
     "output_type": "stream",
     "text": [
      "/home/carlos/MasterDS/tfm/scripts/extractive_summary/key_events.py:109: UserWarning: Could not perform tfidf\n",
      "  if len(summary_events) == 0 or len(processed_article_sentences) == 0:\n",
      "/home/carlos/MasterDS/tfm/scripts/extractive_summary/key_events_summary.py:196: UserWarning: Could not perform summary for https://www.bbc.com/sport/football/50274891\n",
      "  warnings.warn('Could not perform summary for {}'.format(match_url))\n"
     ]
    },
    {
     "name": "stdout",
     "output_type": "stream",
     "text": [
      "Number of original events: 98\n",
      "Number of processed events: 6\n",
      "Number of sentences in original article: 6\n",
      "Number of sentences in summary: 3\n",
      "Number of original events: 117\n",
      "Number of processed events: 4\n"
     ]
    },
    {
     "name": "stderr",
     "output_type": "stream",
     "text": [
      "/home/carlos/MasterDS/tfm/scripts/extractive_summary/key_events.py:109: UserWarning: Could not perform tfidf\n",
      "  if len(summary_events) == 0 or len(processed_article_sentences) == 0:\n",
      "/home/carlos/MasterDS/tfm/scripts/extractive_summary/key_events_summary.py:196: UserWarning: Could not perform summary for https://www.bbc.com/sport/football/50274877\n",
      "  warnings.warn('Could not perform summary for {}'.format(match_url))\n"
     ]
    },
    {
     "name": "stdout",
     "output_type": "stream",
     "text": [
      "Number of original events: 120\n",
      "Number of processed events: 1\n",
      "Number of sentences in original article: 7\n",
      "Number of sentences in summary: 1\n",
      "Number of original events: 116\n",
      "Number of processed events: 0\n"
     ]
    },
    {
     "name": "stderr",
     "output_type": "stream",
     "text": [
      "/home/carlos/MasterDS/tfm/scripts/extractive_summary/key_events.py:109: UserWarning: Could not perform tfidf\n",
      "  if len(summary_events) == 0 or len(processed_article_sentences) == 0:\n",
      "/home/carlos/MasterDS/tfm/scripts/extractive_summary/key_events_summary.py:196: UserWarning: Could not perform summary for https://www.bbc.com/sport/football/51254943\n",
      "  warnings.warn('Could not perform summary for {}'.format(match_url))\n"
     ]
    },
    {
     "name": "stdout",
     "output_type": "stream",
     "text": [
      "Number of original events: 81\n",
      "Number of processed events: 3\n",
      "Number of sentences in original article: 6\n",
      "Number of sentences in summary: 2\n",
      "Number of original events: 102\n",
      "Number of processed events: 2\n",
      "Number of sentences in original article: 15\n",
      "Number of sentences in summary: 1\n",
      "Number of original events: 105\n",
      "Number of processed events: 1\n",
      "Number of sentences in original article: 14\n",
      "Number of sentences in summary: 1\n",
      "Number of original events: 106\n",
      "Number of processed events: 5\n",
      "Number of sentences in original article: 10\n",
      "Number of sentences in summary: 4\n",
      "Number of original events: 129\n",
      "Number of processed events: 3\n",
      "Number of sentences in original article: 7\n",
      "Number of sentences in summary: 1\n",
      "Number of original events: 102\n",
      "Number of processed events: 4\n",
      "Number of sentences in original article: 13\n",
      "Number of sentences in summary: 4\n",
      "Number of original events: 108\n",
      "Number of processed events: 5\n",
      "Number of sentences in original article: 9\n",
      "Number of sentences in summary: 2\n",
      "Number of original events: 98\n",
      "Number of processed events: 6\n",
      "Number of sentences in original article: 13\n",
      "Number of sentences in summary: 2\n",
      "Number of original events: 92\n",
      "Number of processed events: 1\n",
      "Number of sentences in original article: 7\n",
      "Number of sentences in summary: 1\n",
      "Number of original events: 96\n",
      "Number of processed events: 2\n",
      "Number of sentences in original article: 5\n",
      "Number of sentences in summary: 1\n",
      "Number of original events: 98\n",
      "Number of processed events: 3\n",
      "Number of sentences in original article: 17\n",
      "Number of sentences in summary: 1\n",
      "Number of original events: 117\n",
      "Number of processed events: 1\n",
      "Number of sentences in original article: 13\n",
      "Number of sentences in summary: 1\n",
      "Number of original events: 116\n",
      "Number of processed events: 6\n",
      "Number of sentences in original article: 7\n",
      "Number of sentences in summary: 4\n",
      "Number of original events: 114\n",
      "Number of processed events: 6\n",
      "Number of sentences in original article: 13\n",
      "Number of sentences in summary: 3\n",
      "Number of original events: 99\n",
      "Number of processed events: 0\n"
     ]
    },
    {
     "name": "stderr",
     "output_type": "stream",
     "text": [
      "/home/carlos/MasterDS/tfm/scripts/extractive_summary/key_events.py:109: UserWarning: Could not perform tfidf\n",
      "  if len(summary_events) == 0 or len(processed_article_sentences) == 0:\n",
      "/home/carlos/MasterDS/tfm/scripts/extractive_summary/key_events_summary.py:196: UserWarning: Could not perform summary for https://www.bbc.com/sport/football/50875023\n",
      "  warnings.warn('Could not perform summary for {}'.format(match_url))\n"
     ]
    },
    {
     "name": "stdout",
     "output_type": "stream",
     "text": [
      "Number of original events: 87\n",
      "Number of processed events: 5\n",
      "Number of sentences in original article: 11\n",
      "Number of sentences in summary: 3\n",
      "Number of original events: 98\n",
      "Number of processed events: 0\n"
     ]
    },
    {
     "name": "stderr",
     "output_type": "stream",
     "text": [
      "/home/carlos/MasterDS/tfm/scripts/extractive_summary/key_events.py:109: UserWarning: Could not perform tfidf\n",
      "  if len(summary_events) == 0 or len(processed_article_sentences) == 0:\n",
      "/home/carlos/MasterDS/tfm/scripts/extractive_summary/key_events_summary.py:196: UserWarning: Could not perform summary for https://www.bbc.com/sport/football/50817875\n",
      "  warnings.warn('Could not perform summary for {}'.format(match_url))\n"
     ]
    },
    {
     "name": "stdout",
     "output_type": "stream",
     "text": [
      "Number of original events: 100\n",
      "Number of processed events: 2\n",
      "Number of sentences in original article: 7\n",
      "Number of sentences in summary: 2\n",
      "Number of original events: 85\n",
      "Number of processed events: 4\n",
      "Number of sentences in original article: 8\n",
      "Number of sentences in summary: 2\n",
      "Number of original events: 93\n",
      "Number of processed events: 5\n",
      "Number of sentences in original article: 10\n",
      "Number of sentences in summary: 2\n",
      "Number of original events: 108\n",
      "Number of processed events: 2\n",
      "Number of sentences in original article: 10\n",
      "Number of sentences in summary: 1\n",
      "Number of original events: 109\n",
      "Number of processed events: 4\n"
     ]
    },
    {
     "name": "stderr",
     "output_type": "stream",
     "text": [
      "/home/carlos/MasterDS/tfm/scripts/extractive_summary/key_events.py:109: UserWarning: Could not perform tfidf\n",
      "  if len(summary_events) == 0 or len(processed_article_sentences) == 0:\n",
      "/home/carlos/MasterDS/tfm/scripts/extractive_summary/key_events_summary.py:196: UserWarning: Could not perform summary for https://www.bbc.com/sport/football/50692958\n",
      "  warnings.warn('Could not perform summary for {}'.format(match_url))\n"
     ]
    },
    {
     "name": "stdout",
     "output_type": "stream",
     "text": [
      "Number of original events: 111\n",
      "Number of processed events: 6\n"
     ]
    },
    {
     "name": "stderr",
     "output_type": "stream",
     "text": [
      "/home/carlos/MasterDS/tfm/scripts/extractive_summary/key_events_summary.py:196: UserWarning: Could not perform summary for https://www.bbc.com/sport/football/50692965\n",
      "  warnings.warn('Could not perform summary for {}'.format(match_url))\n"
     ]
    },
    {
     "name": "stdout",
     "output_type": "stream",
     "text": [
      "Number of original events: 113\n",
      "Number of processed events: 7\n",
      "Number of sentences in original article: 16\n",
      "Number of sentences in summary: 5\n",
      "Number of original events: 120\n",
      "Number of processed events: 0\n"
     ]
    },
    {
     "name": "stderr",
     "output_type": "stream",
     "text": [
      "/home/carlos/MasterDS/tfm/scripts/extractive_summary/key_events.py:109: UserWarning: Could not perform tfidf\n",
      "  if len(summary_events) == 0 or len(processed_article_sentences) == 0:\n",
      "/home/carlos/MasterDS/tfm/scripts/extractive_summary/key_events_summary.py:196: UserWarning: Could not perform summary for https://www.bbc.com/sport/football/50692867\n",
      "  warnings.warn('Could not perform summary for {}'.format(match_url))\n"
     ]
    },
    {
     "name": "stdout",
     "output_type": "stream",
     "text": [
      "Number of original events: 110\n",
      "Number of processed events: 1\n",
      "Number of sentences in original article: 10\n",
      "Number of sentences in summary: 1\n",
      "Number of original events: 92\n",
      "Number of processed events: 3\n",
      "Number of sentences in original article: 13\n",
      "Number of sentences in summary: 1\n",
      "Number of original events: 124\n",
      "Number of processed events: 4\n",
      "Number of sentences in original article: 4\n",
      "Number of sentences in summary: 2\n",
      "Number of original events: 96\n",
      "Number of processed events: 3\n",
      "Number of sentences in original article: 8\n",
      "Number of sentences in summary: 2\n",
      "Number of original events: 96\n",
      "Number of processed events: 2\n",
      "Number of sentences in original article: 33\n",
      "Number of sentences in summary: 1\n",
      "Number of original events: 109\n",
      "Number of processed events: 5\n",
      "Number of sentences in original article: 14\n",
      "Number of sentences in summary: 1\n",
      "Number of original events: 107\n",
      "Number of processed events: 1\n",
      "Number of sentences in original article: 14\n",
      "Number of sentences in summary: 1\n",
      "Number of original events: 91\n",
      "Number of processed events: 4\n",
      "Number of sentences in original article: 8\n",
      "Number of sentences in summary: 2\n",
      "Number of original events: 129\n",
      "Number of processed events: 5\n",
      "Number of sentences in original article: 14\n",
      "Number of sentences in summary: 5\n",
      "Number of original events: 105\n",
      "Number of processed events: 4\n",
      "Number of sentences in original article: 7\n",
      "Number of sentences in summary: 3\n",
      "Number of original events: 107\n",
      "Number of processed events: 5\n",
      "Number of sentences in original article: 7\n",
      "Number of sentences in summary: 2\n",
      "Number of original events: 128\n",
      "Number of processed events: 5\n",
      "Number of sentences in original article: 11\n",
      "Number of sentences in summary: 1\n",
      "Number of original events: 93\n",
      "Number of processed events: 3\n",
      "Number of sentences in original article: 7\n",
      "Number of sentences in summary: 2\n",
      "Number of original events: 104\n",
      "Number of processed events: 1\n",
      "Number of sentences in original article: 8\n",
      "Number of sentences in summary: 1\n",
      "Number of original events: 125\n",
      "Number of processed events: 2\n",
      "Number of sentences in original article: 8\n",
      "Number of sentences in summary: 2\n",
      "Number of original events: 107\n",
      "Number of processed events: 0\n"
     ]
    },
    {
     "name": "stderr",
     "output_type": "stream",
     "text": [
      "/home/carlos/MasterDS/tfm/scripts/extractive_summary/key_events.py:109: UserWarning: Could not perform tfidf\n",
      "  if len(summary_events) == 0 or len(processed_article_sentences) == 0:\n",
      "/home/carlos/MasterDS/tfm/scripts/extractive_summary/key_events_summary.py:196: UserWarning: Could not perform summary for https://www.bbc.com/sport/football/49865148\n",
      "  warnings.warn('Could not perform summary for {}'.format(match_url))\n"
     ]
    },
    {
     "name": "stdout",
     "output_type": "stream",
     "text": [
      "Number of original events: 101\n",
      "Number of processed events: 4\n",
      "Number of sentences in original article: 5\n",
      "Number of sentences in summary: 2\n",
      "Number of original events: 115\n",
      "Number of processed events: 2\n"
     ]
    },
    {
     "name": "stderr",
     "output_type": "stream",
     "text": [
      "/home/carlos/MasterDS/tfm/scripts/extractive_summary/key_events.py:109: UserWarning: Could not perform tfidf\n",
      "  if len(summary_events) == 0 or len(processed_article_sentences) == 0:\n",
      "/home/carlos/MasterDS/tfm/scripts/extractive_summary/key_events_summary.py:196: UserWarning: Could not perform summary for https://www.bbc.com/sport/football/49818218\n",
      "  warnings.warn('Could not perform summary for {}'.format(match_url))\n"
     ]
    },
    {
     "name": "stdout",
     "output_type": "stream",
     "text": [
      "Number of original events: 89\n",
      "Number of processed events: 3\n",
      "Number of sentences in original article: 13\n",
      "Number of sentences in summary: 2\n",
      "Number of original events: 110\n",
      "Number of processed events: 1\n",
      "Number of sentences in original article: 11\n",
      "Number of sentences in summary: 1\n",
      "Number of original events: 110\n",
      "Number of processed events: 2\n",
      "Number of sentences in original article: 21\n",
      "Number of sentences in summary: 2\n",
      "Number of original events: 112\n",
      "Number of processed events: 5\n",
      "Number of sentences in original article: 20\n",
      "Number of sentences in summary: 2\n",
      "Number of original events: 94\n",
      "Number of processed events: 8\n",
      "Number of sentences in original article: 14\n",
      "Number of sentences in summary: 4\n",
      "Number of original events: 85\n",
      "Number of processed events: 5\n",
      "Number of sentences in original article: 10\n",
      "Number of sentences in summary: 3\n"
     ]
    },
    {
     "name": "stderr",
     "output_type": "stream",
     "text": [
      " 20%|██        | 4/20 [22:44<1:21:09, 304.34s/it]"
     ]
    },
    {
     "name": "stdout",
     "output_type": "stream",
     "text": [
      "Number of original events: 97\n",
      "Number of processed events: 5\n",
      "Number of sentences in original article: 12\n",
      "Number of sentences in summary: 2\n",
      "Number of original events: 116\n",
      "Number of processed events: 5\n",
      "Number of sentences in original article: 9\n",
      "Number of sentences in summary: 3\n",
      "Number of original events: 101\n",
      "Number of processed events: 1\n",
      "Number of sentences in original article: 6\n",
      "Number of sentences in summary: 1\n",
      "Number of original events: 96\n",
      "Number of processed events: 4\n",
      "Number of sentences in original article: 8\n",
      "Number of sentences in summary: 3\n",
      "Number of original events: 90\n",
      "Number of processed events: 1\n",
      "Number of sentences in original article: 12\n",
      "Number of sentences in summary: 1\n",
      "Number of original events: 109\n",
      "Number of processed events: 1\n",
      "Number of sentences in original article: 19\n",
      "Number of sentences in summary: 1\n",
      "Number of original events: 125\n",
      "Number of processed events: 5\n",
      "Number of sentences in original article: 7\n",
      "Number of sentences in summary: 3\n",
      "Number of original events: 116\n",
      "Number of processed events: 4\n",
      "Number of sentences in original article: 7\n",
      "Number of sentences in summary: 3\n",
      "Number of original events: 90\n",
      "Number of processed events: 0\n"
     ]
    },
    {
     "name": "stderr",
     "output_type": "stream",
     "text": [
      "/home/carlos/MasterDS/tfm/scripts/extractive_summary/key_events.py:109: UserWarning: Could not perform tfidf\n",
      "  if len(summary_events) == 0 or len(processed_article_sentences) == 0:\n",
      "/home/carlos/MasterDS/tfm/scripts/extractive_summary/key_events_summary.py:196: UserWarning: Could not perform summary for https://www.espn.com/soccer/report?gameId=491602\n",
      "  warnings.warn('Could not perform summary for {}'.format(match_url))\n"
     ]
    },
    {
     "name": "stdout",
     "output_type": "stream",
     "text": [
      "Number of original events: 122\n",
      "Number of processed events: 3\n",
      "Number of sentences in original article: 23\n",
      "Number of sentences in summary: 2\n",
      "Number of original events: 117\n",
      "Number of processed events: 1\n",
      "Number of sentences in original article: 16\n",
      "Number of sentences in summary: 1\n",
      "Number of original events: 108\n",
      "Number of processed events: 3\n",
      "Number of sentences in original article: 3\n",
      "Number of sentences in summary: 2\n",
      "Number of original events: 101\n",
      "Number of processed events: 2\n",
      "Number of sentences in original article: 11\n",
      "Number of sentences in summary: 2\n",
      "Number of original events: 101\n",
      "Number of processed events: 1\n",
      "Number of sentences in original article: 7\n",
      "Number of sentences in summary: 1\n",
      "Number of original events: 114\n",
      "Number of processed events: 4\n",
      "Number of sentences in original article: 19\n",
      "Number of sentences in summary: 3\n",
      "Number of original events: 112\n",
      "Number of processed events: 3\n",
      "Number of sentences in original article: 15\n",
      "Number of sentences in summary: 2\n",
      "Number of original events: 99\n",
      "Number of processed events: 3\n",
      "Number of sentences in original article: 6\n",
      "Number of sentences in summary: 3\n",
      "Number of original events: 120\n",
      "Number of processed events: 0\n"
     ]
    },
    {
     "name": "stderr",
     "output_type": "stream",
     "text": [
      "/home/carlos/MasterDS/tfm/scripts/extractive_summary/key_events.py:109: UserWarning: Could not perform tfidf\n",
      "  if len(summary_events) == 0 or len(processed_article_sentences) == 0:\n",
      "/home/carlos/MasterDS/tfm/scripts/extractive_summary/key_events_summary.py:196: UserWarning: Could not perform summary for https://www.espn.com/soccer/report?gameId=491533\n",
      "  warnings.warn('Could not perform summary for {}'.format(match_url))\n"
     ]
    },
    {
     "name": "stdout",
     "output_type": "stream",
     "text": [
      "Number of original events: 116\n",
      "Number of processed events: 6\n",
      "Number of sentences in original article: 5\n",
      "Number of sentences in summary: 4\n",
      "Number of original events: 100\n",
      "Number of processed events: 3\n",
      "Number of sentences in original article: 5\n",
      "Number of sentences in summary: 2\n",
      "Number of original events: 109\n",
      "Number of processed events: 4\n",
      "Number of sentences in original article: 5\n",
      "Number of sentences in summary: 3\n",
      "Number of original events: 119\n",
      "Number of processed events: 4\n",
      "Number of sentences in original article: 20\n",
      "Number of sentences in summary: 4\n",
      "Number of original events: 122\n",
      "Number of processed events: 1\n",
      "Number of sentences in original article: 16\n",
      "Number of sentences in summary: 1\n",
      "Number of original events: 137\n",
      "Number of processed events: 4\n",
      "Number of sentences in original article: 11\n",
      "Number of sentences in summary: 2\n",
      "Number of original events: 108\n",
      "Number of processed events: 2\n",
      "Number of sentences in original article: 21\n",
      "Number of sentences in summary: 2\n",
      "Number of original events: 101\n",
      "Number of processed events: 5\n",
      "Number of sentences in original article: 4\n",
      "Number of sentences in summary: 2\n",
      "Number of original events: 107\n",
      "Number of processed events: 5\n",
      "Number of sentences in original article: 9\n",
      "Number of sentences in summary: 4\n",
      "Number of original events: 116\n",
      "Number of processed events: 7\n",
      "Number of sentences in original article: 5\n",
      "Number of sentences in summary: 3\n",
      "Number of original events: 110\n",
      "Number of processed events: 5\n",
      "Number of sentences in original article: 4\n",
      "Number of sentences in summary: 2\n",
      "Number of original events: 109\n",
      "Number of processed events: 3\n",
      "Number of sentences in original article: 15\n",
      "Number of sentences in summary: 3\n",
      "Number of original events: 119\n",
      "Number of processed events: 2\n",
      "Number of sentences in original article: 14\n",
      "Number of sentences in summary: 1\n",
      "Number of original events: 119\n",
      "Number of processed events: 2\n",
      "Number of sentences in original article: 3\n",
      "Number of sentences in summary: 1\n",
      "Number of original events: 121\n",
      "Number of processed events: 1\n",
      "Number of sentences in original article: 6\n",
      "Number of sentences in summary: 1\n",
      "Number of original events: 127\n",
      "Number of processed events: 2\n",
      "Number of sentences in original article: 10\n",
      "Number of sentences in summary: 2\n",
      "Number of original events: 132\n",
      "Number of processed events: 2\n",
      "Number of sentences in original article: 3\n",
      "Number of sentences in summary: 2\n",
      "Number of original events: 115\n",
      "Number of processed events: 2\n",
      "Number of sentences in original article: 8\n",
      "Number of sentences in summary: 2\n",
      "Number of original events: 111\n",
      "Number of processed events: 3\n",
      "Number of sentences in original article: 5\n",
      "Number of sentences in summary: 2\n",
      "Number of original events: 141\n",
      "Number of processed events: 3\n",
      "Number of sentences in original article: 10\n",
      "Number of sentences in summary: 3\n",
      "Number of original events: 104\n",
      "Number of processed events: 3\n",
      "Number of sentences in original article: 26\n",
      "Number of sentences in summary: 3\n",
      "Number of original events: 114\n",
      "Number of processed events: 5\n",
      "Number of sentences in original article: 4\n",
      "Number of sentences in summary: 3\n",
      "Number of original events: 90\n",
      "Number of processed events: 4\n",
      "Number of sentences in original article: 13\n",
      "Number of sentences in summary: 4\n",
      "Number of original events: 127\n",
      "Number of processed events: 5\n",
      "Number of sentences in original article: 14\n",
      "Number of sentences in summary: 4\n",
      "Number of original events: 84\n",
      "Number of processed events: 3\n",
      "Number of sentences in original article: 4\n",
      "Number of sentences in summary: 2\n",
      "Number of original events: 103\n",
      "Number of processed events: 0\n"
     ]
    },
    {
     "name": "stderr",
     "output_type": "stream",
     "text": [
      "/home/carlos/MasterDS/tfm/scripts/extractive_summary/key_events.py:109: UserWarning: Could not perform tfidf\n",
      "  if len(summary_events) == 0 or len(processed_article_sentences) == 0:\n",
      "/home/carlos/MasterDS/tfm/scripts/extractive_summary/key_events_summary.py:196: UserWarning: Could not perform summary for https://www.espn.com/soccer/report?gameId=491502\n",
      "  warnings.warn('Could not perform summary for {}'.format(match_url))\n"
     ]
    },
    {
     "name": "stdout",
     "output_type": "stream",
     "text": [
      "Number of original events: 116\n",
      "Number of processed events: 2\n",
      "Number of sentences in original article: 7\n",
      "Number of sentences in summary: 2\n",
      "Number of original events: 124\n",
      "Number of processed events: 0\n"
     ]
    },
    {
     "name": "stderr",
     "output_type": "stream",
     "text": [
      "/home/carlos/MasterDS/tfm/scripts/extractive_summary/key_events.py:109: UserWarning: Could not perform tfidf\n",
      "  if len(summary_events) == 0 or len(processed_article_sentences) == 0:\n",
      "/home/carlos/MasterDS/tfm/scripts/extractive_summary/key_events_summary.py:196: UserWarning: Could not perform summary for https://www.espn.com/soccer/report?gameId=491555\n",
      "  warnings.warn('Could not perform summary for {}'.format(match_url))\n"
     ]
    },
    {
     "name": "stdout",
     "output_type": "stream",
     "text": [
      "Number of original events: 115\n",
      "Number of processed events: 4\n",
      "Number of sentences in original article: 16\n",
      "Number of sentences in summary: 4\n",
      "Number of original events: 110\n",
      "Number of processed events: 4\n",
      "Number of sentences in original article: 18\n",
      "Number of sentences in summary: 4\n",
      "Number of original events: 113\n",
      "Number of processed events: 4\n",
      "Number of sentences in original article: 18\n",
      "Number of sentences in summary: 3\n",
      "Number of original events: 124\n",
      "Number of processed events: 2\n",
      "Number of sentences in original article: 14\n",
      "Number of sentences in summary: 2\n",
      "Number of original events: 132\n",
      "Number of processed events: 2\n",
      "Number of sentences in original article: 3\n",
      "Number of sentences in summary: 2\n",
      "Number of original events: 102\n",
      "Number of processed events: 2\n",
      "Number of sentences in original article: 8\n",
      "Number of sentences in summary: 2\n",
      "Number of original events: 123\n",
      "Number of processed events: 0\n"
     ]
    },
    {
     "name": "stderr",
     "output_type": "stream",
     "text": [
      "/home/carlos/MasterDS/tfm/scripts/extractive_summary/key_events.py:109: UserWarning: Could not perform tfidf\n",
      "  if len(summary_events) == 0 or len(processed_article_sentences) == 0:\n",
      "/home/carlos/MasterDS/tfm/scripts/extractive_summary/key_events_summary.py:196: UserWarning: Could not perform summary for https://www.espn.com/soccer/report?gameId=491532\n",
      "  warnings.warn('Could not perform summary for {}'.format(match_url))\n"
     ]
    },
    {
     "name": "stdout",
     "output_type": "stream",
     "text": [
      "Number of original events: 115\n",
      "Number of processed events: 4\n",
      "Number of sentences in original article: 7\n",
      "Number of sentences in summary: 2\n",
      "Number of original events: 106\n",
      "Number of processed events: 4\n",
      "Number of sentences in original article: 8\n",
      "Number of sentences in summary: 2\n",
      "Number of original events: 112\n",
      "Number of processed events: 5\n",
      "Number of sentences in original article: 4\n",
      "Number of sentences in summary: 3\n"
     ]
    },
    {
     "name": "stderr",
     "output_type": "stream",
     "text": [
      " 25%|██▌       | 5/20 [24:41<1:02:00, 248.05s/it]"
     ]
    },
    {
     "name": "stdout",
     "output_type": "stream",
     "text": [
      "Number of original events: 117\n",
      "Number of processed events: 3\n",
      "Number of sentences in original article: 12\n",
      "Number of sentences in summary: 3\n",
      "Number of original events: 102\n",
      "Number of processed events: 4\n",
      "Number of sentences in original article: 16\n",
      "Number of sentences in summary: 2\n",
      "Number of original events: 131\n",
      "Number of processed events: 4\n",
      "Number of sentences in original article: 5\n",
      "Number of sentences in summary: 1\n",
      "Number of original events: 114\n",
      "Number of processed events: 4\n",
      "Number of sentences in original article: 12\n",
      "Number of sentences in summary: 4\n",
      "Number of original events: 121\n",
      "Number of processed events: 7\n",
      "Number of sentences in original article: 4\n",
      "Number of sentences in summary: 3\n",
      "Number of original events: 122\n",
      "Number of processed events: 3\n",
      "Number of sentences in original article: 17\n",
      "Number of sentences in summary: 2\n",
      "Number of original events: 92\n",
      "Number of processed events: 3\n",
      "Number of sentences in original article: 6\n",
      "Number of sentences in summary: 2\n",
      "Number of original events: 104\n",
      "Number of processed events: 1\n",
      "Number of sentences in original article: 21\n",
      "Number of sentences in summary: 1\n",
      "Number of original events: 69\n",
      "Number of processed events: 7\n",
      "Number of sentences in original article: 12\n",
      "Number of sentences in summary: 1\n",
      "Number of original events: 115\n",
      "Number of processed events: 3\n",
      "Number of sentences in original article: 7\n",
      "Number of sentences in summary: 2\n",
      "Number of original events: 125\n",
      "Number of processed events: 2\n",
      "Number of sentences in original article: 6\n",
      "Number of sentences in summary: 2\n",
      "Number of original events: 115\n",
      "Number of processed events: 3\n",
      "Number of sentences in original article: 6\n",
      "Number of sentences in summary: 1\n",
      "Number of original events: 140\n",
      "Number of processed events: 1\n",
      "Number of sentences in original article: 6\n",
      "Number of sentences in summary: 1\n",
      "Number of original events: 125\n",
      "Number of processed events: 4\n",
      "Number of sentences in original article: 15\n",
      "Number of sentences in summary: 3\n",
      "Number of original events: 122\n",
      "Number of processed events: 3\n",
      "Number of sentences in original article: 8\n",
      "Number of sentences in summary: 3\n",
      "Number of original events: 107\n",
      "Number of processed events: 3\n",
      "Number of sentences in original article: 11\n",
      "Number of sentences in summary: 2\n",
      "Number of original events: 111\n",
      "Number of processed events: 2\n",
      "Number of sentences in original article: 7\n",
      "Number of sentences in summary: 1\n",
      "Number of original events: 89\n",
      "Number of processed events: 2\n",
      "Number of sentences in original article: 16\n",
      "Number of sentences in summary: 1\n",
      "Number of original events: 96\n",
      "Number of processed events: 4\n",
      "Number of sentences in original article: 18\n",
      "Number of sentences in summary: 3\n",
      "Number of original events: 96\n",
      "Number of processed events: 3\n",
      "Number of sentences in original article: 20\n",
      "Number of sentences in summary: 3\n",
      "Number of original events: 103\n",
      "Number of processed events: 3\n",
      "Number of sentences in original article: 4\n",
      "Number of sentences in summary: 2\n",
      "Number of original events: 99\n",
      "Number of processed events: 3\n",
      "Number of sentences in original article: 15\n",
      "Number of sentences in summary: 3\n",
      "Number of original events: 108\n",
      "Number of processed events: 4\n",
      "Number of sentences in original article: 23\n",
      "Number of sentences in summary: 2\n",
      "Number of original events: 99\n",
      "Number of processed events: 2\n",
      "Number of sentences in original article: 4\n",
      "Number of sentences in summary: 1\n",
      "Number of original events: 112\n",
      "Number of processed events: 5\n",
      "Number of sentences in original article: 4\n",
      "Number of sentences in summary: 1\n",
      "Number of original events: 108\n",
      "Number of processed events: 1\n",
      "Number of sentences in original article: 10\n",
      "Number of sentences in summary: 1\n",
      "Number of original events: 139\n",
      "Number of processed events: 7\n",
      "Number of sentences in original article: 14\n",
      "Number of sentences in summary: 2\n",
      "Number of original events: 100\n",
      "Number of processed events: 2\n",
      "Number of sentences in original article: 32\n",
      "Number of sentences in summary: 2\n",
      "Number of original events: 124\n",
      "Number of processed events: 2\n",
      "Number of sentences in original article: 4\n",
      "Number of sentences in summary: 2\n",
      "Number of original events: 89\n",
      "Number of processed events: 2\n",
      "Number of sentences in original article: 17\n",
      "Number of sentences in summary: 1\n",
      "Number of original events: 115\n",
      "Number of processed events: 4\n",
      "Number of sentences in original article: 18\n",
      "Number of sentences in summary: 3\n",
      "Number of original events: 118\n",
      "Number of processed events: 2\n",
      "Number of sentences in original article: 6\n",
      "Number of sentences in summary: 2\n",
      "Number of original events: 83\n",
      "Number of processed events: 5\n",
      "Number of sentences in original article: 14\n",
      "Number of sentences in summary: 3\n",
      "Number of original events: 135\n",
      "Number of processed events: 1\n",
      "Number of sentences in original article: 19\n",
      "Number of sentences in summary: 1\n",
      "Number of original events: 126\n",
      "Number of processed events: 0\n"
     ]
    },
    {
     "name": "stderr",
     "output_type": "stream",
     "text": [
      "/home/carlos/MasterDS/tfm/scripts/extractive_summary/key_events.py:109: UserWarning: Could not perform tfidf\n",
      "  if len(summary_events) == 0 or len(processed_article_sentences) == 0:\n",
      "/home/carlos/MasterDS/tfm/scripts/extractive_summary/key_events_summary.py:196: UserWarning: Could not perform summary for https://www.espn.com/soccer/report?gameId=487138\n",
      "  warnings.warn('Could not perform summary for {}'.format(match_url))\n"
     ]
    },
    {
     "name": "stdout",
     "output_type": "stream",
     "text": [
      "Number of original events: 115\n",
      "Number of processed events: 3\n",
      "Number of sentences in original article: 4\n",
      "Number of sentences in summary: 2\n",
      "Number of original events: 140\n",
      "Number of processed events: 7\n",
      "Number of sentences in original article: 23\n",
      "Number of sentences in summary: 5\n"
     ]
    },
    {
     "name": "stderr",
     "output_type": "stream",
     "text": [
      " 30%|███       | 6/20 [25:59<45:59, 197.12s/it]  "
     ]
    },
    {
     "name": "stdout",
     "output_type": "stream",
     "text": [
      "Number of original events: 73\n",
      "Number of processed events: 3\n",
      "Number of sentences in original article: 12\n",
      "Number of sentences in summary: 1\n",
      "Number of original events: 103\n",
      "Number of processed events: 0\n"
     ]
    },
    {
     "name": "stderr",
     "output_type": "stream",
     "text": [
      "/home/carlos/MasterDS/tfm/scripts/extractive_summary/key_events.py:109: UserWarning: Could not perform tfidf\n",
      "  if len(summary_events) == 0 or len(processed_article_sentences) == 0:\n",
      "/home/carlos/MasterDS/tfm/scripts/extractive_summary/key_events_summary.py:196: UserWarning: Could not perform summary for https://matchcenter.mlssoccer.com/matchcenter/2015-06-27-toronto-fc-vs-dc-united/feed\n",
      "  warnings.warn('Could not perform summary for {}'.format(match_url))\n"
     ]
    },
    {
     "name": "stdout",
     "output_type": "stream",
     "text": [
      "Number of original events: 108\n",
      "Number of processed events: 0\n"
     ]
    },
    {
     "name": "stderr",
     "output_type": "stream",
     "text": [
      "/home/carlos/MasterDS/tfm/scripts/extractive_summary/key_events_summary.py:196: UserWarning: Could not perform summary for https://matchcenter.mlssoccer.com/matchcenter/2015-11-08-new-york-red-bulls-vs-dc-united/feed\n",
      "  warnings.warn('Could not perform summary for {}'.format(match_url))\n"
     ]
    },
    {
     "name": "stdout",
     "output_type": "stream",
     "text": [
      "Number of original events: 86\n",
      "Number of processed events: 0\n"
     ]
    },
    {
     "name": "stderr",
     "output_type": "stream",
     "text": [
      "/home/carlos/MasterDS/tfm/scripts/extractive_summary/key_events_summary.py:196: UserWarning: Could not perform summary for https://matchcenter.mlssoccer.com/matchcenter/2015-03-15-portland-timbers-vs-la-galaxy/feed\n",
      "  warnings.warn('Could not perform summary for {}'.format(match_url))\n"
     ]
    },
    {
     "name": "stdout",
     "output_type": "stream",
     "text": [
      "Number of original events: 69\n",
      "Number of processed events: 0\n"
     ]
    },
    {
     "name": "stderr",
     "output_type": "stream",
     "text": [
      "/home/carlos/MasterDS/tfm/scripts/extractive_summary/key_events_summary.py:196: UserWarning: Could not perform summary for https://matchcenter.mlssoccer.com/matchcenter/2015-05-09-fc-dallas-vs-la-galaxy/feed\n",
      "  warnings.warn('Could not perform summary for {}'.format(match_url))\n"
     ]
    },
    {
     "name": "stdout",
     "output_type": "stream",
     "text": [
      "Number of original events: 100\n",
      "Number of processed events: 0\n"
     ]
    },
    {
     "name": "stderr",
     "output_type": "stream",
     "text": [
      "/home/carlos/MasterDS/tfm/scripts/extractive_summary/key_events_summary.py:196: UserWarning: Could not perform summary for https://matchcenter.mlssoccer.com/matchcenter/2015-05-27-seattle-sounders-fc-vs-colorado-rapids/feed\n",
      "  warnings.warn('Could not perform summary for {}'.format(match_url))\n"
     ]
    },
    {
     "name": "stdout",
     "output_type": "stream",
     "text": [
      "Number of original events: 90\n",
      "Number of processed events: 0\n"
     ]
    },
    {
     "name": "stderr",
     "output_type": "stream",
     "text": [
      "/home/carlos/MasterDS/tfm/scripts/extractive_summary/key_events_summary.py:196: UserWarning: Could not perform summary for https://matchcenter.mlssoccer.com/matchcenter/2015-05-23-new-england-revolution-vs-dc-united/feed\n",
      "  warnings.warn('Could not perform summary for {}'.format(match_url))\n"
     ]
    },
    {
     "name": "stdout",
     "output_type": "stream",
     "text": [
      "Number of original events: 104\n",
      "Number of processed events: 0\n"
     ]
    },
    {
     "name": "stderr",
     "output_type": "stream",
     "text": [
      "/home/carlos/MasterDS/tfm/scripts/extractive_summary/key_events_summary.py:196: UserWarning: Could not perform summary for https://matchcenter.mlssoccer.com/matchcenter/2015-06-24-la-galaxy-vs-portland-timbers/feed\n",
      "  warnings.warn('Could not perform summary for {}'.format(match_url))\n"
     ]
    },
    {
     "name": "stdout",
     "output_type": "stream",
     "text": [
      "Number of original events: 110\n",
      "Number of processed events: 0\n"
     ]
    },
    {
     "name": "stderr",
     "output_type": "stream",
     "text": [
      "/home/carlos/MasterDS/tfm/scripts/extractive_summary/key_events_summary.py:196: UserWarning: Could not perform summary for https://matchcenter.mlssoccer.com/matchcenter/2015-04-11-dc-united-vs-new-york-red-bulls/feed\n",
      "  warnings.warn('Could not perform summary for {}'.format(match_url))\n"
     ]
    },
    {
     "name": "stdout",
     "output_type": "stream",
     "text": [
      "Number of original events: 96\n",
      "Number of processed events: 0\n"
     ]
    },
    {
     "name": "stderr",
     "output_type": "stream",
     "text": [
      "/home/carlos/MasterDS/tfm/scripts/extractive_summary/key_events_summary.py:196: UserWarning: Could not perform summary for https://matchcenter.mlssoccer.com/matchcenter/2015-05-09-columbus-crew-sc-vs-seattle-sounders-fc/feed\n",
      "  warnings.warn('Could not perform summary for {}'.format(match_url))\n"
     ]
    },
    {
     "name": "stdout",
     "output_type": "stream",
     "text": [
      "Number of original events: 10\n",
      "Number of processed events: 0\n"
     ]
    },
    {
     "name": "stderr",
     "output_type": "stream",
     "text": [
      "/home/carlos/MasterDS/tfm/scripts/extractive_summary/key_events_summary.py:196: UserWarning: Could not perform summary for https://matchcenter.mlssoccer.com/matchcenter/2015-06-16-chicago-fire-vs-louisville-city/feed\n",
      "  warnings.warn('Could not perform summary for {}'.format(match_url))\n"
     ]
    },
    {
     "name": "stdout",
     "output_type": "stream",
     "text": [
      "Number of original events: 85\n",
      "Number of processed events: 0\n"
     ]
    },
    {
     "name": "stderr",
     "output_type": "stream",
     "text": [
      "/home/carlos/MasterDS/tfm/scripts/extractive_summary/key_events_summary.py:196: UserWarning: Could not perform summary for https://matchcenter.mlssoccer.com/matchcenter/2015-08-18-la-galaxy-vs-csd-comunicaciones/feed\n",
      "  warnings.warn('Could not perform summary for {}'.format(match_url))\n"
     ]
    },
    {
     "name": "stdout",
     "output_type": "stream",
     "text": [
      "Number of original events: 93\n",
      "Number of processed events: 0\n"
     ]
    },
    {
     "name": "stderr",
     "output_type": "stream",
     "text": [
      "/home/carlos/MasterDS/tfm/scripts/extractive_summary/key_events_summary.py:196: UserWarning: Could not perform summary for https://matchcenter.mlssoccer.com/matchcenter/2015-09-12-colorado-rapids-vs-dc-united/feed\n",
      "  warnings.warn('Could not perform summary for {}'.format(match_url))\n"
     ]
    },
    {
     "name": "stdout",
     "output_type": "stream",
     "text": [
      "Number of original events: 93\n",
      "Number of processed events: 0\n"
     ]
    },
    {
     "name": "stderr",
     "output_type": "stream",
     "text": [
      "/home/carlos/MasterDS/tfm/scripts/extractive_summary/key_events_summary.py:196: UserWarning: Could not perform summary for https://matchcenter.mlssoccer.com/matchcenter/2015-09-15-dc-united-vs-arabe-unido/feed\n",
      "  warnings.warn('Could not perform summary for {}'.format(match_url))\n"
     ]
    },
    {
     "name": "stdout",
     "output_type": "stream",
     "text": [
      "Number of original events: 100\n",
      "Number of processed events: 0\n"
     ]
    },
    {
     "name": "stderr",
     "output_type": "stream",
     "text": [
      "/home/carlos/MasterDS/tfm/scripts/extractive_summary/key_events_summary.py:196: UserWarning: Could not perform summary for https://matchcenter.mlssoccer.com/matchcenter/2015-08-01-colorado-rapids-vs-la-galaxy/feed\n",
      "  warnings.warn('Could not perform summary for {}'.format(match_url))\n"
     ]
    },
    {
     "name": "stdout",
     "output_type": "stream",
     "text": [
      "Number of original events: 95\n",
      "Number of processed events: 0\n"
     ]
    },
    {
     "name": "stderr",
     "output_type": "stream",
     "text": [
      "/home/carlos/MasterDS/tfm/scripts/extractive_summary/key_events_summary.py:196: UserWarning: Could not perform summary for https://matchcenter.mlssoccer.com/matchcenter/2015-11-17-el-salvador-vs-canada/feed\n",
      "  warnings.warn('Could not perform summary for {}'.format(match_url))\n"
     ]
    },
    {
     "name": "stdout",
     "output_type": "stream",
     "text": [
      "Number of original events: 83\n",
      "Number of processed events: 0\n"
     ]
    },
    {
     "name": "stderr",
     "output_type": "stream",
     "text": [
      "/home/carlos/MasterDS/tfm/scripts/extractive_summary/key_events_summary.py:196: UserWarning: Could not perform summary for https://matchcenter.mlssoccer.com/matchcenter/2015-04-11-sporting-kansas-city-vs-real-salt-lake/feed\n",
      "  warnings.warn('Could not perform summary for {}'.format(match_url))\n"
     ]
    },
    {
     "name": "stdout",
     "output_type": "stream",
     "text": [
      "Number of original events: 89\n",
      "Number of processed events: 0\n"
     ]
    },
    {
     "name": "stderr",
     "output_type": "stream",
     "text": [
      "/home/carlos/MasterDS/tfm/scripts/extractive_summary/key_events_summary.py:196: UserWarning: Could not perform summary for https://matchcenter.mlssoccer.com/matchcenter/2015-06-20-montreal-impact-vs-orlando-city-sc/feed\n",
      "  warnings.warn('Could not perform summary for {}'.format(match_url))\n"
     ]
    },
    {
     "name": "stdout",
     "output_type": "stream",
     "text": [
      "Number of original events: 119\n",
      "Number of processed events: 0\n"
     ]
    },
    {
     "name": "stderr",
     "output_type": "stream",
     "text": [
      "/home/carlos/MasterDS/tfm/scripts/extractive_summary/key_events_summary.py:196: UserWarning: Could not perform summary for https://matchcenter.mlssoccer.com/matchcenter/2015-04-07-alajuelense-vs-montreal-impact/feed\n",
      "  warnings.warn('Could not perform summary for {}'.format(match_url))\n"
     ]
    },
    {
     "name": "stdout",
     "output_type": "stream",
     "text": [
      "Number of original events: 123\n",
      "Number of processed events: 0\n"
     ]
    },
    {
     "name": "stderr",
     "output_type": "stream",
     "text": [
      "/home/carlos/MasterDS/tfm/scripts/extractive_summary/key_events_summary.py:196: UserWarning: Could not perform summary for https://matchcenter.mlssoccer.com/matchcenter/2015-04-18-colorado-rapids-vs-seattle-sounders-fc/feed\n",
      "  warnings.warn('Could not perform summary for {}'.format(match_url))\n"
     ]
    },
    {
     "name": "stdout",
     "output_type": "stream",
     "text": [
      "Number of original events: 98\n",
      "Number of processed events: 0\n"
     ]
    },
    {
     "name": "stderr",
     "output_type": "stream",
     "text": [
      "/home/carlos/MasterDS/tfm/scripts/extractive_summary/key_events_summary.py:196: UserWarning: Could not perform summary for https://matchcenter.mlssoccer.com/matchcenter/2015-03-14-fc-dallas-vs-sporting-kansas-city/feed\n",
      "  warnings.warn('Could not perform summary for {}'.format(match_url))\n"
     ]
    },
    {
     "name": "stdout",
     "output_type": "stream",
     "text": [
      "Number of original events: 93\n",
      "Number of processed events: 0\n"
     ]
    },
    {
     "name": "stderr",
     "output_type": "stream",
     "text": [
      "/home/carlos/MasterDS/tfm/scripts/extractive_summary/key_events_summary.py:196: UserWarning: Could not perform summary for https://matchcenter.mlssoccer.com/matchcenter/2015-08-01-philadelphia-union-vs-new-york-red-bulls/feed\n",
      "  warnings.warn('Could not perform summary for {}'.format(match_url))\n"
     ]
    },
    {
     "name": "stdout",
     "output_type": "stream",
     "text": [
      "Number of original events: 89\n",
      "Number of processed events: 0\n"
     ]
    },
    {
     "name": "stderr",
     "output_type": "stream",
     "text": [
      "/home/carlos/MasterDS/tfm/scripts/extractive_summary/key_events_summary.py:196: UserWarning: Could not perform summary for https://matchcenter.mlssoccer.com/matchcenter/2015-10-17-new-england-revolution-vs-montreal-impact/feed\n",
      "  warnings.warn('Could not perform summary for {}'.format(match_url))\n"
     ]
    },
    {
     "name": "stdout",
     "output_type": "stream",
     "text": [
      "Number of original events: 118\n",
      "Number of processed events: 0\n"
     ]
    },
    {
     "name": "stderr",
     "output_type": "stream",
     "text": [
      "/home/carlos/MasterDS/tfm/scripts/extractive_summary/key_events_summary.py:196: UserWarning: Could not perform summary for https://matchcenter.mlssoccer.com/matchcenter/2015-10-21-csd-comunicaciones-vs-la-galaxy/feed\n",
      "  warnings.warn('Could not perform summary for {}'.format(match_url))\n"
     ]
    },
    {
     "name": "stdout",
     "output_type": "stream",
     "text": [
      "Number of original events: 109\n",
      "Number of processed events: 0\n"
     ]
    },
    {
     "name": "stderr",
     "output_type": "stream",
     "text": [
      "/home/carlos/MasterDS/tfm/scripts/extractive_summary/key_events_summary.py:196: UserWarning: Could not perform summary for https://matchcenter.mlssoccer.com/matchcenter/2015-03-22-san-jose-earthquakes-vs-chicago-fire/feed\n",
      "  warnings.warn('Could not perform summary for {}'.format(match_url))\n"
     ]
    },
    {
     "name": "stdout",
     "output_type": "stream",
     "text": [
      "Number of original events: 97\n",
      "Number of processed events: 0\n"
     ]
    },
    {
     "name": "stderr",
     "output_type": "stream",
     "text": [
      "/home/carlos/MasterDS/tfm/scripts/extractive_summary/key_events_summary.py:196: UserWarning: Could not perform summary for https://matchcenter.mlssoccer.com/matchcenter/2015-04-18-real-salt-lake-vs-vancouver-whitecaps-fc/feed\n",
      "  warnings.warn('Could not perform summary for {}'.format(match_url))\n"
     ]
    },
    {
     "name": "stdout",
     "output_type": "stream",
     "text": [
      "Number of original events: 79\n",
      "Number of processed events: 0\n"
     ]
    },
    {
     "name": "stderr",
     "output_type": "stream",
     "text": [
      "/home/carlos/MasterDS/tfm/scripts/extractive_summary/key_events_summary.py:196: UserWarning: Could not perform summary for https://matchcenter.mlssoccer.com/matchcenter/2015-05-02-dc-united-vs-columbus-crew-sc/feed\n",
      "  warnings.warn('Could not perform summary for {}'.format(match_url))\n"
     ]
    },
    {
     "name": "stdout",
     "output_type": "stream",
     "text": [
      "Number of original events: 89\n",
      "Number of processed events: 0\n"
     ]
    },
    {
     "name": "stderr",
     "output_type": "stream",
     "text": [
      "/home/carlos/MasterDS/tfm/scripts/extractive_summary/key_events_summary.py:196: UserWarning: Could not perform summary for https://matchcenter.mlssoccer.com/matchcenter/2015-06-30-chicago-fire-vs-charlotte-independence/feed\n",
      "  warnings.warn('Could not perform summary for {}'.format(match_url))\n"
     ]
    },
    {
     "name": "stdout",
     "output_type": "stream",
     "text": [
      "Number of original events: 90\n",
      "Number of processed events: 0\n"
     ]
    },
    {
     "name": "stderr",
     "output_type": "stream",
     "text": [
      "/home/carlos/MasterDS/tfm/scripts/extractive_summary/key_events_summary.py:196: UserWarning: Could not perform summary for https://matchcenter.mlssoccer.com/matchcenter/2015-05-02-la-galaxy-vs-colorado-rapids/feed\n",
      "  warnings.warn('Could not perform summary for {}'.format(match_url))\n"
     ]
    },
    {
     "name": "stdout",
     "output_type": "stream",
     "text": [
      "Number of original events: 88\n",
      "Number of processed events: 0\n"
     ]
    },
    {
     "name": "stderr",
     "output_type": "stream",
     "text": [
      "/home/carlos/MasterDS/tfm/scripts/extractive_summary/key_events_summary.py:196: UserWarning: Could not perform summary for https://matchcenter.mlssoccer.com/matchcenter/2015-08-12-philadelphia-union-vs-chicago-fire/feed\n",
      "  warnings.warn('Could not perform summary for {}'.format(match_url))\n"
     ]
    },
    {
     "name": "stdout",
     "output_type": "stream",
     "text": [
      "Number of original events: 91\n",
      "Number of processed events: 0\n"
     ]
    },
    {
     "name": "stderr",
     "output_type": "stream",
     "text": [
      "/home/carlos/MasterDS/tfm/scripts/extractive_summary/key_events_summary.py:196: UserWarning: Could not perform summary for https://matchcenter.mlssoccer.com/matchcenter/2015-09-05-new-england-revolution-vs-orlando-city-sc/feed\n",
      "  warnings.warn('Could not perform summary for {}'.format(match_url))\n"
     ]
    },
    {
     "name": "stdout",
     "output_type": "stream",
     "text": [
      "Number of original events: 107\n",
      "Number of processed events: 0\n"
     ]
    },
    {
     "name": "stderr",
     "output_type": "stream",
     "text": [
      "/home/carlos/MasterDS/tfm/scripts/extractive_summary/key_events_summary.py:196: UserWarning: Could not perform summary for https://matchcenter.mlssoccer.com/matchcenter/2015-03-08-sporting-kansas-city-vs-new-york-red-bulls/feed\n",
      "  warnings.warn('Could not perform summary for {}'.format(match_url))\n"
     ]
    },
    {
     "name": "stdout",
     "output_type": "stream",
     "text": [
      "Number of original events: 103\n",
      "Number of processed events: 0\n"
     ]
    },
    {
     "name": "stderr",
     "output_type": "stream",
     "text": [
      "/home/carlos/MasterDS/tfm/scripts/extractive_summary/key_events_summary.py:196: UserWarning: Could not perform summary for https://matchcenter.mlssoccer.com/matchcenter/2015-10-25-sporting-kansas-city-vs-la-galaxy/feed\n",
      "  warnings.warn('Could not perform summary for {}'.format(match_url))\n"
     ]
    },
    {
     "name": "stdout",
     "output_type": "stream",
     "text": [
      "Number of original events: 98\n",
      "Number of processed events: 0\n"
     ]
    },
    {
     "name": "stderr",
     "output_type": "stream",
     "text": [
      "/home/carlos/MasterDS/tfm/scripts/extractive_summary/key_events_summary.py:196: UserWarning: Could not perform summary for https://matchcenter.mlssoccer.com/matchcenter/2015-06-20-portland-timbers-vs-houston-dynamo/feed\n",
      "  warnings.warn('Could not perform summary for {}'.format(match_url))\n"
     ]
    },
    {
     "name": "stdout",
     "output_type": "stream",
     "text": [
      "Number of original events: 110\n",
      "Number of processed events: 0\n"
     ]
    },
    {
     "name": "stderr",
     "output_type": "stream",
     "text": [
      "/home/carlos/MasterDS/tfm/scripts/extractive_summary/key_events_summary.py:196: UserWarning: Could not perform summary for https://matchcenter.mlssoccer.com/matchcenter/2015-08-22-chicago-fire-vs-colorado-rapids/feed\n",
      "  warnings.warn('Could not perform summary for {}'.format(match_url))\n"
     ]
    },
    {
     "name": "stdout",
     "output_type": "stream",
     "text": [
      "Number of original events: 108\n",
      "Number of processed events: 0\n"
     ]
    },
    {
     "name": "stderr",
     "output_type": "stream",
     "text": [
      "/home/carlos/MasterDS/tfm/scripts/extractive_summary/key_events_summary.py:196: UserWarning: Could not perform summary for https://matchcenter.mlssoccer.com/matchcenter/2015-10-20-real-salt-lake-vs-csd-municipal/feed\n",
      "  warnings.warn('Could not perform summary for {}'.format(match_url))\n"
     ]
    },
    {
     "name": "stdout",
     "output_type": "stream",
     "text": [
      "Number of original events: 85\n",
      "Number of processed events: 0\n"
     ]
    },
    {
     "name": "stderr",
     "output_type": "stream",
     "text": [
      "/home/carlos/MasterDS/tfm/scripts/extractive_summary/key_events_summary.py:196: UserWarning: Could not perform summary for https://matchcenter.mlssoccer.com/matchcenter/2015-07-25-houston-dynamo-vs-la-galaxy/feed\n",
      "  warnings.warn('Could not perform summary for {}'.format(match_url))\n"
     ]
    },
    {
     "name": "stdout",
     "output_type": "stream",
     "text": [
      "Number of original events: 116\n",
      "Number of processed events: 0\n"
     ]
    },
    {
     "name": "stderr",
     "output_type": "stream",
     "text": [
      "/home/carlos/MasterDS/tfm/scripts/extractive_summary/key_events_summary.py:196: UserWarning: Could not perform summary for https://matchcenter.mlssoccer.com/matchcenter/2015-08-21-portland-timbers-vs-houston-dynamo/feed\n",
      "  warnings.warn('Could not perform summary for {}'.format(match_url))\n"
     ]
    },
    {
     "name": "stdout",
     "output_type": "stream",
     "text": [
      "Number of original events: 82\n",
      "Number of processed events: 0\n"
     ]
    },
    {
     "name": "stderr",
     "output_type": "stream",
     "text": [
      "/home/carlos/MasterDS/tfm/scripts/extractive_summary/key_events_summary.py:196: UserWarning: Could not perform summary for https://matchcenter.mlssoccer.com/matchcenter/2015-03-25-denmark-vs-us-mens-national-team/feed\n",
      "  warnings.warn('Could not perform summary for {}'.format(match_url))\n"
     ]
    },
    {
     "name": "stdout",
     "output_type": "stream",
     "text": [
      "Number of original events: 77\n",
      "Number of processed events: 0\n"
     ]
    },
    {
     "name": "stderr",
     "output_type": "stream",
     "text": [
      "/home/carlos/MasterDS/tfm/scripts/extractive_summary/key_events_summary.py:196: UserWarning: Could not perform summary for https://matchcenter.mlssoccer.com/matchcenter/2015-08-26-colorado-rapids-vs-houston-dynamo/feed\n",
      "  warnings.warn('Could not perform summary for {}'.format(match_url))\n"
     ]
    },
    {
     "name": "stdout",
     "output_type": "stream",
     "text": [
      "Number of original events: 95\n",
      "Number of processed events: 0\n"
     ]
    },
    {
     "name": "stderr",
     "output_type": "stream",
     "text": [
      "/home/carlos/MasterDS/tfm/scripts/extractive_summary/key_events_summary.py:196: UserWarning: Could not perform summary for https://matchcenter.mlssoccer.com/matchcenter/2015-05-09-vancouver-whitecaps-fc-vs-philadelphia-union/feed\n",
      "  warnings.warn('Could not perform summary for {}'.format(match_url))\n"
     ]
    },
    {
     "name": "stdout",
     "output_type": "stream",
     "text": [
      "Number of original events: 99\n",
      "Number of processed events: 1\n",
      "Number of sentences in original article: 19\n",
      "Number of sentences in summary: 1\n",
      "Number of original events: 80\n",
      "Number of processed events: 0\n"
     ]
    },
    {
     "name": "stderr",
     "output_type": "stream",
     "text": [
      "/home/carlos/MasterDS/tfm/scripts/extractive_summary/key_events.py:109: UserWarning: Could not perform tfidf\n",
      "  if len(summary_events) == 0 or len(processed_article_sentences) == 0:\n",
      "/home/carlos/MasterDS/tfm/scripts/extractive_summary/key_events_summary.py:196: UserWarning: Could not perform summary for https://matchcenter.mlssoccer.com/matchcenter/2015-07-18-sporting-kansas-city-vs-montreal-impact/feed\n",
      "  warnings.warn('Could not perform summary for {}'.format(match_url))\n"
     ]
    },
    {
     "name": "stdout",
     "output_type": "stream",
     "text": [
      "Number of original events: 75\n",
      "Number of processed events: 0\n"
     ]
    },
    {
     "name": "stderr",
     "output_type": "stream",
     "text": [
      "/home/carlos/MasterDS/tfm/scripts/extractive_summary/key_events_summary.py:196: UserWarning: Could not perform summary for https://matchcenter.mlssoccer.com/matchcenter/2015-09-23-seattle-sounders-fc-vs-vancouver-whitecaps-fc/feed\n",
      "  warnings.warn('Could not perform summary for {}'.format(match_url))\n"
     ]
    },
    {
     "name": "stdout",
     "output_type": "stream",
     "text": [
      "Number of original events: 89\n",
      "Number of processed events: 0\n"
     ]
    },
    {
     "name": "stderr",
     "output_type": "stream",
     "text": [
      "/home/carlos/MasterDS/tfm/scripts/extractive_summary/key_events_summary.py:196: UserWarning: Could not perform summary for https://matchcenter.mlssoccer.com/matchcenter/2015-10-17-toronto-fc-vs-columbus-crew-sc/feed\n",
      "  warnings.warn('Could not perform summary for {}'.format(match_url))\n"
     ]
    },
    {
     "name": "stdout",
     "output_type": "stream",
     "text": [
      "Number of original events: 91\n",
      "Number of processed events: 0\n"
     ]
    },
    {
     "name": "stderr",
     "output_type": "stream",
     "text": [
      "/home/carlos/MasterDS/tfm/scripts/extractive_summary/key_events_summary.py:196: UserWarning: Could not perform summary for https://matchcenter.mlssoccer.com/matchcenter/2015-05-16-montreal-impact-vs-real-salt-lake/feed\n",
      "  warnings.warn('Could not perform summary for {}'.format(match_url))\n"
     ]
    },
    {
     "name": "stdout",
     "output_type": "stream",
     "text": [
      "Number of original events: 84\n",
      "Number of processed events: 0\n"
     ]
    },
    {
     "name": "stderr",
     "output_type": "stream",
     "text": [
      "/home/carlos/MasterDS/tfm/scripts/extractive_summary/key_events_summary.py:196: UserWarning: Could not perform summary for https://matchcenter.mlssoccer.com/matchcenter/2015-05-24-san-jose-earthquakes-vs-orlando-city-sc/feed\n",
      "  warnings.warn('Could not perform summary for {}'.format(match_url))\n"
     ]
    },
    {
     "name": "stdout",
     "output_type": "stream",
     "text": [
      "Number of original events: 95\n",
      "Number of processed events: 0\n"
     ]
    },
    {
     "name": "stderr",
     "output_type": "stream",
     "text": [
      "/home/carlos/MasterDS/tfm/scripts/extractive_summary/key_events_summary.py:196: UserWarning: Could not perform summary for https://matchcenter.mlssoccer.com/matchcenter/2015-07-04-colorado-rapids-vs-vancouver-whitecaps-fc/feed\n",
      "  warnings.warn('Could not perform summary for {}'.format(match_url))\n"
     ]
    },
    {
     "name": "stdout",
     "output_type": "stream",
     "text": [
      "Number of original events: 94\n",
      "Number of processed events: 0\n"
     ]
    },
    {
     "name": "stderr",
     "output_type": "stream",
     "text": [
      "/home/carlos/MasterDS/tfm/scripts/extractive_summary/key_events_summary.py:196: UserWarning: Could not perform summary for https://matchcenter.mlssoccer.com/matchcenter/2015-08-08-houston-dynamo-vs-san-jose-earthquakes/feed\n",
      "  warnings.warn('Could not perform summary for {}'.format(match_url))\n"
     ]
    },
    {
     "name": "stdout",
     "output_type": "stream",
     "text": [
      "Number of original events: 85\n",
      "Number of processed events: 0\n"
     ]
    },
    {
     "name": "stderr",
     "output_type": "stream",
     "text": [
      "/home/carlos/MasterDS/tfm/scripts/extractive_summary/key_events_summary.py:196: UserWarning: Could not perform summary for https://matchcenter.mlssoccer.com/matchcenter/2015-10-10-colorado-rapids-vs-montreal-impact/feed\n",
      "  warnings.warn('Could not perform summary for {}'.format(match_url))\n"
     ]
    },
    {
     "name": "stdout",
     "output_type": "stream",
     "text": [
      "Number of original events: 100\n",
      "Number of processed events: 0\n"
     ]
    },
    {
     "name": "stderr",
     "output_type": "stream",
     "text": [
      "/home/carlos/MasterDS/tfm/scripts/extractive_summary/key_events_summary.py:196: UserWarning: Could not perform summary for https://matchcenter.mlssoccer.com/matchcenter/2015-05-05-houston-dynamo-vs-san-jose-earthquakes/feed\n",
      "  warnings.warn('Could not perform summary for {}'.format(match_url))\n"
     ]
    },
    {
     "name": "stdout",
     "output_type": "stream",
     "text": [
      "Number of original events: 118\n",
      "Number of processed events: 0\n"
     ]
    },
    {
     "name": "stderr",
     "output_type": "stream",
     "text": [
      "/home/carlos/MasterDS/tfm/scripts/extractive_summary/key_events_summary.py:196: UserWarning: Could not perform summary for https://matchcenter.mlssoccer.com/matchcenter/2015-05-01-real-salt-lake-vs-san-jose-earthquakes/feed\n",
      "  warnings.warn('Could not perform summary for {}'.format(match_url))\n"
     ]
    },
    {
     "name": "stdout",
     "output_type": "stream",
     "text": [
      "Number of original events: 105\n",
      "Number of processed events: 0\n"
     ]
    },
    {
     "name": "stderr",
     "output_type": "stream",
     "text": [
      "/home/carlos/MasterDS/tfm/scripts/extractive_summary/key_events_summary.py:196: UserWarning: Could not perform summary for https://matchcenter.mlssoccer.com/matchcenter/2015-09-26-columbus-crew-sc-vs-portland-timbers/feed\n",
      "  warnings.warn('Could not perform summary for {}'.format(match_url))\n"
     ]
    },
    {
     "name": "stdout",
     "output_type": "stream",
     "text": [
      "Number of original events: 105\n",
      "Number of processed events: 0\n"
     ]
    },
    {
     "name": "stderr",
     "output_type": "stream",
     "text": [
      "/home/carlos/MasterDS/tfm/scripts/extractive_summary/key_events_summary.py:196: UserWarning: Could not perform summary for https://matchcenter.mlssoccer.com/matchcenter/2015-04-05-san-jose-earthquakes-vs-real-salt-lake/feed\n",
      "  warnings.warn('Could not perform summary for {}'.format(match_url))\n"
     ]
    },
    {
     "name": "stdout",
     "output_type": "stream",
     "text": [
      "Number of original events: 108\n",
      "Number of processed events: 0\n"
     ]
    },
    {
     "name": "stderr",
     "output_type": "stream",
     "text": [
      "/home/carlos/MasterDS/tfm/scripts/extractive_summary/key_events_summary.py:196: UserWarning: Could not perform summary for https://matchcenter.mlssoccer.com/matchcenter/2015-10-25-chicago-fire-vs-new-york-red-bulls/feed\n",
      "  warnings.warn('Could not perform summary for {}'.format(match_url))\n"
     ]
    },
    {
     "name": "stdout",
     "output_type": "stream",
     "text": [
      "Number of original events: 100\n",
      "Number of processed events: 0\n"
     ]
    },
    {
     "name": "stderr",
     "output_type": "stream",
     "text": [
      "/home/carlos/MasterDS/tfm/scripts/extractive_summary/key_events_summary.py:196: UserWarning: Could not perform summary for https://matchcenter.mlssoccer.com/matchcenter/2015-03-21-new-england-revolution-vs-montreal-impact/feed\n",
      "  warnings.warn('Could not perform summary for {}'.format(match_url))\n"
     ]
    },
    {
     "name": "stdout",
     "output_type": "stream",
     "text": [
      "Number of original events: 113\n",
      "Number of processed events: 0\n"
     ]
    },
    {
     "name": "stderr",
     "output_type": "stream",
     "text": [
      "/home/carlos/MasterDS/tfm/scripts/extractive_summary/key_events_summary.py:196: UserWarning: Could not perform summary for https://matchcenter.mlssoccer.com/matchcenter/2015-06-27-new-england-revolution-vs-vancouver-whitecaps-fc/feed\n",
      "  warnings.warn('Could not perform summary for {}'.format(match_url))\n"
     ]
    },
    {
     "name": "stdout",
     "output_type": "stream",
     "text": [
      "Number of original events: 80\n",
      "Number of processed events: 0\n"
     ]
    },
    {
     "name": "stderr",
     "output_type": "stream",
     "text": [
      "/home/carlos/MasterDS/tfm/scripts/extractive_summary/key_events_summary.py:196: UserWarning: Could not perform summary for https://matchcenter.mlssoccer.com/matchcenter/2015-09-26-montreal-impact-vs-dc-united/feed\n",
      "  warnings.warn('Could not perform summary for {}'.format(match_url))\n"
     ]
    },
    {
     "name": "stdout",
     "output_type": "stream",
     "text": [
      "Number of original events: 123\n",
      "Number of processed events: 0\n"
     ]
    },
    {
     "name": "stderr",
     "output_type": "stream",
     "text": [
      "/home/carlos/MasterDS/tfm/scripts/extractive_summary/key_events_summary.py:196: UserWarning: Could not perform summary for https://matchcenter.mlssoccer.com/matchcenter/2015-09-09-portland-timbers-vs-sporting-kansas-city/feed\n",
      "  warnings.warn('Could not perform summary for {}'.format(match_url))\n"
     ]
    },
    {
     "name": "stdout",
     "output_type": "stream",
     "text": [
      "Number of original events: 100\n",
      "Number of processed events: 0\n"
     ]
    },
    {
     "name": "stderr",
     "output_type": "stream",
     "text": [
      "/home/carlos/MasterDS/tfm/scripts/extractive_summary/key_events_summary.py:196: UserWarning: Could not perform summary for https://matchcenter.mlssoccer.com/matchcenter/2015-11-22-columbus-crew-sc-vs-new-york-red-bulls/feed\n",
      "  warnings.warn('Could not perform summary for {}'.format(match_url))\n"
     ]
    },
    {
     "name": "stdout",
     "output_type": "stream",
     "text": [
      "Number of original events: 92\n",
      "Number of processed events: 0\n"
     ]
    },
    {
     "name": "stderr",
     "output_type": "stream",
     "text": [
      "/home/carlos/MasterDS/tfm/scripts/extractive_summary/key_events_summary.py:196: UserWarning: Could not perform summary for https://matchcenter.mlssoccer.com/matchcenter/2015-06-20-seattle-sounders-fc-vs-san-jose-earthquakes/feed\n",
      "  warnings.warn('Could not perform summary for {}'.format(match_url))\n"
     ]
    },
    {
     "name": "stdout",
     "output_type": "stream",
     "text": [
      "Number of original events: 103\n",
      "Number of processed events: 0\n"
     ]
    },
    {
     "name": "stderr",
     "output_type": "stream",
     "text": [
      "/home/carlos/MasterDS/tfm/scripts/extractive_summary/key_events_summary.py:196: UserWarning: Could not perform summary for https://matchcenter.mlssoccer.com/matchcenter/2015-08-16-philadelphia-union-vs-chicago-fire/feed\n",
      "  warnings.warn('Could not perform summary for {}'.format(match_url))\n"
     ]
    },
    {
     "name": "stdout",
     "output_type": "stream",
     "text": [
      "Number of original events: 96\n",
      "Number of processed events: 0\n"
     ]
    },
    {
     "name": "stderr",
     "output_type": "stream",
     "text": [
      "/home/carlos/MasterDS/tfm/scripts/extractive_summary/key_events_summary.py:196: UserWarning: Could not perform summary for https://matchcenter.mlssoccer.com/matchcenter/2015-03-28-vancouver-whitecaps-fc-vs-portland-timbers/feed\n",
      "  warnings.warn('Could not perform summary for {}'.format(match_url))\n"
     ]
    },
    {
     "name": "stdout",
     "output_type": "stream",
     "text": [
      "Number of original events: 100\n",
      "Number of processed events: 0\n"
     ]
    },
    {
     "name": "stderr",
     "output_type": "stream",
     "text": [
      "/home/carlos/MasterDS/tfm/scripts/extractive_summary/key_events_summary.py:196: UserWarning: Could not perform summary for https://matchcenter.mlssoccer.com/matchcenter/2015-08-28-san-jose-earthquakes-vs-la-galaxy/feed\n",
      "  warnings.warn('Could not perform summary for {}'.format(match_url))\n"
     ]
    },
    {
     "name": "stdout",
     "output_type": "stream",
     "text": [
      "Number of original events: 101\n",
      "Number of processed events: 0\n"
     ]
    },
    {
     "name": "stderr",
     "output_type": "stream",
     "text": [
      "/home/carlos/MasterDS/tfm/scripts/extractive_summary/key_events_summary.py:196: UserWarning: Could not perform summary for https://matchcenter.mlssoccer.com/matchcenter/2015-08-29-new-york-city-fc-vs-columbus-crew-sc/feed\n",
      "  warnings.warn('Could not perform summary for {}'.format(match_url))\n"
     ]
    },
    {
     "name": "stdout",
     "output_type": "stream",
     "text": [
      "Number of original events: 106\n",
      "Number of processed events: 0\n"
     ]
    },
    {
     "name": "stderr",
     "output_type": "stream",
     "text": [
      "/home/carlos/MasterDS/tfm/scripts/extractive_summary/key_events_summary.py:196: UserWarning: Could not perform summary for https://matchcenter.mlssoccer.com/matchcenter/2015-08-19-seattle-sounders-fc-vs-olimpia/feed\n",
      "  warnings.warn('Could not perform summary for {}'.format(match_url))\n"
     ]
    },
    {
     "name": "stdout",
     "output_type": "stream",
     "text": [
      "Number of original events: 72\n",
      "Number of processed events: 0\n"
     ]
    },
    {
     "name": "stderr",
     "output_type": "stream",
     "text": [
      "/home/carlos/MasterDS/tfm/scripts/extractive_summary/key_events_summary.py:196: UserWarning: Could not perform summary for https://matchcenter.mlssoccer.com/matchcenter/2015-04-04-vancouver-whitecaps-fc-vs-la-galaxy/feed\n",
      "  warnings.warn('Could not perform summary for {}'.format(match_url))\n"
     ]
    },
    {
     "name": "stdout",
     "output_type": "stream",
     "text": [
      "Number of original events: 96\n",
      "Number of processed events: 0\n"
     ]
    },
    {
     "name": "stderr",
     "output_type": "stream",
     "text": [
      "/home/carlos/MasterDS/tfm/scripts/extractive_summary/key_events_summary.py:196: UserWarning: Could not perform summary for https://matchcenter.mlssoccer.com/matchcenter/2015-05-02-philadelphia-union-vs-toronto-fc/feed\n",
      "  warnings.warn('Could not perform summary for {}'.format(match_url))\n"
     ]
    },
    {
     "name": "stdout",
     "output_type": "stream",
     "text": [
      "Number of original events: 116\n",
      "Number of processed events: 0\n"
     ]
    },
    {
     "name": "stderr",
     "output_type": "stream",
     "text": [
      "/home/carlos/MasterDS/tfm/scripts/extractive_summary/key_events_summary.py:196: UserWarning: Could not perform summary for https://matchcenter.mlssoccer.com/matchcenter/2015-09-09-vancouver-whitecaps-fc-vs-colorado-rapids/feed\n",
      "  warnings.warn('Could not perform summary for {}'.format(match_url))\n"
     ]
    },
    {
     "name": "stdout",
     "output_type": "stream",
     "text": [
      "Number of original events: 87\n",
      "Number of processed events: 0\n"
     ]
    },
    {
     "name": "stderr",
     "output_type": "stream",
     "text": [
      "/home/carlos/MasterDS/tfm/scripts/extractive_summary/key_events_summary.py:196: UserWarning: Could not perform summary for https://matchcenter.mlssoccer.com/matchcenter/2015-05-22-la-galaxy-vs-houston-dynamo/feed\n",
      "  warnings.warn('Could not perform summary for {}'.format(match_url))\n"
     ]
    },
    {
     "name": "stdout",
     "output_type": "stream",
     "text": [
      "Number of original events: 90\n",
      "Number of processed events: 0\n"
     ]
    },
    {
     "name": "stderr",
     "output_type": "stream",
     "text": [
      "/home/carlos/MasterDS/tfm/scripts/extractive_summary/key_events_summary.py:196: UserWarning: Could not perform summary for https://matchcenter.mlssoccer.com/matchcenter/2015-04-04-seattle-sounders-fc-vs-houston-dynamo/feed\n",
      "  warnings.warn('Could not perform summary for {}'.format(match_url))\n"
     ]
    },
    {
     "name": "stdout",
     "output_type": "stream",
     "text": [
      "Number of original events: 99\n",
      "Number of processed events: 0\n"
     ]
    },
    {
     "name": "stderr",
     "output_type": "stream",
     "text": [
      "/home/carlos/MasterDS/tfm/scripts/extractive_summary/key_events_summary.py:196: UserWarning: Could not perform summary for https://matchcenter.mlssoccer.com/matchcenter/2015-10-07-vancouver-whitecaps-fc-vs-fc-dallas/feed\n",
      "  warnings.warn('Could not perform summary for {}'.format(match_url))\n"
     ]
    },
    {
     "name": "stdout",
     "output_type": "stream",
     "text": [
      "Number of original events: 102\n",
      "Number of processed events: 0\n"
     ]
    },
    {
     "name": "stderr",
     "output_type": "stream",
     "text": [
      "/home/carlos/MasterDS/tfm/scripts/extractive_summary/key_events_summary.py:196: UserWarning: Could not perform summary for https://matchcenter.mlssoccer.com/matchcenter/2015-08-26-olimpia-vs-seattle-sounders-fc/feed\n",
      "  warnings.warn('Could not perform summary for {}'.format(match_url))\n"
     ]
    },
    {
     "name": "stdout",
     "output_type": "stream",
     "text": [
      "Number of original events: 108\n",
      "Number of processed events: 0\n"
     ]
    },
    {
     "name": "stderr",
     "output_type": "stream",
     "text": [
      "/home/carlos/MasterDS/tfm/scripts/extractive_summary/key_events_summary.py:196: UserWarning: Could not perform summary for https://matchcenter.mlssoccer.com/matchcenter/2015-10-03-san-jose-earthquakes-vs-vancouver-whitecaps-fc/feed\n",
      "  warnings.warn('Could not perform summary for {}'.format(match_url))\n"
     ]
    },
    {
     "name": "stdout",
     "output_type": "stream",
     "text": [
      "Number of original events: 90\n",
      "Number of processed events: 0\n"
     ]
    },
    {
     "name": "stderr",
     "output_type": "stream",
     "text": [
      "/home/carlos/MasterDS/tfm/scripts/extractive_summary/key_events_summary.py:196: UserWarning: Could not perform summary for https://matchcenter.mlssoccer.com/matchcenter/2015-10-07-new-york-red-bulls-vs-montreal-impact/feed\n",
      "  warnings.warn('Could not perform summary for {}'.format(match_url))\n"
     ]
    },
    {
     "name": "stdout",
     "output_type": "stream",
     "text": [
      "Number of original events: 111\n",
      "Number of processed events: 0\n"
     ]
    },
    {
     "name": "stderr",
     "output_type": "stream",
     "text": [
      "/home/carlos/MasterDS/tfm/scripts/extractive_summary/key_events_summary.py:196: UserWarning: Could not perform summary for https://matchcenter.mlssoccer.com/matchcenter/2015-05-30-vancouver-whitecaps-fc-vs-real-salt-lake/feed\n",
      "  warnings.warn('Could not perform summary for {}'.format(match_url))\n"
     ]
    },
    {
     "name": "stdout",
     "output_type": "stream",
     "text": [
      "Number of original events: 101\n",
      "Number of processed events: 0\n"
     ]
    },
    {
     "name": "stderr",
     "output_type": "stream",
     "text": [
      "/home/carlos/MasterDS/tfm/scripts/extractive_summary/key_events_summary.py:196: UserWarning: Could not perform summary for https://matchcenter.mlssoccer.com/matchcenter/2015-07-12-trinidad-and-tobago-vs-cuba/feed\n",
      "  warnings.warn('Could not perform summary for {}'.format(match_url))\n"
     ]
    },
    {
     "name": "stdout",
     "output_type": "stream",
     "text": [
      "Number of original events: 101\n",
      "Number of processed events: 0\n"
     ]
    },
    {
     "name": "stderr",
     "output_type": "stream",
     "text": [
      "/home/carlos/MasterDS/tfm/scripts/extractive_summary/key_events_summary.py:196: UserWarning: Could not perform summary for https://matchcenter.mlssoccer.com/matchcenter/2015-08-29-toronto-fc-vs-montreal-impact/feed\n",
      "  warnings.warn('Could not perform summary for {}'.format(match_url))\n"
     ]
    },
    {
     "name": "stdout",
     "output_type": "stream",
     "text": [
      "Number of original events: 97\n",
      "Number of processed events: 0\n"
     ]
    },
    {
     "name": "stderr",
     "output_type": "stream",
     "text": [
      "/home/carlos/MasterDS/tfm/scripts/extractive_summary/key_events_summary.py:196: UserWarning: Could not perform summary for https://matchcenter.mlssoccer.com/matchcenter/2015-09-12-philadelphia-union-vs-columbus-crew-sc/feed\n",
      "  warnings.warn('Could not perform summary for {}'.format(match_url))\n"
     ]
    },
    {
     "name": "stdout",
     "output_type": "stream",
     "text": [
      "Number of original events: 105\n",
      "Number of processed events: 0\n"
     ]
    },
    {
     "name": "stderr",
     "output_type": "stream",
     "text": [
      "/home/carlos/MasterDS/tfm/scripts/extractive_summary/key_events_summary.py:196: UserWarning: Could not perform summary for https://matchcenter.mlssoccer.com/matchcenter/2015-05-31-new-england-revolution-vs-la-galaxy/feed\n",
      "  warnings.warn('Could not perform summary for {}'.format(match_url))\n"
     ]
    },
    {
     "name": "stdout",
     "output_type": "stream",
     "text": [
      "Number of original events: 99\n",
      "Number of processed events: 0\n"
     ]
    },
    {
     "name": "stderr",
     "output_type": "stream",
     "text": [
      "/home/carlos/MasterDS/tfm/scripts/extractive_summary/key_events_summary.py:196: UserWarning: Could not perform summary for https://matchcenter.mlssoccer.com/matchcenter/2015-08-30-seattle-sounders-fc-vs-portland-timbers/feed\n",
      "  warnings.warn('Could not perform summary for {}'.format(match_url))\n"
     ]
    },
    {
     "name": "stdout",
     "output_type": "stream",
     "text": [
      "Number of original events: 75\n",
      "Number of processed events: 0\n"
     ]
    },
    {
     "name": "stderr",
     "output_type": "stream",
     "text": [
      "/home/carlos/MasterDS/tfm/scripts/extractive_summary/key_events_summary.py:196: UserWarning: Could not perform summary for https://matchcenter.mlssoccer.com/matchcenter/2015-10-25-columbus-crew-sc-vs-dc-united/feed\n",
      "  warnings.warn('Could not perform summary for {}'.format(match_url))\n"
     ]
    },
    {
     "name": "stdout",
     "output_type": "stream",
     "text": [
      "Number of original events: 107\n",
      "Number of processed events: 0\n"
     ]
    },
    {
     "name": "stderr",
     "output_type": "stream",
     "text": [
      "/home/carlos/MasterDS/tfm/scripts/extractive_summary/key_events_summary.py:196: UserWarning: Could not perform summary for https://matchcenter.mlssoccer.com/matchcenter/2015-06-14-orlando-city-sc-vs-dc-united/feed\n",
      "  warnings.warn('Could not perform summary for {}'.format(match_url))\n"
     ]
    },
    {
     "name": "stdout",
     "output_type": "stream",
     "text": [
      "Number of original events: 99\n",
      "Number of processed events: 0\n"
     ]
    },
    {
     "name": "stderr",
     "output_type": "stream",
     "text": [
      "/home/carlos/MasterDS/tfm/scripts/extractive_summary/key_events_summary.py:196: UserWarning: Could not perform summary for https://matchcenter.mlssoccer.com/matchcenter/2015-07-26-new-york-city-fc-vs-orlando-city-sc/feed\n",
      "  warnings.warn('Could not perform summary for {}'.format(match_url))\n"
     ]
    },
    {
     "name": "stdout",
     "output_type": "stream",
     "text": [
      "Number of original events: 96\n",
      "Number of processed events: 0\n"
     ]
    },
    {
     "name": "stderr",
     "output_type": "stream",
     "text": [
      "/home/carlos/MasterDS/tfm/scripts/extractive_summary/key_events_summary.py:196: UserWarning: Could not perform summary for https://matchcenter.mlssoccer.com/matchcenter/2015-03-22-new-york-red-bulls-vs-dc-united/feed\n",
      "  warnings.warn('Could not perform summary for {}'.format(match_url))\n"
     ]
    },
    {
     "name": "stdout",
     "output_type": "stream",
     "text": [
      "Number of original events: 95\n",
      "Number of processed events: 0\n"
     ]
    },
    {
     "name": "stderr",
     "output_type": "stream",
     "text": [
      "/home/carlos/MasterDS/tfm/scripts/extractive_summary/key_events_summary.py:196: UserWarning: Could not perform summary for https://matchcenter.mlssoccer.com/matchcenter/2015-11-22-portland-timbers-vs-fc-dallas/feed\n",
      "  warnings.warn('Could not perform summary for {}'.format(match_url))\n"
     ]
    },
    {
     "name": "stdout",
     "output_type": "stream",
     "text": [
      "Number of original events: 87\n",
      "Number of processed events: 0\n"
     ]
    },
    {
     "name": "stderr",
     "output_type": "stream",
     "text": [
      "/home/carlos/MasterDS/tfm/scripts/extractive_summary/key_events_summary.py:196: UserWarning: Could not perform summary for https://matchcenter.mlssoccer.com/matchcenter/2015-06-27-real-salt-lake-vs-columbus-crew-sc/feed\n",
      "  warnings.warn('Could not perform summary for {}'.format(match_url))\n"
     ]
    },
    {
     "name": "stdout",
     "output_type": "stream",
     "text": [
      "Number of original events: 81\n",
      "Number of processed events: 0\n"
     ]
    },
    {
     "name": "stderr",
     "output_type": "stream",
     "text": [
      "/home/carlos/MasterDS/tfm/scripts/extractive_summary/key_events_summary.py:196: UserWarning: Could not perform summary for https://matchcenter.mlssoccer.com/matchcenter/2015-10-29-montreal-impact-vs-toronto-fc/feed\n",
      "  warnings.warn('Could not perform summary for {}'.format(match_url))\n"
     ]
    },
    {
     "name": "stdout",
     "output_type": "stream",
     "text": [
      "Number of original events: 95\n",
      "Number of processed events: 0\n"
     ]
    },
    {
     "name": "stderr",
     "output_type": "stream",
     "text": [
      "/home/carlos/MasterDS/tfm/scripts/extractive_summary/key_events_summary.py:196: UserWarning: Could not perform summary for https://matchcenter.mlssoccer.com/matchcenter/2015-04-18-dc-united-vs-houston-dynamo/feed\n",
      "  warnings.warn('Could not perform summary for {}'.format(match_url))\n"
     ]
    },
    {
     "name": "stdout",
     "output_type": "stream",
     "text": [
      "Number of original events: 117\n",
      "Number of processed events: 0\n"
     ]
    },
    {
     "name": "stderr",
     "output_type": "stream",
     "text": [
      "/home/carlos/MasterDS/tfm/scripts/extractive_summary/key_events_summary.py:196: UserWarning: Could not perform summary for https://matchcenter.mlssoccer.com/matchcenter/2015-05-23-colorado-rapids-vs-vancouver-whitecaps-fc/feed\n",
      "  warnings.warn('Could not perform summary for {}'.format(match_url))\n"
     ]
    },
    {
     "name": "stdout",
     "output_type": "stream",
     "text": [
      "Number of original events: 106\n",
      "Number of processed events: 0\n"
     ]
    },
    {
     "name": "stderr",
     "output_type": "stream",
     "text": [
      "/home/carlos/MasterDS/tfm/scripts/extractive_summary/key_events_summary.py:196: UserWarning: Could not perform summary for https://matchcenter.mlssoccer.com/matchcenter/2015-07-08-el-salvador-vs-canada/feed\n",
      "  warnings.warn('Could not perform summary for {}'.format(match_url))\n"
     ]
    },
    {
     "name": "stdout",
     "output_type": "stream",
     "text": [
      "Number of original events: 98\n",
      "Number of processed events: 0\n"
     ]
    },
    {
     "name": "stderr",
     "output_type": "stream",
     "text": [
      "/home/carlos/MasterDS/tfm/scripts/extractive_summary/key_events_summary.py:196: UserWarning: Could not perform summary for https://matchcenter.mlssoccer.com/matchcenter/2015-07-01-new-york-red-bulls-vs-new-york-cosmos/feed\n",
      "  warnings.warn('Could not perform summary for {}'.format(match_url))\n"
     ]
    },
    {
     "name": "stdout",
     "output_type": "stream",
     "text": [
      "Number of original events: 178\n",
      "Number of processed events: 14\n",
      "Number of sentences in original article: 15\n",
      "Number of sentences in summary: 2\n",
      "Number of original events: 81\n",
      "Number of processed events: 0\n"
     ]
    },
    {
     "name": "stderr",
     "output_type": "stream",
     "text": [
      "/home/carlos/MasterDS/tfm/scripts/extractive_summary/key_events.py:109: UserWarning: Could not perform tfidf\n",
      "  if len(summary_events) == 0 or len(processed_article_sentences) == 0:\n",
      "/home/carlos/MasterDS/tfm/scripts/extractive_summary/key_events_summary.py:196: UserWarning: Could not perform summary for https://matchcenter.mlssoccer.com/matchcenter/2015-10-25-vancouver-whitecaps-fc-vs-houston-dynamo/feed\n",
      "  warnings.warn('Could not perform summary for {}'.format(match_url))\n"
     ]
    },
    {
     "name": "stdout",
     "output_type": "stream",
     "text": [
      "Number of original events: 79\n",
      "Number of processed events: 0\n"
     ]
    },
    {
     "name": "stderr",
     "output_type": "stream",
     "text": [
      "/home/carlos/MasterDS/tfm/scripts/extractive_summary/key_events_summary.py:196: UserWarning: Could not perform summary for https://matchcenter.mlssoccer.com/matchcenter/2015-09-08-us-mens-national-team-vs-brazil/feed\n",
      "  warnings.warn('Could not perform summary for {}'.format(match_url))\n"
     ]
    },
    {
     "name": "stdout",
     "output_type": "stream",
     "text": [
      "Number of original events: 108\n",
      "Number of processed events: 0\n"
     ]
    },
    {
     "name": "stderr",
     "output_type": "stream",
     "text": [
      "/home/carlos/MasterDS/tfm/scripts/extractive_summary/key_events_summary.py:196: UserWarning: Could not perform summary for https://matchcenter.mlssoccer.com/matchcenter/2015-10-25-philadelphia-union-vs-orlando-city-sc/feed\n",
      "  warnings.warn('Could not perform summary for {}'.format(match_url))\n"
     ]
    },
    {
     "name": "stdout",
     "output_type": "stream",
     "text": [
      "Number of original events: 101\n",
      "Number of processed events: 0\n"
     ]
    },
    {
     "name": "stderr",
     "output_type": "stream",
     "text": [
      "/home/carlos/MasterDS/tfm/scripts/extractive_summary/key_events_summary.py:196: UserWarning: Could not perform summary for https://matchcenter.mlssoccer.com/matchcenter/2015-08-01-sporting-kansas-city-vs-houston-dynamo/feed\n",
      "  warnings.warn('Could not perform summary for {}'.format(match_url))\n"
     ]
    },
    {
     "name": "stdout",
     "output_type": "stream",
     "text": [
      "Number of original events: 59\n",
      "Number of processed events: 0\n"
     ]
    },
    {
     "name": "stderr",
     "output_type": "stream",
     "text": [
      "/home/carlos/MasterDS/tfm/scripts/extractive_summary/key_events_summary.py:196: UserWarning: Could not perform summary for https://matchcenter.mlssoccer.com/matchcenter/2015-11-13-us-mens-national-team-vs-st-vincent-and-the-grenadines/feed\n",
      "  warnings.warn('Could not perform summary for {}'.format(match_url))\n"
     ]
    },
    {
     "name": "stdout",
     "output_type": "stream",
     "text": [
      "Number of original events: 97\n",
      "Number of processed events: 0\n",
      "Number of original events: 6\n",
      "Number of processed events: 0\n"
     ]
    },
    {
     "name": "stderr",
     "output_type": "stream",
     "text": [
      "/home/carlos/MasterDS/tfm/scripts/extractive_summary/key_events_summary.py:196: UserWarning: Could not perform summary for https://matchcenter.mlssoccer.com/matchcenter/2015-03-21-colorado-rapids-vs-new-york-city-fc/feed\n",
      "  warnings.warn('Could not perform summary for {}'.format(match_url))\n",
      "/home/carlos/MasterDS/tfm/scripts/extractive_summary/key_events_summary.py:196: UserWarning: Could not perform summary for https://matchcenter.mlssoccer.com/matchcenter/2015-06-16-fc-dallas-vs-okc-energy/feed\n",
      "  warnings.warn('Could not perform summary for {}'.format(match_url))\n"
     ]
    },
    {
     "name": "stdout",
     "output_type": "stream",
     "text": [
      "Number of original events: 108\n",
      "Number of processed events: 0\n"
     ]
    },
    {
     "name": "stderr",
     "output_type": "stream",
     "text": [
      "/home/carlos/MasterDS/tfm/scripts/extractive_summary/key_events_summary.py:196: UserWarning: Could not perform summary for https://matchcenter.mlssoccer.com/matchcenter/2015-06-30-orlando-city-sc-vs-columbus-crew-sc/feed\n",
      "  warnings.warn('Could not perform summary for {}'.format(match_url))\n"
     ]
    },
    {
     "name": "stdout",
     "output_type": "stream",
     "text": [
      "Number of original events: 118\n",
      "Number of processed events: 0\n"
     ]
    },
    {
     "name": "stderr",
     "output_type": "stream",
     "text": [
      "/home/carlos/MasterDS/tfm/scripts/extractive_summary/key_events_summary.py:196: UserWarning: Could not perform summary for https://matchcenter.mlssoccer.com/matchcenter/2015-07-14-jamaica-vs-el-salvador/feed\n",
      "  warnings.warn('Could not perform summary for {}'.format(match_url))\n"
     ]
    },
    {
     "name": "stdout",
     "output_type": "stream",
     "text": [
      "Number of original events: 105\n",
      "Number of processed events: 0\n"
     ]
    },
    {
     "name": "stderr",
     "output_type": "stream",
     "text": [
      "/home/carlos/MasterDS/tfm/scripts/extractive_summary/key_events_summary.py:196: UserWarning: Could not perform summary for https://matchcenter.mlssoccer.com/matchcenter/2015-08-08-montreal-impact-vs-dc-united/feed\n",
      "  warnings.warn('Could not perform summary for {}'.format(match_url))\n"
     ]
    },
    {
     "name": "stdout",
     "output_type": "stream",
     "text": [
      "Number of original events: 93\n",
      "Number of processed events: 0\n"
     ]
    },
    {
     "name": "stderr",
     "output_type": "stream",
     "text": [
      "/home/carlos/MasterDS/tfm/scripts/extractive_summary/key_events_summary.py:196: UserWarning: Could not perform summary for https://matchcenter.mlssoccer.com/matchcenter/2015-05-30-toronto-fc-vs-san-jose-earthquakes/feed\n",
      "  warnings.warn('Could not perform summary for {}'.format(match_url))\n"
     ]
    },
    {
     "name": "stdout",
     "output_type": "stream",
     "text": [
      "Number of original events: 160\n",
      "Number of processed events: 12\n",
      "Number of sentences in original article: 16\n",
      "Number of sentences in summary: 2\n",
      "Number of original events: 116\n",
      "Number of processed events: 0\n"
     ]
    },
    {
     "name": "stderr",
     "output_type": "stream",
     "text": [
      "/home/carlos/MasterDS/tfm/scripts/extractive_summary/key_events.py:109: UserWarning: Could not perform tfidf\n",
      "  if len(summary_events) == 0 or len(processed_article_sentences) == 0:\n",
      "/home/carlos/MasterDS/tfm/scripts/extractive_summary/key_events_summary.py:196: UserWarning: Could not perform summary for https://matchcenter.mlssoccer.com/matchcenter/2015-09-19-toronto-fc-vs-colorado-rapids/feed\n",
      "  warnings.warn('Could not perform summary for {}'.format(match_url))\n"
     ]
    },
    {
     "name": "stdout",
     "output_type": "stream",
     "text": [
      "Number of original events: 96\n",
      "Number of processed events: 0\n"
     ]
    },
    {
     "name": "stderr",
     "output_type": "stream",
     "text": [
      "/home/carlos/MasterDS/tfm/scripts/extractive_summary/key_events_summary.py:196: UserWarning: Could not perform summary for https://matchcenter.mlssoccer.com/matchcenter/2015-05-23-toronto-fc-vs-portland-timbers/feed\n",
      "  warnings.warn('Could not perform summary for {}'.format(match_url))\n"
     ]
    },
    {
     "name": "stdout",
     "output_type": "stream",
     "text": [
      "Number of original events: 92\n",
      "Number of processed events: 0\n"
     ]
    },
    {
     "name": "stderr",
     "output_type": "stream",
     "text": [
      "/home/carlos/MasterDS/tfm/scripts/extractive_summary/key_events_summary.py:196: UserWarning: Could not perform summary for https://matchcenter.mlssoccer.com/matchcenter/2015-05-02-new-england-revolution-vs-new-york-red-bulls/feed\n",
      "  warnings.warn('Could not perform summary for {}'.format(match_url))\n"
     ]
    },
    {
     "name": "stdout",
     "output_type": "stream",
     "text": [
      "Number of original events: 80\n",
      "Number of processed events: 0\n"
     ]
    },
    {
     "name": "stderr",
     "output_type": "stream",
     "text": [
      "/home/carlos/MasterDS/tfm/scripts/extractive_summary/key_events_summary.py:196: UserWarning: Could not perform summary for https://matchcenter.mlssoccer.com/matchcenter/2015-07-01-san-jose-earthquakes-vs-la-galaxy/feed\n",
      "  warnings.warn('Could not perform summary for {}'.format(match_url))\n"
     ]
    },
    {
     "name": "stdout",
     "output_type": "stream",
     "text": [
      "Number of original events: 90\n",
      "Number of processed events: 0\n"
     ]
    },
    {
     "name": "stderr",
     "output_type": "stream",
     "text": [
      "/home/carlos/MasterDS/tfm/scripts/extractive_summary/key_events_summary.py:196: UserWarning: Could not perform summary for https://matchcenter.mlssoccer.com/matchcenter/2015-10-22-olimpia-vs-vancouver-whitecaps-fc/feed\n",
      "  warnings.warn('Could not perform summary for {}'.format(match_url))\n"
     ]
    },
    {
     "name": "stdout",
     "output_type": "stream",
     "text": [
      "Number of original events: 101\n",
      "Number of processed events: 0\n"
     ]
    },
    {
     "name": "stderr",
     "output_type": "stream",
     "text": [
      "/home/carlos/MasterDS/tfm/scripts/extractive_summary/key_events_summary.py:196: UserWarning: Could not perform summary for https://matchcenter.mlssoccer.com/matchcenter/2015-11-29-fc-dallas-vs-portland-timbers/feed\n",
      "  warnings.warn('Could not perform summary for {}'.format(match_url))\n"
     ]
    },
    {
     "name": "stdout",
     "output_type": "stream",
     "text": [
      "Number of original events: 98\n",
      "Number of processed events: 0\n"
     ]
    },
    {
     "name": "stderr",
     "output_type": "stream",
     "text": [
      "/home/carlos/MasterDS/tfm/scripts/extractive_summary/key_events_summary.py:196: UserWarning: Could not perform summary for https://matchcenter.mlssoccer.com/matchcenter/2015-06-03-dc-united-vs-chicago-fire/feed\n",
      "  warnings.warn('Could not perform summary for {}'.format(match_url))\n"
     ]
    },
    {
     "name": "stdout",
     "output_type": "stream",
     "text": [
      "Number of original events: 86\n",
      "Number of processed events: 0\n"
     ]
    },
    {
     "name": "stderr",
     "output_type": "stream",
     "text": [
      "/home/carlos/MasterDS/tfm/scripts/extractive_summary/key_events_summary.py:196: UserWarning: Could not perform summary for https://matchcenter.mlssoccer.com/matchcenter/2015-10-18-houston-dynamo-vs-seattle-sounders-fc/feed\n",
      "  warnings.warn('Could not perform summary for {}'.format(match_url))\n"
     ]
    },
    {
     "name": "stdout",
     "output_type": "stream",
     "text": [
      "Number of original events: 117\n",
      "Number of processed events: 0\n"
     ]
    },
    {
     "name": "stderr",
     "output_type": "stream",
     "text": [
      "/home/carlos/MasterDS/tfm/scripts/extractive_summary/key_events_summary.py:196: UserWarning: Could not perform summary for https://matchcenter.mlssoccer.com/matchcenter/2015-03-14-chicago-fire-vs-vancouver-whitecaps-fc/feed\n",
      "  warnings.warn('Could not perform summary for {}'.format(match_url))\n"
     ]
    },
    {
     "name": "stdout",
     "output_type": "stream",
     "text": [
      "Number of original events: 117\n",
      "Number of processed events: 0\n"
     ]
    },
    {
     "name": "stderr",
     "output_type": "stream",
     "text": [
      "/home/carlos/MasterDS/tfm/scripts/extractive_summary/key_events_summary.py:196: UserWarning: Could not perform summary for https://matchcenter.mlssoccer.com/matchcenter/2015-09-12-fc-dallas-vs-new-york-city-fc/feed\n",
      "  warnings.warn('Could not perform summary for {}'.format(match_url))\n"
     ]
    },
    {
     "name": "stdout",
     "output_type": "stream",
     "text": [
      "Number of original events: 95\n",
      "Number of processed events: 0\n"
     ]
    },
    {
     "name": "stderr",
     "output_type": "stream",
     "text": [
      "/home/carlos/MasterDS/tfm/scripts/extractive_summary/key_events_summary.py:196: UserWarning: Could not perform summary for https://matchcenter.mlssoccer.com/matchcenter/2015-07-18-real-salt-lake-vs-houston-dynamo/feed\n",
      "  warnings.warn('Could not perform summary for {}'.format(match_url))\n"
     ]
    },
    {
     "name": "stdout",
     "output_type": "stream",
     "text": [
      "Number of original events: 88\n",
      "Number of processed events: 0\n"
     ]
    },
    {
     "name": "stderr",
     "output_type": "stream",
     "text": [
      "/home/carlos/MasterDS/tfm/scripts/extractive_summary/key_events_summary.py:196: UserWarning: Could not perform summary for https://matchcenter.mlssoccer.com/matchcenter/2015-08-19-columbus-crew-sc-vs-new-york-city-fc/feed\n",
      "  warnings.warn('Could not perform summary for {}'.format(match_url))\n"
     ]
    },
    {
     "name": "stdout",
     "output_type": "stream",
     "text": [
      "Number of original events: 85\n",
      "Number of processed events: 0\n"
     ]
    },
    {
     "name": "stderr",
     "output_type": "stream",
     "text": [
      "/home/carlos/MasterDS/tfm/scripts/extractive_summary/key_events_summary.py:196: UserWarning: Could not perform summary for https://matchcenter.mlssoccer.com/matchcenter/2015-03-07-houston-dynamo-vs-columbus-crew-sc/feed\n",
      "  warnings.warn('Could not perform summary for {}'.format(match_url))\n"
     ]
    },
    {
     "name": "stdout",
     "output_type": "stream",
     "text": [
      "Number of original events: 118\n",
      "Number of processed events: 0\n"
     ]
    },
    {
     "name": "stderr",
     "output_type": "stream",
     "text": [
      "/home/carlos/MasterDS/tfm/scripts/extractive_summary/key_events_summary.py:196: UserWarning: Could not perform summary for https://matchcenter.mlssoccer.com/matchcenter/2015-07-19-columbus-crew-sc-vs-chicago-fire/feed\n",
      "  warnings.warn('Could not perform summary for {}'.format(match_url))\n"
     ]
    },
    {
     "name": "stdout",
     "output_type": "stream",
     "text": [
      "Number of original events: 105\n",
      "Number of processed events: 0\n"
     ]
    },
    {
     "name": "stderr",
     "output_type": "stream",
     "text": [
      "/home/carlos/MasterDS/tfm/scripts/extractive_summary/key_events_summary.py:196: UserWarning: Could not perform summary for https://matchcenter.mlssoccer.com/matchcenter/2015-07-22-us-mens-national-team-vs-jamaica/feed\n",
      "  warnings.warn('Could not perform summary for {}'.format(match_url))\n"
     ]
    },
    {
     "name": "stdout",
     "output_type": "stream",
     "text": [
      "Number of original events: 88\n",
      "Number of processed events: 0\n"
     ]
    },
    {
     "name": "stderr",
     "output_type": "stream",
     "text": [
      "/home/carlos/MasterDS/tfm/scripts/extractive_summary/key_events_summary.py:196: UserWarning: Could not perform summary for https://matchcenter.mlssoccer.com/matchcenter/2015-07-14-real-salt-lake-vs-la-galaxy/feed\n",
      "  warnings.warn('Could not perform summary for {}'.format(match_url))\n"
     ]
    },
    {
     "name": "stdout",
     "output_type": "stream",
     "text": [
      "Number of original events: 87\n",
      "Number of processed events: 0\n"
     ]
    },
    {
     "name": "stderr",
     "output_type": "stream",
     "text": [
      "/home/carlos/MasterDS/tfm/scripts/extractive_summary/key_events_summary.py:196: UserWarning: Could not perform summary for https://matchcenter.mlssoccer.com/matchcenter/2015-09-12-la-galaxy-vs-montreal-impact/feed\n",
      "  warnings.warn('Could not perform summary for {}'.format(match_url))\n"
     ]
    },
    {
     "name": "stdout",
     "output_type": "stream",
     "text": [
      "Number of original events: 88\n",
      "Number of processed events: 0\n"
     ]
    },
    {
     "name": "stderr",
     "output_type": "stream",
     "text": [
      "/home/carlos/MasterDS/tfm/scripts/extractive_summary/key_events_summary.py:196: UserWarning: Could not perform summary for https://matchcenter.mlssoccer.com/matchcenter/2015-07-03-us-mens-national-team-vs-guatemala/feed\n",
      "  warnings.warn('Could not perform summary for {}'.format(match_url))\n"
     ]
    },
    {
     "name": "stdout",
     "output_type": "stream",
     "text": [
      "Number of original events: 86\n",
      "Number of processed events: 0\n"
     ]
    },
    {
     "name": "stderr",
     "output_type": "stream",
     "text": [
      "/home/carlos/MasterDS/tfm/scripts/extractive_summary/key_events_summary.py:196: UserWarning: Could not perform summary for https://matchcenter.mlssoccer.com/matchcenter/2015-06-06-philadelphia-union-vs-new-york-city-fc/feed\n",
      "  warnings.warn('Could not perform summary for {}'.format(match_url))\n"
     ]
    },
    {
     "name": "stdout",
     "output_type": "stream",
     "text": [
      "Number of original events: 102\n",
      "Number of processed events: 0\n"
     ]
    },
    {
     "name": "stderr",
     "output_type": "stream",
     "text": [
      "/home/carlos/MasterDS/tfm/scripts/extractive_summary/key_events_summary.py:196: UserWarning: Could not perform summary for https://matchcenter.mlssoccer.com/matchcenter/2015-05-20-sporting-kansas-city-vs-new-england-revolution/feed\n",
      "  warnings.warn('Could not perform summary for {}'.format(match_url))\n"
     ]
    },
    {
     "name": "stdout",
     "output_type": "stream",
     "text": [
      "Number of original events: 85\n",
      "Number of processed events: 0\n"
     ]
    },
    {
     "name": "stderr",
     "output_type": "stream",
     "text": [
      "/home/carlos/MasterDS/tfm/scripts/extractive_summary/key_events_summary.py:196: UserWarning: Could not perform summary for https://matchcenter.mlssoccer.com/matchcenter/2015-04-10-fc-dallas-vs-colorado-rapids/feed\n",
      "  warnings.warn('Could not perform summary for {}'.format(match_url))\n"
     ]
    },
    {
     "name": "stdout",
     "output_type": "stream",
     "text": [
      "Number of original events: 89\n",
      "Number of processed events: 0\n"
     ]
    },
    {
     "name": "stderr",
     "output_type": "stream",
     "text": [
      "/home/carlos/MasterDS/tfm/scripts/extractive_summary/key_events_summary.py:196: UserWarning: Could not perform summary for https://matchcenter.mlssoccer.com/matchcenter/2015-07-26-dc-united-vs-philadelphia-union/feed\n",
      "  warnings.warn('Could not perform summary for {}'.format(match_url))\n"
     ]
    },
    {
     "name": "stdout",
     "output_type": "stream",
     "text": [
      "Number of original events: 109\n",
      "Number of processed events: 0\n"
     ]
    },
    {
     "name": "stderr",
     "output_type": "stream",
     "text": [
      "/home/carlos/MasterDS/tfm/scripts/extractive_summary/key_events_summary.py:196: UserWarning: Could not perform summary for https://matchcenter.mlssoccer.com/matchcenter/2015-04-04-chicago-fire-vs-toronto-fc/feed\n",
      "  warnings.warn('Could not perform summary for {}'.format(match_url))\n"
     ]
    },
    {
     "name": "stdout",
     "output_type": "stream",
     "text": [
      "Number of original events: 104\n",
      "Number of processed events: 0\n"
     ]
    },
    {
     "name": "stderr",
     "output_type": "stream",
     "text": [
      "/home/carlos/MasterDS/tfm/scripts/extractive_summary/key_events_summary.py:196: UserWarning: Could not perform summary for https://matchcenter.mlssoccer.com/matchcenter/2015-06-21-real-salt-lake-vs-sporting-kansas-city/feed\n",
      "  warnings.warn('Could not perform summary for {}'.format(match_url))\n"
     ]
    },
    {
     "name": "stdout",
     "output_type": "stream",
     "text": [
      "Number of original events: 83\n",
      "Number of processed events: 0\n"
     ]
    },
    {
     "name": "stderr",
     "output_type": "stream",
     "text": [
      "/home/carlos/MasterDS/tfm/scripts/extractive_summary/key_events_summary.py:196: UserWarning: Could not perform summary for https://matchcenter.mlssoccer.com/matchcenter/2015-05-29-sporting-kansas-city-vs-fc-dallas/feed\n",
      "  warnings.warn('Could not perform summary for {}'.format(match_url))\n"
     ]
    },
    {
     "name": "stdout",
     "output_type": "stream",
     "text": [
      "Number of original events: 88\n",
      "Number of processed events: 0\n"
     ]
    },
    {
     "name": "stderr",
     "output_type": "stream",
     "text": [
      "/home/carlos/MasterDS/tfm/scripts/extractive_summary/key_events_summary.py:196: UserWarning: Could not perform summary for https://matchcenter.mlssoccer.com/matchcenter/2015-10-03-new-york-red-bulls-vs-columbus-crew-sc/feed\n",
      "  warnings.warn('Could not perform summary for {}'.format(match_url))\n"
     ]
    },
    {
     "name": "stdout",
     "output_type": "stream",
     "text": [
      "Number of original events: 112\n",
      "Number of processed events: 0\n"
     ]
    },
    {
     "name": "stderr",
     "output_type": "stream",
     "text": [
      "/home/carlos/MasterDS/tfm/scripts/extractive_summary/key_events_summary.py:196: UserWarning: Could not perform summary for https://matchcenter.mlssoccer.com/matchcenter/2015-07-15-cuba-vs-guatemala/feed\n",
      "  warnings.warn('Could not perform summary for {}'.format(match_url))\n"
     ]
    },
    {
     "name": "stdout",
     "output_type": "stream",
     "text": [
      "Number of original events: 102\n",
      "Number of processed events: 0\n"
     ]
    },
    {
     "name": "stderr",
     "output_type": "stream",
     "text": [
      "/home/carlos/MasterDS/tfm/scripts/extractive_summary/key_events_summary.py:196: UserWarning: Could not perform summary for https://matchcenter.mlssoccer.com/matchcenter/2015-07-10-us-mens-national-team-vs-haiti/feed\n",
      "  warnings.warn('Could not perform summary for {}'.format(match_url))\n"
     ]
    },
    {
     "name": "stdout",
     "output_type": "stream",
     "text": [
      "Number of original events: 81\n",
      "Number of processed events: 0\n"
     ]
    },
    {
     "name": "stderr",
     "output_type": "stream",
     "text": [
      "/home/carlos/MasterDS/tfm/scripts/extractive_summary/key_events_summary.py:196: UserWarning: Could not perform summary for https://matchcenter.mlssoccer.com/matchcenter/2015-09-05-san-jose-earthquakes-vs-philadelphia-union/feed\n",
      "  warnings.warn('Could not perform summary for {}'.format(match_url))\n"
     ]
    },
    {
     "name": "stdout",
     "output_type": "stream",
     "text": [
      "Number of original events: 90\n",
      "Number of processed events: 0\n"
     ]
    },
    {
     "name": "stderr",
     "output_type": "stream",
     "text": [
      "/home/carlos/MasterDS/tfm/scripts/extractive_summary/key_events_summary.py:196: UserWarning: Could not perform summary for https://matchcenter.mlssoccer.com/matchcenter/2015-08-05-vancouver-whitecaps-fc-vs-seattle-sounders-fc/feed\n",
      "  warnings.warn('Could not perform summary for {}'.format(match_url))\n"
     ]
    },
    {
     "name": "stdout",
     "output_type": "stream",
     "text": [
      "Number of original events: 101\n",
      "Number of processed events: 0\n"
     ]
    },
    {
     "name": "stderr",
     "output_type": "stream",
     "text": [
      "/home/carlos/MasterDS/tfm/scripts/extractive_summary/key_events_summary.py:196: UserWarning: Could not perform summary for https://matchcenter.mlssoccer.com/matchcenter/2015-06-07-san-jose-earthquakes-vs-fc-dallas/feed\n",
      "  warnings.warn('Could not perform summary for {}'.format(match_url))\n"
     ]
    },
    {
     "name": "stdout",
     "output_type": "stream",
     "text": [
      "Number of original events: 94\n",
      "Number of processed events: 0\n"
     ]
    },
    {
     "name": "stderr",
     "output_type": "stream",
     "text": [
      "/home/carlos/MasterDS/tfm/scripts/extractive_summary/key_events_summary.py:196: UserWarning: Could not perform summary for https://matchcenter.mlssoccer.com/matchcenter/2015-05-30-colorado-rapids-vs-portland-timbers/feed\n",
      "  warnings.warn('Could not perform summary for {}'.format(match_url))\n"
     ]
    },
    {
     "name": "stdout",
     "output_type": "stream",
     "text": [
      "Number of original events: 96\n",
      "Number of processed events: 0\n"
     ]
    },
    {
     "name": "stderr",
     "output_type": "stream",
     "text": [
      "/home/carlos/MasterDS/tfm/scripts/extractive_summary/key_events_summary.py:196: UserWarning: Could not perform summary for https://matchcenter.mlssoccer.com/matchcenter/2015-10-14-real-salt-lake-vs-portland-timbers/feed\n",
      "  warnings.warn('Could not perform summary for {}'.format(match_url))\n"
     ]
    },
    {
     "name": "stdout",
     "output_type": "stream",
     "text": [
      "Number of original events: 90\n",
      "Number of processed events: 0\n"
     ]
    },
    {
     "name": "stderr",
     "output_type": "stream",
     "text": [
      "/home/carlos/MasterDS/tfm/scripts/extractive_summary/key_events_summary.py:196: UserWarning: Could not perform summary for https://matchcenter.mlssoccer.com/matchcenter/2015-04-19-philadelphia-union-vs-new-england-revolution/feed\n",
      "  warnings.warn('Could not perform summary for {}'.format(match_url))\n"
     ]
    },
    {
     "name": "stdout",
     "output_type": "stream",
     "text": [
      "Number of original events: 105\n",
      "Number of processed events: 0\n"
     ]
    },
    {
     "name": "stderr",
     "output_type": "stream",
     "text": [
      "/home/carlos/MasterDS/tfm/scripts/extractive_summary/key_events_summary.py:196: UserWarning: Could not perform summary for https://matchcenter.mlssoccer.com/matchcenter/2015-04-12-portland-timbers-vs-orlando-city-sc/feed\n",
      "  warnings.warn('Could not perform summary for {}'.format(match_url))\n"
     ]
    },
    {
     "name": "stdout",
     "output_type": "stream",
     "text": [
      "Number of original events: 87\n",
      "Number of processed events: 0\n"
     ]
    },
    {
     "name": "stderr",
     "output_type": "stream",
     "text": [
      "/home/carlos/MasterDS/tfm/scripts/extractive_summary/key_events_summary.py:196: UserWarning: Could not perform summary for https://matchcenter.mlssoccer.com/matchcenter/2015-03-07-dc-united-vs-montreal-impact/feed\n",
      "  warnings.warn('Could not perform summary for {}'.format(match_url))\n"
     ]
    },
    {
     "name": "stdout",
     "output_type": "stream",
     "text": [
      "Number of original events: 93\n",
      "Number of processed events: 0\n"
     ]
    },
    {
     "name": "stderr",
     "output_type": "stream",
     "text": [
      "/home/carlos/MasterDS/tfm/scripts/extractive_summary/key_events_summary.py:196: UserWarning: Could not perform summary for https://matchcenter.mlssoccer.com/matchcenter/2015-05-16-houston-dynamo-vs-portland-timbers/feed\n",
      "  warnings.warn('Could not perform summary for {}'.format(match_url))\n"
     ]
    },
    {
     "name": "stdout",
     "output_type": "stream",
     "text": [
      "Number of original events: 74\n",
      "Number of processed events: 0\n"
     ]
    },
    {
     "name": "stderr",
     "output_type": "stream",
     "text": [
      "/home/carlos/MasterDS/tfm/scripts/extractive_summary/key_events_summary.py:196: UserWarning: Could not perform summary for https://matchcenter.mlssoccer.com/matchcenter/2015-10-03-orlando-city-sc-vs-montreal-impact/feed\n",
      "  warnings.warn('Could not perform summary for {}'.format(match_url))\n"
     ]
    },
    {
     "name": "stdout",
     "output_type": "stream",
     "text": [
      "Number of original events: 87\n",
      "Number of processed events: 0\n"
     ]
    },
    {
     "name": "stderr",
     "output_type": "stream",
     "text": [
      "/home/carlos/MasterDS/tfm/scripts/extractive_summary/key_events_summary.py:196: UserWarning: Could not perform summary for https://matchcenter.mlssoccer.com/matchcenter/2015-08-08-vancouver-whitecaps-fc-vs-real-salt-lake/feed\n",
      "  warnings.warn('Could not perform summary for {}'.format(match_url))\n"
     ]
    },
    {
     "name": "stdout",
     "output_type": "stream",
     "text": [
      "Number of original events: 91\n",
      "Number of processed events: 0\n"
     ]
    },
    {
     "name": "stderr",
     "output_type": "stream",
     "text": [
      "/home/carlos/MasterDS/tfm/scripts/extractive_summary/key_events_summary.py:196: UserWarning: Could not perform summary for https://matchcenter.mlssoccer.com/matchcenter/2015-06-05-netherlands-vs-us-mens-national-team/feed\n",
      "  warnings.warn('Could not perform summary for {}'.format(match_url))\n"
     ]
    },
    {
     "name": "stdout",
     "output_type": "stream",
     "text": [
      "Number of original events: 89\n",
      "Number of processed events: 0\n"
     ]
    },
    {
     "name": "stderr",
     "output_type": "stream",
     "text": [
      "/home/carlos/MasterDS/tfm/scripts/extractive_summary/key_events_summary.py:196: UserWarning: Could not perform summary for https://matchcenter.mlssoccer.com/matchcenter/2015-08-19-sporting-kansas-city-vs-san-jose-earthquakes/feed\n",
      "  warnings.warn('Could not perform summary for {}'.format(match_url))\n"
     ]
    },
    {
     "name": "stdout",
     "output_type": "stream",
     "text": [
      "Number of original events: 139\n",
      "Number of processed events: 0\n"
     ]
    },
    {
     "name": "stderr",
     "output_type": "stream",
     "text": [
      "/home/carlos/MasterDS/tfm/scripts/extractive_summary/key_events_summary.py:196: UserWarning: Could not perform summary for https://matchcenter.mlssoccer.com/matchcenter/2015-07-19-mexico-vs-costa-rica/feed\n",
      "  warnings.warn('Could not perform summary for {}'.format(match_url))\n"
     ]
    },
    {
     "name": "stdout",
     "output_type": "stream",
     "text": [
      "Number of original events: 104\n",
      "Number of processed events: 0\n"
     ]
    },
    {
     "name": "stderr",
     "output_type": "stream",
     "text": [
      "/home/carlos/MasterDS/tfm/scripts/extractive_summary/key_events_summary.py:196: UserWarning: Could not perform summary for https://matchcenter.mlssoccer.com/matchcenter/2015-07-11-orlando-city-sc-vs-fc-dallas/feed\n",
      "  warnings.warn('Could not perform summary for {}'.format(match_url))\n"
     ]
    },
    {
     "name": "stdout",
     "output_type": "stream",
     "text": [
      "Number of original events: 6\n",
      "Number of processed events: 0\n"
     ]
    },
    {
     "name": "stderr",
     "output_type": "stream",
     "text": [
      "/home/carlos/MasterDS/tfm/scripts/extractive_summary/key_events_summary.py:196: UserWarning: Could not perform summary for https://matchcenter.mlssoccer.com/matchcenter/2015-06-16-real-salt-lake-vs-seattle-sounders-2/feed\n",
      "  warnings.warn('Could not perform summary for {}'.format(match_url))\n"
     ]
    },
    {
     "name": "stdout",
     "output_type": "stream",
     "text": [
      "Number of original events: 75\n",
      "Number of processed events: 0\n"
     ]
    },
    {
     "name": "stderr",
     "output_type": "stream",
     "text": [
      "/home/carlos/MasterDS/tfm/scripts/extractive_summary/key_events_summary.py:196: UserWarning: Could not perform summary for https://matchcenter.mlssoccer.com/matchcenter/2015-06-03-philadelphia-union-vs-columbus-crew-sc/feed\n",
      "  warnings.warn('Could not perform summary for {}'.format(match_url))\n"
     ]
    },
    {
     "name": "stdout",
     "output_type": "stream",
     "text": [
      "Number of original events: 10\n",
      "Number of processed events: 0\n"
     ]
    },
    {
     "name": "stderr",
     "output_type": "stream",
     "text": [
      "/home/carlos/MasterDS/tfm/scripts/extractive_summary/key_events_summary.py:196: UserWarning: Could not perform summary for https://matchcenter.mlssoccer.com/matchcenter/2015-06-16-seattle-sounders-fc-vs-portland-timbers/feed\n",
      "  warnings.warn('Could not perform summary for {}'.format(match_url))\n"
     ]
    },
    {
     "name": "stdout",
     "output_type": "stream",
     "text": [
      "Number of original events: 110\n",
      "Number of processed events: 0\n"
     ]
    },
    {
     "name": "stderr",
     "output_type": "stream",
     "text": [
      "/home/carlos/MasterDS/tfm/scripts/extractive_summary/key_events_summary.py:196: UserWarning: Could not perform summary for https://matchcenter.mlssoccer.com/matchcenter/2015-07-04-real-salt-lake-vs-orlando-city-sc/feed\n",
      "  warnings.warn('Could not perform summary for {}'.format(match_url))\n"
     ]
    },
    {
     "name": "stdout",
     "output_type": "stream",
     "text": [
      "Number of original events: 98\n",
      "Number of processed events: 0\n",
      "Number of original events: 6\n",
      "Number of processed events: 0\n"
     ]
    },
    {
     "name": "stderr",
     "output_type": "stream",
     "text": [
      "/home/carlos/MasterDS/tfm/scripts/extractive_summary/key_events_summary.py:196: UserWarning: Could not perform summary for https://matchcenter.mlssoccer.com/matchcenter/2015-10-25-fc-dallas-vs-san-jose-earthquakes/feed\n",
      "  warnings.warn('Could not perform summary for {}'.format(match_url))\n",
      "/home/carlos/MasterDS/tfm/scripts/extractive_summary/key_events_summary.py:196: UserWarning: Could not perform summary for https://matchcenter.mlssoccer.com/matchcenter/2015-06-17-new-england-revolution-vs-charlotte-independence/feed\n",
      "  warnings.warn('Could not perform summary for {}'.format(match_url))\n"
     ]
    },
    {
     "name": "stdout",
     "output_type": "stream",
     "text": [
      "Number of original events: 104\n",
      "Number of processed events: 0\n"
     ]
    },
    {
     "name": "stderr",
     "output_type": "stream",
     "text": [
      "/home/carlos/MasterDS/tfm/scripts/extractive_summary/key_events_summary.py:196: UserWarning: Could not perform summary for https://matchcenter.mlssoccer.com/matchcenter/2015-10-25-seattle-sounders-fc-vs-real-salt-lake/feed\n",
      "  warnings.warn('Could not perform summary for {}'.format(match_url))\n"
     ]
    },
    {
     "name": "stdout",
     "output_type": "stream",
     "text": [
      "Number of original events: 68\n",
      "Number of processed events: 0\n"
     ]
    },
    {
     "name": "stderr",
     "output_type": "stream",
     "text": [
      "/home/carlos/MasterDS/tfm/scripts/extractive_summary/key_events_summary.py:196: UserWarning: Could not perform summary for https://matchcenter.mlssoccer.com/matchcenter/2015-06-24-philadelphia-union-vs-seattle-sounders-fc/feed\n",
      "  warnings.warn('Could not perform summary for {}'.format(match_url))\n"
     ]
    },
    {
     "name": "stdout",
     "output_type": "stream",
     "text": [
      "Number of original events: 128\n",
      "Number of processed events: 0\n"
     ]
    },
    {
     "name": "stderr",
     "output_type": "stream",
     "text": [
      "/home/carlos/MasterDS/tfm/scripts/extractive_summary/key_events_summary.py:196: UserWarning: Could not perform summary for https://matchcenter.mlssoccer.com/matchcenter/2015-03-07-portland-timbers-vs-real-salt-lake/feed\n",
      "  warnings.warn('Could not perform summary for {}'.format(match_url))\n"
     ]
    },
    {
     "name": "stdout",
     "output_type": "stream",
     "text": [
      "Number of original events: 106\n",
      "Number of processed events: 0\n"
     ]
    },
    {
     "name": "stderr",
     "output_type": "stream",
     "text": [
      "/home/carlos/MasterDS/tfm/scripts/extractive_summary/key_events_summary.py:196: UserWarning: Could not perform summary for https://matchcenter.mlssoccer.com/matchcenter/2015-07-25-columbus-crew-sc-vs-toronto-fc/feed\n",
      "  warnings.warn('Could not perform summary for {}'.format(match_url))\n"
     ]
    },
    {
     "name": "stdout",
     "output_type": "stream",
     "text": [
      "Number of original events: 119\n",
      "Number of processed events: 0\n"
     ]
    },
    {
     "name": "stderr",
     "output_type": "stream",
     "text": [
      "/home/carlos/MasterDS/tfm/scripts/extractive_summary/key_events_summary.py:196: UserWarning: Could not perform summary for https://matchcenter.mlssoccer.com/matchcenter/2015-07-18-haiti-vs-jamaica/feed\n",
      "  warnings.warn('Could not perform summary for {}'.format(match_url))\n"
     ]
    },
    {
     "name": "stdout",
     "output_type": "stream",
     "text": [
      "Number of original events: 105\n",
      "Number of processed events: 0\n"
     ]
    },
    {
     "name": "stderr",
     "output_type": "stream",
     "text": [
      "/home/carlos/MasterDS/tfm/scripts/extractive_summary/key_events_summary.py:196: UserWarning: Could not perform summary for https://matchcenter.mlssoccer.com/matchcenter/2015-08-29-philadelphia-union-vs-new-england-revolution/feed\n",
      "  warnings.warn('Could not perform summary for {}'.format(match_url))\n"
     ]
    },
    {
     "name": "stdout",
     "output_type": "stream",
     "text": [
      "Number of original events: 77\n",
      "Number of processed events: 0\n"
     ]
    },
    {
     "name": "stderr",
     "output_type": "stream",
     "text": [
      "/home/carlos/MasterDS/tfm/scripts/extractive_summary/key_events_summary.py:196: UserWarning: Could not perform summary for https://matchcenter.mlssoccer.com/matchcenter/2015-05-23-real-salt-lake-vs-new-york-city-fc/feed\n",
      "  warnings.warn('Could not perform summary for {}'.format(match_url))\n"
     ]
    },
    {
     "name": "stdout",
     "output_type": "stream",
     "text": [
      "Number of original events: 87\n",
      "Number of processed events: 0\n",
      "Number of original events: 6\n",
      "Number of processed events: 0\n"
     ]
    },
    {
     "name": "stderr",
     "output_type": "stream",
     "text": [
      "/home/carlos/MasterDS/tfm/scripts/extractive_summary/key_events_summary.py:196: UserWarning: Could not perform summary for https://matchcenter.mlssoccer.com/matchcenter/2015-08-08-orlando-city-sc-vs-philadelphia-union/feed\n",
      "  warnings.warn('Could not perform summary for {}'.format(match_url))\n",
      "/home/carlos/MasterDS/tfm/scripts/extractive_summary/key_events_summary.py:196: UserWarning: Could not perform summary for https://matchcenter.mlssoccer.com/matchcenter/2015-06-17-houston-dynamo-vs-austin-aztex/feed\n",
      "  warnings.warn('Could not perform summary for {}'.format(match_url))\n"
     ]
    },
    {
     "name": "stdout",
     "output_type": "stream",
     "text": [
      "Number of original events: 95\n",
      "Number of processed events: 0\n"
     ]
    },
    {
     "name": "stderr",
     "output_type": "stream",
     "text": [
      "/home/carlos/MasterDS/tfm/scripts/extractive_summary/key_events_summary.py:196: UserWarning: Could not perform summary for https://matchcenter.mlssoccer.com/matchcenter/2015-05-08-colorado-rapids-vs-san-jose-earthquakes/feed\n",
      "  warnings.warn('Could not perform summary for {}'.format(match_url))\n"
     ]
    },
    {
     "name": "stdout",
     "output_type": "stream",
     "text": [
      "Number of original events: 101\n",
      "Number of processed events: 0\n"
     ]
    },
    {
     "name": "stderr",
     "output_type": "stream",
     "text": [
      "/home/carlos/MasterDS/tfm/scripts/extractive_summary/key_events_summary.py:196: UserWarning: Could not perform summary for https://matchcenter.mlssoccer.com/matchcenter/2015-09-05-montreal-impact-vs-chicago-fire/feed\n",
      "  warnings.warn('Could not perform summary for {}'.format(match_url))\n"
     ]
    },
    {
     "name": "stdout",
     "output_type": "stream",
     "text": [
      "Number of original events: 113\n",
      "Number of processed events: 0\n"
     ]
    },
    {
     "name": "stderr",
     "output_type": "stream",
     "text": [
      "/home/carlos/MasterDS/tfm/scripts/extractive_summary/key_events_summary.py:196: UserWarning: Could not perform summary for https://matchcenter.mlssoccer.com/matchcenter/2015-10-04-colorado-rapids-vs-real-salt-lake/feed\n",
      "  warnings.warn('Could not perform summary for {}'.format(match_url))\n"
     ]
    },
    {
     "name": "stdout",
     "output_type": "stream",
     "text": [
      "Number of original events: 87\n",
      "Number of processed events: 0\n"
     ]
    },
    {
     "name": "stderr",
     "output_type": "stream",
     "text": [
      "/home/carlos/MasterDS/tfm/scripts/extractive_summary/key_events_summary.py:196: UserWarning: Could not perform summary for https://matchcenter.mlssoccer.com/matchcenter/2015-08-01-new-england-revolution-vs-toronto-fc/feed\n",
      "  warnings.warn('Could not perform summary for {}'.format(match_url))\n"
     ]
    },
    {
     "name": "stdout",
     "output_type": "stream",
     "text": [
      "Number of original events: 94\n",
      "Number of processed events: 0\n"
     ]
    },
    {
     "name": "stderr",
     "output_type": "stream",
     "text": [
      "/home/carlos/MasterDS/tfm/scripts/extractive_summary/key_events_summary.py:196: UserWarning: Could not perform summary for https://matchcenter.mlssoccer.com/matchcenter/2015-08-15-sporting-kansas-city-vs-vancouver-whitecaps-fc/feed\n",
      "  warnings.warn('Could not perform summary for {}'.format(match_url))\n"
     ]
    },
    {
     "name": "stdout",
     "output_type": "stream",
     "text": [
      "Number of original events: 99\n",
      "Number of processed events: 0\n"
     ]
    },
    {
     "name": "stderr",
     "output_type": "stream",
     "text": [
      "/home/carlos/MasterDS/tfm/scripts/extractive_summary/key_events_summary.py:196: UserWarning: Could not perform summary for https://matchcenter.mlssoccer.com/matchcenter/2015-08-30-new-york-red-bulls-vs-dc-united/feed\n",
      "  warnings.warn('Could not perform summary for {}'.format(match_url))\n"
     ]
    },
    {
     "name": "stdout",
     "output_type": "stream",
     "text": [
      "Number of original events: 98\n",
      "Number of processed events: 0\n"
     ]
    },
    {
     "name": "stderr",
     "output_type": "stream",
     "text": [
      "/home/carlos/MasterDS/tfm/scripts/extractive_summary/key_events_summary.py:196: UserWarning: Could not perform summary for https://matchcenter.mlssoccer.com/matchcenter/2015-04-11-houston-dynamo-vs-montreal-impact/feed\n",
      "  warnings.warn('Could not perform summary for {}'.format(match_url))\n"
     ]
    },
    {
     "name": "stdout",
     "output_type": "stream",
     "text": [
      "Number of original events: 103\n",
      "Number of processed events: 0\n"
     ]
    },
    {
     "name": "stderr",
     "output_type": "stream",
     "text": [
      "/home/carlos/MasterDS/tfm/scripts/extractive_summary/key_events_summary.py:196: UserWarning: Could not perform summary for https://matchcenter.mlssoccer.com/matchcenter/2015-08-22-dc-united-vs-san-jose-earthquakes/feed\n",
      "  warnings.warn('Could not perform summary for {}'.format(match_url))\n"
     ]
    },
    {
     "name": "stdout",
     "output_type": "stream",
     "text": [
      "Number of original events: 97\n",
      "Number of processed events: 0\n"
     ]
    },
    {
     "name": "stderr",
     "output_type": "stream",
     "text": [
      "/home/carlos/MasterDS/tfm/scripts/extractive_summary/key_events_summary.py:196: UserWarning: Could not perform summary for https://matchcenter.mlssoccer.com/matchcenter/2015-05-30-dc-united-vs-philadelphia-union/feed\n",
      "  warnings.warn('Could not perform summary for {}'.format(match_url))\n"
     ]
    },
    {
     "name": "stdout",
     "output_type": "stream",
     "text": [
      "Number of original events: 90\n",
      "Number of processed events: 0\n"
     ]
    },
    {
     "name": "stderr",
     "output_type": "stream",
     "text": [
      "/home/carlos/MasterDS/tfm/scripts/extractive_summary/key_events_summary.py:196: UserWarning: Could not perform summary for https://matchcenter.mlssoccer.com/matchcenter/2015-10-18-dc-united-vs-chicago-fire/feed\n",
      "  warnings.warn('Could not perform summary for {}'.format(match_url))\n"
     ]
    },
    {
     "name": "stdout",
     "output_type": "stream",
     "text": [
      "Number of original events: 117\n",
      "Number of processed events: 0\n"
     ]
    },
    {
     "name": "stderr",
     "output_type": "stream",
     "text": [
      "/home/carlos/MasterDS/tfm/scripts/extractive_summary/key_events_summary.py:196: UserWarning: Could not perform summary for https://matchcenter.mlssoccer.com/matchcenter/2015-07-12-new-york-city-fc-vs-toronto-fc/feed\n",
      "  warnings.warn('Could not perform summary for {}'.format(match_url))\n"
     ]
    },
    {
     "name": "stdout",
     "output_type": "stream",
     "text": [
      "Number of original events: 92\n",
      "Number of processed events: 0\n"
     ]
    },
    {
     "name": "stderr",
     "output_type": "stream",
     "text": [
      "/home/carlos/MasterDS/tfm/scripts/extractive_summary/key_events_summary.py:196: UserWarning: Could not perform summary for https://matchcenter.mlssoccer.com/matchcenter/2015-07-18-seattle-sounders-fc-vs-colorado-rapids/feed\n",
      "  warnings.warn('Could not perform summary for {}'.format(match_url))\n"
     ]
    },
    {
     "name": "stdout",
     "output_type": "stream",
     "text": [
      "Number of original events: 91\n",
      "Number of processed events: 0\n"
     ]
    },
    {
     "name": "stderr",
     "output_type": "stream",
     "text": [
      "/home/carlos/MasterDS/tfm/scripts/extractive_summary/key_events_summary.py:196: UserWarning: Could not perform summary for https://matchcenter.mlssoccer.com/matchcenter/2015-08-01-dc-united-vs-real-salt-lake/feed\n",
      "  warnings.warn('Could not perform summary for {}'.format(match_url))\n"
     ]
    },
    {
     "name": "stdout",
     "output_type": "stream",
     "text": [
      "Number of original events: 99\n",
      "Number of processed events: 0\n"
     ]
    },
    {
     "name": "stderr",
     "output_type": "stream",
     "text": [
      "/home/carlos/MasterDS/tfm/scripts/extractive_summary/key_events_summary.py:196: UserWarning: Could not perform summary for https://matchcenter.mlssoccer.com/matchcenter/2015-10-13-us-mens-national-team-vs-costa-rica/feed\n",
      "  warnings.warn('Could not perform summary for {}'.format(match_url))\n"
     ]
    },
    {
     "name": "stdout",
     "output_type": "stream",
     "text": [
      "Number of original events: 101\n",
      "Number of processed events: 0\n"
     ]
    },
    {
     "name": "stderr",
     "output_type": "stream",
     "text": [
      "/home/carlos/MasterDS/tfm/scripts/extractive_summary/key_events_summary.py:196: UserWarning: Could not perform summary for https://matchcenter.mlssoccer.com/matchcenter/2015-07-12-vancouver-whitecaps-fc-vs-sporting-kansas-city/feed\n",
      "  warnings.warn('Could not perform summary for {}'.format(match_url))\n"
     ]
    },
    {
     "name": "stdout",
     "output_type": "stream",
     "text": [
      "Number of original events: 116\n",
      "Number of processed events: 0\n"
     ]
    },
    {
     "name": "stderr",
     "output_type": "stream",
     "text": [
      "/home/carlos/MasterDS/tfm/scripts/extractive_summary/key_events_summary.py:196: UserWarning: Could not perform summary for https://matchcenter.mlssoccer.com/matchcenter/2015-07-07-panama-vs-haiti/feed\n",
      "  warnings.warn('Could not perform summary for {}'.format(match_url))\n"
     ]
    },
    {
     "name": "stdout",
     "output_type": "stream",
     "text": [
      "Number of original events: 99\n",
      "Number of processed events: 0\n"
     ]
    },
    {
     "name": "stderr",
     "output_type": "stream",
     "text": [
      "/home/carlos/MasterDS/tfm/scripts/extractive_summary/key_events_summary.py:196: UserWarning: Could not perform summary for https://matchcenter.mlssoccer.com/matchcenter/2015-06-30-philadelphia-union-vs-dc-united/feed\n",
      "  warnings.warn('Could not perform summary for {}'.format(match_url))\n"
     ]
    },
    {
     "name": "stdout",
     "output_type": "stream",
     "text": [
      "Number of original events: 90\n",
      "Number of processed events: 0\n"
     ]
    },
    {
     "name": "stderr",
     "output_type": "stream",
     "text": [
      "/home/carlos/MasterDS/tfm/scripts/extractive_summary/key_events_summary.py:196: UserWarning: Could not perform summary for https://matchcenter.mlssoccer.com/matchcenter/2015-04-15-us-mens-national-team-vs-mexico/feed\n",
      "  warnings.warn('Could not perform summary for {}'.format(match_url))\n"
     ]
    },
    {
     "name": "stdout",
     "output_type": "stream",
     "text": [
      "Number of original events: 90\n",
      "Number of processed events: 0\n"
     ]
    },
    {
     "name": "stderr",
     "output_type": "stream",
     "text": [
      "/home/carlos/MasterDS/tfm/scripts/extractive_summary/key_events_summary.py:196: UserWarning: Could not perform summary for https://matchcenter.mlssoccer.com/matchcenter/2015-05-13-toronto-fc-vs-montreal-impact/feed\n",
      "  warnings.warn('Could not perform summary for {}'.format(match_url))\n"
     ]
    },
    {
     "name": "stdout",
     "output_type": "stream",
     "text": [
      "Number of original events: 90\n",
      "Number of processed events: 0\n"
     ]
    },
    {
     "name": "stderr",
     "output_type": "stream",
     "text": [
      "/home/carlos/MasterDS/tfm/scripts/extractive_summary/key_events_summary.py:196: UserWarning: Could not perform summary for https://matchcenter.mlssoccer.com/matchcenter/2015-03-29-chicago-fire-vs-philadelphia-union/feed\n",
      "  warnings.warn('Could not perform summary for {}'.format(match_url))\n"
     ]
    },
    {
     "name": "stdout",
     "output_type": "stream",
     "text": [
      "Number of original events: 88\n",
      "Number of processed events: 0\n"
     ]
    },
    {
     "name": "stderr",
     "output_type": "stream",
     "text": [
      "/home/carlos/MasterDS/tfm/scripts/extractive_summary/key_events_summary.py:196: UserWarning: Could not perform summary for https://matchcenter.mlssoccer.com/matchcenter/2015-08-13-new-york-city-fc-vs-dc-united/feed\n",
      "  warnings.warn('Could not perform summary for {}'.format(match_url))\n"
     ]
    },
    {
     "name": "stdout",
     "output_type": "stream",
     "text": [
      "Number of original events: 85\n",
      "Number of processed events: 0\n"
     ]
    },
    {
     "name": "stderr",
     "output_type": "stream",
     "text": [
      "/home/carlos/MasterDS/tfm/scripts/extractive_summary/key_events_summary.py:196: UserWarning: Could not perform summary for https://matchcenter.mlssoccer.com/matchcenter/2015-07-01-real-salt-lake-vs-portland-timbers/feed\n",
      "  warnings.warn('Could not perform summary for {}'.format(match_url))\n"
     ]
    },
    {
     "name": "stdout",
     "output_type": "stream",
     "text": [
      "Number of original events: 99\n",
      "Number of processed events: 0\n"
     ]
    },
    {
     "name": "stderr",
     "output_type": "stream",
     "text": [
      "/home/carlos/MasterDS/tfm/scripts/extractive_summary/key_events_summary.py:196: UserWarning: Could not perform summary for https://matchcenter.mlssoccer.com/matchcenter/2015-08-29-orlando-city-sc-vs-chicago-fire/feed\n",
      "  warnings.warn('Could not perform summary for {}'.format(match_url))\n"
     ]
    },
    {
     "name": "stdout",
     "output_type": "stream",
     "text": [
      "Number of original events: 64\n",
      "Number of processed events: 0\n"
     ]
    },
    {
     "name": "stderr",
     "output_type": "stream",
     "text": [
      "/home/carlos/MasterDS/tfm/scripts/extractive_summary/key_events_summary.py:196: UserWarning: Could not perform summary for https://matchcenter.mlssoccer.com/matchcenter/2015-10-04-seattle-sounders-fc-vs-la-galaxy/feed\n",
      "  warnings.warn('Could not perform summary for {}'.format(match_url))\n"
     ]
    },
    {
     "name": "stdout",
     "output_type": "stream",
     "text": [
      "Number of original events: 10\n",
      "Number of processed events: 0\n"
     ]
    },
    {
     "name": "stderr",
     "output_type": "stream",
     "text": [
      "/home/carlos/MasterDS/tfm/scripts/extractive_summary/key_events_summary.py:196: UserWarning: Could not perform summary for https://matchcenter.mlssoccer.com/matchcenter/2015-06-17-pittsburgh-riverhounds-vs-dc-united/feed\n",
      "  warnings.warn('Could not perform summary for {}'.format(match_url))\n"
     ]
    },
    {
     "name": "stdout",
     "output_type": "stream",
     "text": [
      "Number of original events: 91\n",
      "Number of processed events: 0\n"
     ]
    },
    {
     "name": "stderr",
     "output_type": "stream",
     "text": [
      "/home/carlos/MasterDS/tfm/scripts/extractive_summary/key_events_summary.py:196: UserWarning: Could not perform summary for https://matchcenter.mlssoccer.com/matchcenter/2015-08-12-sporting-kansas-city-vs-real-salt-lake/feed\n",
      "  warnings.warn('Could not perform summary for {}'.format(match_url))\n"
     ]
    },
    {
     "name": "stdout",
     "output_type": "stream",
     "text": [
      "Number of original events: 149\n",
      "Number of processed events: 0\n"
     ]
    },
    {
     "name": "stderr",
     "output_type": "stream",
     "text": [
      "/home/carlos/MasterDS/tfm/scripts/extractive_summary/key_events_summary.py:196: UserWarning: Could not perform summary for https://matchcenter.mlssoccer.com/matchcenter/2015-07-10-honduras-vs-panama/feed\n",
      "  warnings.warn('Could not perform summary for {}'.format(match_url))\n"
     ]
    },
    {
     "name": "stdout",
     "output_type": "stream",
     "text": [
      "Number of original events: 73\n",
      "Number of processed events: 0\n"
     ]
    },
    {
     "name": "stderr",
     "output_type": "stream",
     "text": [
      "/home/carlos/MasterDS/tfm/scripts/extractive_summary/key_events_summary.py:196: UserWarning: Could not perform summary for https://matchcenter.mlssoccer.com/matchcenter/2015-11-01-portland-timbers-vs-vancouver-whitecaps-fc/feed\n",
      "  warnings.warn('Could not perform summary for {}'.format(match_url))\n"
     ]
    },
    {
     "name": "stdout",
     "output_type": "stream",
     "text": [
      "Number of original events: 100\n",
      "Number of processed events: 0\n"
     ]
    },
    {
     "name": "stderr",
     "output_type": "stream",
     "text": [
      "/home/carlos/MasterDS/tfm/scripts/extractive_summary/key_events_summary.py:196: UserWarning: Could not perform summary for https://matchcenter.mlssoccer.com/matchcenter/2015-05-15-new-york-city-fc-vs-chicago-fire/feed\n",
      "  warnings.warn('Could not perform summary for {}'.format(match_url))\n"
     ]
    },
    {
     "name": "stdout",
     "output_type": "stream",
     "text": [
      "Number of original events: 99\n",
      "Number of processed events: 0\n"
     ]
    },
    {
     "name": "stderr",
     "output_type": "stream",
     "text": [
      "/home/carlos/MasterDS/tfm/scripts/extractive_summary/key_events_summary.py:196: UserWarning: Could not perform summary for https://matchcenter.mlssoccer.com/matchcenter/2015-04-24-chicago-fire-vs-new-york-city-fc/feed\n",
      "  warnings.warn('Could not perform summary for {}'.format(match_url))\n"
     ]
    },
    {
     "name": "stdout",
     "output_type": "stream",
     "text": [
      "Number of original events: 98\n",
      "Number of processed events: 0\n"
     ]
    },
    {
     "name": "stderr",
     "output_type": "stream",
     "text": [
      "/home/carlos/MasterDS/tfm/scripts/extractive_summary/key_events_summary.py:196: UserWarning: Could not perform summary for https://matchcenter.mlssoccer.com/matchcenter/2015-08-08-toronto-fc-vs-sporting-kansas-city/feed\n",
      "  warnings.warn('Could not perform summary for {}'.format(match_url))\n"
     ]
    },
    {
     "name": "stdout",
     "output_type": "stream",
     "text": [
      "Number of original events: 20\n",
      "Number of processed events: 4\n",
      "Number of sentences in original article: 76\n",
      "Number of sentences in summary: 1\n",
      "Number of original events: 94\n",
      "Number of processed events: 0\n"
     ]
    },
    {
     "name": "stderr",
     "output_type": "stream",
     "text": [
      "/home/carlos/MasterDS/tfm/scripts/extractive_summary/key_events.py:109: UserWarning: Could not perform tfidf\n",
      "  if len(summary_events) == 0 or len(processed_article_sentences) == 0:\n",
      "/home/carlos/MasterDS/tfm/scripts/extractive_summary/key_events_summary.py:196: UserWarning: Could not perform summary for https://matchcenter.mlssoccer.com/matchcenter/2015-04-25-houston-dynamo-vs-sporting-kansas-city/feed\n",
      "  warnings.warn('Could not perform summary for {}'.format(match_url))\n"
     ]
    },
    {
     "name": "stdout",
     "output_type": "stream",
     "text": [
      "Number of original events: 86\n",
      "Number of processed events: 0\n"
     ]
    },
    {
     "name": "stderr",
     "output_type": "stream",
     "text": [
      "/home/carlos/MasterDS/tfm/scripts/extractive_summary/key_events_summary.py:196: UserWarning: Could not perform summary for https://matchcenter.mlssoccer.com/matchcenter/2015-06-13-seattle-sounders-fc-vs-fc-dallas/feed\n",
      "  warnings.warn('Could not perform summary for {}'.format(match_url))\n"
     ]
    },
    {
     "name": "stdout",
     "output_type": "stream",
     "text": [
      "Number of original events: 116\n",
      "Number of processed events: 0\n"
     ]
    },
    {
     "name": "stderr",
     "output_type": "stream",
     "text": [
      "/home/carlos/MasterDS/tfm/scripts/extractive_summary/key_events_summary.py:196: UserWarning: Could not perform summary for https://matchcenter.mlssoccer.com/matchcenter/2015-07-12-guatemala-vs-mexico/feed\n",
      "  warnings.warn('Could not perform summary for {}'.format(match_url))\n"
     ]
    },
    {
     "name": "stdout",
     "output_type": "stream",
     "text": [
      "Number of original events: 104\n",
      "Number of processed events: 0\n"
     ]
    },
    {
     "name": "stderr",
     "output_type": "stream",
     "text": [
      "/home/carlos/MasterDS/tfm/scripts/extractive_summary/key_events_summary.py:196: UserWarning: Could not perform summary for https://matchcenter.mlssoccer.com/matchcenter/2015-07-03-seattle-sounders-fc-vs-dc-united/feed\n",
      "  warnings.warn('Could not perform summary for {}'.format(match_url))\n"
     ]
    },
    {
     "name": "stdout",
     "output_type": "stream",
     "text": [
      "Number of original events: 84\n",
      "Number of processed events: 0\n"
     ]
    },
    {
     "name": "stderr",
     "output_type": "stream",
     "text": [
      "/home/carlos/MasterDS/tfm/scripts/extractive_summary/key_events_summary.py:196: UserWarning: Could not perform summary for https://matchcenter.mlssoccer.com/matchcenter/2015-08-15-fc-dallas-vs-la-galaxy/feed\n",
      "  warnings.warn('Could not perform summary for {}'.format(match_url))\n"
     ]
    },
    {
     "name": "stdout",
     "output_type": "stream",
     "text": [
      "Number of original events: 96\n",
      "Number of processed events: 0\n"
     ]
    },
    {
     "name": "stderr",
     "output_type": "stream",
     "text": [
      "/home/carlos/MasterDS/tfm/scripts/extractive_summary/key_events_summary.py:196: UserWarning: Could not perform summary for https://matchcenter.mlssoccer.com/matchcenter/2015-03-21-philadelphia-union-vs-fc-dallas/feed\n",
      "  warnings.warn('Could not perform summary for {}'.format(match_url))\n"
     ]
    },
    {
     "name": "stdout",
     "output_type": "stream",
     "text": [
      "Number of original events: 140\n",
      "Number of processed events: 0\n"
     ]
    },
    {
     "name": "stderr",
     "output_type": "stream",
     "text": [
      "/home/carlos/MasterDS/tfm/scripts/extractive_summary/key_events_summary.py:196: UserWarning: Could not perform summary for https://matchcenter.mlssoccer.com/matchcenter/2015-07-22-panama-vs-mexico/feed\n",
      "  warnings.warn('Could not perform summary for {}'.format(match_url))\n"
     ]
    }
   ],
   "source": [
    "%%time\n",
    "pd_df = key_events.run(save_events_sentences=True, path_csv=summaries_path, \n",
    "                       path_mapping=map_path, count_vec_kwargs=count_vec_kwargs, keep_key_events=True)"
   ]
  },
  {
   "cell_type": "code",
   "execution_count": 52,
   "metadata": {},
   "outputs": [
    {
     "data": {
      "text/plain": [
       "['Goal!  Napoli 1, Brescia 0. Dries Mertens (Napoli) right footed shot from the centre of the box to the bottom right corner. Assisted by José Callejón.',\n",
       " 'GOAL CANCELLED BY VAR: Kostas Manolas (Napoli) scores but the goal is ruled out after a VAR review.',\n",
       " 'VAR Decision: No Goal  Napoli 1-0 Brescia.',\n",
       " 'Attempt saved. Faouzi Ghoulam (Napoli) right footed shot from outside the box is saved in the centre of the goal.',\n",
       " 'Goal!  Napoli 2, Brescia 0. Kostas Manolas (Napoli) header from the centre of the box to the bottom right corner. Assisted by Nikola Maksimovic with a headed pass following a corner.',\n",
       " 'GOAL CANCELLED BY VAR: Sandro Tonali (Brescia) scores but the goal is ruled out after a VAR review.',\n",
       " 'VAR Decision: No Goal  Napoli 2-0 Brescia.',\n",
       " 'Goal!  Napoli 2, Brescia 1. Mario Balotelli (Brescia) header from the centre of the box to the top left corner. Assisted by Sandro Tonali with a cross following a corner.',\n",
       " 'Attempt saved. Piotr Zielinski (Napoli) right footed shot from the centre of the box is saved in the centre of the goal. Assisted by Dries Mertens.',\n",
       " 'Attempt saved. Elseid Hysaj (Napoli) right footed shot from outside the box is saved in the top centre of the goal. Assisted by José Callejón.',\n",
       " 'Attempt saved. José Callejón (Napoli) left footed shot from the right side of the box is saved in the centre of the goal. Assisted by Piotr Zielinski.']"
      ]
     },
     "execution_count": 52,
     "metadata": {},
     "output_type": "execute_result"
    }
   ],
   "source": [
    "pd_df['summary_events'].values[0]"
   ]
  },
  {
   "cell_type": "code",
   "execution_count": 20,
   "metadata": {},
   "outputs": [],
   "source": [
    "season_file = 'italian_serie_a_2019_2020.json'\n",
    "league_season_teams = TEAMS[season_file.split('.')[0]]\n",
    "# Solo para pruebas\n",
    "key_events.league_season_teams = league_season_teams"
   ]
  },
  {
   "cell_type": "code",
   "execution_count": 21,
   "metadata": {},
   "outputs": [],
   "source": [
    "prueba = all_files[season_file]['https://www.bbc.com/sport/football/49871134']"
   ]
  },
  {
   "cell_type": "code",
   "execution_count": 25,
   "metadata": {},
   "outputs": [
    {
     "data": {
      "text/plain": [
       "'Goal!  Napoli 2, Brescia 0. Kostas Manolas (Napoli) header from the centre of the box to the bottom right corner. Assisted by Nikola Maksimovic with a headed pass following a corner.'"
      ]
     },
     "execution_count": 25,
     "metadata": {},
     "output_type": "execute_result"
    }
   ],
   "source": [
    "prueba['events'][45]"
   ]
  },
  {
   "cell_type": "code",
   "execution_count": 40,
   "metadata": {},
   "outputs": [],
   "source": [
    "a = [1,2,3,4]\n",
    "b = [0,3]"
   ]
  },
  {
   "cell_type": "code",
   "execution_count": 41,
   "metadata": {},
   "outputs": [
    {
     "data": {
      "text/plain": [
       "[1, 4]"
      ]
     },
     "execution_count": 41,
     "metadata": {},
     "output_type": "execute_result"
    }
   ],
   "source": [
    "list(map(a.__getitem__, b))"
   ]
  },
  {
   "cell_type": "code",
   "execution_count": 35,
   "metadata": {},
   "outputs": [
    {
     "ename": "SyntaxError",
     "evalue": "invalid syntax (<ipython-input-35-09f55dde9952>, line 1)",
     "output_type": "error",
     "traceback": [
      "\u001b[0;36m  File \u001b[0;32m\"<ipython-input-35-09f55dde9952>\"\u001b[0;36m, line \u001b[0;32m1\u001b[0m\n\u001b[0;31m    a[*b]\u001b[0m\n\u001b[0m      ^\u001b[0m\n\u001b[0;31mSyntaxError\u001b[0m\u001b[0;31m:\u001b[0m invalid syntax\n"
     ]
    }
   ],
   "source": [
    "a[*b]"
   ]
  },
  {
   "cell_type": "code",
   "execution_count": 32,
   "metadata": {},
   "outputs": [
    {
     "ename": "TypeError",
     "evalue": "list indices must be integers or slices, not list",
     "output_type": "error",
     "traceback": [
      "\u001b[0;31m---------------------------------------------------------------------------\u001b[0m",
      "\u001b[0;31mTypeError\u001b[0m                                 Traceback (most recent call last)",
      "\u001b[0;32m<ipython-input-32-82525f13a62f>\u001b[0m in \u001b[0;36m<module>\u001b[0;34m\u001b[0m\n\u001b[0;32m----> 1\u001b[0;31m \u001b[0mprueba\u001b[0m\u001b[0;34m[\u001b[0m\u001b[0;34m'events'\u001b[0m\u001b[0;34m]\u001b[0m\u001b[0;34m[\u001b[0m\u001b[0mpd_df\u001b[0m\u001b[0;34m[\u001b[0m\u001b[0;34m'events_mapping'\u001b[0m\u001b[0;34m]\u001b[0m\u001b[0;34m.\u001b[0m\u001b[0mvalues\u001b[0m\u001b[0;34m[\u001b[0m\u001b[0;36m0\u001b[0m\u001b[0;34m]\u001b[0m\u001b[0;34m]\u001b[0m\u001b[0;34m\u001b[0m\u001b[0;34m\u001b[0m\u001b[0m\n\u001b[0m",
      "\u001b[0;31mTypeError\u001b[0m: list indices must be integers or slices, not list"
     ]
    }
   ],
   "source": [
    "prueba['events'][pd_df['events_mapping'].values[0]]"
   ]
  },
  {
   "cell_type": "code",
   "execution_count": 15,
   "metadata": {},
   "outputs": [
    {
     "data": {
      "text/html": [
       "<div>\n",
       "<style scoped>\n",
       "    .dataframe tbody tr th:only-of-type {\n",
       "        vertical-align: middle;\n",
       "    }\n",
       "\n",
       "    .dataframe tbody tr th {\n",
       "        vertical-align: top;\n",
       "    }\n",
       "\n",
       "    .dataframe thead th {\n",
       "        text-align: right;\n",
       "    }\n",
       "</style>\n",
       "<table border=\"1\" class=\"dataframe\">\n",
       "  <thead>\n",
       "    <tr style=\"text-align: right;\">\n",
       "      <th></th>\n",
       "      <th>json_file</th>\n",
       "      <th>url</th>\n",
       "      <th>summary</th>\n",
       "      <th>article_sentences</th>\n",
       "      <th>article_sentences_ix</th>\n",
       "      <th>events_mapping</th>\n",
       "      <th>summary_events</th>\n",
       "    </tr>\n",
       "  </thead>\n",
       "  <tbody>\n",
       "    <tr>\n",
       "      <th>0</th>\n",
       "      <td>italian_serie_a_2019_2020.json</td>\n",
       "      <td>https://www.bbc.com/sport/football/49871134</td>\n",
       "      <td>Mario Balotelli scored his first Serie A goal ...</td>\n",
       "      <td>[Mario Balotelli scored his first Serie A goal...</td>\n",
       "      <td>[1, 2, 2, 0, 1, 2, 2, 2, 1, 0, 0]</td>\n",
       "      <td>[6, 13, 14, 17, 45, 54, 55, 72, 94, 100, 102]</td>\n",
       "      <td>goal napoli brescia dries mertens napoli right...</td>\n",
       "    </tr>\n",
       "  </tbody>\n",
       "</table>\n",
       "</div>"
      ],
      "text/plain": [
       "                        json_file  \\\n",
       "0  italian_serie_a_2019_2020.json   \n",
       "\n",
       "                                           url  \\\n",
       "0  https://www.bbc.com/sport/football/49871134   \n",
       "\n",
       "                                             summary  \\\n",
       "0  Mario Balotelli scored his first Serie A goal ...   \n",
       "\n",
       "                                   article_sentences  \\\n",
       "0  [Mario Balotelli scored his first Serie A goal...   \n",
       "\n",
       "                article_sentences_ix  \\\n",
       "0  [1, 2, 2, 0, 1, 2, 2, 2, 1, 0, 0]   \n",
       "\n",
       "                                  events_mapping  \\\n",
       "0  [6, 13, 14, 17, 45, 54, 55, 72, 94, 100, 102]   \n",
       "\n",
       "                                      summary_events  \n",
       "0  goal napoli brescia dries mertens napoli right...  "
      ]
     },
     "execution_count": 15,
     "metadata": {},
     "output_type": "execute_result"
    }
   ],
   "source": [
    "pd_df"
   ]
  },
  {
   "cell_type": "code",
   "execution_count": 14,
   "metadata": {},
   "outputs": [
    {
     "data": {
      "text/plain": [
       "array(['goal napoli brescia dries mertens napoli right footed shot centre box right corner assisted jose callejongoal cancelled var kostas napoli scores goal ruled var reviewvar decision goal napoli bresciaattempt saved faouzi napoli right footed shot outside box saved centre goalgoal napoli brescia kostas napoli header centre box right corner assisted maksimovic headed following cornergoal cancelled var sandro tonali brescia scores goal ruled var reviewvar decision goal napoli bresciagoal napoli brescia mario balotelli brescia header centre box left corner assisted sandro tonali cross following cornerattempt saved piotr zielinski napoli right footed shot centre box saved centre goal assisted dries mertensattempt saved elseid hysaj napoli right footed shot outside box saved centre goal assisted jose callejonattempt saved jose callejon napoli left footed shot right box saved centre goal assisted piotr zielinski'],\n",
       "      dtype=object)"
      ]
     },
     "execution_count": 14,
     "metadata": {},
     "output_type": "execute_result"
    }
   ],
   "source": [
    "pd_df['summary_events'].values"
   ]
  },
  {
   "cell_type": "code",
   "execution_count": 139,
   "metadata": {
    "collapsed": true,
    "jupyter": {
     "outputs_hidden": true
    }
   },
   "outputs": [
    {
     "data": {
      "text/plain": [
       "{'goal': {'Goal!  Napoli 1, Brescia 0. Dries Mertens (Napoli) right footed shot from the centre of the box to the bottom right corner. Assisted by José Callejón.': 'Mario Balotelli scored his first Serie A goal for 1,468 days but Napoli hung on to claim a narrow victory over Brescia at Stadio San Paolo.\\n',\n",
       "  'GOAL CANCELLED BY VAR: Kostas Manolas (Napoli) scores but the goal is ruled out after a VAR review.': \"Brescia rallied after the break but Sandro Tonali's stunning goal was ruled out by VAR for a foul in the build-up.\\n\",\n",
       "  'VAR Decision: No Goal  Napoli 1-0 Brescia.': \"Brescia rallied after the break but Sandro Tonali's stunning goal was ruled out by VAR for a foul in the build-up.\\n\",\n",
       "  'Attempt saved. Faouzi Ghoulam (Napoli) right footed shot from outside the box is saved in the centre of the goal.': 'Mario Balotelli scored his first Serie A goal for 1,468 days but Napoli hung on to claim a narrow victory over Brescia at Stadio San Paolo.\\n',\n",
       "  'Goal!  Napoli 2, Brescia 0. Kostas Manolas (Napoli) header from the centre of the box to the bottom right corner. Assisted by Nikola Maksimovic with a headed pass following a corner.': 'Dries Mertens opened the scoring with his fourth league goal of the season before Kostas Manolas headed in the second on the stroke of half-time. \\n',\n",
       "  'GOAL CANCELLED BY VAR: Sandro Tonali (Brescia) scores but the goal is ruled out after a VAR review.': \"Brescia rallied after the break but Sandro Tonali's stunning goal was ruled out by VAR for a foul in the build-up.\\n\",\n",
       "  'VAR Decision: No Goal  Napoli 2-0 Brescia.': \"Brescia rallied after the break but Sandro Tonali's stunning goal was ruled out by VAR for a foul in the build-up.\\n\",\n",
       "  'Goal!  Napoli 2, Brescia 1. Mario Balotelli (Brescia) header from the centre of the box to the top left corner. Assisted by Sandro Tonali with a cross following a corner.': 'Mario Balotelli scored his first Serie A goal for 1,468 days but Napoli hung on to claim a narrow victory over Brescia at Stadio San Paolo.\\n',\n",
       "  'Attempt saved. Piotr Zielinski (Napoli) right footed shot from the centre of the box is saved in the centre of the goal. Assisted by Dries Mertens.': 'Dries Mertens opened the scoring with his fourth league goal of the season before Kostas Manolas headed in the second on the stroke of half-time. \\n',\n",
       "  'Attempt saved. Elseid Hysaj (Napoli) right footed shot from outside the box is saved in the top centre of the goal. Assisted by José Callejón.': 'Mario Balotelli scored his first Serie A goal for 1,468 days but Napoli hung on to claim a narrow victory over Brescia at Stadio San Paolo.\\n',\n",
       "  'Attempt saved. José Callejón (Napoli) left footed shot from the right side of the box is saved in the centre of the goal. Assisted by Piotr Zielinski.': 'Mario Balotelli scored his first Serie A goal for 1,468 days but Napoli hung on to claim a narrow victory over Brescia at Stadio San Paolo.\\n',\n",
       "  'Goal!  Milan 0, Fiorentina 1. Erick Pulgar (Fiorentina) converts the penalty with a right footed shot to the bottom right corner.': \"Erick Pulgar's penalty opened the scoring before the hosts were reduced to 10 men when Mateo Musacchio was sent off for a foul on Franck Ribery.\\n\",\n",
       "  'Attempt saved. Hakan Calhanoglu (Milan) right footed shot from long range on the left is saved in the centre of the goal. Assisted by Rafael Leão.': \"Ribery then secured his side's first away win of the season before Rafael Leao scored a consolation late on.\\n\",\n",
       "  'Attempt saved. Erick Pulgar (Fiorentina) right footed shot from outside the box is saved in the centre of the goal. Assisted by Milan Badelj.': \"Erick Pulgar's penalty opened the scoring before the hosts were reduced to 10 men when Mateo Musacchio was sent off for a foul on Franck Ribery.\\n\",\n",
       "  'Goal!  Milan 0, Fiorentina 2. Gaetano Castrovilli (Fiorentina) right footed shot from the centre of the box to the centre of the goal.': \"Gaetano Castrovilli fired in after the break but Federico Chiesa's penalty was saved by Gianluigi Donnarumm.\\n\",\n",
       "  'Goal!  Milan 0, Fiorentina 3. Franck Ribéry (Fiorentina) right footed shot from the centre of the box to the bottom left corner. Assisted by Federico Chiesa.': \"Gaetano Castrovilli fired in after the break but Federico Chiesa's penalty was saved by Gianluigi Donnarumm.\\n\",\n",
       "  'Goal!  Milan 1, Fiorentina 3. Rafael Leão (Milan) left footed shot from the centre of the box to the bottom right corner. Assisted by Theo Hernández.': \"Ribery then secured his side's first away win of the season before Rafael Leao scored a consolation late on.\\n\",\n",
       "  'Goal!  Paris Saint Germain 1, Real Madrid 0. Ángel Di María (Paris Saint Germain) left footed shot from the left side of the box to the bottom left corner. Assisted by Juan Bernat.': 'Angel di Maria scored twice against former employers Real Madrid as Paris St-Germain began their Champions League Group A campaign with a comfortable win.\\n',\n",
       "  'Goal!  Paris Saint Germain 2, Real Madrid 0. Ángel Di María (Paris Saint Germain) left footed shot from outside the box to the bottom right corner. Assisted by Idrissa Gueye.': \"Idrissa Gueye's fine work on the right created the opening for Di Maria, who found the bottom right corner superbly with a curling effort from 20 yards. \\n\",\n",
       "  'GOAL CANCELLED BY VAR: Gareth Bale (Real Madrid) scores but the goal is ruled out after a VAR review.': 'Hopes of a Real fight-back were briefly raised when Gareth Bale lobbed the ball magnificently over home keeper Keylor Navas from the edge of the penalty area.\\n',\n",
       "  'VAR Decision: No Goal  Paris Saint Germain 2-0 Real Madrid.': \"However, his goal was ruled out for handball by referee Anthony Taylor after it was reviewed by video assistant referee (VAR) officials, as was Karim Benzema's offside effort late in the second period.\\n\",\n",
       "  'Attempt saved. Mauro Icardi (Paris Saint Germain) left footed shot from the centre of the box is saved in the centre of the goal. Assisted by Pablo Sarabia with a cross.': 'That was largely down to Di Maria, Pablo Sarabia and loan signing',\n",
       "  'Goal!  Paris Saint Germain 3, Real Madrid 0. Thomas Meunier (Paris Saint Germain) right footed shot from the centre of the box to the bottom right corner. Assisted by Juan Bernat following a fast break.': 'And a miserable night for Real and Zidane was compounded as Juan Bernat and Meunier, strolled through the visiting defence before Belgian full-back Meunier placed the ball into the bottom right corner.\\n',\n",
       "  'Attempt saved. Daniel Podence (Olympiakos) right footed shot from the right side of the box is saved in the centre of the goal. Assisted by Guilherme.': \"Yet Mauricio Pochettino's side conceded shortly before half-time through impressive Portuguese winger Daniel Podence's quality finish.\\n\",\n",
       "  'Attempt saved. Guerrero (Olympiakos) left footed shot from outside the box is saved in the centre of the goal. Assisted by Konstantinos Tsimikas.': 'When the game was goalless and during a slow start by the visitors, Olympiakos hit the post through Miguel Angel Guerrero.\\n',\n",
       "  'Goal!  Olympiakos 0, Tottenham Hotspur 1. Harry Kane (Tottenham Hotspur) converts the penalty with a right footed shot to the high centre of the goal.': 'Tottenham threw away a two-goal lead as they were forced to settle for a point in their Champions League Group B opener against Olympiakos in Greece.\\n',\n",
       "  'Goal!  Olympiakos 0, Tottenham Hotspur 2. Lucas Moura (Tottenham Hotspur) right footed shot from outside the box to the bottom left corner. Assisted by Ben Davies.': 'Then Moura produced an emphatic finish after Ben Davies marked his return by winning back possession and laying on the pass for the Brazil winger to score an outstanding goal.\\n',\n",
       "  'Goal!  Olympiakos 1, Tottenham Hotspur 2. Daniel Podence (Olympiakos) right footed shot from the right side of the box to the bottom left corner. Assisted by Mathieu Valbuena.': \"Yet Mauricio Pochettino's side conceded shortly before half-time through impressive Portuguese winger Daniel Podence's quality finish.\\n\",\n",
       "  'Goal!  Olympiakos 2, Tottenham Hotspur 2. Mathieu Valbuena (Olympiakos) converts the penalty with a right footed shot to the bottom right corner.': \"That lifted the passionate home crowd and Olympiakos equalised from the game's second penalty, former France forward Mathieu Valbuena beating Hugo Lloris, the current Les Bleus captain, from the spot after Valbuena had been fouled by Jan Vertonghen.\\n\",\n",
       "  'Attempt saved. Tanguy Ndombele (Tottenham Hotspur) left footed shot from outside the box is saved in the top centre of the goal.': 'Tottenham threw away a two-goal lead as they were forced to settle for a point in their Champions League Group B opener against Olympiakos in Greece.\\n',\n",
       "  'Attempt saved. Carlos Vela (Los Angeles Football Club) left footed shot from outside the box is saved in the centre of the goal. Assisted by Mark-Anthony Kaye.': 'Atlanta then took the lead in the 17th minute, as Miguel Almiron sent a low cross through the box and found Julian Gressel wide open at the back post.',\n",
       "  'Attempt saved. Stéfano Pinho (Orlando City SC) left footed shot from the centre of the box is saved in the centre of the goal. Assisted by Josué Colman.': 'Stefano Pinho opened the scoring shortly before halftime, and Dillon Powers doubled the advantage with a firm finish before Victor “PC” Giro slammed home after a Miami giveaway deep in their own end.',\n",
       "  'Attempt saved. Isco (Real Madrid) right footed shot from outside the box is saved in the centre of the goal. Assisted by Karim Benzema.': 'Madrid.',\n",
       "  'Goal!  Alavés 0, Real Madrid 1. Sergio Ramos (Real Madrid) header from the centre of the box to the bottom left corner. Assisted by Toni Kroos following a set piece situation.': 'Real captain Sergio Ramos opened the scoring with a flicked header 10 minutes into the second half.\\n',\n",
       "  'Goal!  Alavés 1, Real Madrid 1. Lucas Pérez (Alavés) converts the penalty with a left footed shot to the bottom right corner.': 'Lucas Perez equalised from the penalty spot, but Dani Carvajal bundled home from close range to earn Real the win.\\n',\n",
       "  'Goal!  Alavés 1, Real Madrid 2. Daniel Carvajal (Real Madrid) right footed shot from very close range to the centre of the goal.': 'Madrid.',\n",
       "  'Goal!  Leganés 1, Barcelona 0. Youssef En-Nesyri (Leganés) left footed shot from the right side of the box to the top left corner. Assisted by Roque Mesa.': \"Youssef En-Nesyri's stunning early strike put Leganes ahead while Barcelona toiled in response. \\n\",\n",
       "  'Attempt saved. Luis Suárez (Barcelona) header from the centre of the box is saved in the top centre of the goal. Assisted by Lionel Messi with a cross.': 'The champions improved after the break and Luis Suarez equalised with a clinical header.\\n',\n",
       "  'Attempt saved. Roque Mesa (Leganés) right footed shot from outside the box is saved in the centre of the goal. Assisted by Rubén Pérez.': \"The Chilean midfielder's goal was fortuitous, Ousmane Dembele's corner deflecting kindly off Ruben Perez and falling to Vidal, who could not miss from a yard out.\\n\",\n",
       "  'Goal!  Leganés 1, Barcelona 1. Luis Suárez (Barcelona) header from the centre of the box to the bottom right corner. Assisted by Lionel Messi with a cross following a set piece situation.': 'The champions improved after the break and Luis Suarez equalised with a clinical header.\\n',\n",
       "  'Attempt saved. Youssef En-Nesyri (Leganés) header from the centre of the box is saved in the centre of the goal. Assisted by Roberto Rosales with a cross.': \"Youssef En-Nesyri's stunning early strike put Leganes ahead while Barcelona toiled in response. \\n\",\n",
       "  'Attempt saved. Rubén Pérez (Leganés) right footed shot from outside the box is saved in the top centre of the goal.': \"The Chilean midfielder's goal was fortuitous, Ousmane Dembele's corner deflecting kindly off Ruben Perez and falling to Vidal, who could not miss from a yard out.\\n\",\n",
       "  'Goal!  Leganés 1, Barcelona 2. Arturo Vidal (Barcelona) left footed shot from very close range to the centre of the goal following a corner.': 'Arturo Vidal scored a scruffy late winner as La Liga leaders Barcelona came from behind to beat bottom club Leganes.\\n',\n",
       "  'Attempt saved. Antonio Candreva (Inter Milan) right footed shot from the right side of the box is saved in the centre of the goal. Assisted by Matías Vecino.': \"Ivan Perisic, Danilo D'Ambrosio and Antonio Candreva had all gone close before Slovakian defender Skriniar turned home Matias Vecino's knock down following a corner in the 18th minute.\",\n",
       "  'Goal!  Inter Milan 1, Sampdoria 0. Milan Skriniar (Inter Milan) right footed shot from very close range to the bottom left corner. Assisted by Matías Vecino with a headed pass following a corner.': \"Ivan Perisic, Danilo D'Ambrosio and Antonio Candreva had all gone close before Slovakian defender Skriniar turned home Matias Vecino's knock down following a corner in the 18th minute.\",\n",
       "  'Goal!  Inter Milan 2, Sampdoria 0. Mauro Icardi (Inter Milan) right footed shot from the left side of the box to the bottom right corner.': 'Goals from Milan Skriniar and Mauro Icardi gave Inter a 2-0 half-time lead and the latter made it 3-0 early in the second half before Sampdoria hit back through Dawid Kownacki and Fabio Quagliarella to ensure a nervous finish.',\n",
       "  'Goal!  Inter Milan 3, Sampdoria 0. Mauro Icardi (Inter Milan) left footed shot from very close range to the bottom left corner. Assisted by Ivan Perisic.': \"Perisic's brilliant 35-yard shot hit a post soon after, but Inter struck a second when Icardi fired a low angled shot into the bottom corner from inside the penalty area.\",\n",
       "  'Goal!  Inter Milan 3, Sampdoria 1. Dawid Kownacki (Sampdoria) left footed shot from the left side of the six yard box to the bottom left corner. Assisted by Fabio Quagliarella with a cross.': 'Goals from Milan Skriniar and Mauro Icardi gave Inter a 2-0 half-time lead and the latter made it 3-0 early in the second half before Sampdoria hit back through Dawid Kownacki and Fabio Quagliarella to ensure a nervous finish.',\n",
       "  'Goal!  Inter Milan 3, Sampdoria 2. Fabio Quagliarella (Sampdoria) header from very close range to the bottom left corner. Assisted by Dennis Praet with a cross.': \"Quagliarella headed home Dennis Praet's cross from close range with five minutes left, but Inter held on.\",\n",
       "  'Attempt saved. Dries Mertens (Napoli) header from the centre of the box is saved in the centre of the goal. Assisted by Marek Hamsik with a cross.': \"It took Napoli only 17 minutes to go ahead through Slovakia midfielder Marek Hamsik, who seized on Allan's pass before shooting beyond Alex Cordaz.\",\n",
       "  'Goal!  Crotone 0, Napoli 1. Marek Hamsik (Napoli) left footed shot from the left side of the box to the bottom right corner. Assisted by Allan.': \"It took Napoli only 17 minutes to go ahead through Slovakia midfielder Marek Hamsik, who seized on Allan's pass before shooting beyond Alex Cordaz.\",\n",
       "  'Attempt saved. Lorenzo Insigne (Napoli) right footed shot from the centre of the box is saved in the top centre of the goal. Assisted by Allan.': 'The Azzurri patiently probed for a second goal and in the 35th minute Lorenzo Insigne went close when forcing Cordaz to tip his first-time attempt over the bar.',\n",
       "  'Attempt saved. José Callejón (Napoli) right footed shot from the right side of the box is saved in the centre of the goal.': 'The Azzurri patiently probed for a second goal and in the 35th minute Lorenzo Insigne went close when forcing Cordaz to tip his first-time attempt over the bar.',\n",
       "  'Goal!  FC Bayern München 1, 1. FSV Mainz 05 0. Thomas Müller (FC Bayern München) left footed shot from the centre of the box to the centre of the goal. Assisted by Joshua Kimmich.': 'But the second goal arrived in the 23rd minute and there was no doubt this belonged to Robben, who latched onto Joshua Kimmich',\n",
       "  'Attempt saved. Arjen Robben (FC Bayern München) left footed shot from the centre of the box is saved in the centre of the goal. Assisted by Robert Lewandowski.': 'Thomas Muller and Arjen Robben scored their first goals of the season in the first half while marksman Robert Lewandowski bagged a brace on his 100th Bayern appearance after the interval.',\n",
       "  'Attempt saved. Robert Lewandowski (FC Bayern München) left footed shot from very close range is saved in the top centre of the goal. Assisted by Arturo Vidal with a headed pass.': 'Thomas Muller and Arjen Robben scored their first goals of the season in the first half while marksman Robert Lewandowski bagged a brace on his 100th Bayern appearance after the interval.',\n",
       "  'Goal!  FC Bayern München 2, 1. FSV Mainz 05 0. Arjen Robben (FC Bayern München) right footed shot from the right side of the box to the centre of the goal. Assisted by Joshua Kimmich with a through ball.': 'But the second goal arrived in the 23rd minute and there was no doubt this belonged to Robben, who latched onto Joshua Kimmich',\n",
       "  'Attempt saved. Leon Balogun (1. FSV Mainz 05) right footed shot from more than 35 yards is saved in the centre of the goal. Assisted by Suat Serdar.': \"The Pole's brace may have been overshadowed had Rudy opened his Bayern account late on with a stunning 25-yard volley but the attempt crashed into the post.\",\n",
       "  'Goal!  FC Bayern München 3, 1. FSV Mainz 05 0. Robert Lewandowski (FC Bayern München) left footed shot from the centre of the box to the bottom left corner. Assisted by Thomas Müller with a cross.': 'Thomas Muller and Arjen Robben scored their first goals of the season in the first half while marksman Robert Lewandowski bagged a brace on his 100th Bayern appearance after the interval.',\n",
       "  'Attempt saved. Arturo Vidal (FC Bayern München) header from the right side of the box is saved in the centre of the goal. Assisted by Joshua Kimmich with a cross.': 'But the second goal arrived in the 23rd minute and there was no doubt this belonged to Robben, who latched onto Joshua Kimmich',\n",
       "  'Goal!  FC Bayern München 4, 1. FSV Mainz 05 0. Robert Lewandowski (FC Bayern München) header from the centre of the box to the bottom right corner. Assisted by Joshua Kimmich.': 'But the second goal arrived in the 23rd minute and there was no doubt this belonged to Robben, who latched onto Joshua Kimmich',\n",
       "  'Attempt saved. Alfred Finnbogason (FC Augsburg) header from the centre of the box is saved in the centre of the goal. Assisted by Marcel Heller with a cross.': 'Andriy Yarmolenko hit his first Bundesliga goal on his fourth appearance following his 25million euro summer switch from Dynamo Kiev.',\n",
       "  'Goal!  FC Augsburg 0, Borussia Dortmund 1. Andriy Yarmolenko (Borussia Dortmund) left footed shot from the left side of the six yard box to the centre of the goal following a corner.': 'Andriy Yarmolenko hit his first Bundesliga goal on his fourth appearance following his 25million euro summer switch from Dynamo Kiev.',\n",
       "  'Goal!  FC Augsburg 1, Borussia Dortmund 1. Caiuby (FC Augsburg) header from very close range to the high centre of the goal. Assisted by Philipp Max with a cross.': 'Borussia Dortmund cemented top spot in the Bundesliga with their fourth successive win, seeing off Augsburg 2-1.',\n",
       "  'Attempt saved. Pierre-Emerick Aubameyang (Borussia Dortmund) left footed shot from the centre of the box is saved in the centre of the goal. Assisted by Marc Bartra.': 'Borussia Dortmund cemented top spot in the Bundesliga with their fourth successive win, seeing off Augsburg 2-1.',\n",
       "  'Goal!  FC Augsburg 1, Borussia Dortmund 2. Shinji Kagawa (Borussia Dortmund) right footed shot from the centre of the box to the top left corner. Assisted by Andriy Yarmolenko.': \"Shinji Kagawa became the Bundesliga's all-time leading Japanese goalscorer, with his 38th strike, moving past Shinji Okazaki.\",\n",
       "  'Attempt saved. Michael Gregoritsch (FC Augsburg) header from the centre of the box is saved in the top centre of the goal. Assisted by Philipp Max with a cross.': 'Andriy Yarmolenko hit his first Bundesliga goal on his fourth appearance following his 25million euro summer switch from Dynamo Kiev.',\n",
       "  'Penalty saved! Pierre-Emerick Aubameyang (Borussia Dortmund) fails to capitalise on this great opportunity,  right footed shot saved  in the centre of the goal.': 'Borussia Dortmund cemented top spot in the Bundesliga with their fourth successive win, seeing off Augsburg 2-1.',\n",
       "  'Attempt saved. Mike Grella (New York Red Bulls) header from the centre of the box is saved in the centre of the goal. Assisted by Sal Zizzo with a cross.': 'The centering feed rolled through the D.C. penalty area as Sal Zizzo faked a shot and Grella struck the effort with venom, rattling the crossbar.',\n",
       "  'Attempt saved. Bradley Wright-Phillips (New York Red Bulls) right footed shot from the left side of the box is saved in the centre of the goal. Assisted by Kemar Lawrence.': 'But the New York Red Bulls handled D.C. United on Sunday afternoon with a 1-0 result courtesy of a late Bradley Wright-Phillips strike, advancing to the Eastern Conference Championship in the Audi 2015 MLS Cup Playoffs, 2-0 on aggregate.',\n",
       "  'Attempt saved. Fabian Espindola (D.C. United) right footed shot from a difficult angle on the right is saved in the top centre of the goal. Assisted by Chris Rolfe.': 'Referee Ted Unkel let play continue for most of the match, only producing the first yellow card of the afternoon when Chris Rolfe’s cleat caught a large chunk of Luis Robles in the 25th minute.',\n",
       "  'Attempt saved. Bobby Boswell (D.C. United) header from the centre of the box is saved in the top centre of the goal. Assisted by Fabian Espindola.': 'Kljestan again delivered a\\xa0picture-perfect ball into the United six-yard box, but defender Ronald Zubar skied his first-time effort well over the net from a wide-open position.',\n",
       "  'Attempt saved. Sacha Kljestan (New York Red Bulls) right footed shot from the left side of the box is saved in the top centre of the goal. Assisted by Dax McCarty.': 'Dax McCarty had 18 recoveries vs. DC today.',\n",
       "  'Attempt saved. Omar González (LA Galaxy) header from the centre of the box is saved in the centre of the goal.': 'The Portland Timbers and LA Galaxy saved the dramatics for the end on a blustery Sunday afternoon at Providence Park, trading goals in the final two minutes in a match that ended in a 2-2 draw.',\n",
       "  'Attempt saved. Rodney Wallace (Portland Timbers) left footed shot from the right side of the box is saved in the centre of the goal. Assisted by Fanendo Adi.': 'And Zardes took a long ball in the Timbers box two minutes later, only to see his right-footed attempt wanting more as it too sailed high.',\n",
       "  'Attempt saved. Stefan Ishizaki (LA Galaxy) left footed shot from the right side of the box is saved in the top centre of the goal. Assisted by Robbie Keane.': 'And Zardes took a long ball in the Timbers box two minutes later, only to see his right-footed attempt wanting more as it too sailed high.',\n",
       "  'Goal!  SC Paderborn 07 0, FC Bayern München 1. Serge Gnabry (FC Bayern München) right footed shot from a difficult angle on the right to the centre of the goal. Assisted by Philippe Coutinho.': 'Serge Gnabry and Phillipe Coutinho put Bayern 2-0 up before Kai Proger responded for the hosts.\\n',\n",
       "  'Goal!  SC Paderborn 07 0, FC Bayern München 2. Philippe Coutinho (FC Bayern München) right footed shot from the centre of the box to the bottom left corner. Assisted by Serge Gnabry.': 'Serge Gnabry and Phillipe Coutinho put Bayern 2-0 up before Kai Proger responded for the hosts.\\n',\n",
       "  'Attempt saved. Serge Gnabry (FC Bayern München) right footed shot from the right side of the box is saved in the centre of the goal. Assisted by Joshua Kimmich.': 'Serge Gnabry and Phillipe Coutinho put Bayern 2-0 up before Kai Proger responded for the hosts.\\n',\n",
       "  'Goal!  SC Paderborn 07 1, FC Bayern München 2. Kai Pröger (SC Paderborn 07) right footed shot from the right side of the box to the bottom left corner. Assisted by Mohamed Dräger.': 'Serge Gnabry and Phillipe Coutinho put Bayern 2-0 up before Kai Proger responded for the hosts.\\n',\n",
       "  'Goal!  SC Paderborn 07 1, FC Bayern München 3. Robert Lewandowski (FC Bayern München) right footed shot from the centre of the box to the centre of the goal. Assisted by Niklas Süle with a through ball.': \"When Robert Lewandowski, who had missed a sitter, dinked in it meant he had scored in his first six games of the season, and Jamilu Collins' thunderous strike proved only to be a consolation.\",\n",
       "  'Goal!  SC Paderborn 07 2, FC Bayern München 3. Jamilu Collins (SC Paderborn 07) left footed shot from outside the box to the centre of the goal following a corner.': \"When Robert Lewandowski, who had missed a sitter, dinked in it meant he had scored in his first six games of the season, and Jamilu Collins' thunderous strike proved only to be a consolation.\",\n",
       "  'Attempt saved. Serge Gnabry (FC Bayern München) right footed shot from the right side of the box is saved in the centre of the goal. Assisted by Thomas Müller.': 'Bayern, who have advanced to the Champions League knockout stage, posted their first win in five home league matches and the scoreline could have been more emphatic.',\n",
       "  'Goal!  Borussia Dortmund 0, SV Werder Bremen 1. Milot Rashica (SV Werder Bremen) right footed shot from the right side of the box to the bottom left corner. Assisted by Davy Klaassen.': \"The visitors took a shock lead when Milot Rashica thumped past Roman Burki, but Mario Gotze's header restored parity.\\n\",\n",
       "  'Goal!  Borussia Dortmund 1, SV Werder Bremen 1. Mario Götze (Borussia Dortmund) header from the left side of the six yard box to the bottom right corner. Assisted by Lukasz Piszczek with a cross.': \"The visitors took a shock lead when Milot Rashica thumped past Roman Burki, but Mario Gotze's header restored parity.\\n\",\n",
       "  'Goal!  Borussia Dortmund 2, SV Werder Bremen 1. Marco Reus (Borussia Dortmund) header from the centre of the box to the bottom left corner. Assisted by Thorgan Hazard with a cross.': \"Marco Reus nodded home Thorgan Hazard's cross to put the hosts ahead, only for Marco Friedl to earn Werder a point in the second half.\\n\",\n",
       "  'Goal!  Borussia Dortmund 2, SV Werder Bremen 2. Marco Friedl (SV Werder Bremen) header from very close range to the bottom right corner. Assisted by Joshua Sargent following a corner.': \"Marco Reus nodded home Thorgan Hazard's cross to put the hosts ahead, only for Marco Friedl to earn Werder a point in the second half.\\n\",\n",
       "  'Attempt saved. Mario Götze (Borussia Dortmund) header from the centre of the box is saved in the top centre of the goal. Assisted by Lukasz Piszczek with a cross.': \"The visitors took a shock lead when Milot Rashica thumped past Roman Burki, but Mario Gotze's header restored parity.\\n\",\n",
       "  'Attempt saved. Nicolás Lodeiro (Seattle Sounders FC) left footed shot from the right side of the box is saved in the centre of the goal.': 'The Uruguayan notched his first career MLS goal with a perfectly placed left-footed curler from inside the box in the 24th minute.',\n",
       "  'Attempt saved. Yura Movsisyan (Real Salt Lake) right footed shot from the centre of the box is saved in the centre of the goal. Assisted by Kyle Beckerman.': 'The Uruguayan notched his first career MLS goal with a perfectly placed left-footed curler from inside the box in the 24th minute.',\n",
       "  'Attempt saved. Cristian Roldan (Seattle Sounders FC) right footed shot from the right side of the box is saved in the centre of the goal. Assisted by Clint Dempsey.': 'The Uruguayan notched his first career MLS goal with a perfectly placed left-footed curler from inside the box in the 24th minute.',\n",
       "  'Attempt saved. Pedro Morales (Vancouver Whitecaps FC) right footed shot from outside the box is saved in the centre of the goal. Assisted by Matías Laba.': 'TIDY PASSING FROM WHITECAPS MF: Andrew Jacobson and Matias Laba did an excellent job of controlling the midfield for the Whitecaps.',\n",
       "  'Attempt saved. Pedro Morales (Vancouver Whitecaps FC) right footed shot from outside the box is saved in the top centre of the goal. Assisted by Christian Bolaños.': 'The Houston Dynamo out-shot the Vancouver Whitecaps 17-9, but neither side could find the back of the net in a 0-0 draw for the two Western Conference clubs.',\n",
       "  'Attempt saved. Danny Hoesen (San Jose Earthquakes) right footed shot from the left side of the box is saved in the centre of the goal. Assisted by Jackson Yueill.': 'A depleted\\xa0San Jose Earthquakes side held off Western Conference leaders\\xa0Sporting Kansas City\\xa0in a scoreless draw Saturday night at\\xa0Avaya Stadium.\\xa0 ',\n",
       "  'Attempt saved. Graham Zusi (Sporting Kansas City) left footed shot from the centre of the box is saved in the centre of the goal. Assisted by Gerso Fernandes.': 'A depleted\\xa0San Jose Earthquakes side held off Western Conference leaders\\xa0Sporting Kansas City\\xa0in a scoreless draw Saturday night at\\xa0Avaya Stadium.\\xa0 ',\n",
       "  'Attempt saved. Joshua Gatt (Colorado Rapids) right footed shot from the centre of the box is saved in the top centre of the goal. Assisted by Dillon Serna.': 'After coming off the bench the last three games while returning from injury, Martinez made his first league start since March 18 and\\xa0tallied the lone goal as\\xa0Atlanta United defeated the\\xa0Colorado Rapids\\xa01-0',\n",
       "  'Attempt saved. Miguel Almirón (Atlanta United FC) left footed shot from outside the box is saved in the top centre of the goal.': 'Minutes after\\xa0having a bicycle attempt saved by Tim Howard, the\\xa0Venezuelan international broke through from close range just after the hour mark for his seventh goal of the year.\\xa0',\n",
       "  'Attempt saved. Josef Martínez (Atlanta United FC) left footed shot from outside the box is saved in the top centre of the goal. Assisted by Anton Walkes.': 'In case anyone forgot, Josef Martinez scores goals.\\xa0 ',\n",
       "  'Attempt saved. Miguel Almirón (Atlanta United FC) left footed shot from the right side of the box is saved in the centre of the goal. Assisted by Anton Walkes.': 'Minutes after\\xa0having a bicycle attempt saved by Tim Howard, the\\xa0Venezuelan international broke through from close range just after the hour mark for his seventh goal of the year.\\xa0',\n",
       "  'Attempt saved. Josef Martínez (Atlanta United FC) right footed shot from the centre of the box is saved in the top centre of the goal. Assisted by Brandon Vázquez with a headed pass.': 'In case anyone forgot, Josef Martinez scores goals.\\xa0 ',\n",
       "  'Attempt saved. Miguel Almirón (Atlanta United FC) left footed shot from the left side of the box is saved in the centre of the goal. Assisted by Kevin Kratz.': 'Minutes after\\xa0having a bicycle attempt saved by Tim Howard, the\\xa0Venezuelan international broke through from close range just after the hour mark for his seventh goal of the year.\\xa0',\n",
       "  'Attempt saved. Bismark Boateng (Colorado Rapids) header from the centre of the box is saved in the centre of the goal. Assisted by Dillon Serna with a cross.': 'After coming off the bench the last three games while returning from injury, Martinez made his first league start since March 18 and\\xa0tallied the lone goal as\\xa0Atlanta United defeated the\\xa0Colorado Rapids\\xa01-0',\n",
       "  'Goal!  Espanyol 1, Celta de Vigo 0. Gerard Moreno (Espanyol) left footed shot from the centre of the box to the bottom right corner. Assisted by Leo Baptistao.': 'With a three-on-two opening up for the attacking side he played in Piatti, who hit a sweet left-footed shot and finished first time into the bottom corner.',\n",
       "  'Goal!  Espanyol 2, Celta de Vigo 0. Pablo Piatti (Espanyol) left footed shot from the left side of the box to the bottom right corner. Assisted by José Manuel Jurado.': 'With a three-on-two opening up for the attacking side he played in Piatti, who hit a sweet left-footed shot and finished first time into the bottom corner.',\n",
       "  'Attempt saved. David López (Espanyol) right footed shot from the centre of the box is saved in the centre of the goal. Assisted by Leo Baptistao with a through ball.': 'Moreno hit the first after nine minutes, Leo Baptistao racing towards the penalty area before laying the ball off on the edge of the box.',\n",
       "  'Goal!  Espanyol 2, Celta de Vigo 1. Pione Sisto (Celta de Vigo) right footed shot from outside the box to the high centre of the goal. Assisted by Iago Aspas.': \"The visitors pulled one back in the 69th minute as Andreu Fontas headed home Pione Sisto's cross, but there would be no equaliser.\",\n",
       "  'Goal!  Leganés 0, Barcelona 1. Luis Suárez (Barcelona) left footed shot from the right side of the six yard box to the bottom right corner.': 'Luis Suarez scored a brace as Barcelona recorded a 3-0 victory against Leganes to extend their lead at the summit of LaLiga.',\n",
       "  'Attempt saved. Claudio Beauvue (Leganés) right footed shot from the centre of the box is saved in the centre of the goal. Assisted by Nordin Amrabat with a through ball.': 'Nordin Amrabat taking the place of Claudio Beauvue.',\n",
       "  'Attempt saved. Gabriel Pires (Leganés) left footed shot from outside the box is saved in the top centre of the goal.': \"Messi's chip into the box was met by Alcacer, and his half-volley was well saved by Cuellar, but the ball fell to Suarez whose deflected strike flew past the Leganes stopper and into the back of the net.\",\n",
       "  'Attempt saved. Paco Alcácer (Barcelona) left footed shot from the centre of the box is saved in the centre of the goal. Assisted by Lionel Messi with a through ball.': \"Messi's chip into the box was met by Alcacer, and his half-volley was well saved by Cuellar, but the ball fell to Suarez whose deflected strike flew past the Leganes stopper and into the back of the net.\",\n",
       "  'Goal!  Leganés 0, Barcelona 2. Luis Suárez (Barcelona) right footed shot from the right side of the box to the bottom right corner.': 'Luis Suarez scored a brace as Barcelona recorded a 3-0 victory against Leganes to extend their lead at the summit of LaLiga.',\n",
       "  'Attempt saved. Nordin Amrabat (Leganés) right footed shot from outside the box is saved in the centre of the goal.': 'Nordin Amrabat taking the place of Claudio Beauvue.',\n",
       "  'Attempt saved. Nordin Amrabat (Leganés) left footed shot from the left side of the box is saved in the centre of the goal. Assisted by Claudio Beauvue with a headed pass.': 'Nordin Amrabat taking the place of Claudio Beauvue.',\n",
       "  'Attempt saved. Alexander Szymanowski (Leganés) right footed shot from the left side of the box is saved in the centre of the goal. Assisted by Gabriel Pires.': 'Moments later, Barcelona had Marc-Andre ter Stegen to thank for keeping them ahead after he saved well from Alexander Szymanowski.',\n",
       "  'Attempt saved. Luis Suárez (Barcelona) right footed shot from the left side of the box is saved in the centre of the goal.': 'Luis Suarez scored a brace as Barcelona recorded a 3-0 victory against Leganes to extend their lead at the summit of LaLiga.',\n",
       "  'Goal!  Leganés 0, Barcelona 3. Paulinho (Barcelona) right footed shot from the centre of the box to the bottom left corner.': 'Leganes responded as Amrabat turned past Gerard Pique only to find Ter Stegen storming off his line to smother his shot.',\n",
       "  'Attempt saved. Alexis Sánchez (Arsenal) right footed shot from a difficult angle and long range on the left is saved in the centre of the goal.': 'Alexis Sanchez made it 2-0 on 27 minutes despite the dismissal of Laurent Koscielny for a foul on Enner Valencia; a straight red card that will rule him out of the FA Cup final against Chelsea.\\n',\n",
       "  'Attempt saved. Romelu Lukaku (Everton) header from the centre of the box is saved in the top centre of the goal. Assisted by Mason Holgate with a cross.': \"Everton pulled one back through Romelu Lukaku's 25th goal of the season with a penalty awarded for a handball by Nacho Monreal.\\n\",\n",
       "  'Attempt saved. Enner Valencia (Everton) right footed shot from outside the box is saved in the centre of the goal. Assisted by Leighton Baines.': 'Alexis Sanchez made it 2-0 on 27 minutes despite the dismissal of Laurent Koscielny for a foul on Enner Valencia; a straight red card that will rule him out of the FA Cup final against Chelsea.\\n',\n",
       "  'Attempt saved. Romelu Lukaku (Everton) with an attempt from the centre of the box is saved in the centre of the goal. Assisted by Gareth Barry.': \"Everton pulled one back through Romelu Lukaku's 25th goal of the season with a penalty awarded for a handball by Nacho Monreal.\\n\",\n",
       "  'Attempt saved. Danny Welbeck (Arsenal) right footed shot from the right side of the box is saved in the centre of the goal. Assisted by Alexis Sánchez.': 'Alexis Sanchez made it 2-0 on 27 minutes despite the dismissal of Laurent Koscielny for a foul on Enner Valencia; a straight red card that will rule him out of the FA Cup final against Chelsea.\\n',\n",
       "  'Attempt saved. Mesut Özil (Arsenal) left footed shot from the right side of the box is saved in the centre of the goal.': 'Aaron Ramsey curled in a superb goal to make it 3-1 but wins for both Liverpool and Manchester City\\xa0means Arsenal have to settle for fifth, two places above Everton.',\n",
       "  'Attempt saved. Mesut Özil (Arsenal) left footed shot from the centre of the box is saved in the centre of the goal. Assisted by Aaron Ramsey with a through ball.': 'Aaron Ramsey curled in a superb goal to make it 3-1 but wins for both Liverpool and Manchester City\\xa0means Arsenal have to settle for fifth, two places above Everton.',\n",
       "  'Attempt saved. Danny Welbeck (Arsenal) right footed shot from the centre of the box is saved in the centre of the goal.': 'Aaron Ramsey curled in a superb goal to make it 3-1 but wins for both Liverpool and Manchester City\\xa0means Arsenal have to settle for fifth, two places above Everton.',\n",
       "  'Goal!Goal!  Burnley 1, West Ham United 2. André Ayew (West Ham United) header from very close range to the high centre of the goal.': 'West Ham United hit back from a goal down to finish their season with a 2-1 win at Burnley.\\n',\n",
       "  'Attempt saved. Alessandro Schöpf (FC Schalke 04) left footed shot from outside the box is saved in the centre of the goal.': \"American forward Haji Wright's first Bundesliga goal was not enough to save Schalke from a 2-1 loss that gave Bayer Leverkusen coach Heiko Herrlich a lifeline on Wednesday.\",\n",
       "  'Attempt saved. Wendell (Bayer 04 Leverkusen) left footed shot from outside the box is saved in the centre of the goal.': \"American forward Haji Wright's first Bundesliga goal was not enough to save Schalke from a 2-1 loss that gave Bayer Leverkusen coach Heiko Herrlich a lifeline on Wednesday.\",\n",
       "  'Goal!  FC Schalke 04 0, Bayer 04 Leverkusen 1. Aleksandar Dragovic (Bayer 04 Leverkusen) right footed shot from the right side of the box to the centre of the goal following a set piece situation.': 'But Herrlich, who took over before last season, was given some respite after first-half goals from Aleksandar Dragovic and Lucas Alario.',\n",
       "  'VAR: Goal. Referee decision on field cancelled.': 'An own goal from Jorge Pulido gave Barca the lead and Suarez extended it by scoring for the first time in five games in all competitions after the video assistant referee (VAR) overturned an offside call from the linesman.',\n",
       "  'Goal!  FC Schalke 04 0, Bayer 04 Leverkusen 2. Lucas Alario (Bayer 04 Leverkusen) left footed shot from the centre of the box to the bottom right corner. Assisted by Wendell with a cross.': 'But Herrlich, who took over before last season, was given some respite after first-half goals from Aleksandar Dragovic and Lucas Alario.',\n",
       "  'Goal!  FC Schalke 04 1, Bayer 04 Leverkusen 2. Haji Wright (FC Schalke 04) right footed shot from very close range to the high centre of the goal. Assisted by Weston McKennie following a corner.': \"American forward Haji Wright's first Bundesliga goal was not enough to save Schalke from a 2-1 loss that gave Bayer Leverkusen coach Heiko Herrlich a lifeline on Wednesday.\",\n",
       "  'Attempt saved. Matija Nastasic (FC Schalke 04) header from the centre of the box is saved in the centre of the goal. Assisted by Salif Sané with a cross.': \"American forward Haji Wright's first Bundesliga goal was not enough to save Schalke from a 2-1 loss that gave Bayer Leverkusen coach Heiko Herrlich a lifeline on Wednesday.\",\n",
       "  'Attempt saved. Mitchell Weiser (Bayer 04 Leverkusen) header from the centre of the box is saved in the centre of the goal. Assisted by Leon Bailey with a cross.': \"American forward Haji Wright's first Bundesliga goal was not enough to save Schalke from a 2-1 loss that gave Bayer Leverkusen coach Heiko Herrlich a lifeline on Wednesday.\",\n",
       "  'Goal!  FC Bayern München 1, 1. FC Nürnberg 0. Robert Lewandowski (FC Bayern München) header from very close range to the top right corner. Assisted by Joshua Kimmich with a cross following a corner.': 'Champions Bayern Munich eased past Nuremberg 3-0 in the Bavarian derby with two goals from Robert Lewandowski, to continue their recovery from a dip in form and move into second place.',\n",
       "  'Goal!  FC Bayern München 2, 1. FC Nürnberg 0. Robert Lewandowski (FC Bayern München) right footed shot from the centre of the box to the bottom right corner.': 'Champions Bayern Munich eased past Nuremberg 3-0 in the Bavarian derby with two goals from Robert Lewandowski, to continue their recovery from a dip in form and move into second place.',\n",
       "  'Attempt saved. Joshua Kimmich (FC Bayern München) right footed shot from the centre of the box is saved in the centre of the goal. Assisted by Robert Lewandowski.': 'Champions Bayern Munich eased past Nuremberg 3-0 in the Bavarian derby with two goals from Robert Lewandowski, to continue their recovery from a dip in form and move into second place.',\n",
       "  'Goal!  FC Bayern München 3, 1. FC Nürnberg 0. Franck Ribéry (FC Bayern München) right footed shot from the centre of the box to the high centre of the goal.': 'Lewandowski struck twice in the first half and Franck Ribery added another in the 56th as Bayern found minimal resistance from their toothless opponents.',\n",
       "  'Goal!  Lazio 0, Sampdoria 1. Fabio Quagliarella (Sampdoria) right footed shot from the centre of the box to the top left corner. Assisted by Nicola Murru.': 'Fabio Quagliarella put Sampdoria in front from close range midway through the first half, marking a personal record as he scored in a fifth successive Serie A game for the first time.',\n",
       "  'Attempt saved. Ciro Immobile (Lazio) right footed shot from the left side of the box is saved in the centre of the goal. Assisted by Senad Lulic.': 'Lazio pushed for an equaliser as Immobile hit the post before the break and the hosts drew level when Francesco Acerbi tapped in from a corner with 12 minutes left on the clock.',\n",
       "  'Attempt saved. Patric (Lazio) right footed shot from the right side of the box is saved in the centre of the goal. Assisted by Senad Lulic.': 'Lazio remained in fifth place on 25 points, behind AC Milan on goal difference ahead of their game against Torino on Sunday, while Sampdoria are 10th with 20 points.',\n",
       "  'Attempt saved. Joaquín Correa (Lazio) header from the centre of the box is saved in the centre of the goal. Assisted by Patric with a cross.': 'Sampdoria were reduced to 10 men when Bartosz Bereszynski was shown a second yellow card in stoppage time for hauling down Joaquin Correa.',\n",
       "  'Attempt saved. Joaquín Correa (Lazio) left footed shot from the centre of the box is saved in the centre of the goal. Assisted by Ciro Immobile with a through ball.': 'Sampdoria were reduced to 10 men when Bartosz Bereszynski was shown a second yellow card in stoppage time for hauling down Joaquin Correa.',\n",
       "  'Attempt saved. Sergej Milinkovic-Savic (Lazio) right footed shot from the left side of the box is saved in the centre of the goal. Assisted by Francesco Acerbi.': 'Lazio pushed for an equaliser as Immobile hit the post before the break and the hosts drew level when Francesco Acerbi tapped in from a corner with 12 minutes left on the clock.',\n",
       "  'Goal!  Lazio 1, Sampdoria 1. Francesco Acerbi (Lazio) left footed shot from very close range to the bottom right corner. Assisted by Marco Parolo following a corner.': 'Lazio pushed for an equaliser as Immobile hit the post before the break and the hosts drew level when Francesco Acerbi tapped in from a corner with 12 minutes left on the clock.',\n",
       "  'Attempt saved. Ciro Immobile (Lazio) right footed shot from outside the box is saved in the centre of the goal. Assisted by Luis Alberto.': 'Lazio, who spent the week leading up to the game in a training retreat after failing to beat bottom side Chievo last weekend, thought they had won it when Ciro Immobile converted a 96th-minute penalty.',\n",
       "  'Goal!  Lazio 2, Sampdoria 1. Ciro Immobile (Lazio) converts the penalty with a right footed shot to the bottom left corner.': 'Lazio remained in fifth place on 25 points, behind AC Milan on goal difference ahead of their game against Torino on Sunday, while Sampdoria are 10th with 20 points.',\n",
       "  'Goal!  Lazio 2, Sampdoria 2. Riccardo Saponara (Sampdoria) right footed shot from the centre of the box to the high centre of the goal. Assisted by Dawid Kownacki with a headed pass.': 'Riccardo Saponara scored the latest Serie A goal since records began to earn Sampdoria a 2-2 draw at Lazio in a pulsating end to their match at the Stadio Olimpico on Saturday.',\n",
       "  'Goal!  Juventus 1, Inter Milan 0. Mario Mandzukic (Juventus) header from very close range to the high centre of the goal. Assisted by João Cancelo with a cross.': \"Unbeaten Juventus made it 14 victories in 15 Serie A games this season when Mario Mandzukic's second-half header gave them a 1-0 win over Inter Milan in a breathless Derby d'Italia on Friday after the visitors wasted their chances.\",\n",
       "  'Goal!  Manchester United 1, Arsenal 0. Scott McTominay (Manchester United) right footed shot from outside the box to the top left corner. Assisted by Marcus Rashford.': 'In a disappointing encounter that was a pale shadow of their mighty clashes of years gone by, Scott McTominay gave Manchester United the lead at the end of an attritional first-half with a rising drive from the edge of the area.\\n',\n",
       "  'Goal!  Manchester United 1, Arsenal 1. Pierre-Emerick Aubameyang (Arsenal) left footed shot from the centre of the box to the centre of the goal. Assisted by Bukayo Saka with a through ball.Goal awarded following VAR Review.': 'Bukayo [Saka] is progressing well',\n",
       "  'VAR Decision: Goal  Manchester United 1-1 Arsenal (Pierre-Emerick Aubameyang).': \"Arsenal equalised just before the hour courtesy of Pierre-Emerick Aubameyang's cool finish.\",\n",
       "  'Attempt saved. Ayoze Pérez (Leicester City) left footed shot from the centre of the box is saved in the centre of the goal. Assisted by Harvey Barnes.': \"Portugal defender Pereira's second goal in as many top-flight games set the tone for an utterly dominant performance - the former Porto player starting the move inside his own half before finishing after a neat one-two with former Newcastle player Ayoze Perez.\\n\",\n",
       "  'Goal!  Leicester City 1, Newcastle United 0. Ricardo Pereira (Leicester City) left footed shot from outside the box to the bottom left corner.': \"Leicester were already leading through Ricardo Pereira's outstanding low finish before the hosts made the extra man advantage count with three goals in 10 second-half minutes.\\n\",\n",
       "  'Goal!  Leicester City 2, Newcastle United 0. Jamie Vardy (Leicester City) left footed shot from the left side of the box to the bottom left corner. Assisted by Harvey Barnes following a fast break.': 'Jamie Vardy scored twice as Leicester demonstrated potential to secure a top-four finish by recording their biggest Premier League win to move back up to third in the table.\\n',\n",
       "  'Own Goal by Paul Dummett, Newcastle United.  Leicester City 3, Newcastle United 0.': 'Leicester City boss Brendan Rodgers: \"It was an outstanding performance and result.',\n",
       "  'Goal!  Leicester City 4, Newcastle United 0. Jamie Vardy (Leicester City) header from very close range to the centre of the goal. Assisted by Marc Albrighton.': \"Dummett's own goal added to Newcastle's woes yet Leicester were not done as Vardy was left unmarked to make it 4-0 with a close-range header before Ndidi piled on the embarrassment for the visitors.\\n\",\n",
       "  'Goal!  Leicester City 5, Newcastle United 0. Wilfred Ndidi (Leicester City) right footed shot from the centre of the box to the bottom left corner. Assisted by Jonny Evans with a headed pass following a corner.': 'On a shocking day for Newcastle, Wilfred Ndidi added a late fifth goal with a shot on the turn.\\n',\n",
       "  'Goal!Goal!  Brighton and Hove Albion 1, Manchester City 1. Sergio Agüero (Manchester City) left footed shot from a difficult angle on the left to the centre of the goal. Assisted by David Silva with a through ball.': 'A goal and an assist from Riyad Mahrez sealed a 4-1 comeback win at Brighton & Hove Albion that confirmed Manchester City as Premier League champions.\\xa0\\n',\n",
       "  'Attempt saved. Bernardo Silva (Manchester City) header from the centre of the box is saved in the centre of the goal.': 'A goal and an assist from Riyad Mahrez sealed a 4-1 comeback win at Brighton & Hove Albion that confirmed Manchester City as Premier League champions.\\xa0\\n',\n",
       "  'Attempt saved. Riyad Mahrez (Manchester City) right footed shot from a difficult angle on the right is saved in the centre of the goal. Assisted by David Silva.': 'A goal and an assist from Riyad Mahrez sealed a 4-1 comeback win at Brighton & Hove Albion that confirmed Manchester City as Premier League champions.\\xa0\\n',\n",
       "  'Attempt saved. Lewis Dunk (Brighton and Hove Albion) right footed shot from outside the box is saved in the top centre of the goal.': 'A goal and an assist from Riyad Mahrez sealed a 4-1 comeback win at Brighton & Hove Albion that confirmed Manchester City as Premier League champions.\\xa0\\n',\n",
       "  'Attempt saved. Kevin De Bruyne (Manchester City) right footed shot from outside the box is saved in the centre of the goal.': 'A goal and an assist from Riyad Mahrez sealed a 4-1 comeback win at Brighton & Hove Albion that confirmed Manchester City as Premier League champions.\\xa0\\n',\n",
       "  'Attempt saved. Pierre-Emerick Aubameyang (Arsenal) right footed shot from the right side of the box is saved in the top centre of the goal. Assisted by Shkodran Mustafi with a through ball.': 'A second-half double by Pierre-Emerick Aubameyang helped Arsenal finish the season with a victory and gave him a share of the Golden Boot.\\n',\n",
       "  'Attempt saved. Henrikh Mkhitaryan (Arsenal) right footed shot from outside the box is saved in the top centre of the goal. Assisted by Mohamed Elneny.': \"The second arrived 11 minutes later, Alex Iwobi providing the assist as\\xa0Aubameyang's right-foot finish drew him level with Liverpool's Mohamed Salah and Sadio Mane on 22 PL goals this season.\\n\",\n",
       "  'Goal!  Paris Saint Germain 1, Amiens 0. Kylian Mbappé (Paris Saint Germain) right footed shot from the centre of the box to the bottom left corner. Assisted by Neymar with a through ball following a fast break.': \"Kylian Mbappe hugged a child who ran on to the pitch and signed an autograph in the closing stages of Paris St-Germain's win over Amiens.\\n\",\n",
       "  'Attempt saved. Ángel Di María (Paris Saint Germain) left footed shot from the centre of the box is saved in the top centre of the goal. Assisted by Neymar with a through ball.': \"Mbappe, who turned 21 on Friday, ran on to Neymar's through ball to clip the ball over goalkeeper Regis Gurtner and score for his seventh game in a row.\\n\",\n",
       "  'Attempt saved. Kylian Mbappé (Paris Saint Germain) right footed shot from a difficult angle on the right is saved in the top centre of the goal.': \"Kylian Mbappe hugged a child who ran on to the pitch and signed an autograph in the closing stages of Paris St-Germain's win over Amiens.\\n\",\n",
       "  'Attempt saved. Neymar (Paris Saint Germain) left footed shot from outside the box is saved in the centre of the goal. Assisted by Marco Verratti.': \"Kylian Mbappe hugged a child who ran on to the pitch and signed an autograph in the closing stages of Paris St-Germain's win over Amiens.\\n\",\n",
       "  'Goal!  Paris Saint Germain 2, Amiens 0. Neymar (Paris Saint Germain) right footed shot from the centre of the box to the high centre of the goal. Assisted by Mauro Icardi.': 'Neymar and Mauro Icardi also scored in the comfortable PSG win.\\n',\n",
       "  'Attempt saved. John Stiven Mendoza (Amiens) left footed shot from outside the box is saved in the centre of the goal.': \"Stiven Mendoza scored a consolation before Icardi's late strike.\\n\",\n",
       "  'Attempt saved. Bakaye Dibassy (Amiens) right footed shot from the centre of the box is saved in the centre of the goal. Assisted by John Stiven Mendoza with a cross.': \"Stiven Mendoza scored a consolation before Icardi's late strike.\\n\",\n",
       "  'Goal!  Paris Saint Germain 3, Amiens 0. Kylian Mbappé (Paris Saint Germain) right footed shot from the centre of the box to the bottom right corner. Assisted by Ángel Di María.': \"Kylian Mbappe hugged a child who ran on to the pitch and signed an autograph in the closing stages of Paris St-Germain's win over Amiens.\\n\",\n",
       "  'Goal!  Paris Saint Germain 3, Amiens 1. John Stiven Mendoza (Amiens) left footed shot from the centre of the box to the bottom right corner. Assisted by Fousseni Diabaté.': \"Stiven Mendoza scored a consolation before Icardi's late strike.\\n\",\n",
       "  'Goal!  Paris Saint Germain 4, Amiens 1. Mauro Icardi (Paris Saint Germain) right footed shot from the right side of the six yard box to the bottom right corner. Assisted by Juan Bernat with a cross.': 'Neymar and Mauro Icardi also scored in the comfortable PSG win.\\n',\n",
       "  'Goal!  St Etienne 0, Paris Saint Germain 1. Neymar (Paris Saint Germain) left footed shot from the centre of the box to the centre of the goal. Assisted by Leandro Paredes.': \"Leandro Paredes' volley gave the French champions an early lead, and Saint-Etienne were a man down when Jean-Eudes Aholou was sent off after 25 minutes.\\n\",\n",
       "  'Attempt saved. Thomas Meunier (Paris Saint Germain) right footed shot from the right side of the box is saved in the centre of the goal.': 'Kylian Mbappe scored twice as Paris St-Germain eased past 10-man Saint-Etienne to go seven points clear at the top of Ligue 1.\\n',\n",
       "  'Attempt saved. Neymar (Paris Saint Germain) right footed shot from the centre of the box is saved in the centre of the goal. Assisted by Mauro Icardi.': 'Mbappe doubled the lead before half-time and Mauro Icardi finished from close range after the break.\\n',\n",
       "  'Goal!  St Etienne 0, Paris Saint Germain 2. Kylian Mbappé (Paris Saint Germain) right footed shot from the centre of the box to the centre of the goal. Assisted by Neymar with a through ball.': 'Kylian Mbappe scored twice as Paris St-Germain eased past 10-man Saint-Etienne to go seven points clear at the top of Ligue 1.\\n',\n",
       "  'Attempt saved. Neymar (Paris Saint Germain) right footed shot from the right side of the box is saved in the centre of the goal. Assisted by Ángel Di María.': 'Angel di Maria volleyed against the post for PSG, and Neymar missed out when his spot-kick struck the base of the upright.\\n',\n",
       "  'Attempt saved. Neymar (Paris Saint Germain) right footed shot from the left side of the six yard box is saved in the centre of the goal.': 'Kylian Mbappe scored twice as Paris St-Germain eased past 10-man Saint-Etienne to go seven points clear at the top of Ligue 1.\\n',\n",
       "  'Attempt saved. Ángel Di María (Paris Saint Germain) left footed shot from the left side of the box is saved in the centre of the goal. Assisted by Neymar with a through ball.': 'Angel di Maria volleyed against the post for PSG, and Neymar missed out when his spot-kick struck the base of the upright.\\n',\n",
       "  'Goal!  St Etienne 0, Paris Saint Germain 3. Mauro Icardi (Paris Saint Germain) right footed shot from very close range to the bottom right corner.': 'Mbappe doubled the lead before half-time and Mauro Icardi finished from close range after the break.\\n',\n",
       "  'Goal!  St Etienne 0, Paris Saint Germain 4. Kylian Mbappé (Paris Saint Germain) right footed shot from the centre of the box to the bottom left corner. Assisted by Neymar following a fast break.': 'Kylian Mbappe scored twice as Paris St-Germain eased past 10-man Saint-Etienne to go seven points clear at the top of Ligue 1.\\n',\n",
       "  'Goal!  Barcelona 0, Huesca 1. Juan Camilo Hernández (Huesca) right footed shot from very close range to the bottom left corner. Assisted by Samuele Longo.': 'Huesca took a shock early lead in their first league visit to the Nou Camp when Colombian forward Cucho Hernandez deflected the ball in from point-blank range but Messi soon dampened the celebrations of the visiting supporters by cannoning a shot in off the post to level in the 16th.',\n",
       "  'Goal!  Barcelona 1, Huesca 1. Lionel Messi (Barcelona) right footed shot from the right side of the box to the bottom left corner. Assisted by Ivan Rakitic.': \"Huesca's Alex Gallar pulled one back before half-time to make it 3-2, but any hope of a revival from the visitors was soon killed off by three Barca goals in 11 minutes from Ousmane Dembele, Ivan Rakitic and another strike from Messi.\",\n",
       "  'Attempt saved. Ousmane Dembélé (Barcelona) left footed shot from the left side of the box is saved in the centre of the goal. Assisted by Lionel Messi.': \"Huesca's Alex Gallar pulled one back before half-time to make it 3-2, but any hope of a revival from the visitors was soon killed off by three Barca goals in 11 minutes from Ousmane Dembele, Ivan Rakitic and another strike from Messi.\",\n",
       "  'Attempt saved. Juan Camilo Hernández (Huesca) right footed shot from the right side of the box is saved in the centre of the goal. Assisted by Gonzalo Melero.': 'Huesca took a shock early lead in their first league visit to the Nou Camp when Colombian forward Cucho Hernandez deflected the ball in from point-blank range but Messi soon dampened the celebrations of the visiting supporters by cannoning a shot in off the post to level in the 16th.',\n",
       "  'Attempt saved. Lionel Messi (Barcelona) header from the centre of the box is saved in the top centre of the goal. Assisted by Luis Suárez.': 'BARCELONA -- Lionel Messi and Luis Suarez scored twice each as La Liga champions Barcelona turned on the style to hammer Huesca 8-2 on Sunday and join Real Madrid as the only teams in the league to win their opening three games.',\n",
       "  'Own Goal by Jorge Pulido, Huesca.  Barcelona 2, Huesca 1.': 'An own goal from Jorge Pulido gave Barca the lead and Suarez extended it by scoring for the first time in five games in all competitions after the video assistant referee (VAR) overturned an offside call from the linesman.',\n",
       "  'Attempt saved. Gerard Piqué (Barcelona) right footed shot from the left side of the six yard box is saved in the centre of the goal.': 'BARCELONA -- Lionel Messi and Luis Suarez scored twice each as La Liga champions Barcelona turned on the style to hammer Huesca 8-2 on Sunday and join Real Madrid as the only teams in the league to win their opening three games.',\n",
       "  'Goal!  Barcelona 3, Huesca 1. Luis Suárez (Barcelona) right footed shot from the left side of the six yard box to the bottom left corner. Assisted by Jordi Alba.': 'BARCELONA -- Lionel Messi and Luis Suarez scored twice each as La Liga champions Barcelona turned on the style to hammer Huesca 8-2 on Sunday and join Real Madrid as the only teams in the league to win their opening three games.',\n",
       "  'Goal!  Barcelona 3, Huesca 2. Álex Gallar (Huesca) left footed shot from very close range to the centre of the goal. Assisted by Moi Gómez.': \"Huesca's Alex Gallar pulled one back before half-time to make it 3-2, but any hope of a revival from the visitors was soon killed off by three Barca goals in 11 minutes from Ousmane Dembele, Ivan Rakitic and another strike from Messi.\",\n",
       "  'Attempt saved. Coutinho (Barcelona) right footed shot from the left side of the box is saved in the centre of the goal. Assisted by Jordi Alba.': 'Jordi Alba capped a brilliant performance to score the seventh after setting up two of the earlier goals, while Suarez added No. 8 with a penalty in stoppage time as Messi turned down the chance to complete a hat trick, offering the spot kick to the Uruguayan instead.',\n",
       "  'Goal!  Barcelona 4, Huesca 2. Ousmane Dembélé (Barcelona) left footed shot from the left side of the box to the bottom right corner. Assisted by Luis Suárez.': 'BARCELONA -- Lionel Messi and Luis Suarez scored twice each as La Liga champions Barcelona turned on the style to hammer Huesca 8-2 on Sunday and join Real Madrid as the only teams in the league to win their opening three games.',\n",
       "  'Attempt saved. Luis Suárez (Barcelona) right footed shot from the left side of the box is saved in the centre of the goal. Assisted by Sergio Busquets with a through ball.': 'BARCELONA -- Lionel Messi and Luis Suarez scored twice each as La Liga champions Barcelona turned on the style to hammer Huesca 8-2 on Sunday and join Real Madrid as the only teams in the league to win their opening three games.',\n",
       "  'Goal!  Barcelona 5, Huesca 2. Ivan Rakitic (Barcelona) right footed shot from the right side of the box to the bottom left corner. Assisted by Lionel Messi.': \"Huesca's Alex Gallar pulled one back before half-time to make it 3-2, but any hope of a revival from the visitors was soon killed off by three Barca goals in 11 minutes from Ousmane Dembele, Ivan Rakitic and another strike from Messi.\",\n",
       "  'Goal!  Barcelona 6, Huesca 2. Lionel Messi (Barcelona) left footed shot from the centre of the box to the bottom right corner. Assisted by Coutinho with a through ball following a fast break.': 'BARCELONA -- Lionel Messi and Luis Suarez scored twice each as La Liga champions Barcelona turned on the style to hammer Huesca 8-2 on Sunday and join Real Madrid as the only teams in the league to win their opening three games.',\n",
       "  'Goal!  Barcelona 7, Huesca 2. Jordi Alba (Barcelona) left footed shot from the centre of the box to the centre of the goal. Assisted by Lionel Messi with a through ball.': 'BARCELONA -- Lionel Messi and Luis Suarez scored twice each as La Liga champions Barcelona turned on the style to hammer Huesca 8-2 on Sunday and join Real Madrid as the only teams in the league to win their opening three games.',\n",
       "  'Goal!  Barcelona 8, Huesca 2. Luis Suárez (Barcelona) converts the penalty with a right footed shot to the bottom right corner.': 'BARCELONA -- Lionel Messi and Luis Suarez scored twice each as La Liga champions Barcelona turned on the style to hammer Huesca 8-2 on Sunday and join Real Madrid as the only teams in the league to win their opening three games.',\n",
       "  'Attempt saved. Gabriel (Valencia) header from the centre of the box is saved in the centre of the goal. Assisted by Daniel Parejo with a cross.': 'Santi Mina missed from close range before Valencia captain Dani Parejo eventually put his side ahead in the 71st minute.',\n",
       "  'Goal!  Valencia 1, Real Valladolid 0. Daniel Parejo (Valencia) right footed shot from the centre of the box to the top right corner. Assisted by Carlos Soler.': 'Santi Mina missed from close range before Valencia captain Dani Parejo eventually put his side ahead in the 71st minute.',\n",
       "  'Goal!  Valencia 1, Real Valladolid 1. Rubén Alcaraz (Real Valladolid) from a free kick with a right footed shot to the top left corner.': \"Ruben Alcaraz's perfect free kick earned Real Valladolid a late equaliser in a 1-1 draw at Valencia in La Liga on Saturday as the hosts' disappointing season continued.\",\n",
       "  'Attempt saved. Ezequiel Garay (Valencia) header from the centre of the box is saved in the centre of the goal. Assisted by Daniel Parejo with a cross.': 'Santi Mina missed from close range before Valencia captain Dani Parejo eventually put his side ahead in the 71st minute.',\n",
       "  'Attempt saved. Lys Mousset (Bournemouth) right footed shot from the centre of the box is saved in the centre of the goal. Assisted by Jordon Ibe.': 'A late goal from substitute Callum Wilson helped AFC Bournemouth come from behind to beat Burnley 2-1 at Turf Moor.\\n',\n",
       "  'Attempt saved. Jeff Hendrick (Burnley) right footed shot from outside the box is saved in the centre of the goal. Assisted by Johann Berg Gudmundsson.': \"Burnley went ahead on 39 minutes when Ashley Westwood's shot deflected into the path of Chris Wood to score.\\n\",\n",
       "  'Attempt saved. Charlie Daniels (Bournemouth) left footed shot from the left side of the box is saved in the top centre of the goal. Assisted by Joshua King.': 'AFC Bournemouth produced their equaliser on 74 minutes when Nick Pope denied Jermain Defoe, but Joshua King followed up to curl into the top corner.\\n',\n",
       "  'Attempt saved. James Tarkowski (Burnley) header from the right side of the box is saved in the top centre of the goal. Assisted by Johann Berg Gudmundsson with a cross.': 'A late goal from substitute Callum Wilson helped AFC Bournemouth come from behind to beat Burnley 2-1 at Turf Moor.\\n',\n",
       "  'Attempt saved. Jeff Hendrick (Burnley) left footed shot from the centre of the box is saved in the centre of the goal. Assisted by Chris Wood.': \"Burnley went ahead on 39 minutes when Ashley Westwood's shot deflected into the path of Chris Wood to score.\\n\",\n",
       "  'Attempt saved. Wilfried Zaha (Crystal Palace) right footed shot from the centre of the box is saved in the centre of the goal. Assisted by James McArthur.': 'Second-half strikes by Wilfried Zaha and Patrick van Aanholt gave Crystal Palace a 2-0 win over West Bromwich Albion at Selhurst Park.\\n',\n",
       "  'Attempt saved. Ruben Loftus-Cheek (Crystal Palace) right footed shot from the centre of the box is saved in the centre of the goal.': 'West Brom goalkeeper Ben Foster made a number of stops to deny Palace, with two standout saves against Zaha and Ruben Loftus-Cheek.\\n',\n",
       "  'Attempt saved. James McClean (West Bromwich Albion) left footed shot from outside the box is saved in the centre of the goal. Assisted by Daniel Sturridge.': 'Second-half strikes by Wilfried Zaha and Patrick van Aanholt gave Crystal Palace a 2-0 win over West Bromwich Albion at Selhurst Park.\\n',\n",
       "  'Attempt saved. Fatai Alashe (FC Cincinnati) right footed shot from outside the box is saved in the centre of the goal. Assisted by Emmanuel Ledesma.': \"D.C. entered the day fourth but fell behind Toronto on the second tiebreak of goal difference after TFC's 1-0 home win against Columbus Crew SC.\",\n",
       "  'GOAL OVERTURNED BY VAR: Ulises Segura (D.C. United) scores but the goal is ruled out after a VAR review.': \"D.C. entered the day fourth but fell behind Toronto on the second tiebreak of goal difference after TFC's 1-0 home win against Columbus Crew SC.\",\n",
       "  'VAR Decision: No Goal  D.C. United 0-0 FC Cincinnati.': 'Wayne Rooney may not\\xa0get to say goodbye to the Audi Field faithful after D.C. United drew nine-man FC Cincinnati 0-0 on Sunday, a result that will see D.C. finish fifth in the conference and head to Toronto FC for the first round of the Audi 2019 MLS Cup Playoffs.',\n",
       "  'Attempt saved. Luciano Acosta (D.C. United) header from the centre of the box is saved in the centre of the goal. Assisted by Joseph Mora with a cross.': \"D.C. entered the day fourth but fell behind Toronto on the second tiebreak of goal difference after TFC's 1-0 home win against Columbus Crew SC.\",\n",
       "  'Attempt saved. Caleb Stanko (FC Cincinnati) left footed shot from more than 35 yards is saved in the centre of the goal.': \"D.C. entered the day fourth but fell behind Toronto on the second tiebreak of goal difference after TFC's 1-0 home win against Columbus Crew SC.\",\n",
       "  'Attempt saved. Alejandro Pozuelo (Toronto FC) left footed shot from outside the box is saved in the centre of the goal. Assisted by Richie Laryea.': 'Minutes after Rooney\\xa0nearly capitalized on a mistake by Toronto goalkeeper Quentin Westberg\\xa0early on, TFC took the lead, as Richie Laryea dribbled through several D.C. defenders before crossing to Nick DeLeon, who swept the ball into the net against his former team.',\n",
       "  'Attempt saved. Tsubasa Endoh (Toronto FC) right footed shot from outside the box is saved in the top centre of the goal. Assisted by Nick DeLeon.': 'Minutes after Rooney\\xa0nearly capitalized on a mistake by Toronto goalkeeper Quentin Westberg\\xa0early on, TFC took the lead, as Richie Laryea dribbled through several D.C. defenders before crossing to Nick DeLeon, who swept the ball into the net against his former team.',\n",
       "  'Attempt saved. Wayne Rooney (D.C. United) right footed shot from outside the box is saved in the centre of the goal. Assisted by Chris Durkin.': 'Toronto FC appear to have put an eight-game winless streak in the rearview mirror, but they were pegged back to a 1-1 draw against D.C. United\\xa0courtesy of a late\\xa0Wayne Rooney\\xa0penalty at Audi Field on Saturday.',\n",
       "  'Attempt saved. Luciano Acosta (D.C. United) left footed shot from outside the box is saved in the top centre of the goal. Assisted by Wayne Rooney.': 'Toronto FC appear to have put an eight-game winless streak in the rearview mirror, but they were pegged back to a 1-1 draw against D.C. United\\xa0courtesy of a late\\xa0Wayne Rooney\\xa0penalty at Audi Field on Saturday.'},\n",
       " 'red_card': {}}"
      ]
     },
     "execution_count": 139,
     "metadata": {},
     "output_type": "execute_result"
    }
   ],
   "source": [
    "key_events.global_event_sentence_dict"
   ]
  },
  {
   "cell_type": "code",
   "execution_count": 19,
   "metadata": {},
   "outputs": [],
   "source": [
    "pd_df_sum = pd.read_csv(summaries_path)"
   ]
  },
  {
   "cell_type": "code",
   "execution_count": 22,
   "metadata": {},
   "outputs": [
    {
     "data": {
      "text/plain": [
       "array(['Dummett\\'s own goal added to Newcastle\\'s woes yet Leicester were not done as Vardy was left unmarked to make it 4-0 with a close-range header before Ndidi piled on the embarrassment for the visitors.\\nLeicester City boss Brendan Rodgers: \"It was an outstanding performance and result.'],\n",
       "      dtype=object)"
      ]
     },
     "execution_count": 22,
     "metadata": {},
     "output_type": "execute_result"
    }
   ],
   "source": [
    "pd_df_sum[pd_df_sum.url == 'https://www.bbc.com/sport/football/49785376']['summary'].values"
   ]
  },
  {
   "cell_type": "code",
   "execution_count": 105,
   "metadata": {},
   "outputs": [
    {
     "data": {
      "text/plain": [
       "'[\\'The Houston Dynamo and Vancouver Whitecaps FC traded goals in each half, with Kendall Waston scoring a header at the death to split the points in a 2-2\\\\xa0draw at BC Place on Friday.\\', \"The Dynamo opened the scoring in the 35th minute, as substitute Boniek Garcia sent a long switch to Alberth Elis, who found Tomas Martinez in the box, and the Argentine\\'s effort to the far post was on the mark.\", \\'Just before halftime, Vancouver tied up the game, as a quick free kick routine initiated by Felipe led to a cross at the endline by Waston, with his center back partner\\', \\'Jose Aja flicking it into the net for his first career MLS goal.\\', \\'In the 70th minute, Houston goalkeeper Joe Willis made a terrific save on a Waston header to keep the game tied.\\', \"Willis made another big stop in the dying minutes, as a wide-open goal for substitute Brek Shea resulted in a mis-hit that the \\'keeper got enough of a touch to in order to keep out of the net.\", \"Then Mauro Manotas stepped up in the 90th minute, latching onto a bouncing ball\\\\xa0near the top of Vancouver\\'s box and blasting it past \\'Caps goalkeeper Brian Rowe\\\\xa0to put the visitors ahead once more.\", \\'But Waston was the ultimate hero, as his header off a free kick in the 94th minute ensured the teams would share the points.\\', \\'FT: DRAMA.\\', \\'@kwaston88 provides the last second @WhitecapsFC equalizer!\\', \\'#VANvHOU https://t.co/qVaiS9WqDs\\']'"
      ]
     },
     "execution_count": 105,
     "metadata": {},
     "output_type": "execute_result"
    }
   ],
   "source": [
    "pd_df_sum.iloc[200]['article_sentences']"
   ]
  },
  {
   "cell_type": "code",
   "execution_count": 106,
   "metadata": {},
   "outputs": [
    {
     "data": {
      "text/plain": [
       "'The Houston Dynamo and Vancouver Whitecaps FC traded goals in each half, with Kendall Waston scoring a header at the death to split the points in a 2-2\\xa0draw at BC Place on Friday.'"
      ]
     },
     "execution_count": 106,
     "metadata": {},
     "output_type": "execute_result"
    }
   ],
   "source": [
    "pd_df_sum.iloc[200]['summary']"
   ]
  },
  {
   "cell_type": "code",
   "execution_count": 5,
   "metadata": {},
   "outputs": [],
   "source": [
    "pd_df_map = pd.read_csv(map_path)"
   ]
  },
  {
   "cell_type": "code",
   "execution_count": 10,
   "metadata": {},
   "outputs": [
    {
     "data": {
      "text/html": [
       "<div>\n",
       "<style scoped>\n",
       "    .dataframe tbody tr th:only-of-type {\n",
       "        vertical-align: middle;\n",
       "    }\n",
       "\n",
       "    .dataframe tbody tr th {\n",
       "        vertical-align: top;\n",
       "    }\n",
       "\n",
       "    .dataframe thead th {\n",
       "        text-align: right;\n",
       "    }\n",
       "</style>\n",
       "<table border=\"1\" class=\"dataframe\">\n",
       "  <thead>\n",
       "    <tr style=\"text-align: right;\">\n",
       "      <th></th>\n",
       "      <th>event_type</th>\n",
       "      <th>event</th>\n",
       "      <th>article_sentence</th>\n",
       "    </tr>\n",
       "  </thead>\n",
       "  <tbody>\n",
       "    <tr>\n",
       "      <th>0</th>\n",
       "      <td>goal</td>\n",
       "      <td>Goal!  Napoli 1, Brescia 0. Dries Mertens (Nap...</td>\n",
       "      <td>Dries Mertens opened the scoring with his four...</td>\n",
       "    </tr>\n",
       "    <tr>\n",
       "      <th>1</th>\n",
       "      <td>goal</td>\n",
       "      <td>GOAL CANCELLED BY VAR: Kostas Manolas (Napoli)...</td>\n",
       "      <td>Brescia rallied after the break but Sandro Ton...</td>\n",
       "    </tr>\n",
       "    <tr>\n",
       "      <th>2</th>\n",
       "      <td>goal</td>\n",
       "      <td>VAR Decision: No Goal  Napoli 1-0 Brescia.</td>\n",
       "      <td>Brescia rallied after the break but Sandro Ton...</td>\n",
       "    </tr>\n",
       "    <tr>\n",
       "      <th>3</th>\n",
       "      <td>goal</td>\n",
       "      <td>Attempt saved. Faouzi Ghoulam (Napoli) right f...</td>\n",
       "      <td>Mario Balotelli scored his first Serie A goal ...</td>\n",
       "    </tr>\n",
       "    <tr>\n",
       "      <th>4</th>\n",
       "      <td>goal</td>\n",
       "      <td>Goal!  Napoli 2, Brescia 0. Kostas Manolas (Na...</td>\n",
       "      <td>Dries Mertens opened the scoring with his four...</td>\n",
       "    </tr>\n",
       "    <tr>\n",
       "      <th>...</th>\n",
       "      <td>...</td>\n",
       "      <td>...</td>\n",
       "      <td>...</td>\n",
       "    </tr>\n",
       "    <tr>\n",
       "      <th>16256</th>\n",
       "      <td>goal</td>\n",
       "      <td>Attempt saved. Andrew Jean Baptiste (Haiti) he...</td>\n",
       "      <td>Less than 20 minutes after that initial mistak...</td>\n",
       "    </tr>\n",
       "    <tr>\n",
       "      <th>16257</th>\n",
       "      <td>goal</td>\n",
       "      <td>Attempt saved. David Junior Hoilett (Canada) r...</td>\n",
       "      <td>Alphonso Davies quick-kicked the ball to Jonat...</td>\n",
       "    </tr>\n",
       "    <tr>\n",
       "      <th>16258</th>\n",
       "      <td>goal</td>\n",
       "      <td>Attempt saved. Scott Arfield (Canada) right fo...</td>\n",
       "      <td>Ten minutes after that first goal, Lucas Caval...</td>\n",
       "    </tr>\n",
       "    <tr>\n",
       "      <th>16259</th>\n",
       "      <td>goal</td>\n",
       "      <td>Attempt saved. Wilde-Donald Guerrier (Haiti) l...</td>\n",
       "      <td>Then, Haiti was able to grab the lead — for go...</td>\n",
       "    </tr>\n",
       "    <tr>\n",
       "      <th>16260</th>\n",
       "      <td>goal</td>\n",
       "      <td>Attempt saved. Rodolfo Zelaya (Los Angeles Foo...</td>\n",
       "      <td>The Rapids' lone goal came on a corner kick, a...</td>\n",
       "    </tr>\n",
       "  </tbody>\n",
       "</table>\n",
       "<p>16261 rows × 3 columns</p>\n",
       "</div>"
      ],
      "text/plain": [
       "      event_type                                              event  \\\n",
       "0           goal  Goal!  Napoli 1, Brescia 0. Dries Mertens (Nap...   \n",
       "1           goal  GOAL CANCELLED BY VAR: Kostas Manolas (Napoli)...   \n",
       "2           goal         VAR Decision: No Goal  Napoli 1-0 Brescia.   \n",
       "3           goal  Attempt saved. Faouzi Ghoulam (Napoli) right f...   \n",
       "4           goal  Goal!  Napoli 2, Brescia 0. Kostas Manolas (Na...   \n",
       "...          ...                                                ...   \n",
       "16256       goal  Attempt saved. Andrew Jean Baptiste (Haiti) he...   \n",
       "16257       goal  Attempt saved. David Junior Hoilett (Canada) r...   \n",
       "16258       goal  Attempt saved. Scott Arfield (Canada) right fo...   \n",
       "16259       goal  Attempt saved. Wilde-Donald Guerrier (Haiti) l...   \n",
       "16260       goal  Attempt saved. Rodolfo Zelaya (Los Angeles Foo...   \n",
       "\n",
       "                                        article_sentence  \n",
       "0      Dries Mertens opened the scoring with his four...  \n",
       "1      Brescia rallied after the break but Sandro Ton...  \n",
       "2      Brescia rallied after the break but Sandro Ton...  \n",
       "3      Mario Balotelli scored his first Serie A goal ...  \n",
       "4      Dries Mertens opened the scoring with his four...  \n",
       "...                                                  ...  \n",
       "16256  Less than 20 minutes after that initial mistak...  \n",
       "16257  Alphonso Davies quick-kicked the ball to Jonat...  \n",
       "16258  Ten minutes after that first goal, Lucas Caval...  \n",
       "16259  Then, Haiti was able to grab the lead — for go...  \n",
       "16260  The Rapids' lone goal came on a corner kick, a...  \n",
       "\n",
       "[16261 rows x 3 columns]"
      ]
     },
     "execution_count": 10,
     "metadata": {},
     "output_type": "execute_result"
    }
   ],
   "source": [
    "pd_df_map"
   ]
  },
  {
   "cell_type": "code",
   "execution_count": 8,
   "metadata": {},
   "outputs": [
    {
     "data": {
      "text/plain": [
       "'Attempt saved. Chicharito (West Ham United) left footed shot from outside the box is saved in the centre of the goal. Assisted by Michail Antonio.'"
      ]
     },
     "execution_count": 8,
     "metadata": {},
     "output_type": "execute_result"
    }
   ],
   "source": [
    "pd_df_map.iloc[12011]['event']"
   ]
  },
  {
   "cell_type": "code",
   "execution_count": 9,
   "metadata": {},
   "outputs": [
    {
     "data": {
      "text/plain": [
       "'Ryan Fredericks and Chicharito had early chances for the Hammers, who took the lead from the spot after Palace goalkeeper Vicente Guaita clattered into Michail Antonio and Mark Noble stepped up to convert the spot-kick.\\n'"
      ]
     },
     "execution_count": 9,
     "metadata": {},
     "output_type": "execute_result"
    }
   ],
   "source": [
    "pd_df_map.iloc[12011]['article_sentence']"
   ]
  },
  {
   "cell_type": "markdown",
   "metadata": {},
   "source": [
    "Se cuelan muchas ocasiones, ya que en inglés goal también significa portería. Nos quedamos solo con los goles:"
   ]
  },
  {
   "cell_type": "code",
   "execution_count": 6,
   "metadata": {},
   "outputs": [],
   "source": [
    "pd_df_goal = pd_df_map[~pd_df_map['event'].str.contains('attempt') & ~pd_df_map['event'].str.contains('Attempt')]"
   ]
  },
  {
   "cell_type": "code",
   "execution_count": 7,
   "metadata": {},
   "outputs": [
    {
     "data": {
      "text/plain": [
       "3991"
      ]
     },
     "execution_count": 7,
     "metadata": {},
     "output_type": "execute_result"
    }
   ],
   "source": [
    "len(pd_df_goal)"
   ]
  },
  {
   "cell_type": "code",
   "execution_count": 96,
   "metadata": {},
   "outputs": [
    {
     "data": {
      "text/plain": [
       "'Goal!  Bayer 04 Leverkusen 0, Juventus 2. Gonzalo Higuaín (Juventus) left footed shot from the centre of the box to the bottom right corner.'"
      ]
     },
     "execution_count": 96,
     "metadata": {},
     "output_type": "execute_result"
    }
   ],
   "source": [
    "pd_df_goal.iloc[406]['event']"
   ]
  },
  {
   "cell_type": "code",
   "execution_count": 97,
   "metadata": {},
   "outputs": [
    {
     "data": {
      "text/plain": [
       "'The Portuguese, 34, gave Juventus the lead in the 75th minute with his 128th Champions League goal, before Gonzalo Higuain added a second late on.\\n'"
      ]
     },
     "execution_count": 97,
     "metadata": {},
     "output_type": "execute_result"
    }
   ],
   "source": [
    "pd_df_goal.iloc[406]['article_sentence']"
   ]
  },
  {
   "cell_type": "code",
   "execution_count": null,
   "metadata": {},
   "outputs": [],
   "source": []
  },
  {
   "cell_type": "code",
   "execution_count": null,
   "metadata": {},
   "outputs": [],
   "source": []
  },
  {
   "cell_type": "code",
   "execution_count": null,
   "metadata": {},
   "outputs": [],
   "source": []
  }
 ],
 "metadata": {
  "kernelspec": {
   "display_name": "Python 3",
   "language": "python",
   "name": "python3"
  },
  "language_info": {
   "codemirror_mode": {
    "name": "ipython",
    "version": 3
   },
   "file_extension": ".py",
   "mimetype": "text/x-python",
   "name": "python",
   "nbconvert_exporter": "python",
   "pygments_lexer": "ipython3",
   "version": "3.7.7"
  }
 },
 "nbformat": 4,
 "nbformat_minor": 4
}
