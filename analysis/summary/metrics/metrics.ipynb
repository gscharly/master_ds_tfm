{
 "cells": [
  {
   "cell_type": "code",
   "execution_count": 1,
   "metadata": {},
   "outputs": [],
   "source": [
    "MAIN_PATH = \"/home/carlos/MasterDS/tfm\"\n",
    "JSON_DATA_PATH = '{}/data/json/'.format(MAIN_PATH)\n",
    "CSV_DATA_PATH = '{}/data/csv/'.format(MAIN_PATH)"
   ]
  },
  {
   "cell_type": "code",
   "execution_count": 2,
   "metadata": {},
   "outputs": [],
   "source": [
    "import sys\n",
    "sys.path.insert(0, MAIN_PATH)"
   ]
  },
  {
   "cell_type": "code",
   "execution_count": 3,
   "metadata": {},
   "outputs": [],
   "source": [
    "import pandas as pd\n",
    "from rouge import Rouge"
   ]
  },
  {
   "cell_type": "code",
   "execution_count": 4,
   "metadata": {},
   "outputs": [],
   "source": [
    "%load_ext autoreload\n",
    "%autoreload 2\n",
    "from scripts.metrics.summary_evaluation import SummaryEvaluation\n",
    "\n",
    "%reload_ext autoreload"
   ]
  },
  {
   "cell_type": "markdown",
   "metadata": {},
   "source": [
    "# Métricas"
   ]
  },
  {
   "cell_type": "markdown",
   "metadata": {},
   "source": [
    "El objetivo de este notebook es reunir las métricas que se obtienen a partir de las distintas técnicas de resuménes extractivos que se han \n",
    "desarrollado.\n",
    "\n",
    "En esta primera parte, el objetivo ha sido realizar un resumen de los partidos, utilizando directamente los eventos. Por tanto, para evaluar\n",
    "la bondad de estos métodos, se comparará directamente con la noticia asociada a cada partido, (la cual podemos considerar resumen del partido)\n",
    "utilizando las siguientes métricas:\n",
    "\n",
    "- ROUGE: mide el recall. Cuántas secuencias (unigramas, bigramas, lcs...) del resumen generado se encuentran en el resumen real, del total de las secuencias\n",
    "del resumen real.\n",
    "- BLEU: mide la precision. Cuántas secuencias del resumen generado se encuentran en el resumen real, del total de las secuencias del resumen generado.\n",
    "\n",
    "Naturally - these results are complementing, as is often the case in precision vs recall. If you have many words from the system results appearing in the human references you will have high Bleu, and if you have many words from the human references appearing in the system results you will have high Rouge.\n",
    "https://stackoverflow.com/questions/38045290/text-summarization-evaluation-bleu-vs-rouge\n",
    "\n",
    "Es importante considerar que no se está haciendo un resumen extractivo al uso (tradicionalmente se realizaría un resumen a partir de la noticia, \n",
    "y de ahí se extraerían las métricas). El estilo de escritura y los términos usados en eventos y noticias son bastante diferentes,\n",
    "por lo que las métricas tradicionales obtenidas no serán demasiado altas. Nos interesa la comparación entre técnicas propuestas."
   ]
  },
  {
   "cell_type": "code",
   "execution_count": 31,
   "metadata": {},
   "outputs": [],
   "source": [
    "summaries_path = '{}summaries/key_events_summaries_2.csv'.format(CSV_DATA_PATH)\n",
    "articles_path = '{}articles_events_processed.csv'.format(CSV_DATA_PATH)"
   ]
  },
  {
   "cell_type": "code",
   "execution_count": 32,
   "metadata": {},
   "outputs": [],
   "source": [
    "pd_summaries = pd.read_csv(summaries_path)\n",
    "pd_matches = pd.read_csv(articles_path)"
   ]
  },
  {
   "cell_type": "code",
   "execution_count": 33,
   "metadata": {},
   "outputs": [],
   "source": [
    "join_cols = ['json_file', 'url']\n",
    "match_cols = join_cols + ['article', 'events']\n",
    "sum_cols = join_cols + ['summary_events']"
   ]
  },
  {
   "cell_type": "code",
   "execution_count": 34,
   "metadata": {},
   "outputs": [],
   "source": [
    "pd_matches_sum = pd_matches[match_cols].merge(pd_summaries[sum_cols], on=join_cols, how='inner')"
   ]
  },
  {
   "cell_type": "markdown",
   "metadata": {},
   "source": [
    "### Ejemplo"
   ]
  },
  {
   "cell_type": "code",
   "execution_count": 36,
   "metadata": {},
   "outputs": [],
   "source": [
    "prueba = pd_matches_sum.iloc[0]\n",
    "article = prueba['article']\n",
    "events = prueba['events']\n",
    "summary_events = prueba['summary_events']"
   ]
  },
  {
   "cell_type": "code",
   "execution_count": 37,
   "metadata": {},
   "outputs": [
    {
     "data": {
      "text/plain": [
       "\"A goal and an assist from Riyad Mahrez sealed a 4-1 comeback win at Brighton & Hove Albion that confirmed Manchester City as Premier League champions.\\xa0\\nThe Algerian, a 2015/16 champion with Leicester City, replaced Phil Foden in the starting line-up and starred as Pep Guardiola's side defended the PL title and claimed the Trophy for the fourth time.\\nGlenn Murray gave Brighton a shock lead when he headed in Pascal Gross's 27th-minute corner.\\nBut Sergio Aguero levelled within a minute after being played in by David Silva, before Aymeric Laporte headed City in front from Mahrez's corner on 38 minutes.\\nAfter the break, Mahrez fired superbly into the top corner before Ilkay Gundogan scored a brilliant free-kick with 18 minutes remaining.\\nCity finished on 98 points, one above Liverpool, who won 2-0 against Wolverhampton Wanderers on the final day.\""
      ]
     },
     "execution_count": 37,
     "metadata": {},
     "output_type": "execute_result"
    }
   ],
   "source": [
    "article"
   ]
  },
  {
   "cell_type": "code",
   "execution_count": 38,
   "metadata": {
    "collapsed": true,
    "jupyter": {
     "outputs_hidden": true
    }
   },
   "outputs": [
    {
     "data": {
      "text/plain": [
       "'Attempt blocked. Ilkay Gündogan (Manchester City) right footed shot from outside the box is blocked. Assisted by Bernardo Silva. Corner,  Brighton and Hove Albion. Conceded by Aymeric Laporte. Offside, Brighton and Hove Albion. Anthony Knockaert tries a through ball, but Glenn Murray is caught offside. Foul by Anthony Knockaert (Brighton and Hove Albion). Aymeric Laporte (Manchester City) wins a free kick in the defensive half. Attempt missed. Alireza Jahanbakhsh (Brighton and Hove Albion) right footed shot from outside the box is close, but misses to the left. Assisted by Anthony Knockaert following a fast break. Attempt blocked. Sergio Agüero (Manchester City) right footed shot from outside the box is blocked. Assisted by Bernardo Silva. Foul by Yves Bissouma (Brighton and Hove Albion). Bernardo Silva (Manchester City) wins a free kick in the defensive half. Attempt missed. Sergio Agüero (Manchester City) header from the centre of the box misses to the left. Assisted by Raheem Sterling with a cross. Corner,  Manchester City. Conceded by Anthony Knockaert. Attempt saved. Riyad Mahrez (Manchester City) left footed shot from outside the box is saved in the bottom right corner. Assisted by Kyle Walker. Attempt blocked. Ilkay Gündogan (Manchester City) right footed shot from outside the box is blocked. Assisted by Bernardo Silva. Attempt blocked. Kyle Walker (Manchester City) right footed shot from outside the box is blocked. Aymeric Laporte (Manchester City) wins a free kick on the left wing. Foul by Glenn Murray (Brighton and Hove Albion). Glenn Murray (Brighton and Hove Albion) wins a free kick in the defensive half. Foul by Aymeric Laporte (Manchester City). Offside, Manchester City. Ilkay Gündogan tries a through ball, but Riyad Mahrez is caught offside. Attempt blocked. Alireza Jahanbakhsh (Brighton and Hove Albion) right footed shot from outside the box is blocked. Corner,  Brighton and Hove Albion. Conceded by Raheem Sterling. Goal.  Brighton and Hove Albion 1, Manchester City 0. Glenn Murray (Brighton and Hove Albion) header from the left side of the six yard box to the bottom left corner. Assisted by Pascal Groß with a cross following a corner. Goal.  Brighton and Hove Albion 1, Manchester City 1. Sergio Agüero (Manchester City) left footed shot from a difficult angle on the left to the centre of the goal. Assisted by David Silva with a through ball. Corner,  Manchester City. Conceded by Shane Duffy. Attempt saved. Bernardo Silva (Manchester City) header from the centre of the box is saved in the centre of the goal. Attempt blocked. Bernardo Silva (Manchester City) left footed shot from the right side of the box is blocked. Assisted by Kyle Walker. Foul by Sergio Agüero (Manchester City). Bernardo (Brighton and Hove Albion) wins a free kick in the defensive half. Anthony Knockaert (Brighton and Hove Albion) wins a free kick on the right wing. Foul by Sergio Agüero (Manchester City). Attempt missed. Shane Duffy (Brighton and Hove Albion) header from the centre of the box is just a bit too high. Assisted by Pascal Groß with a cross following a set piece situation. Attempt saved. Riyad Mahrez (Manchester City) right footed shot from a difficult angle on the right is saved in the centre of the goal. Assisted by David Silva. Corner,  Manchester City. Conceded by Mat Ryan. Goal.  Brighton and Hove Albion 1, Manchester City 2. Aymeric Laporte (Manchester City) header from very close range to the top left corner. Assisted by Riyad Mahrez with a cross following a corner. Yves Bissouma (Brighton and Hove Albion) wins a free kick in the attacking half. Foul by Vincent Kompany (Manchester City). Attempt saved. Lewis Dunk (Brighton and Hove Albion) right footed shot from outside the box is saved in the top centre of the goal. Corner,  Brighton and Hove Albion. Conceded by Ederson. Attempt blocked. Riyad Mahrez (Manchester City) left footed shot from the right side of the box is blocked. Assisted by Aymeric Laporte. Corner,  Manchester City. Conceded by Shane Duffy. Ilkay Gündogan (Manchester City) wins a free kick on the right wing. Foul by Alireza Jahanbakhsh (Brighton and Hove Albion). Foul by David Silva (Manchester City). Bruno (Brighton and Hove Albion) wins a free kick in the defensive half. Foul by David Silva (Manchester City). Pascal Groß (Brighton and Hove Albion) wins a free kick in the defensive half. Alireza Jahanbakhsh (Brighton and Hove Albion) wins a free kick on the left wing. Foul by Kyle Walker (Manchester City). Attempt missed. Lewis Dunk (Brighton and Hove Albion) header from the centre of the box is too high. Assisted by Anthony Knockaert with a cross following a set piece situation. Attempt blocked. Ilkay Gündogan (Manchester City) right footed shot from outside the box is blocked. Assisted by Sergio Agüero. Foul by Oleksandr Zinchenko (Manchester City). Anthony Knockaert (Brighton and Hove Albion) wins a free kick in the defensive half. David Silva (Manchester City) wins a free kick in the defensive half. Foul by Beram Kayal (Brighton and Hove Albion). Attempt saved. Raheem Sterling (Manchester City) left footed shot from the left side of the box is saved in the bottom left corner. Assisted by Ilkay Gündogan. Corner,  Manchester City. Conceded by Lewis Dunk. Goal.  Brighton and Hove Albion 1, Manchester City 3. Riyad Mahrez (Manchester City) right footed shot from outside the box to the top right corner. Assisted by David Silva. Attempt missed. Ilkay Gündogan (Manchester City) right footed shot from outside the box is close, but misses to the right. Substitution, Brighton and Hove Albion. Jürgen Locadia replaces Alireza Jahanbakhsh. Substitution, Brighton and Hove Albion. Florin Andone replaces Glenn Murray. Corner,  Manchester City. Conceded by Bernardo. Attempt missed. Oleksandr Zinchenko (Manchester City) left footed shot from outside the box misses to the right. Assisted by Kyle Walker. Foul by Yves Bissouma (Brighton and Hove Albion). Raheem Sterling (Manchester City) wins a free kick in the attacking half. Goal.  Brighton and Hove Albion 1, Manchester City 4. Ilkay Gündogan (Manchester City) from a free kick with a right footed shot to the bottom right corner. Sergio Agüero (Manchester City) wins a free kick in the attacking half. Foul by Anthony Knockaert (Brighton and Hove Albion). Substitution, Manchester City. Kevin De Bruyne replaces David Silva. Riyad Mahrez (Manchester City) wins a free kick in the defensive half. Foul by Yves Bissouma (Brighton and Hove Albion). Foul by Anthony Knockaert (Brighton and Hove Albion). Sergio Agüero (Manchester City) wins a free kick on the left wing. Substitution, Brighton and Hove Albion. Martín Montoya replaces Bruno. Foul by Florin Andone (Brighton and Hove Albion). Raheem Sterling (Manchester City) wins a free kick in the attacking half. Substitution, Manchester City. Nicolás Otamendi replaces Vincent Kompany. Attempt saved. Kevin De Bruyne (Manchester City) right footed shot from outside the box is saved in the centre of the goal. Foul by Martín Montoya (Brighton and Hove Albion). Raheem Sterling (Manchester City) wins a free kick in the defensive half. Substitution, Manchester City. Danilo replaces Kyle Walker. Kevin De Bruyne (Manchester City) wins a free kick on the right wing. Foul by Bernardo (Brighton and Hove Albion). Attempt blocked. Sergio Agüero (Manchester City) left footed shot from the centre of the box is blocked. Assisted by Riyad Mahrez.'"
      ]
     },
     "execution_count": 38,
     "metadata": {},
     "output_type": "execute_result"
    }
   ],
   "source": [
    "events"
   ]
  },
  {
   "cell_type": "code",
   "execution_count": 39,
   "metadata": {},
   "outputs": [
    {
     "data": {
      "text/plain": [
       "'Goal.  Brighton and Hove Albion 1, Manchester City 0. Glenn Murray (Brighton and Hove Albion) header from the left side of the six yard box to the bottom left corner. Assisted by Pascal Groß with a cross following a corner. Goal.  Brighton and Hove Albion 1, Manchester City 1. Sergio Agüero (Manchester City) left footed shot from a difficult angle on the left to the centre of the goal. Assisted by David Silva with a through ball. Goal.  Brighton and Hove Albion 1, Manchester City 2. Aymeric Laporte (Manchester City) header from very close range to the top left corner. Assisted by Riyad Mahrez with a cross following a corner. Goal.  Brighton and Hove Albion 1, Manchester City 3. Riyad Mahrez (Manchester City) right footed shot from outside the box to the top right corner. Assisted by David Silva. Goal.  Brighton and Hove Albion 1, Manchester City 4. Ilkay Gündogan (Manchester City) from a free kick with a right footed shot to the bottom right corner.'"
      ]
     },
     "execution_count": 39,
     "metadata": {},
     "output_type": "execute_result"
    }
   ],
   "source": [
    "summary_events"
   ]
  },
  {
   "cell_type": "markdown",
   "metadata": {},
   "source": [
    "Comparamos las métricas que obtendríamos con el resumen generado, y con los eventos originales. Observamos lo siguiente:\n",
    "\n",
    "- Los eventos completos tienen lógicamente mayor recall, y los resúmenes mayor precision. Esto se debe a la longitud de los textos: al medir la precision,\n",
    "se toma como referencia la longitud del texto candidato (eventos > resumen) y al medir el recall se toma como referencia el texto referencia (artículo, que \n",
    "será siempre el mismo). Por lo tanto, a mayor longitud de candidato, es probable que obtenga más recall y menos precision.\n",
    "\n",
    "- Sin embargo, la diferencia entre ambos es tan grande que hace que el f1 score sea mayor en la opción resumida. Por tanto, solo podríamos tomar como límite\n",
    "superior el recall de los eventos, y como límite inferior la precision de los eventos."
   ]
  },
  {
   "cell_type": "code",
   "execution_count": 40,
   "metadata": {},
   "outputs": [],
   "source": [
    "rouge = Rouge()"
   ]
  },
  {
   "cell_type": "code",
   "execution_count": 42,
   "metadata": {},
   "outputs": [
    {
     "data": {
      "text/plain": [
       "[{'rouge-1': {'f': 0.3006535898073391,\n",
       "   'p': 0.27710843373493976,\n",
       "   'r': 0.32857142857142857},\n",
       "  'rouge-2': {'f': 0.052631573983942644,\n",
       "   'p': 0.048484848484848485,\n",
       "   'r': 0.05755395683453238},\n",
       "  'rouge-l': {'f': 0.27118643600114917,\n",
       "   'p': 0.36363636363636365,\n",
       "   'r': 0.21621621621621623}}]"
      ]
     },
     "execution_count": 42,
     "metadata": {},
     "output_type": "execute_result"
    }
   ],
   "source": [
    "rouge.get_scores(summary_events, article)"
   ]
  },
  {
   "cell_type": "code",
   "execution_count": 43,
   "metadata": {},
   "outputs": [
    {
     "data": {
      "text/plain": [
       "[{'rouge-1': {'f': 0.07801950299630425,\n",
       "   'p': 0.04358759430008382,\n",
       "   'r': 0.37142857142857144},\n",
       "  'rouge-2': {'f': 0.01352366454569753,\n",
       "   'p': 0.007550335570469799,\n",
       "   'r': 0.06474820143884892},\n",
       "  'rouge-l': {'f': 0.21052631084069576,\n",
       "   'p': 0.19117647058823528,\n",
       "   'r': 0.23423423423423423}}]"
      ]
     },
     "execution_count": 43,
     "metadata": {},
     "output_type": "execute_result"
    }
   ],
   "source": [
    "rouge.get_scores(events, article)"
   ]
  },
  {
   "cell_type": "markdown",
   "metadata": {},
   "source": [
    "## ROUGE"
   ]
  },
  {
   "cell_type": "code",
   "execution_count": 25,
   "metadata": {},
   "outputs": [
    {
     "name": "stdout",
     "output_type": "stream",
     "text": [
      "Setting target metric to rouge\n"
     ]
    }
   ],
   "source": [
    "evaluation = SummaryEvaluation(metric='rouge')"
   ]
  },
  {
   "cell_type": "markdown",
   "metadata": {},
   "source": [
    "__Sin procesar__"
   ]
  },
  {
   "cell_type": "code",
   "execution_count": 154,
   "metadata": {},
   "outputs": [],
   "source": [
    "path = '{}metrics/summaries/rouge/key_events_summaries_2'.format(JSON_DATA_PATH)"
   ]
  },
  {
   "cell_type": "code",
   "execution_count": 142,
   "metadata": {},
   "outputs": [
    {
     "name": "stdout",
     "output_type": "stream",
     "text": [
      "Path already exists\n"
     ]
    }
   ],
   "source": [
    "scores_dict, avg_scores_dict = evaluation.evaluate(pd_matches_sum, path, avg=True)"
   ]
  },
  {
   "cell_type": "code",
   "execution_count": 144,
   "metadata": {},
   "outputs": [
    {
     "data": {
      "text/plain": [
       "{'rouge-1': {'f': 0.14093097027721083,\n",
       "  'p': 0.451322714164037,\n",
       "  'r': 0.10829601513666687},\n",
       " 'rouge-2': {'f': 0.03568097728062855,\n",
       "  'p': 0.15954426423885243,\n",
       "  'r': 0.026128361172219026},\n",
       " 'rouge-l': {'f': 0.13772376215091478,\n",
       "  'p': 0.510722632771135,\n",
       "  'r': 0.09210327264239185}}"
      ]
     },
     "execution_count": 144,
     "metadata": {},
     "output_type": "execute_result"
    }
   ],
   "source": [
    "avg_scores_dict"
   ]
  },
  {
   "cell_type": "markdown",
   "metadata": {},
   "source": [
    "__Con procesado (eliminación de stopwords y lematización)__"
   ]
  },
  {
   "cell_type": "code",
   "execution_count": 145,
   "metadata": {},
   "outputs": [],
   "source": [
    "path = '{}metrics/summaries/rouge/key_events_summaries_2_processed'.format(JSON_DATA_PATH)"
   ]
  },
  {
   "cell_type": "code",
   "execution_count": 146,
   "metadata": {},
   "outputs": [
    {
     "name": "stdout",
     "output_type": "stream",
     "text": [
      "Writing to /home/carlos/MasterDS/tfm/data/json/metrics/summaries/rouge/key_events_summaries_2_processed.pickle\n",
      "Writing avg to /home/carlos/MasterDS/tfm/data/json/metrics/summaries/rouge/key_events_summaries_2_processed_avg.pickle\n"
     ]
    }
   ],
   "source": [
    "scores_dict, avg_scores_dict = evaluation.evaluate(pd_matches_sum, path, preprocess_text=True, avg=True)"
   ]
  },
  {
   "cell_type": "code",
   "execution_count": 147,
   "metadata": {},
   "outputs": [
    {
     "data": {
      "text/plain": [
       "{'rouge-1': {'f': 0.18414411021992844,\n",
       "  'p': 0.5618391255639942,\n",
       "  'r': 0.14011238092564743},\n",
       " 'rouge-2': {'f': 0.05898801516243596,\n",
       "  'p': 0.20638111609898435,\n",
       "  'r': 0.044435798481286586},\n",
       " 'rouge-l': {'f': 0.19663244820860556,\n",
       "  'p': 0.6624929981455303,\n",
       "  'r': 0.13120485256209452}}"
      ]
     },
     "execution_count": 147,
     "metadata": {},
     "output_type": "execute_result"
    }
   ],
   "source": [
    "avg_scores_dict"
   ]
  },
  {
   "cell_type": "markdown",
   "metadata": {},
   "source": [
    "### Con todos los resumenes"
   ]
  },
  {
   "cell_type": "code",
   "execution_count": 6,
   "metadata": {},
   "outputs": [
    {
     "name": "stdout",
     "output_type": "stream",
     "text": [
      "Evaluating the following summaries: ['key_events_summaries_1.csv', 'key_events_summaries_3.csv', 'key_events_summaries_4.csv', 'key_events_summaries_graph_2.csv', 'key_events_summaries_graph_3.csv', 'key_events_summaries_2.csv', 'key_events_summaries_graph_5.csv', 'key_events_summaries_graph_1.csv', 'key_events_summaries_graph_4.csv']\n",
      "Evaluating key_events_summaries_1.csv\n",
      "Performing evaluation for 4302 articles\n",
      "Writing to /home/carlos/MasterDS/tfm/data/metrics/summaries/rouge/key_events_summaries_1_processed.pickle\n",
      "Writing avg to /home/carlos/MasterDS/tfm/data/metrics/summaries/rouge/key_events_summaries_1_processed_avg.pickle\n",
      "Evaluating key_events_summaries_3.csv\n",
      "Performing evaluation for 4302 articles\n",
      "Writing to /home/carlos/MasterDS/tfm/data/metrics/summaries/rouge/key_events_summaries_3_processed.pickle\n",
      "Writing avg to /home/carlos/MasterDS/tfm/data/metrics/summaries/rouge/key_events_summaries_3_processed_avg.pickle\n",
      "Evaluating key_events_summaries_4.csv\n",
      "Performing evaluation for 4300 articles\n",
      "Writing to /home/carlos/MasterDS/tfm/data/metrics/summaries/rouge/key_events_summaries_4_processed.pickle\n",
      "Writing avg to /home/carlos/MasterDS/tfm/data/metrics/summaries/rouge/key_events_summaries_4_processed_avg.pickle\n",
      "Evaluating key_events_summaries_graph_2.csv\n",
      "There are 7 articles with an empty summary\n",
      "Performing evaluation for 4516 articles\n",
      "Writing to /home/carlos/MasterDS/tfm/data/metrics/summaries/rouge/key_events_summaries_graph_2_processed.pickle\n",
      "Writing avg to /home/carlos/MasterDS/tfm/data/metrics/summaries/rouge/key_events_summaries_graph_2_processed_avg.pickle\n",
      "Evaluating key_events_summaries_graph_3.csv\n",
      "There are 7 articles with an empty summary\n",
      "Performing evaluation for 4516 articles\n",
      "Writing to /home/carlos/MasterDS/tfm/data/metrics/summaries/rouge/key_events_summaries_graph_3_processed.pickle\n",
      "Writing avg to /home/carlos/MasterDS/tfm/data/metrics/summaries/rouge/key_events_summaries_graph_3_processed_avg.pickle\n",
      "Evaluating key_events_summaries_2.csv\n",
      "Performing evaluation for 4300 articles\n",
      "Writing to /home/carlos/MasterDS/tfm/data/metrics/summaries/rouge/key_events_summaries_2_processed.pickle\n",
      "Writing avg to /home/carlos/MasterDS/tfm/data/metrics/summaries/rouge/key_events_summaries_2_processed_avg.pickle\n",
      "Evaluating key_events_summaries_graph_5.csv\n",
      "Performing evaluation for 4482 articles\n",
      "Writing to /home/carlos/MasterDS/tfm/data/metrics/summaries/rouge/key_events_summaries_graph_5_processed.pickle\n",
      "Writing avg to /home/carlos/MasterDS/tfm/data/metrics/summaries/rouge/key_events_summaries_graph_5_processed_avg.pickle\n",
      "Evaluating key_events_summaries_graph_1.csv\n",
      "There are 7 articles with an empty summary\n",
      "Performing evaluation for 4516 articles\n",
      "Writing to /home/carlos/MasterDS/tfm/data/metrics/summaries/rouge/key_events_summaries_graph_1_processed.pickle\n",
      "Writing avg to /home/carlos/MasterDS/tfm/data/metrics/summaries/rouge/key_events_summaries_graph_1_processed_avg.pickle\n",
      "Evaluating key_events_summaries_graph_4.csv\n",
      "There are 7 articles with an empty summary\n",
      "Performing evaluation for 4516 articles\n",
      "Writing to /home/carlos/MasterDS/tfm/data/metrics/summaries/rouge/key_events_summaries_graph_4_processed.pickle\n",
      "Writing avg to /home/carlos/MasterDS/tfm/data/metrics/summaries/rouge/key_events_summaries_graph_4_processed_avg.pickle\n",
      "CPU times: user 57min 10s, sys: 4.54 s, total: 57min 15s\n",
      "Wall time: 57min 16s\n"
     ]
    }
   ],
   "source": [
    "%%time\n",
    "evaluation.evaluate_all_summaries(preprocess_text=True)"
   ]
  },
  {
   "cell_type": "code",
   "execution_count": 13,
   "metadata": {},
   "outputs": [],
   "source": [
    "pd_metrics = evaluation.output_avg_metrics()"
   ]
  },
  {
   "cell_type": "code",
   "execution_count": 15,
   "metadata": {},
   "outputs": [
    {
     "data": {
      "text/html": [
       "<div>\n",
       "<style scoped>\n",
       "    .dataframe tbody tr th:only-of-type {\n",
       "        vertical-align: middle;\n",
       "    }\n",
       "\n",
       "    .dataframe tbody tr th {\n",
       "        vertical-align: top;\n",
       "    }\n",
       "\n",
       "    .dataframe thead th {\n",
       "        text-align: right;\n",
       "    }\n",
       "</style>\n",
       "<table border=\"1\" class=\"dataframe\">\n",
       "  <thead>\n",
       "    <tr style=\"text-align: right;\">\n",
       "      <th></th>\n",
       "      <th>metric</th>\n",
       "      <th>metric_type</th>\n",
       "      <th>value</th>\n",
       "      <th>experiment</th>\n",
       "    </tr>\n",
       "  </thead>\n",
       "  <tbody>\n",
       "    <tr>\n",
       "      <th>0</th>\n",
       "      <td>rouge-1</td>\n",
       "      <td>f</td>\n",
       "      <td>0.134658</td>\n",
       "      <td>key_events_summaries_graph_5_processed</td>\n",
       "    </tr>\n",
       "    <tr>\n",
       "      <th>1</th>\n",
       "      <td>rouge-1</td>\n",
       "      <td>p</td>\n",
       "      <td>0.101599</td>\n",
       "      <td>key_events_summaries_graph_5_processed</td>\n",
       "    </tr>\n",
       "    <tr>\n",
       "      <th>2</th>\n",
       "      <td>rouge-1</td>\n",
       "      <td>r</td>\n",
       "      <td>0.248504</td>\n",
       "      <td>key_events_summaries_graph_5_processed</td>\n",
       "    </tr>\n",
       "    <tr>\n",
       "      <th>3</th>\n",
       "      <td>rouge-2</td>\n",
       "      <td>f</td>\n",
       "      <td>0.033602</td>\n",
       "      <td>key_events_summaries_graph_5_processed</td>\n",
       "    </tr>\n",
       "    <tr>\n",
       "      <th>4</th>\n",
       "      <td>rouge-2</td>\n",
       "      <td>p</td>\n",
       "      <td>0.024837</td>\n",
       "      <td>key_events_summaries_graph_5_processed</td>\n",
       "    </tr>\n",
       "    <tr>\n",
       "      <th>...</th>\n",
       "      <td>...</td>\n",
       "      <td>...</td>\n",
       "      <td>...</td>\n",
       "      <td>...</td>\n",
       "    </tr>\n",
       "    <tr>\n",
       "      <th>4</th>\n",
       "      <td>rouge-2</td>\n",
       "      <td>p</td>\n",
       "      <td>0.024790</td>\n",
       "      <td>key_events_summaries_graph_4_processed</td>\n",
       "    </tr>\n",
       "    <tr>\n",
       "      <th>5</th>\n",
       "      <td>rouge-2</td>\n",
       "      <td>r</td>\n",
       "      <td>0.072010</td>\n",
       "      <td>key_events_summaries_graph_4_processed</td>\n",
       "    </tr>\n",
       "    <tr>\n",
       "      <th>6</th>\n",
       "      <td>rouge-l</td>\n",
       "      <td>f</td>\n",
       "      <td>0.235995</td>\n",
       "      <td>key_events_summaries_graph_4_processed</td>\n",
       "    </tr>\n",
       "    <tr>\n",
       "      <th>7</th>\n",
       "      <td>rouge-l</td>\n",
       "      <td>p</td>\n",
       "      <td>0.291261</td>\n",
       "      <td>key_events_summaries_graph_4_processed</td>\n",
       "    </tr>\n",
       "    <tr>\n",
       "      <th>8</th>\n",
       "      <td>rouge-l</td>\n",
       "      <td>r</td>\n",
       "      <td>0.218201</td>\n",
       "      <td>key_events_summaries_graph_4_processed</td>\n",
       "    </tr>\n",
       "  </tbody>\n",
       "</table>\n",
       "<p>81 rows × 4 columns</p>\n",
       "</div>"
      ],
      "text/plain": [
       "     metric metric_type     value                              experiment\n",
       "0   rouge-1           f  0.134658  key_events_summaries_graph_5_processed\n",
       "1   rouge-1           p  0.101599  key_events_summaries_graph_5_processed\n",
       "2   rouge-1           r  0.248504  key_events_summaries_graph_5_processed\n",
       "3   rouge-2           f  0.033602  key_events_summaries_graph_5_processed\n",
       "4   rouge-2           p  0.024837  key_events_summaries_graph_5_processed\n",
       "..      ...         ...       ...                                     ...\n",
       "4   rouge-2           p  0.024790  key_events_summaries_graph_4_processed\n",
       "5   rouge-2           r  0.072010  key_events_summaries_graph_4_processed\n",
       "6   rouge-l           f  0.235995  key_events_summaries_graph_4_processed\n",
       "7   rouge-l           p  0.291261  key_events_summaries_graph_4_processed\n",
       "8   rouge-l           r  0.218201  key_events_summaries_graph_4_processed\n",
       "\n",
       "[81 rows x 4 columns]"
      ]
     },
     "execution_count": 15,
     "metadata": {},
     "output_type": "execute_result"
    }
   ],
   "source": [
    "pd_metrics"
   ]
  },
  {
   "cell_type": "code",
   "execution_count": 14,
   "metadata": {},
   "outputs": [
    {
     "name": "stdout",
     "output_type": "stream",
     "text": [
      "Performing evaluation for 4523 articles\n",
      "Writing to /home/carlos/MasterDS/tfm/data/metrics/summaries/rouge/upper_bound.pickle\n",
      "Writing avg to /home/carlos/MasterDS/tfm/data/metrics/summaries/rouge/upper_bound_avg.pickle\n"
     ]
    }
   ],
   "source": [
    "evaluation.bound_metrics()"
   ]
  },
  {
   "cell_type": "code",
   "execution_count": 26,
   "metadata": {},
   "outputs": [],
   "source": [
    "pd_bound = evaluation.output_avg_bound()"
   ]
  },
  {
   "cell_type": "code",
   "execution_count": 27,
   "metadata": {},
   "outputs": [
    {
     "data": {
      "text/html": [
       "<div>\n",
       "<style scoped>\n",
       "    .dataframe tbody tr th:only-of-type {\n",
       "        vertical-align: middle;\n",
       "    }\n",
       "\n",
       "    .dataframe tbody tr th {\n",
       "        vertical-align: top;\n",
       "    }\n",
       "\n",
       "    .dataframe thead th {\n",
       "        text-align: right;\n",
       "    }\n",
       "</style>\n",
       "<table border=\"1\" class=\"dataframe\">\n",
       "  <thead>\n",
       "    <tr style=\"text-align: right;\">\n",
       "      <th></th>\n",
       "      <th>metric</th>\n",
       "      <th>metric_type</th>\n",
       "      <th>value</th>\n",
       "    </tr>\n",
       "  </thead>\n",
       "  <tbody>\n",
       "    <tr>\n",
       "      <th>0</th>\n",
       "      <td>rouge-1</td>\n",
       "      <td>f</td>\n",
       "      <td>0.105305</td>\n",
       "    </tr>\n",
       "    <tr>\n",
       "      <th>1</th>\n",
       "      <td>rouge-1</td>\n",
       "      <td>p</td>\n",
       "      <td>0.067818</td>\n",
       "    </tr>\n",
       "    <tr>\n",
       "      <th>2</th>\n",
       "      <td>rouge-1</td>\n",
       "      <td>r</td>\n",
       "      <td>0.361353</td>\n",
       "    </tr>\n",
       "    <tr>\n",
       "      <th>3</th>\n",
       "      <td>rouge-2</td>\n",
       "      <td>f</td>\n",
       "      <td>0.021309</td>\n",
       "    </tr>\n",
       "    <tr>\n",
       "      <th>4</th>\n",
       "      <td>rouge-2</td>\n",
       "      <td>p</td>\n",
       "      <td>0.013826</td>\n",
       "    </tr>\n",
       "    <tr>\n",
       "      <th>5</th>\n",
       "      <td>rouge-2</td>\n",
       "      <td>r</td>\n",
       "      <td>0.073771</td>\n",
       "    </tr>\n",
       "    <tr>\n",
       "      <th>6</th>\n",
       "      <td>rouge-l</td>\n",
       "      <td>f</td>\n",
       "      <td>0.218348</td>\n",
       "    </tr>\n",
       "    <tr>\n",
       "      <th>7</th>\n",
       "      <td>rouge-l</td>\n",
       "      <td>p</td>\n",
       "      <td>0.228750</td>\n",
       "    </tr>\n",
       "    <tr>\n",
       "      <th>8</th>\n",
       "      <td>rouge-l</td>\n",
       "      <td>r</td>\n",
       "      <td>0.232812</td>\n",
       "    </tr>\n",
       "  </tbody>\n",
       "</table>\n",
       "</div>"
      ],
      "text/plain": [
       "    metric metric_type     value\n",
       "0  rouge-1           f  0.105305\n",
       "1  rouge-1           p  0.067818\n",
       "2  rouge-1           r  0.361353\n",
       "3  rouge-2           f  0.021309\n",
       "4  rouge-2           p  0.013826\n",
       "5  rouge-2           r  0.073771\n",
       "6  rouge-l           f  0.218348\n",
       "7  rouge-l           p  0.228750\n",
       "8  rouge-l           r  0.232812"
      ]
     },
     "execution_count": 27,
     "metadata": {},
     "output_type": "execute_result"
    }
   ],
   "source": [
    "pd_bound"
   ]
  },
  {
   "cell_type": "code",
   "execution_count": null,
   "metadata": {},
   "outputs": [],
   "source": []
  }
 ],
 "metadata": {
  "kernelspec": {
   "display_name": "Python 3",
   "language": "python",
   "name": "python3"
  },
  "language_info": {
   "codemirror_mode": {
    "name": "ipython",
    "version": 3
   },
   "file_extension": ".py",
   "mimetype": "text/x-python",
   "name": "python",
   "nbconvert_exporter": "python",
   "pygments_lexer": "ipython3",
   "version": "3.7.7"
  }
 },
 "nbformat": 4,
 "nbformat_minor": 4
}
