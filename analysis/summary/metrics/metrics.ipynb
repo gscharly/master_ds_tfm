{
 "cells": [
  {
   "cell_type": "code",
   "execution_count": 2,
   "metadata": {},
   "outputs": [],
   "source": [
    "MAIN_PATH = \"/home/carlos/MasterDS/tfm\"\n",
    "JSON_DATA_PATH = '{}/data/json/'.format(MAIN_PATH)\n",
    "CSV_DATA_PATH = '{}/data/csv/'.format(MAIN_PATH)"
   ]
  },
  {
   "cell_type": "code",
   "execution_count": 3,
   "metadata": {},
   "outputs": [],
   "source": [
    "import sys\n",
    "sys.path.insert(0, MAIN_PATH)"
   ]
  },
  {
   "cell_type": "code",
   "execution_count": 8,
   "metadata": {},
   "outputs": [],
   "source": [
    "import pandas as pd"
   ]
  },
  {
   "cell_type": "code",
   "execution_count": 5,
   "metadata": {},
   "outputs": [
    {
     "name": "stdout",
     "output_type": "stream",
     "text": [
      "The autoreload extension is already loaded. To reload it, use:\n",
      "  %reload_ext autoreload\n"
     ]
    }
   ],
   "source": [
    "%load_ext autoreload\n",
    "%autoreload 2\n",
    "\n",
    "\n",
    "%reload_ext autoreload"
   ]
  },
  {
   "cell_type": "markdown",
   "metadata": {},
   "source": [
    "# Métricas"
   ]
  },
  {
   "cell_type": "markdown",
   "metadata": {},
   "source": [
    "El objetivo de este notebook es reunir las métricas que se obtienen a partir de las distintas técnicas de resuménes extractivos que se han \n",
    "desarrollado.\n",
    "\n",
    "En esta primera parte, el objetivo ha sido realizar un resumen de los partidos, utilizando directamente los eventos. Por tanto, para evaluar\n",
    "la bondad de estos métodos, se comparará directamente con la noticia asociada a cada partido, (la cual podemos considerar resumen del partido)\n",
    "utilizando las siguientes métricas:\n",
    "\n",
    "- ROUGE: mide el recall. Cuántas secuencias (unigramas, bigramas, lcs...) del resumen generado se encuentran en el resumen real, del total de las secuencias\n",
    "del resumen real.\n",
    "- BLEU: mide la precision. Cuántas secuencias del resumen generado se encuentran en el resumen real, del total de las secuencias del resumen generado.\n",
    "\n",
    "Es importante considerar que no se está haciendo un resumen extractivo al uso (tradicionalmente se realizaría un resumen a partir de la noticia, \n",
    "y de ahí se extraerían las métricas). El estilo de escritura y los términos usados en eventos y noticias son bastante diferentes,\n",
    "por lo que las métricas tradicionales obtenidas no serán demasiado altas. Nos interesa la comparación entre técnicas propuestas."
   ]
  },
  {
   "cell_type": "code",
   "execution_count": 23,
   "metadata": {},
   "outputs": [],
   "source": [
    "summaries_path = '{}summaries/key_events_summaries_2.csv'.format(CSV_DATA_PATH)\n",
    "articles_path = '{}articles_events.csv'.format(CSV_DATA_PATH)"
   ]
  },
  {
   "cell_type": "code",
   "execution_count": 12,
   "metadata": {},
   "outputs": [],
   "source": [
    "pd_summaries = pd.read_csv(summaries_path)\n",
    "pd_matches = pd.read_csv(articles_path)"
   ]
  },
  {
   "cell_type": "code",
   "execution_count": 39,
   "metadata": {},
   "outputs": [],
   "source": [
    "join_cols = ['json_file', 'url']\n",
    "match_cols = join_cols + ['article', 'events']\n",
    "sum_cols = join_cols + ['summary_events']"
   ]
  },
  {
   "cell_type": "code",
   "execution_count": 40,
   "metadata": {},
   "outputs": [],
   "source": [
    "pd_matches_sum = pd_matches[match_cols].merge(pd_summaries[sum_cols], on=join_cols, how='inner')"
   ]
  },
  {
   "cell_type": "code",
   "execution_count": 71,
   "metadata": {},
   "outputs": [
    {
     "data": {
      "text/html": [
       "<div>\n",
       "<style scoped>\n",
       "    .dataframe tbody tr th:only-of-type {\n",
       "        vertical-align: middle;\n",
       "    }\n",
       "\n",
       "    .dataframe tbody tr th {\n",
       "        vertical-align: top;\n",
       "    }\n",
       "\n",
       "    .dataframe thead th {\n",
       "        text-align: right;\n",
       "    }\n",
       "</style>\n",
       "<table border=\"1\" class=\"dataframe\">\n",
       "  <thead>\n",
       "    <tr style=\"text-align: right;\">\n",
       "      <th></th>\n",
       "      <th>json_file</th>\n",
       "      <th>url</th>\n",
       "      <th>article</th>\n",
       "      <th>events</th>\n",
       "      <th>summary_events</th>\n",
       "    </tr>\n",
       "  </thead>\n",
       "  <tbody>\n",
       "    <tr>\n",
       "      <th>0</th>\n",
       "      <td>italian_serie_a_2019_2020.json</td>\n",
       "      <td>https://www.bbc.com/sport/football/49871134</td>\n",
       "      <td>Mario Balotelli scored his first Serie A goal ...</td>\n",
       "      <td>['Attempt blocked. Mario Balotelli (Brescia) r...</td>\n",
       "      <td>['Goal!  Napoli 1, Brescia 0. Dries Mertens (N...</td>\n",
       "    </tr>\n",
       "    <tr>\n",
       "      <th>1</th>\n",
       "      <td>italian_serie_a_2019_2020.json</td>\n",
       "      <td>https://www.bbc.com/sport/football/49873763</td>\n",
       "      <td>Fiorentina condemned AC Milan to a third conse...</td>\n",
       "      <td>['Foul by Nikola Milenkovic (Fiorentina).', 'R...</td>\n",
       "      <td>['Goal!  Milan 0, Fiorentina 1. Erick Pulgar (...</td>\n",
       "    </tr>\n",
       "    <tr>\n",
       "      <th>2</th>\n",
       "      <td>italian_serie_a_2019_2020.json</td>\n",
       "      <td>https://www.bbc.com/sport/football/49865134</td>\n",
       "      <td>Cristiano Ronaldo returned from injury with a ...</td>\n",
       "      <td>['Corner,  SPAL. Conceded by Matthijs de Ligt....</td>\n",
       "      <td>['Goal!  Juventus 1, SPAL 0. Miralem Pjanic (J...</td>\n",
       "    </tr>\n",
       "    <tr>\n",
       "      <th>3</th>\n",
       "      <td>italian_serie_a_2019_2020.json</td>\n",
       "      <td>https://www.bbc.com/sport/football/49866723</td>\n",
       "      <td>Alexis Sanchez scored and was sent off on his ...</td>\n",
       "      <td>['Offside, Inter Milan. Milan Skriniar tries a...</td>\n",
       "      <td>['Goal!  Sampdoria 0, Inter Milan 1. Stefano S...</td>\n",
       "    </tr>\n",
       "    <tr>\n",
       "      <th>4</th>\n",
       "      <td>italian_serie_a_2019_2020.json</td>\n",
       "      <td>https://www.bbc.com/sport/football/49832309</td>\n",
       "      <td>On-loan Manchester United defender Chris Small...</td>\n",
       "      <td>['Attempt missed. Alejandro Gómez (Atalanta) r...</td>\n",
       "      <td>['Goal!  Roma 0, Atalanta 1. Duván Zapata (Ata...</td>\n",
       "    </tr>\n",
       "    <tr>\n",
       "      <th>...</th>\n",
       "      <td>...</td>\n",
       "      <td>...</td>\n",
       "      <td>...</td>\n",
       "      <td>...</td>\n",
       "      <td>...</td>\n",
       "    </tr>\n",
       "    <tr>\n",
       "      <th>1674</th>\n",
       "      <td>mls_2019_2020.json</td>\n",
       "      <td>https://matchcenter.mlssoccer.com/matchcenter/...</td>\n",
       "      <td>The Week 19 matchup at Rio Tinto Stadium betwe...</td>\n",
       "      <td>['Foul by Raymon Gaddis (Philadelphia Union).'...</td>\n",
       "      <td>['VAR: Red Card. Referee decision on field sta...</td>\n",
       "    </tr>\n",
       "    <tr>\n",
       "      <th>1675</th>\n",
       "      <td>mls_2019_2020.json</td>\n",
       "      <td>https://matchcenter.mlssoccer.com/matchcenter/...</td>\n",
       "      <td>New York City FC extended its string of result...</td>\n",
       "      <td>['Corner,  New York City FC. Conceded by Zacha...</td>\n",
       "      <td>['VAR: Goal. Referee decision on field cancell...</td>\n",
       "    </tr>\n",
       "    <tr>\n",
       "      <th>1676</th>\n",
       "      <td>mls_2019_2020.json</td>\n",
       "      <td>https://matchcenter.mlssoccer.com/matchcenter/...</td>\n",
       "      <td>Try as they might, Orlando City just can't sol...</td>\n",
       "      <td>['Attempt missed. Dom Dwyer (Orlando City SC) ...</td>\n",
       "      <td>['VAR: Goal. Referee decision on field cancell...</td>\n",
       "    </tr>\n",
       "    <tr>\n",
       "      <th>1677</th>\n",
       "      <td>mls_2019_2020.json</td>\n",
       "      <td>https://matchcenter.mlssoccer.com/matchcenter/...</td>\n",
       "      <td>Diego Rossi scored his first MLS hat trick, Ca...</td>\n",
       "      <td>['Lucas Rodríguez (D.C. United) wins a free ki...</td>\n",
       "      <td>['VAR: Red Card.', 'VAR: Red Card. Referee dec...</td>\n",
       "    </tr>\n",
       "    <tr>\n",
       "      <th>1678</th>\n",
       "      <td>mls_2019_2020.json</td>\n",
       "      <td>https://matchcenter.mlssoccer.com/matchcenter/...</td>\n",
       "      <td>The New York Red Bulls nearly snatched a win f...</td>\n",
       "      <td>['Foul by Graham Zusi (Sporting Kansas City).'...</td>\n",
       "      <td>['VAR Decision: Card upgraded Luis Robles (New...</td>\n",
       "    </tr>\n",
       "  </tbody>\n",
       "</table>\n",
       "<p>1679 rows × 5 columns</p>\n",
       "</div>"
      ],
      "text/plain": [
       "                           json_file  \\\n",
       "0     italian_serie_a_2019_2020.json   \n",
       "1     italian_serie_a_2019_2020.json   \n",
       "2     italian_serie_a_2019_2020.json   \n",
       "3     italian_serie_a_2019_2020.json   \n",
       "4     italian_serie_a_2019_2020.json   \n",
       "...                              ...   \n",
       "1674              mls_2019_2020.json   \n",
       "1675              mls_2019_2020.json   \n",
       "1676              mls_2019_2020.json   \n",
       "1677              mls_2019_2020.json   \n",
       "1678              mls_2019_2020.json   \n",
       "\n",
       "                                                    url  \\\n",
       "0           https://www.bbc.com/sport/football/49871134   \n",
       "1           https://www.bbc.com/sport/football/49873763   \n",
       "2           https://www.bbc.com/sport/football/49865134   \n",
       "3           https://www.bbc.com/sport/football/49866723   \n",
       "4           https://www.bbc.com/sport/football/49832309   \n",
       "...                                                 ...   \n",
       "1674  https://matchcenter.mlssoccer.com/matchcenter/...   \n",
       "1675  https://matchcenter.mlssoccer.com/matchcenter/...   \n",
       "1676  https://matchcenter.mlssoccer.com/matchcenter/...   \n",
       "1677  https://matchcenter.mlssoccer.com/matchcenter/...   \n",
       "1678  https://matchcenter.mlssoccer.com/matchcenter/...   \n",
       "\n",
       "                                                article  \\\n",
       "0     Mario Balotelli scored his first Serie A goal ...   \n",
       "1     Fiorentina condemned AC Milan to a third conse...   \n",
       "2     Cristiano Ronaldo returned from injury with a ...   \n",
       "3     Alexis Sanchez scored and was sent off on his ...   \n",
       "4     On-loan Manchester United defender Chris Small...   \n",
       "...                                                 ...   \n",
       "1674  The Week 19 matchup at Rio Tinto Stadium betwe...   \n",
       "1675  New York City FC extended its string of result...   \n",
       "1676  Try as they might, Orlando City just can't sol...   \n",
       "1677  Diego Rossi scored his first MLS hat trick, Ca...   \n",
       "1678  The New York Red Bulls nearly snatched a win f...   \n",
       "\n",
       "                                                 events  \\\n",
       "0     ['Attempt blocked. Mario Balotelli (Brescia) r...   \n",
       "1     ['Foul by Nikola Milenkovic (Fiorentina).', 'R...   \n",
       "2     ['Corner,  SPAL. Conceded by Matthijs de Ligt....   \n",
       "3     ['Offside, Inter Milan. Milan Skriniar tries a...   \n",
       "4     ['Attempt missed. Alejandro Gómez (Atalanta) r...   \n",
       "...                                                 ...   \n",
       "1674  ['Foul by Raymon Gaddis (Philadelphia Union).'...   \n",
       "1675  ['Corner,  New York City FC. Conceded by Zacha...   \n",
       "1676  ['Attempt missed. Dom Dwyer (Orlando City SC) ...   \n",
       "1677  ['Lucas Rodríguez (D.C. United) wins a free ki...   \n",
       "1678  ['Foul by Graham Zusi (Sporting Kansas City).'...   \n",
       "\n",
       "                                         summary_events  \n",
       "0     ['Goal!  Napoli 1, Brescia 0. Dries Mertens (N...  \n",
       "1     ['Goal!  Milan 0, Fiorentina 1. Erick Pulgar (...  \n",
       "2     ['Goal!  Juventus 1, SPAL 0. Miralem Pjanic (J...  \n",
       "3     ['Goal!  Sampdoria 0, Inter Milan 1. Stefano S...  \n",
       "4     ['Goal!  Roma 0, Atalanta 1. Duván Zapata (Ata...  \n",
       "...                                                 ...  \n",
       "1674  ['VAR: Red Card. Referee decision on field sta...  \n",
       "1675  ['VAR: Goal. Referee decision on field cancell...  \n",
       "1676  ['VAR: Goal. Referee decision on field cancell...  \n",
       "1677  ['VAR: Red Card.', 'VAR: Red Card. Referee dec...  \n",
       "1678  ['VAR Decision: Card upgraded Luis Robles (New...  \n",
       "\n",
       "[1679 rows x 5 columns]"
      ]
     },
     "execution_count": 71,
     "metadata": {},
     "output_type": "execute_result"
    }
   ],
   "source": [
    "pd_matches_sum"
   ]
  },
  {
   "cell_type": "code",
   "execution_count": 49,
   "metadata": {},
   "outputs": [],
   "source": [
    "prueba = pd_matches_sum.iloc[0]"
   ]
  },
  {
   "cell_type": "code",
   "execution_count": 51,
   "metadata": {},
   "outputs": [
    {
     "data": {
      "text/plain": [
       "\"Mario Balotelli scored his first Serie A goal for 1,468 days but Napoli hung on to claim a narrow victory over Brescia at Stadio San Paolo.\\nDries Mertens opened the scoring with his fourth league goal of the season before Kostas Manolas headed in the second on the stroke of half-time. \\nBrescia rallied after the break but Sandro Tonali's stunning goal was ruled out by VAR for a foul in the build-up.\\nBalotelli headed home to set up a tense finale, but Napoli held on.\\nThe 29-year-old last found the net in Italy's top flight on 22 September 2015 in AC Milan's 3-2 win at Udinese, before spells at Nice and Marseille in France.\\nHe returned to Italy to join hometown club Brescia in August on a three-year deal.\\nThe result sees Napoli strengthen their grip on fourth place in Serie A, while Brescia remain 14th.\\nCarlo Ancelotti's side resume their Champions League campaign at Genk on Wednesday, 2 October (17:55 BST), before Brescia face Sassuolo in Serie A on 4 October (19:45).\\nElsewhere in the Italian top flight, Edin Dzeko scored a second-half winner as Roma won 1-0 at Lecce to move a point behind Napoli in fifth.\\nGoals from Sergej Milinkovic-Savic, Stefan Radu, Felipe Caicedo and Ciro Immobile saw Lazio cruise past Genoa 4-0 in the capital to go sixth. \\nWatford striker Stefano Okaka scored the winner as loan club Udinese beat Bologna 1-0, before the visitors' disappointing afternoon was compounded when Roberto Soriano was sent off in injury time.\\nAnd Davide Faraoni's equaliser cancelled out Joao Pedro's opener as Verona drew 1-1 at Cagliari. \""
      ]
     },
     "execution_count": 51,
     "metadata": {},
     "output_type": "execute_result"
    }
   ],
   "source": [
    "prueba['article']"
   ]
  },
  {
   "cell_type": "code",
   "execution_count": 55,
   "metadata": {},
   "outputs": [
    {
     "data": {
      "text/plain": [
       "\"['Attempt blocked. Mario Balotelli (Brescia) right footed shot from outside the box is blocked.', 'Corner,  Napoli. Conceded by Stefano Sabelli.', 'Attempt missed. Mario Balotelli (Brescia) left footed shot from the left side of the box misses to the right. Assisted by Nikolas Spalek.', 'Attempt saved. Mario Balotelli (Brescia) right footed shot from outside the box is saved in the bottom right corner. Assisted by Sandro Tonali.', 'Goal!  Napoli 1, Brescia 0. Dries Mertens (Napoli) right footed shot from the centre of the box to the bottom right corner. Assisted by José Callejón.', 'Corner,  Napoli. Conceded by Andrea Cistana.', 'Attempt saved. Fernando Llorente (Napoli) left footed shot from the centre of the box is saved in the bottom left corner. Assisted by Allan.', 'Corner,  Napoli. Conceded by Jesse Joronen.', 'Corner,  Napoli. Conceded by Andrea Cistana.', 'Attempt missed. Giovanni Di Lorenzo (Napoli) header from the centre of the box misses to the left. Assisted by José Callejón with a cross following a corner.', 'Hand ball by Kostas Manolas (Napoli).', 'GOAL CANCELLED BY VAR: Kostas Manolas (Napoli) scores but the goal is ruled out after a VAR review.', 'VAR Decision: No Goal  Napoli 1-0 Brescia.', 'Kostas Manolas (Napoli) is shown the yellow card for hand ball.', 'Attempt missed. José Callejón (Napoli) right footed shot from the right side of the box is too high.', 'Attempt saved. Faouzi Ghoulam (Napoli) right footed shot from outside the box is saved in the centre of the goal.', 'Mario Balotelli (Brescia) wins a free kick in the defensive half.', 'Foul by Giovanni Di Lorenzo (Napoli).', 'Hand ball by Faouzi Ghoulam (Napoli).', 'Attempt missed. Daniele Dessena (Brescia) right footed shot from outside the box is high and wide to the right. Assisted by Andrea Cistana with a headed pass.', 'Foul by Stefano Sabelli (Brescia).', 'Piotr Zielinski (Napoli) wins a free kick in the defensive half.', 'Stefano Sabelli (Brescia) is shown the yellow card for a bad foul.', 'Mario Balotelli (Brescia) wins a free kick in the defensive half.', 'Foul by Giovanni Di Lorenzo (Napoli).', 'Corner,  Brescia. Conceded by Faouzi Ghoulam.', 'Attempt blocked. Andrea Cistana (Brescia) header from the centre of the box is blocked. Assisted by Sandro Tonali with a cross.', 'Attempt blocked. Daniele Dessena (Brescia) header from the centre of the box is blocked.', 'Corner,  Brescia. Conceded by Kostas Manolas.', 'Attempt missed. Fernando Llorente (Napoli) header from the right side of the six yard box is close, but misses to the left. Assisted by Fabián Ruiz with a cross.', 'Attempt missed. Dries Mertens (Napoli) left footed shot from the left side of the six yard box is close, but misses to the left. Assisted by Fernando Llorente.', 'Attempt missed. Piotr Zielinski (Napoli) right footed shot from outside the box is close, but misses to the left. Assisted by Fabián Ruiz.', 'Foul by Nikolas Spalek (Brescia).', 'Fabián Ruiz (Napoli) wins a free kick in the attacking half.', 'Foul by Dimitri Bisoli (Brescia).', 'Faouzi Ghoulam (Napoli) wins a free kick on the left wing.', 'Attempt missed. Fabián Ruiz (Napoli) left footed shot from outside the box misses to the right.', 'Dimitri Bisoli (Brescia) wins a free kick on the right wing.', 'Foul by Allan (Napoli).', 'Foul by Nikolas Spalek (Brescia).', 'Faouzi Ghoulam (Napoli) wins a free kick in the defensive half.', 'Offside, Brescia. Alfredo Donnarumma tries a through ball, but Mario Balotelli is caught offside.', 'Corner,  Napoli. Conceded by Jhon Chancellor.', 'Goal!  Napoli 2, Brescia 0. Kostas Manolas (Napoli) header from the centre of the box to the bottom right corner. Assisted by Nikola Maksimovic with a headed pass following a corner.', 'First Half ends, Napoli 2, Brescia 0.', 'Second Half begins Napoli 2, Brescia 0.', 'Nikolas Spalek (Brescia) wins a free kick in the attacking half.', 'Foul by Allan (Napoli).', 'Attempt saved. Mario Balotelli (Brescia) right footed shot from outside the box is saved in the bottom right corner.', 'Offside, Brescia. Mario Balotelli tries a through ball, but Jhon Chancellor is caught offside.', 'Foul by Dimitri Bisoli (Brescia).', 'Nikola Maksimovic (Napoli) wins a free kick in the defensive half.', 'GOAL CANCELLED BY VAR: Sandro Tonali (Brescia) scores but the goal is ruled out after a VAR review.', 'VAR Decision: No Goal  Napoli 2-0 Brescia.', 'Foul by Andrea Cistana (Brescia).', 'Fernando Llorente (Napoli) wins a free kick on the left wing.', 'Attempt missed. José Callejón (Napoli) right footed shot from outside the box is high and wide to the right.', 'Stefano Sabelli (Brescia) wins a free kick on the right wing.', 'Foul by Piotr Zielinski (Napoli).', 'Attempt missed. Dimitri Bisoli (Brescia) header from the right side of the six yard box misses to the left. Assisted by Sandro Tonali with a cross following a set piece situation.', 'Attempt missed. Daniele Dessena (Brescia) header from the centre of the box misses to the right. Assisted by Dimitri Bisoli with a cross.', 'Attempt missed. Allan (Napoli) right footed shot from outside the box is too high. Assisted by José Callejón.', 'Attempt missed. Dries Mertens (Napoli) right footed shot from the right side of the box is close, but misses to the right. Assisted by Allan with a through ball.', 'Alfredo Donnarumma (Brescia) wins a free kick in the defensive half.', 'Foul by Faouzi Ghoulam (Napoli).', 'Corner,  Brescia. Conceded by Faouzi Ghoulam.', 'Corner,  Napoli. Conceded by Jhon Chancellor.', 'Attempt missed. Giovanni Di Lorenzo (Napoli) left footed shot from the centre of the box is high and wide to the left. Assisted by Nikola Maksimovic with a cross following a corner.', 'Substitution, Napoli. Sebastiano Luperto replaces Kostas Manolas.', 'Corner,  Brescia. Conceded by Nikola Maksimovic.', 'Goal!  Napoli 2, Brescia 1. Mario Balotelli (Brescia) header from the centre of the box to the top left corner. Assisted by Sandro Tonali with a cross following a corner.', 'Substitution, Brescia. Ales Mateju replaces Bruno Martella.', 'Attempt missed. Dries Mertens (Napoli) right footed shot from the right side of the box misses to the left. Assisted by Piotr Zielinski with a cross.', 'Substitution, Brescia. Rômulo replaces Daniele Dessena.', 'Substitution, Napoli. Eljif Elmas replaces Fernando Llorente.', 'Attempt missed. Mario Balotelli (Brescia) header from the centre of the box is high and wide to the left. Assisted by Stefano Sabelli with a cross.', 'Substitution, Napoli. Elseid Hysaj replaces Nikola Maksimovic because of an injury.', 'Rômulo (Brescia) wins a free kick in the defensive half.', 'Foul by Elseid Hysaj (Napoli).', 'Elseid Hysaj (Napoli) is shown the yellow card for a bad foul.', 'Foul by Alfredo Donnarumma (Brescia).', 'David Ospina (Napoli) wins a free kick in the defensive half.', 'Hand ball by Eljif Elmas (Napoli).', 'Attempt missed. Mario Balotelli (Brescia) right footed shot from the left side of the box misses to the right. Assisted by Sandro Tonali with a cross following a set piece situation.', 'Attempt blocked. Dimitri Bisoli (Brescia) header from the right side of the six yard box is blocked. Assisted by Mario Balotelli.', 'Corner,  Brescia. Conceded by Elseid Hysaj.', 'Foul by Ales Mateju (Brescia).', 'Dries Mertens (Napoli) wins a free kick in the defensive half.', 'Substitution, Brescia. Alessandro Matri replaces Nikolas Spalek.', 'Attempt missed. Alessandro Matri (Brescia) header from the centre of the box misses to the left. Assisted by Stefano Sabelli with a cross.', 'Andrea Cistana (Brescia) wins a free kick in the defensive half.', 'Foul by Dries Mertens (Napoli).', 'Attempt saved. Piotr Zielinski (Napoli) right footed shot from the centre of the box is saved in the centre of the goal. Assisted by Dries Mertens.', 'Sandro Tonali (Brescia) wins a free kick in the defensive half.', 'Foul by Eljif Elmas (Napoli).', 'Attempt blocked. Alfredo Donnarumma (Brescia) right footed shot from the right side of the box is blocked. Assisted by Mario Balotelli with a headed pass.', 'Corner,  Brescia. Conceded by Giovanni Di Lorenzo.', 'Attempt blocked. Alessandro Matri (Brescia) right footed shot from the left side of the box is blocked.', 'Attempt saved. Elseid Hysaj (Napoli) right footed shot from outside the box is saved in the top centre of the goal. Assisted by José Callejón.', 'Corner,  Brescia. Conceded by Giovanni Di Lorenzo.', 'Attempt saved. José Callejón (Napoli) left footed shot from the right side of the box is saved in the centre of the goal. Assisted by Piotr Zielinski.', 'Attempt blocked. Fabián Ruiz (Napoli) left footed shot from outside the box is blocked. Assisted by Elseid Hysaj.', 'Corner,  Napoli. Conceded by Ales Mateju.', 'Attempt missed. Eljif Elmas (Napoli) right footed shot from a difficult angle on the left misses to the right. Assisted by Dries Mertens following a corner.', 'Second Half ends, Napoli 2, Brescia 1.', 'Match ends, Napoli 2, Brescia 1.']\""
      ]
     },
     "execution_count": 55,
     "metadata": {},
     "output_type": "execute_result"
    }
   ],
   "source": [
    "prueba['events']"
   ]
  },
  {
   "cell_type": "code",
   "execution_count": 53,
   "metadata": {},
   "outputs": [
    {
     "data": {
      "text/plain": [
       "\"['Goal!  Napoli 1, Brescia 0. Dries Mertens (Napoli) right footed shot from the centre of the box to the bottom right corner. Assisted by José Callejón.', 'GOAL CANCELLED BY VAR: Kostas Manolas (Napoli) scores but the goal is ruled out after a VAR review.', 'VAR Decision: No Goal  Napoli 1-0 Brescia.', 'Goal!  Napoli 2, Brescia 0. Kostas Manolas (Napoli) header from the centre of the box to the bottom right corner. Assisted by Nikola Maksimovic with a headed pass following a corner.', 'GOAL CANCELLED BY VAR: Sandro Tonali (Brescia) scores but the goal is ruled out after a VAR review.', 'VAR Decision: No Goal  Napoli 2-0 Brescia.', 'Goal!  Napoli 2, Brescia 1. Mario Balotelli (Brescia) header from the centre of the box to the top left corner. Assisted by Sandro Tonali with a cross following a corner.']\""
      ]
     },
     "execution_count": 53,
     "metadata": {},
     "output_type": "execute_result"
    }
   ],
   "source": [
    "prueba['summary_events']"
   ]
  },
  {
   "cell_type": "code",
   "execution_count": null,
   "metadata": {},
   "outputs": [],
   "source": [
    "candidate = prueba['summary_events']"
   ]
  }
 ],
 "metadata": {
  "kernelspec": {
   "display_name": "Python 3",
   "language": "python",
   "name": "python3"
  },
  "language_info": {
   "codemirror_mode": {
    "name": "ipython",
    "version": 3
   },
   "file_extension": ".py",
   "mimetype": "text/x-python",
   "name": "python",
   "nbconvert_exporter": "python",
   "pygments_lexer": "ipython3",
   "version": "3.7.7"
  }
 },
 "nbformat": 4,
 "nbformat_minor": 4
}
