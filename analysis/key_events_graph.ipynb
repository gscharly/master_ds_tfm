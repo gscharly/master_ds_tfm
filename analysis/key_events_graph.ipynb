{
 "cells": [
  {
   "cell_type": "code",
   "execution_count": 3,
   "metadata": {},
   "outputs": [],
   "source": [
    "MAIN_PATH = \"/home/carlos/MasterDS/tfm\"\n",
    "JSON_DATA_PATH = '{}/data/json/'.format(MAIN_PATH)\n",
    "CSV_DATA_PATH = '{}/data/csv/'.format(MAIN_PATH)"
   ]
  },
  {
   "cell_type": "code",
   "execution_count": null,
   "metadata": {},
   "outputs": [],
   "source": [
    "import sys\n",
    "sys.path.insert(0, MAIN_PATH)"
   ]
  },
  {
   "cell_type": "code",
   "execution_count": 134,
   "metadata": {},
   "outputs": [
    {
     "name": "stdout",
     "output_type": "stream",
     "text": [
      "The autoreload extension is already loaded. To reload it, use:\n",
      "  %reload_ext autoreload\n"
     ]
    }
   ],
   "source": [
    "%load_ext autoreload\n",
    "%autoreload 2\n",
    "from scripts.text.key_events_graph import SemanticGraph, get_summary_from_text\n",
    "from scripts.text.article_text_processor import ArticleTextProcessor\n",
    "\n",
    "from scripts.conf import TEAMS\n",
    "\n",
    "%reload_ext autoreload"
   ]
  },
  {
   "cell_type": "markdown",
   "metadata": {},
   "source": [
    "# Extracción de eventos importantes usando grafos conceptuales"
   ]
  },
  {
   "cell_type": "markdown",
   "metadata": {},
   "source": [
    "El objetivo de este experimento es utilizar los eventos de los partidos para crear un grafo conceptual, y extraer a partir de este los eventos \n",
    "más importantes (atendiendo al grado de los nodos, que serán palabras/entidades nombradas/sujetos nominales)."
   ]
  },
  {
   "cell_type": "markdown",
   "metadata": {},
   "source": [
    "## Probando con eventos de un partido"
   ]
  },
  {
   "cell_type": "code",
   "execution_count": 6,
   "metadata": {},
   "outputs": [],
   "source": [
    "processor = ArticleTextProcessor()"
   ]
  },
  {
   "cell_type": "code",
   "execution_count": 7,
   "metadata": {},
   "outputs": [],
   "source": [
    "all_files = processor.load_json()"
   ]
  },
  {
   "cell_type": "code",
   "execution_count": 8,
   "metadata": {},
   "outputs": [],
   "source": [
    "season_file = 'premier_league_2019_2020.json'\n",
    "league_season_teams = TEAMS[season_file.split('.')[0]]"
   ]
  },
  {
   "cell_type": "code",
   "execution_count": 10,
   "metadata": {},
   "outputs": [],
   "source": [
    "match = all_files[season_file]['https://www.bbc.com/sport/football/49791610']"
   ]
  },
  {
   "cell_type": "code",
   "execution_count": 56,
   "metadata": {},
   "outputs": [],
   "source": [
    "event_list = match['events']"
   ]
  },
  {
   "cell_type": "code",
   "execution_count": 57,
   "metadata": {
    "collapsed": true,
    "jupyter": {
     "outputs_hidden": true
    }
   },
   "outputs": [
    {
     "data": {
      "text/plain": [
       "['Lineups are announced and players are warming up.',\n",
       " 'First Half begins.',\n",
       " 'Foul by Matteo Guendouzi (Arsenal).',\n",
       " 'Scott McTominay (Manchester United) wins a free kick in the defensive half.',\n",
       " 'Granit Xhaka (Arsenal) wins a free kick in the defensive half.',\n",
       " 'Foul by Jesse Lingard (Manchester United).',\n",
       " 'Corner,  Arsenal. Conceded by Axel Tuanzebe.',\n",
       " 'Hand ball by Bukayo Saka (Arsenal).',\n",
       " 'Corner,  Manchester United. Conceded by Calum Chambers.',\n",
       " 'Foul by Calum Chambers (Arsenal).',\n",
       " 'Daniel James (Manchester United) wins a free kick on the left wing.',\n",
       " 'Calum Chambers (Arsenal) is shown the yellow card for a bad foul.',\n",
       " 'Offside, Manchester United. Ashley Young tries a through ball, but Harry Maguire is caught offside.',\n",
       " 'Hand ball by Andreas Pereira (Manchester United).',\n",
       " 'Offside, Arsenal. Bernd Leno tries a through ball, but Bukayo Saka is caught offside.',\n",
       " 'Pierre-Emerick Aubameyang (Arsenal) wins a free kick on the left wing.',\n",
       " 'Foul by Paul Pogba (Manchester United).',\n",
       " 'Bukayo Saka (Arsenal) wins a free kick in the attacking half.',\n",
       " 'Foul by Jesse Lingard (Manchester United).',\n",
       " 'Matteo Guendouzi (Arsenal) wins a free kick in the defensive half.',\n",
       " 'Foul by Andreas Pereira (Manchester United).',\n",
       " 'Bukayo Saka (Arsenal) wins a free kick on the left wing.',\n",
       " 'Foul by Ashley Young (Manchester United).',\n",
       " 'Sokratis (Arsenal) wins a free kick in the defensive half.',\n",
       " 'Foul by Marcus Rashford (Manchester United).',\n",
       " 'Marcus Rashford (Manchester United) is shown the yellow card for a bad foul.',\n",
       " 'Foul by Lucas Torreira (Arsenal).',\n",
       " 'Axel Tuanzebe (Manchester United) wins a free kick in the defensive half.',\n",
       " 'Attempt saved. Andreas Pereira (Manchester United) left footed shot from the centre of the box is saved in the bottom right corner.',\n",
       " 'Attempt missed. Nicolas Pépé (Arsenal) left footed shot from outside the box is high and wide to the left. Assisted by Bukayo Saka.',\n",
       " 'Offside, Arsenal. Bukayo Saka tries a through ball, but Sead Kolasinac is caught offside.',\n",
       " 'Matteo Guendouzi (Arsenal) wins a free kick in the attacking half.',\n",
       " 'Foul by Andreas Pereira (Manchester United).',\n",
       " 'Andreas Pereira (Manchester United) is shown the yellow card for a bad foul.',\n",
       " 'Attempt saved. Nicolas Pépé (Arsenal) left footed shot from the centre of the box is saved in the bottom right corner. Assisted by Pierre-Emerick Aubameyang.',\n",
       " 'Attempt blocked. Paul Pogba (Manchester United) right footed shot from outside the box is blocked.',\n",
       " 'Foul by Nicolas Pépé (Arsenal).',\n",
       " 'Scott McTominay (Manchester United) wins a free kick in the attacking half.',\n",
       " 'Offside, Manchester United. Ashley Young tries a through ball, but Harry Maguire is caught offside.',\n",
       " 'Foul by Bukayo Saka (Arsenal).',\n",
       " 'Ashley Young (Manchester United) wins a free kick in the defensive half.',\n",
       " 'Matteo Guendouzi (Arsenal) wins a free kick in the defensive half.',\n",
       " 'Foul by Ashley Young (Manchester United).',\n",
       " 'Ashley Young (Manchester United) is shown the yellow card for a bad foul.',\n",
       " 'Attempt blocked. Marcus Rashford (Manchester United) left footed shot from the left side of the box is blocked. Assisted by Paul Pogba with a through ball.',\n",
       " 'Attempt blocked. Andreas Pereira (Manchester United) right footed shot from the right side of the box is blocked. Assisted by Jesse Lingard.',\n",
       " 'Corner,  Manchester United. Conceded by Sead Kolasinac.',\n",
       " 'Attempt saved. Bukayo Saka (Arsenal) left footed shot from the centre of the box is saved in the bottom right corner.',\n",
       " 'Attempt saved. Matteo Guendouzi (Arsenal) right footed shot from a difficult angle on the right is saved in the bottom right corner.',\n",
       " 'Corner,  Arsenal. Conceded by David de Gea.',\n",
       " 'Goal!  Manchester United 1, Arsenal 0. Scott McTominay (Manchester United) right footed shot from outside the box to the top left corner. Assisted by Marcus Rashford.',\n",
       " 'First Half ends, Manchester United 1, Arsenal 0.',\n",
       " 'Second Half begins Manchester United 1, Arsenal 0.',\n",
       " 'Corner,  Arsenal. Conceded by Axel Tuanzebe.',\n",
       " 'Attempt missed. Lucas Torreira (Arsenal) right footed shot from the centre of the box misses to the right. Assisted by Pierre-Emerick Aubameyang with a cross.',\n",
       " 'Corner,  Manchester United. Conceded by Sead Kolasinac.',\n",
       " 'Bukayo Saka (Arsenal) wins a free kick in the attacking half.',\n",
       " 'Foul by Scott McTominay (Manchester United).',\n",
       " 'Substitution, Arsenal. Dani Ceballos replaces Lucas Torreira.',\n",
       " 'Attempt blocked. David Luiz (Arsenal) right footed shot from outside the box is blocked.',\n",
       " 'Corner,  Arsenal. Conceded by Victor Lindelöf.',\n",
       " 'Corner,  Manchester United. Conceded by Matteo Guendouzi.',\n",
       " 'Attempt missed. Andreas Pereira (Manchester United) right footed shot from outside the box is too high. Assisted by Scott McTominay following a corner.',\n",
       " 'Goal!  Manchester United 1, Arsenal 1. Pierre-Emerick Aubameyang (Arsenal) left footed shot from the centre of the box to the centre of the goal. Assisted by Bukayo Saka with a through ball.Goal awarded following VAR Review.',\n",
       " 'VAR Decision: Goal  Manchester United 1-1 Arsenal (Pierre-Emerick Aubameyang).',\n",
       " 'Attempt blocked. Bukayo Saka (Arsenal) right footed shot from the centre of the box is blocked. Assisted by Calum Chambers.',\n",
       " 'Corner,  Arsenal. Conceded by Victor Lindelöf.',\n",
       " 'Offside, Arsenal. Granit Xhaka tries a through ball, but Pierre-Emerick Aubameyang is caught offside.',\n",
       " 'Attempt blocked. Daniel James (Manchester United) left footed shot from outside the box is blocked. Assisted by Andreas Pereira.',\n",
       " 'Matteo Guendouzi (Arsenal) wins a free kick in the defensive half.',\n",
       " 'Foul by Axel Tuanzebe (Manchester United).',\n",
       " 'Attempt blocked. Andreas Pereira (Manchester United) left footed shot from outside the box is blocked. Assisted by Marcus Rashford.',\n",
       " 'Attempt missed. Paul Pogba (Manchester United) right footed shot from outside the box is close, but misses to the right.',\n",
       " 'Matteo Guendouzi (Arsenal) wins a free kick in the defensive half.',\n",
       " 'Foul by Jesse Lingard (Manchester United).',\n",
       " 'Jesse Lingard (Manchester United) is shown the yellow card for a bad foul.',\n",
       " 'Corner,  Manchester United. Conceded by Sokratis.',\n",
       " 'Attempt missed. Scott McTominay (Manchester United) header from very close range is just a bit too high. Assisted by Ashley Young with a cross following a corner.',\n",
       " 'Attempt missed. Marcus Rashford (Manchester United) right footed shot from outside the box misses to the left. Assisted by Paul Pogba.',\n",
       " 'Foul by Granit Xhaka (Arsenal).',\n",
       " 'Scott McTominay (Manchester United) wins a free kick in the attacking half.',\n",
       " 'Corner,  Manchester United. Conceded by David Luiz.',\n",
       " 'Attempt saved. Harry Maguire (Manchester United) right footed shot from outside the box is saved in the top right corner. Assisted by Andreas Pereira.',\n",
       " 'Corner,  Manchester United. Conceded by Bernd Leno.',\n",
       " 'Bernd Leno (Arsenal) wins a free kick in the defensive half.',\n",
       " 'Foul by Harry Maguire (Manchester United).',\n",
       " 'Substitution, Manchester United. Fred replaces Jesse Lingard.',\n",
       " 'Substitution, Manchester United. Mason Greenwood replaces Andreas Pereira.',\n",
       " 'Substitution, Arsenal. Reiss Nelson replaces Nicolas Pépé.',\n",
       " 'Matteo Guendouzi (Arsenal) wins a free kick in the defensive half.',\n",
       " 'Foul by Fred (Manchester United).',\n",
       " 'Foul by Matteo Guendouzi (Arsenal).',\n",
       " 'Daniel James (Manchester United) wins a free kick in the defensive half.',\n",
       " 'Foul by Granit Xhaka (Arsenal).',\n",
       " 'Mason Greenwood (Manchester United) wins a free kick in the attacking half.',\n",
       " 'Granit Xhaka (Arsenal) is shown the yellow card.',\n",
       " 'Corner,  Manchester United. Conceded by Calum Chambers.',\n",
       " 'Attempt missed. Fred (Manchester United) right footed shot from outside the box is high and wide to the right following a corner.',\n",
       " 'Substitution, Arsenal. Joe Willock replaces Bukayo Saka.',\n",
       " 'Foul by Reiss Nelson (Arsenal).',\n",
       " 'Paul Pogba (Manchester United) wins a free kick in the defensive half.',\n",
       " 'Foul by Dani Ceballos (Arsenal).',\n",
       " 'Scott McTominay (Manchester United) wins a free kick on the right wing.',\n",
       " 'Bernd Leno (Arsenal) wins a free kick in the defensive half.',\n",
       " 'Foul by Marcus Rashford (Manchester United).',\n",
       " 'David Luiz (Arsenal) wins a free kick in the defensive half.',\n",
       " 'Foul by Marcus Rashford (Manchester United).',\n",
       " 'Offside, Arsenal. Joe Willock tries a through ball, but Pierre-Emerick Aubameyang is caught offside.',\n",
       " 'Corner,  Arsenal. Conceded by Axel Tuanzebe.',\n",
       " 'Corner,  Arsenal. Conceded by Axel Tuanzebe.',\n",
       " 'Attempt missed. Dani Ceballos (Arsenal) right footed shot from the centre of the box misses to the right. Assisted by Joe Willock following a fast break.',\n",
       " 'Foul by Calum Chambers (Arsenal).',\n",
       " 'Daniel James (Manchester United) wins a free kick on the left wing.',\n",
       " 'Attempt blocked. Scott McTominay (Manchester United) right footed shot from outside the box is blocked. Assisted by Ashley Young.',\n",
       " 'Foul by David Luiz (Arsenal).',\n",
       " 'Scott McTominay (Manchester United) wins a free kick in the attacking half.',\n",
       " 'Attempt saved. Marcus Rashford (Manchester United) right footed shot from outside the box is saved in the bottom right corner.',\n",
       " 'Attempt saved. Reiss Nelson (Arsenal) left footed shot from outside the box is saved in the bottom right corner. Assisted by Joe Willock.',\n",
       " 'Attempt missed. Mason Greenwood (Manchester United) right footed shot from outside the box misses to the left. Assisted by Fred.',\n",
       " 'Dani Ceballos (Arsenal) wins a free kick on the left wing.',\n",
       " 'Foul by Mason Greenwood (Manchester United).',\n",
       " 'Reiss Nelson (Arsenal) wins a free kick on the right wing.',\n",
       " 'Foul by Axel Tuanzebe (Manchester United).',\n",
       " 'Second Half ends, Manchester United 1, Arsenal 1.',\n",
       " 'Match ends, Manchester United 1, Arsenal 1.']"
      ]
     },
     "execution_count": 57,
     "metadata": {},
     "output_type": "execute_result"
    }
   ],
   "source": [
    "event_list"
   ]
  },
  {
   "cell_type": "code",
   "execution_count": 140,
   "metadata": {},
   "outputs": [
    {
     "name": "stdout",
     "output_type": "stream",
     "text": [
      "Hubs: [('Manchester United', 45), ('Arsenal', 40), ('attempt', 39), ('the box', 37), ('Bukayo Saka', 24), ('ball', 23), ('footed shot', 23), ('the centre', 23), ('Pierre-Emerick Aubameyang', 22), ('manchester united', 20)]\n",
      "Hubs with sentences: {'Manchester United': 54, 'Arsenal': 46, 'attempt': 24, 'the box': 20, 'Bukayo Saka': 12, 'ball': 8, 'footed shot': 9, 'the centre': 8, 'Pierre-Emerick Aubameyang': 7, 'manchester united': 5}\n",
      "The text has 125 sentences\n",
      "The semantic graph has 76 nodes\n",
      "The summary should have 62 sentences with a compression factor of 0.5\n",
      "There are 113 sentences in the 10 nodes with more degree\n",
      "Showing 62 sentences\n"
     ]
    },
    {
     "data": {
      "text/plain": [
       "'Foul by Matteo Guendouzi (Arsenal).\\nScott McTominay (Manchester United) wins a free kick in the defensive half.\\nGranit Xhaka (Arsenal) wins a free kick in the defensive half.\\nFoul by Jesse Lingard (Manchester United).\\nCorner,  Arsenal. Conceded by Axel Tuanzebe.\\nHand ball by Bukayo Saka (Arsenal).\\nCorner,  Manchester United. Conceded by Calum Chambers.\\nFoul by Calum Chambers (Arsenal).\\nDaniel James (Manchester United) wins a free kick on the left wing.\\nCalum Chambers (Arsenal) is shown the yellow card for a bad foul.\\nHand ball by Andreas Pereira (Manchester United).\\nPierre-Emerick Aubameyang (Arsenal) wins a free kick on the left wing.\\nFoul by Paul Pogba (Manchester United).\\nBukayo Saka (Arsenal) wins a free kick in the attacking half.\\nFoul by Jesse Lingard (Manchester United).\\nFoul by Andreas Pereira (Manchester United).\\nFoul by Ashley Young (Manchester United).\\nFoul by Marcus Rashford (Manchester United).\\nMarcus Rashford (Manchester United) is shown the yellow card for a bad foul.\\nAxel Tuanzebe (Manchester United) wins a free kick in the defensive half.\\nAttempt saved. Andreas Pereira (Manchester United) left footed shot from the centre of the box is saved in the bottom right corner.\\nFoul by Andreas Pereira (Manchester United).\\nAndreas Pereira (Manchester United) is shown the yellow card for a bad foul.\\nAttempt blocked. Paul Pogba (Manchester United) right footed shot from outside the box is blocked.\\nScott McTominay (Manchester United) wins a free kick in the attacking half.\\nAshley Young (Manchester United) wins a free kick in the defensive half.\\nFoul by Ashley Young (Manchester United).\\nAshley Young (Manchester United) is shown the yellow card for a bad foul.\\nAttempt blocked. Marcus Rashford (Manchester United) left footed shot from the left side of the box is blocked. Assisted by Paul Pogba with a through ball.\\nAttempt blocked. Andreas Pereira (Manchester United) right footed shot from the right side of the box is blocked. Assisted by Jesse Lingard.\\nCorner,  Manchester United. Conceded by Sead Kolasinac.\\nGoal!  Manchester United 1, Arsenal 0. Scott McTominay (Manchester United) right footed shot from outside the box to the top left corner. Assisted by Marcus Rashford.\\nCorner,  Manchester United. Conceded by Sead Kolasinac.\\nFoul by Scott McTominay (Manchester United).\\nCorner,  Manchester United. Conceded by Matteo Guendouzi.\\nAttempt missed. Andreas Pereira (Manchester United) right footed shot from outside the box is too high. Assisted by Scott McTominay following a corner.\\nAttempt blocked. Daniel James (Manchester United) left footed shot from outside the box is blocked. Assisted by Andreas Pereira.\\nAttempt blocked. Andreas Pereira (Manchester United) left footed shot from outside the box is blocked. Assisted by Marcus Rashford.\\nAttempt missed. Paul Pogba (Manchester United) right footed shot from outside the box is close, but misses to the right.\\nFoul by Jesse Lingard (Manchester United).\\nJesse Lingard (Manchester United) is shown the yellow card for a bad foul.\\nCorner,  Manchester United. Conceded by Sokratis.\\nAttempt missed. Marcus Rashford (Manchester United) right footed shot from outside the box misses to the left. Assisted by Paul Pogba.\\nScott McTominay (Manchester United) wins a free kick in the attacking half.\\nCorner,  Manchester United. Conceded by David Luiz.\\nAttempt saved. Harry Maguire (Manchester United) right footed shot from outside the box is saved in the top right corner. Assisted by Andreas Pereira.\\nCorner,  Manchester United. Conceded by Bernd Leno.\\nSubstitution, Manchester United. Mason Greenwood replaces Andreas Pereira.\\nDaniel James (Manchester United) wins a free kick in the defensive half.\\nMason Greenwood (Manchester United) wins a free kick in the attacking half.\\nCorner,  Manchester United. Conceded by Calum Chambers.\\nAttempt missed. Fred (Manchester United) right footed shot from outside the box is high and wide to the right following a corner.\\nPaul Pogba (Manchester United) wins a free kick in the defensive half.\\nScott McTominay (Manchester United) wins a free kick on the right wing.\\nFoul by Marcus Rashford (Manchester United).\\nFoul by Marcus Rashford (Manchester United).\\nDaniel James (Manchester United) wins a free kick on the left wing.\\nAttempt blocked. Scott McTominay (Manchester United) right footed shot from outside the box is blocked. Assisted by Ashley Young.\\nScott McTominay (Manchester United) wins a free kick in the attacking half.\\nAttempt saved. Marcus Rashford (Manchester United) right footed shot from outside the box is saved in the bottom right corner.\\nAttempt missed. Mason Greenwood (Manchester United) right footed shot from outside the box misses to the left. Assisted by Fred.\\nFoul by Mason Greenwood (Manchester United).'"
      ]
     },
     "execution_count": 140,
     "metadata": {},
     "output_type": "execute_result"
    }
   ],
   "source": [
    "get_summary_from_text(event_list, 10, 0.5)"
   ]
  },
  {
   "cell_type": "code",
   "execution_count": null,
   "metadata": {},
   "outputs": [],
   "source": []
  }
 ],
 "metadata": {
  "kernelspec": {
   "display_name": "Python 3",
   "language": "python",
   "name": "python3"
  },
  "language_info": {
   "codemirror_mode": {
    "name": "ipython",
    "version": 3
   },
   "file_extension": ".py",
   "mimetype": "text/x-python",
   "name": "python",
   "nbconvert_exporter": "python",
   "pygments_lexer": "ipython3",
   "version": "3.7.7"
  }
 },
 "nbformat": 4,
 "nbformat_minor": 4
}
