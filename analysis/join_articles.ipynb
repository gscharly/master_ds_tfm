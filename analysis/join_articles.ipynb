{
 "cells": [
  {
   "cell_type": "code",
   "execution_count": 65,
   "metadata": {},
   "outputs": [],
   "source": [
    "MAIN_PATH = \"/home/carlos/PycharmProjects/tfm\""
   ]
  },
  {
   "cell_type": "code",
   "execution_count": 66,
   "metadata": {},
   "outputs": [],
   "source": [
    "import sys\n",
    "sys.path.insert(0, MAIN_PATH)"
   ]
  },
  {
   "cell_type": "code",
   "execution_count": 67,
   "metadata": {},
   "outputs": [],
   "source": [
    "from scripts.conf import DATA_PATH"
   ]
  },
  {
   "cell_type": "code",
   "execution_count": 68,
   "metadata": {},
   "outputs": [
    {
     "name": "stdout",
     "output_type": "stream",
     "text": [
      "/home/carlos/PycharmProjects/tfm/data\n"
     ]
    }
   ],
   "source": [
    "print(DATA_PATH)"
   ]
  },
  {
   "cell_type": "code",
   "execution_count": 81,
   "metadata": {},
   "outputs": [],
   "source": [
    "pd_info = pd.read_csv('{}/csv/articles_events.csv'.format(DATA_PATH))"
   ]
  },
  {
   "cell_type": "code",
   "execution_count": 82,
   "metadata": {},
   "outputs": [
    {
     "data": {
      "text/html": [
       "<div>\n",
       "<style scoped>\n",
       "    .dataframe tbody tr th:only-of-type {\n",
       "        vertical-align: middle;\n",
       "    }\n",
       "\n",
       "    .dataframe tbody tr th {\n",
       "        vertical-align: top;\n",
       "    }\n",
       "\n",
       "    .dataframe thead th {\n",
       "        text-align: right;\n",
       "    }\n",
       "</style>\n",
       "<table border=\"1\" class=\"dataframe\">\n",
       "  <thead>\n",
       "    <tr style=\"text-align: right;\">\n",
       "      <th></th>\n",
       "      <th>json_file</th>\n",
       "      <th>url</th>\n",
       "      <th>article</th>\n",
       "      <th>events</th>\n",
       "      <th>league</th>\n",
       "      <th>season</th>\n",
       "    </tr>\n",
       "  </thead>\n",
       "  <tbody>\n",
       "    <tr>\n",
       "      <th>0</th>\n",
       "      <td>italian_serie_a_2019_2020.json</td>\n",
       "      <td>https://www.bbc.com/sport/football/49871134</td>\n",
       "      <td>Mario Balotelli scored his first Serie A goal ...</td>\n",
       "      <td>['Attempt blocked. Mario Balotelli (Brescia) r...</td>\n",
       "      <td>italian_serie_a</td>\n",
       "      <td>2019_2020</td>\n",
       "    </tr>\n",
       "    <tr>\n",
       "      <th>1</th>\n",
       "      <td>italian_serie_a_2019_2020.json</td>\n",
       "      <td>https://www.bbc.com/sport/football/49873763</td>\n",
       "      <td>Fiorentina condemned AC Milan to a third conse...</td>\n",
       "      <td>['Foul by Nikola Milenkovic (Fiorentina).', 'R...</td>\n",
       "      <td>italian_serie_a</td>\n",
       "      <td>2019_2020</td>\n",
       "    </tr>\n",
       "    <tr>\n",
       "      <th>2</th>\n",
       "      <td>italian_serie_a_2019_2020.json</td>\n",
       "      <td>https://www.bbc.com/sport/football/49865134</td>\n",
       "      <td>Cristiano Ronaldo returned from injury with a ...</td>\n",
       "      <td>['Corner,  SPAL. Conceded by Matthijs de Ligt....</td>\n",
       "      <td>italian_serie_a</td>\n",
       "      <td>2019_2020</td>\n",
       "    </tr>\n",
       "    <tr>\n",
       "      <th>3</th>\n",
       "      <td>italian_serie_a_2019_2020.json</td>\n",
       "      <td>https://www.bbc.com/sport/football/49866723</td>\n",
       "      <td>Alexis Sanchez scored and was sent off on his ...</td>\n",
       "      <td>['Offside, Inter Milan. Milan Skriniar tries a...</td>\n",
       "      <td>italian_serie_a</td>\n",
       "      <td>2019_2020</td>\n",
       "    </tr>\n",
       "    <tr>\n",
       "      <th>4</th>\n",
       "      <td>italian_serie_a_2019_2020.json</td>\n",
       "      <td>https://www.bbc.com/sport/football/49832309</td>\n",
       "      <td>On-loan Manchester United defender Chris Small...</td>\n",
       "      <td>['Attempt missed. Alejandro Gómez (Atalanta) r...</td>\n",
       "      <td>italian_serie_a</td>\n",
       "      <td>2019_2020</td>\n",
       "    </tr>\n",
       "    <tr>\n",
       "      <th>...</th>\n",
       "      <td>...</td>\n",
       "      <td>...</td>\n",
       "      <td>...</td>\n",
       "      <td>...</td>\n",
       "      <td>...</td>\n",
       "      <td>...</td>\n",
       "    </tr>\n",
       "    <tr>\n",
       "      <th>3859</th>\n",
       "      <td>mls_2019_2020.json</td>\n",
       "      <td>https://matchcenter.mlssoccer.com/matchcenter/...</td>\n",
       "      <td>In a wild game in which both teams finished a ...</td>\n",
       "      <td>['Carlos Vela (Los Angeles Football Club) wins...</td>\n",
       "      <td>mls</td>\n",
       "      <td>2019_2020</td>\n",
       "    </tr>\n",
       "    <tr>\n",
       "      <th>3860</th>\n",
       "      <td>mls_2019_2020.json</td>\n",
       "      <td>https://matchcenter.mlssoccer.com/matchcenter/...</td>\n",
       "      <td>Brenden Aaronson put the Philadelphia Union ah...</td>\n",
       "      <td>['Corner,  Philadelphia Union. Conceded by Jul...</td>\n",
       "      <td>mls</td>\n",
       "      <td>2019_2020</td>\n",
       "    </tr>\n",
       "    <tr>\n",
       "      <th>3861</th>\n",
       "      <td>mls_2019_2020.json</td>\n",
       "      <td>https://matchcenter.mlssoccer.com/matchcenter/...</td>\n",
       "      <td>Haiti rallied from an early deficit to score t...</td>\n",
       "      <td>['Foul by Duckens Nazon (Haiti).', 'Francisco ...</td>\n",
       "      <td>mls</td>\n",
       "      <td>2019_2020</td>\n",
       "    </tr>\n",
       "    <tr>\n",
       "      <th>3862</th>\n",
       "      <td>mls_2019_2020.json</td>\n",
       "      <td>https://matchcenter.mlssoccer.com/matchcenter/...</td>\n",
       "      <td>New York City FC, at long last, have their fir...</td>\n",
       "      <td>['Lucas Rodríguez (D.C. United) wins a free ki...</td>\n",
       "      <td>mls</td>\n",
       "      <td>2019_2020</td>\n",
       "    </tr>\n",
       "    <tr>\n",
       "      <th>3863</th>\n",
       "      <td>mls_2019_2020.json</td>\n",
       "      <td>https://matchcenter.mlssoccer.com/matchcenter/...</td>\n",
       "      <td>A moment of final-third quality proved elusive...</td>\n",
       "      <td>['Foul by Brandon Servania (FC Dallas).', 'Kyl...</td>\n",
       "      <td>mls</td>\n",
       "      <td>2019_2020</td>\n",
       "    </tr>\n",
       "  </tbody>\n",
       "</table>\n",
       "<p>3864 rows × 6 columns</p>\n",
       "</div>"
      ],
      "text/plain": [
       "                           json_file  \\\n",
       "0     italian_serie_a_2019_2020.json   \n",
       "1     italian_serie_a_2019_2020.json   \n",
       "2     italian_serie_a_2019_2020.json   \n",
       "3     italian_serie_a_2019_2020.json   \n",
       "4     italian_serie_a_2019_2020.json   \n",
       "...                              ...   \n",
       "3859              mls_2019_2020.json   \n",
       "3860              mls_2019_2020.json   \n",
       "3861              mls_2019_2020.json   \n",
       "3862              mls_2019_2020.json   \n",
       "3863              mls_2019_2020.json   \n",
       "\n",
       "                                                    url  \\\n",
       "0           https://www.bbc.com/sport/football/49871134   \n",
       "1           https://www.bbc.com/sport/football/49873763   \n",
       "2           https://www.bbc.com/sport/football/49865134   \n",
       "3           https://www.bbc.com/sport/football/49866723   \n",
       "4           https://www.bbc.com/sport/football/49832309   \n",
       "...                                                 ...   \n",
       "3859  https://matchcenter.mlssoccer.com/matchcenter/...   \n",
       "3860  https://matchcenter.mlssoccer.com/matchcenter/...   \n",
       "3861  https://matchcenter.mlssoccer.com/matchcenter/...   \n",
       "3862  https://matchcenter.mlssoccer.com/matchcenter/...   \n",
       "3863  https://matchcenter.mlssoccer.com/matchcenter/...   \n",
       "\n",
       "                                                article  \\\n",
       "0     Mario Balotelli scored his first Serie A goal ...   \n",
       "1     Fiorentina condemned AC Milan to a third conse...   \n",
       "2     Cristiano Ronaldo returned from injury with a ...   \n",
       "3     Alexis Sanchez scored and was sent off on his ...   \n",
       "4     On-loan Manchester United defender Chris Small...   \n",
       "...                                                 ...   \n",
       "3859  In a wild game in which both teams finished a ...   \n",
       "3860  Brenden Aaronson put the Philadelphia Union ah...   \n",
       "3861  Haiti rallied from an early deficit to score t...   \n",
       "3862  New York City FC, at long last, have their fir...   \n",
       "3863  A moment of final-third quality proved elusive...   \n",
       "\n",
       "                                                 events           league  \\\n",
       "0     ['Attempt blocked. Mario Balotelli (Brescia) r...  italian_serie_a   \n",
       "1     ['Foul by Nikola Milenkovic (Fiorentina).', 'R...  italian_serie_a   \n",
       "2     ['Corner,  SPAL. Conceded by Matthijs de Ligt....  italian_serie_a   \n",
       "3     ['Offside, Inter Milan. Milan Skriniar tries a...  italian_serie_a   \n",
       "4     ['Attempt missed. Alejandro Gómez (Atalanta) r...  italian_serie_a   \n",
       "...                                                 ...              ...   \n",
       "3859  ['Carlos Vela (Los Angeles Football Club) wins...              mls   \n",
       "3860  ['Corner,  Philadelphia Union. Conceded by Jul...              mls   \n",
       "3861  ['Foul by Duckens Nazon (Haiti).', 'Francisco ...              mls   \n",
       "3862  ['Lucas Rodríguez (D.C. United) wins a free ki...              mls   \n",
       "3863  ['Foul by Brandon Servania (FC Dallas).', 'Kyl...              mls   \n",
       "\n",
       "         season  \n",
       "0     2019_2020  \n",
       "1     2019_2020  \n",
       "2     2019_2020  \n",
       "3     2019_2020  \n",
       "4     2019_2020  \n",
       "...         ...  \n",
       "3859  2019_2020  \n",
       "3860  2019_2020  \n",
       "3861  2019_2020  \n",
       "3862  2019_2020  \n",
       "3863  2019_2020  \n",
       "\n",
       "[3864 rows x 6 columns]"
      ]
     },
     "execution_count": 82,
     "metadata": {},
     "output_type": "execute_result"
    }
   ],
   "source": [
    "pd_info"
   ]
  },
  {
   "cell_type": "code",
   "execution_count": 71,
   "metadata": {},
   "outputs": [
    {
     "data": {
      "text/plain": [
       "array(['italian_serie_a', 'champions_league', 'mls', 'spanish_la_liga',\n",
       "       'german_bundesliga', 'premier_league', 'french_league_one'],\n",
       "      dtype=object)"
      ]
     },
     "execution_count": 71,
     "metadata": {},
     "output_type": "execute_result"
    }
   ],
   "source": [
    "pd_info.league.unique()"
   ]
  },
  {
   "cell_type": "code",
   "execution_count": 72,
   "metadata": {},
   "outputs": [
    {
     "data": {
      "text/plain": [
       "array(['2019_2020', '2018_2019', '2017_2018', '2016_2017'], dtype=object)"
      ]
     },
     "execution_count": 72,
     "metadata": {},
     "output_type": "execute_result"
    }
   ],
   "source": [
    "pd_info.season.unique()"
   ]
  },
  {
   "cell_type": "code",
   "execution_count": 73,
   "metadata": {},
   "outputs": [
    {
     "data": {
      "text/plain": [
       "league             season   \n",
       "champions_league   2019_2020     83\n",
       "french_league_one  2019_2020     24\n",
       "german_bundesliga  2017_2018     37\n",
       "                   2018_2019     36\n",
       "                   2019_2020     46\n",
       "italian_serie_a    2017_2018     56\n",
       "                   2018_2019     60\n",
       "                   2019_2020     64\n",
       "mls                2016_2017    504\n",
       "                   2017_2018    520\n",
       "                   2018_2019    504\n",
       "                   2019_2020    367\n",
       "premier_league     2016_2017    380\n",
       "                   2017_2018    380\n",
       "                   2018_2019    380\n",
       "                   2019_2020    238\n",
       "spanish_la_liga    2017_2018     71\n",
       "                   2018_2019     60\n",
       "                   2019_2020     54\n",
       "Name: url, dtype: int64"
      ]
     },
     "execution_count": 73,
     "metadata": {},
     "output_type": "execute_result"
    }
   ],
   "source": [
    "pd_info.groupby(['league', 'season']).count()['url']"
   ]
  }
 ],
 "metadata": {
  "kernelspec": {
   "display_name": "Python 3",
   "language": "python",
   "name": "python3"
  },
  "language_info": {
   "codemirror_mode": {
    "name": "ipython",
    "version": 3
   },
   "file_extension": ".py",
   "mimetype": "text/x-python",
   "name": "python",
   "nbconvert_exporter": "python",
   "pygments_lexer": "ipython3",
   "version": "3.6.10"
  }
 },
 "nbformat": 4,
 "nbformat_minor": 4
}
