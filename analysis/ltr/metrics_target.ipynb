{
 "cells": [
  {
   "cell_type": "code",
   "execution_count": 1,
   "metadata": {},
   "outputs": [],
   "source": [
    "MAIN_PATH = \"/home/carlos/MasterDS/tfm\"\n",
    "JSON_DATA_PATH = '{}/data/json/'.format(MAIN_PATH)\n",
    "CSV_DATA_PATH = '{}/data/csv/'.format(MAIN_PATH)"
   ]
  },
  {
   "cell_type": "code",
   "execution_count": 2,
   "metadata": {},
   "outputs": [],
   "source": [
    "import sys\n",
    "sys.path.insert(0, MAIN_PATH)"
   ]
  },
  {
   "cell_type": "code",
   "execution_count": 44,
   "metadata": {},
   "outputs": [
    {
     "name": "stdout",
     "output_type": "stream",
     "text": [
      "The autoreload extension is already loaded. To reload it, use:\n",
      "  %reload_ext autoreload\n"
     ]
    }
   ],
   "source": [
    "%load_ext autoreload\n",
    "%autoreload 2\n",
    "from scripts.text.article_text_processor import ArticleTextProcessor\n",
    "from scripts.text.basic_text_processor import BasicTextProcessor\n",
    "from scripts.extractive_summary.ltr.learn_to_rank import LearnToRank\n",
    "\n",
    "from scripts.conf import TEAMS\n",
    "\n",
    "from rouge import Rouge\n",
    "\n",
    "%reload_ext autoreload"
   ]
  },
  {
   "cell_type": "markdown",
   "metadata": {},
   "source": [
    "# Learn to Rank"
   ]
  },
  {
   "cell_type": "code",
   "execution_count": 4,
   "metadata": {},
   "outputs": [],
   "source": [
    "processor = ArticleTextProcessor()\n",
    "text_proc = BasicTextProcessor()"
   ]
  },
  {
   "cell_type": "code",
   "execution_count": 5,
   "metadata": {},
   "outputs": [],
   "source": [
    "all_files = processor.load_json()"
   ]
  },
  {
   "cell_type": "code",
   "execution_count": 6,
   "metadata": {},
   "outputs": [],
   "source": [
    "season_file = 'premier_league_2019_2020.json'\n",
    "league_season_teams = TEAMS[season_file.split('.')[0]]"
   ]
  },
  {
   "cell_type": "code",
   "execution_count": 64,
   "metadata": {},
   "outputs": [],
   "source": [
    "match_dict = all_files[season_file]['https://www.bbc.com/sport/football/49791610']\n",
    "events = match_dict['events']"
   ]
  },
  {
   "cell_type": "markdown",
   "metadata": {},
   "source": [
    "## ROUGE"
   ]
  },
  {
   "cell_type": "markdown",
   "metadata": {},
   "source": [
    "Utilizaremos esta métrica para asignar un score a cada par evento-frase artículo, para generar un target que indique qué evento tiene \n",
    "más opciones de aparecer en el resumen. Con este target se entrenará un modelo Learn to rank, de tal forma que se pueda construir un resumen \n",
    "con el conjunto de eventos más representativo de cada partido."
   ]
  },
  {
   "cell_type": "code",
   "execution_count": 61,
   "metadata": {},
   "outputs": [
    {
     "name": "stdout",
     "output_type": "stream",
     "text": [
      "Setting target metric to rouge\n"
     ]
    }
   ],
   "source": [
    "ltr = LearnToRank()"
   ]
  },
  {
   "cell_type": "code",
   "execution_count": 62,
   "metadata": {},
   "outputs": [],
   "source": [
    "event_article_list = ltr.create_match_targets(match_dict, verbose=False)"
   ]
  },
  {
   "cell_type": "code",
   "execution_count": 138,
   "metadata": {
    "collapsed": true,
    "jupyter": {
     "outputs_hidden": true
    }
   },
   "outputs": [
    {
     "data": {
      "text/plain": [
       "[{'event_ix': 0, 'sentence_ix': 0, 'score': 0.0},\n",
       " {'event_ix': 1, 'sentence_ix': 0, 'score': 0.0},\n",
       " {'event_ix': 2, 'sentence_ix': 13, 'score': 0.037037037037037035},\n",
       " {'event_ix': 3, 'sentence_ix': 32, 'score': 0.07142857142857142},\n",
       " {'event_ix': 4, 'sentence_ix': 32, 'score': 0.07142857142857142},\n",
       " {'event_ix': 5, 'sentence_ix': 0, 'score': 0.0},\n",
       " {'event_ix': 6, 'sentence_ix': 0, 'score': 0.0},\n",
       " {'event_ix': 7, 'sentence_ix': 0, 'score': 0.0},\n",
       " {'event_ix': 8, 'sentence_ix': 23, 'score': 0.05},\n",
       " {'event_ix': 9, 'sentence_ix': 0, 'score': 0.0},\n",
       " {'event_ix': 10, 'sentence_ix': 20, 'score': 0.0625},\n",
       " {'event_ix': 11, 'sentence_ix': 13, 'score': 0.037037037037037035},\n",
       " {'event_ix': 12, 'sentence_ix': 23, 'score': 0.05},\n",
       " {'event_ix': 13, 'sentence_ix': 0, 'score': 0.0},\n",
       " {'event_ix': 14, 'sentence_ix': 4, 'score': 0.034482758620689655},\n",
       " {'event_ix': 15, 'sentence_ix': 20, 'score': 0.0625},\n",
       " {'event_ix': 16, 'sentence_ix': 0, 'score': 0.0},\n",
       " {'event_ix': 17, 'sentence_ix': 32, 'score': 0.07142857142857142},\n",
       " {'event_ix': 18, 'sentence_ix': 0, 'score': 0.0},\n",
       " {'event_ix': 19, 'sentence_ix': 13, 'score': 0.07407407407407407},\n",
       " {'event_ix': 20, 'sentence_ix': 0, 'score': 0.0},\n",
       " {'event_ix': 21, 'sentence_ix': 20, 'score': 0.0625},\n",
       " {'event_ix': 22, 'sentence_ix': 0, 'score': 0.0},\n",
       " {'event_ix': 23, 'sentence_ix': 32, 'score': 0.07142857142857142},\n",
       " {'event_ix': 24, 'sentence_ix': 0, 'score': 0.0},\n",
       " {'event_ix': 25, 'sentence_ix': 13, 'score': 0.037037037037037035},\n",
       " {'event_ix': 26, 'sentence_ix': 0, 'score': 0.0},\n",
       " {'event_ix': 27, 'sentence_ix': 32, 'score': 0.07142857142857142},\n",
       " {'event_ix': 28, 'sentence_ix': 32, 'score': 0.14285714285714285},\n",
       " {'event_ix': 29, 'sentence_ix': 32, 'score': 0.07142857142857142},\n",
       " {'event_ix': 30, 'sentence_ix': 14, 'score': 0.05555555555555555},\n",
       " {'event_ix': 31, 'sentence_ix': 13, 'score': 0.07407407407407407},\n",
       " {'event_ix': 32, 'sentence_ix': 0, 'score': 0.0},\n",
       " {'event_ix': 33, 'sentence_ix': 13, 'score': 0.037037037037037035},\n",
       " {'event_ix': 34, 'sentence_ix': 32, 'score': 0.14285714285714285},\n",
       " {'event_ix': 35, 'sentence_ix': 32, 'score': 0.07142857142857142},\n",
       " {'event_ix': 36, 'sentence_ix': 0, 'score': 0.0},\n",
       " {'event_ix': 37, 'sentence_ix': 32, 'score': 0.07142857142857142},\n",
       " {'event_ix': 38, 'sentence_ix': 23, 'score': 0.05},\n",
       " {'event_ix': 39, 'sentence_ix': 0, 'score': 0.0},\n",
       " {'event_ix': 40, 'sentence_ix': 32, 'score': 0.07142857142857142},\n",
       " {'event_ix': 41, 'sentence_ix': 13, 'score': 0.07407407407407407},\n",
       " {'event_ix': 42, 'sentence_ix': 0, 'score': 0.0},\n",
       " {'event_ix': 43, 'sentence_ix': 13, 'score': 0.037037037037037035},\n",
       " {'event_ix': 44, 'sentence_ix': 1, 'score': 0.075},\n",
       " {'event_ix': 45, 'sentence_ix': 32, 'score': 0.07142857142857142},\n",
       " {'event_ix': 46, 'sentence_ix': 14, 'score': 0.05555555555555555},\n",
       " {'event_ix': 47, 'sentence_ix': 32, 'score': 0.14285714285714285},\n",
       " {'event_ix': 48, 'sentence_ix': 13, 'score': 0.07407407407407407},\n",
       " {'event_ix': 49, 'sentence_ix': 13, 'score': 0.07407407407407407},\n",
       " {'event_ix': 50, 'sentence_ix': 6, 'score': 0.14285714285714285},\n",
       " {'event_ix': 51, 'sentence_ix': 23, 'score': 0.05},\n",
       " {'event_ix': 52, 'sentence_ix': 23, 'score': 0.05},\n",
       " {'event_ix': 53, 'sentence_ix': 0, 'score': 0.0},\n",
       " {'event_ix': 54, 'sentence_ix': 1, 'score': 0.075},\n",
       " {'event_ix': 55, 'sentence_ix': 14, 'score': 0.05555555555555555},\n",
       " {'event_ix': 56, 'sentence_ix': 32, 'score': 0.07142857142857142},\n",
       " {'event_ix': 57, 'sentence_ix': 1, 'score': 0.025},\n",
       " {'event_ix': 58, 'sentence_ix': 0, 'score': 0.0},\n",
       " {'event_ix': 59, 'sentence_ix': 32, 'score': 0.07142857142857142},\n",
       " {'event_ix': 60, 'sentence_ix': 0, 'score': 0.0},\n",
       " {'event_ix': 61, 'sentence_ix': 23, 'score': 0.05},\n",
       " {'event_ix': 62, 'sentence_ix': 32, 'score': 0.07142857142857142},\n",
       " {'event_ix': 63, 'sentence_ix': 25, 'score': 0.13333333333333333},\n",
       " {'event_ix': 64, 'sentence_ix': 23, 'score': 0.05},\n",
       " {'event_ix': 65, 'sentence_ix': 32, 'score': 0.07142857142857142},\n",
       " {'event_ix': 66, 'sentence_ix': 0, 'score': 0.0},\n",
       " {'event_ix': 67, 'sentence_ix': 0, 'score': 0.0},\n",
       " {'event_ix': 68, 'sentence_ix': 32, 'score': 0.07142857142857142},\n",
       " {'event_ix': 69, 'sentence_ix': 13, 'score': 0.07407407407407407},\n",
       " {'event_ix': 70, 'sentence_ix': 0, 'score': 0.0},\n",
       " {'event_ix': 71, 'sentence_ix': 32, 'score': 0.07142857142857142},\n",
       " {'event_ix': 72, 'sentence_ix': 32, 'score': 0.07142857142857142},\n",
       " {'event_ix': 73, 'sentence_ix': 13, 'score': 0.07407407407407407},\n",
       " {'event_ix': 74, 'sentence_ix': 0, 'score': 0.0},\n",
       " {'event_ix': 75, 'sentence_ix': 13, 'score': 0.037037037037037035},\n",
       " {'event_ix': 76, 'sentence_ix': 23, 'score': 0.05},\n",
       " {'event_ix': 77, 'sentence_ix': 1, 'score': 0.05},\n",
       " {'event_ix': 78, 'sentence_ix': 32, 'score': 0.07142857142857142},\n",
       " {'event_ix': 79, 'sentence_ix': 9, 'score': 0.03225806451612903},\n",
       " {'event_ix': 80, 'sentence_ix': 32, 'score': 0.07142857142857142},\n",
       " {'event_ix': 81, 'sentence_ix': 23, 'score': 0.05},\n",
       " {'event_ix': 82, 'sentence_ix': 6, 'score': 0.14285714285714285},\n",
       " {'event_ix': 83, 'sentence_ix': 23, 'score': 0.05},\n",
       " {'event_ix': 84, 'sentence_ix': 32, 'score': 0.07142857142857142},\n",
       " {'event_ix': 85, 'sentence_ix': 3, 'score': 0.09523809523809523},\n",
       " {'event_ix': 86, 'sentence_ix': 23, 'score': 0.05},\n",
       " {'event_ix': 87, 'sentence_ix': 23, 'score': 0.05},\n",
       " {'event_ix': 88, 'sentence_ix': 17, 'score': 0.06666666666666667},\n",
       " {'event_ix': 89, 'sentence_ix': 13, 'score': 0.07407407407407407},\n",
       " {'event_ix': 90, 'sentence_ix': 0, 'score': 0.0},\n",
       " {'event_ix': 91, 'sentence_ix': 13, 'score': 0.037037037037037035},\n",
       " {'event_ix': 92, 'sentence_ix': 32, 'score': 0.07142857142857142},\n",
       " {'event_ix': 93, 'sentence_ix': 9, 'score': 0.03225806451612903},\n",
       " {'event_ix': 94, 'sentence_ix': 32, 'score': 0.07142857142857142},\n",
       " {'event_ix': 95, 'sentence_ix': 0, 'score': 0.0},\n",
       " {'event_ix': 96, 'sentence_ix': 23, 'score': 0.05},\n",
       " {'event_ix': 97, 'sentence_ix': 32, 'score': 0.07142857142857142},\n",
       " {'event_ix': 98, 'sentence_ix': 0, 'score': 0.0},\n",
       " {'event_ix': 99, 'sentence_ix': 17, 'score': 0.06666666666666667},\n",
       " {'event_ix': 100, 'sentence_ix': 32, 'score': 0.07142857142857142},\n",
       " {'event_ix': 101, 'sentence_ix': 0, 'score': 0.0},\n",
       " {'event_ix': 102, 'sentence_ix': 20, 'score': 0.0625},\n",
       " {'event_ix': 103, 'sentence_ix': 32, 'score': 0.07142857142857142},\n",
       " {'event_ix': 104, 'sentence_ix': 0, 'score': 0.0},\n",
       " {'event_ix': 105, 'sentence_ix': 32, 'score': 0.07142857142857142},\n",
       " {'event_ix': 106, 'sentence_ix': 0, 'score': 0.0},\n",
       " {'event_ix': 107, 'sentence_ix': 0, 'score': 0.0},\n",
       " {'event_ix': 108, 'sentence_ix': 0, 'score': 0.0},\n",
       " {'event_ix': 109, 'sentence_ix': 0, 'score': 0.0},\n",
       " {'event_ix': 110, 'sentence_ix': 32, 'score': 0.07142857142857142},\n",
       " {'event_ix': 111, 'sentence_ix': 0, 'score': 0.0},\n",
       " {'event_ix': 112, 'sentence_ix': 20, 'score': 0.0625},\n",
       " {'event_ix': 113, 'sentence_ix': 32, 'score': 0.07142857142857142},\n",
       " {'event_ix': 114, 'sentence_ix': 0, 'score': 0.0},\n",
       " {'event_ix': 115, 'sentence_ix': 32, 'score': 0.07142857142857142},\n",
       " {'event_ix': 116, 'sentence_ix': 32, 'score': 0.14285714285714285},\n",
       " {'event_ix': 117, 'sentence_ix': 32, 'score': 0.14285714285714285},\n",
       " {'event_ix': 118, 'sentence_ix': 32, 'score': 0.07142857142857142},\n",
       " {'event_ix': 119, 'sentence_ix': 20, 'score': 0.0625},\n",
       " {'event_ix': 120, 'sentence_ix': 0, 'score': 0.0},\n",
       " {'event_ix': 121, 'sentence_ix': 17, 'score': 0.06666666666666667},\n",
       " {'event_ix': 122, 'sentence_ix': 0, 'score': 0.0},\n",
       " {'event_ix': 123, 'sentence_ix': 23, 'score': 0.05},\n",
       " {'event_ix': 124, 'sentence_ix': 23, 'score': 0.05}]"
      ]
     },
     "execution_count": 138,
     "metadata": {},
     "output_type": "execute_result"
    }
   ],
   "source": [
    "event_article_list"
   ]
  },
  {
   "cell_type": "markdown",
   "metadata": {},
   "source": [
    "Al usar esta métrica, las correspondencias que se obtienen no tienen demasiado sentido..."
   ]
  },
  {
   "cell_type": "code",
   "execution_count": 63,
   "metadata": {
    "collapsed": true,
    "jupyter": {
     "outputs_hidden": true
    }
   },
   "outputs": [
    {
     "name": "stdout",
     "output_type": "stream",
     "text": [
      "Score: 0.2926829219750149\n",
      "Event: Attempt missed. Youri Tielemans (Leicester City) right footed shot from outside the box is too high. Assisted by Wilfred Ndidi with a headed pass.\n",
      "Nearest article sentence: On a shocking day for Newcastle, Wilfred Ndidi added a late fifth goal with a shot on the turn.\n",
      "\n",
      "Score: 0.275862064684899\n",
      "Event: Isaac Hayden (Newcastle United) is shown the red card.\n",
      "Nearest article sentence: Newcastle boss Steve Bruce on Isaac Hayden's red card: \"I've got no complaints, the red card was a poor challenge. \n",
      "\n",
      "Score: 0.2758620641141499\n",
      "Event: Wilfred Ndidi (Leicester City) wins a free kick in the attacking half.\n",
      "Nearest article sentence: On a shocking day for Newcastle, Wilfred Ndidi added a late fifth goal with a shot on the turn.\n",
      "\n",
      "Score: 0.2758620641141499\n",
      "Event: Wilfred Ndidi (Leicester City) wins a free kick in the defensive half.\n",
      "Nearest article sentence: On a shocking day for Newcastle, Wilfred Ndidi added a late fifth goal with a shot on the turn.\n",
      "\n",
      "Score: 0.24489795465222827\n",
      "Event: Goal!  Leicester City 5, Newcastle United 0. Wilfred Ndidi (Leicester City) right footed shot from the centre of the box to the bottom left corner. Assisted by Jonny Evans with a headed pass following a corner.\n",
      "Nearest article sentence: On a shocking day for Newcastle, Wilfred Ndidi added a late fifth goal with a shot on the turn.\n",
      "\n",
      "Score: 0.23255813475392115\n",
      "Event: Attempt missed. Youri Tielemans (Leicester City) left footed shot from a difficult angle on the left is close, but misses to the left. Assisted by Ayoze Pérez with a cross.\n",
      "Nearest article sentence: On a shocking day for Newcastle, Wilfred Ndidi added a late fifth goal with a shot on the turn.\n",
      "\n",
      "Score: 0.2307692257766273\n",
      "Event: Goal!  Leicester City 4, Newcastle United 0. Jamie Vardy (Leicester City) header from very close range to the centre of the goal. Assisted by Marc Albrighton.\n",
      "Nearest article sentence: Jamie Vardy scored twice as Leicester demonstrated potential to secure a top-four finish by recording their biggest Premier League win to move back up to third in the table.\n",
      "\n",
      "Score: 0.22222221728395072\n",
      "Event: Christian Atsu (Newcastle United) wins a free kick in the attacking half.\n",
      "Nearest article sentence: while Christian Atsu - one goal since December 2017 - lifted another attempt over the bar.\n",
      "\n",
      "Score: 0.2142857093877552\n",
      "Event: Yoshinori Muto (Newcastle United) wins a free kick in the defensive half.\n",
      "Nearest article sentence: With the game goalless, Hayden's shot from distance almost found Yoshinori Muto in a scoring position,\n",
      "\n",
      "Score: 0.2105263111357342\n",
      "Event: Corner,  Leicester City. Conceded by Christian Atsu.\n",
      "Nearest article sentence: Leicester City boss Brendan Rodgers: \"It was an outstanding performance and result.\n",
      "\n",
      "Score: 0.2105263111357342\n",
      "Event: Corner,  Leicester City. Conceded by Fabian Schär.\n",
      "Nearest article sentence: Leicester City boss Brendan Rodgers: \"It was an outstanding performance and result.\n",
      "\n",
      "Score: 0.2105263111357342\n",
      "Event: Corner,  Leicester City. Conceded by Emil Krafth.\n",
      "Nearest article sentence: Leicester City boss Brendan Rodgers: \"It was an outstanding performance and result.\n",
      "\n",
      "Score: 0.2105263111357342\n",
      "Event: Corner,  Leicester City. Conceded by Sean Longstaff.\n",
      "Nearest article sentence: Leicester City boss Brendan Rodgers: \"It was an outstanding performance and result.\n",
      "\n",
      "Score: 0.2105263111357342\n",
      "Event: Corner,  Leicester City. Conceded by Jamaal Lascelles.\n",
      "Nearest article sentence: Leicester City boss Brendan Rodgers: \"It was an outstanding performance and result.\n",
      "\n",
      "Score: 0.2105263111357342\n",
      "Event: Corner,  Leicester City. Conceded by Emil Krafth.\n",
      "Nearest article sentence: Leicester City boss Brendan Rodgers: \"It was an outstanding performance and result.\n",
      "\n",
      "Score: 0.2105263111357342\n",
      "Event: Corner,  Leicester City. Conceded by Fabian Schär.\n",
      "Nearest article sentence: Leicester City boss Brendan Rodgers: \"It was an outstanding performance and result.\n",
      "\n",
      "Score: 0.2105263111357342\n",
      "Event: Corner,  Leicester City. Conceded by Christian Atsu.\n",
      "Nearest article sentence: Leicester City boss Brendan Rodgers: \"It was an outstanding performance and result.\n",
      "\n",
      "Score: 0.2105263111357342\n",
      "Event: Corner,  Leicester City. Conceded by Miguel Almirón.\n",
      "Nearest article sentence: Leicester City boss Brendan Rodgers: \"It was an outstanding performance and result.\n",
      "\n",
      "Score: 0.21052631080332423\n",
      "Event: Goal!  Leicester City 2, Newcastle United 0. Jamie Vardy (Leicester City) left footed shot from the left side of the box to the bottom left corner. Assisted by Harvey Barnes following a fast break.\n",
      "Nearest article sentence: Jamie Vardy scored twice as Leicester demonstrated potential to secure a top-four finish by recording their biggest Premier League win to move back up to third in the table.\n",
      "\n",
      "Score: 0.20689654687277062\n",
      "Event: Dennis Praet (Leicester City) wins a free kick on the right wing.\n",
      "Nearest article sentence: On a shocking day for Newcastle, Wilfred Ndidi added a late fifth goal with a shot on the turn.\n",
      "\n",
      "Score: 0.20689654687277062\n",
      "Event: Harvey Barnes (Leicester City) wins a free kick on the left wing.\n",
      "Nearest article sentence: On a shocking day for Newcastle, Wilfred Ndidi added a late fifth goal with a shot on the turn.\n",
      "\n",
      "Score: 0.204081627705123\n",
      "Event: Attempt missed. Jamie Vardy (Leicester City) header from the centre of the box misses to the right. Assisted by Ben Chilwell with a cross.\n",
      "Nearest article sentence: Jamie Vardy scored twice as Leicester demonstrated potential to secure a top-four finish by recording their biggest Premier League win to move back up to third in the table.\n",
      "\n",
      "Score: 0.1999999952000001\n",
      "Event: Match ends, Leicester City 5, Newcastle United 0.\n",
      "Nearest article sentence: Leicester City boss Brendan Rodgers: \"It was an outstanding performance and result.\n",
      "\n",
      "Score: 0.1999999952000001\n",
      "Event: Substitution, Leicester City. Demarai Gray replaces Ayoze Pérez.\n",
      "Nearest article sentence: Leicester City boss Brendan Rodgers: \"It was an outstanding performance and result.\n",
      "\n",
      "Score: 0.1999999952000001\n",
      "Event: Substitution, Leicester City. Hamza Choudhury replaces Dennis Praet.\n",
      "Nearest article sentence: Leicester City boss Brendan Rodgers: \"It was an outstanding performance and result.\n",
      "\n",
      "Score: 0.1999999952000001\n",
      "Event: Substitution, Leicester City. Marc Albrighton replaces Harvey Barnes.\n",
      "Nearest article sentence: Leicester City boss Brendan Rodgers: \"It was an outstanding performance and result.\n",
      "\n",
      "Score: 0.1999999950500001\n",
      "Event: Joelinton (Newcastle United) wins a free kick in the defensive half.\n",
      "Nearest article sentence: \"In the second half the players showed a wonderful appetite.\n",
      "\n",
      "Score: 0.19230768749260366\n",
      "Event: Goal!  Leicester City 1, Newcastle United 0. Ricardo Pereira (Leicester City) left footed shot from outside the box to the bottom left corner.\n",
      "Nearest article sentence: Brendan Rodgers says it will be a \"big ask\" for Leicester City to finish in a Champions League spot - despite continuing their strong start to the season with a thumping win over Newcastle.\n",
      "\n",
      "Score: 0.19047618557823143\n",
      "Event: Second Half ends, Leicester City 5, Newcastle United 0.\n",
      "Nearest article sentence: Leicester City boss Brendan Rodgers: \"It was an outstanding performance and result.\n",
      "\n",
      "Score: 0.19047618557823143\n",
      "Event: Emil Krafth (Newcastle United) wins a free kick in the defensive half.\n",
      "Nearest article sentence: \"In the second half the players showed a wonderful appetite.\n",
      "\n",
      "Score: 0.19047618557823143\n",
      "Event: Paul Dummett (Newcastle United) wins a free kick in the defensive half.\n",
      "Nearest article sentence: \"In the second half the players showed a wonderful appetite.\n",
      "\n",
      "Score: 0.19047618557823143\n",
      "Event: Çaglar Söyüncü (Leicester City) wins a free kick in the defensive half.\n",
      "Nearest article sentence: \"In the second half the players showed a wonderful appetite.\n",
      "\n",
      "Score: 0.19047618557823143\n",
      "Event: Ki Sung-yueng (Newcastle United) wins a free kick in the defensive half.\n",
      "Nearest article sentence: \"In the second half the players showed a wonderful appetite.\n",
      "\n",
      "Score: 0.19047618557823143\n",
      "Event: Marc Albrighton (Leicester City) wins a free kick in the attacking half.\n",
      "Nearest article sentence: \"In the second half the players showed a wonderful appetite.\n",
      "\n",
      "Score: 0.19047618557823143\n",
      "Event: Ki Sung-yueng (Newcastle United) wins a free kick in the defensive half.\n",
      "Nearest article sentence: \"In the second half the players showed a wonderful appetite.\n",
      "\n",
      "Score: 0.19047618557823143\n",
      "Event: Emil Krafth (Newcastle United) wins a free kick in the defensive half.\n",
      "Nearest article sentence: \"In the second half the players showed a wonderful appetite.\n",
      "\n",
      "Score: 0.19047618557823143\n",
      "Event: Ricardo Pereira (Leicester City) wins a free kick in the defensive half.\n",
      "Nearest article sentence: \"In the second half the players showed a wonderful appetite.\n",
      "\n",
      "Score: 0.19047618557823143\n",
      "Event: Second Half begins Leicester City 1, Newcastle United 0.\n",
      "Nearest article sentence: Leicester City boss Brendan Rodgers: \"It was an outstanding performance and result.\n",
      "\n",
      "Score: 0.19047618557823143\n",
      "Event: First Half ends, Leicester City 1, Newcastle United 0.\n",
      "Nearest article sentence: Leicester City boss Brendan Rodgers: \"It was an outstanding performance and result.\n",
      "\n",
      "Score: 0.19047618557823143\n",
      "Event: Dennis Praet (Leicester City) wins a free kick in the defensive half.\n",
      "Nearest article sentence: \"In the second half the players showed a wonderful appetite.\n",
      "\n",
      "Score: 0.19047618557823143\n",
      "Event: Sean Longstaff (Newcastle United) wins a free kick in the attacking half.\n",
      "Nearest article sentence: \"In the second half the players showed a wonderful appetite.\n",
      "\n",
      "Score: 0.19047618557823143\n",
      "Event: Fabian Schär (Newcastle United) wins a free kick in the defensive half.\n",
      "Nearest article sentence: \"In the second half the players showed a wonderful appetite.\n",
      "\n",
      "Score: 0.19047618557823143\n",
      "Event: Miguel Almirón (Newcastle United) wins a free kick in the defensive half.\n",
      "Nearest article sentence: \"In the second half the players showed a wonderful appetite.\n",
      "\n",
      "Score: 0.19047618557823143\n",
      "Event: Ayoze Pérez (Leicester City) wins a free kick in the defensive half.\n",
      "Nearest article sentence: \"In the second half the players showed a wonderful appetite.\n",
      "\n",
      "Score: 0.1860465074094106\n",
      "Event: Fabian Schär (Newcastle United) is shown the yellow card for a bad foul.\n",
      "Nearest article sentence: Newcastle are anchored in the relegation zone after Leicester took full advantage of Isaac Hayden's straight red card for a terrible tackle on fellow midfielder Dennis Praet by running riot.\n",
      "\n",
      "Score: 0.1860465074094106\n",
      "Event: Jamie Vardy (Leicester City) is shown the yellow card for a bad foul.\n",
      "Nearest article sentence: Newcastle are anchored in the relegation zone after Leicester took full advantage of Isaac Hayden's straight red card for a terrible tackle on fellow midfielder Dennis Praet by running riot.\n",
      "\n",
      "Score: 0.1785714236734695\n",
      "Event: Attempt missed. Jamie Vardy (Leicester City) header from the centre of the box is too high. Assisted by Youri Tielemans with a cross following a corner.\n",
      "Nearest article sentence: Dummett's own goal added to Newcastle's woes yet Leicester were not done as Vardy was left unmarked to make it 4-0 with a close-range header before Ndidi piled on the embarrassment for the visitors.\n",
      "\n",
      "Score: 0.17391303962192828\n",
      "Event: Foul by Wilfred Ndidi (Leicester City).\n",
      "Nearest article sentence: On a shocking day for Newcastle, Wilfred Ndidi added a late fifth goal with a shot on the turn.\n",
      "\n",
      "Score: 0.17391303962192828\n",
      "Event: Foul by Wilfred Ndidi (Leicester City).\n",
      "Nearest article sentence: On a shocking day for Newcastle, Wilfred Ndidi added a late fifth goal with a shot on the turn.\n",
      "\n",
      "Score: 0.1739130384877128\n",
      "Event: Own Goal by Paul Dummett, Newcastle United.  Leicester City 3, Newcastle United 0.\n",
      "Nearest article sentence: Leicester City boss Brendan Rodgers: \"It was an outstanding performance and result.\n",
      "\n",
      "Score: 0.16666666222222234\n",
      "Event: Substitution, Newcastle United. Ki Sung-yueng replaces Yoshinori Muto.\n",
      "Nearest article sentence: With the game goalless, Hayden's shot from distance almost found Yoshinori Muto in a scoring position,\n",
      "\n",
      "Score: 0.1666666618055557\n",
      "Event: Attempt missed. Christian Atsu (Newcastle United) left footed shot from the left side of the box is too high. Assisted by Sean Longstaff.\n",
      "Nearest article sentence: while Christian Atsu - one goal since December 2017 - lifted another attempt over the bar.\n",
      "\n",
      "Score: 0.16216215725346983\n",
      "Event: Attempt saved. Ayoze Pérez (Leicester City) left footed shot from the centre of the box is saved in the centre of the goal. Assisted by Harvey Barnes.\n",
      "Nearest article sentence: With the game goalless, Hayden's shot from distance almost found Yoshinori Muto in a scoring position,\n",
      "\n",
      "Score: 0.1538461499112427\n",
      "Event: Lineups are announced and players are warming up.\n",
      "Nearest article sentence: The 2015-16 champions are three points clear of both Chelsea and Tottenham, who finished third and fourth respectively last season.\n",
      "\n",
      "Score: 0.1538461490072322\n",
      "Event: Attempt missed. Fabian Schär (Newcastle United) right footed shot from more than 40 yards on the right wing misses to the right following a fast break.\n",
      "Nearest article sentence: With the game goalless, Hayden's shot from distance almost found Yoshinori Muto in a scoring position,\n",
      "\n",
      "Score: 0.13333332845432116\n",
      "Event: Attempt blocked. Youri Tielemans (Leicester City) right footed shot from the right side of the box is blocked. Assisted by Ricardo Pereira.\n",
      "Nearest article sentence: Rejuvenated and full of energy, they have been transformed by the former Celtic manager who took over a team drained of confidence and starved of wins seven months ago.\n",
      "\n",
      "Score: 0.13333332833333353\n",
      "Event: Attempt blocked. Dennis Praet (Leicester City) right footed shot from the right side of the box is blocked.\n",
      "Nearest article sentence: Leicester produced a clinical performance and scored from all five of their shots on target.\n",
      "\n",
      "Score: 0.12765956957899524\n",
      "Event: Attempt missed. Isaac Hayden (Newcastle United) right footed shot from outside the box misses to the left. Assisted by Miguel Almirón.\n",
      "Nearest article sentence: Jamie Vardy scored twice as Leicester demonstrated potential to secure a top-four finish by recording their biggest Premier League win to move back up to third in the table.\n",
      "\n",
      "Score: 0.1199999950320002\n",
      "Event: Attempt missed. Harvey Barnes (Leicester City) right footed shot from outside the box is close, but misses the top right corner. Assisted by Jamie Vardy.\n",
      "Nearest article sentence: Jamie Vardy scored twice as Leicester demonstrated potential to secure a top-four finish by recording their biggest Premier League win to move back up to third in the table.\n",
      "\n",
      "Score: 0.11764705397923896\n",
      "Event: Substitution, Newcastle United. Andy Carroll replaces Joelinton.\n",
      "Nearest article sentence: It does not get any easier for Bruce or Newcastle.\n",
      "\n",
      "Score: 0.11764705384083066\n",
      "Event: Attempt blocked. Youri Tielemans (Leicester City) right footed shot from outside the box is blocked. Assisted by Marc Albrighton.\n",
      "Nearest article sentence: With the game goalless, Hayden's shot from distance almost found Yoshinori Muto in a scoring position,\n",
      "\n",
      "Score: 0.11428570938775531\n",
      "Event: Offside, Newcastle United. Fabian Schär tries a through ball, but Andy Carroll is caught offside.\n",
      "Nearest article sentence: Newcastle boss Steve Bruce on Isaac Hayden's red card: \"I've got no complaints, the red card was a poor challenge. \n",
      "\n",
      "Score: 0.1111111083333334\n",
      "Event: Foul by Dennis Praet (Leicester City).\n",
      "Nearest article sentence: Newcastle are anchored in the relegation zone after Leicester took full advantage of Isaac Hayden's straight red card for a terrible tackle on fellow midfielder Dennis Praet by running riot.\n",
      "\n",
      "Score: 0.11111110617283973\n",
      "Event: Substitution, Newcastle United. DeAndre Yedlin replaces Miguel Almirón.\n",
      "Nearest article sentence: It does not get any easier for Bruce or Newcastle.\n",
      "\n",
      "Score: 0.07692307381656818\n",
      "Event: Foul by Joelinton (Newcastle United).\n",
      "Nearest article sentence: Rodgers will have a spring in his step when he makes his first return to Anfield since being sacked by Liverpool in 2015.\n",
      "\n",
      "Score: 0.07692307337278123\n",
      "Event: Foul by Isaac Hayden (Newcastle United).\n",
      "Nearest article sentence: Newcastle boss Steve Bruce on Isaac Hayden's red card: \"I've got no complaints, the red card was a poor challenge. \n",
      "\n",
      "Score: 0.07407407061728412\n",
      "Event: Foul by Fabian Schär (Newcastle United).\n",
      "Nearest article sentence: Rodgers will have a spring in his step when he makes his first return to Anfield since being sacked by Liverpool in 2015.\n",
      "\n",
      "Score: 0.07407407061728412\n",
      "Event: Foul by Marc Albrighton (Leicester City).\n",
      "Nearest article sentence: Rodgers will have a spring in his step when he makes his first return to Anfield since being sacked by Liverpool in 2015.\n",
      "\n",
      "Score: 0.07407407061728412\n",
      "Event: Foul by Ayoze Pérez (Leicester City).\n",
      "Nearest article sentence: Rodgers will have a spring in his step when he makes his first return to Anfield since being sacked by Liverpool in 2015.\n",
      "\n",
      "Score: 0.07407407061728412\n",
      "Event: Foul by DeAndre Yedlin (Newcastle United).\n",
      "Nearest article sentence: Rodgers will have a spring in his step when he makes his first return to Anfield since being sacked by Liverpool in 2015.\n",
      "\n",
      "Score: 0.07407407061728412\n",
      "Event: Foul by Marc Albrighton (Leicester City).\n",
      "Nearest article sentence: Rodgers will have a spring in his step when he makes his first return to Anfield since being sacked by Liverpool in 2015.\n",
      "\n",
      "Score: 0.07407407061728412\n",
      "Event: Foul by Sean Longstaff (Newcastle United).\n",
      "Nearest article sentence: Rodgers will have a spring in his step when he makes his first return to Anfield since being sacked by Liverpool in 2015.\n",
      "\n",
      "Score: 0.07407407061728412\n",
      "Event: Foul by Harvey Barnes (Leicester City).\n",
      "Nearest article sentence: Rodgers will have a spring in his step when he makes his first return to Anfield since being sacked by Liverpool in 2015.\n",
      "\n",
      "Score: 0.07407407061728412\n",
      "Event: Foul by Sean Longstaff (Newcastle United).\n",
      "Nearest article sentence: Rodgers will have a spring in his step when he makes his first return to Anfield since being sacked by Liverpool in 2015.\n",
      "\n",
      "Score: 0.07407407061728412\n",
      "Event: Foul by Youri Tielemans (Leicester City).\n",
      "Nearest article sentence: Rodgers will have a spring in his step when he makes his first return to Anfield since being sacked by Liverpool in 2015.\n",
      "\n",
      "Score: 0.07407407061728412\n",
      "Event: Foul by Ricardo Pereira (Leicester City).\n",
      "Nearest article sentence: Rodgers will have a spring in his step when he makes his first return to Anfield since being sacked by Liverpool in 2015.\n",
      "\n",
      "Score: 0.07407407061728412\n",
      "Event: Foul by Sean Longstaff (Newcastle United).\n",
      "Nearest article sentence: Rodgers will have a spring in his step when he makes his first return to Anfield since being sacked by Liverpool in 2015.\n",
      "\n",
      "Score: 0.07407407061728412\n",
      "Event: Foul by Ricardo Pereira (Leicester City).\n",
      "Nearest article sentence: Rodgers will have a spring in his step when he makes his first return to Anfield since being sacked by Liverpool in 2015.\n",
      "\n",
      "Score: 0.07407407061728412\n",
      "Event: Foul by Emil Krafth (Newcastle United).\n",
      "Nearest article sentence: Rodgers will have a spring in his step when he makes his first return to Anfield since being sacked by Liverpool in 2015.\n",
      "\n",
      "Score: 0.07407407061728412\n",
      "Event: Foul by Ben Chilwell (Leicester City).\n",
      "Nearest article sentence: Rodgers will have a spring in his step when he makes his first return to Anfield since being sacked by Liverpool in 2015.\n",
      "\n",
      "Score: 0.07407407061728412\n",
      "Event: Foul by Fabian Schär (Newcastle United).\n",
      "Nearest article sentence: Rodgers will have a spring in his step when he makes his first return to Anfield since being sacked by Liverpool in 2015.\n",
      "\n",
      "Score: 0.07142856767857161\n",
      "Event: Hand ball by Ricardo Pereira (Leicester City).\n",
      "Nearest article sentence: Rodgers will have a spring in his step when he makes his first return to Anfield since being sacked by Liverpool in 2015.\n",
      "\n",
      "Score: 0.0\n",
      "Event: First Half begins.\n",
      "Nearest article sentence: Brendan Rodgers says it will be a \"big ask\" for Leicester City to finish in a Champions League spot - despite continuing their strong start to the season with a thumping win over Newcastle.\n",
      "\n"
     ]
    }
   ],
   "source": [
    "ltr.print_scores_info(match_dict, event_article_list)"
   ]
  },
  {
   "cell_type": "markdown",
   "metadata": {},
   "source": [
    "## Distancia coseno"
   ]
  },
  {
   "cell_type": "code",
   "execution_count": 65,
   "metadata": {},
   "outputs": [],
   "source": [
    "count_vec_kwargs = {'ngram_range': (1, 2), 'strip_accents': 'unicode'}"
   ]
  },
  {
   "cell_type": "code",
   "execution_count": 66,
   "metadata": {},
   "outputs": [
    {
     "name": "stdout",
     "output_type": "stream",
     "text": [
      "Setting target metric to cosine_tfidf\n"
     ]
    }
   ],
   "source": [
    "ltr = LearnToRank(target_metric = 'cosine_tfidf')"
   ]
  },
  {
   "cell_type": "code",
   "execution_count": 67,
   "metadata": {},
   "outputs": [],
   "source": [
    "event_article_list = ltr.create_match_targets(match_dict, verbose=False, league_season_team=league_season_teams, **count_vec_kwargs)"
   ]
  },
  {
   "cell_type": "code",
   "execution_count": 68,
   "metadata": {},
   "outputs": [
    {
     "name": "stdout",
     "output_type": "stream",
     "text": [
      "Score: 0.9362460709991904\n",
      "Event: Substitution, Arsenal. Joe Willock replaces Bukayo Saka.\n",
      "Nearest article sentence: Bukayo [Saka] is progressing well\n",
      "\n",
      "Score: 0.7961554627330942\n",
      "Event: Foul by Bukayo Saka (Arsenal).\n",
      "Nearest article sentence: Bukayo [Saka] is progressing well\n",
      "\n",
      "Score: 0.7961554627330942\n",
      "Event: Hand ball by Bukayo Saka (Arsenal).\n",
      "Nearest article sentence: Bukayo [Saka] is progressing well\n",
      "\n",
      "Score: 0.7382013036129462\n",
      "Event: Bukayo Saka (Arsenal) wins a free kick in the attacking half.\n",
      "Nearest article sentence: Bukayo [Saka] is progressing well\n",
      "\n",
      "Score: 0.7382013036129462\n",
      "Event: Bukayo Saka (Arsenal) wins a free kick in the attacking half.\n",
      "Nearest article sentence: Bukayo [Saka] is progressing well\n",
      "\n",
      "Score: 0.7045703405951826\n",
      "Event: Bukayo Saka (Arsenal) wins a free kick on the left wing.\n",
      "Nearest article sentence: Bukayo [Saka] is progressing well\n",
      "\n",
      "Score: 0.5884364770482859\n",
      "Event: Attempt blocked. Bukayo Saka (Arsenal) right footed shot from the centre of the box is blocked. Assisted by Calum Chambers.\n",
      "Nearest article sentence: Bukayo [Saka] is progressing well\n",
      "\n",
      "Score: 0.5555865861655722\n",
      "Event: Attempt saved. Bukayo Saka (Arsenal) left footed shot from the centre of the box is saved in the bottom right corner.\n",
      "Nearest article sentence: Bukayo [Saka] is progressing well\n",
      "\n",
      "Score: 0.5155993882251433\n",
      "Event: Offside, Arsenal. Bukayo Saka tries a through ball, but Sead Kolasinac is caught offside.\n",
      "Nearest article sentence: Bukayo [Saka] is progressing well\n",
      "\n",
      "Score: 0.4688053968014363\n",
      "Event: Attempt missed. Nicolas Pépé (Arsenal) left footed shot from outside the box is high and wide to the left. Assisted by Bukayo Saka.\n",
      "Nearest article sentence: Bukayo [Saka] is progressing well\n",
      "\n",
      "Score: 0.46447760930343146\n",
      "Event: Offside, Arsenal. Bernd Leno tries a through ball, but Bukayo Saka is caught offside.\n",
      "Nearest article sentence: Bukayo [Saka] is progressing well\n",
      "\n",
      "Score: 0.4047170496065947\n",
      "Event: Corner,  Arsenal. Conceded by David de Gea.\n",
      "Nearest article sentence: United had the edge on chances, although they were grateful to David de Gea for a fine double save from Saka and Matteo Guendouzi in the first half\n",
      "\n",
      "Score: 0.3725920554434802\n",
      "Event: Substitution, Arsenal. Dani Ceballos replaces Lucas Torreira.\n",
      "Nearest article sentence: The result takes Arsenal into the top four\n",
      "\n",
      "Score: 0.36941244756174607\n",
      "Event: Second Half ends, Manchester United 1, Arsenal 1.\n",
      "Nearest article sentence: \"We didn't get out of the blocks quick enough at the start of the second half.\n",
      "\n",
      "Score: 0.36941244756174607\n",
      "Event: Second Half begins Manchester United 1, Arsenal 0.\n",
      "Nearest article sentence: \"We didn't get out of the blocks quick enough at the start of the second half.\n",
      "\n",
      "Score: 0.36745367931262973\n",
      "Event: Pierre-Emerick Aubameyang (Arsenal) wins a free kick on the left wing.\n",
      "Nearest article sentence: Arsenal equalised just before the hour courtesy of Pierre-Emerick Aubameyang's cool finish.\n",
      "\n",
      "Score: 0.3501034783567649\n",
      "Event: Attempt missed. Scott McTominay (Manchester United) header from very close range is just a bit too high. Assisted by Ashley Young with a cross following a corner.\n",
      "Nearest article sentence: McTominay also headed a great chance well over from Ashley Young's corner but neither side could force a winner.\n",
      "\n",
      "Score: 0.34849137214111225\n",
      "Event: Substitution, Arsenal. Reiss Nelson replaces Nicolas Pépé.\n",
      "Nearest article sentence: signing Nicholas Pepe failed to last the course, being substituted for Reiss Nelson after 72 minutes.\n",
      "\n",
      "Score: 0.3481953448291149\n",
      "Event: Scott McTominay (Manchester United) wins a free kick in the attacking half.\n",
      "Nearest article sentence: In a disappointing encounter that was a pale shadow of their mighty clashes of years gone by, Scott McTominay gave Manchester United the lead at the end of an attritional first-half with a rising drive from the edge of the area.\n",
      "\n",
      "Score: 0.3481953448291149\n",
      "Event: Scott McTominay (Manchester United) wins a free kick in the attacking half.\n",
      "Nearest article sentence: In a disappointing encounter that was a pale shadow of their mighty clashes of years gone by, Scott McTominay gave Manchester United the lead at the end of an attritional first-half with a rising drive from the edge of the area.\n",
      "\n",
      "Score: 0.3481953448291149\n",
      "Event: Scott McTominay (Manchester United) wins a free kick in the attacking half.\n",
      "Nearest article sentence: In a disappointing encounter that was a pale shadow of their mighty clashes of years gone by, Scott McTominay gave Manchester United the lead at the end of an attritional first-half with a rising drive from the edge of the area.\n",
      "\n",
      "Score: 0.33753145896939146\n",
      "Event: Goal!  Manchester United 1, Arsenal 1. Pierre-Emerick Aubameyang (Arsenal) left footed shot from the centre of the box to the centre of the goal. Assisted by Bukayo Saka with a through ball.Goal awarded following VAR Review.\n",
      "Nearest article sentence: Bukayo [Saka] is progressing well\n",
      "\n",
      "Score: 0.3283901903143339\n",
      "Event: Match ends, Manchester United 1, Arsenal 1.\n",
      "Nearest article sentence: Manchester United and Arsenal played out a grim stalemate at Old Trafford that provided compelling evidence to illustrate just how far away from a Premier League challenge both clubs are.\n",
      "\n",
      "Score: 0.32585316946186765\n",
      "Event: Scott McTominay (Manchester United) wins a free kick in the defensive half.\n",
      "Nearest article sentence: In a disappointing encounter that was a pale shadow of their mighty clashes of years gone by, Scott McTominay gave Manchester United the lead at the end of an attritional first-half with a rising drive from the edge of the area.\n",
      "\n",
      "Score: 0.32450213074228335\n",
      "Event: Matteo Guendouzi (Arsenal) wins a free kick in the attacking half.\n",
      "Nearest article sentence: United had the edge on chances, although they were grateful to David de Gea for a fine double save from Saka and Matteo Guendouzi in the first half\n",
      "\n",
      "Score: 0.32145238047912217\n",
      "Event: Foul by Scott McTominay (Manchester United).\n",
      "Nearest article sentence: In a disappointing encounter that was a pale shadow of their mighty clashes of years gone by, Scott McTominay gave Manchester United the lead at the end of an attritional first-half with a rising drive from the edge of the area.\n",
      "\n",
      "Score: 0.30377124756780144\n",
      "Event: Bernd Leno (Arsenal) wins a free kick in the defensive half.\n",
      "Nearest article sentence: Goalkeeper Bernd Leno excelled for Arsenal with fine saves from Maguire and Marcus Rashford's late free-kick, while Bukayo Saka's goalbound shot crucially struck Victor Lindelof and flew over the top.\n",
      "\n",
      "Score: 0.30377124756780144\n",
      "Event: Bernd Leno (Arsenal) wins a free kick in the defensive half.\n",
      "Nearest article sentence: Goalkeeper Bernd Leno excelled for Arsenal with fine saves from Maguire and Marcus Rashford's late free-kick, while Bukayo Saka's goalbound shot crucially struck Victor Lindelof and flew over the top.\n",
      "\n",
      "Score: 0.3018908593732822\n",
      "Event: Substitution, Manchester United. Mason Greenwood replaces Andreas Pereira.\n",
      "Nearest article sentence: Manchester United manager Ole Gunnar Solskjaer: \"How many times have we have been 1-0 up and not got the second goal?\n",
      "\n",
      "Score: 0.3018908593732822\n",
      "Event: Substitution, Manchester United. Fred replaces Jesse Lingard.\n",
      "Nearest article sentence: Manchester United manager Ole Gunnar Solskjaer: \"How many times have we have been 1-0 up and not got the second goal?\n",
      "\n",
      "Score: 0.30078906085935236\n",
      "Event: Matteo Guendouzi (Arsenal) wins a free kick in the defensive half.\n",
      "Nearest article sentence: United had the edge on chances, although they were grateful to David de Gea for a fine double save from Saka and Matteo Guendouzi in the first half\n",
      "\n",
      "Score: 0.30078906085935236\n",
      "Event: Matteo Guendouzi (Arsenal) wins a free kick in the defensive half.\n",
      "Nearest article sentence: United had the edge on chances, although they were grateful to David de Gea for a fine double save from Saka and Matteo Guendouzi in the first half\n",
      "\n",
      "Score: 0.30078906085935236\n",
      "Event: Matteo Guendouzi (Arsenal) wins a free kick in the defensive half.\n",
      "Nearest article sentence: United had the edge on chances, although they were grateful to David de Gea for a fine double save from Saka and Matteo Guendouzi in the first half\n",
      "\n",
      "Score: 0.30078906085935236\n",
      "Event: Matteo Guendouzi (Arsenal) wins a free kick in the defensive half.\n",
      "Nearest article sentence: United had the edge on chances, although they were grateful to David de Gea for a fine double save from Saka and Matteo Guendouzi in the first half\n",
      "\n",
      "Score: 0.30078906085935236\n",
      "Event: Matteo Guendouzi (Arsenal) wins a free kick in the defensive half.\n",
      "Nearest article sentence: United had the edge on chances, although they were grateful to David de Gea for a fine double save from Saka and Matteo Guendouzi in the first half\n",
      "\n",
      "Score: 0.3002129477557336\n",
      "Event: Corner,  Manchester United. Conceded by Matteo Guendouzi.\n",
      "Nearest article sentence: United had the edge on chances, although they were grateful to David de Gea for a fine double save from Saka and Matteo Guendouzi in the first half\n",
      "\n",
      "Score: 0.29780566814793885\n",
      "Event: First Half ends, Manchester United 1, Arsenal 0.\n",
      "Nearest article sentence: Manchester United and Arsenal played out a grim stalemate at Old Trafford that provided compelling evidence to illustrate just how far away from a Premier League challenge both clubs are.\n",
      "\n",
      "Score: 0.29645403270879356\n",
      "Event: Ashley Young (Manchester United) wins a free kick in the defensive half.\n",
      "Nearest article sentence: Manchester United's captain was 34-year-old Ashley Young, pressed into defensive service by Aaron Wan-Bissaka's absence through injury, and Arsenal were led by Granit Xhaka, newly appointed and a divisive figure among supporters.\n",
      "\n",
      "Score: 0.2954977014598169\n",
      "Event: VAR Decision: Goal  Manchester United 1-1 Arsenal (Pierre-Emerick Aubameyang).\n",
      "Nearest article sentence: Arsenal equalised just before the hour courtesy of Pierre-Emerick Aubameyang's cool finish.\n",
      "\n",
      "Score: 0.29386000371346577\n",
      "Event: Scott McTominay (Manchester United) wins a free kick on the right wing.\n",
      "Nearest article sentence: In a disappointing encounter that was a pale shadow of their mighty clashes of years gone by, Scott McTominay gave Manchester United the lead at the end of an attritional first-half with a rising drive from the edge of the area.\n",
      "\n",
      "Score: 0.29186039674952935\n",
      "Event: Offside, Arsenal. Joe Willock tries a through ball, but Pierre-Emerick Aubameyang is caught offside.\n",
      "Nearest article sentence: Arsenal equalised just before the hour courtesy of Pierre-Emerick Aubameyang's cool finish.\n",
      "\n",
      "Score: 0.2911341956046687\n",
      "Event: Granit Xhaka (Arsenal) is shown the yellow card.\n",
      "Nearest article sentence: Manchester United's captain was 34-year-old Ashley Young, pressed into defensive service by Aaron Wan-Bissaka's absence through injury, and Arsenal were led by Granit Xhaka, newly appointed and a divisive figure among supporters.\n",
      "\n",
      "Score: 0.2891195819587654\n",
      "Event: Foul by Matteo Guendouzi (Arsenal).\n",
      "Nearest article sentence: United had the edge on chances, although they were grateful to David de Gea for a fine double save from Saka and Matteo Guendouzi in the first half\n",
      "\n",
      "Score: 0.2891195819587654\n",
      "Event: Foul by Matteo Guendouzi (Arsenal).\n",
      "Nearest article sentence: United had the edge on chances, although they were grateful to David de Gea for a fine double save from Saka and Matteo Guendouzi in the first half\n",
      "\n",
      "Score: 0.27702467054623786\n",
      "Event: Ashley Young (Manchester United) is shown the yellow card for a bad foul.\n",
      "Nearest article sentence: McTominay also headed a great chance well over from Ashley Young's corner but neither side could force a winner.\n",
      "\n",
      "Score: 0.27702467054623786\n",
      "Event: Foul by Ashley Young (Manchester United).\n",
      "Nearest article sentence: McTominay also headed a great chance well over from Ashley Young's corner but neither side could force a winner.\n",
      "\n",
      "Score: 0.27702467054623786\n",
      "Event: Foul by Ashley Young (Manchester United).\n",
      "Nearest article sentence: McTominay also headed a great chance well over from Ashley Young's corner but neither side could force a winner.\n",
      "\n",
      "Score: 0.27549815948035433\n",
      "Event: Granit Xhaka (Arsenal) wins a free kick in the defensive half.\n",
      "Nearest article sentence: Manchester United's captain was 34-year-old Ashley Young, pressed into defensive service by Aaron Wan-Bissaka's absence through injury, and Arsenal were led by Granit Xhaka, newly appointed and a divisive figure among supporters.\n",
      "\n",
      "Score: 0.2747963304310197\n",
      "Event: Corner,  Arsenal. Conceded by Victor Lindelöf.\n",
      "Nearest article sentence: Goalkeeper Bernd Leno excelled for Arsenal with fine saves from Maguire and Marcus Rashford's late free-kick, while Bukayo Saka's goalbound shot crucially struck Victor Lindelof and flew over the top.\n",
      "\n",
      "Score: 0.2747963304310197\n",
      "Event: Corner,  Arsenal. Conceded by Victor Lindelöf.\n",
      "Nearest article sentence: Goalkeeper Bernd Leno excelled for Arsenal with fine saves from Maguire and Marcus Rashford's late free-kick, while Bukayo Saka's goalbound shot crucially struck Victor Lindelof and flew over the top.\n",
      "\n",
      "Score: 0.26810378493758363\n",
      "Event: First Half begins.\n",
      "Nearest article sentence: \"We didn't get out of the blocks quick enough at the start of the second half.\n",
      "\n",
      "Score: 0.26664312054547834\n",
      "Event: Attempt saved. Nicolas Pépé (Arsenal) left footed shot from the centre of the box is saved in the bottom right corner. Assisted by Pierre-Emerick Aubameyang.\n",
      "Nearest article sentence: Arsenal equalised just before the hour courtesy of Pierre-Emerick Aubameyang's cool finish.\n",
      "\n",
      "Score: 0.2614579982118631\n",
      "Event: Attempt missed. Lucas Torreira (Arsenal) right footed shot from the centre of the box misses to the right. Assisted by Pierre-Emerick Aubameyang with a cross.\n",
      "Nearest article sentence: Arsenal equalised just before the hour courtesy of Pierre-Emerick Aubameyang's cool finish.\n",
      "\n",
      "Score: 0.2534232316941434\n",
      "Event: Foul by Granit Xhaka (Arsenal).\n",
      "Nearest article sentence: Manchester United's captain was 34-year-old Ashley Young, pressed into defensive service by Aaron Wan-Bissaka's absence through injury, and Arsenal were led by Granit Xhaka, newly appointed and a divisive figure among supporters.\n",
      "\n",
      "Score: 0.2534232316941434\n",
      "Event: Foul by Granit Xhaka (Arsenal).\n",
      "Nearest article sentence: Manchester United's captain was 34-year-old Ashley Young, pressed into defensive service by Aaron Wan-Bissaka's absence through injury, and Arsenal were led by Granit Xhaka, newly appointed and a divisive figure among supporters.\n",
      "\n",
      "Score: 0.25164804696113147\n",
      "Event: Offside, Arsenal. Granit Xhaka tries a through ball, but Pierre-Emerick Aubameyang is caught offside.\n",
      "Nearest article sentence: Arsenal equalised just before the hour courtesy of Pierre-Emerick Aubameyang's cool finish.\n",
      "\n",
      "Score: 0.24312761563157176\n",
      "Event: Attempt missed. Andreas Pereira (Manchester United) right footed shot from outside the box is too high. Assisted by Scott McTominay following a corner.\n",
      "Nearest article sentence: In a disappointing encounter that was a pale shadow of their mighty clashes of years gone by, Scott McTominay gave Manchester United the lead at the end of an attritional first-half with a rising drive from the edge of the area.\n",
      "\n",
      "Score: 0.24265393625326595\n",
      "Event: Attempt blocked. Scott McTominay (Manchester United) right footed shot from outside the box is blocked. Assisted by Ashley Young.\n",
      "Nearest article sentence: McTominay also headed a great chance well over from Ashley Young's corner but neither side could force a winner.\n",
      "\n",
      "Score: 0.2407663322728263\n",
      "Event: Corner,  Manchester United. Conceded by Calum Chambers.\n",
      "Nearest article sentence: Manchester United manager Ole Gunnar Solskjaer: \"How many times have we have been 1-0 up and not got the second goal?\n",
      "\n",
      "Score: 0.2407663322728263\n",
      "Event: Corner,  Manchester United. Conceded by Sokratis.\n",
      "Nearest article sentence: Manchester United manager Ole Gunnar Solskjaer: \"How many times have we have been 1-0 up and not got the second goal?\n",
      "\n",
      "Score: 0.2407663322728263\n",
      "Event: Corner,  Manchester United. Conceded by Calum Chambers.\n",
      "Nearest article sentence: Manchester United manager Ole Gunnar Solskjaer: \"How many times have we have been 1-0 up and not got the second goal?\n",
      "\n",
      "Score: 0.23611744708943325\n",
      "Event: Offside, Manchester United. Ashley Young tries a through ball, but Harry Maguire is caught offside.\n",
      "Nearest article sentence: It was originally ruled out for offside but the video assistant referee confirmed the striker had been played onside by Harry Maguire.\n",
      "\n",
      "Score: 0.23611744708943325\n",
      "Event: Offside, Manchester United. Ashley Young tries a through ball, but Harry Maguire is caught offside.\n",
      "Nearest article sentence: It was originally ruled out for offside but the video assistant referee confirmed the striker had been played onside by Harry Maguire.\n",
      "\n",
      "Score: 0.23181416901397436\n",
      "Event: Attempt blocked. Andreas Pereira (Manchester United) left footed shot from outside the box is blocked. Assisted by Marcus Rashford.\n",
      "Nearest article sentence: Goalkeeper Bernd Leno excelled for Arsenal with fine saves from Maguire and Marcus Rashford's late free-kick, while Bukayo Saka's goalbound shot crucially struck Victor Lindelof and flew over the top.\n",
      "\n",
      "Score: 0.2308057486457737\n",
      "Event: Foul by Axel Tuanzebe (Manchester United).\n",
      "Nearest article sentence: Manchester United manager Ole Gunnar Solskjaer: \"How many times have we have been 1-0 up and not got the second goal?\n",
      "\n",
      "Score: 0.2308057486457737\n",
      "Event: Foul by Mason Greenwood (Manchester United).\n",
      "Nearest article sentence: Manchester United manager Ole Gunnar Solskjaer: \"How many times have we have been 1-0 up and not got the second goal?\n",
      "\n",
      "Score: 0.2308057486457737\n",
      "Event: Foul by Fred (Manchester United).\n",
      "Nearest article sentence: Manchester United manager Ole Gunnar Solskjaer: \"How many times have we have been 1-0 up and not got the second goal?\n",
      "\n",
      "Score: 0.2308057486457737\n",
      "Event: Jesse Lingard (Manchester United) is shown the yellow card for a bad foul.\n",
      "Nearest article sentence: Manchester United manager Ole Gunnar Solskjaer: \"How many times have we have been 1-0 up and not got the second goal?\n",
      "\n",
      "Score: 0.2308057486457737\n",
      "Event: Foul by Jesse Lingard (Manchester United).\n",
      "Nearest article sentence: Manchester United manager Ole Gunnar Solskjaer: \"How many times have we have been 1-0 up and not got the second goal?\n",
      "\n",
      "Score: 0.2308057486457737\n",
      "Event: Foul by Axel Tuanzebe (Manchester United).\n",
      "Nearest article sentence: Manchester United manager Ole Gunnar Solskjaer: \"How many times have we have been 1-0 up and not got the second goal?\n",
      "\n",
      "Score: 0.2308057486457737\n",
      "Event: Andreas Pereira (Manchester United) is shown the yellow card for a bad foul.\n",
      "Nearest article sentence: Manchester United manager Ole Gunnar Solskjaer: \"How many times have we have been 1-0 up and not got the second goal?\n",
      "\n",
      "Score: 0.2308057486457737\n",
      "Event: Foul by Andreas Pereira (Manchester United).\n",
      "Nearest article sentence: Manchester United manager Ole Gunnar Solskjaer: \"How many times have we have been 1-0 up and not got the second goal?\n",
      "\n",
      "Score: 0.2308057486457737\n",
      "Event: Foul by Andreas Pereira (Manchester United).\n",
      "Nearest article sentence: Manchester United manager Ole Gunnar Solskjaer: \"How many times have we have been 1-0 up and not got the second goal?\n",
      "\n",
      "Score: 0.2308057486457737\n",
      "Event: Foul by Jesse Lingard (Manchester United).\n",
      "Nearest article sentence: Manchester United manager Ole Gunnar Solskjaer: \"How many times have we have been 1-0 up and not got the second goal?\n",
      "\n",
      "Score: 0.2308057486457737\n",
      "Event: Foul by Paul Pogba (Manchester United).\n",
      "Nearest article sentence: Manchester United manager Ole Gunnar Solskjaer: \"How many times have we have been 1-0 up and not got the second goal?\n",
      "\n",
      "Score: 0.2308057486457737\n",
      "Event: Hand ball by Andreas Pereira (Manchester United).\n",
      "Nearest article sentence: Manchester United manager Ole Gunnar Solskjaer: \"How many times have we have been 1-0 up and not got the second goal?\n",
      "\n",
      "Score: 0.2308057486457737\n",
      "Event: Foul by Jesse Lingard (Manchester United).\n",
      "Nearest article sentence: Manchester United manager Ole Gunnar Solskjaer: \"How many times have we have been 1-0 up and not got the second goal?\n",
      "\n",
      "Score: 0.22343968132194486\n",
      "Event: Goal!  Manchester United 1, Arsenal 0. Scott McTominay (Manchester United) right footed shot from outside the box to the top left corner. Assisted by Marcus Rashford.\n",
      "Nearest article sentence: In a disappointing encounter that was a pale shadow of their mighty clashes of years gone by, Scott McTominay gave Manchester United the lead at the end of an attritional first-half with a rising drive from the edge of the area.\n",
      "\n",
      "Score: 0.22081242607353005\n",
      "Event: Corner,  Manchester United. Conceded by Bernd Leno.\n",
      "Nearest article sentence: Goalkeeper Bernd Leno excelled for Arsenal with fine saves from Maguire and Marcus Rashford's late free-kick, while Bukayo Saka's goalbound shot crucially struck Victor Lindelof and flew over the top.\n",
      "\n",
      "Score: 0.21914643019696534\n",
      "Event: Attempt missed. Marcus Rashford (Manchester United) right footed shot from outside the box misses to the left. Assisted by Paul Pogba.\n",
      "Nearest article sentence: Goalkeeper Bernd Leno excelled for Arsenal with fine saves from Maguire and Marcus Rashford's late free-kick, while Bukayo Saka's goalbound shot crucially struck Victor Lindelof and flew over the top.\n",
      "\n",
      "Score: 0.216793541001361\n",
      "Event: Foul by Marcus Rashford (Manchester United).\n",
      "Nearest article sentence: Goalkeeper Bernd Leno excelled for Arsenal with fine saves from Maguire and Marcus Rashford's late free-kick, while Bukayo Saka's goalbound shot crucially struck Victor Lindelof and flew over the top.\n",
      "\n",
      "Score: 0.216793541001361\n",
      "Event: Foul by Marcus Rashford (Manchester United).\n",
      "Nearest article sentence: Goalkeeper Bernd Leno excelled for Arsenal with fine saves from Maguire and Marcus Rashford's late free-kick, while Bukayo Saka's goalbound shot crucially struck Victor Lindelof and flew over the top.\n",
      "\n",
      "Score: 0.216793541001361\n",
      "Event: Marcus Rashford (Manchester United) is shown the yellow card for a bad foul.\n",
      "Nearest article sentence: Goalkeeper Bernd Leno excelled for Arsenal with fine saves from Maguire and Marcus Rashford's late free-kick, while Bukayo Saka's goalbound shot crucially struck Victor Lindelof and flew over the top.\n",
      "\n",
      "Score: 0.216793541001361\n",
      "Event: Foul by Marcus Rashford (Manchester United).\n",
      "Nearest article sentence: Goalkeeper Bernd Leno excelled for Arsenal with fine saves from Maguire and Marcus Rashford's late free-kick, while Bukayo Saka's goalbound shot crucially struck Victor Lindelof and flew over the top.\n",
      "\n",
      "Score: 0.20743711091338976\n",
      "Event: Attempt saved. Matteo Guendouzi (Arsenal) right footed shot from a difficult angle on the right is saved in the bottom right corner.\n",
      "Nearest article sentence: This is a steep learning curve for us and we'll keep working hard and, with more experience, we'll make the right decisions.\n",
      "\n",
      "Score: 0.20686353762657825\n",
      "Event: Mason Greenwood (Manchester United) wins a free kick in the attacking half.\n",
      "Nearest article sentence: Manchester United manager Ole Gunnar Solskjaer: \"How many times have we have been 1-0 up and not got the second goal?\n",
      "\n",
      "Score: 0.2049489478814973\n",
      "Event: Corner,  Arsenal. Conceded by Axel Tuanzebe.\n",
      "Nearest article sentence: McTominay also headed a great chance well over from Ashley Young's corner but neither side could force a winner.\n",
      "\n",
      "Score: 0.2049489478814973\n",
      "Event: Corner,  Arsenal. Conceded by Axel Tuanzebe.\n",
      "Nearest article sentence: McTominay also headed a great chance well over from Ashley Young's corner but neither side could force a winner.\n",
      "\n",
      "Score: 0.2049489478814973\n",
      "Event: Corner,  Arsenal. Conceded by Axel Tuanzebe.\n",
      "Nearest article sentence: McTominay also headed a great chance well over from Ashley Young's corner but neither side could force a winner.\n",
      "\n",
      "Score: 0.2049489478814973\n",
      "Event: Corner,  Arsenal. Conceded by Axel Tuanzebe.\n",
      "Nearest article sentence: McTominay also headed a great chance well over from Ashley Young's corner but neither side could force a winner.\n",
      "\n",
      "Score: 0.20073270214839692\n",
      "Event: Attempt saved. Marcus Rashford (Manchester United) right footed shot from outside the box is saved in the bottom right corner.\n",
      "Nearest article sentence: Goalkeeper Bernd Leno excelled for Arsenal with fine saves from Maguire and Marcus Rashford's late free-kick, while Bukayo Saka's goalbound shot crucially struck Victor Lindelof and flew over the top.\n",
      "\n",
      "Score: 0.19979931975386506\n",
      "Event: Corner,  Manchester United. Conceded by David Luiz.\n",
      "Nearest article sentence: Manchester United manager Ole Gunnar Solskjaer: \"How many times have we have been 1-0 up and not got the second goal?\n",
      "\n",
      "Score: 0.19979931975386506\n",
      "Event: Corner,  Manchester United. Conceded by Sead Kolasinac.\n",
      "Nearest article sentence: Manchester United manager Ole Gunnar Solskjaer: \"How many times have we have been 1-0 up and not got the second goal?\n",
      "\n",
      "Score: 0.19979931975386506\n",
      "Event: Corner,  Manchester United. Conceded by Sead Kolasinac.\n",
      "Nearest article sentence: Manchester United manager Ole Gunnar Solskjaer: \"How many times have we have been 1-0 up and not got the second goal?\n",
      "\n",
      "Score: 0.19399632443905462\n",
      "Event: Daniel James (Manchester United) wins a free kick on the left wing.\n",
      "Nearest article sentence: Manchester United manager Ole Gunnar Solskjaer: \"How many times have we have been 1-0 up and not got the second goal?\n",
      "\n",
      "Score: 0.19399632443905462\n",
      "Event: Foul by Harry Maguire (Manchester United).\n",
      "Nearest article sentence: Manchester United manager Ole Gunnar Solskjaer: \"How many times have we have been 1-0 up and not got the second goal?\n",
      "\n",
      "Score: 0.19399632443905462\n",
      "Event: Daniel James (Manchester United) wins a free kick on the left wing.\n",
      "Nearest article sentence: Manchester United manager Ole Gunnar Solskjaer: \"How many times have we have been 1-0 up and not got the second goal?\n",
      "\n",
      "Score: 0.19208751909792715\n",
      "Event: Attempt missed. Dani Ceballos (Arsenal) right footed shot from the centre of the box misses to the right. Assisted by Joe Willock following a fast break.\n",
      "Nearest article sentence: This is a steep learning curve for us and we'll keep working hard and, with more experience, we'll make the right decisions.\n",
      "\n",
      "Score: 0.19098997789669872\n",
      "Event: Attempt missed. Paul Pogba (Manchester United) right footed shot from outside the box is close, but misses to the right.\n",
      "Nearest article sentence: This is a steep learning curve for us and we'll keep working hard and, with more experience, we'll make the right decisions.\n",
      "\n",
      "Score: 0.1908207097516779\n",
      "Event: Attempt blocked. Marcus Rashford (Manchester United) left footed shot from the left side of the box is blocked. Assisted by Paul Pogba with a through ball.\n",
      "Nearest article sentence: Goalkeeper Bernd Leno excelled for Arsenal with fine saves from Maguire and Marcus Rashford's late free-kick, while Bukayo Saka's goalbound shot crucially struck Victor Lindelof and flew over the top.\n",
      "\n",
      "Score: 0.18676178839268795\n",
      "Event: Paul Pogba (Manchester United) wins a free kick in the defensive half.\n",
      "Nearest article sentence: Manchester United's captain was 34-year-old Ashley Young, pressed into defensive service by Aaron Wan-Bissaka's absence through injury, and Arsenal were led by Granit Xhaka, newly appointed and a divisive figure among supporters.\n",
      "\n",
      "Score: 0.18676178839268795\n",
      "Event: Daniel James (Manchester United) wins a free kick in the defensive half.\n",
      "Nearest article sentence: Manchester United's captain was 34-year-old Ashley Young, pressed into defensive service by Aaron Wan-Bissaka's absence through injury, and Arsenal were led by Granit Xhaka, newly appointed and a divisive figure among supporters.\n",
      "\n",
      "Score: 0.18676178839268795\n",
      "Event: Axel Tuanzebe (Manchester United) wins a free kick in the defensive half.\n",
      "Nearest article sentence: Manchester United's captain was 34-year-old Ashley Young, pressed into defensive service by Aaron Wan-Bissaka's absence through injury, and Arsenal were led by Granit Xhaka, newly appointed and a divisive figure among supporters.\n",
      "\n",
      "Score: 0.1847880786874603\n",
      "Event: Foul by Reiss Nelson (Arsenal).\n",
      "Nearest article sentence: signing Nicholas Pepe failed to last the course, being substituted for Reiss Nelson after 72 minutes.\n",
      "\n",
      "Score: 0.18397284019480056\n",
      "Event: Foul by Calum Chambers (Arsenal).\n",
      "Nearest article sentence: The result takes Arsenal into the top four\n",
      "\n",
      "Score: 0.18397284019480056\n",
      "Event: Foul by Dani Ceballos (Arsenal).\n",
      "Nearest article sentence: The result takes Arsenal into the top four\n",
      "\n",
      "Score: 0.18397284019480056\n",
      "Event: Foul by Lucas Torreira (Arsenal).\n",
      "Nearest article sentence: The result takes Arsenal into the top four\n",
      "\n",
      "Score: 0.18397284019480056\n",
      "Event: Calum Chambers (Arsenal) is shown the yellow card for a bad foul.\n",
      "Nearest article sentence: The result takes Arsenal into the top four\n",
      "\n",
      "Score: 0.18397284019480056\n",
      "Event: Foul by Calum Chambers (Arsenal).\n",
      "Nearest article sentence: The result takes Arsenal into the top four\n",
      "\n",
      "Score: 0.1813874762476215\n",
      "Event: Attempt missed. Fred (Manchester United) right footed shot from outside the box is high and wide to the right following a corner.\n",
      "Nearest article sentence: This is a steep learning curve for us and we'll keep working hard and, with more experience, we'll make the right decisions.\n",
      "\n",
      "Score: 0.1792869621861412\n",
      "Event: Attempt saved. Reiss Nelson (Arsenal) left footed shot from outside the box is saved in the bottom right corner. Assisted by Joe Willock.\n",
      "Nearest article sentence: It was left to the lethal Aubameyang to provide the finishing touch for Arsenal, correctly assisted by VAR after technology showed he was clearly onside. \n",
      "\n",
      "Score: 0.17927121244133268\n",
      "Event: Attempt blocked. Andreas Pereira (Manchester United) right footed shot from the right side of the box is blocked. Assisted by Jesse Lingard.\n",
      "Nearest article sentence: This is a steep learning curve for us and we'll keep working hard and, with more experience, we'll make the right decisions.\n",
      "\n",
      "Score: 0.1788428338860124\n",
      "Event: Dani Ceballos (Arsenal) wins a free kick on the left wing.\n",
      "Nearest article sentence: It was left to the lethal Aubameyang to provide the finishing touch for Arsenal, correctly assisted by VAR after technology showed he was clearly onside. \n",
      "\n",
      "Score: 0.17726985913677026\n",
      "Event: Attempt blocked. Daniel James (Manchester United) left footed shot from outside the box is blocked. Assisted by Andreas Pereira.\n",
      "Nearest article sentence: It was left to the lethal Aubameyang to provide the finishing touch for Arsenal, correctly assisted by VAR after technology showed he was clearly onside. \n",
      "\n",
      "Score: 0.17057102477193664\n",
      "Event: Attempt blocked. Paul Pogba (Manchester United) right footed shot from outside the box is blocked.\n",
      "Nearest article sentence: Manchester United manager Ole Gunnar Solskjaer: \"How many times have we have been 1-0 up and not got the second goal?\n",
      "\n",
      "Score: 0.1651812915161508\n",
      "Event: David Luiz (Arsenal) wins a free kick in the defensive half.\n",
      "Nearest article sentence: United had the edge on chances, although they were grateful to David de Gea for a fine double save from Saka and Matteo Guendouzi in the first half\n",
      "\n",
      "Score: 0.162848782332399\n",
      "Event: Attempt missed. Mason Greenwood (Manchester United) right footed shot from outside the box misses to the left. Assisted by Fred.\n",
      "Nearest article sentence: It was left to the lethal Aubameyang to provide the finishing touch for Arsenal, correctly assisted by VAR after technology showed he was clearly onside. \n",
      "\n",
      "Score: 0.16265793580311533\n",
      "Event: Attempt saved. Harry Maguire (Manchester United) right footed shot from outside the box is saved in the top right corner. Assisted by Andreas Pereira.\n",
      "Nearest article sentence: This is a steep learning curve for us and we'll keep working hard and, with more experience, we'll make the right decisions.\n",
      "\n",
      "Score: 0.15541904972142745\n",
      "Event: Foul by Nicolas Pépé (Arsenal).\n",
      "Nearest article sentence: signing Nicholas Pepe failed to last the course, being substituted for Reiss Nelson after 72 minutes.\n",
      "\n",
      "Score: 0.15449581681343458\n",
      "Event: Reiss Nelson (Arsenal) wins a free kick on the right wing.\n",
      "Nearest article sentence: signing Nicholas Pepe failed to last the course, being substituted for Reiss Nelson after 72 minutes.\n",
      "\n",
      "Score: 0.1476659343322228\n",
      "Event: Attempt blocked. David Luiz (Arsenal) right footed shot from outside the box is blocked.\n",
      "Nearest article sentence: We can control moments with the ball better and take more chances in the box.\n",
      "\n",
      "Score: 0.14366767344639275\n",
      "Event: Attempt saved. Andreas Pereira (Manchester United) left footed shot from the centre of the box is saved in the bottom right corner.\n",
      "Nearest article sentence: Manchester United manager Ole Gunnar Solskjaer: \"How many times have we have been 1-0 up and not got the second goal?\n",
      "\n",
      "Score: 0.1388248397795974\n",
      "Event: Foul by David Luiz (Arsenal).\n",
      "Nearest article sentence: The result takes Arsenal into the top four\n",
      "\n",
      "Score: 0.13481434067650416\n",
      "Event: Sokratis (Arsenal) wins a free kick in the defensive half.\n",
      "Nearest article sentence: Goalkeeper Bernd Leno excelled for Arsenal with fine saves from Maguire and Marcus Rashford's late free-kick, while Bukayo Saka's goalbound shot crucially struck Victor Lindelof and flew over the top.\n",
      "\n",
      "Score: 0.0\n",
      "Event: Lineups are announced and players are warming up.\n",
      "Nearest article sentence: Manchester United and Arsenal played out a grim stalemate at Old Trafford that provided compelling evidence to illustrate just how far away from a Premier League challenge both clubs are.\n",
      "\n"
     ]
    }
   ],
   "source": [
    "ltr.print_scores_info(match_dict, event_article_list)"
   ]
  },
  {
   "cell_type": "markdown",
   "metadata": {},
   "source": [
    "__Examinando tfidf__"
   ]
  },
  {
   "cell_type": "code",
   "execution_count": 11,
   "metadata": {},
   "outputs": [],
   "source": [
    "from sklearn.feature_extraction.text import TfidfTransformer, CountVectorizer\n",
    "from sklearn.metrics.pairwise import cosine_similarity\n",
    "from sklearn.pipeline import Pipeline\n",
    "import pandas as pd"
   ]
  },
  {
   "cell_type": "code",
   "execution_count": 69,
   "metadata": {},
   "outputs": [],
   "source": [
    "proc_events, proc_article_sents = ltr._process_events_article(match_dict)"
   ]
  },
  {
   "cell_type": "code",
   "execution_count": 19,
   "metadata": {},
   "outputs": [
    {
     "data": {
      "text/plain": [
       "37"
      ]
     },
     "execution_count": 19,
     "metadata": {},
     "output_type": "execute_result"
    }
   ],
   "source": [
    "len(proc_article_sents)"
   ]
  },
  {
   "cell_type": "code",
   "execution_count": 20,
   "metadata": {},
   "outputs": [
    {
     "data": {
      "text/plain": [
       "125"
      ]
     },
     "execution_count": 20,
     "metadata": {},
     "output_type": "execute_result"
    }
   ],
   "source": [
    "len(proc_events)"
   ]
  },
  {
   "cell_type": "code",
   "execution_count": 30,
   "metadata": {},
   "outputs": [],
   "source": [
    "pipe = Pipeline([('count', CountVectorizer(**count_vec_kwargs)),\n",
    "                         ('tfid', TfidfTransformer())])"
   ]
  },
  {
   "cell_type": "code",
   "execution_count": 31,
   "metadata": {},
   "outputs": [],
   "source": [
    "X = pipe.fit_transform(proc_article_sents)"
   ]
  },
  {
   "cell_type": "code",
   "execution_count": 187,
   "metadata": {},
   "outputs": [
    {
     "data": {
      "text/plain": [
       "<37x521 sparse matrix of type '<class 'numpy.float64'>'\n",
       "\twith 618 stored elements in Compressed Sparse Row format>"
      ]
     },
     "execution_count": 187,
     "metadata": {},
     "output_type": "execute_result"
    }
   ],
   "source": [
    "X"
   ]
  },
  {
   "cell_type": "code",
   "execution_count": 32,
   "metadata": {},
   "outputs": [],
   "source": [
    "tfidf_df = pd.DataFrame(X.todense(), columns=pipe['count'].get_feature_names())"
   ]
  },
  {
   "cell_type": "code",
   "execution_count": 13,
   "metadata": {},
   "outputs": [],
   "source": [
    "article_sentences = ltr.text_proc.get_sentences(match_dict['article'])\n",
    "article_sentences_text = [str(sent).replace('\\n', '') for sent in article_sentences]"
   ]
  },
  {
   "cell_type": "code",
   "execution_count": 35,
   "metadata": {},
   "outputs": [
    {
     "data": {
      "text/plain": [
       "'In a disappointing encounter that was a pale shadow of their mighty clashes of years gone by, Scott McTominay gave Manchester United the lead at the end of an attritional first-half with a rising drive from the edge of the area.'"
      ]
     },
     "execution_count": 35,
     "metadata": {},
     "output_type": "execute_result"
    }
   ],
   "source": [
    "article_sentences_text[1]"
   ]
  },
  {
   "cell_type": "code",
   "execution_count": 36,
   "metadata": {},
   "outputs": [
    {
     "data": {
      "text/plain": [
       "'disappointing encounter shadow mighty years gone scott mctominay gave manchester united lead end attritional half rising drive edge'"
      ]
     },
     "execution_count": 36,
     "metadata": {},
     "output_type": "execute_result"
    }
   ],
   "source": [
    "proc_article_sents[1]"
   ]
  },
  {
   "cell_type": "code",
   "execution_count": 28,
   "metadata": {},
   "outputs": [
    {
     "data": {
      "text/plain": [
       "'Foul by Harry Maguire (Manchester United).'"
      ]
     },
     "execution_count": 28,
     "metadata": {},
     "output_type": "execute_result"
    }
   ],
   "source": [
    "match_dict['events'][85]"
   ]
  },
  {
   "cell_type": "code",
   "execution_count": 29,
   "metadata": {},
   "outputs": [
    {
     "data": {
      "text/plain": [
       "'foul harry manchester united'"
      ]
     },
     "execution_count": 29,
     "metadata": {},
     "output_type": "execute_result"
    }
   ],
   "source": [
    "proc_events[85]"
   ]
  },
  {
   "cell_type": "code",
   "execution_count": 37,
   "metadata": {},
   "outputs": [],
   "source": [
    "pd_df_sent = tfidf_df.loc[1]"
   ]
  },
  {
   "cell_type": "code",
   "execution_count": 38,
   "metadata": {
    "collapsed": true,
    "jupyter": {
     "outputs_hidden": true
    }
   },
   "outputs": [
    {
     "data": {
      "text/plain": [
       "years gone                 0.177416\n",
       "lead end                   0.177416\n",
       "attritional half           0.177416\n",
       "disappointing              0.177416\n",
       "disappointing encounter    0.177416\n",
       "drive edge                 0.177416\n",
       "encounter                  0.177416\n",
       "encounter shadow           0.177416\n",
       "end attritional            0.177416\n",
       "gave                       0.177416\n",
       "gave manchester            0.177416\n",
       "gone                       0.177416\n",
       "gone scott                 0.177416\n",
       "half rising                0.177416\n",
       "lead                       0.177416\n",
       "attritional                0.177416\n",
       "shadow                     0.177416\n",
       "united lead                0.177416\n",
       "shadow mighty              0.177416\n",
       "mctominay gave             0.177416\n",
       "mighty                     0.177416\n",
       "mighty years               0.177416\n",
       "rising                     0.177416\n",
       "rising drive               0.177416\n",
       "scott                      0.177416\n",
       "scott mctominay            0.177416\n",
       "years                      0.159178\n",
       "drive                      0.159178\n",
       "edge                       0.159178\n",
       "end                        0.146239\n",
       "mctominay                  0.146239\n",
       "half                       0.136202\n",
       "manchester united          0.128001\n",
       "manchester                 0.121068\n",
       "united                     0.115062\n",
       "Name: 1, dtype: float64"
      ]
     },
     "execution_count": 38,
     "metadata": {},
     "output_type": "execute_result"
    }
   ],
   "source": [
    "pd_df_sent[pd_df_sent>0].sort_values(ascending=False)"
   ]
  },
  {
   "cell_type": "code",
   "execution_count": 54,
   "metadata": {},
   "outputs": [
    {
     "data": {
      "text/plain": [
       "'Hand ball by Bukayo Saka (Arsenal).'"
      ]
     },
     "execution_count": 54,
     "metadata": {},
     "output_type": "execute_result"
    }
   ],
   "source": [
    "events[7]"
   ]
  },
  {
   "cell_type": "code",
   "execution_count": 55,
   "metadata": {},
   "outputs": [
    {
     "data": {
      "text/plain": [
       "'hand ball bukayo saka arsenal'"
      ]
     },
     "execution_count": 55,
     "metadata": {},
     "output_type": "execute_result"
    }
   ],
   "source": [
    "proc_events[7]"
   ]
  },
  {
   "cell_type": "code",
   "execution_count": 49,
   "metadata": {},
   "outputs": [],
   "source": [
    "X_events = pipe.transform(proc_events)"
   ]
  },
  {
   "cell_type": "code",
   "execution_count": 50,
   "metadata": {},
   "outputs": [],
   "source": [
    "tfidf_events_df = pd.DataFrame(X_events.todense(), columns=pipe['count'].get_feature_names())"
   ]
  },
  {
   "cell_type": "code",
   "execution_count": 52,
   "metadata": {},
   "outputs": [],
   "source": [
    "pd_df_sent_event = tfidf_events_df.loc[7]"
   ]
  },
  {
   "cell_type": "code",
   "execution_count": 53,
   "metadata": {},
   "outputs": [
    {
     "data": {
      "text/plain": [
       "ball           0.526185\n",
       "bukayo saka    0.472097\n",
       "bukayo         0.472097\n",
       "saka           0.433720\n",
       "arsenal        0.298773\n",
       "Name: 7, dtype: float64"
      ]
     },
     "execution_count": 53,
     "metadata": {},
     "output_type": "execute_result"
    }
   ],
   "source": [
    "pd_df_sent_event[pd_df_sent_event>0].sort_values(ascending=False)"
   ]
  },
  {
   "cell_type": "markdown",
   "metadata": {},
   "source": [
    "# WMD"
   ]
  },
  {
   "cell_type": "markdown",
   "metadata": {},
   "source": [
    "WMD (Word Movers Distance) es una distancia basada en la representación de palabras usando Word Embeddings. La principal ventaja de usar word embeddings\n",
    "es que la distancia puede ser pequeña, aunque no haya palabras en común (sinónimos)"
   ]
  },
  {
   "cell_type": "markdown",
   "metadata": {},
   "source": [
    "Vamos a probarlo primero en un ejemplo simple."
   ]
  },
  {
   "cell_type": "code",
   "execution_count": 73,
   "metadata": {},
   "outputs": [
    {
     "name": "stdout",
     "output_type": "stream",
     "text": [
      "[==================================================] 100.0% 1662.8/1662.8MB downloaded\n"
     ]
    }
   ],
   "source": [
    "import gensim.downloader as api\n",
    "model = api.load('word2vec-google-news-300')"
   ]
  },
  {
   "cell_type": "code",
   "execution_count": 74,
   "metadata": {},
   "outputs": [
    {
     "data": {
      "text/plain": [
       "'calum chambers arsenal shown yellow card bad foul'"
      ]
     },
     "execution_count": 74,
     "metadata": {},
     "output_type": "execute_result"
    }
   ],
   "source": [
    "proc_events[11]"
   ]
  },
  {
   "cell_type": "code",
   "execution_count": null,
   "metadata": {},
   "outputs": [],
   "source": []
  },
  {
   "cell_type": "code",
   "execution_count": null,
   "metadata": {},
   "outputs": [],
   "source": []
  },
  {
   "cell_type": "code",
   "execution_count": null,
   "metadata": {},
   "outputs": [],
   "source": []
  },
  {
   "cell_type": "code",
   "execution_count": 71,
   "metadata": {},
   "outputs": [
    {
     "data": {
      "text/plain": [
       "['Lineups are announced and players are warming up.',\n",
       " 'First Half begins.',\n",
       " 'Foul by Matteo Guendouzi (Arsenal).',\n",
       " 'Scott McTominay (Manchester United) wins a free kick in the defensive half.',\n",
       " 'Granit Xhaka (Arsenal) wins a free kick in the defensive half.',\n",
       " 'Foul by Jesse Lingard (Manchester United).',\n",
       " 'Corner,  Arsenal. Conceded by Axel Tuanzebe.',\n",
       " 'Hand ball by Bukayo Saka (Arsenal).',\n",
       " 'Corner,  Manchester United. Conceded by Calum Chambers.',\n",
       " 'Foul by Calum Chambers (Arsenal).',\n",
       " 'Daniel James (Manchester United) wins a free kick on the left wing.',\n",
       " 'Calum Chambers (Arsenal) is shown the yellow card for a bad foul.',\n",
       " 'Offside, Manchester United. Ashley Young tries a through ball, but Harry Maguire is caught offside.',\n",
       " 'Hand ball by Andreas Pereira (Manchester United).',\n",
       " 'Offside, Arsenal. Bernd Leno tries a through ball, but Bukayo Saka is caught offside.',\n",
       " 'Pierre-Emerick Aubameyang (Arsenal) wins a free kick on the left wing.',\n",
       " 'Foul by Paul Pogba (Manchester United).',\n",
       " 'Bukayo Saka (Arsenal) wins a free kick in the attacking half.',\n",
       " 'Foul by Jesse Lingard (Manchester United).',\n",
       " 'Matteo Guendouzi (Arsenal) wins a free kick in the defensive half.',\n",
       " 'Foul by Andreas Pereira (Manchester United).',\n",
       " 'Bukayo Saka (Arsenal) wins a free kick on the left wing.',\n",
       " 'Foul by Ashley Young (Manchester United).',\n",
       " 'Sokratis (Arsenal) wins a free kick in the defensive half.',\n",
       " 'Foul by Marcus Rashford (Manchester United).',\n",
       " 'Marcus Rashford (Manchester United) is shown the yellow card for a bad foul.',\n",
       " 'Foul by Lucas Torreira (Arsenal).',\n",
       " 'Axel Tuanzebe (Manchester United) wins a free kick in the defensive half.',\n",
       " 'Attempt saved. Andreas Pereira (Manchester United) left footed shot from the centre of the box is saved in the bottom right corner.',\n",
       " 'Attempt missed. Nicolas Pépé (Arsenal) left footed shot from outside the box is high and wide to the left. Assisted by Bukayo Saka.',\n",
       " 'Offside, Arsenal. Bukayo Saka tries a through ball, but Sead Kolasinac is caught offside.',\n",
       " 'Matteo Guendouzi (Arsenal) wins a free kick in the attacking half.',\n",
       " 'Foul by Andreas Pereira (Manchester United).',\n",
       " 'Andreas Pereira (Manchester United) is shown the yellow card for a bad foul.',\n",
       " 'Attempt saved. Nicolas Pépé (Arsenal) left footed shot from the centre of the box is saved in the bottom right corner. Assisted by Pierre-Emerick Aubameyang.',\n",
       " 'Attempt blocked. Paul Pogba (Manchester United) right footed shot from outside the box is blocked.',\n",
       " 'Foul by Nicolas Pépé (Arsenal).',\n",
       " 'Scott McTominay (Manchester United) wins a free kick in the attacking half.',\n",
       " 'Offside, Manchester United. Ashley Young tries a through ball, but Harry Maguire is caught offside.',\n",
       " 'Foul by Bukayo Saka (Arsenal).',\n",
       " 'Ashley Young (Manchester United) wins a free kick in the defensive half.',\n",
       " 'Matteo Guendouzi (Arsenal) wins a free kick in the defensive half.',\n",
       " 'Foul by Ashley Young (Manchester United).',\n",
       " 'Ashley Young (Manchester United) is shown the yellow card for a bad foul.',\n",
       " 'Attempt blocked. Marcus Rashford (Manchester United) left footed shot from the left side of the box is blocked. Assisted by Paul Pogba with a through ball.',\n",
       " 'Attempt blocked. Andreas Pereira (Manchester United) right footed shot from the right side of the box is blocked. Assisted by Jesse Lingard.',\n",
       " 'Corner,  Manchester United. Conceded by Sead Kolasinac.',\n",
       " 'Attempt saved. Bukayo Saka (Arsenal) left footed shot from the centre of the box is saved in the bottom right corner.',\n",
       " 'Attempt saved. Matteo Guendouzi (Arsenal) right footed shot from a difficult angle on the right is saved in the bottom right corner.',\n",
       " 'Corner,  Arsenal. Conceded by David de Gea.',\n",
       " 'Goal!  Manchester United 1, Arsenal 0. Scott McTominay (Manchester United) right footed shot from outside the box to the top left corner. Assisted by Marcus Rashford.',\n",
       " 'First Half ends, Manchester United 1, Arsenal 0.',\n",
       " 'Second Half begins Manchester United 1, Arsenal 0.',\n",
       " 'Corner,  Arsenal. Conceded by Axel Tuanzebe.',\n",
       " 'Attempt missed. Lucas Torreira (Arsenal) right footed shot from the centre of the box misses to the right. Assisted by Pierre-Emerick Aubameyang with a cross.',\n",
       " 'Corner,  Manchester United. Conceded by Sead Kolasinac.',\n",
       " 'Bukayo Saka (Arsenal) wins a free kick in the attacking half.',\n",
       " 'Foul by Scott McTominay (Manchester United).',\n",
       " 'Substitution, Arsenal. Dani Ceballos replaces Lucas Torreira.',\n",
       " 'Attempt blocked. David Luiz (Arsenal) right footed shot from outside the box is blocked.',\n",
       " 'Corner,  Arsenal. Conceded by Victor Lindelöf.',\n",
       " 'Corner,  Manchester United. Conceded by Matteo Guendouzi.',\n",
       " 'Attempt missed. Andreas Pereira (Manchester United) right footed shot from outside the box is too high. Assisted by Scott McTominay following a corner.',\n",
       " 'Goal!  Manchester United 1, Arsenal 1. Pierre-Emerick Aubameyang (Arsenal) left footed shot from the centre of the box to the centre of the goal. Assisted by Bukayo Saka with a through ball.Goal awarded following VAR Review.',\n",
       " 'VAR Decision: Goal  Manchester United 1-1 Arsenal (Pierre-Emerick Aubameyang).',\n",
       " 'Attempt blocked. Bukayo Saka (Arsenal) right footed shot from the centre of the box is blocked. Assisted by Calum Chambers.',\n",
       " 'Corner,  Arsenal. Conceded by Victor Lindelöf.',\n",
       " 'Offside, Arsenal. Granit Xhaka tries a through ball, but Pierre-Emerick Aubameyang is caught offside.',\n",
       " 'Attempt blocked. Daniel James (Manchester United) left footed shot from outside the box is blocked. Assisted by Andreas Pereira.',\n",
       " 'Matteo Guendouzi (Arsenal) wins a free kick in the defensive half.',\n",
       " 'Foul by Axel Tuanzebe (Manchester United).',\n",
       " 'Attempt blocked. Andreas Pereira (Manchester United) left footed shot from outside the box is blocked. Assisted by Marcus Rashford.',\n",
       " 'Attempt missed. Paul Pogba (Manchester United) right footed shot from outside the box is close, but misses to the right.',\n",
       " 'Matteo Guendouzi (Arsenal) wins a free kick in the defensive half.',\n",
       " 'Foul by Jesse Lingard (Manchester United).',\n",
       " 'Jesse Lingard (Manchester United) is shown the yellow card for a bad foul.',\n",
       " 'Corner,  Manchester United. Conceded by Sokratis.',\n",
       " 'Attempt missed. Scott McTominay (Manchester United) header from very close range is just a bit too high. Assisted by Ashley Young with a cross following a corner.',\n",
       " 'Attempt missed. Marcus Rashford (Manchester United) right footed shot from outside the box misses to the left. Assisted by Paul Pogba.',\n",
       " 'Foul by Granit Xhaka (Arsenal).',\n",
       " 'Scott McTominay (Manchester United) wins a free kick in the attacking half.',\n",
       " 'Corner,  Manchester United. Conceded by David Luiz.',\n",
       " 'Attempt saved. Harry Maguire (Manchester United) right footed shot from outside the box is saved in the top right corner. Assisted by Andreas Pereira.',\n",
       " 'Corner,  Manchester United. Conceded by Bernd Leno.',\n",
       " 'Bernd Leno (Arsenal) wins a free kick in the defensive half.',\n",
       " 'Foul by Harry Maguire (Manchester United).',\n",
       " 'Substitution, Manchester United. Fred replaces Jesse Lingard.',\n",
       " 'Substitution, Manchester United. Mason Greenwood replaces Andreas Pereira.',\n",
       " 'Substitution, Arsenal. Reiss Nelson replaces Nicolas Pépé.',\n",
       " 'Matteo Guendouzi (Arsenal) wins a free kick in the defensive half.',\n",
       " 'Foul by Fred (Manchester United).',\n",
       " 'Foul by Matteo Guendouzi (Arsenal).',\n",
       " 'Daniel James (Manchester United) wins a free kick in the defensive half.',\n",
       " 'Foul by Granit Xhaka (Arsenal).',\n",
       " 'Mason Greenwood (Manchester United) wins a free kick in the attacking half.',\n",
       " 'Granit Xhaka (Arsenal) is shown the yellow card.',\n",
       " 'Corner,  Manchester United. Conceded by Calum Chambers.',\n",
       " 'Attempt missed. Fred (Manchester United) right footed shot from outside the box is high and wide to the right following a corner.',\n",
       " 'Substitution, Arsenal. Joe Willock replaces Bukayo Saka.',\n",
       " 'Foul by Reiss Nelson (Arsenal).',\n",
       " 'Paul Pogba (Manchester United) wins a free kick in the defensive half.',\n",
       " 'Foul by Dani Ceballos (Arsenal).',\n",
       " 'Scott McTominay (Manchester United) wins a free kick on the right wing.',\n",
       " 'Bernd Leno (Arsenal) wins a free kick in the defensive half.',\n",
       " 'Foul by Marcus Rashford (Manchester United).',\n",
       " 'David Luiz (Arsenal) wins a free kick in the defensive half.',\n",
       " 'Foul by Marcus Rashford (Manchester United).',\n",
       " 'Offside, Arsenal. Joe Willock tries a through ball, but Pierre-Emerick Aubameyang is caught offside.',\n",
       " 'Corner,  Arsenal. Conceded by Axel Tuanzebe.',\n",
       " 'Corner,  Arsenal. Conceded by Axel Tuanzebe.',\n",
       " 'Attempt missed. Dani Ceballos (Arsenal) right footed shot from the centre of the box misses to the right. Assisted by Joe Willock following a fast break.',\n",
       " 'Foul by Calum Chambers (Arsenal).',\n",
       " 'Daniel James (Manchester United) wins a free kick on the left wing.',\n",
       " 'Attempt blocked. Scott McTominay (Manchester United) right footed shot from outside the box is blocked. Assisted by Ashley Young.',\n",
       " 'Foul by David Luiz (Arsenal).',\n",
       " 'Scott McTominay (Manchester United) wins a free kick in the attacking half.',\n",
       " 'Attempt saved. Marcus Rashford (Manchester United) right footed shot from outside the box is saved in the bottom right corner.',\n",
       " 'Attempt saved. Reiss Nelson (Arsenal) left footed shot from outside the box is saved in the bottom right corner. Assisted by Joe Willock.',\n",
       " 'Attempt missed. Mason Greenwood (Manchester United) right footed shot from outside the box misses to the left. Assisted by Fred.',\n",
       " 'Dani Ceballos (Arsenal) wins a free kick on the left wing.',\n",
       " 'Foul by Mason Greenwood (Manchester United).',\n",
       " 'Reiss Nelson (Arsenal) wins a free kick on the right wing.',\n",
       " 'Foul by Axel Tuanzebe (Manchester United).',\n",
       " 'Second Half ends, Manchester United 1, Arsenal 1.',\n",
       " 'Match ends, Manchester United 1, Arsenal 1.']"
      ]
     },
     "execution_count": 71,
     "metadata": {},
     "output_type": "execute_result"
    }
   ],
   "source": [
    "events"
   ]
  },
  {
   "cell_type": "code",
   "execution_count": null,
   "metadata": {},
   "outputs": [],
   "source": []
  }
 ],
 "metadata": {
  "kernelspec": {
   "display_name": "Python 3",
   "language": "python",
   "name": "python3"
  },
  "language_info": {
   "codemirror_mode": {
    "name": "ipython",
    "version": 3
   },
   "file_extension": ".py",
   "mimetype": "text/x-python",
   "name": "python",
   "nbconvert_exporter": "python",
   "pygments_lexer": "ipython3",
   "version": "3.7.7"
  }
 },
 "nbformat": 4,
 "nbformat_minor": 4
}
