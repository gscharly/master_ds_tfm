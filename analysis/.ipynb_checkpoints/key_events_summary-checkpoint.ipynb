{
 "cells": [
  {
   "cell_type": "code",
   "execution_count": 1,
   "metadata": {},
   "outputs": [],
   "source": [
    "MAIN_PATH = \"/home/carlos/PycharmProjects/tfm\"\n",
    "DATA_PATH = '{}/data/json'.format(MAIN_PATH)"
   ]
  },
  {
   "cell_type": "code",
   "execution_count": 2,
   "metadata": {},
   "outputs": [],
   "source": [
    "import sys\n",
    "sys.path.insert(0, MAIN_PATH)"
   ]
  },
  {
   "cell_type": "code",
   "execution_count": 170,
   "metadata": {},
   "outputs": [
    {
     "name": "stdout",
     "output_type": "stream",
     "text": [
      "The autoreload extension is already loaded. To reload it, use:\n",
      "  %reload_ext autoreload\n"
     ]
    }
   ],
   "source": [
    "%load_ext autoreload\n",
    "%autoreload 2\n",
    "from scripts.text.article_text_processor import ArticleTextProcessor\n",
    "from scripts.text.basic_text_processor import BasicTextProcessor\n",
    "from scripts.text.teams_players import TeamPlayers\n",
    "from scripts.text.key_events_summary import KeyEventsSummary\n",
    "\n",
    "from scripts.conf import TEAMS\n",
    "\n",
    "from sklearn.feature_extraction.text import TfidfTransformer, CountVectorizer\n",
    "from sklearn.metrics.pairwise import cosine_similarity\n",
    "%reload_ext autoreload"
   ]
  },
  {
   "cell_type": "markdown",
   "metadata": {},
   "source": [
    "# Eventos importantes"
   ]
  },
  {
   "cell_type": "markdown",
   "metadata": {},
   "source": [
    "El objetivo es realizar un resumen extractivo basandose en eventos importantes de un partido de fútbol. \n",
    "La idea es:\n",
    "\n",
    "- Obtener eventos importantes: resultado, goles y ocasiones por ejemplo\n",
    "- Buscar en la noticia frases relacionadas con esos eventos, juntarlas y formar el resumen"
   ]
  },
  {
   "cell_type": "code",
   "execution_count": 165,
   "metadata": {},
   "outputs": [],
   "source": [
    "processor = ArticleTextProcessor()\n",
    "key_events = KeyEventsSummary()"
   ]
  },
  {
   "cell_type": "code",
   "execution_count": 5,
   "metadata": {},
   "outputs": [],
   "source": [
    "all_files = processor.load_json()"
   ]
  },
  {
   "cell_type": "code",
   "execution_count": 168,
   "metadata": {},
   "outputs": [
    {
     "data": {
      "text/plain": [
       "dict_keys(['italian_serie_a_2019_2020.json', 'champions_league_2019_2020.json', 'mls_2018_2019.json', 'spanish_la_liga_2019_2020.json', 'italian_serie_a_2017_2018.json', 'german_bundesliga_2017_2018.json', 'mls_2015_2016.json', 'german_bundesliga_2019_2020.json', 'mls_2016_2017.json', 'mls_2017_2018.json', 'spanish_la_liga_2017_2018.json', 'premier_league_2016_2017.json', 'german_bundesliga_2018_2019.json', 'italian_serie_a_2018_2019.json', 'premier_league_2019_2020.json', 'premier_league_2018_2019.json', 'french_ligue_one_2019_2020.json', 'spanish_la_liga_2018_2019.json', 'premier_league_2017_2018.json', 'mls_2019_2020.json'])"
      ]
     },
     "execution_count": 168,
     "metadata": {},
     "output_type": "execute_result"
    }
   ],
   "source": [
    "all_files.keys()"
   ]
  },
  {
   "cell_type": "code",
   "execution_count": 7,
   "metadata": {},
   "outputs": [],
   "source": [
    "season_file = 'premier_league_2019_2020.json'\n",
    "league_season_teams = TEAMS[season_file.split('.')[0]]"
   ]
  },
  {
   "cell_type": "code",
   "execution_count": 8,
   "metadata": {},
   "outputs": [],
   "source": [
    "prueba = all_files[season_file]['https://www.bbc.com/sport/football/49791610']"
   ]
  },
  {
   "cell_type": "code",
   "execution_count": 34,
   "metadata": {},
   "outputs": [],
   "source": [
    "key_words = ['goal', 'red', 'attempt']"
   ]
  },
  {
   "cell_type": "code",
   "execution_count": 54,
   "metadata": {},
   "outputs": [],
   "source": [
    "events = prueba['events']"
   ]
  },
  {
   "cell_type": "code",
   "execution_count": 123,
   "metadata": {},
   "outputs": [
    {
     "name": "stdout",
     "output_type": "stream",
     "text": [
      "Number of original events: 125\n",
      "Number of processed events: 27\n"
     ]
    }
   ],
   "source": [
    "processed_events = key_events.process_match_events(events, keep_key_events=True)"
   ]
  },
  {
   "cell_type": "code",
   "execution_count": 52,
   "metadata": {
    "collapsed": true,
    "jupyter": {
     "outputs_hidden": true
    }
   },
   "outputs": [
    {
     "data": {
      "text/plain": [
       "[28,\n",
       " 29,\n",
       " 34,\n",
       " 35,\n",
       " 44,\n",
       " 45,\n",
       " 47,\n",
       " 48,\n",
       " 50,\n",
       " 54,\n",
       " 59,\n",
       " 62,\n",
       " 63,\n",
       " 64,\n",
       " 65,\n",
       " 68,\n",
       " 71,\n",
       " 72,\n",
       " 77,\n",
       " 78,\n",
       " 82,\n",
       " 97,\n",
       " 110,\n",
       " 113,\n",
       " 116,\n",
       " 117,\n",
       " 118]"
      ]
     },
     "execution_count": 52,
     "metadata": {},
     "output_type": "execute_result"
    }
   ],
   "source": [
    "key_events.events_mapping_list"
   ]
  },
  {
   "cell_type": "code",
   "execution_count": 125,
   "metadata": {},
   "outputs": [
    {
     "data": {
      "text/plain": [
       "'Attempt saved. Nicolas Pépé (Arsenal) left footed shot from the centre of the box is saved in the bottom right corner. Assisted by Pierre-Emerick Aubameyang.'"
      ]
     },
     "execution_count": 125,
     "metadata": {},
     "output_type": "execute_result"
    }
   ],
   "source": [
    "events[key_events.events_mapping_list[2]]"
   ]
  },
  {
   "cell_type": "code",
   "execution_count": 126,
   "metadata": {},
   "outputs": [
    {
     "data": {
      "text/plain": [
       "'assisted shot saved Nicolas Pepe Pierre-Emerick Aubameyang corner box right arsenal footed attempt left'"
      ]
     },
     "execution_count": 126,
     "metadata": {},
     "output_type": "execute_result"
    }
   ],
   "source": [
    "processed_events[2]"
   ]
  },
  {
   "cell_type": "markdown",
   "metadata": {},
   "source": [
    "__Buscando eventos en noticias__"
   ]
  },
  {
   "cell_type": "markdown",
   "metadata": {},
   "source": [
    "Buscamos la frase más cercana a cada evento en cada artículo. Para ello, hacemos una aproximación\n",
    "simple, usando un tfidf con el cuerpo de la noticia, y calculando la distancia coseno a cada\n",
    "evento. \n",
    "\n",
    "Quizás este enfoque no funcione demasiado bien al ser las noticias tan cortas."
   ]
  },
  {
   "cell_type": "code",
   "execution_count": 10,
   "metadata": {},
   "outputs": [],
   "source": [
    "article = prueba['article']"
   ]
  },
  {
   "cell_type": "code",
   "execution_count": 49,
   "metadata": {
    "collapsed": true,
    "jupyter": {
     "outputs_hidden": true
    }
   },
   "outputs": [
    {
     "data": {
      "text/plain": [
       "'Manchester United and Arsenal played out a grim stalemate at Old Trafford that provided compelling evidence to illustrate just how far away from a Premier League challenge both clubs are.\\nIn a disappointing encounter that was a pale shadow of their mighty clashes of years gone by, Scott McTominay gave Manchester United the lead at the end of an attritional first-half with a rising drive from the edge of the area.\\nArsenal equalised just before the hour courtesy of Pierre-Emerick Aubameyang\\'s cool finish. It was originally ruled out for offside but the video assistant referee confirmed the striker had been played onside by Harry Maguire.\\nGoalkeeper Bernd Leno excelled for Arsenal with fine saves from Maguire and Marcus Rashford\\'s late free-kick, while Bukayo Saka\\'s goalbound shot crucially struck Victor Lindelof and flew over the top.\\nMcTominay also headed a great chance well over from Ashley Young\\'s corner but neither side could force a winner.\\nThe result takes Arsenal into the top four but Manchester United are now down in 10th after an outcome that means they have made their worst start after seven games in 30 years, failing to reach double figures for the first time since 1989-90, a season in which they finished 13th.\\nThe current circumstances of both clubs was instantly demonstrated by the two captains who led out the sides.\\nManchester United\\'s captain was 34-year-old Ashley Young, pressed into defensive service by Aaron Wan-Bissaka\\'s absence through injury, and Arsenal were led by Granit Xhaka, newly appointed and a divisive figure among supporters.\\nYoung led from the front in a fashion by regularly contesting decisions, showing a remarkable knack of getting to referee Kevin Friend in an instant on numerous occasions.\\nXhaka\\'s night will be best remembered for his contribution to United\\'s goal - getting away with a foul in the build-up before appearing to take evasive action as McTominay\\'s drive made its way into the top corner.\\nThere was no shortage of effort but this was a scrappy mess of a game, lacking any cohesion or quality. \\nUnited had the edge on chances, although they were grateful to David de Gea for a fine double save from Saka and Matteo Guendouzi in the first half and they also felt they had a respectable appeal for handball against Sead Kolasinac ignored by referee Kevin Friend.\\nArsenal boss Unai Emery will be more satisfied than counterpart Ole Gunnar Solskjaer with a point but this showed just how far away both are from leaders Liverpool and reigning champions Manchester City - and just how much work they have to do to catch up.\\nIt was no surprise when Arsenal\\'s club record £72m signing Nicholas Pepe failed to last the course, being substituted for Reiss Nelson after 72 minutes.\\nThe 24-year-old signing from Lille had struggled desperately throughout and looks worryingly short of confidence so soon after his introduction into the Premier League.\\nPepe had one clear shooting opportunity in the first half but skied his effort hopelessly into the Stretford End. He was on the periphery of the action in a laboured performance also littered with poor decision-making.\\nIt was left to the lethal Aubameyang to provide the finishing touch for Arsenal, correctly assisted by VAR after technology showed he was clearly onside. \\nSolksjaer appeared to think the linesman\\'s raised flag made his players stop but it was clearly the correct decision as Maguire loitered yards behind his defensive colleagues.\\nManchester United manager Ole Gunnar Solskjaer: \"How many times have we have been 1-0 up and not got the second goal? This is a steep learning curve for us and we\\'ll keep working hard and, with more experience, we\\'ll make the right decisions.\\n\"We didn\\'t get out of the blocks quick enough at the start of the second half. It felt like Arsenal were the more proactive until they scored their goal.\\n\"I felt we could get a goal at the end and we sent men forward. I\\'ve been in that situation as a player when you come off and think you could\\'ve got more out of a game, but we\\'ll learn from this.\"\\nArsenal manager Unai Emery: \"I want more - more in the result and in the performance but we are progressing. We were competitive but we can do better. We can control moments with the ball better and take more chances in the box.\\n\"We have young players who can take confidence. Bukayo [Saka] is progressing well but we need other players too. This is not the best in terms of points but one point can be good if we win next Sunday against Bournemouth.\"'"
      ]
     },
     "execution_count": 49,
     "metadata": {},
     "output_type": "execute_result"
    }
   ],
   "source": [
    "article"
   ]
  },
  {
   "cell_type": "markdown",
   "metadata": {},
   "source": [
    "Necesitamos guardar todas las frases:"
   ]
  },
  {
   "cell_type": "code",
   "execution_count": 68,
   "metadata": {},
   "outputs": [],
   "source": [
    "doc_sents_list = [str(sent) for sent in key_events.text_proc.get_sentences(article)]"
   ]
  },
  {
   "cell_type": "code",
   "execution_count": 69,
   "metadata": {},
   "outputs": [
    {
     "data": {
      "text/plain": [
       "39"
      ]
     },
     "execution_count": 69,
     "metadata": {},
     "output_type": "execute_result"
    }
   ],
   "source": [
    "len(doc_sents_list)"
   ]
  },
  {
   "cell_type": "markdown",
   "metadata": {},
   "source": [
    "Procesamos las frases del artículo de la misma forma que los eventos:"
   ]
  },
  {
   "cell_type": "code",
   "execution_count": 16,
   "metadata": {},
   "outputs": [],
   "source": [
    "processed_sentences = key_events.process_match_article(article)"
   ]
  },
  {
   "cell_type": "code",
   "execution_count": 132,
   "metadata": {},
   "outputs": [
    {
     "data": {
      "text/plain": [
       "39"
      ]
     },
     "execution_count": 132,
     "metadata": {},
     "output_type": "execute_result"
    }
   ],
   "source": [
    "len(processed_sentences)"
   ]
  },
  {
   "cell_type": "code",
   "execution_count": 153,
   "metadata": {
    "collapsed": true,
    "jupyter": {
     "outputs_hidden": true
    }
   },
   "outputs": [
    {
     "data": {
      "text/plain": [
       "['old league stalemate Manchester United trafford challenge Arsenal away far clubs grim illustrate provided evidence',\n",
       " 'attritional shadow disappointing lead Manchester United edge drive Scott McTominay gone gave half years encounter rising mighty end',\n",
       " \"Pierre-Emerick Aubameyang's arsenal equalised cool finish hour courtesy\",\n",
       " 'offside ruled video confirmed onside assistant originally striker Harry Maguire',\n",
       " \"excelled Bernd Leno goalbound goalkeeper shot Marcus Rashford's saves crucially kick Victor Lindelof Arsenal flew Bukayo Saka's fine struck\",\n",
       " \"chance McTominay corner force headed Ashley Young's winner\",\n",
       " 'worst games start failing finished means seven Manchester United time double arsenal season takes years',\n",
       " 'captains led demonstrated circumstances instantly sides clubs',\n",
       " \"old newly united led manchester divisive supporters Ashley Young Aaron Wan-Bissaka's Granit Xhaka service absence appointed captain Arsenal defensive injury\",\n",
       " 'decisions led fashion knack showing numerous Kevin Friend occasions contesting instant Young getting',\n",
       " 'way united appearing mctominay goal night corner Xhaka contribution drive foul away build getting best action evasive',\n",
       " 'shortage effort',\n",
       " 'game quality scrappy cohesion mess',\n",
       " 'grateful united save chances Saka Kevin Friend edge David de Gea double sead felt Matteo Guendouzi half handball fine appeal',\n",
       " 'catch Manchester City showed work arsenal point away far Unai Emery leaders Ole Gunnar Solskjaer satisfied Liverpool boss champions',\n",
       " 'surprise club Arsenal £',\n",
       " 'm',\n",
       " 'minutes Nicholas Pepe Reiss Nelson failed substituted signing course',\n",
       " 'old desperately soon introduction confidence short league looks struggled worryingly lille signing',\n",
       " 'Pepe clear effort opportunity shooting half skied hopelessly end',\n",
       " 'performance poor making periphery action decision',\n",
       " 'aubameyang touch showed finishing assisted onside var Arsenal provide clearly technology lethal left',\n",
       " 'Solksjaer think stop linesman raised',\n",
       " 'colleagues yards Maguire clearly defensive decision',\n",
       " 'second united times manchester goal got Ole Gunnar Solskjaer manager',\n",
       " 'decisions learning steep right experience working curve hard',\n",
       " 'second start quick half blocks',\n",
       " 'goal proactive Arsenal felt like',\n",
       " 'goal felt end',\n",
       " 'men forward sent',\n",
       " 'think game situation got learn',\n",
       " 'performance want arsenal Unai Emery manager',\n",
       " '',\n",
       " 'better',\n",
       " 'better chances moments control ball box',\n",
       " 'young confidence',\n",
       " 'bukayo',\n",
       " 'Saka need',\n",
       " 'sunday win point good terms best Bournemouth points']"
      ]
     },
     "execution_count": 153,
     "metadata": {},
     "output_type": "execute_result"
    }
   ],
   "source": [
    "processed_sentences"
   ]
  },
  {
   "cell_type": "markdown",
   "metadata": {},
   "source": [
    "Para usar el tfidf de sklearn, necesitamos proporcionar un iterable de elementos (frases en este caso):"
   ]
  },
  {
   "cell_type": "code",
   "execution_count": 17,
   "metadata": {},
   "outputs": [],
   "source": [
    "processed_sentences_wc = ' '.join(processed_sentences)"
   ]
  },
  {
   "cell_type": "markdown",
   "metadata": {},
   "source": [
    "También se tienen en cuenta bigramas para no perder las entidades nombradas (quizás habría que probar\n",
    "con trigramas también):"
   ]
  },
  {
   "cell_type": "code",
   "execution_count": 110,
   "metadata": {},
   "outputs": [],
   "source": [
    "vectorizer = CountVectorizer(ngram_range=(1,2), strip_accents='unicode')"
   ]
  },
  {
   "cell_type": "code",
   "execution_count": 112,
   "metadata": {},
   "outputs": [],
   "source": [
    "X = vectorizer.fit_transform(processed_sentences).toarray()"
   ]
  },
  {
   "cell_type": "code",
   "execution_count": 113,
   "metadata": {
    "collapsed": true,
    "jupyter": {
     "outputs_hidden": true
    }
   },
   "outputs": [
    {
     "data": {
      "text/plain": [
       "['aaron',\n",
       " 'aaron wan',\n",
       " 'absence',\n",
       " 'absence appointed',\n",
       " 'action',\n",
       " 'action decision',\n",
       " 'action evasive',\n",
       " 'appeal',\n",
       " 'appearing',\n",
       " 'appearing mctominay',\n",
       " 'appointed',\n",
       " 'appointed captain',\n",
       " 'arsenal',\n",
       " 'arsenal away',\n",
       " 'arsenal defensive',\n",
       " 'arsenal equalised',\n",
       " 'arsenal felt',\n",
       " 'arsenal flew',\n",
       " 'arsenal point',\n",
       " 'arsenal provide',\n",
       " 'arsenal season',\n",
       " 'arsenal unai',\n",
       " 'ashley',\n",
       " 'ashley young',\n",
       " 'assistant',\n",
       " 'assistant originally',\n",
       " 'assisted',\n",
       " 'assisted onside',\n",
       " 'attritional',\n",
       " 'attritional shadow',\n",
       " 'aubameyang',\n",
       " 'aubameyang arsenal',\n",
       " 'aubameyang touch',\n",
       " 'away',\n",
       " 'away build',\n",
       " 'away far',\n",
       " 'ball',\n",
       " 'ball box',\n",
       " 'bernd',\n",
       " 'bernd leno',\n",
       " 'best',\n",
       " 'best action',\n",
       " 'best bournemouth',\n",
       " 'better',\n",
       " 'better chances',\n",
       " 'bissaka',\n",
       " 'bissaka granit',\n",
       " 'blocks',\n",
       " 'boss',\n",
       " 'boss champions',\n",
       " 'bournemouth',\n",
       " 'bournemouth points',\n",
       " 'box',\n",
       " 'build',\n",
       " 'build getting',\n",
       " 'bukayo',\n",
       " 'bukayo saka',\n",
       " 'captain',\n",
       " 'captain arsenal',\n",
       " 'captains',\n",
       " 'captains led',\n",
       " 'catch',\n",
       " 'catch manchester',\n",
       " 'challenge',\n",
       " 'challenge arsenal',\n",
       " 'champions',\n",
       " 'chance',\n",
       " 'chance mctominay',\n",
       " 'chances',\n",
       " 'chances moments',\n",
       " 'chances saka',\n",
       " 'circumstances',\n",
       " 'circumstances instantly',\n",
       " 'city',\n",
       " 'city showed',\n",
       " 'clear',\n",
       " 'clear effort',\n",
       " 'clearly',\n",
       " 'clearly defensive',\n",
       " 'clearly technology',\n",
       " 'club',\n",
       " 'club arsenal',\n",
       " 'clubs',\n",
       " 'clubs grim',\n",
       " 'cohesion',\n",
       " 'cohesion mess',\n",
       " 'colleagues',\n",
       " 'colleagues yards',\n",
       " 'confidence',\n",
       " 'confidence short',\n",
       " 'confirmed',\n",
       " 'confirmed onside',\n",
       " 'contesting',\n",
       " 'contesting instant',\n",
       " 'contribution',\n",
       " 'contribution drive',\n",
       " 'control',\n",
       " 'control ball',\n",
       " 'cool',\n",
       " 'cool finish',\n",
       " 'corner',\n",
       " 'corner force',\n",
       " 'corner xhaka',\n",
       " 'course',\n",
       " 'courtesy',\n",
       " 'crucially',\n",
       " 'crucially kick',\n",
       " 'curve',\n",
       " 'curve hard',\n",
       " 'david',\n",
       " 'david de',\n",
       " 'de',\n",
       " 'de gea',\n",
       " 'decision',\n",
       " 'decisions',\n",
       " 'decisions learning',\n",
       " 'decisions led',\n",
       " 'defensive',\n",
       " 'defensive decision',\n",
       " 'defensive injury',\n",
       " 'demonstrated',\n",
       " 'demonstrated circumstances',\n",
       " 'desperately',\n",
       " 'desperately soon',\n",
       " 'disappointing',\n",
       " 'disappointing lead',\n",
       " 'divisive',\n",
       " 'divisive supporters',\n",
       " 'double',\n",
       " 'double arsenal',\n",
       " 'double sead',\n",
       " 'drive',\n",
       " 'drive foul',\n",
       " 'drive scott',\n",
       " 'edge',\n",
       " 'edge david',\n",
       " 'edge drive',\n",
       " 'effort',\n",
       " 'effort opportunity',\n",
       " 'emerick',\n",
       " 'emerick aubameyang',\n",
       " 'emery',\n",
       " 'emery leaders',\n",
       " 'emery manager',\n",
       " 'encounter',\n",
       " 'encounter rising',\n",
       " 'end',\n",
       " 'equalised',\n",
       " 'equalised cool',\n",
       " 'evasive',\n",
       " 'evidence',\n",
       " 'excelled',\n",
       " 'excelled bernd',\n",
       " 'experience',\n",
       " 'experience working',\n",
       " 'failed',\n",
       " 'failed substituted',\n",
       " 'failing',\n",
       " 'failing finished',\n",
       " 'far',\n",
       " 'far clubs',\n",
       " 'far unai',\n",
       " 'fashion',\n",
       " 'fashion knack',\n",
       " 'felt',\n",
       " 'felt end',\n",
       " 'felt like',\n",
       " 'felt matteo',\n",
       " 'fine',\n",
       " 'fine appeal',\n",
       " 'fine struck',\n",
       " 'finish',\n",
       " 'finish hour',\n",
       " 'finished',\n",
       " 'finished means',\n",
       " 'finishing',\n",
       " 'finishing assisted',\n",
       " 'flew',\n",
       " 'flew bukayo',\n",
       " 'force',\n",
       " 'force headed',\n",
       " 'forward',\n",
       " 'forward sent',\n",
       " 'foul',\n",
       " 'foul away',\n",
       " 'friend',\n",
       " 'friend edge',\n",
       " 'friend occasions',\n",
       " 'game',\n",
       " 'game quality',\n",
       " 'game situation',\n",
       " 'games',\n",
       " 'games start',\n",
       " 'gave',\n",
       " 'gave half',\n",
       " 'gea',\n",
       " 'gea double',\n",
       " 'getting',\n",
       " 'getting best',\n",
       " 'goal',\n",
       " 'goal felt',\n",
       " 'goal got',\n",
       " 'goal night',\n",
       " 'goal proactive',\n",
       " 'goalbound',\n",
       " 'goalbound goalkeeper',\n",
       " 'goalkeeper',\n",
       " 'goalkeeper shot',\n",
       " 'gone',\n",
       " 'gone gave',\n",
       " 'good',\n",
       " 'good terms',\n",
       " 'got',\n",
       " 'got learn',\n",
       " 'got ole',\n",
       " 'granit',\n",
       " 'granit xhaka',\n",
       " 'grateful',\n",
       " 'grateful united',\n",
       " 'grim',\n",
       " 'grim illustrate',\n",
       " 'guendouzi',\n",
       " 'guendouzi half',\n",
       " 'gunnar',\n",
       " 'gunnar solskjaer',\n",
       " 'half',\n",
       " 'half blocks',\n",
       " 'half handball',\n",
       " 'half skied',\n",
       " 'half years',\n",
       " 'handball',\n",
       " 'handball fine',\n",
       " 'hard',\n",
       " 'harry',\n",
       " 'harry maguire',\n",
       " 'headed',\n",
       " 'headed ashley',\n",
       " 'hopelessly',\n",
       " 'hopelessly end',\n",
       " 'hour',\n",
       " 'hour courtesy',\n",
       " 'illustrate',\n",
       " 'illustrate provided',\n",
       " 'injury',\n",
       " 'instant',\n",
       " 'instant young',\n",
       " 'instantly',\n",
       " 'instantly sides',\n",
       " 'introduction',\n",
       " 'introduction confidence',\n",
       " 'kevin',\n",
       " 'kevin friend',\n",
       " 'kick',\n",
       " 'kick victor',\n",
       " 'knack',\n",
       " 'knack showing',\n",
       " 'lead',\n",
       " 'lead manchester',\n",
       " 'leaders',\n",
       " 'leaders ole',\n",
       " 'league',\n",
       " 'league looks',\n",
       " 'league stalemate',\n",
       " 'learn',\n",
       " 'learning',\n",
       " 'learning steep',\n",
       " 'led',\n",
       " 'led demonstrated',\n",
       " 'led fashion',\n",
       " 'led manchester',\n",
       " 'left',\n",
       " 'leno',\n",
       " 'leno goalbound',\n",
       " 'lethal',\n",
       " 'lethal left',\n",
       " 'like',\n",
       " 'lille',\n",
       " 'lille signing',\n",
       " 'lindelof',\n",
       " 'lindelof arsenal',\n",
       " 'linesman',\n",
       " 'linesman raised',\n",
       " 'liverpool',\n",
       " 'liverpool boss',\n",
       " 'looks',\n",
       " 'looks struggled',\n",
       " 'maguire',\n",
       " 'maguire clearly',\n",
       " 'making',\n",
       " 'making periphery',\n",
       " 'manager',\n",
       " 'manchester',\n",
       " 'manchester city',\n",
       " 'manchester divisive',\n",
       " 'manchester goal',\n",
       " 'manchester united',\n",
       " 'marcus',\n",
       " 'marcus rashford',\n",
       " 'matteo',\n",
       " 'matteo guendouzi',\n",
       " 'mctominay',\n",
       " 'mctominay corner',\n",
       " 'mctominay goal',\n",
       " 'mctominay gone',\n",
       " 'means',\n",
       " 'means seven',\n",
       " 'men',\n",
       " 'men forward',\n",
       " 'mess',\n",
       " 'mighty',\n",
       " 'mighty end',\n",
       " 'minutes',\n",
       " 'minutes nicholas',\n",
       " 'moments',\n",
       " 'moments control',\n",
       " 'need',\n",
       " 'nelson',\n",
       " 'nelson failed',\n",
       " 'newly',\n",
       " 'newly united',\n",
       " 'nicholas',\n",
       " 'nicholas pepe',\n",
       " 'night',\n",
       " 'night corner',\n",
       " 'numerous',\n",
       " 'numerous kevin',\n",
       " 'occasions',\n",
       " 'occasions contesting',\n",
       " 'offside',\n",
       " 'offside ruled',\n",
       " 'old',\n",
       " 'old desperately',\n",
       " 'old league',\n",
       " 'old newly',\n",
       " 'ole',\n",
       " 'ole gunnar',\n",
       " 'onside',\n",
       " 'onside assistant',\n",
       " 'onside var',\n",
       " 'opportunity',\n",
       " 'opportunity shooting',\n",
       " 'originally',\n",
       " 'originally striker',\n",
       " 'pepe',\n",
       " 'pepe clear',\n",
       " 'pepe reiss',\n",
       " 'performance',\n",
       " 'performance poor',\n",
       " 'performance want',\n",
       " 'periphery',\n",
       " 'periphery action',\n",
       " 'pierre',\n",
       " 'pierre emerick',\n",
       " 'point',\n",
       " 'point away',\n",
       " 'point good',\n",
       " 'points',\n",
       " 'poor',\n",
       " 'poor making',\n",
       " 'proactive',\n",
       " 'proactive arsenal',\n",
       " 'provide',\n",
       " 'provide clearly',\n",
       " 'provided',\n",
       " 'provided evidence',\n",
       " 'quality',\n",
       " 'quality scrappy',\n",
       " 'quick',\n",
       " 'quick half',\n",
       " 'raised',\n",
       " 'rashford',\n",
       " 'rashford saves',\n",
       " 'reiss',\n",
       " 'reiss nelson',\n",
       " 'right',\n",
       " 'right experience',\n",
       " 'rising',\n",
       " 'rising mighty',\n",
       " 'ruled',\n",
       " 'ruled video',\n",
       " 'saka',\n",
       " 'saka fine',\n",
       " 'saka kevin',\n",
       " 'saka need',\n",
       " 'satisfied',\n",
       " 'satisfied liverpool',\n",
       " 'save',\n",
       " 'save chances',\n",
       " 'saves',\n",
       " 'saves crucially',\n",
       " 'scott',\n",
       " 'scott mctominay',\n",
       " 'scrappy',\n",
       " 'scrappy cohesion',\n",
       " 'sead',\n",
       " 'sead felt',\n",
       " 'season',\n",
       " 'season takes',\n",
       " 'second',\n",
       " 'second start',\n",
       " 'second united',\n",
       " 'sent',\n",
       " 'service',\n",
       " 'service absence',\n",
       " 'seven',\n",
       " 'seven manchester',\n",
       " 'shadow',\n",
       " 'shadow disappointing',\n",
       " 'shooting',\n",
       " 'shooting half',\n",
       " 'short',\n",
       " 'short league',\n",
       " 'shortage',\n",
       " 'shortage effort',\n",
       " 'shot',\n",
       " 'shot marcus',\n",
       " 'showed',\n",
       " 'showed finishing',\n",
       " 'showed work',\n",
       " 'showing',\n",
       " 'showing numerous',\n",
       " 'sides',\n",
       " 'sides clubs',\n",
       " 'signing',\n",
       " 'signing course',\n",
       " 'situation',\n",
       " 'situation got',\n",
       " 'skied',\n",
       " 'skied hopelessly',\n",
       " 'solksjaer',\n",
       " 'solksjaer think',\n",
       " 'solskjaer',\n",
       " 'solskjaer manager',\n",
       " 'solskjaer satisfied',\n",
       " 'soon',\n",
       " 'soon introduction',\n",
       " 'stalemate',\n",
       " 'stalemate manchester',\n",
       " 'start',\n",
       " 'start failing',\n",
       " 'start quick',\n",
       " 'steep',\n",
       " 'steep right',\n",
       " 'stop',\n",
       " 'stop linesman',\n",
       " 'striker',\n",
       " 'striker harry',\n",
       " 'struck',\n",
       " 'struggled',\n",
       " 'struggled worryingly',\n",
       " 'substituted',\n",
       " 'substituted signing',\n",
       " 'sunday',\n",
       " 'sunday win',\n",
       " 'supporters',\n",
       " 'supporters ashley',\n",
       " 'surprise',\n",
       " 'surprise club',\n",
       " 'takes',\n",
       " 'takes years',\n",
       " 'technology',\n",
       " 'technology lethal',\n",
       " 'terms',\n",
       " 'terms best',\n",
       " 'think',\n",
       " 'think game',\n",
       " 'think stop',\n",
       " 'time',\n",
       " 'time double',\n",
       " 'times',\n",
       " 'times manchester',\n",
       " 'touch',\n",
       " 'touch showed',\n",
       " 'trafford',\n",
       " 'trafford challenge',\n",
       " 'unai',\n",
       " 'unai emery',\n",
       " 'united',\n",
       " 'united appearing',\n",
       " 'united edge',\n",
       " 'united led',\n",
       " 'united save',\n",
       " 'united time',\n",
       " 'united times',\n",
       " 'united trafford',\n",
       " 'var',\n",
       " 'var arsenal',\n",
       " 'victor',\n",
       " 'victor lindelof',\n",
       " 'video',\n",
       " 'video confirmed',\n",
       " 'wan',\n",
       " 'wan bissaka',\n",
       " 'want',\n",
       " 'want arsenal',\n",
       " 'way',\n",
       " 'way united',\n",
       " 'win',\n",
       " 'win point',\n",
       " 'winner',\n",
       " 'work',\n",
       " 'work arsenal',\n",
       " 'working',\n",
       " 'working curve',\n",
       " 'worryingly',\n",
       " 'worryingly lille',\n",
       " 'worst',\n",
       " 'worst games',\n",
       " 'xhaka',\n",
       " 'xhaka contribution',\n",
       " 'xhaka service',\n",
       " 'yards',\n",
       " 'yards maguire',\n",
       " 'years',\n",
       " 'years encounter',\n",
       " 'young',\n",
       " 'young aaron',\n",
       " 'young confidence',\n",
       " 'young getting',\n",
       " 'young winner']"
      ]
     },
     "execution_count": 113,
     "metadata": {},
     "output_type": "execute_result"
    }
   ],
   "source": [
    "vectorizer.get_feature_names()"
   ]
  },
  {
   "cell_type": "code",
   "execution_count": 24,
   "metadata": {},
   "outputs": [
    {
     "data": {
      "text/plain": [
       "(39, 520)"
      ]
     },
     "execution_count": 24,
     "metadata": {},
     "output_type": "execute_result"
    }
   ],
   "source": [
    "X.shape"
   ]
  },
  {
   "cell_type": "code",
   "execution_count": 114,
   "metadata": {},
   "outputs": [],
   "source": [
    "tfidfconverter = TfidfTransformer()"
   ]
  },
  {
   "cell_type": "code",
   "execution_count": 115,
   "metadata": {},
   "outputs": [],
   "source": [
    "X = tfidfconverter.fit_transform(X).toarray()"
   ]
  },
  {
   "cell_type": "code",
   "execution_count": 116,
   "metadata": {},
   "outputs": [
    {
     "data": {
      "text/plain": [
       "(39, 520)"
      ]
     },
     "execution_count": 116,
     "metadata": {},
     "output_type": "execute_result"
    }
   ],
   "source": [
    "X.shape"
   ]
  },
  {
   "cell_type": "markdown",
   "metadata": {},
   "source": [
    "Eventos"
   ]
  },
  {
   "cell_type": "code",
   "execution_count": 144,
   "metadata": {},
   "outputs": [],
   "source": [
    "X_events = vectorizer.transform(processed_events)"
   ]
  },
  {
   "cell_type": "code",
   "execution_count": 145,
   "metadata": {},
   "outputs": [],
   "source": [
    "X_events = tfidfconverter.transform(X_events).toarray()"
   ]
  },
  {
   "cell_type": "code",
   "execution_count": 30,
   "metadata": {},
   "outputs": [
    {
     "data": {
      "text/plain": [
       "(27, 520)"
      ]
     },
     "execution_count": 30,
     "metadata": {},
     "output_type": "execute_result"
    }
   ],
   "source": [
    "X_events.shape"
   ]
  },
  {
   "cell_type": "code",
   "execution_count": 91,
   "metadata": {},
   "outputs": [
    {
     "data": {
      "text/plain": [
       "array([[0., 0., 0., ..., 0., 0., 0.],\n",
       "       [0., 0., 0., ..., 0., 0., 0.],\n",
       "       [0., 0., 0., ..., 0., 0., 0.],\n",
       "       ...,\n",
       "       [0., 0., 0., ..., 0., 0., 0.],\n",
       "       [0., 0., 0., ..., 0., 0., 0.],\n",
       "       [0., 0., 0., ..., 0., 0., 0.]])"
      ]
     },
     "execution_count": 91,
     "metadata": {},
     "output_type": "execute_result"
    }
   ],
   "source": [
    "X_events"
   ]
  },
  {
   "cell_type": "code",
   "execution_count": 147,
   "metadata": {},
   "outputs": [],
   "source": [
    "count_ixs = np.argwhere(X_events > 0)"
   ]
  },
  {
   "cell_type": "code",
   "execution_count": 148,
   "metadata": {},
   "outputs": [],
   "source": [
    "import pandas as pd\n",
    "import numpy as np"
   ]
  },
  {
   "cell_type": "code",
   "execution_count": 149,
   "metadata": {
    "collapsed": true,
    "jupyter": {
     "outputs_hidden": true
    }
   },
   "outputs": [
    {
     "data": {
      "text/plain": [
       "array([[  0,  52],\n",
       "       [  0, 100],\n",
       "       [  0, 270],\n",
       "       [  0, 291],\n",
       "       [  0, 295],\n",
       "       [  0, 374],\n",
       "       [  0, 414],\n",
       "       [  0, 477],\n",
       "       [  1,  12],\n",
       "       [  1,  26],\n",
       "       [  1,  52],\n",
       "       [  1,  55],\n",
       "       [  1,  56],\n",
       "       [  1, 270],\n",
       "       [  1, 343],\n",
       "       [  1, 380],\n",
       "       [  1, 414],\n",
       "       [  2,  12],\n",
       "       [  2,  26],\n",
       "       [  2,  30],\n",
       "       [  2,  52],\n",
       "       [  2, 100],\n",
       "       [  2, 139],\n",
       "       [  2, 140],\n",
       "       [  2, 270],\n",
       "       [  2, 343],\n",
       "       [  2, 351],\n",
       "       [  2, 352],\n",
       "       [  2, 374],\n",
       "       [  2, 414],\n",
       "       [  3,  52],\n",
       "       [  3, 291],\n",
       "       [  3, 295],\n",
       "       [  3, 374],\n",
       "       [  3, 414],\n",
       "       [  3, 477],\n",
       "       [  4,  26],\n",
       "       [  4,  36],\n",
       "       [  4,  52],\n",
       "       [  4, 270],\n",
       "       [  4, 291],\n",
       "       [  4, 295],\n",
       "       [  4, 296],\n",
       "       [  4, 297],\n",
       "       [  4, 370],\n",
       "       [  4, 414],\n",
       "       [  4, 477],\n",
       "       [  5,  26],\n",
       "       [  5,  52],\n",
       "       [  5, 291],\n",
       "       [  5, 295],\n",
       "       [  5, 374],\n",
       "       [  5, 414],\n",
       "       [  5, 477],\n",
       "       [  6,  12],\n",
       "       [  6,  52],\n",
       "       [  6,  55],\n",
       "       [  6,  56],\n",
       "       [  6, 100],\n",
       "       [  6, 270],\n",
       "       [  6, 374],\n",
       "       [  6, 380],\n",
       "       [  6, 414],\n",
       "       [  7,  12],\n",
       "       [  7, 100],\n",
       "       [  7, 221],\n",
       "       [  7, 298],\n",
       "       [  7, 299],\n",
       "       [  7, 374],\n",
       "       [  7, 414],\n",
       "       [  8,  12],\n",
       "       [  8,  26],\n",
       "       [  8,  52],\n",
       "       [  8, 100],\n",
       "       [  8, 199],\n",
       "       [  8, 270],\n",
       "       [  8, 291],\n",
       "       [  8, 295],\n",
       "       [  8, 296],\n",
       "       [  8, 297],\n",
       "       [  8, 300],\n",
       "       [  8, 370],\n",
       "       [  8, 374],\n",
       "       [  8, 390],\n",
       "       [  8, 391],\n",
       "       [  8, 414],\n",
       "       [  8, 477],\n",
       "       [  9,  12],\n",
       "       [  9,  26],\n",
       "       [  9,  30],\n",
       "       [  9,  52],\n",
       "       [  9, 139],\n",
       "       [  9, 140],\n",
       "       [  9, 351],\n",
       "       [  9, 352],\n",
       "       [  9, 374],\n",
       "       [  9, 414],\n",
       "       [ 10,  12],\n",
       "       [ 10,  52],\n",
       "       [ 10, 109],\n",
       "       [ 10, 374],\n",
       "       [ 10, 414],\n",
       "       [ 11,  26],\n",
       "       [ 11,  52],\n",
       "       [ 11, 100],\n",
       "       [ 11, 291],\n",
       "       [ 11, 295],\n",
       "       [ 11, 300],\n",
       "       [ 11, 374],\n",
       "       [ 11, 390],\n",
       "       [ 11, 391],\n",
       "       [ 11, 414],\n",
       "       [ 11, 477],\n",
       "       [ 12,  12],\n",
       "       [ 12,  26],\n",
       "       [ 12,  30],\n",
       "       [ 12,  31],\n",
       "       [ 12,  36],\n",
       "       [ 12,  52],\n",
       "       [ 12,  55],\n",
       "       [ 12,  56],\n",
       "       [ 12, 139],\n",
       "       [ 12, 140],\n",
       "       [ 12, 199],\n",
       "       [ 12, 270],\n",
       "       [ 12, 291],\n",
       "       [ 12, 351],\n",
       "       [ 12, 352],\n",
       "       [ 12, 380],\n",
       "       [ 12, 414],\n",
       "       [ 12, 477],\n",
       "       [ 12, 485],\n",
       "       [ 13,  12],\n",
       "       [ 13,  30],\n",
       "       [ 13, 113],\n",
       "       [ 13, 139],\n",
       "       [ 13, 140],\n",
       "       [ 13, 199],\n",
       "       [ 13, 291],\n",
       "       [ 13, 351],\n",
       "       [ 13, 352],\n",
       "       [ 13, 477],\n",
       "       [ 13, 485],\n",
       "       [ 13, 486],\n",
       "       [ 14,  12],\n",
       "       [ 14,  26],\n",
       "       [ 14,  52],\n",
       "       [ 14,  55],\n",
       "       [ 14,  56],\n",
       "       [ 14, 374],\n",
       "       [ 14, 380],\n",
       "       [ 14, 414],\n",
       "       [ 15,  26],\n",
       "       [ 15,  52],\n",
       "       [ 15, 270],\n",
       "       [ 15, 291],\n",
       "       [ 15, 295],\n",
       "       [ 15, 414],\n",
       "       [ 15, 477],\n",
       "       [ 16,  26],\n",
       "       [ 16,  52],\n",
       "       [ 16, 270],\n",
       "       [ 16, 291],\n",
       "       [ 16, 295],\n",
       "       [ 16, 296],\n",
       "       [ 16, 297],\n",
       "       [ 16, 370],\n",
       "       [ 16, 414],\n",
       "       [ 16, 477],\n",
       "       [ 17,  52],\n",
       "       [ 17, 291],\n",
       "       [ 17, 295],\n",
       "       [ 17, 374],\n",
       "       [ 17, 414],\n",
       "       [ 17, 477],\n",
       "       [ 18,  22],\n",
       "       [ 18,  23],\n",
       "       [ 18,  26],\n",
       "       [ 18, 100],\n",
       "       [ 18, 291],\n",
       "       [ 18, 295],\n",
       "       [ 18, 300],\n",
       "       [ 18, 390],\n",
       "       [ 18, 391],\n",
       "       [ 18, 477],\n",
       "       [ 18, 515],\n",
       "       [ 19,  26],\n",
       "       [ 19,  52],\n",
       "       [ 19, 270],\n",
       "       [ 19, 291],\n",
       "       [ 19, 295],\n",
       "       [ 19, 296],\n",
       "       [ 19, 297],\n",
       "       [ 19, 370],\n",
       "       [ 19, 374],\n",
       "       [ 19, 414],\n",
       "       [ 19, 477],\n",
       "       [ 20,  26],\n",
       "       [ 20,  52],\n",
       "       [ 20, 100],\n",
       "       [ 20, 233],\n",
       "       [ 20, 234],\n",
       "       [ 20, 286],\n",
       "       [ 20, 291],\n",
       "       [ 20, 295],\n",
       "       [ 20, 374],\n",
       "       [ 20, 414],\n",
       "       [ 20, 477],\n",
       "       [ 21,  52],\n",
       "       [ 21, 100],\n",
       "       [ 21, 291],\n",
       "       [ 21, 295],\n",
       "       [ 21, 374],\n",
       "       [ 21, 414],\n",
       "       [ 21, 477],\n",
       "       [ 22,  12],\n",
       "       [ 22,  26],\n",
       "       [ 22,  52],\n",
       "       [ 22, 374],\n",
       "       [ 22, 414],\n",
       "       [ 23,  22],\n",
       "       [ 23,  23],\n",
       "       [ 23,  26],\n",
       "       [ 23,  52],\n",
       "       [ 23, 291],\n",
       "       [ 23, 295],\n",
       "       [ 23, 300],\n",
       "       [ 23, 374],\n",
       "       [ 23, 390],\n",
       "       [ 23, 391],\n",
       "       [ 23, 414],\n",
       "       [ 23, 477],\n",
       "       [ 23, 515],\n",
       "       [ 24,  52],\n",
       "       [ 24, 100],\n",
       "       [ 24, 291],\n",
       "       [ 24, 295],\n",
       "       [ 24, 296],\n",
       "       [ 24, 297],\n",
       "       [ 24, 370],\n",
       "       [ 24, 374],\n",
       "       [ 24, 414],\n",
       "       [ 24, 477],\n",
       "       [ 25,  12],\n",
       "       [ 25,  26],\n",
       "       [ 25,  52],\n",
       "       [ 25, 100],\n",
       "       [ 25, 270],\n",
       "       [ 25, 316],\n",
       "       [ 25, 374],\n",
       "       [ 25, 414],\n",
       "       [ 26,  26],\n",
       "       [ 26,  52],\n",
       "       [ 26, 270],\n",
       "       [ 26, 291],\n",
       "       [ 26, 295],\n",
       "       [ 26, 374],\n",
       "       [ 26, 414],\n",
       "       [ 26, 477]])"
      ]
     },
     "execution_count": 149,
     "metadata": {},
     "output_type": "execute_result"
    }
   ],
   "source": [
    "count_ixs"
   ]
  },
  {
   "cell_type": "code",
   "execution_count": null,
   "metadata": {},
   "outputs": [],
   "source": [
    "[  1,  12],\n",
    "       [  1,  26],\n",
    "       [  1,  52],\n",
    "       [  1,  55],\n",
    "       [  1,  56],\n",
    "       [  1, 270],\n",
    "       [  1, 343],\n",
    "       [  1, 380],\n",
    "       [  1, 414],"
   ]
  },
  {
   "cell_type": "code",
   "execution_count": 140,
   "metadata": {},
   "outputs": [
    {
     "data": {
      "text/plain": [
       "'outside wide shot high assisted Nicolas Pepe attempt box arsenal Bukayo Saka footed missed left'"
      ]
     },
     "execution_count": 140,
     "metadata": {},
     "output_type": "execute_result"
    }
   ],
   "source": [
    "processed_events[1]"
   ]
  },
  {
   "cell_type": "code",
   "execution_count": 150,
   "metadata": {},
   "outputs": [
    {
     "data": {
      "text/plain": [
       "arsenal        0.207616\n",
       "assisted       0.362105\n",
       "box            0.362105\n",
       "bukayo         0.325361\n",
       "bukayo saka    0.362105\n",
       "left           0.362105\n",
       "pepe           0.325361\n",
       "saka           0.299290\n",
       "shot           0.362105\n",
       "Name: 1, dtype: float64"
      ]
     },
     "execution_count": 150,
     "metadata": {},
     "output_type": "execute_result"
    }
   ],
   "source": [
    "pd.DataFrame(X_events, columns=vectorizer.get_feature_names()).iloc[1, [12,26,52,55,56,270,343,380,414]]"
   ]
  },
  {
   "cell_type": "code",
   "execution_count": 152,
   "metadata": {},
   "outputs": [
    {
     "data": {
      "text/plain": [
       "\"Goalkeeper Bernd Leno excelled for Arsenal with fine saves from Maguire and Marcus Rashford's late free-kick, while Bukayo Saka's goalbound shot crucially struck Victor Lindelof and flew over the top.\\n\""
      ]
     },
     "execution_count": 152,
     "metadata": {},
     "output_type": "execute_result"
    }
   ],
   "source": [
    "doc_sents_list[4]"
   ]
  },
  {
   "cell_type": "markdown",
   "metadata": {},
   "source": [
    "Distancia entre eventos y frases:"
   ]
  },
  {
   "cell_type": "code",
   "execution_count": 133,
   "metadata": {},
   "outputs": [],
   "source": [
    "distances = cosine_similarity(X_events, X)"
   ]
  },
  {
   "cell_type": "code",
   "execution_count": 134,
   "metadata": {},
   "outputs": [
    {
     "data": {
      "text/plain": [
       "(27, 39)"
      ]
     },
     "execution_count": 134,
     "metadata": {},
     "output_type": "execute_result"
    }
   ],
   "source": [
    "distances.shape"
   ]
  },
  {
   "cell_type": "code",
   "execution_count": 151,
   "metadata": {},
   "outputs": [
    {
     "data": {
      "text/plain": [
       "array([0.02357063, 0.        , 0.0296338 , 0.        , 0.23169911,\n",
       "       0.        , 0.02319782, 0.        , 0.01946064, 0.        ,\n",
       "       0.        , 0.        , 0.        , 0.0412068 , 0.02066832,\n",
       "       0.05721444, 0.        , 0.07172153, 0.        , 0.07333465,\n",
       "       0.        , 0.17373423, 0.        , 0.        , 0.        ,\n",
       "       0.        , 0.        , 0.04316312, 0.        , 0.        ,\n",
       "       0.        , 0.03889747, 0.        , 0.        , 0.11114276,\n",
       "       0.        , 0.3253609 , 0.15101771, 0.        ])"
      ]
     },
     "execution_count": 151,
     "metadata": {},
     "output_type": "execute_result"
    }
   ],
   "source": [
    "distances[1]"
   ]
  },
  {
   "cell_type": "code",
   "execution_count": 136,
   "metadata": {},
   "outputs": [
    {
     "data": {
      "text/plain": [
       "array([0.12384918, 0.3253609 , 0.3729923 , 0.14625438, 0.21650615,\n",
       "       0.13250492, 0.3253609 , 0.20174099, 0.20161512, 0.42301245,\n",
       "       0.14752496, 0.25041393, 0.38048124, 0.41625515, 0.34408246,\n",
       "       0.17442482, 0.22877419, 0.14625438, 0.3473272 , 0.21650615,\n",
       "       0.21457486, 0.13485292, 0.14752496, 0.24143053, 0.23138639,\n",
       "       0.1796058 , 0.16062666])"
      ]
     },
     "execution_count": 136,
     "metadata": {},
     "output_type": "execute_result"
    }
   ],
   "source": [
    "distances.max(axis=1)"
   ]
  },
  {
   "cell_type": "code",
   "execution_count": 137,
   "metadata": {},
   "outputs": [],
   "source": [
    "sentences_ixs = distances.argmax(axis=1)"
   ]
  },
  {
   "cell_type": "code",
   "execution_count": 138,
   "metadata": {},
   "outputs": [
    {
     "data": {
      "text/plain": [
       "array([ 0, 36,  2,  0,  4,  0, 36, 13,  1,  2, 34,  1,  2,  2, 36, 21,  4,\n",
       "        0,  5,  4,  3,  0, 34,  5,  4, 21, 21])"
      ]
     },
     "execution_count": 138,
     "metadata": {},
     "output_type": "execute_result"
    }
   ],
   "source": [
    "sentences_ixs"
   ]
  },
  {
   "cell_type": "code",
   "execution_count": 167,
   "metadata": {},
   "outputs": [
    {
     "data": {
      "text/plain": [
       "['corner right left shot Manchester United saved box footed Andreas Pereira attempt',\n",
       " 'high outside left shot arsenal Nicolas Pépé Bukayo Saka wide missed box footed assisted attempt',\n",
       " 'corner right left shot arsenal Nicolas Pépé Pierre-Emerick Aubameyang saved box footed assisted attempt',\n",
       " 'right outside shot blocked Paul Pogba Manchester United box footed attempt',\n",
       " 'ball left shot blocked Paul Pogba Manchester United box footed assisted Marcus Rashford attempt',\n",
       " 'right shot blocked Manchester United Jesse Lingard box footed assisted Andreas Pereira attempt',\n",
       " 'corner right left shot arsenal Bukayo Saka saved box footed attempt',\n",
       " 'corner right angle shot arsenal difficult saved footed attempt Matteo Guendouzi',\n",
       " 'corner right outside left shot arsenal goal Manchester United Scott McTominay box footed assisted Marcus Rashford',\n",
       " 'right shot lucas arsenal Pierre-Emerick Aubameyang misses missed box footed assisted attempt cross',\n",
       " 'right outside blocked shot arsenal David Luiz box footed attempt',\n",
       " 'high right outside corner shot Manchester United following Scott McTominay missed box footed assisted Andreas Pereira attempt',\n",
       " 'ball left united shot arsenal goal Pierre-Emerick Aubameyang awarded following manchester var Bukayo Saka box footed assisted',\n",
       " 'united arsenal goal Pierre-Emerick Aubameyang decision var manchester',\n",
       " 'right blocked shot arsenal Calum Chambers Bukayo Saka box footed assisted attempt',\n",
       " 'outside left shot blocked Daniel James Manchester United box footed assisted Andreas Pereira attempt',\n",
       " 'outside left shot blocked Manchester United box footed assisted Marcus Rashford Andreas Pereira attempt',\n",
       " 'right outside shot Paul Pogba misses close Manchester United missed box footed attempt',\n",
       " 'high bit header close following Scott McTominay Manchester United range missed corner assisted Ashley Young attempt cross',\n",
       " 'right outside left shot Paul Pogba misses Manchester United missed box footed assisted Marcus Rashford attempt',\n",
       " 'corner right outside shot Harry Maguire Manchester United saved box footed assisted Andreas Pereira attempt',\n",
       " 'high right outside corner shot Fred Manchester United following wide missed box footed attempt',\n",
       " 'right Dani Ceballos shot arsenal Joe Willock misses fast following missed box footed assisted attempt',\n",
       " 'right outside shot blocked Manchester United Scott McTominay box footed assisted Ashley Young attempt',\n",
       " 'corner right outside shot Manchester United saved box footed Marcus Rashford attempt',\n",
       " 'corner outside right Nelson left shot arsenal Joe Willock saved box footed assisted attempt',\n",
       " 'right outside left shot Fred misses Manchester United Mason Greenwood missed box footed assisted attempt']"
      ]
     },
     "execution_count": 167,
     "metadata": {},
     "output_type": "execute_result"
    }
   ],
   "source": [
    "processed_events"
   ]
  },
  {
   "cell_type": "code",
   "execution_count": 58,
   "metadata": {
    "collapsed": true,
    "jupyter": {
     "outputs_hidden": true
    }
   },
   "outputs": [
    {
     "data": {
      "text/plain": [
       "[Manchester United and Arsenal played out a grim stalemate at Old Trafford that provided compelling evidence to illustrate just how far away from a Premier League challenge both clubs are.,\n",
       " In a disappointing encounter that was a pale shadow of their mighty clashes of years gone by, Scott McTominay gave Manchester United the lead at the end of an attritional first-half with a rising drive from the edge of the area.,\n",
       " Arsenal equalised just before the hour courtesy of Pierre-Emerick Aubameyang's cool finish.,\n",
       " It was originally ruled out for offside but the video assistant referee confirmed the striker had been played onside by Harry Maguire.,\n",
       " Goalkeeper Bernd Leno excelled for Arsenal with fine saves from Maguire and Marcus Rashford's late free-kick, while Bukayo Saka's goalbound shot crucially struck Victor Lindelof and flew over the top.,\n",
       " McTominay also headed a great chance well over from Ashley Young's corner but neither side could force a winner.,\n",
       " The result takes Arsenal into the top four but Manchester United are now down in 10th after an outcome that means they have made their worst start after seven games in 30 years, failing to reach double figures for the first time since 1989-90, a season in which they finished 13th.,\n",
       " The current circumstances of both clubs was instantly demonstrated by the two captains who led out the sides.,\n",
       " Manchester United's captain was 34-year-old Ashley Young, pressed into defensive service by Aaron Wan-Bissaka's absence through injury, and Arsenal were led by Granit Xhaka, newly appointed and a divisive figure among supporters.,\n",
       " Young led from the front in a fashion by regularly contesting decisions, showing a remarkable knack of getting to referee Kevin Friend in an instant on numerous occasions.,\n",
       " Xhaka's night will be best remembered for his contribution to United's goal - getting away with a foul in the build-up before appearing to take evasive action as McTominay's drive made its way into the top corner.,\n",
       " There was no shortage of effort,\n",
       " but this was a scrappy mess of a game, lacking any cohesion or quality. ,\n",
       " United had the edge on chances, although they were grateful to David de Gea for a fine double save from Saka and Matteo Guendouzi in the first half and they also felt they had a respectable appeal for handball against Sead Kolasinac ignored by referee Kevin Friend.,\n",
       " Arsenal boss Unai Emery will be more satisfied than counterpart Ole Gunnar Solskjaer with a point but this showed just how far away both are from leaders Liverpool and reigning champions Manchester City - and just how much work they have to do to catch up.,\n",
       " It was no surprise when Arsenal's club record £,\n",
       " 72m,\n",
       " signing Nicholas Pepe failed to last the course, being substituted for Reiss Nelson after 72 minutes.,\n",
       " The 24-year-old signing from Lille had struggled desperately throughout and looks worryingly short of confidence so soon after his introduction into the Premier League.,\n",
       " Pepe had one clear shooting opportunity in the first half but skied his effort hopelessly into the Stretford End.,\n",
       " He was on the periphery of the action in a laboured performance also littered with poor decision-making.,\n",
       " It was left to the lethal Aubameyang to provide the finishing touch for Arsenal, correctly assisted by VAR after technology showed he was clearly onside. ,\n",
       " Solksjaer appeared to think the linesman's raised flag made his players stop,\n",
       " but it was clearly the correct decision as Maguire loitered yards behind his defensive colleagues.,\n",
       " Manchester United manager Ole Gunnar Solskjaer: \"How many times have we have been 1-0 up and not got the second goal?,\n",
       " This is a steep learning curve for us and we'll keep working hard and, with more experience, we'll make the right decisions.,\n",
       " \"We didn't get out of the blocks quick enough at the start of the second half.,\n",
       " It felt like Arsenal were the more proactive until they scored their goal.,\n",
       " \"I felt we could get a goal at the end,\n",
       " and we sent men forward.,\n",
       " I've been in that situation as a player when you come off and think you could've got more out of a game, but we'll learn from this.\",\n",
       " Arsenal manager Unai Emery: \"I want more - more in the result and in the performance,\n",
       " but we are progressing.,\n",
       " We were competitive but we can do better.,\n",
       " We can control moments with the ball better and take more chances in the box.,\n",
       " \"We have young players who can take confidence.,\n",
       " Bukayo,\n",
       " [Saka] is progressing well but we need other players too.,\n",
       " This is not the best in terms of points but one point can be good if we win next Sunday against Bournemouth.\"]"
      ]
     },
     "execution_count": 58,
     "metadata": {},
     "output_type": "execute_result"
    }
   ],
   "source": [
    "doc_sents_list"
   ]
  },
  {
   "cell_type": "code",
   "execution_count": 139,
   "metadata": {
    "collapsed": true,
    "jupyter": {
     "outputs_hidden": true
    }
   },
   "outputs": [
    {
     "name": "stdout",
     "output_type": "stream",
     "text": [
      "Event:\n",
      "Attempt saved. Andreas Pereira (Manchester United) left footed shot from the centre of the box is saved in the bottom right corner.\n",
      "Nearest sentence in article:\n",
      "Manchester United and Arsenal played out a grim stalemate at Old Trafford that provided compelling evidence to illustrate just how far away from a Premier League challenge both clubs are.\n",
      "\n",
      "Event:\n",
      "Attempt missed. Nicolas Pépé (Arsenal) left footed shot from outside the box is high and wide to the left. Assisted by Bukayo Saka.\n",
      "Nearest sentence in article:\n",
      "Bukayo\n",
      "Event:\n",
      "Attempt saved. Nicolas Pépé (Arsenal) left footed shot from the centre of the box is saved in the bottom right corner. Assisted by Pierre-Emerick Aubameyang.\n",
      "Nearest sentence in article:\n",
      "Arsenal equalised just before the hour courtesy of Pierre-Emerick Aubameyang's cool finish.\n",
      "Event:\n",
      "Attempt blocked. Paul Pogba (Manchester United) right footed shot from outside the box is blocked.\n",
      "Nearest sentence in article:\n",
      "Manchester United and Arsenal played out a grim stalemate at Old Trafford that provided compelling evidence to illustrate just how far away from a Premier League challenge both clubs are.\n",
      "\n",
      "Event:\n",
      "Attempt blocked. Marcus Rashford (Manchester United) left footed shot from the left side of the box is blocked. Assisted by Paul Pogba with a through ball.\n",
      "Nearest sentence in article:\n",
      "Goalkeeper Bernd Leno excelled for Arsenal with fine saves from Maguire and Marcus Rashford's late free-kick, while Bukayo Saka's goalbound shot crucially struck Victor Lindelof and flew over the top.\n",
      "\n",
      "Event:\n",
      "Attempt blocked. Andreas Pereira (Manchester United) right footed shot from the right side of the box is blocked. Assisted by Jesse Lingard.\n",
      "Nearest sentence in article:\n",
      "Manchester United and Arsenal played out a grim stalemate at Old Trafford that provided compelling evidence to illustrate just how far away from a Premier League challenge both clubs are.\n",
      "\n",
      "Event:\n",
      "Attempt saved. Bukayo Saka (Arsenal) left footed shot from the centre of the box is saved in the bottom right corner.\n",
      "Nearest sentence in article:\n",
      "Bukayo\n",
      "Event:\n",
      "Attempt saved. Matteo Guendouzi (Arsenal) right footed shot from a difficult angle on the right is saved in the bottom right corner.\n",
      "Nearest sentence in article:\n",
      "United had the edge on chances, although they were grateful to David de Gea for a fine double save from Saka and Matteo Guendouzi in the first half and they also felt they had a respectable appeal for handball against Sead Kolasinac ignored by referee Kevin Friend.\n",
      "\n",
      "Event:\n",
      "Goal!  Manchester United 1, Arsenal 0. Scott McTominay (Manchester United) right footed shot from outside the box to the top left corner. Assisted by Marcus Rashford.\n",
      "Nearest sentence in article:\n",
      "In a disappointing encounter that was a pale shadow of their mighty clashes of years gone by, Scott McTominay gave Manchester United the lead at the end of an attritional first-half with a rising drive from the edge of the area.\n",
      "\n",
      "Event:\n",
      "Attempt missed. Lucas Torreira (Arsenal) right footed shot from the centre of the box misses to the right. Assisted by Pierre-Emerick Aubameyang with a cross.\n",
      "Nearest sentence in article:\n",
      "Arsenal equalised just before the hour courtesy of Pierre-Emerick Aubameyang's cool finish.\n",
      "Event:\n",
      "Attempt blocked. David Luiz (Arsenal) right footed shot from outside the box is blocked.\n",
      "Nearest sentence in article:\n",
      "We can control moments with the ball better and take more chances in the box.\n",
      "\n",
      "Event:\n",
      "Attempt missed. Andreas Pereira (Manchester United) right footed shot from outside the box is too high. Assisted by Scott McTominay following a corner.\n",
      "Nearest sentence in article:\n",
      "In a disappointing encounter that was a pale shadow of their mighty clashes of years gone by, Scott McTominay gave Manchester United the lead at the end of an attritional first-half with a rising drive from the edge of the area.\n",
      "\n",
      "Event:\n",
      "Goal!  Manchester United 1, Arsenal 1. Pierre-Emerick Aubameyang (Arsenal) left footed shot from the centre of the box to the centre of the goal. Assisted by Bukayo Saka with a through ball.Goal awarded following VAR Review.\n",
      "Nearest sentence in article:\n",
      "Arsenal equalised just before the hour courtesy of Pierre-Emerick Aubameyang's cool finish.\n",
      "Event:\n",
      "VAR Decision: Goal  Manchester United 1-1 Arsenal (Pierre-Emerick Aubameyang).\n",
      "Nearest sentence in article:\n",
      "Arsenal equalised just before the hour courtesy of Pierre-Emerick Aubameyang's cool finish.\n",
      "Event:\n",
      "Attempt blocked. Bukayo Saka (Arsenal) right footed shot from the centre of the box is blocked. Assisted by Calum Chambers.\n",
      "Nearest sentence in article:\n",
      "Bukayo\n",
      "Event:\n",
      "Attempt blocked. Daniel James (Manchester United) left footed shot from outside the box is blocked. Assisted by Andreas Pereira.\n",
      "Nearest sentence in article:\n",
      "It was left to the lethal Aubameyang to provide the finishing touch for Arsenal, correctly assisted by VAR after technology showed he was clearly onside. \n",
      "\n",
      "Event:\n",
      "Attempt blocked. Andreas Pereira (Manchester United) left footed shot from outside the box is blocked. Assisted by Marcus Rashford.\n",
      "Nearest sentence in article:\n",
      "Goalkeeper Bernd Leno excelled for Arsenal with fine saves from Maguire and Marcus Rashford's late free-kick, while Bukayo Saka's goalbound shot crucially struck Victor Lindelof and flew over the top.\n",
      "\n",
      "Event:\n",
      "Attempt missed. Paul Pogba (Manchester United) right footed shot from outside the box is close, but misses to the right.\n",
      "Nearest sentence in article:\n",
      "Manchester United and Arsenal played out a grim stalemate at Old Trafford that provided compelling evidence to illustrate just how far away from a Premier League challenge both clubs are.\n",
      "\n",
      "Event:\n",
      "Attempt missed. Scott McTominay (Manchester United) header from very close range is just a bit too high. Assisted by Ashley Young with a cross following a corner.\n",
      "Nearest sentence in article:\n",
      "McTominay also headed a great chance well over from Ashley Young's corner but neither side could force a winner.\n",
      "\n",
      "Event:\n",
      "Attempt missed. Marcus Rashford (Manchester United) right footed shot from outside the box misses to the left. Assisted by Paul Pogba.\n",
      "Nearest sentence in article:\n",
      "Goalkeeper Bernd Leno excelled for Arsenal with fine saves from Maguire and Marcus Rashford's late free-kick, while Bukayo Saka's goalbound shot crucially struck Victor Lindelof and flew over the top.\n",
      "\n",
      "Event:\n",
      "Attempt saved. Harry Maguire (Manchester United) right footed shot from outside the box is saved in the top right corner. Assisted by Andreas Pereira.\n",
      "Nearest sentence in article:\n",
      "It was originally ruled out for offside but the video assistant referee confirmed the striker had been played onside by Harry Maguire.\n",
      "\n",
      "Event:\n",
      "Attempt missed. Fred (Manchester United) right footed shot from outside the box is high and wide to the right following a corner.\n",
      "Nearest sentence in article:\n",
      "Manchester United and Arsenal played out a grim stalemate at Old Trafford that provided compelling evidence to illustrate just how far away from a Premier League challenge both clubs are.\n",
      "\n",
      "Event:\n",
      "Attempt missed. Dani Ceballos (Arsenal) right footed shot from the centre of the box misses to the right. Assisted by Joe Willock following a fast break.\n",
      "Nearest sentence in article:\n",
      "We can control moments with the ball better and take more chances in the box.\n",
      "\n",
      "Event:\n",
      "Attempt blocked. Scott McTominay (Manchester United) right footed shot from outside the box is blocked. Assisted by Ashley Young.\n",
      "Nearest sentence in article:\n",
      "McTominay also headed a great chance well over from Ashley Young's corner but neither side could force a winner.\n",
      "\n",
      "Event:\n",
      "Attempt saved. Marcus Rashford (Manchester United) right footed shot from outside the box is saved in the bottom right corner.\n",
      "Nearest sentence in article:\n",
      "Goalkeeper Bernd Leno excelled for Arsenal with fine saves from Maguire and Marcus Rashford's late free-kick, while Bukayo Saka's goalbound shot crucially struck Victor Lindelof and flew over the top.\n",
      "\n",
      "Event:\n",
      "Attempt saved. Reiss Nelson (Arsenal) left footed shot from outside the box is saved in the bottom right corner. Assisted by Joe Willock.\n",
      "Nearest sentence in article:\n",
      "It was left to the lethal Aubameyang to provide the finishing touch for Arsenal, correctly assisted by VAR after technology showed he was clearly onside. \n",
      "\n",
      "Event:\n",
      "Attempt missed. Mason Greenwood (Manchester United) right footed shot from outside the box misses to the left. Assisted by Fred.\n",
      "Nearest sentence in article:\n",
      "It was left to the lethal Aubameyang to provide the finishing touch for Arsenal, correctly assisted by VAR after technology showed he was clearly onside. \n",
      "\n"
     ]
    }
   ],
   "source": [
    "for event_ix, sentence_ix in enumerate(sentences_ixs):\n",
    "    print('Event:')\n",
    "    print(events[key_events.events_mapping_list[event_ix]])\n",
    "    print('Nearest sentence in article:')\n",
    "    print(doc_sents_list[sentence_ix])"
   ]
  },
  {
   "cell_type": "code",
   "execution_count": 59,
   "metadata": {},
   "outputs": [],
   "source": [
    "selected_article_sentences = sorted(list(set(sentences_ixs)))"
   ]
  },
  {
   "cell_type": "code",
   "execution_count": 60,
   "metadata": {},
   "outputs": [
    {
     "data": {
      "text/plain": [
       "[0, 1, 2, 3, 4, 5, 13, 21, 34, 36]"
      ]
     },
     "execution_count": 60,
     "metadata": {},
     "output_type": "execute_result"
    }
   ],
   "source": [
    "selected_article_sentences"
   ]
  },
  {
   "cell_type": "code",
   "execution_count": 163,
   "metadata": {},
   "outputs": [
    {
     "name": "stdout",
     "output_type": "stream",
     "text": [
      "Number of original events: 125\n",
      "Number of processed events: 3\n",
      "Number of sentences in original article: 39\n",
      "Number of sentences in summary: 2\n",
      "Event:\n",
      "Goal!  Manchester United 1, Arsenal 0. Scott McTominay (Manchester United) right footed shot from outside the box to the top left corner. Assisted by Marcus Rashford.\n",
      "Nearest sentence in article:\n",
      "In a disappointing encounter that was a pale shadow of their mighty clashes of years gone by, Scott McTominay gave Manchester United the lead at the end of an attritional first-half with a rising drive from the edge of the area.\n",
      "\n",
      "Event:\n",
      "Goal!  Manchester United 1, Arsenal 1. Pierre-Emerick Aubameyang (Arsenal) left footed shot from the centre of the box to the centre of the goal. Assisted by Bukayo Saka with a through ball.Goal awarded following VAR Review.\n",
      "Nearest sentence in article:\n",
      "Arsenal equalised just before the hour courtesy of Pierre-Emerick Aubameyang's cool finish.\n",
      "Event:\n",
      "VAR Decision: Goal  Manchester United 1-1 Arsenal (Pierre-Emerick Aubameyang).\n",
      "Nearest sentence in article:\n",
      "Arsenal equalised just before the hour courtesy of Pierre-Emerick Aubameyang's cool finish.\n"
     ]
    },
    {
     "data": {
      "text/plain": [
       "\"In a disappointing encounter that was a pale shadow of their mighty clashes of years gone by, Scott McTominay gave Manchester United the lead at the end of an attritional first-half with a rising drive from the edge of the area.\\nArsenal equalised just before the hour courtesy of Pierre-Emerick Aubameyang's cool finish.\""
      ]
     },
     "execution_count": 163,
     "metadata": {},
     "output_type": "execute_result"
    }
   ],
   "source": [
    "# Solo con goles\n",
    "key_events.match_summary(prueba, print_relations=True, ngram_range=(1,2), strip_accents='unicode')"
   ]
  },
  {
   "cell_type": "code",
   "execution_count": 166,
   "metadata": {},
   "outputs": [
    {
     "name": "stdout",
     "output_type": "stream",
     "text": [
      "Number of original events: 125\n",
      "Number of processed events: 27\n",
      "Number of sentences in original article: 39\n",
      "Number of sentences in summary: 10\n",
      "Event:\n",
      "Attempt saved. Andreas Pereira (Manchester United) left footed shot from the centre of the box is saved in the bottom right corner.\n",
      "Nearest sentence in article:\n",
      "Manchester United and Arsenal played out a grim stalemate at Old Trafford that provided compelling evidence to illustrate just how far away from a Premier League challenge both clubs are.\n",
      "\n",
      "Event:\n",
      "Attempt missed. Nicolas Pépé (Arsenal) left footed shot from outside the box is high and wide to the left. Assisted by Bukayo Saka.\n",
      "Nearest sentence in article:\n",
      "Bukayo\n",
      "Event:\n",
      "Attempt saved. Nicolas Pépé (Arsenal) left footed shot from the centre of the box is saved in the bottom right corner. Assisted by Pierre-Emerick Aubameyang.\n",
      "Nearest sentence in article:\n",
      "Arsenal equalised just before the hour courtesy of Pierre-Emerick Aubameyang's cool finish.\n",
      "Event:\n",
      "Attempt blocked. Paul Pogba (Manchester United) right footed shot from outside the box is blocked.\n",
      "Nearest sentence in article:\n",
      "Manchester United and Arsenal played out a grim stalemate at Old Trafford that provided compelling evidence to illustrate just how far away from a Premier League challenge both clubs are.\n",
      "\n",
      "Event:\n",
      "Attempt blocked. Marcus Rashford (Manchester United) left footed shot from the left side of the box is blocked. Assisted by Paul Pogba with a through ball.\n",
      "Nearest sentence in article:\n",
      "Goalkeeper Bernd Leno excelled for Arsenal with fine saves from Maguire and Marcus Rashford's late free-kick, while Bukayo Saka's goalbound shot crucially struck Victor Lindelof and flew over the top.\n",
      "\n",
      "Event:\n",
      "Attempt blocked. Andreas Pereira (Manchester United) right footed shot from the right side of the box is blocked. Assisted by Jesse Lingard.\n",
      "Nearest sentence in article:\n",
      "Manchester United and Arsenal played out a grim stalemate at Old Trafford that provided compelling evidence to illustrate just how far away from a Premier League challenge both clubs are.\n",
      "\n",
      "Event:\n",
      "Attempt saved. Bukayo Saka (Arsenal) left footed shot from the centre of the box is saved in the bottom right corner.\n",
      "Nearest sentence in article:\n",
      "Bukayo\n",
      "Event:\n",
      "Attempt saved. Matteo Guendouzi (Arsenal) right footed shot from a difficult angle on the right is saved in the bottom right corner.\n",
      "Nearest sentence in article:\n",
      "United had the edge on chances, although they were grateful to David de Gea for a fine double save from Saka and Matteo Guendouzi in the first half and they also felt they had a respectable appeal for handball against Sead Kolasinac ignored by referee Kevin Friend.\n",
      "\n",
      "Event:\n",
      "Goal!  Manchester United 1, Arsenal 0. Scott McTominay (Manchester United) right footed shot from outside the box to the top left corner. Assisted by Marcus Rashford.\n",
      "Nearest sentence in article:\n",
      "In a disappointing encounter that was a pale shadow of their mighty clashes of years gone by, Scott McTominay gave Manchester United the lead at the end of an attritional first-half with a rising drive from the edge of the area.\n",
      "\n",
      "Event:\n",
      "Attempt missed. Lucas Torreira (Arsenal) right footed shot from the centre of the box misses to the right. Assisted by Pierre-Emerick Aubameyang with a cross.\n",
      "Nearest sentence in article:\n",
      "Arsenal equalised just before the hour courtesy of Pierre-Emerick Aubameyang's cool finish.\n",
      "Event:\n",
      "Attempt blocked. David Luiz (Arsenal) right footed shot from outside the box is blocked.\n",
      "Nearest sentence in article:\n",
      "We can control moments with the ball better and take more chances in the box.\n",
      "\n",
      "Event:\n",
      "Attempt missed. Andreas Pereira (Manchester United) right footed shot from outside the box is too high. Assisted by Scott McTominay following a corner.\n",
      "Nearest sentence in article:\n",
      "In a disappointing encounter that was a pale shadow of their mighty clashes of years gone by, Scott McTominay gave Manchester United the lead at the end of an attritional first-half with a rising drive from the edge of the area.\n",
      "\n",
      "Event:\n",
      "Goal!  Manchester United 1, Arsenal 1. Pierre-Emerick Aubameyang (Arsenal) left footed shot from the centre of the box to the centre of the goal. Assisted by Bukayo Saka with a through ball.Goal awarded following VAR Review.\n",
      "Nearest sentence in article:\n",
      "Arsenal equalised just before the hour courtesy of Pierre-Emerick Aubameyang's cool finish.\n",
      "Event:\n",
      "VAR Decision: Goal  Manchester United 1-1 Arsenal (Pierre-Emerick Aubameyang).\n",
      "Nearest sentence in article:\n",
      "Arsenal equalised just before the hour courtesy of Pierre-Emerick Aubameyang's cool finish.\n",
      "Event:\n",
      "Attempt blocked. Bukayo Saka (Arsenal) right footed shot from the centre of the box is blocked. Assisted by Calum Chambers.\n",
      "Nearest sentence in article:\n",
      "Bukayo\n",
      "Event:\n",
      "Attempt blocked. Daniel James (Manchester United) left footed shot from outside the box is blocked. Assisted by Andreas Pereira.\n",
      "Nearest sentence in article:\n",
      "It was left to the lethal Aubameyang to provide the finishing touch for Arsenal, correctly assisted by VAR after technology showed he was clearly onside. \n",
      "\n",
      "Event:\n",
      "Attempt blocked. Andreas Pereira (Manchester United) left footed shot from outside the box is blocked. Assisted by Marcus Rashford.\n",
      "Nearest sentence in article:\n",
      "Goalkeeper Bernd Leno excelled for Arsenal with fine saves from Maguire and Marcus Rashford's late free-kick, while Bukayo Saka's goalbound shot crucially struck Victor Lindelof and flew over the top.\n",
      "\n",
      "Event:\n",
      "Attempt missed. Paul Pogba (Manchester United) right footed shot from outside the box is close, but misses to the right.\n",
      "Nearest sentence in article:\n",
      "Manchester United and Arsenal played out a grim stalemate at Old Trafford that provided compelling evidence to illustrate just how far away from a Premier League challenge both clubs are.\n",
      "\n",
      "Event:\n",
      "Attempt missed. Scott McTominay (Manchester United) header from very close range is just a bit too high. Assisted by Ashley Young with a cross following a corner.\n",
      "Nearest sentence in article:\n",
      "McTominay also headed a great chance well over from Ashley Young's corner but neither side could force a winner.\n",
      "\n",
      "Event:\n",
      "Attempt missed. Marcus Rashford (Manchester United) right footed shot from outside the box misses to the left. Assisted by Paul Pogba.\n",
      "Nearest sentence in article:\n",
      "Goalkeeper Bernd Leno excelled for Arsenal with fine saves from Maguire and Marcus Rashford's late free-kick, while Bukayo Saka's goalbound shot crucially struck Victor Lindelof and flew over the top.\n",
      "\n",
      "Event:\n",
      "Attempt saved. Harry Maguire (Manchester United) right footed shot from outside the box is saved in the top right corner. Assisted by Andreas Pereira.\n",
      "Nearest sentence in article:\n",
      "It was originally ruled out for offside but the video assistant referee confirmed the striker had been played onside by Harry Maguire.\n",
      "\n",
      "Event:\n",
      "Attempt missed. Fred (Manchester United) right footed shot from outside the box is high and wide to the right following a corner.\n",
      "Nearest sentence in article:\n",
      "Manchester United and Arsenal played out a grim stalemate at Old Trafford that provided compelling evidence to illustrate just how far away from a Premier League challenge both clubs are.\n",
      "\n",
      "Event:\n",
      "Attempt missed. Dani Ceballos (Arsenal) right footed shot from the centre of the box misses to the right. Assisted by Joe Willock following a fast break.\n",
      "Nearest sentence in article:\n",
      "We can control moments with the ball better and take more chances in the box.\n",
      "\n",
      "Event:\n",
      "Attempt blocked. Scott McTominay (Manchester United) right footed shot from outside the box is blocked. Assisted by Ashley Young.\n",
      "Nearest sentence in article:\n",
      "McTominay also headed a great chance well over from Ashley Young's corner but neither side could force a winner.\n",
      "\n",
      "Event:\n",
      "Attempt saved. Marcus Rashford (Manchester United) right footed shot from outside the box is saved in the bottom right corner.\n",
      "Nearest sentence in article:\n",
      "Goalkeeper Bernd Leno excelled for Arsenal with fine saves from Maguire and Marcus Rashford's late free-kick, while Bukayo Saka's goalbound shot crucially struck Victor Lindelof and flew over the top.\n",
      "\n",
      "Event:\n",
      "Attempt saved. Reiss Nelson (Arsenal) left footed shot from outside the box is saved in the bottom right corner. Assisted by Joe Willock.\n",
      "Nearest sentence in article:\n",
      "It was left to the lethal Aubameyang to provide the finishing touch for Arsenal, correctly assisted by VAR after technology showed he was clearly onside. \n",
      "\n",
      "Event:\n",
      "Attempt missed. Mason Greenwood (Manchester United) right footed shot from outside the box misses to the left. Assisted by Fred.\n",
      "Nearest sentence in article:\n",
      "It was left to the lethal Aubameyang to provide the finishing touch for Arsenal, correctly assisted by VAR after technology showed he was clearly onside. \n",
      "\n"
     ]
    },
    {
     "data": {
      "text/plain": [
       "\"Manchester United and Arsenal played out a grim stalemate at Old Trafford that provided compelling evidence to illustrate just how far away from a Premier League challenge both clubs are.\\nIn a disappointing encounter that was a pale shadow of their mighty clashes of years gone by, Scott McTominay gave Manchester United the lead at the end of an attritional first-half with a rising drive from the edge of the area.\\nArsenal equalised just before the hour courtesy of Pierre-Emerick Aubameyang's cool finish.It was originally ruled out for offside but the video assistant referee confirmed the striker had been played onside by Harry Maguire.\\nGoalkeeper Bernd Leno excelled for Arsenal with fine saves from Maguire and Marcus Rashford's late free-kick, while Bukayo Saka's goalbound shot crucially struck Victor Lindelof and flew over the top.\\nMcTominay also headed a great chance well over from Ashley Young's corner but neither side could force a winner.\\nUnited had the edge on chances, although they were grateful to David de Gea for a fine double save from Saka and Matteo Guendouzi in the first half and they also felt they had a respectable appeal for handball against Sead Kolasinac ignored by referee Kevin Friend.\\nIt was left to the lethal Aubameyang to provide the finishing touch for Arsenal, correctly assisted by VAR after technology showed he was clearly onside. \\nWe can control moments with the ball better and take more chances in the box.\\nBukayo\""
      ]
     },
     "execution_count": 166,
     "metadata": {},
     "output_type": "execute_result"
    }
   ],
   "source": [
    "key_events.match_summary(prueba, print_relations=True, ngram_range=(1,2), strip_accents='unicode')"
   ]
  },
  {
   "cell_type": "code",
   "execution_count": null,
   "metadata": {},
   "outputs": [],
   "source": []
  }
 ],
 "metadata": {
  "kernelspec": {
   "display_name": "Python 3",
   "language": "python",
   "name": "python3"
  },
  "language_info": {
   "codemirror_mode": {
    "name": "ipython",
    "version": 3
   },
   "file_extension": ".py",
   "mimetype": "text/x-python",
   "name": "python",
   "nbconvert_exporter": "python",
   "pygments_lexer": "ipython3",
   "version": "3.6.10"
  }
 },
 "nbformat": 4,
 "nbformat_minor": 4
}
